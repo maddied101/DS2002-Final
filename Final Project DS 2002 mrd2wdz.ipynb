{
 "cells": [
  {
   "cell_type": "code",
   "execution_count": 0,
   "metadata": {
    "application/vnd.databricks.v1+cell": {
     "cellMetadata": {
      "byteLimit": 2048000,
      "rowLimit": 10000
     },
     "inputWidgets": {},
     "nuid": "90a30144-1d46-469b-bc42-f4e7bd41f090",
     "showTitle": false,
     "title": ""
    }
   },
   "outputs": [],
   "source": [
    "## This is my final project for DS 2002 "
   ]
  },
  {
   "cell_type": "code",
   "execution_count": 0,
   "metadata": {
    "application/vnd.databricks.v1+cell": {
     "cellMetadata": {
      "byteLimit": 2048000,
      "rowLimit": 10000
     },
     "inputWidgets": {},
     "nuid": "3e941c61-4720-40d9-aa0e-e893feb96ce6",
     "showTitle": false,
     "title": ""
    }
   },
   "outputs": [],
   "source": [
    "###Import required libraries"
   ]
  },
  {
   "cell_type": "code",
   "execution_count": 0,
   "metadata": {
    "application/vnd.databricks.v1+cell": {
     "cellMetadata": {
      "byteLimit": 2048000,
      "rowLimit": 10000
     },
     "inputWidgets": {},
     "nuid": "74b53e7e-30d3-4dd8-ba79-8c44c7f9dd0c",
     "showTitle": false,
     "title": ""
    }
   },
   "outputs": [],
   "source": [
    "import os\n",
    "import json\n",
    "import pymongo\n",
    "import pyspark.pandas as pd  # This uses Koalas that is included in PySpark version 3.2 or newer.\n",
    "from pyspark.sql.functions import col\n",
    "from pyspark.sql.types import StructType, StructField, StringType, TimestampType, BinaryType\n",
    "from pyspark.sql.types import ByteType, ShortType, IntegerType, LongType, FloatType, DecimalType"
   ]
  },
  {
   "cell_type": "code",
   "execution_count": 0,
   "metadata": {
    "application/vnd.databricks.v1+cell": {
     "cellMetadata": {
      "byteLimit": 2048000,
      "rowLimit": 10000
     },
     "inputWidgets": {},
     "nuid": "cb764cb9-d8f4-4a87-be2f-e270a9ac440c",
     "showTitle": false,
     "title": ""
    }
   },
   "outputs": [],
   "source": [
    "###Instantiate global variables"
   ]
  },
  {
   "cell_type": "code",
   "execution_count": 0,
   "metadata": {
    "application/vnd.databricks.v1+cell": {
     "cellMetadata": {
      "byteLimit": 2048000,
      "rowLimit": 10000
     },
     "inputWidgets": {},
     "nuid": "4d6327bc-5272-4198-8724-9a734805eaa2",
     "showTitle": false,
     "title": ""
    }
   },
   "outputs": [
    {
     "output_type": "stream",
     "name": "stdout",
     "output_type": "stream",
     "text": [
      "Out[5]: True"
     ]
    }
   ],
   "source": [
    "# Azure MySQL Server Connection Information ###################\n",
    "jdbc_hostname = \"mrd2wdz-mysql.mysql.database.azure.com\"\n",
    "jdbc_port = 3306\n",
    "src_database = \"sakila_dw2\"\n",
    "\n",
    "connection_properties = {\n",
    "  \"user\" : \"mrd2wdz\",\n",
    "  \"password\" : \"Peachesrule1\",\n",
    "  \"driver\" : \"org.mariadb.jdbc.Driver\"\n",
    "}\n",
    "\n",
    "# MongoDB Atlas Connection Information ########################\n",
    "atlas_cluster_name = \"ds2002-md.b8ktadu\"\n",
    "atlas_database_name = \"sakila_dw2\"\n",
    "atlas_user_name = \"mrd2wdz\"\n",
    "atlas_password = \"Peachesrule1\"\n",
    "\n",
    "# Data Files (JSON) Information ###############################\n",
    "dst_database = \"sakila_dlh\"\n",
    "\n",
    "base_dir = \"dbfs:/FileStore/ds2002-lab06\"\n",
    "database_dir = f\"{base_dir}/{dst_database}\"\n",
    "\n",
    "data_dir = f\"{base_dir}/sourcedata\"\n",
    "batch_dir = f\"{data_dir}/batch\"\n",
    "stream_dir = f\"{data_dir}/stream\"\n",
    "\n",
    "rental_stream_dir = f\"{stream_dir}/rental\"\n",
    "\n",
    "rental_output_bronze = f\"{database_dir}/fact_rental/bronze\"\n",
    "rental_output_silver = f\"{database_dir}/fact_rental/silver\"\n",
    "rental_output_gold   = f\"{database_dir}/fact_rental/gold\"\n",
    "\n",
    "# Delete the Streaming Files ################################## \n",
    "dbutils.fs.rm(f\"{database_dir}/fact_rental\", True) \n",
    "\n",
    "# Delete the Database Files ###################################\n",
    "dbutils.fs.rm(database_dir, True)"
   ]
  },
  {
   "cell_type": "code",
   "execution_count": 0,
   "metadata": {
    "application/vnd.databricks.v1+cell": {
     "cellMetadata": {
      "byteLimit": 2048000,
      "rowLimit": 10000
     },
     "inputWidgets": {},
     "nuid": "faac7454-4d94-473d-bd05-c3ed02cd1df4",
     "showTitle": false,
     "title": ""
    }
   },
   "outputs": [],
   "source": [
    "###Define global functions"
   ]
  },
  {
   "cell_type": "code",
   "execution_count": 0,
   "metadata": {
    "application/vnd.databricks.v1+cell": {
     "cellMetadata": {
      "byteLimit": 2048000,
      "rowLimit": 10000
     },
     "inputWidgets": {},
     "nuid": "ce7ea44a-8bbb-4ebc-ace5-62ce19bf43a7",
     "showTitle": false,
     "title": ""
    }
   },
   "outputs": [],
   "source": [
    "# ######################################################################################################################\n",
    "# Use this Function to Fetch a DataFrame from the MongoDB Atlas database server Using PyMongo.\n",
    "# ######################################################################################################################\n",
    "def get_mongo_dataframe(user_id, pwd, cluster_name, db_name, collection, conditions, projection, sort):\n",
    "    '''Create a client connection to MongoDB'''\n",
    "    mongo_uri = f\"mongodb+srv://{user_id}:{pwd}@{cluster_name}.mongodb.net/{db_name}\"\n",
    "    \n",
    "    client = pymongo.MongoClient(mongo_uri)\n",
    "\n",
    "    '''Query MongoDB, and fill a python list with documents to create a DataFrame'''\n",
    "    db = client[db_name]\n",
    "    if conditions and projection and sort:\n",
    "        dframe = pd.DataFrame(list(db[collection].find(conditions, projection).sort(sort)))\n",
    "    elif conditions and projection and not sort:\n",
    "        dframe = pd.DataFrame(list(db[collection].find(conditions, projection)))\n",
    "    else:\n",
    "        dframe = pd.DataFrame(list(db[collection].find()))\n",
    "\n",
    "    client.close()\n",
    "    \n",
    "    return dframe\n",
    "\n",
    "# ######################################################################################################################\n",
    "# Use this Function to Create New Collections by Uploading JSON file(s) to the MongoDB Atlas server.\n",
    "# ######################################################################################################################\n",
    "def set_mongo_collection(user_id, pwd, cluster_name, db_name, src_file_path, json_files):\n",
    "    '''Create a client connection to MongoDB'''\n",
    "    mongo_uri = f\"mongodb+srv://{user_id}:{pwd}@{cluster_name}.mongodb.net/{db_name}\"\n",
    "    client = pymongo.MongoClient(mongo_uri)\n",
    "    db = client[db_name]\n",
    "    \n",
    "    '''Read in a JSON file, and Use It to Create a New Collection'''\n",
    "    for file in json_files:\n",
    "        db.drop_collection(file)\n",
    "        json_file = os.path.join(src_file_path, json_files[file])\n",
    "        with open(json_file, 'r') as openfile:\n",
    "            json_object = json.load(openfile)\n",
    "            file = db[file]\n",
    "            result = file.insert_many(json_object)\n",
    "\n",
    "    client.close()\n",
    "    \n",
    "    return result"
   ]
  },
  {
   "cell_type": "code",
   "execution_count": 0,
   "metadata": {
    "application/vnd.databricks.v1+cell": {
     "cellMetadata": {
      "byteLimit": 2048000,
      "rowLimit": 10000
     },
     "inputWidgets": {},
     "nuid": "259ea2c3-3685-46ce-b03d-a01fe49bd982",
     "showTitle": false,
     "title": ""
    }
   },
   "outputs": [],
   "source": [
    "## Populate Dimensions by Ingesting Reference (Cold-path) Data\n",
    "## Fetch Reference Data From an Azure MySQL Database\n",
    "## Create a New Databricks Metadata Database."
   ]
  },
  {
   "cell_type": "code",
   "execution_count": 0,
   "metadata": {
    "application/vnd.databricks.v1+cell": {
     "cellMetadata": {
      "byteLimit": 2048000,
      "implicitDf": true,
      "rowLimit": 10000
     },
     "inputWidgets": {},
     "nuid": "da3f3f87-562f-4aa5-ab89-3cc167c6c794",
     "showTitle": false,
     "title": ""
    }
   },
   "outputs": [
    {
     "output_type": "display_data",
     "data": {
      "text/html": [
       "<style scoped>\n",
       "  .table-result-container {\n",
       "    max-height: 300px;\n",
       "    overflow: auto;\n",
       "  }\n",
       "  table, th, td {\n",
       "    border: 1px solid black;\n",
       "    border-collapse: collapse;\n",
       "  }\n",
       "  th, td {\n",
       "    padding: 5px;\n",
       "  }\n",
       "  th {\n",
       "    text-align: left;\n",
       "  }\n",
       "</style><div class='table-result-container'><table class='table-result'><thead style='background-color: white'><tr></tr></thead><tbody></tbody></table></div>"
      ]
     },
     "metadata": {
      "application/vnd.databricks.v1+output": {
       "addedWidgets": {},
       "aggData": [],
       "aggError": "",
       "aggOverflow": false,
       "aggSchema": [],
       "aggSeriesLimitReached": false,
       "aggType": "",
       "arguments": {},
       "columnCustomDisplayInfos": {},
       "data": [],
       "datasetInfos": [],
       "dbfsResultPath": null,
       "isJsonSchema": true,
       "metadata": {},
       "overflow": false,
       "plotOptions": {
        "customPlotOptions": {},
        "displayType": "table",
        "pivotAggregation": null,
        "pivotColumns": null,
        "xColumns": null,
        "yColumns": null
       },
       "removedWidgets": [],
       "schema": [],
       "type": "table"
      }
     },
     "output_type": "display_data"
    }
   ],
   "source": [
    "%sql\n",
    "DROP DATABASE IF EXISTS sakila_dlh CASCADE;"
   ]
  },
  {
   "cell_type": "code",
   "execution_count": 0,
   "metadata": {
    "application/vnd.databricks.v1+cell": {
     "cellMetadata": {
      "byteLimit": 2048000,
      "implicitDf": true,
      "rowLimit": 10000
     },
     "inputWidgets": {},
     "nuid": "e92f7f11-43ba-4234-8e61-c79821a28541",
     "showTitle": false,
     "title": ""
    }
   },
   "outputs": [
    {
     "output_type": "display_data",
     "data": {
      "text/html": [
       "<style scoped>\n",
       "  .table-result-container {\n",
       "    max-height: 300px;\n",
       "    overflow: auto;\n",
       "  }\n",
       "  table, th, td {\n",
       "    border: 1px solid black;\n",
       "    border-collapse: collapse;\n",
       "  }\n",
       "  th, td {\n",
       "    padding: 5px;\n",
       "  }\n",
       "  th {\n",
       "    text-align: left;\n",
       "  }\n",
       "</style><div class='table-result-container'><table class='table-result'><thead style='background-color: white'><tr></tr></thead><tbody></tbody></table></div>"
      ]
     },
     "metadata": {
      "application/vnd.databricks.v1+output": {
       "addedWidgets": {},
       "aggData": [],
       "aggError": "",
       "aggOverflow": false,
       "aggSchema": [],
       "aggSeriesLimitReached": false,
       "aggType": "",
       "arguments": {},
       "columnCustomDisplayInfos": {},
       "data": [],
       "datasetInfos": [],
       "dbfsResultPath": null,
       "isJsonSchema": true,
       "metadata": {},
       "overflow": false,
       "plotOptions": {
        "customPlotOptions": {},
        "displayType": "table",
        "pivotAggregation": null,
        "pivotColumns": null,
        "xColumns": null,
        "yColumns": null
       },
       "removedWidgets": [],
       "schema": [],
       "type": "table"
      }
     },
     "output_type": "display_data"
    }
   ],
   "source": [
    "%sql\n",
    "CREATE DATABASE IF NOT EXISTS sakila_dlh\n",
    "COMMENT \"DS-2002 Lab 06 Database\"\n",
    "LOCATION \"dbfs:/FileStore/ds2002-lab06/sakila_dlh\"\n",
    "WITH DBPROPERTIES (contains_pii = true, purpose = \"DS-2002 Lab 6.0\");"
   ]
  },
  {
   "cell_type": "code",
   "execution_count": 0,
   "metadata": {
    "application/vnd.databricks.v1+cell": {
     "cellMetadata": {
      "byteLimit": 2048000,
      "rowLimit": 10000
     },
     "inputWidgets": {},
     "nuid": "237723ba-0f14-4bff-a8d4-c2ace6b609f9",
     "showTitle": false,
     "title": ""
    }
   },
   "outputs": [],
   "source": [
    "###Create a New Table that Sources Date Dimension Data from a Table in an Azure MySQL database."
   ]
  },
  {
   "cell_type": "code",
   "execution_count": 0,
   "metadata": {
    "application/vnd.databricks.v1+cell": {
     "cellMetadata": {
      "byteLimit": 2048000,
      "implicitDf": true,
      "rowLimit": 10000
     },
     "inputWidgets": {},
     "nuid": "fb4e8bad-bb5c-44f4-bd48-6ceb15e1cce9",
     "showTitle": false,
     "title": ""
    }
   },
   "outputs": [
    {
     "output_type": "display_data",
     "data": {
      "text/html": [
       "<style scoped>\n",
       "  .table-result-container {\n",
       "    max-height: 300px;\n",
       "    overflow: auto;\n",
       "  }\n",
       "  table, th, td {\n",
       "    border: 1px solid black;\n",
       "    border-collapse: collapse;\n",
       "  }\n",
       "  th, td {\n",
       "    padding: 5px;\n",
       "  }\n",
       "  th {\n",
       "    text-align: left;\n",
       "  }\n",
       "</style><div class='table-result-container'><table class='table-result'><thead style='background-color: white'><tr></tr></thead><tbody></tbody></table></div>"
      ]
     },
     "metadata": {
      "application/vnd.databricks.v1+output": {
       "addedWidgets": {},
       "aggData": [],
       "aggError": "",
       "aggOverflow": false,
       "aggSchema": [],
       "aggSeriesLimitReached": false,
       "aggType": "",
       "arguments": {},
       "columnCustomDisplayInfos": {},
       "data": [],
       "datasetInfos": [],
       "dbfsResultPath": null,
       "isJsonSchema": true,
       "metadata": {},
       "overflow": false,
       "plotOptions": {
        "customPlotOptions": {},
        "displayType": "table",
        "pivotAggregation": null,
        "pivotColumns": null,
        "xColumns": null,
        "yColumns": null
       },
       "removedWidgets": [],
       "schema": [],
       "type": "table"
      }
     },
     "output_type": "display_data"
    }
   ],
   "source": [
    "%sql\n",
    "CREATE OR REPLACE TEMPORARY VIEW view_date\n",
    "USING org.apache.spark.sql.jdbc\n",
    "OPTIONS (\n",
    "  url \"jdbc:mysql://mrd2wdz-mysql.mysql.database.azure.com:3306/sakila_dw2\",\n",
    "  dbtable \"dim_date\",\n",
    "  user \"mrd2wdz\",\n",
    "  password \"Peachesrule1\"\n",
    ")"
   ]
  },
  {
   "cell_type": "code",
   "execution_count": 0,
   "metadata": {
    "application/vnd.databricks.v1+cell": {
     "cellMetadata": {
      "byteLimit": 2048000,
      "implicitDf": true,
      "rowLimit": 10000
     },
     "inputWidgets": {},
     "nuid": "1c1d58ef-962f-4ac7-b316-42e8044a668d",
     "showTitle": false,
     "title": ""
    }
   },
   "outputs": [
    {
     "output_type": "display_data",
     "data": {
      "text/html": [
       "<style scoped>\n",
       "  .table-result-container {\n",
       "    max-height: 300px;\n",
       "    overflow: auto;\n",
       "  }\n",
       "  table, th, td {\n",
       "    border: 1px solid black;\n",
       "    border-collapse: collapse;\n",
       "  }\n",
       "  th, td {\n",
       "    padding: 5px;\n",
       "  }\n",
       "  th {\n",
       "    text-align: left;\n",
       "  }\n",
       "</style><div class='table-result-container'><table class='table-result'><thead style='background-color: white'><tr><th>num_affected_rows</th><th>num_inserted_rows</th></tr></thead><tbody></tbody></table></div>"
      ]
     },
     "metadata": {
      "application/vnd.databricks.v1+output": {
       "addedWidgets": {},
       "aggData": [],
       "aggError": "",
       "aggOverflow": false,
       "aggSchema": [],
       "aggSeriesLimitReached": false,
       "aggType": "",
       "arguments": {},
       "columnCustomDisplayInfos": {},
       "data": [],
       "datasetInfos": [],
       "dbfsResultPath": null,
       "isJsonSchema": true,
       "metadata": {},
       "overflow": false,
       "plotOptions": {
        "customPlotOptions": {},
        "displayType": "table",
        "pivotAggregation": null,
        "pivotColumns": null,
        "xColumns": null,
        "yColumns": null
       },
       "removedWidgets": [],
       "schema": [
        {
         "metadata": "{}",
         "name": "num_affected_rows",
         "type": "\"long\""
        },
        {
         "metadata": "{}",
         "name": "num_inserted_rows",
         "type": "\"long\""
        }
       ],
       "type": "table"
      }
     },
     "output_type": "display_data"
    }
   ],
   "source": [
    "%sql\n",
    "USE DATABASE sakila_dlh;\n",
    "\n",
    "CREATE OR REPLACE TABLE sakila_dlh.dim_date\n",
    "COMMENT \"Date Dimension Table\"\n",
    "LOCATION \"dbfs:/FileStore/ds2002-lab06/sakila_dlh/dim_date\"\n",
    "AS SELECT * FROM view_date"
   ]
  },
  {
   "cell_type": "code",
   "execution_count": 0,
   "metadata": {
    "application/vnd.databricks.v1+cell": {
     "cellMetadata": {
      "byteLimit": 2048000,
      "implicitDf": true,
      "rowLimit": 10000
     },
     "inputWidgets": {},
     "nuid": "f409e8f0-ecca-42c4-972a-c31aa80089cf",
     "showTitle": false,
     "title": ""
    }
   },
   "outputs": [
    {
     "output_type": "display_data",
     "data": {
      "text/html": [
       "<style scoped>\n",
       "  .table-result-container {\n",
       "    max-height: 300px;\n",
       "    overflow: auto;\n",
       "  }\n",
       "  table, th, td {\n",
       "    border: 1px solid black;\n",
       "    border-collapse: collapse;\n",
       "  }\n",
       "  th, td {\n",
       "    padding: 5px;\n",
       "  }\n",
       "  th {\n",
       "    text-align: left;\n",
       "  }\n",
       "</style><div class='table-result-container'><table class='table-result'><thead style='background-color: white'><tr><th>col_name</th><th>data_type</th><th>comment</th></tr></thead><tbody><tr><td>date_key</td><td>bigint</td><td>null</td></tr><tr><td>full_date</td><td>date</td><td>null</td></tr><tr><td></td><td></td><td></td></tr><tr><td># Detailed Table Information</td><td></td><td></td></tr><tr><td>Catalog</td><td>spark_catalog</td><td></td></tr><tr><td>Database</td><td>sakila_dlh</td><td></td></tr><tr><td>Table</td><td>dim_date</td><td></td></tr><tr><td>Type</td><td>EXTERNAL</td><td></td></tr><tr><td>Comment</td><td>Date Dimension Table</td><td></td></tr><tr><td>Location</td><td>dbfs:/FileStore/ds2002-lab06/sakila_dlh/dim_date</td><td></td></tr><tr><td>Provider</td><td>delta</td><td></td></tr><tr><td>Owner</td><td>root</td><td></td></tr><tr><td>Table Properties</td><td>[delta.minReaderVersion=1,delta.minWriterVersion=2]</td><td></td></tr></tbody></table></div>"
      ]
     },
     "metadata": {
      "application/vnd.databricks.v1+output": {
       "addedWidgets": {},
       "aggData": [],
       "aggError": "",
       "aggOverflow": false,
       "aggSchema": [],
       "aggSeriesLimitReached": false,
       "aggType": "",
       "arguments": {},
       "columnCustomDisplayInfos": {},
       "data": [
        [
         "date_key",
         "bigint",
         null
        ],
        [
         "full_date",
         "date",
         null
        ],
        [
         "",
         "",
         ""
        ],
        [
         "# Detailed Table Information",
         "",
         ""
        ],
        [
         "Catalog",
         "spark_catalog",
         ""
        ],
        [
         "Database",
         "sakila_dlh",
         ""
        ],
        [
         "Table",
         "dim_date",
         ""
        ],
        [
         "Type",
         "EXTERNAL",
         ""
        ],
        [
         "Comment",
         "Date Dimension Table",
         ""
        ],
        [
         "Location",
         "dbfs:/FileStore/ds2002-lab06/sakila_dlh/dim_date",
         ""
        ],
        [
         "Provider",
         "delta",
         ""
        ],
        [
         "Owner",
         "root",
         ""
        ],
        [
         "Table Properties",
         "[delta.minReaderVersion=1,delta.minWriterVersion=2]",
         ""
        ]
       ],
       "datasetInfos": [],
       "dbfsResultPath": null,
       "isJsonSchema": true,
       "metadata": {},
       "overflow": false,
       "plotOptions": {
        "customPlotOptions": {},
        "displayType": "table",
        "pivotAggregation": null,
        "pivotColumns": null,
        "xColumns": null,
        "yColumns": null
       },
       "removedWidgets": [],
       "schema": [
        {
         "metadata": "{\"comment\":\"name of the column\"}",
         "name": "col_name",
         "type": "\"string\""
        },
        {
         "metadata": "{\"comment\":\"data type of the column\"}",
         "name": "data_type",
         "type": "\"string\""
        },
        {
         "metadata": "{\"comment\":\"comment of the column\"}",
         "name": "comment",
         "type": "\"string\""
        }
       ],
       "type": "table"
      }
     },
     "output_type": "display_data"
    }
   ],
   "source": [
    "%sql\n",
    "DESCRIBE EXTENDED sakila_dlh.dim_date;"
   ]
  },
  {
   "cell_type": "code",
   "execution_count": 0,
   "metadata": {
    "application/vnd.databricks.v1+cell": {
     "cellMetadata": {
      "byteLimit": 2048000,
      "implicitDf": true,
      "rowLimit": 10000
     },
     "inputWidgets": {},
     "nuid": "eeab2a6b-c9e7-45c2-80da-82a668d83fcd",
     "showTitle": false,
     "title": ""
    }
   },
   "outputs": [
    {
     "output_type": "display_data",
     "data": {
      "text/html": [
       "<style scoped>\n",
       "  .table-result-container {\n",
       "    max-height: 300px;\n",
       "    overflow: auto;\n",
       "  }\n",
       "  table, th, td {\n",
       "    border: 1px solid black;\n",
       "    border-collapse: collapse;\n",
       "  }\n",
       "  th, td {\n",
       "    padding: 5px;\n",
       "  }\n",
       "  th {\n",
       "    text-align: left;\n",
       "  }\n",
       "</style><div class='table-result-container'><table class='table-result'><thead style='background-color: white'><tr><th>date_key</th><th>full_date</th></tr></thead><tbody><tr><td>20050101</td><td>2005-01-01</td></tr><tr><td>20050102</td><td>2005-01-02</td></tr><tr><td>20050103</td><td>2005-01-03</td></tr><tr><td>20050104</td><td>2005-01-04</td></tr><tr><td>20050105</td><td>2005-01-05</td></tr></tbody></table></div>"
      ]
     },
     "metadata": {
      "application/vnd.databricks.v1+output": {
       "addedWidgets": {},
       "aggData": [],
       "aggError": "",
       "aggOverflow": false,
       "aggSchema": [],
       "aggSeriesLimitReached": false,
       "aggType": "",
       "arguments": {},
       "columnCustomDisplayInfos": {},
       "data": [
        [
         20050101,
         "2005-01-01"
        ],
        [
         20050102,
         "2005-01-02"
        ],
        [
         20050103,
         "2005-01-03"
        ],
        [
         20050104,
         "2005-01-04"
        ],
        [
         20050105,
         "2005-01-05"
        ]
       ],
       "datasetInfos": [],
       "dbfsResultPath": null,
       "isJsonSchema": true,
       "metadata": {},
       "overflow": false,
       "plotOptions": {
        "customPlotOptions": {},
        "displayType": "table",
        "pivotAggregation": null,
        "pivotColumns": null,
        "xColumns": null,
        "yColumns": null
       },
       "removedWidgets": [],
       "schema": [
        {
         "metadata": "{\"scale\":0}",
         "name": "date_key",
         "type": "\"long\""
        },
        {
         "metadata": "{\"scale\":0}",
         "name": "full_date",
         "type": "\"date\""
        }
       ],
       "type": "table"
      }
     },
     "output_type": "display_data"
    }
   ],
   "source": [
    "%sql\n",
    "SELECT * FROM sakila_dlh.dim_date LIMIT 5"
   ]
  },
  {
   "cell_type": "code",
   "execution_count": 0,
   "metadata": {
    "application/vnd.databricks.v1+cell": {
     "cellMetadata": {
      "byteLimit": 2048000,
      "rowLimit": 10000
     },
     "inputWidgets": {},
     "nuid": "cec65fb5-10d7-4551-98f4-29aeaf969ed6",
     "showTitle": false,
     "title": ""
    }
   },
   "outputs": [],
   "source": [
    "###Create a New Table that Sources Customer Dimension Data from an Azure MySQL database."
   ]
  },
  {
   "cell_type": "code",
   "execution_count": 0,
   "metadata": {
    "application/vnd.databricks.v1+cell": {
     "cellMetadata": {
      "byteLimit": 2048000,
      "implicitDf": true,
      "rowLimit": 10000
     },
     "inputWidgets": {},
     "nuid": "025da1d9-69c9-4679-8109-9cf18fb0786b",
     "showTitle": false,
     "title": ""
    }
   },
   "outputs": [
    {
     "output_type": "display_data",
     "data": {
      "text/html": [
       "<style scoped>\n",
       "  .table-result-container {\n",
       "    max-height: 300px;\n",
       "    overflow: auto;\n",
       "  }\n",
       "  table, th, td {\n",
       "    border: 1px solid black;\n",
       "    border-collapse: collapse;\n",
       "  }\n",
       "  th, td {\n",
       "    padding: 5px;\n",
       "  }\n",
       "  th {\n",
       "    text-align: left;\n",
       "  }\n",
       "</style><div class='table-result-container'><table class='table-result'><thead style='background-color: white'><tr></tr></thead><tbody></tbody></table></div>"
      ]
     },
     "metadata": {
      "application/vnd.databricks.v1+output": {
       "addedWidgets": {},
       "aggData": [],
       "aggError": "",
       "aggOverflow": false,
       "aggSchema": [],
       "aggSeriesLimitReached": false,
       "aggType": "",
       "arguments": {},
       "columnCustomDisplayInfos": {},
       "data": [],
       "datasetInfos": [],
       "dbfsResultPath": null,
       "isJsonSchema": true,
       "metadata": {},
       "overflow": false,
       "plotOptions": {
        "customPlotOptions": {},
        "displayType": "table",
        "pivotAggregation": null,
        "pivotColumns": null,
        "xColumns": null,
        "yColumns": null
       },
       "removedWidgets": [],
       "schema": [],
       "type": "table"
      }
     },
     "output_type": "display_data"
    }
   ],
   "source": [
    "%sql\n",
    "CREATE OR REPLACE TEMPORARY VIEW view_customer\n",
    "USING org.apache.spark.sql.jdbc\n",
    "OPTIONS (\n",
    "  url \"jdbc:mysql://mrd2wdz-mysql.mysql.database.azure.com:3306/sakila_dw2\",\n",
    "  dbtable \"dim_customer\",\n",
    "  user \"mrd2wdz\",\n",
    "  password \"Peachesrule1\"\n",
    ")"
   ]
  },
  {
   "cell_type": "code",
   "execution_count": 0,
   "metadata": {
    "application/vnd.databricks.v1+cell": {
     "cellMetadata": {
      "byteLimit": 2048000,
      "implicitDf": true,
      "rowLimit": 10000
     },
     "inputWidgets": {},
     "nuid": "03356e94-c5c9-49e2-9560-b6a9b4641bd3",
     "showTitle": false,
     "title": ""
    }
   },
   "outputs": [
    {
     "output_type": "display_data",
     "data": {
      "text/html": [
       "<style scoped>\n",
       "  .table-result-container {\n",
       "    max-height: 300px;\n",
       "    overflow: auto;\n",
       "  }\n",
       "  table, th, td {\n",
       "    border: 1px solid black;\n",
       "    border-collapse: collapse;\n",
       "  }\n",
       "  th, td {\n",
       "    padding: 5px;\n",
       "  }\n",
       "  th {\n",
       "    text-align: left;\n",
       "  }\n",
       "</style><div class='table-result-container'><table class='table-result'><thead style='background-color: white'><tr><th>num_affected_rows</th><th>num_inserted_rows</th></tr></thead><tbody></tbody></table></div>"
      ]
     },
     "metadata": {
      "application/vnd.databricks.v1+output": {
       "addedWidgets": {},
       "aggData": [],
       "aggError": "",
       "aggOverflow": false,
       "aggSchema": [],
       "aggSeriesLimitReached": false,
       "aggType": "",
       "arguments": {},
       "columnCustomDisplayInfos": {},
       "data": [],
       "datasetInfos": [],
       "dbfsResultPath": null,
       "isJsonSchema": true,
       "metadata": {},
       "overflow": false,
       "plotOptions": {
        "customPlotOptions": {},
        "displayType": "table",
        "pivotAggregation": null,
        "pivotColumns": null,
        "xColumns": null,
        "yColumns": null
       },
       "removedWidgets": [],
       "schema": [
        {
         "metadata": "{}",
         "name": "num_affected_rows",
         "type": "\"long\""
        },
        {
         "metadata": "{}",
         "name": "num_inserted_rows",
         "type": "\"long\""
        }
       ],
       "type": "table"
      }
     },
     "output_type": "display_data"
    }
   ],
   "source": [
    "%sql\n",
    "USE DATABASE sakila_dlh;\n",
    "CREATE OR REPLACE TABLE sakila_dlh.dim_customer\n",
    "COMMENT \"Customer Dimension Table\"\n",
    "LOCATION \"dbfs:/FileStore/ds2002-lab06/sakila_dlh/dim_customer\"\n",
    "AS SELECT * FROM view_customer"
   ]
  },
  {
   "cell_type": "code",
   "execution_count": 0,
   "metadata": {
    "application/vnd.databricks.v1+cell": {
     "cellMetadata": {
      "byteLimit": 2048000,
      "implicitDf": true,
      "rowLimit": 10000
     },
     "inputWidgets": {},
     "nuid": "65bc22e2-2fd2-4abd-a07c-2b0ad6c55038",
     "showTitle": false,
     "title": ""
    }
   },
   "outputs": [
    {
     "output_type": "display_data",
     "data": {
      "text/html": [
       "<style scoped>\n",
       "  .table-result-container {\n",
       "    max-height: 300px;\n",
       "    overflow: auto;\n",
       "  }\n",
       "  table, th, td {\n",
       "    border: 1px solid black;\n",
       "    border-collapse: collapse;\n",
       "  }\n",
       "  th, td {\n",
       "    padding: 5px;\n",
       "  }\n",
       "  th {\n",
       "    text-align: left;\n",
       "  }\n",
       "</style><div class='table-result-container'><table class='table-result'><thead style='background-color: white'><tr><th>col_name</th><th>data_type</th><th>comment</th></tr></thead><tbody><tr><td>customer_key</td><td>bigint</td><td>null</td></tr><tr><td>store_id</td><td>bigint</td><td>null</td></tr><tr><td>first_name</td><td>string</td><td>null</td></tr><tr><td>last_name</td><td>string</td><td>null</td></tr><tr><td>email</td><td>string</td><td>null</td></tr><tr><td>address_id</td><td>bigint</td><td>null</td></tr><tr><td>active</td><td>bigint</td><td>null</td></tr><tr><td>create_date</td><td>string</td><td>null</td></tr><tr><td>last_update</td><td>string</td><td>null</td></tr><tr><td></td><td></td><td></td></tr><tr><td># Detailed Table Information</td><td></td><td></td></tr><tr><td>Catalog</td><td>spark_catalog</td><td></td></tr><tr><td>Database</td><td>sakila_dlh</td><td></td></tr><tr><td>Table</td><td>dim_customer</td><td></td></tr><tr><td>Type</td><td>EXTERNAL</td><td></td></tr><tr><td>Comment</td><td>Customer Dimension Table</td><td></td></tr><tr><td>Location</td><td>dbfs:/FileStore/ds2002-lab06/sakila_dlh/dim_customer</td><td></td></tr><tr><td>Provider</td><td>delta</td><td></td></tr><tr><td>Owner</td><td>root</td><td></td></tr><tr><td>Table Properties</td><td>[delta.minReaderVersion=1,delta.minWriterVersion=2]</td><td></td></tr></tbody></table></div>"
      ]
     },
     "metadata": {
      "application/vnd.databricks.v1+output": {
       "addedWidgets": {},
       "aggData": [],
       "aggError": "",
       "aggOverflow": false,
       "aggSchema": [],
       "aggSeriesLimitReached": false,
       "aggType": "",
       "arguments": {},
       "columnCustomDisplayInfos": {},
       "data": [
        [
         "customer_key",
         "bigint",
         null
        ],
        [
         "store_id",
         "bigint",
         null
        ],
        [
         "first_name",
         "string",
         null
        ],
        [
         "last_name",
         "string",
         null
        ],
        [
         "email",
         "string",
         null
        ],
        [
         "address_id",
         "bigint",
         null
        ],
        [
         "active",
         "bigint",
         null
        ],
        [
         "create_date",
         "string",
         null
        ],
        [
         "last_update",
         "string",
         null
        ],
        [
         "",
         "",
         ""
        ],
        [
         "# Detailed Table Information",
         "",
         ""
        ],
        [
         "Catalog",
         "spark_catalog",
         ""
        ],
        [
         "Database",
         "sakila_dlh",
         ""
        ],
        [
         "Table",
         "dim_customer",
         ""
        ],
        [
         "Type",
         "EXTERNAL",
         ""
        ],
        [
         "Comment",
         "Customer Dimension Table",
         ""
        ],
        [
         "Location",
         "dbfs:/FileStore/ds2002-lab06/sakila_dlh/dim_customer",
         ""
        ],
        [
         "Provider",
         "delta",
         ""
        ],
        [
         "Owner",
         "root",
         ""
        ],
        [
         "Table Properties",
         "[delta.minReaderVersion=1,delta.minWriterVersion=2]",
         ""
        ]
       ],
       "datasetInfos": [],
       "dbfsResultPath": null,
       "isJsonSchema": true,
       "metadata": {},
       "overflow": false,
       "plotOptions": {
        "customPlotOptions": {},
        "displayType": "table",
        "pivotAggregation": null,
        "pivotColumns": null,
        "xColumns": null,
        "yColumns": null
       },
       "removedWidgets": [],
       "schema": [
        {
         "metadata": "{\"comment\":\"name of the column\"}",
         "name": "col_name",
         "type": "\"string\""
        },
        {
         "metadata": "{\"comment\":\"data type of the column\"}",
         "name": "data_type",
         "type": "\"string\""
        },
        {
         "metadata": "{\"comment\":\"comment of the column\"}",
         "name": "comment",
         "type": "\"string\""
        }
       ],
       "type": "table"
      }
     },
     "output_type": "display_data"
    }
   ],
   "source": [
    "%sql\n",
    "DESCRIBE EXTENDED sakila_dlh.dim_customer;"
   ]
  },
  {
   "cell_type": "code",
   "execution_count": 0,
   "metadata": {
    "application/vnd.databricks.v1+cell": {
     "cellMetadata": {
      "byteLimit": 2048000,
      "implicitDf": true,
      "rowLimit": 10000
     },
     "inputWidgets": {},
     "nuid": "479f8cdd-c64e-4279-ae8b-3b187c933324",
     "showTitle": false,
     "title": ""
    }
   },
   "outputs": [
    {
     "output_type": "display_data",
     "data": {
      "text/html": [
       "<style scoped>\n",
       "  .table-result-container {\n",
       "    max-height: 300px;\n",
       "    overflow: auto;\n",
       "  }\n",
       "  table, th, td {\n",
       "    border: 1px solid black;\n",
       "    border-collapse: collapse;\n",
       "  }\n",
       "  th, td {\n",
       "    padding: 5px;\n",
       "  }\n",
       "  th {\n",
       "    text-align: left;\n",
       "  }\n",
       "</style><div class='table-result-container'><table class='table-result'><thead style='background-color: white'><tr><th>customer_key</th><th>store_id</th><th>first_name</th><th>last_name</th><th>email</th><th>address_id</th><th>active</th><th>create_date</th><th>last_update</th></tr></thead><tbody><tr><td>1</td><td>1</td><td>MARY</td><td>SMITH</td><td>MARY.SMITH@sakilacustomer.org</td><td>5</td><td>1</td><td>2006-02-14 22:04:36</td><td>2006-02-15 04:57:20</td></tr><tr><td>2</td><td>1</td><td>PATRICIA</td><td>JOHNSON</td><td>PATRICIA.JOHNSON@sakilacustomer.org</td><td>6</td><td>1</td><td>2006-02-14 22:04:36</td><td>2006-02-15 04:57:20</td></tr><tr><td>3</td><td>1</td><td>LINDA</td><td>WILLIAMS</td><td>LINDA.WILLIAMS@sakilacustomer.org</td><td>7</td><td>1</td><td>2006-02-14 22:04:36</td><td>2006-02-15 04:57:20</td></tr><tr><td>4</td><td>2</td><td>BARBARA</td><td>JONES</td><td>BARBARA.JONES@sakilacustomer.org</td><td>8</td><td>1</td><td>2006-02-14 22:04:36</td><td>2006-02-15 04:57:20</td></tr><tr><td>5</td><td>1</td><td>ELIZABETH</td><td>BROWN</td><td>ELIZABETH.BROWN@sakilacustomer.org</td><td>9</td><td>1</td><td>2006-02-14 22:04:36</td><td>2006-02-15 04:57:20</td></tr></tbody></table></div>"
      ]
     },
     "metadata": {
      "application/vnd.databricks.v1+output": {
       "addedWidgets": {},
       "aggData": [],
       "aggError": "",
       "aggOverflow": false,
       "aggSchema": [],
       "aggSeriesLimitReached": false,
       "aggType": "",
       "arguments": {},
       "columnCustomDisplayInfos": {},
       "data": [
        [
         1,
         1,
         "MARY",
         "SMITH",
         "MARY.SMITH@sakilacustomer.org",
         5,
         1,
         "2006-02-14 22:04:36",
         "2006-02-15 04:57:20"
        ],
        [
         2,
         1,
         "PATRICIA",
         "JOHNSON",
         "PATRICIA.JOHNSON@sakilacustomer.org",
         6,
         1,
         "2006-02-14 22:04:36",
         "2006-02-15 04:57:20"
        ],
        [
         3,
         1,
         "LINDA",
         "WILLIAMS",
         "LINDA.WILLIAMS@sakilacustomer.org",
         7,
         1,
         "2006-02-14 22:04:36",
         "2006-02-15 04:57:20"
        ],
        [
         4,
         2,
         "BARBARA",
         "JONES",
         "BARBARA.JONES@sakilacustomer.org",
         8,
         1,
         "2006-02-14 22:04:36",
         "2006-02-15 04:57:20"
        ],
        [
         5,
         1,
         "ELIZABETH",
         "BROWN",
         "ELIZABETH.BROWN@sakilacustomer.org",
         9,
         1,
         "2006-02-14 22:04:36",
         "2006-02-15 04:57:20"
        ]
       ],
       "datasetInfos": [],
       "dbfsResultPath": null,
       "isJsonSchema": true,
       "metadata": {},
       "overflow": false,
       "plotOptions": {
        "customPlotOptions": {},
        "displayType": "table",
        "pivotAggregation": null,
        "pivotColumns": null,
        "xColumns": null,
        "yColumns": null
       },
       "removedWidgets": [],
       "schema": [
        {
         "metadata": "{\"scale\":0}",
         "name": "customer_key",
         "type": "\"long\""
        },
        {
         "metadata": "{\"scale\":0}",
         "name": "store_id",
         "type": "\"long\""
        },
        {
         "metadata": "{\"scale\":0}",
         "name": "first_name",
         "type": "\"string\""
        },
        {
         "metadata": "{\"scale\":0}",
         "name": "last_name",
         "type": "\"string\""
        },
        {
         "metadata": "{\"scale\":0}",
         "name": "email",
         "type": "\"string\""
        },
        {
         "metadata": "{\"scale\":0}",
         "name": "address_id",
         "type": "\"long\""
        },
        {
         "metadata": "{\"scale\":0}",
         "name": "active",
         "type": "\"long\""
        },
        {
         "metadata": "{\"scale\":0}",
         "name": "create_date",
         "type": "\"string\""
        },
        {
         "metadata": "{\"scale\":0}",
         "name": "last_update",
         "type": "\"string\""
        }
       ],
       "type": "table"
      }
     },
     "output_type": "display_data"
    }
   ],
   "source": [
    "%sql\n",
    "SELECT * FROM sakila_dlh.dim_customer LIMIT 5"
   ]
  },
  {
   "cell_type": "code",
   "execution_count": 0,
   "metadata": {
    "application/vnd.databricks.v1+cell": {
     "cellMetadata": {
      "byteLimit": 2048000,
      "rowLimit": 10000
     },
     "inputWidgets": {},
     "nuid": "5c20e50e-98da-4837-bbbd-ef6bbca152ac",
     "showTitle": false,
     "title": ""
    }
   },
   "outputs": [],
   "source": [
    "##Fetch Reference Data from a MongoDB Atlas Database\n",
    "##View the Data Files on the Databricks File System"
   ]
  },
  {
   "cell_type": "code",
   "execution_count": 0,
   "metadata": {
    "application/vnd.databricks.v1+cell": {
     "cellMetadata": {
      "byteLimit": 2048000,
      "rowLimit": 10000
     },
     "inputWidgets": {},
     "nuid": "640d19b3-9920-4cf0-928c-76f0eb229ab3",
     "showTitle": false,
     "title": ""
    }
   },
   "outputs": [
    {
     "output_type": "display_data",
     "data": {
      "text/html": [
       "<style scoped>\n",
       "  .table-result-container {\n",
       "    max-height: 300px;\n",
       "    overflow: auto;\n",
       "  }\n",
       "  table, th, td {\n",
       "    border: 1px solid black;\n",
       "    border-collapse: collapse;\n",
       "  }\n",
       "  th, td {\n",
       "    padding: 5px;\n",
       "  }\n",
       "  th {\n",
       "    text-align: left;\n",
       "  }\n",
       "</style><div class='table-result-container'><table class='table-result'><thead style='background-color: white'><tr><th>path</th><th>name</th><th>size</th><th>modificationTime</th></tr></thead><tbody><tr><td>dbfs:/FileStore/ds2002-lab06/sourcedata/batch/sakila_diminventory.csv</td><td>sakila_diminventory.csv</td><td>12432</td><td>1683041816000</td></tr><tr><td>dbfs:/FileStore/ds2002-lab06/sourcedata/batch/sakila_staffdim.json</td><td>sakila_staffdim.json</td><td>468</td><td>1683041816000</td></tr></tbody></table></div>"
      ]
     },
     "metadata": {
      "application/vnd.databricks.v1+output": {
       "addedWidgets": {},
       "aggData": [],
       "aggError": "",
       "aggOverflow": false,
       "aggSchema": [],
       "aggSeriesLimitReached": false,
       "aggType": "",
       "arguments": {},
       "columnCustomDisplayInfos": {},
       "data": [
        [
         "dbfs:/FileStore/ds2002-lab06/sourcedata/batch/sakila_diminventory.csv",
         "sakila_diminventory.csv",
         12432,
         1683041816000
        ],
        [
         "dbfs:/FileStore/ds2002-lab06/sourcedata/batch/sakila_staffdim.json",
         "sakila_staffdim.json",
         468,
         1683041816000
        ]
       ],
       "datasetInfos": [],
       "dbfsResultPath": null,
       "isJsonSchema": true,
       "metadata": {},
       "overflow": false,
       "plotOptions": {
        "customPlotOptions": {},
        "displayType": "table",
        "pivotAggregation": null,
        "pivotColumns": null,
        "xColumns": null,
        "yColumns": null
       },
       "removedWidgets": [],
       "schema": [
        {
         "metadata": "{}",
         "name": "path",
         "type": "\"string\""
        },
        {
         "metadata": "{}",
         "name": "name",
         "type": "\"string\""
        },
        {
         "metadata": "{}",
         "name": "size",
         "type": "\"long\""
        },
        {
         "metadata": "{}",
         "name": "modificationTime",
         "type": "\"long\""
        }
       ],
       "type": "table"
      }
     },
     "output_type": "display_data"
    }
   ],
   "source": [
    "display(dbutils.fs.ls(batch_dir))"
   ]
  },
  {
   "cell_type": "code",
   "execution_count": 0,
   "metadata": {
    "application/vnd.databricks.v1+cell": {
     "cellMetadata": {
      "byteLimit": 2048000,
      "rowLimit": 10000
     },
     "inputWidgets": {},
     "nuid": "ece89d92-d7fb-4819-9d7f-8fec334150d8",
     "showTitle": false,
     "title": ""
    }
   },
   "outputs": [],
   "source": [
    "##Create a New MongoDB Database, and Load JSON Data Into a New MongoDB Collection"
   ]
  },
  {
   "cell_type": "code",
   "execution_count": 0,
   "metadata": {
    "application/vnd.databricks.v1+cell": {
     "cellMetadata": {
      "byteLimit": 2048000,
      "rowLimit": 10000
     },
     "inputWidgets": {},
     "nuid": "cabcd2ee-8487-497f-8f71-ecec1a6f842c",
     "showTitle": false,
     "title": ""
    }
   },
   "outputs": [
    {
     "output_type": "stream",
     "name": "stdout",
     "output_type": "stream",
     "text": [
      "Out[24]: <pymongo.results.InsertManyResult at 0x7f65c884c6c0>"
     ]
    }
   ],
   "source": [
    "source_dir = '/dbfs/FileStore/ds2002-lab06/sourcedata/batch'\n",
    "json_files = {\"staff\" : 'sakila_staffdim.json'}\n",
    "\n",
    "set_mongo_collection(atlas_user_name, atlas_password, atlas_cluster_name, atlas_database_name, source_dir, json_files) "
   ]
  },
  {
   "cell_type": "code",
   "execution_count": 0,
   "metadata": {
    "application/vnd.databricks.v1+cell": {
     "cellMetadata": {
      "byteLimit": 2048000,
      "rowLimit": 10000
     },
     "inputWidgets": {},
     "nuid": "f79b0268-b2fe-4eb0-b12d-9d9db24784ee",
     "showTitle": false,
     "title": ""
    }
   },
   "outputs": [],
   "source": [
    "##Fetch Staff Dimension Data from the New MongoDB Collection"
   ]
  },
  {
   "cell_type": "code",
   "execution_count": 0,
   "metadata": {
    "application/vnd.databricks.v1+cell": {
     "cellMetadata": {
      "byteLimit": 2048000,
      "rowLimit": 10000
     },
     "inputWidgets": {},
     "nuid": "1c0b0b61-bf43-410c-86e6-498b9781d869",
     "showTitle": false,
     "title": ""
    }
   },
   "outputs": [
    {
     "output_type": "display_data",
     "data": {
      "text/html": [
       "<style scoped>\n",
       "  .table-result-container {\n",
       "    max-height: 300px;\n",
       "    overflow: auto;\n",
       "  }\n",
       "  table, th, td {\n",
       "    border: 1px solid black;\n",
       "    border-collapse: collapse;\n",
       "  }\n",
       "  th, td {\n",
       "    padding: 5px;\n",
       "  }\n",
       "  th {\n",
       "    text-align: left;\n",
       "  }\n",
       "</style><div class='table-result-container'><table class='table-result'><thead style='background-color: white'><tr><th>staff_key</th><th>first_name</th><th>last_name</th><th>address_id</th><th>email</th><th>store_id</th><th>active</th><th>username</th><th>password</th><th>last_update</th></tr></thead><tbody><tr><td>1</td><td>Mike</td><td>Hillyer</td><td>3</td><td>Mike.Hillyer@sakilastaff.com</td><td>1</td><td>1</td><td>Mike</td><td>8cb2237d0679ca88db6464eac60da96345513964</td><td>2006-02-15 03:57:16</td></tr><tr><td>2</td><td>Jon</td><td>Stephens</td><td>4</td><td>Jon.Stephens@sakilastaff.com</td><td>2</td><td>1</td><td>Jon</td><td></td><td>2006-02-15 03:57:16</td></tr></tbody></table></div>"
      ]
     },
     "metadata": {
      "application/vnd.databricks.v1+output": {
       "addedWidgets": {},
       "aggData": [],
       "aggError": "",
       "aggOverflow": false,
       "aggSchema": [],
       "aggSeriesLimitReached": false,
       "aggType": "",
       "arguments": {},
       "columnCustomDisplayInfos": {},
       "data": [
        [
         1,
         "Mike",
         "Hillyer",
         3,
         "Mike.Hillyer@sakilastaff.com",
         1,
         1,
         "Mike",
         "8cb2237d0679ca88db6464eac60da96345513964",
         "2006-02-15 03:57:16"
        ],
        [
         2,
         "Jon",
         "Stephens",
         4,
         "Jon.Stephens@sakilastaff.com",
         2,
         1,
         "Jon",
         "",
         "2006-02-15 03:57:16"
        ]
       ],
       "datasetInfos": [
        {
         "name": "df_staff",
         "schema": {
          "fields": [
           {
            "metadata": {},
            "name": "staff_key",
            "nullable": true,
            "type": "integer"
           },
           {
            "metadata": {},
            "name": "first_name",
            "nullable": true,
            "type": "string"
           },
           {
            "metadata": {},
            "name": "last_name",
            "nullable": true,
            "type": "string"
           },
           {
            "metadata": {},
            "name": "address_id",
            "nullable": true,
            "type": "integer"
           },
           {
            "metadata": {},
            "name": "email",
            "nullable": true,
            "type": "string"
           },
           {
            "metadata": {},
            "name": "store_id",
            "nullable": true,
            "type": "integer"
           },
           {
            "metadata": {},
            "name": "active",
            "nullable": true,
            "type": "integer"
           },
           {
            "metadata": {},
            "name": "username",
            "nullable": true,
            "type": "string"
           },
           {
            "metadata": {},
            "name": "password",
            "nullable": true,
            "type": "string"
           },
           {
            "metadata": {},
            "name": "last_update",
            "nullable": true,
            "type": "string"
           }
          ],
          "type": "struct"
         },
         "tableIdentifier": null,
         "typeStr": "org.apache.spark.sql.DataFrame"
        }
       ],
       "dbfsResultPath": null,
       "isJsonSchema": true,
       "metadata": {
        "isDbfsCommandResult": false
       },
       "overflow": false,
       "plotOptions": {
        "customPlotOptions": {},
        "displayType": "table",
        "pivotAggregation": null,
        "pivotColumns": null,
        "xColumns": null,
        "yColumns": null
       },
       "removedWidgets": [],
       "schema": [
        {
         "metadata": "{}",
         "name": "staff_key",
         "type": "\"integer\""
        },
        {
         "metadata": "{}",
         "name": "first_name",
         "type": "\"string\""
        },
        {
         "metadata": "{}",
         "name": "last_name",
         "type": "\"string\""
        },
        {
         "metadata": "{}",
         "name": "address_id",
         "type": "\"integer\""
        },
        {
         "metadata": "{}",
         "name": "email",
         "type": "\"string\""
        },
        {
         "metadata": "{}",
         "name": "store_id",
         "type": "\"integer\""
        },
        {
         "metadata": "{}",
         "name": "active",
         "type": "\"integer\""
        },
        {
         "metadata": "{}",
         "name": "username",
         "type": "\"string\""
        },
        {
         "metadata": "{}",
         "name": "password",
         "type": "\"string\""
        },
        {
         "metadata": "{}",
         "name": "last_update",
         "type": "\"string\""
        }
       ],
       "type": "table"
      }
     },
     "output_type": "display_data"
    }
   ],
   "source": [
    "%scala\n",
    "import com.mongodb.spark._\n",
    "\n",
    "val df_staff = spark.read.format(\"com.mongodb.spark.sql.DefaultSource\")\n",
    ".option(\"database\", \"sakila_dw2\").option(\"collection\", \"staff\").load()\n",
    ".select(\"staff_key\",\"first_name\",\"last_name\",\"address_id\",\"email\",\"store_id\",\"active\",\"username\",\"password\",\"last_update\")\n",
    "\n",
    "display(df_staff)"
   ]
  },
  {
   "cell_type": "code",
   "execution_count": 0,
   "metadata": {
    "application/vnd.databricks.v1+cell": {
     "cellMetadata": {
      "byteLimit": 2048000,
      "rowLimit": 10000
     },
     "inputWidgets": {},
     "nuid": "3d2802df-ba04-490c-b909-64193db6ba5e",
     "showTitle": false,
     "title": ""
    }
   },
   "outputs": [
    {
     "output_type": "display_data",
     "data": {
      "text/html": [
       "<style scoped>\n",
       "  .ansiout {\n",
       "    display: block;\n",
       "    unicode-bidi: embed;\n",
       "    white-space: pre-wrap;\n",
       "    word-wrap: break-word;\n",
       "    word-break: break-all;\n",
       "    font-family: \"Source Code Pro\", \"Menlo\", monospace;;\n",
       "    font-size: 13px;\n",
       "    color: #555;\n",
       "    margin-left: 4px;\n",
       "    line-height: 19px;\n",
       "  }\n",
       "</style>\n",
       "<div class=\"ansiout\">root\n",
       "-- staff_key: integer (nullable = true)\n",
       "-- first_name: string (nullable = true)\n",
       "-- last_name: string (nullable = true)\n",
       "-- address_id: integer (nullable = true)\n",
       "-- email: string (nullable = true)\n",
       "-- store_id: integer (nullable = true)\n",
       "-- active: integer (nullable = true)\n",
       "-- username: string (nullable = true)\n",
       "-- password: string (nullable = true)\n",
       "-- last_update: string (nullable = true)\n",
       "\n",
       "</div>"
      ]
     },
     "metadata": {
      "application/vnd.databricks.v1+output": {
       "addedWidgets": {},
       "arguments": {},
       "data": "<div class=\"ansiout\">root\n |-- staff_key: integer (nullable = true)\n |-- first_name: string (nullable = true)\n |-- last_name: string (nullable = true)\n |-- address_id: integer (nullable = true)\n |-- email: string (nullable = true)\n |-- store_id: integer (nullable = true)\n |-- active: integer (nullable = true)\n |-- username: string (nullable = true)\n |-- password: string (nullable = true)\n |-- last_update: string (nullable = true)\n\n</div>",
       "datasetInfos": [],
       "metadata": {
        "isDbfsCommandResult": false
       },
       "removedWidgets": [],
       "type": "html"
      }
     },
     "output_type": "display_data"
    }
   ],
   "source": [
    "%scala\n",
    "df_staff.printSchema()"
   ]
  },
  {
   "cell_type": "code",
   "execution_count": 0,
   "metadata": {
    "application/vnd.databricks.v1+cell": {
     "cellMetadata": {
      "byteLimit": 2048000,
      "rowLimit": 10000
     },
     "inputWidgets": {},
     "nuid": "f2862bbd-e916-4e9e-89bf-167e3a2b057c",
     "showTitle": false,
     "title": ""
    }
   },
   "outputs": [],
   "source": [
    "##Use the Spark DataFrame to Create a New Staff Dimension Table in the Databricks Metadata Database (sakila_dlh)"
   ]
  },
  {
   "cell_type": "code",
   "execution_count": 0,
   "metadata": {
    "application/vnd.databricks.v1+cell": {
     "cellMetadata": {
      "byteLimit": 2048000,
      "rowLimit": 10000
     },
     "inputWidgets": {},
     "nuid": "d87a8c6c-b80d-4ee9-8d70-5f45af794ee7",
     "showTitle": false,
     "title": ""
    }
   },
   "outputs": [
    {
     "output_type": "display_data",
     "data": {
      "text/html": [
       "<style scoped>\n",
       "  .ansiout {\n",
       "    display: block;\n",
       "    unicode-bidi: embed;\n",
       "    white-space: pre-wrap;\n",
       "    word-wrap: break-word;\n",
       "    word-break: break-all;\n",
       "    font-family: \"Source Code Pro\", \"Menlo\", monospace;;\n",
       "    font-size: 13px;\n",
       "    color: #555;\n",
       "    margin-left: 4px;\n",
       "    line-height: 19px;\n",
       "  }\n",
       "</style>\n",
       "<div class=\"ansiout\"></div>"
      ]
     },
     "metadata": {
      "application/vnd.databricks.v1+output": {
       "addedWidgets": {},
       "arguments": {},
       "data": "<div class=\"ansiout\"></div>",
       "datasetInfos": [],
       "metadata": {
        "isDbfsCommandResult": false
       },
       "removedWidgets": [],
       "type": "html"
      }
     },
     "output_type": "display_data"
    }
   ],
   "source": [
    "%scala\n",
    "df_staff.write.format(\"delta\").mode(\"overwrite\").saveAsTable(\"sakila_dlh.dim_staff\")"
   ]
  },
  {
   "cell_type": "code",
   "execution_count": 0,
   "metadata": {
    "application/vnd.databricks.v1+cell": {
     "cellMetadata": {
      "byteLimit": 2048000,
      "implicitDf": true,
      "rowLimit": 10000
     },
     "inputWidgets": {},
     "nuid": "4349642a-ec7c-47f5-9533-7aaaf2f35850",
     "showTitle": false,
     "title": ""
    }
   },
   "outputs": [
    {
     "output_type": "display_data",
     "data": {
      "text/html": [
       "<style scoped>\n",
       "  .table-result-container {\n",
       "    max-height: 300px;\n",
       "    overflow: auto;\n",
       "  }\n",
       "  table, th, td {\n",
       "    border: 1px solid black;\n",
       "    border-collapse: collapse;\n",
       "  }\n",
       "  th, td {\n",
       "    padding: 5px;\n",
       "  }\n",
       "  th {\n",
       "    text-align: left;\n",
       "  }\n",
       "</style><div class='table-result-container'><table class='table-result'><thead style='background-color: white'><tr><th>col_name</th><th>data_type</th><th>comment</th></tr></thead><tbody><tr><td>staff_key</td><td>int</td><td>null</td></tr><tr><td>first_name</td><td>string</td><td>null</td></tr><tr><td>last_name</td><td>string</td><td>null</td></tr><tr><td>address_id</td><td>int</td><td>null</td></tr><tr><td>email</td><td>string</td><td>null</td></tr><tr><td>store_id</td><td>int</td><td>null</td></tr><tr><td>active</td><td>int</td><td>null</td></tr><tr><td>username</td><td>string</td><td>null</td></tr><tr><td>password</td><td>string</td><td>null</td></tr><tr><td>last_update</td><td>string</td><td>null</td></tr><tr><td></td><td></td><td></td></tr><tr><td># Detailed Table Information</td><td></td><td></td></tr><tr><td>Catalog</td><td>spark_catalog</td><td></td></tr><tr><td>Database</td><td>sakila_dlh</td><td></td></tr><tr><td>Table</td><td>dim_staff</td><td></td></tr><tr><td>Type</td><td>MANAGED</td><td></td></tr><tr><td>Location</td><td>dbfs:/FileStore/ds2002-lab06/sakila_dlh/dim_staff</td><td></td></tr><tr><td>Provider</td><td>delta</td><td></td></tr><tr><td>Owner</td><td>root</td><td></td></tr><tr><td>Is_managed_location</td><td>true</td><td></td></tr><tr><td>Table Properties</td><td>[delta.minReaderVersion=1,delta.minWriterVersion=2]</td><td></td></tr></tbody></table></div>"
      ]
     },
     "metadata": {
      "application/vnd.databricks.v1+output": {
       "addedWidgets": {},
       "aggData": [],
       "aggError": "",
       "aggOverflow": false,
       "aggSchema": [],
       "aggSeriesLimitReached": false,
       "aggType": "",
       "arguments": {},
       "columnCustomDisplayInfos": {},
       "data": [
        [
         "staff_key",
         "int",
         null
        ],
        [
         "first_name",
         "string",
         null
        ],
        [
         "last_name",
         "string",
         null
        ],
        [
         "address_id",
         "int",
         null
        ],
        [
         "email",
         "string",
         null
        ],
        [
         "store_id",
         "int",
         null
        ],
        [
         "active",
         "int",
         null
        ],
        [
         "username",
         "string",
         null
        ],
        [
         "password",
         "string",
         null
        ],
        [
         "last_update",
         "string",
         null
        ],
        [
         "",
         "",
         ""
        ],
        [
         "# Detailed Table Information",
         "",
         ""
        ],
        [
         "Catalog",
         "spark_catalog",
         ""
        ],
        [
         "Database",
         "sakila_dlh",
         ""
        ],
        [
         "Table",
         "dim_staff",
         ""
        ],
        [
         "Type",
         "MANAGED",
         ""
        ],
        [
         "Location",
         "dbfs:/FileStore/ds2002-lab06/sakila_dlh/dim_staff",
         ""
        ],
        [
         "Provider",
         "delta",
         ""
        ],
        [
         "Owner",
         "root",
         ""
        ],
        [
         "Is_managed_location",
         "true",
         ""
        ],
        [
         "Table Properties",
         "[delta.minReaderVersion=1,delta.minWriterVersion=2]",
         ""
        ]
       ],
       "datasetInfos": [],
       "dbfsResultPath": null,
       "isJsonSchema": true,
       "metadata": {},
       "overflow": false,
       "plotOptions": {
        "customPlotOptions": {},
        "displayType": "table",
        "pivotAggregation": null,
        "pivotColumns": null,
        "xColumns": null,
        "yColumns": null
       },
       "removedWidgets": [],
       "schema": [
        {
         "metadata": "{\"comment\":\"name of the column\"}",
         "name": "col_name",
         "type": "\"string\""
        },
        {
         "metadata": "{\"comment\":\"data type of the column\"}",
         "name": "data_type",
         "type": "\"string\""
        },
        {
         "metadata": "{\"comment\":\"comment of the column\"}",
         "name": "comment",
         "type": "\"string\""
        }
       ],
       "type": "table"
      }
     },
     "output_type": "display_data"
    }
   ],
   "source": [
    "%sql\n",
    "DESCRIBE EXTENDED sakila_dlh.dim_staff"
   ]
  },
  {
   "cell_type": "code",
   "execution_count": 0,
   "metadata": {
    "application/vnd.databricks.v1+cell": {
     "cellMetadata": {
      "byteLimit": 2048000,
      "implicitDf": true,
      "rowLimit": 10000
     },
     "inputWidgets": {},
     "nuid": "fc83d152-e29e-492d-a2ef-b4f5b51fd097",
     "showTitle": false,
     "title": ""
    }
   },
   "outputs": [
    {
     "output_type": "display_data",
     "data": {
      "text/html": [
       "<style scoped>\n",
       "  .table-result-container {\n",
       "    max-height: 300px;\n",
       "    overflow: auto;\n",
       "  }\n",
       "  table, th, td {\n",
       "    border: 1px solid black;\n",
       "    border-collapse: collapse;\n",
       "  }\n",
       "  th, td {\n",
       "    padding: 5px;\n",
       "  }\n",
       "  th {\n",
       "    text-align: left;\n",
       "  }\n",
       "</style><div class='table-result-container'><table class='table-result'><thead style='background-color: white'><tr><th>staff_key</th><th>first_name</th><th>last_name</th><th>address_id</th><th>email</th><th>store_id</th><th>active</th><th>username</th><th>password</th><th>last_update</th></tr></thead><tbody><tr><td>1</td><td>Mike</td><td>Hillyer</td><td>3</td><td>Mike.Hillyer@sakilastaff.com</td><td>1</td><td>1</td><td>Mike</td><td>8cb2237d0679ca88db6464eac60da96345513964</td><td>2006-02-15 03:57:16</td></tr><tr><td>2</td><td>Jon</td><td>Stephens</td><td>4</td><td>Jon.Stephens@sakilastaff.com</td><td>2</td><td>1</td><td>Jon</td><td></td><td>2006-02-15 03:57:16</td></tr></tbody></table></div>"
      ]
     },
     "metadata": {
      "application/vnd.databricks.v1+output": {
       "addedWidgets": {},
       "aggData": [],
       "aggError": "",
       "aggOverflow": false,
       "aggSchema": [],
       "aggSeriesLimitReached": false,
       "aggType": "",
       "arguments": {},
       "columnCustomDisplayInfos": {},
       "data": [
        [
         1,
         "Mike",
         "Hillyer",
         3,
         "Mike.Hillyer@sakilastaff.com",
         1,
         1,
         "Mike",
         "8cb2237d0679ca88db6464eac60da96345513964",
         "2006-02-15 03:57:16"
        ],
        [
         2,
         "Jon",
         "Stephens",
         4,
         "Jon.Stephens@sakilastaff.com",
         2,
         1,
         "Jon",
         "",
         "2006-02-15 03:57:16"
        ]
       ],
       "datasetInfos": [],
       "dbfsResultPath": null,
       "isJsonSchema": true,
       "metadata": {},
       "overflow": false,
       "plotOptions": {
        "customPlotOptions": {},
        "displayType": "table",
        "pivotAggregation": null,
        "pivotColumns": null,
        "xColumns": null,
        "yColumns": null
       },
       "removedWidgets": [],
       "schema": [
        {
         "metadata": "{}",
         "name": "staff_key",
         "type": "\"integer\""
        },
        {
         "metadata": "{}",
         "name": "first_name",
         "type": "\"string\""
        },
        {
         "metadata": "{}",
         "name": "last_name",
         "type": "\"string\""
        },
        {
         "metadata": "{}",
         "name": "address_id",
         "type": "\"integer\""
        },
        {
         "metadata": "{}",
         "name": "email",
         "type": "\"string\""
        },
        {
         "metadata": "{}",
         "name": "store_id",
         "type": "\"integer\""
        },
        {
         "metadata": "{}",
         "name": "active",
         "type": "\"integer\""
        },
        {
         "metadata": "{}",
         "name": "username",
         "type": "\"string\""
        },
        {
         "metadata": "{}",
         "name": "password",
         "type": "\"string\""
        },
        {
         "metadata": "{}",
         "name": "last_update",
         "type": "\"string\""
        }
       ],
       "type": "table"
      }
     },
     "output_type": "display_data"
    }
   ],
   "source": [
    "%sql\n",
    "SELECT * FROM sakila_dlh.dim_staff"
   ]
  },
  {
   "cell_type": "code",
   "execution_count": 0,
   "metadata": {
    "application/vnd.databricks.v1+cell": {
     "cellMetadata": {
      "byteLimit": 2048000,
      "rowLimit": 10000
     },
     "inputWidgets": {},
     "nuid": "b4d6d9fe-e9ee-4d38-90a9-dc4e235644f5",
     "showTitle": false,
     "title": ""
    }
   },
   "outputs": [],
   "source": [
    "##Fetch Data from a File System\n",
    "##Use PySpark to Read From a CSV File"
   ]
  },
  {
   "cell_type": "code",
   "execution_count": 0,
   "metadata": {
    "application/vnd.databricks.v1+cell": {
     "cellMetadata": {
      "byteLimit": 2048000,
      "rowLimit": 10000
     },
     "inputWidgets": {},
     "nuid": "ae47f7d0-713c-4296-ba3b-d13e609f8c29",
     "showTitle": false,
     "title": ""
    }
   },
   "outputs": [
    {
     "output_type": "display_data",
     "data": {
      "text/html": [
       "<style scoped>\n",
       "  .table-result-container {\n",
       "    max-height: 300px;\n",
       "    overflow: auto;\n",
       "  }\n",
       "  table, th, td {\n",
       "    border: 1px solid black;\n",
       "    border-collapse: collapse;\n",
       "  }\n",
       "  th, td {\n",
       "    padding: 5px;\n",
       "  }\n",
       "  th {\n",
       "    text-align: left;\n",
       "  }\n",
       "</style><div class='table-result-container'><table class='table-result'><thead style='background-color: white'><tr><th>inventory_key</th><th>rental_rate</th><th>film_id</th></tr></thead><tbody><tr><td>1</td><td>0.99</td><td>1</td></tr><tr><td>2</td><td>0.99</td><td>1</td></tr><tr><td>3</td><td>0.99</td><td>1</td></tr><tr><td>4</td><td>0.99</td><td>1</td></tr><tr><td>5</td><td>0.99</td><td>1</td></tr><tr><td>6</td><td>0.99</td><td>1</td></tr><tr><td>7</td><td>0.99</td><td>1</td></tr><tr><td>8</td><td>0.99</td><td>1</td></tr><tr><td>9</td><td>4.99</td><td>2</td></tr><tr><td>10</td><td>4.99</td><td>2</td></tr><tr><td>11</td><td>4.99</td><td>2</td></tr><tr><td>12</td><td>2.99</td><td>3</td></tr><tr><td>13</td><td>2.99</td><td>3</td></tr><tr><td>14</td><td>2.99</td><td>3</td></tr><tr><td>15</td><td>2.99</td><td>3</td></tr><tr><td>16</td><td>2.99</td><td>4</td></tr><tr><td>17</td><td>2.99</td><td>4</td></tr><tr><td>18</td><td>2.99</td><td>4</td></tr><tr><td>19</td><td>2.99</td><td>4</td></tr><tr><td>20</td><td>2.99</td><td>4</td></tr><tr><td>21</td><td>2.99</td><td>4</td></tr><tr><td>22</td><td>2.99</td><td>4</td></tr><tr><td>23</td><td>2.99</td><td>5</td></tr><tr><td>24</td><td>2.99</td><td>5</td></tr><tr><td>25</td><td>2.99</td><td>5</td></tr><tr><td>26</td><td>2.99</td><td>6</td></tr><tr><td>27</td><td>2.99</td><td>6</td></tr><tr><td>28</td><td>2.99</td><td>6</td></tr><tr><td>29</td><td>2.99</td><td>6</td></tr><tr><td>30</td><td>2.99</td><td>6</td></tr><tr><td>31</td><td>2.99</td><td>6</td></tr><tr><td>32</td><td>4.99</td><td>7</td></tr><tr><td>33</td><td>4.99</td><td>7</td></tr><tr><td>34</td><td>4.99</td><td>7</td></tr><tr><td>35</td><td>4.99</td><td>7</td></tr><tr><td>36</td><td>4.99</td><td>7</td></tr><tr><td>37</td><td>4.99</td><td>8</td></tr><tr><td>38</td><td>4.99</td><td>8</td></tr><tr><td>39</td><td>4.99</td><td>8</td></tr><tr><td>40</td><td>4.99</td><td>8</td></tr><tr><td>41</td><td>2.99</td><td>9</td></tr><tr><td>42</td><td>2.99</td><td>9</td></tr><tr><td>43</td><td>2.99</td><td>9</td></tr><tr><td>44</td><td>2.99</td><td>9</td></tr><tr><td>45</td><td>2.99</td><td>9</td></tr><tr><td>46</td><td>4.99</td><td>10</td></tr><tr><td>47</td><td>4.99</td><td>10</td></tr><tr><td>48</td><td>4.99</td><td>10</td></tr><tr><td>49</td><td>4.99</td><td>10</td></tr><tr><td>50</td><td>4.99</td><td>10</td></tr><tr><td>51</td><td>4.99</td><td>10</td></tr><tr><td>52</td><td>4.99</td><td>10</td></tr><tr><td>53</td><td>0.99</td><td>11</td></tr><tr><td>54</td><td>0.99</td><td>11</td></tr><tr><td>55</td><td>0.99</td><td>11</td></tr><tr><td>56</td><td>0.99</td><td>11</td></tr><tr><td>57</td><td>0.99</td><td>11</td></tr><tr><td>58</td><td>0.99</td><td>11</td></tr><tr><td>59</td><td>0.99</td><td>11</td></tr><tr><td>60</td><td>0.99</td><td>12</td></tr><tr><td>61</td><td>0.99</td><td>12</td></tr><tr><td>62</td><td>0.99</td><td>12</td></tr><tr><td>63</td><td>0.99</td><td>12</td></tr><tr><td>64</td><td>0.99</td><td>12</td></tr><tr><td>65</td><td>0.99</td><td>12</td></tr><tr><td>66</td><td>0.99</td><td>12</td></tr><tr><td>67</td><td>4.99</td><td>13</td></tr><tr><td>68</td><td>4.99</td><td>13</td></tr><tr><td>69</td><td>4.99</td><td>13</td></tr><tr><td>70</td><td>4.99</td><td>13</td></tr><tr><td>71</td><td>2.99</td><td>15</td></tr><tr><td>72</td><td>2.99</td><td>15</td></tr><tr><td>73</td><td>2.99</td><td>15</td></tr><tr><td>74</td><td>2.99</td><td>15</td></tr><tr><td>75</td><td>2.99</td><td>15</td></tr><tr><td>76</td><td>2.99</td><td>15</td></tr><tr><td>77</td><td>2.99</td><td>16</td></tr><tr><td>78</td><td>2.99</td><td>16</td></tr><tr><td>79</td><td>2.99</td><td>16</td></tr><tr><td>80</td><td>2.99</td><td>16</td></tr><tr><td>81</td><td>0.99</td><td>17</td></tr><tr><td>82</td><td>0.99</td><td>17</td></tr><tr><td>83</td><td>0.99</td><td>17</td></tr><tr><td>84</td><td>0.99</td><td>17</td></tr><tr><td>85</td><td>0.99</td><td>17</td></tr><tr><td>86</td><td>0.99</td><td>17</td></tr><tr><td>87</td><td>0.99</td><td>18</td></tr><tr><td>88</td><td>0.99</td><td>18</td></tr><tr><td>89</td><td>0.99</td><td>18</td></tr><tr><td>90</td><td>0.99</td><td>18</td></tr><tr><td>91</td><td>0.99</td><td>18</td></tr><tr><td>92</td><td>0.99</td><td>18</td></tr><tr><td>93</td><td>0.99</td><td>19</td></tr><tr><td>94</td><td>0.99</td><td>19</td></tr><tr><td>95</td><td>0.99</td><td>19</td></tr><tr><td>96</td><td>0.99</td><td>19</td></tr><tr><td>97</td><td>0.99</td><td>19</td></tr><tr><td>98</td><td>0.99</td><td>19</td></tr><tr><td>99</td><td>4.99</td><td>20</td></tr><tr><td>100</td><td>4.99</td><td>20</td></tr><tr><td>101</td><td>4.99</td><td>20</td></tr><tr><td>102</td><td>4.99</td><td>21</td></tr><tr><td>103</td><td>4.99</td><td>21</td></tr><tr><td>104</td><td>4.99</td><td>21</td></tr><tr><td>105</td><td>4.99</td><td>21</td></tr><tr><td>106</td><td>4.99</td><td>21</td></tr><tr><td>107</td><td>4.99</td><td>21</td></tr><tr><td>108</td><td>2.99</td><td>22</td></tr><tr><td>109</td><td>2.99</td><td>22</td></tr><tr><td>110</td><td>2.99</td><td>22</td></tr><tr><td>111</td><td>2.99</td><td>22</td></tr><tr><td>112</td><td>2.99</td><td>22</td></tr><tr><td>113</td><td>2.99</td><td>22</td></tr><tr><td>114</td><td>2.99</td><td>22</td></tr><tr><td>115</td><td>0.99</td><td>23</td></tr><tr><td>116</td><td>0.99</td><td>23</td></tr><tr><td>117</td><td>0.99</td><td>23</td></tr><tr><td>118</td><td>0.99</td><td>23</td></tr><tr><td>119</td><td>0.99</td><td>23</td></tr><tr><td>120</td><td>2.99</td><td>24</td></tr><tr><td>121</td><td>2.99</td><td>24</td></tr><tr><td>122</td><td>2.99</td><td>24</td></tr><tr><td>123</td><td>2.99</td><td>24</td></tr><tr><td>124</td><td>2.99</td><td>25</td></tr><tr><td>125</td><td>2.99</td><td>25</td></tr><tr><td>126</td><td>2.99</td><td>25</td></tr><tr><td>127</td><td>2.99</td><td>25</td></tr><tr><td>128</td><td>2.99</td><td>25</td></tr><tr><td>129</td><td>2.99</td><td>25</td></tr><tr><td>130</td><td>0.99</td><td>26</td></tr><tr><td>131</td><td>0.99</td><td>26</td></tr><tr><td>132</td><td>0.99</td><td>26</td></tr><tr><td>133</td><td>0.99</td><td>26</td></tr><tr><td>134</td><td>0.99</td><td>26</td></tr><tr><td>135</td><td>0.99</td><td>27</td></tr><tr><td>136</td><td>0.99</td><td>27</td></tr><tr><td>137</td><td>0.99</td><td>27</td></tr><tr><td>138</td><td>0.99</td><td>27</td></tr><tr><td>139</td><td>4.99</td><td>28</td></tr><tr><td>140</td><td>4.99</td><td>28</td></tr><tr><td>141</td><td>4.99</td><td>28</td></tr><tr><td>142</td><td>2.99</td><td>29</td></tr><tr><td>143</td><td>2.99</td><td>29</td></tr><tr><td>144</td><td>2.99</td><td>30</td></tr><tr><td>145</td><td>2.99</td><td>30</td></tr><tr><td>146</td><td>4.99</td><td>31</td></tr><tr><td>147</td><td>4.99</td><td>31</td></tr><tr><td>148</td><td>4.99</td><td>31</td></tr><tr><td>149</td><td>4.99</td><td>31</td></tr><tr><td>150</td><td>4.99</td><td>31</td></tr><tr><td>151</td><td>4.99</td><td>31</td></tr><tr><td>152</td><td>4.99</td><td>31</td></tr><tr><td>153</td><td>4.99</td><td>31</td></tr><tr><td>154</td><td>4.99</td><td>32</td></tr><tr><td>155</td><td>4.99</td><td>32</td></tr><tr><td>156</td><td>0.99</td><td>34</td></tr><tr><td>157</td><td>0.99</td><td>34</td></tr><tr><td>158</td><td>0.99</td><td>34</td></tr><tr><td>159</td><td>0.99</td><td>34</td></tr><tr><td>160</td><td>2.99</td><td>35</td></tr><tr><td>161</td><td>2.99</td><td>35</td></tr><tr><td>162</td><td>2.99</td><td>35</td></tr><tr><td>163</td><td>2.99</td><td>35</td></tr><tr><td>164</td><td>2.99</td><td>35</td></tr><tr><td>165</td><td>2.99</td><td>35</td></tr><tr><td>166</td><td>2.99</td><td>35</td></tr><tr><td>167</td><td>2.99</td><td>37</td></tr><tr><td>168</td><td>2.99</td><td>37</td></tr><tr><td>169</td><td>2.99</td><td>37</td></tr><tr><td>170</td><td>2.99</td><td>37</td></tr><tr><td>171</td><td>2.99</td><td>37</td></tr><tr><td>172</td><td>2.99</td><td>37</td></tr><tr><td>173</td><td>2.99</td><td>37</td></tr><tr><td>174</td><td>0.99</td><td>39</td></tr><tr><td>175</td><td>0.99</td><td>39</td></tr><tr><td>176</td><td>0.99</td><td>39</td></tr><tr><td>177</td><td>0.99</td><td>39</td></tr><tr><td>178</td><td>0.99</td><td>39</td></tr><tr><td>179</td><td>0.99</td><td>39</td></tr><tr><td>180</td><td>0.99</td><td>39</td></tr><tr><td>181</td><td>0.99</td><td>40</td></tr><tr><td>182</td><td>0.99</td><td>40</td></tr><tr><td>183</td><td>0.99</td><td>40</td></tr><tr><td>184</td><td>0.99</td><td>40</td></tr><tr><td>185</td><td>2.99</td><td>42</td></tr><tr><td>186</td><td>2.99</td><td>42</td></tr><tr><td>187</td><td>2.99</td><td>42</td></tr><tr><td>188</td><td>2.99</td><td>42</td></tr><tr><td>189</td><td>2.99</td><td>43</td></tr><tr><td>190</td><td>2.99</td><td>43</td></tr><tr><td>191</td><td>2.99</td><td>43</td></tr><tr><td>192</td><td>2.99</td><td>43</td></tr><tr><td>193</td><td>2.99</td><td>43</td></tr><tr><td>194</td><td>2.99</td><td>43</td></tr><tr><td>195</td><td>2.99</td><td>43</td></tr><tr><td>196</td><td>4.99</td><td>44</td></tr><tr><td>197</td><td>4.99</td><td>44</td></tr><tr><td>198</td><td>4.99</td><td>44</td></tr><tr><td>199</td><td>4.99</td><td>44</td></tr><tr><td>200</td><td>4.99</td><td>44</td></tr><tr><td>201</td><td>4.99</td><td>45</td></tr><tr><td>202</td><td>4.99</td><td>45</td></tr><tr><td>203</td><td>4.99</td><td>45</td></tr><tr><td>204</td><td>4.99</td><td>45</td></tr><tr><td>205</td><td>4.99</td><td>45</td></tr><tr><td>206</td><td>4.99</td><td>45</td></tr><tr><td>207</td><td>4.99</td><td>46</td></tr><tr><td>208</td><td>4.99</td><td>46</td></tr><tr><td>209</td><td>4.99</td><td>46</td></tr><tr><td>210</td><td>4.99</td><td>47</td></tr><tr><td>211</td><td>4.99</td><td>47</td></tr><tr><td>212</td><td>4.99</td><td>48</td></tr><tr><td>213</td><td>4.99</td><td>48</td></tr><tr><td>214</td><td>4.99</td><td>48</td></tr><tr><td>215</td><td>4.99</td><td>48</td></tr><tr><td>216</td><td>2.99</td><td>49</td></tr><tr><td>217</td><td>2.99</td><td>49</td></tr><tr><td>218</td><td>2.99</td><td>49</td></tr><tr><td>219</td><td>2.99</td><td>49</td></tr><tr><td>220</td><td>2.99</td><td>49</td></tr><tr><td>221</td><td>2.99</td><td>49</td></tr><tr><td>222</td><td>2.99</td><td>50</td></tr><tr><td>223</td><td>2.99</td><td>50</td></tr><tr><td>224</td><td>2.99</td><td>50</td></tr><tr><td>225</td><td>2.99</td><td>50</td></tr><tr><td>226</td><td>2.99</td><td>50</td></tr><tr><td>227</td><td>2.99</td><td>51</td></tr><tr><td>228</td><td>2.99</td><td>51</td></tr><tr><td>229</td><td>2.99</td><td>51</td></tr><tr><td>230</td><td>2.99</td><td>51</td></tr><tr><td>231</td><td>2.99</td><td>51</td></tr><tr><td>232</td><td>2.99</td><td>51</td></tr><tr><td>233</td><td>0.99</td><td>52</td></tr><tr><td>234</td><td>0.99</td><td>52</td></tr><tr><td>235</td><td>2.99</td><td>53</td></tr><tr><td>236</td><td>2.99</td><td>53</td></tr><tr><td>237</td><td>0.99</td><td>54</td></tr><tr><td>238</td><td>0.99</td><td>54</td></tr><tr><td>239</td><td>0.99</td><td>54</td></tr><tr><td>240</td><td>0.99</td><td>54</td></tr><tr><td>241</td><td>0.99</td><td>54</td></tr><tr><td>242</td><td>2.99</td><td>55</td></tr><tr><td>243</td><td>2.99</td><td>55</td></tr><tr><td>244</td><td>2.99</td><td>55</td></tr><tr><td>245</td><td>2.99</td><td>55</td></tr><tr><td>246</td><td>2.99</td><td>55</td></tr><tr><td>247</td><td>2.99</td><td>55</td></tr><tr><td>248</td><td>2.99</td><td>56</td></tr><tr><td>249</td><td>2.99</td><td>56</td></tr><tr><td>250</td><td>2.99</td><td>56</td></tr><tr><td>251</td><td>2.99</td><td>56</td></tr><tr><td>252</td><td>2.99</td><td>56</td></tr><tr><td>253</td><td>2.99</td><td>57</td></tr><tr><td>254</td><td>2.99</td><td>57</td></tr><tr><td>255</td><td>2.99</td><td>57</td></tr><tr><td>256</td><td>2.99</td><td>57</td></tr><tr><td>257</td><td>2.99</td><td>57</td></tr><tr><td>258</td><td>2.99</td><td>57</td></tr><tr><td>259</td><td>2.99</td><td>57</td></tr><tr><td>260</td><td>2.99</td><td>58</td></tr><tr><td>261</td><td>2.99</td><td>58</td></tr><tr><td>262</td><td>2.99</td><td>58</td></tr><tr><td>263</td><td>2.99</td><td>58</td></tr><tr><td>264</td><td>2.99</td><td>59</td></tr><tr><td>265</td><td>2.99</td><td>59</td></tr><tr><td>266</td><td>2.99</td><td>59</td></tr><tr><td>267</td><td>2.99</td><td>59</td></tr><tr><td>268</td><td>2.99</td><td>59</td></tr><tr><td>269</td><td>4.99</td><td>60</td></tr><tr><td>270</td><td>4.99</td><td>60</td></tr><tr><td>271</td><td>4.99</td><td>60</td></tr><tr><td>272</td><td>4.99</td><td>61</td></tr><tr><td>273</td><td>4.99</td><td>61</td></tr><tr><td>274</td><td>4.99</td><td>61</td></tr><tr><td>275</td><td>4.99</td><td>61</td></tr><tr><td>276</td><td>4.99</td><td>61</td></tr><tr><td>277</td><td>4.99</td><td>61</td></tr><tr><td>278</td><td>2.99</td><td>62</td></tr><tr><td>279</td><td>2.99</td><td>62</td></tr><tr><td>280</td><td>0.99</td><td>63</td></tr><tr><td>281</td><td>0.99</td><td>63</td></tr><tr><td>282</td><td>0.99</td><td>63</td></tr><tr><td>283</td><td>0.99</td><td>63</td></tr><tr><td>284</td><td>0.99</td><td>64</td></tr><tr><td>285</td><td>0.99</td><td>64</td></tr><tr><td>286</td><td>0.99</td><td>64</td></tr><tr><td>287</td><td>4.99</td><td>65</td></tr><tr><td>288</td><td>4.99</td><td>65</td></tr><tr><td>289</td><td>4.99</td><td>65</td></tr><tr><td>290</td><td>4.99</td><td>65</td></tr><tr><td>291</td><td>0.99</td><td>66</td></tr><tr><td>292</td><td>0.99</td><td>66</td></tr><tr><td>293</td><td>0.99</td><td>66</td></tr><tr><td>294</td><td>2.99</td><td>67</td></tr><tr><td>295</td><td>2.99</td><td>67</td></tr><tr><td>296</td><td>2.99</td><td>67</td></tr><tr><td>297</td><td>2.99</td><td>67</td></tr><tr><td>298</td><td>2.99</td><td>67</td></tr><tr><td>299</td><td>2.99</td><td>67</td></tr><tr><td>300</td><td>4.99</td><td>68</td></tr><tr><td>301</td><td>4.99</td><td>68</td></tr><tr><td>302</td><td>4.99</td><td>68</td></tr><tr><td>303</td><td>4.99</td><td>68</td></tr><tr><td>304</td><td>2.99</td><td>69</td></tr><tr><td>305</td><td>2.99</td><td>69</td></tr><tr><td>306</td><td>2.99</td><td>69</td></tr><tr><td>307</td><td>2.99</td><td>69</td></tr><tr><td>308</td><td>2.99</td><td>69</td></tr><tr><td>309</td><td>2.99</td><td>69</td></tr><tr><td>310</td><td>2.99</td><td>69</td></tr><tr><td>311</td><td>2.99</td><td>69</td></tr><tr><td>312</td><td>4.99</td><td>70</td></tr><tr><td>313</td><td>4.99</td><td>70</td></tr><tr><td>314</td><td>4.99</td><td>70</td></tr><tr><td>315</td><td>4.99</td><td>70</td></tr><tr><td>316</td><td>4.99</td><td>71</td></tr><tr><td>317</td><td>4.99</td><td>71</td></tr><tr><td>318</td><td>4.99</td><td>71</td></tr><tr><td>319</td><td>4.99</td><td>71</td></tr><tr><td>320</td><td>2.99</td><td>72</td></tr><tr><td>321</td><td>2.99</td><td>72</td></tr><tr><td>322</td><td>2.99</td><td>72</td></tr><tr><td>323</td><td>2.99</td><td>72</td></tr><tr><td>324</td><td>2.99</td><td>72</td></tr><tr><td>325</td><td>2.99</td><td>72</td></tr><tr><td>326</td><td>2.99</td><td>73</td></tr><tr><td>327</td><td>2.99</td><td>73</td></tr><tr><td>328</td><td>2.99</td><td>73</td></tr><tr><td>329</td><td>2.99</td><td>73</td></tr><tr><td>330</td><td>2.99</td><td>73</td></tr><tr><td>331</td><td>2.99</td><td>73</td></tr><tr><td>332</td><td>2.99</td><td>73</td></tr><tr><td>333</td><td>2.99</td><td>73</td></tr><tr><td>334</td><td>4.99</td><td>74</td></tr><tr><td>335</td><td>4.99</td><td>74</td></tr><tr><td>336</td><td>4.99</td><td>74</td></tr><tr><td>337</td><td>4.99</td><td>74</td></tr><tr><td>338</td><td>4.99</td><td>74</td></tr><tr><td>339</td><td>4.99</td><td>75</td></tr><tr><td>340</td><td>4.99</td><td>75</td></tr><tr><td>341</td><td>4.99</td><td>75</td></tr><tr><td>342</td><td>0.99</td><td>76</td></tr><tr><td>343</td><td>0.99</td><td>76</td></tr><tr><td>344</td><td>0.99</td><td>76</td></tr><tr><td>345</td><td>4.99</td><td>77</td></tr><tr><td>346</td><td>4.99</td><td>77</td></tr><tr><td>347</td><td>4.99</td><td>77</td></tr><tr><td>348</td><td>4.99</td><td>77</td></tr><tr><td>349</td><td>4.99</td><td>77</td></tr><tr><td>350</td><td>4.99</td><td>77</td></tr><tr><td>351</td><td>2.99</td><td>78</td></tr><tr><td>352</td><td>2.99</td><td>78</td></tr><tr><td>353</td><td>2.99</td><td>78</td></tr><tr><td>354</td><td>2.99</td><td>78</td></tr><tr><td>355</td><td>2.99</td><td>78</td></tr><tr><td>356</td><td>2.99</td><td>78</td></tr><tr><td>357</td><td>2.99</td><td>78</td></tr><tr><td>358</td><td>0.99</td><td>79</td></tr><tr><td>359</td><td>0.99</td><td>79</td></tr><tr><td>360</td><td>0.99</td><td>79</td></tr><tr><td>361</td><td>0.99</td><td>79</td></tr><tr><td>362</td><td>0.99</td><td>79</td></tr><tr><td>363</td><td>0.99</td><td>79</td></tr><tr><td>364</td><td>2.99</td><td>80</td></tr><tr><td>365</td><td>2.99</td><td>80</td></tr><tr><td>366</td><td>2.99</td><td>80</td></tr><tr><td>367</td><td>2.99</td><td>80</td></tr><tr><td>368</td><td>4.99</td><td>81</td></tr><tr><td>369</td><td>4.99</td><td>81</td></tr><tr><td>370</td><td>4.99</td><td>81</td></tr><tr><td>371</td><td>4.99</td><td>81</td></tr><tr><td>372</td><td>0.99</td><td>82</td></tr><tr><td>373</td><td>0.99</td><td>82</td></tr><tr><td>374</td><td>2.99</td><td>83</td></tr><tr><td>375</td><td>2.99</td><td>83</td></tr><tr><td>376</td><td>2.99</td><td>83</td></tr><tr><td>377</td><td>2.99</td><td>83</td></tr><tr><td>378</td><td>2.99</td><td>83</td></tr><tr><td>379</td><td>4.99</td><td>84</td></tr><tr><td>380</td><td>4.99</td><td>84</td></tr><tr><td>381</td><td>4.99</td><td>84</td></tr><tr><td>382</td><td>4.99</td><td>84</td></tr><tr><td>383</td><td>0.99</td><td>85</td></tr><tr><td>384</td><td>0.99</td><td>85</td></tr><tr><td>385</td><td>0.99</td><td>85</td></tr><tr><td>386</td><td>0.99</td><td>85</td></tr><tr><td>387</td><td>4.99</td><td>86</td></tr><tr><td>388</td><td>4.99</td><td>86</td></tr><tr><td>389</td><td>4.99</td><td>86</td></tr><tr><td>390</td><td>4.99</td><td>86</td></tr><tr><td>391</td><td>4.99</td><td>86</td></tr><tr><td>392</td><td>4.99</td><td>86</td></tr><tr><td>393</td><td>4.99</td><td>86</td></tr><tr><td>394</td><td>4.99</td><td>86</td></tr><tr><td>395</td><td>4.99</td><td>88</td></tr><tr><td>396</td><td>4.99</td><td>88</td></tr><tr><td>397</td><td>4.99</td><td>88</td></tr><tr><td>398</td><td>4.99</td><td>88</td></tr><tr><td>399</td><td>0.99</td><td>89</td></tr><tr><td>400</td><td>0.99</td><td>89</td></tr><tr><td>401</td><td>0.99</td><td>89</td></tr><tr><td>402</td><td>0.99</td><td>89</td></tr><tr><td>403</td><td>0.99</td><td>89</td></tr><tr><td>404</td><td>0.99</td><td>89</td></tr><tr><td>405</td><td>0.99</td><td>90</td></tr><tr><td>406</td><td>0.99</td><td>90</td></tr><tr><td>407</td><td>0.99</td><td>90</td></tr><tr><td>408</td><td>0.99</td><td>90</td></tr><tr><td>409</td><td>0.99</td><td>90</td></tr><tr><td>410</td><td>0.99</td><td>90</td></tr><tr><td>411</td><td>0.99</td><td>91</td></tr><tr><td>412</td><td>0.99</td><td>91</td></tr><tr><td>413</td><td>0.99</td><td>91</td></tr><tr><td>414</td><td>0.99</td><td>91</td></tr><tr><td>415</td><td>0.99</td><td>91</td></tr><tr><td>416</td><td>0.99</td><td>91</td></tr><tr><td>417</td><td>0.99</td><td>91</td></tr><tr><td>418</td><td>0.99</td><td>91</td></tr><tr><td>419</td><td>4.99</td><td>92</td></tr><tr><td>420</td><td>4.99</td><td>92</td></tr><tr><td>421</td><td>4.99</td><td>92</td></tr><tr><td>422</td><td>4.99</td><td>92</td></tr><tr><td>423</td><td>4.99</td><td>93</td></tr><tr><td>424</td><td>4.99</td><td>93</td></tr><tr><td>425</td><td>4.99</td><td>93</td></tr><tr><td>426</td><td>2.99</td><td>94</td></tr><tr><td>427</td><td>2.99</td><td>94</td></tr><tr><td>428</td><td>4.99</td><td>95</td></tr><tr><td>429</td><td>4.99</td><td>95</td></tr><tr><td>430</td><td>4.99</td><td>95</td></tr><tr><td>431</td><td>4.99</td><td>95</td></tr><tr><td>432</td><td>4.99</td><td>95</td></tr><tr><td>433</td><td>2.99</td><td>96</td></tr><tr><td>434</td><td>2.99</td><td>96</td></tr><tr><td>435</td><td>2.99</td><td>96</td></tr><tr><td>436</td><td>0.99</td><td>97</td></tr><tr><td>437</td><td>0.99</td><td>97</td></tr><tr><td>438</td><td>0.99</td><td>97</td></tr><tr><td>439</td><td>0.99</td><td>97</td></tr><tr><td>440</td><td>0.99</td><td>97</td></tr><tr><td>441</td><td>0.99</td><td>97</td></tr><tr><td>442</td><td>4.99</td><td>98</td></tr><tr><td>443</td><td>4.99</td><td>98</td></tr><tr><td>444</td><td>4.99</td><td>98</td></tr><tr><td>445</td><td>2.99</td><td>99</td></tr><tr><td>446</td><td>2.99</td><td>99</td></tr><tr><td>447</td><td>2.99</td><td>99</td></tr><tr><td>448</td><td>2.99</td><td>99</td></tr><tr><td>449</td><td>2.99</td><td>99</td></tr><tr><td>450</td><td>2.99</td><td>99</td></tr><tr><td>451</td><td>4.99</td><td>100</td></tr><tr><td>452</td><td>4.99</td><td>100</td></tr><tr><td>453</td><td>4.99</td><td>100</td></tr><tr><td>454</td><td>4.99</td><td>100</td></tr><tr><td>455</td><td>4.99</td><td>100</td></tr><tr><td>456</td><td>4.99</td><td>100</td></tr><tr><td>457</td><td>0.99</td><td>101</td></tr><tr><td>458</td><td>0.99</td><td>101</td></tr><tr><td>459</td><td>0.99</td><td>101</td></tr><tr><td>460</td><td>0.99</td><td>101</td></tr><tr><td>461</td><td>0.99</td><td>101</td></tr><tr><td>462</td><td>0.99</td><td>101</td></tr><tr><td>463</td><td>4.99</td><td>102</td></tr><tr><td>464</td><td>4.99</td><td>102</td></tr><tr><td>465</td><td>4.99</td><td>103</td></tr><tr><td>466</td><td>4.99</td><td>103</td></tr><tr><td>467</td><td>4.99</td><td>103</td></tr><tr><td>468</td><td>4.99</td><td>103</td></tr><tr><td>469</td><td>4.99</td><td>103</td></tr><tr><td>470</td><td>4.99</td><td>103</td></tr><tr><td>471</td><td>4.99</td><td>103</td></tr><tr><td>472</td><td>4.99</td><td>103</td></tr><tr><td>473</td><td>2.99</td><td>104</td></tr><tr><td>474</td><td>2.99</td><td>104</td></tr><tr><td>475</td><td>2.99</td><td>104</td></tr><tr><td>476</td><td>0.99</td><td>105</td></tr><tr><td>477</td><td>0.99</td><td>105</td></tr><tr><td>478</td><td>0.99</td><td>105</td></tr><tr><td>479</td><td>0.99</td><td>105</td></tr><tr><td>480</td><td>0.99</td><td>105</td></tr><tr><td>481</td><td>2.99</td><td>106</td></tr><tr><td>482</td><td>2.99</td><td>106</td></tr><tr><td>483</td><td>2.99</td><td>107</td></tr><tr><td>484</td><td>2.99</td><td>107</td></tr><tr><td>485</td><td>0.99</td><td>109</td></tr><tr><td>486</td><td>0.99</td><td>109</td></tr><tr><td>487</td><td>0.99</td><td>109</td></tr><tr><td>488</td><td>0.99</td><td>109</td></tr><tr><td>489</td><td>0.99</td><td>109</td></tr><tr><td>490</td><td>0.99</td><td>109</td></tr><tr><td>491</td><td>0.99</td><td>109</td></tr><tr><td>492</td><td>0.99</td><td>109</td></tr><tr><td>493</td><td>0.99</td><td>110</td></tr><tr><td>494</td><td>0.99</td><td>110</td></tr><tr><td>495</td><td>0.99</td><td>110</td></tr><tr><td>496</td><td>0.99</td><td>110</td></tr><tr><td>497</td><td>0.99</td><td>111</td></tr><tr><td>498</td><td>0.99</td><td>111</td></tr><tr><td>499</td><td>0.99</td><td>111</td></tr><tr><td>500</td><td>0.99</td><td>111</td></tr><tr><td>501</td><td>4.99</td><td>112</td></tr><tr><td>502</td><td>4.99</td><td>112</td></tr><tr><td>503</td><td>4.99</td><td>112</td></tr><tr><td>504</td><td>4.99</td><td>112</td></tr><tr><td>505</td><td>4.99</td><td>112</td></tr><tr><td>506</td><td>4.99</td><td>112</td></tr><tr><td>507</td><td>4.99</td><td>112</td></tr><tr><td>508</td><td>4.99</td><td>113</td></tr><tr><td>509</td><td>4.99</td><td>113</td></tr><tr><td>510</td><td>4.99</td><td>113</td></tr><tr><td>511</td><td>4.99</td><td>113</td></tr><tr><td>512</td><td>0.99</td><td>114</td></tr><tr><td>513</td><td>0.99</td><td>114</td></tr><tr><td>514</td><td>0.99</td><td>114</td></tr><tr><td>515</td><td>0.99</td><td>114</td></tr><tr><td>516</td><td>0.99</td><td>114</td></tr><tr><td>517</td><td>0.99</td><td>114</td></tr><tr><td>518</td><td>0.99</td><td>114</td></tr><tr><td>519</td><td>2.99</td><td>115</td></tr><tr><td>520</td><td>2.99</td><td>115</td></tr><tr><td>521</td><td>2.99</td><td>115</td></tr><tr><td>522</td><td>2.99</td><td>115</td></tr><tr><td>523</td><td>2.99</td><td>115</td></tr><tr><td>524</td><td>2.99</td><td>115</td></tr><tr><td>525</td><td>2.99</td><td>115</td></tr><tr><td>526</td><td>2.99</td><td>116</td></tr><tr><td>527</td><td>2.99</td><td>116</td></tr><tr><td>528</td><td>2.99</td><td>116</td></tr><tr><td>529</td><td>2.99</td><td>116</td></tr><tr><td>530</td><td>2.99</td><td>116</td></tr><tr><td>531</td><td>2.99</td><td>116</td></tr><tr><td>532</td><td>4.99</td><td>117</td></tr><tr><td>533</td><td>4.99</td><td>117</td></tr><tr><td>534</td><td>4.99</td><td>117</td></tr><tr><td>535</td><td>4.99</td><td>117</td></tr><tr><td>536</td><td>4.99</td><td>117</td></tr><tr><td>537</td><td>4.99</td><td>117</td></tr><tr><td>538</td><td>0.99</td><td>118</td></tr><tr><td>539</td><td>0.99</td><td>118</td></tr><tr><td>540</td><td>0.99</td><td>118</td></tr><tr><td>541</td><td>0.99</td><td>118</td></tr><tr><td>542</td><td>0.99</td><td>118</td></tr><tr><td>543</td><td>0.99</td><td>118</td></tr><tr><td>544</td><td>0.99</td><td>119</td></tr><tr><td>545</td><td>0.99</td><td>119</td></tr><tr><td>546</td><td>0.99</td><td>119</td></tr><tr><td>547</td><td>0.99</td><td>119</td></tr><tr><td>548</td><td>0.99</td><td>119</td></tr><tr><td>549</td><td>0.99</td><td>119</td></tr><tr><td>550</td><td>0.99</td><td>119</td></tr><tr><td>551</td><td>4.99</td><td>120</td></tr><tr><td>552</td><td>4.99</td><td>120</td></tr><tr><td>553</td><td>4.99</td><td>120</td></tr><tr><td>554</td><td>2.99</td><td>121</td></tr><tr><td>555</td><td>2.99</td><td>121</td></tr><tr><td>556</td><td>2.99</td><td>121</td></tr><tr><td>557</td><td>2.99</td><td>121</td></tr><tr><td>558</td><td>2.99</td><td>121</td></tr><tr><td>559</td><td>2.99</td><td>121</td></tr><tr><td>560</td><td>0.99</td><td>122</td></tr><tr><td>561</td><td>0.99</td><td>122</td></tr><tr><td>562</td><td>0.99</td><td>122</td></tr><tr><td>563</td><td>0.99</td><td>122</td></tr><tr><td>564</td><td>0.99</td><td>122</td></tr><tr><td>565</td><td>0.99</td><td>122</td></tr><tr><td>566</td><td>0.99</td><td>122</td></tr><tr><td>567</td><td>4.99</td><td>123</td></tr><tr><td>568</td><td>4.99</td><td>123</td></tr><tr><td>569</td><td>4.99</td><td>123</td></tr><tr><td>570</td><td>4.99</td><td>123</td></tr><tr><td>571</td><td>4.99</td><td>123</td></tr><tr><td>572</td><td>4.99</td><td>124</td></tr><tr><td>573</td><td>4.99</td><td>124</td></tr><tr><td>574</td><td>4.99</td><td>124</td></tr><tr><td>575</td><td>2.99</td><td>125</td></tr><tr><td>576</td><td>2.99</td><td>125</td></tr><tr><td>577</td><td>4.99</td><td>126</td></tr><tr><td>578</td><td>4.99</td><td>126</td></tr><tr><td>579</td><td>4.99</td><td>126</td></tr><tr><td>580</td><td>4.99</td><td>127</td></tr><tr><td>581</td><td>4.99</td><td>127</td></tr><tr><td>582</td><td>4.99</td><td>127</td></tr><tr><td>583</td><td>4.99</td><td>127</td></tr><tr><td>584</td><td>4.99</td><td>127</td></tr><tr><td>585</td><td>4.99</td><td>127</td></tr><tr><td>586</td><td>4.99</td><td>127</td></tr><tr><td>587</td><td>4.99</td><td>127</td></tr><tr><td>588</td><td>2.99</td><td>129</td></tr><tr><td>589</td><td>2.99</td><td>129</td></tr><tr><td>590</td><td>2.99</td><td>129</td></tr><tr><td>591</td><td>2.99</td><td>129</td></tr><tr><td>592</td><td>2.99</td><td>129</td></tr><tr><td>593</td><td>2.99</td><td>129</td></tr><tr><td>594</td><td>0.99</td><td>130</td></tr><tr><td>595</td><td>0.99</td><td>130</td></tr><tr><td>596</td><td>0.99</td><td>130</td></tr><tr><td>597</td><td>0.99</td><td>130</td></tr><tr><td>598</td><td>0.99</td><td>130</td></tr><tr><td>599</td><td>0.99</td><td>130</td></tr><tr><td>600</td><td>4.99</td><td>131</td></tr><tr><td>601</td><td>4.99</td><td>131</td></tr><tr><td>602</td><td>4.99</td><td>131</td></tr><tr><td>603</td><td>4.99</td><td>131</td></tr><tr><td>604</td><td>4.99</td><td>131</td></tr><tr><td>605</td><td>4.99</td><td>131</td></tr><tr><td>606</td><td>0.99</td><td>132</td></tr><tr><td>607</td><td>0.99</td><td>132</td></tr><tr><td>608</td><td>0.99</td><td>132</td></tr><tr><td>609</td><td>0.99</td><td>132</td></tr><tr><td>610</td><td>0.99</td><td>132</td></tr><tr><td>611</td><td>0.99</td><td>132</td></tr><tr><td>612</td><td>4.99</td><td>133</td></tr><tr><td>613</td><td>4.99</td><td>133</td></tr><tr><td>614</td><td>4.99</td><td>133</td></tr><tr><td>615</td><td>4.99</td><td>133</td></tr><tr><td>616</td><td>4.99</td><td>134</td></tr><tr><td>617</td><td>4.99</td><td>134</td></tr><tr><td>618</td><td>4.99</td><td>134</td></tr><tr><td>619</td><td>2.99</td><td>135</td></tr><tr><td>620</td><td>2.99</td><td>135</td></tr><tr><td>621</td><td>2.99</td><td>135</td></tr><tr><td>622</td><td>2.99</td><td>135</td></tr><tr><td>623</td><td>2.99</td><td>135</td></tr><tr><td>624</td><td>2.99</td><td>135</td></tr><tr><td>625</td><td>2.99</td><td>135</td></tr><tr><td>626</td><td>2.99</td><td>136</td></tr><tr><td>627</td><td>2.99</td><td>136</td></tr><tr><td>628</td><td>2.99</td><td>136</td></tr><tr><td>629</td><td>2.99</td><td>137</td></tr><tr><td>630</td><td>2.99</td><td>137</td></tr><tr><td>631</td><td>2.99</td><td>137</td></tr><tr><td>632</td><td>2.99</td><td>137</td></tr><tr><td>633</td><td>2.99</td><td>138</td></tr><tr><td>634</td><td>2.99</td><td>138</td></tr><tr><td>635</td><td>2.99</td><td>138</td></tr><tr><td>636</td><td>2.99</td><td>138</td></tr><tr><td>637</td><td>2.99</td><td>138</td></tr><tr><td>638</td><td>4.99</td><td>139</td></tr><tr><td>639</td><td>4.99</td><td>139</td></tr><tr><td>640</td><td>4.99</td><td>139</td></tr><tr><td>641</td><td>4.99</td><td>139</td></tr><tr><td>642</td><td>4.99</td><td>139</td></tr><tr><td>643</td><td>4.99</td><td>139</td></tr><tr><td>644</td><td>0.99</td><td>140</td></tr><tr><td>645</td><td>0.99</td><td>140</td></tr><tr><td>646</td><td>0.99</td><td>140</td></tr><tr><td>647</td><td>0.99</td><td>140</td></tr><tr><td>648</td><td>0.99</td><td>140</td></tr><tr><td>649</td><td>4.99</td><td>141</td></tr><tr><td>650</td><td>4.99</td><td>141</td></tr><tr><td>651</td><td>4.99</td><td>141</td></tr><tr><td>652</td><td>4.99</td><td>141</td></tr><tr><td>653</td><td>4.99</td><td>141</td></tr><tr><td>654</td><td>0.99</td><td>142</td></tr><tr><td>655</td><td>0.99</td><td>142</td></tr><tr><td>656</td><td>0.99</td><td>142</td></tr><tr><td>657</td><td>0.99</td><td>142</td></tr><tr><td>658</td><td>0.99</td><td>142</td></tr><tr><td>659</td><td>0.99</td><td>143</td></tr><tr><td>660</td><td>0.99</td><td>143</td></tr><tr><td>661</td><td>0.99</td><td>143</td></tr><tr><td>662</td><td>0.99</td><td>143</td></tr><tr><td>663</td><td>0.99</td><td>143</td></tr><tr><td>664</td><td>0.99</td><td>143</td></tr><tr><td>665</td><td>0.99</td><td>143</td></tr><tr><td>666</td><td>4.99</td><td>145</td></tr><tr><td>667</td><td>4.99</td><td>145</td></tr><tr><td>668</td><td>4.99</td><td>145</td></tr><tr><td>669</td><td>2.99</td><td>146</td></tr><tr><td>670</td><td>2.99</td><td>146</td></tr><tr><td>671</td><td>2.99</td><td>146</td></tr><tr><td>672</td><td>0.99</td><td>147</td></tr><tr><td>673</td><td>0.99</td><td>147</td></tr><tr><td>674</td><td>0.99</td><td>147</td></tr><tr><td>675</td><td>0.99</td><td>147</td></tr><tr><td>676</td><td>0.99</td><td>147</td></tr><tr><td>677</td><td>0.99</td><td>147</td></tr><tr><td>678</td><td>0.99</td><td>149</td></tr><tr><td>679</td><td>0.99</td><td>149</td></tr><tr><td>680</td><td>0.99</td><td>149</td></tr><tr><td>681</td><td>0.99</td><td>149</td></tr><tr><td>682</td><td>0.99</td><td>149</td></tr><tr><td>683</td><td>0.99</td><td>149</td></tr><tr><td>684</td><td>2.99</td><td>150</td></tr><tr><td>685</td><td>2.99</td><td>150</td></tr><tr><td>686</td><td>2.99</td><td>150</td></tr><tr><td>687</td><td>2.99</td><td>150</td></tr><tr><td>688</td><td>2.99</td><td>150</td></tr><tr><td>689</td><td>2.99</td><td>150</td></tr><tr><td>690</td><td>4.99</td><td>151</td></tr><tr><td>691</td><td>4.99</td><td>151</td></tr><tr><td>692</td><td>4.99</td><td>151</td></tr><tr><td>693</td><td>4.99</td><td>151</td></tr><tr><td>694</td><td>2.99</td><td>152</td></tr><tr><td>695</td><td>2.99</td><td>152</td></tr><tr><td>696</td><td>2.99</td><td>152</td></tr><tr><td>697</td><td>2.99</td><td>152</td></tr><tr><td>698</td><td>0.99</td><td>153</td></tr><tr><td>699</td><td>0.99</td><td>153</td></tr><tr><td>700</td><td>0.99</td><td>153</td></tr><tr><td>701</td><td>0.99</td><td>153</td></tr><tr><td>702</td><td>2.99</td><td>154</td></tr><tr><td>703</td><td>2.99</td><td>154</td></tr><tr><td>704</td><td>2.99</td><td>154</td></tr><tr><td>705</td><td>2.99</td><td>154</td></tr><tr><td>706</td><td>2.99</td><td>154</td></tr><tr><td>707</td><td>2.99</td><td>154</td></tr><tr><td>708</td><td>2.99</td><td>154</td></tr><tr><td>709</td><td>0.99</td><td>155</td></tr><tr><td>710</td><td>0.99</td><td>155</td></tr><tr><td>711</td><td>0.99</td><td>155</td></tr><tr><td>712</td><td>0.99</td><td>155</td></tr><tr><td>713</td><td>0.99</td><td>155</td></tr><tr><td>714</td><td>4.99</td><td>156</td></tr><tr><td>715</td><td>4.99</td><td>156</td></tr><tr><td>716</td><td>0.99</td><td>157</td></tr><tr><td>717</td><td>0.99</td><td>157</td></tr><tr><td>718</td><td>0.99</td><td>157</td></tr><tr><td>719</td><td>2.99</td><td>158</td></tr><tr><td>720</td><td>2.99</td><td>158</td></tr><tr><td>721</td><td>2.99</td><td>158</td></tr><tr><td>722</td><td>2.99</td><td>158</td></tr><tr><td>723</td><td>2.99</td><td>158</td></tr><tr><td>724</td><td>4.99</td><td>159</td></tr><tr><td>725</td><td>4.99</td><td>159</td></tr><tr><td>726</td><td>4.99</td><td>159</td></tr><tr><td>727</td><td>4.99</td><td>159</td></tr><tr><td>728</td><td>4.99</td><td>159</td></tr><tr><td>729</td><td>4.99</td><td>159</td></tr><tr><td>730</td><td>4.99</td><td>159</td></tr><tr><td>731</td><td>0.99</td><td>160</td></tr><tr><td>732</td><td>0.99</td><td>160</td></tr><tr><td>733</td><td>0.99</td><td>160</td></tr><tr><td>734</td><td>0.99</td><td>160</td></tr><tr><td>735</td><td>0.99</td><td>160</td></tr><tr><td>736</td><td>4.99</td><td>161</td></tr><tr><td>737</td><td>4.99</td><td>161</td></tr><tr><td>738</td><td>2.99</td><td>162</td></tr><tr><td>739</td><td>2.99</td><td>162</td></tr><tr><td>740</td><td>2.99</td><td>162</td></tr><tr><td>741</td><td>2.99</td><td>162</td></tr><tr><td>742</td><td>2.99</td><td>162</td></tr><tr><td>743</td><td>2.99</td><td>162</td></tr><tr><td>744</td><td>2.99</td><td>162</td></tr><tr><td>745</td><td>0.99</td><td>163</td></tr><tr><td>746</td><td>0.99</td><td>163</td></tr><tr><td>747</td><td>0.99</td><td>163</td></tr><tr><td>748</td><td>0.99</td><td>164</td></tr><tr><td>749</td><td>0.99</td><td>164</td></tr><tr><td>750</td><td>0.99</td><td>164</td></tr><tr><td>751</td><td>0.99</td><td>164</td></tr><tr><td>752</td><td>0.99</td><td>164</td></tr><tr><td>753</td><td>4.99</td><td>165</td></tr><tr><td>754</td><td>4.99</td><td>165</td></tr><tr><td>755</td><td>4.99</td><td>165</td></tr><tr><td>756</td><td>4.99</td><td>165</td></tr><tr><td>757</td><td>4.99</td><td>165</td></tr><tr><td>758</td><td>2.99</td><td>166</td></tr><tr><td>759</td><td>2.99</td><td>166</td></tr><tr><td>760</td><td>2.99</td><td>166</td></tr><tr><td>761</td><td>2.99</td><td>166</td></tr><tr><td>762</td><td>2.99</td><td>166</td></tr><tr><td>763</td><td>2.99</td><td>166</td></tr><tr><td>764</td><td>4.99</td><td>167</td></tr><tr><td>765</td><td>4.99</td><td>167</td></tr><tr><td>766</td><td>4.99</td><td>167</td></tr><tr><td>767</td><td>4.99</td><td>167</td></tr><tr><td>768</td><td>4.99</td><td>167</td></tr><tr><td>769</td><td>4.99</td><td>167</td></tr><tr><td>770</td><td>4.99</td><td>167</td></tr><tr><td>771</td><td>0.99</td><td>168</td></tr><tr><td>772</td><td>0.99</td><td>168</td></tr><tr><td>773</td><td>2.99</td><td>169</td></tr><tr><td>774</td><td>2.99</td><td>169</td></tr><tr><td>775</td><td>2.99</td><td>169</td></tr><tr><td>776</td><td>2.99</td><td>169</td></tr><tr><td>777</td><td>4.99</td><td>170</td></tr><tr><td>778</td><td>4.99</td><td>170</td></tr><tr><td>779</td><td>4.99</td><td>170</td></tr><tr><td>780</td><td>4.99</td><td>170</td></tr><tr><td>781</td><td>4.99</td><td>170</td></tr><tr><td>782</td><td>4.99</td><td>170</td></tr><tr><td>783</td><td>4.99</td><td>172</td></tr><tr><td>784</td><td>4.99</td><td>172</td></tr><tr><td>785</td><td>4.99</td><td>172</td></tr><tr><td>786</td><td>4.99</td><td>172</td></tr><tr><td>787</td><td>4.99</td><td>172</td></tr><tr><td>788</td><td>4.99</td><td>172</td></tr><tr><td>789</td><td>4.99</td><td>172</td></tr><tr><td>790</td><td>4.99</td><td>173</td></tr><tr><td>791</td><td>4.99</td><td>173</td></tr><tr><td>792</td><td>4.99</td><td>173</td></tr><tr><td>793</td><td>4.99</td><td>173</td></tr><tr><td>794</td><td>4.99</td><td>173</td></tr><tr><td>795</td><td>4.99</td><td>174</td></tr><tr><td>796</td><td>4.99</td><td>174</td></tr><tr><td>797</td><td>4.99</td><td>174</td></tr><tr><td>798</td><td>4.99</td><td>174</td></tr><tr><td>799</td><td>4.99</td><td>174</td></tr><tr><td>800</td><td>4.99</td><td>174</td></tr><tr><td>801</td><td>4.99</td><td>174</td></tr><tr><td>802</td><td>4.99</td><td>174</td></tr><tr><td>803</td><td>2.99</td><td>175</td></tr><tr><td>804</td><td>2.99</td><td>175</td></tr><tr><td>805</td><td>2.99</td><td>175</td></tr><tr><td>806</td><td>2.99</td><td>175</td></tr><tr><td>807</td><td>2.99</td><td>175</td></tr><tr><td>808</td><td>0.99</td><td>176</td></tr><tr><td>809</td><td>0.99</td><td>176</td></tr><tr><td>810</td><td>0.99</td><td>176</td></tr><tr><td>811</td><td>0.99</td><td>176</td></tr><tr><td>812</td><td>0.99</td><td>176</td></tr><tr><td>813</td><td>0.99</td><td>176</td></tr><tr><td>814</td><td>4.99</td><td>177</td></tr><tr><td>815</td><td>4.99</td><td>177</td></tr><tr><td>816</td><td>4.99</td><td>177</td></tr><tr><td>817</td><td>0.99</td><td>178</td></tr><tr><td>818</td><td>0.99</td><td>178</td></tr><tr><td>819</td><td>4.99</td><td>179</td></tr><tr><td>820</td><td>4.99</td><td>179</td></tr><tr><td>821</td><td>4.99</td><td>179</td></tr><tr><td>822</td><td>4.99</td><td>179</td></tr><tr><td>823</td><td>2.99</td><td>180</td></tr><tr><td>824</td><td>2.99</td><td>180</td></tr><tr><td>825</td><td>2.99</td><td>181</td></tr><tr><td>826</td><td>2.99</td><td>181</td></tr><tr><td>827</td><td>2.99</td><td>181</td></tr><tr><td>828</td><td>2.99</td><td>181</td></tr><tr><td>829</td><td>2.99</td><td>181</td></tr><tr><td>830</td><td>2.99</td><td>181</td></tr><tr><td>831</td><td>2.99</td><td>181</td></tr><tr><td>832</td><td>4.99</td><td>182</td></tr><tr><td>833</td><td>4.99</td><td>182</td></tr><tr><td>834</td><td>4.99</td><td>183</td></tr><tr><td>835</td><td>4.99</td><td>183</td></tr><tr><td>836</td><td>4.99</td><td>183</td></tr><tr><td>837</td><td>4.99</td><td>183</td></tr><tr><td>838</td><td>4.99</td><td>183</td></tr><tr><td>839</td><td>4.99</td><td>183</td></tr><tr><td>840</td><td>2.99</td><td>184</td></tr><tr><td>841</td><td>2.99</td><td>184</td></tr><tr><td>842</td><td>2.99</td><td>184</td></tr><tr><td>843</td><td>2.99</td><td>184</td></tr><tr><td>844</td><td>2.99</td><td>184</td></tr><tr><td>845</td><td>2.99</td><td>185</td></tr><tr><td>846</td><td>2.99</td><td>185</td></tr><tr><td>847</td><td>0.99</td><td>186</td></tr><tr><td>848</td><td>0.99</td><td>186</td></tr><tr><td>849</td><td>0.99</td><td>186</td></tr><tr><td>850</td><td>0.99</td><td>186</td></tr><tr><td>851</td><td>2.99</td><td>187</td></tr><tr><td>852</td><td>2.99</td><td>187</td></tr><tr><td>853</td><td>2.99</td><td>187</td></tr><tr><td>854</td><td>2.99</td><td>188</td></tr><tr><td>855</td><td>2.99</td><td>188</td></tr><tr><td>856</td><td>2.99</td><td>188</td></tr><tr><td>857</td><td>0.99</td><td>189</td></tr><tr><td>858</td><td>0.99</td><td>189</td></tr><tr><td>859</td><td>0.99</td><td>189</td></tr><tr><td>860</td><td>0.99</td><td>189</td></tr><tr><td>861</td><td>0.99</td><td>189</td></tr><tr><td>862</td><td>0.99</td><td>189</td></tr><tr><td>863</td><td>4.99</td><td>190</td></tr><tr><td>864</td><td>4.99</td><td>190</td></tr><tr><td>865</td><td>4.99</td><td>190</td></tr><tr><td>866</td><td>4.99</td><td>190</td></tr><tr><td>867</td><td>0.99</td><td>191</td></tr><tr><td>868</td><td>0.99</td><td>191</td></tr><tr><td>869</td><td>0.99</td><td>191</td></tr><tr><td>870</td><td>0.99</td><td>191</td></tr><tr><td>871</td><td>0.99</td><td>191</td></tr><tr><td>872</td><td>0.99</td><td>191</td></tr><tr><td>873</td><td>2.99</td><td>193</td></tr><tr><td>874</td><td>2.99</td><td>193</td></tr><tr><td>875</td><td>2.99</td><td>193</td></tr><tr><td>876</td><td>2.99</td><td>193</td></tr><tr><td>877</td><td>2.99</td><td>193</td></tr><tr><td>878</td><td>2.99</td><td>193</td></tr><tr><td>879</td><td>2.99</td><td>193</td></tr><tr><td>880</td><td>2.99</td><td>193</td></tr><tr><td>881</td><td>0.99</td><td>194</td></tr><tr><td>882</td><td>0.99</td><td>194</td></tr><tr><td>883</td><td>0.99</td><td>194</td></tr><tr><td>884</td><td>0.99</td><td>194</td></tr><tr><td>885</td><td>0.99</td><td>196</td></tr><tr><td>886</td><td>0.99</td><td>196</td></tr><tr><td>887</td><td>2.99</td><td>197</td></tr><tr><td>888</td><td>2.99</td><td>197</td></tr><tr><td>889</td><td>2.99</td><td>199</td></tr><tr><td>890</td><td>2.99</td><td>199</td></tr><tr><td>891</td><td>2.99</td><td>199</td></tr><tr><td>892</td><td>2.99</td><td>199</td></tr><tr><td>893</td><td>2.99</td><td>199</td></tr><tr><td>894</td><td>2.99</td><td>199</td></tr><tr><td>895</td><td>2.99</td><td>199</td></tr><tr><td>896</td><td>2.99</td><td>199</td></tr><tr><td>897</td><td>0.99</td><td>200</td></tr><tr><td>898</td><td>0.99</td><td>200</td></tr><tr><td>899</td><td>0.99</td><td>200</td></tr><tr><td>900</td><td>0.99</td><td>200</td></tr><tr><td>901</td><td>0.99</td><td>200</td></tr><tr><td>902</td><td>0.99</td><td>200</td></tr><tr><td>903</td><td>0.99</td><td>200</td></tr><tr><td>904</td><td>0.99</td><td>200</td></tr><tr><td>905</td><td>2.99</td><td>201</td></tr><tr><td>906</td><td>2.99</td><td>201</td></tr><tr><td>907</td><td>2.99</td><td>201</td></tr><tr><td>908</td><td>2.99</td><td>201</td></tr><tr><td>909</td><td>4.99</td><td>202</td></tr><tr><td>910</td><td>4.99</td><td>202</td></tr><tr><td>911</td><td>4.99</td><td>202</td></tr><tr><td>912</td><td>4.99</td><td>203</td></tr><tr><td>913</td><td>4.99</td><td>203</td></tr><tr><td>914</td><td>4.99</td><td>203</td></tr><tr><td>915</td><td>4.99</td><td>203</td></tr><tr><td>916</td><td>0.99</td><td>204</td></tr><tr><td>917</td><td>0.99</td><td>204</td></tr><tr><td>918</td><td>0.99</td><td>204</td></tr><tr><td>919</td><td>0.99</td><td>204</td></tr><tr><td>920</td><td>0.99</td><td>204</td></tr><tr><td>921</td><td>0.99</td><td>204</td></tr><tr><td>922</td><td>0.99</td><td>205</td></tr><tr><td>923</td><td>0.99</td><td>205</td></tr><tr><td>924</td><td>0.99</td><td>205</td></tr><tr><td>925</td><td>0.99</td><td>205</td></tr><tr><td>926</td><td>0.99</td><td>206</td></tr><tr><td>927</td><td>0.99</td><td>206</td></tr><tr><td>928</td><td>0.99</td><td>206</td></tr><tr><td>929</td><td>0.99</td><td>206</td></tr><tr><td>930</td><td>0.99</td><td>206</td></tr><tr><td>931</td><td>0.99</td><td>206</td></tr><tr><td>932</td><td>0.99</td><td>206</td></tr><tr><td>933</td><td>0.99</td><td>206</td></tr><tr><td>934</td><td>4.99</td><td>207</td></tr><tr><td>935</td><td>4.99</td><td>207</td></tr><tr><td>936</td><td>4.99</td><td>207</td></tr><tr><td>937</td><td>4.99</td><td>207</td></tr><tr><td>938</td><td>2.99</td><td>208</td></tr><tr><td>939</td><td>2.99</td><td>208</td></tr><tr><td>940</td><td>2.99</td><td>208</td></tr><tr><td>941</td><td>2.99</td><td>209</td></tr><tr><td>942</td><td>2.99</td><td>209</td></tr><tr><td>943</td><td>2.99</td><td>209</td></tr><tr><td>944</td><td>2.99</td><td>209</td></tr><tr><td>945</td><td>4.99</td><td>210</td></tr><tr><td>946</td><td>4.99</td><td>210</td></tr><tr><td>947</td><td>4.99</td><td>210</td></tr><tr><td>948</td><td>4.99</td><td>211</td></tr><tr><td>949</td><td>4.99</td><td>211</td></tr><tr><td>950</td><td>4.99</td><td>212</td></tr><tr><td>951</td><td>4.99</td><td>212</td></tr><tr><td>952</td><td>4.99</td><td>212</td></tr><tr><td>953</td><td>4.99</td><td>212</td></tr><tr><td>954</td><td>4.99</td><td>212</td></tr><tr><td>955</td><td>0.99</td><td>213</td></tr><tr><td>956</td><td>0.99</td><td>213</td></tr><tr><td>957</td><td>0.99</td><td>213</td></tr><tr><td>958</td><td>0.99</td><td>213</td></tr><tr><td>959</td><td>4.99</td><td>214</td></tr><tr><td>960</td><td>4.99</td><td>214</td></tr><tr><td>961</td><td>4.99</td><td>214</td></tr><tr><td>962</td><td>4.99</td><td>214</td></tr><tr><td>963</td><td>4.99</td><td>215</td></tr><tr><td>964</td><td>4.99</td><td>215</td></tr><tr><td>965</td><td>4.99</td><td>215</td></tr><tr><td>966</td><td>4.99</td><td>215</td></tr><tr><td>967</td><td>4.99</td><td>215</td></tr><tr><td>968</td><td>4.99</td><td>215</td></tr><tr><td>969</td><td>4.99</td><td>216</td></tr><tr><td>970</td><td>4.99</td><td>216</td></tr><tr><td>971</td><td>4.99</td><td>216</td></tr><tr><td>972</td><td>4.99</td><td>216</td></tr><tr><td>973</td><td>4.99</td><td>216</td></tr><tr><td>974</td><td>0.99</td><td>218</td></tr><tr><td>975</td><td>0.99</td><td>218</td></tr><tr><td>976</td><td>0.99</td><td>218</td></tr><tr><td>977</td><td>0.99</td><td>218</td></tr><tr><td>978</td><td>0.99</td><td>218</td></tr><tr><td>979</td><td>0.99</td><td>218</td></tr><tr><td>980</td><td>0.99</td><td>218</td></tr><tr><td>981</td><td>4.99</td><td>219</td></tr><tr><td>982</td><td>4.99</td><td>219</td></tr><tr><td>983</td><td>4.99</td><td>219</td></tr><tr><td>984</td><td>4.99</td><td>219</td></tr><tr><td>985</td><td>2.99</td><td>220</td></tr><tr><td>986</td><td>2.99</td><td>220</td></tr><tr><td>987</td><td>2.99</td><td>220</td></tr><tr><td>988</td><td>2.99</td><td>220</td></tr><tr><td>989</td><td>2.99</td><td>220</td></tr><tr><td>990</td><td>2.99</td><td>220</td></tr><tr><td>991</td><td>2.99</td><td>220</td></tr><tr><td>992</td><td>2.99</td><td>220</td></tr><tr><td>993</td><td>4.99</td><td>222</td></tr><tr><td>994</td><td>4.99</td><td>222</td></tr><tr><td>995</td><td>4.99</td><td>222</td></tr><tr><td>996</td><td>4.99</td><td>222</td></tr><tr><td>997</td><td>4.99</td><td>222</td></tr><tr><td>998</td><td>4.99</td><td>222</td></tr><tr><td>999</td><td>2.99</td><td>223</td></tr><tr><td>1000</td><td>2.99</td><td>223</td></tr></tbody></table></div>"
      ]
     },
     "metadata": {
      "application/vnd.databricks.v1+output": {
       "addedWidgets": {},
       "aggData": [],
       "aggError": "",
       "aggOverflow": false,
       "aggSchema": [],
       "aggSeriesLimitReached": false,
       "aggType": "",
       "arguments": {},
       "columnCustomDisplayInfos": {},
       "data": [
        [
         1,
         0.99,
         1
        ],
        [
         2,
         0.99,
         1
        ],
        [
         3,
         0.99,
         1
        ],
        [
         4,
         0.99,
         1
        ],
        [
         5,
         0.99,
         1
        ],
        [
         6,
         0.99,
         1
        ],
        [
         7,
         0.99,
         1
        ],
        [
         8,
         0.99,
         1
        ],
        [
         9,
         4.99,
         2
        ],
        [
         10,
         4.99,
         2
        ],
        [
         11,
         4.99,
         2
        ],
        [
         12,
         2.99,
         3
        ],
        [
         13,
         2.99,
         3
        ],
        [
         14,
         2.99,
         3
        ],
        [
         15,
         2.99,
         3
        ],
        [
         16,
         2.99,
         4
        ],
        [
         17,
         2.99,
         4
        ],
        [
         18,
         2.99,
         4
        ],
        [
         19,
         2.99,
         4
        ],
        [
         20,
         2.99,
         4
        ],
        [
         21,
         2.99,
         4
        ],
        [
         22,
         2.99,
         4
        ],
        [
         23,
         2.99,
         5
        ],
        [
         24,
         2.99,
         5
        ],
        [
         25,
         2.99,
         5
        ],
        [
         26,
         2.99,
         6
        ],
        [
         27,
         2.99,
         6
        ],
        [
         28,
         2.99,
         6
        ],
        [
         29,
         2.99,
         6
        ],
        [
         30,
         2.99,
         6
        ],
        [
         31,
         2.99,
         6
        ],
        [
         32,
         4.99,
         7
        ],
        [
         33,
         4.99,
         7
        ],
        [
         34,
         4.99,
         7
        ],
        [
         35,
         4.99,
         7
        ],
        [
         36,
         4.99,
         7
        ],
        [
         37,
         4.99,
         8
        ],
        [
         38,
         4.99,
         8
        ],
        [
         39,
         4.99,
         8
        ],
        [
         40,
         4.99,
         8
        ],
        [
         41,
         2.99,
         9
        ],
        [
         42,
         2.99,
         9
        ],
        [
         43,
         2.99,
         9
        ],
        [
         44,
         2.99,
         9
        ],
        [
         45,
         2.99,
         9
        ],
        [
         46,
         4.99,
         10
        ],
        [
         47,
         4.99,
         10
        ],
        [
         48,
         4.99,
         10
        ],
        [
         49,
         4.99,
         10
        ],
        [
         50,
         4.99,
         10
        ],
        [
         51,
         4.99,
         10
        ],
        [
         52,
         4.99,
         10
        ],
        [
         53,
         0.99,
         11
        ],
        [
         54,
         0.99,
         11
        ],
        [
         55,
         0.99,
         11
        ],
        [
         56,
         0.99,
         11
        ],
        [
         57,
         0.99,
         11
        ],
        [
         58,
         0.99,
         11
        ],
        [
         59,
         0.99,
         11
        ],
        [
         60,
         0.99,
         12
        ],
        [
         61,
         0.99,
         12
        ],
        [
         62,
         0.99,
         12
        ],
        [
         63,
         0.99,
         12
        ],
        [
         64,
         0.99,
         12
        ],
        [
         65,
         0.99,
         12
        ],
        [
         66,
         0.99,
         12
        ],
        [
         67,
         4.99,
         13
        ],
        [
         68,
         4.99,
         13
        ],
        [
         69,
         4.99,
         13
        ],
        [
         70,
         4.99,
         13
        ],
        [
         71,
         2.99,
         15
        ],
        [
         72,
         2.99,
         15
        ],
        [
         73,
         2.99,
         15
        ],
        [
         74,
         2.99,
         15
        ],
        [
         75,
         2.99,
         15
        ],
        [
         76,
         2.99,
         15
        ],
        [
         77,
         2.99,
         16
        ],
        [
         78,
         2.99,
         16
        ],
        [
         79,
         2.99,
         16
        ],
        [
         80,
         2.99,
         16
        ],
        [
         81,
         0.99,
         17
        ],
        [
         82,
         0.99,
         17
        ],
        [
         83,
         0.99,
         17
        ],
        [
         84,
         0.99,
         17
        ],
        [
         85,
         0.99,
         17
        ],
        [
         86,
         0.99,
         17
        ],
        [
         87,
         0.99,
         18
        ],
        [
         88,
         0.99,
         18
        ],
        [
         89,
         0.99,
         18
        ],
        [
         90,
         0.99,
         18
        ],
        [
         91,
         0.99,
         18
        ],
        [
         92,
         0.99,
         18
        ],
        [
         93,
         0.99,
         19
        ],
        [
         94,
         0.99,
         19
        ],
        [
         95,
         0.99,
         19
        ],
        [
         96,
         0.99,
         19
        ],
        [
         97,
         0.99,
         19
        ],
        [
         98,
         0.99,
         19
        ],
        [
         99,
         4.99,
         20
        ],
        [
         100,
         4.99,
         20
        ],
        [
         101,
         4.99,
         20
        ],
        [
         102,
         4.99,
         21
        ],
        [
         103,
         4.99,
         21
        ],
        [
         104,
         4.99,
         21
        ],
        [
         105,
         4.99,
         21
        ],
        [
         106,
         4.99,
         21
        ],
        [
         107,
         4.99,
         21
        ],
        [
         108,
         2.99,
         22
        ],
        [
         109,
         2.99,
         22
        ],
        [
         110,
         2.99,
         22
        ],
        [
         111,
         2.99,
         22
        ],
        [
         112,
         2.99,
         22
        ],
        [
         113,
         2.99,
         22
        ],
        [
         114,
         2.99,
         22
        ],
        [
         115,
         0.99,
         23
        ],
        [
         116,
         0.99,
         23
        ],
        [
         117,
         0.99,
         23
        ],
        [
         118,
         0.99,
         23
        ],
        [
         119,
         0.99,
         23
        ],
        [
         120,
         2.99,
         24
        ],
        [
         121,
         2.99,
         24
        ],
        [
         122,
         2.99,
         24
        ],
        [
         123,
         2.99,
         24
        ],
        [
         124,
         2.99,
         25
        ],
        [
         125,
         2.99,
         25
        ],
        [
         126,
         2.99,
         25
        ],
        [
         127,
         2.99,
         25
        ],
        [
         128,
         2.99,
         25
        ],
        [
         129,
         2.99,
         25
        ],
        [
         130,
         0.99,
         26
        ],
        [
         131,
         0.99,
         26
        ],
        [
         132,
         0.99,
         26
        ],
        [
         133,
         0.99,
         26
        ],
        [
         134,
         0.99,
         26
        ],
        [
         135,
         0.99,
         27
        ],
        [
         136,
         0.99,
         27
        ],
        [
         137,
         0.99,
         27
        ],
        [
         138,
         0.99,
         27
        ],
        [
         139,
         4.99,
         28
        ],
        [
         140,
         4.99,
         28
        ],
        [
         141,
         4.99,
         28
        ],
        [
         142,
         2.99,
         29
        ],
        [
         143,
         2.99,
         29
        ],
        [
         144,
         2.99,
         30
        ],
        [
         145,
         2.99,
         30
        ],
        [
         146,
         4.99,
         31
        ],
        [
         147,
         4.99,
         31
        ],
        [
         148,
         4.99,
         31
        ],
        [
         149,
         4.99,
         31
        ],
        [
         150,
         4.99,
         31
        ],
        [
         151,
         4.99,
         31
        ],
        [
         152,
         4.99,
         31
        ],
        [
         153,
         4.99,
         31
        ],
        [
         154,
         4.99,
         32
        ],
        [
         155,
         4.99,
         32
        ],
        [
         156,
         0.99,
         34
        ],
        [
         157,
         0.99,
         34
        ],
        [
         158,
         0.99,
         34
        ],
        [
         159,
         0.99,
         34
        ],
        [
         160,
         2.99,
         35
        ],
        [
         161,
         2.99,
         35
        ],
        [
         162,
         2.99,
         35
        ],
        [
         163,
         2.99,
         35
        ],
        [
         164,
         2.99,
         35
        ],
        [
         165,
         2.99,
         35
        ],
        [
         166,
         2.99,
         35
        ],
        [
         167,
         2.99,
         37
        ],
        [
         168,
         2.99,
         37
        ],
        [
         169,
         2.99,
         37
        ],
        [
         170,
         2.99,
         37
        ],
        [
         171,
         2.99,
         37
        ],
        [
         172,
         2.99,
         37
        ],
        [
         173,
         2.99,
         37
        ],
        [
         174,
         0.99,
         39
        ],
        [
         175,
         0.99,
         39
        ],
        [
         176,
         0.99,
         39
        ],
        [
         177,
         0.99,
         39
        ],
        [
         178,
         0.99,
         39
        ],
        [
         179,
         0.99,
         39
        ],
        [
         180,
         0.99,
         39
        ],
        [
         181,
         0.99,
         40
        ],
        [
         182,
         0.99,
         40
        ],
        [
         183,
         0.99,
         40
        ],
        [
         184,
         0.99,
         40
        ],
        [
         185,
         2.99,
         42
        ],
        [
         186,
         2.99,
         42
        ],
        [
         187,
         2.99,
         42
        ],
        [
         188,
         2.99,
         42
        ],
        [
         189,
         2.99,
         43
        ],
        [
         190,
         2.99,
         43
        ],
        [
         191,
         2.99,
         43
        ],
        [
         192,
         2.99,
         43
        ],
        [
         193,
         2.99,
         43
        ],
        [
         194,
         2.99,
         43
        ],
        [
         195,
         2.99,
         43
        ],
        [
         196,
         4.99,
         44
        ],
        [
         197,
         4.99,
         44
        ],
        [
         198,
         4.99,
         44
        ],
        [
         199,
         4.99,
         44
        ],
        [
         200,
         4.99,
         44
        ],
        [
         201,
         4.99,
         45
        ],
        [
         202,
         4.99,
         45
        ],
        [
         203,
         4.99,
         45
        ],
        [
         204,
         4.99,
         45
        ],
        [
         205,
         4.99,
         45
        ],
        [
         206,
         4.99,
         45
        ],
        [
         207,
         4.99,
         46
        ],
        [
         208,
         4.99,
         46
        ],
        [
         209,
         4.99,
         46
        ],
        [
         210,
         4.99,
         47
        ],
        [
         211,
         4.99,
         47
        ],
        [
         212,
         4.99,
         48
        ],
        [
         213,
         4.99,
         48
        ],
        [
         214,
         4.99,
         48
        ],
        [
         215,
         4.99,
         48
        ],
        [
         216,
         2.99,
         49
        ],
        [
         217,
         2.99,
         49
        ],
        [
         218,
         2.99,
         49
        ],
        [
         219,
         2.99,
         49
        ],
        [
         220,
         2.99,
         49
        ],
        [
         221,
         2.99,
         49
        ],
        [
         222,
         2.99,
         50
        ],
        [
         223,
         2.99,
         50
        ],
        [
         224,
         2.99,
         50
        ],
        [
         225,
         2.99,
         50
        ],
        [
         226,
         2.99,
         50
        ],
        [
         227,
         2.99,
         51
        ],
        [
         228,
         2.99,
         51
        ],
        [
         229,
         2.99,
         51
        ],
        [
         230,
         2.99,
         51
        ],
        [
         231,
         2.99,
         51
        ],
        [
         232,
         2.99,
         51
        ],
        [
         233,
         0.99,
         52
        ],
        [
         234,
         0.99,
         52
        ],
        [
         235,
         2.99,
         53
        ],
        [
         236,
         2.99,
         53
        ],
        [
         237,
         0.99,
         54
        ],
        [
         238,
         0.99,
         54
        ],
        [
         239,
         0.99,
         54
        ],
        [
         240,
         0.99,
         54
        ],
        [
         241,
         0.99,
         54
        ],
        [
         242,
         2.99,
         55
        ],
        [
         243,
         2.99,
         55
        ],
        [
         244,
         2.99,
         55
        ],
        [
         245,
         2.99,
         55
        ],
        [
         246,
         2.99,
         55
        ],
        [
         247,
         2.99,
         55
        ],
        [
         248,
         2.99,
         56
        ],
        [
         249,
         2.99,
         56
        ],
        [
         250,
         2.99,
         56
        ],
        [
         251,
         2.99,
         56
        ],
        [
         252,
         2.99,
         56
        ],
        [
         253,
         2.99,
         57
        ],
        [
         254,
         2.99,
         57
        ],
        [
         255,
         2.99,
         57
        ],
        [
         256,
         2.99,
         57
        ],
        [
         257,
         2.99,
         57
        ],
        [
         258,
         2.99,
         57
        ],
        [
         259,
         2.99,
         57
        ],
        [
         260,
         2.99,
         58
        ],
        [
         261,
         2.99,
         58
        ],
        [
         262,
         2.99,
         58
        ],
        [
         263,
         2.99,
         58
        ],
        [
         264,
         2.99,
         59
        ],
        [
         265,
         2.99,
         59
        ],
        [
         266,
         2.99,
         59
        ],
        [
         267,
         2.99,
         59
        ],
        [
         268,
         2.99,
         59
        ],
        [
         269,
         4.99,
         60
        ],
        [
         270,
         4.99,
         60
        ],
        [
         271,
         4.99,
         60
        ],
        [
         272,
         4.99,
         61
        ],
        [
         273,
         4.99,
         61
        ],
        [
         274,
         4.99,
         61
        ],
        [
         275,
         4.99,
         61
        ],
        [
         276,
         4.99,
         61
        ],
        [
         277,
         4.99,
         61
        ],
        [
         278,
         2.99,
         62
        ],
        [
         279,
         2.99,
         62
        ],
        [
         280,
         0.99,
         63
        ],
        [
         281,
         0.99,
         63
        ],
        [
         282,
         0.99,
         63
        ],
        [
         283,
         0.99,
         63
        ],
        [
         284,
         0.99,
         64
        ],
        [
         285,
         0.99,
         64
        ],
        [
         286,
         0.99,
         64
        ],
        [
         287,
         4.99,
         65
        ],
        [
         288,
         4.99,
         65
        ],
        [
         289,
         4.99,
         65
        ],
        [
         290,
         4.99,
         65
        ],
        [
         291,
         0.99,
         66
        ],
        [
         292,
         0.99,
         66
        ],
        [
         293,
         0.99,
         66
        ],
        [
         294,
         2.99,
         67
        ],
        [
         295,
         2.99,
         67
        ],
        [
         296,
         2.99,
         67
        ],
        [
         297,
         2.99,
         67
        ],
        [
         298,
         2.99,
         67
        ],
        [
         299,
         2.99,
         67
        ],
        [
         300,
         4.99,
         68
        ],
        [
         301,
         4.99,
         68
        ],
        [
         302,
         4.99,
         68
        ],
        [
         303,
         4.99,
         68
        ],
        [
         304,
         2.99,
         69
        ],
        [
         305,
         2.99,
         69
        ],
        [
         306,
         2.99,
         69
        ],
        [
         307,
         2.99,
         69
        ],
        [
         308,
         2.99,
         69
        ],
        [
         309,
         2.99,
         69
        ],
        [
         310,
         2.99,
         69
        ],
        [
         311,
         2.99,
         69
        ],
        [
         312,
         4.99,
         70
        ],
        [
         313,
         4.99,
         70
        ],
        [
         314,
         4.99,
         70
        ],
        [
         315,
         4.99,
         70
        ],
        [
         316,
         4.99,
         71
        ],
        [
         317,
         4.99,
         71
        ],
        [
         318,
         4.99,
         71
        ],
        [
         319,
         4.99,
         71
        ],
        [
         320,
         2.99,
         72
        ],
        [
         321,
         2.99,
         72
        ],
        [
         322,
         2.99,
         72
        ],
        [
         323,
         2.99,
         72
        ],
        [
         324,
         2.99,
         72
        ],
        [
         325,
         2.99,
         72
        ],
        [
         326,
         2.99,
         73
        ],
        [
         327,
         2.99,
         73
        ],
        [
         328,
         2.99,
         73
        ],
        [
         329,
         2.99,
         73
        ],
        [
         330,
         2.99,
         73
        ],
        [
         331,
         2.99,
         73
        ],
        [
         332,
         2.99,
         73
        ],
        [
         333,
         2.99,
         73
        ],
        [
         334,
         4.99,
         74
        ],
        [
         335,
         4.99,
         74
        ],
        [
         336,
         4.99,
         74
        ],
        [
         337,
         4.99,
         74
        ],
        [
         338,
         4.99,
         74
        ],
        [
         339,
         4.99,
         75
        ],
        [
         340,
         4.99,
         75
        ],
        [
         341,
         4.99,
         75
        ],
        [
         342,
         0.99,
         76
        ],
        [
         343,
         0.99,
         76
        ],
        [
         344,
         0.99,
         76
        ],
        [
         345,
         4.99,
         77
        ],
        [
         346,
         4.99,
         77
        ],
        [
         347,
         4.99,
         77
        ],
        [
         348,
         4.99,
         77
        ],
        [
         349,
         4.99,
         77
        ],
        [
         350,
         4.99,
         77
        ],
        [
         351,
         2.99,
         78
        ],
        [
         352,
         2.99,
         78
        ],
        [
         353,
         2.99,
         78
        ],
        [
         354,
         2.99,
         78
        ],
        [
         355,
         2.99,
         78
        ],
        [
         356,
         2.99,
         78
        ],
        [
         357,
         2.99,
         78
        ],
        [
         358,
         0.99,
         79
        ],
        [
         359,
         0.99,
         79
        ],
        [
         360,
         0.99,
         79
        ],
        [
         361,
         0.99,
         79
        ],
        [
         362,
         0.99,
         79
        ],
        [
         363,
         0.99,
         79
        ],
        [
         364,
         2.99,
         80
        ],
        [
         365,
         2.99,
         80
        ],
        [
         366,
         2.99,
         80
        ],
        [
         367,
         2.99,
         80
        ],
        [
         368,
         4.99,
         81
        ],
        [
         369,
         4.99,
         81
        ],
        [
         370,
         4.99,
         81
        ],
        [
         371,
         4.99,
         81
        ],
        [
         372,
         0.99,
         82
        ],
        [
         373,
         0.99,
         82
        ],
        [
         374,
         2.99,
         83
        ],
        [
         375,
         2.99,
         83
        ],
        [
         376,
         2.99,
         83
        ],
        [
         377,
         2.99,
         83
        ],
        [
         378,
         2.99,
         83
        ],
        [
         379,
         4.99,
         84
        ],
        [
         380,
         4.99,
         84
        ],
        [
         381,
         4.99,
         84
        ],
        [
         382,
         4.99,
         84
        ],
        [
         383,
         0.99,
         85
        ],
        [
         384,
         0.99,
         85
        ],
        [
         385,
         0.99,
         85
        ],
        [
         386,
         0.99,
         85
        ],
        [
         387,
         4.99,
         86
        ],
        [
         388,
         4.99,
         86
        ],
        [
         389,
         4.99,
         86
        ],
        [
         390,
         4.99,
         86
        ],
        [
         391,
         4.99,
         86
        ],
        [
         392,
         4.99,
         86
        ],
        [
         393,
         4.99,
         86
        ],
        [
         394,
         4.99,
         86
        ],
        [
         395,
         4.99,
         88
        ],
        [
         396,
         4.99,
         88
        ],
        [
         397,
         4.99,
         88
        ],
        [
         398,
         4.99,
         88
        ],
        [
         399,
         0.99,
         89
        ],
        [
         400,
         0.99,
         89
        ],
        [
         401,
         0.99,
         89
        ],
        [
         402,
         0.99,
         89
        ],
        [
         403,
         0.99,
         89
        ],
        [
         404,
         0.99,
         89
        ],
        [
         405,
         0.99,
         90
        ],
        [
         406,
         0.99,
         90
        ],
        [
         407,
         0.99,
         90
        ],
        [
         408,
         0.99,
         90
        ],
        [
         409,
         0.99,
         90
        ],
        [
         410,
         0.99,
         90
        ],
        [
         411,
         0.99,
         91
        ],
        [
         412,
         0.99,
         91
        ],
        [
         413,
         0.99,
         91
        ],
        [
         414,
         0.99,
         91
        ],
        [
         415,
         0.99,
         91
        ],
        [
         416,
         0.99,
         91
        ],
        [
         417,
         0.99,
         91
        ],
        [
         418,
         0.99,
         91
        ],
        [
         419,
         4.99,
         92
        ],
        [
         420,
         4.99,
         92
        ],
        [
         421,
         4.99,
         92
        ],
        [
         422,
         4.99,
         92
        ],
        [
         423,
         4.99,
         93
        ],
        [
         424,
         4.99,
         93
        ],
        [
         425,
         4.99,
         93
        ],
        [
         426,
         2.99,
         94
        ],
        [
         427,
         2.99,
         94
        ],
        [
         428,
         4.99,
         95
        ],
        [
         429,
         4.99,
         95
        ],
        [
         430,
         4.99,
         95
        ],
        [
         431,
         4.99,
         95
        ],
        [
         432,
         4.99,
         95
        ],
        [
         433,
         2.99,
         96
        ],
        [
         434,
         2.99,
         96
        ],
        [
         435,
         2.99,
         96
        ],
        [
         436,
         0.99,
         97
        ],
        [
         437,
         0.99,
         97
        ],
        [
         438,
         0.99,
         97
        ],
        [
         439,
         0.99,
         97
        ],
        [
         440,
         0.99,
         97
        ],
        [
         441,
         0.99,
         97
        ],
        [
         442,
         4.99,
         98
        ],
        [
         443,
         4.99,
         98
        ],
        [
         444,
         4.99,
         98
        ],
        [
         445,
         2.99,
         99
        ],
        [
         446,
         2.99,
         99
        ],
        [
         447,
         2.99,
         99
        ],
        [
         448,
         2.99,
         99
        ],
        [
         449,
         2.99,
         99
        ],
        [
         450,
         2.99,
         99
        ],
        [
         451,
         4.99,
         100
        ],
        [
         452,
         4.99,
         100
        ],
        [
         453,
         4.99,
         100
        ],
        [
         454,
         4.99,
         100
        ],
        [
         455,
         4.99,
         100
        ],
        [
         456,
         4.99,
         100
        ],
        [
         457,
         0.99,
         101
        ],
        [
         458,
         0.99,
         101
        ],
        [
         459,
         0.99,
         101
        ],
        [
         460,
         0.99,
         101
        ],
        [
         461,
         0.99,
         101
        ],
        [
         462,
         0.99,
         101
        ],
        [
         463,
         4.99,
         102
        ],
        [
         464,
         4.99,
         102
        ],
        [
         465,
         4.99,
         103
        ],
        [
         466,
         4.99,
         103
        ],
        [
         467,
         4.99,
         103
        ],
        [
         468,
         4.99,
         103
        ],
        [
         469,
         4.99,
         103
        ],
        [
         470,
         4.99,
         103
        ],
        [
         471,
         4.99,
         103
        ],
        [
         472,
         4.99,
         103
        ],
        [
         473,
         2.99,
         104
        ],
        [
         474,
         2.99,
         104
        ],
        [
         475,
         2.99,
         104
        ],
        [
         476,
         0.99,
         105
        ],
        [
         477,
         0.99,
         105
        ],
        [
         478,
         0.99,
         105
        ],
        [
         479,
         0.99,
         105
        ],
        [
         480,
         0.99,
         105
        ],
        [
         481,
         2.99,
         106
        ],
        [
         482,
         2.99,
         106
        ],
        [
         483,
         2.99,
         107
        ],
        [
         484,
         2.99,
         107
        ],
        [
         485,
         0.99,
         109
        ],
        [
         486,
         0.99,
         109
        ],
        [
         487,
         0.99,
         109
        ],
        [
         488,
         0.99,
         109
        ],
        [
         489,
         0.99,
         109
        ],
        [
         490,
         0.99,
         109
        ],
        [
         491,
         0.99,
         109
        ],
        [
         492,
         0.99,
         109
        ],
        [
         493,
         0.99,
         110
        ],
        [
         494,
         0.99,
         110
        ],
        [
         495,
         0.99,
         110
        ],
        [
         496,
         0.99,
         110
        ],
        [
         497,
         0.99,
         111
        ],
        [
         498,
         0.99,
         111
        ],
        [
         499,
         0.99,
         111
        ],
        [
         500,
         0.99,
         111
        ],
        [
         501,
         4.99,
         112
        ],
        [
         502,
         4.99,
         112
        ],
        [
         503,
         4.99,
         112
        ],
        [
         504,
         4.99,
         112
        ],
        [
         505,
         4.99,
         112
        ],
        [
         506,
         4.99,
         112
        ],
        [
         507,
         4.99,
         112
        ],
        [
         508,
         4.99,
         113
        ],
        [
         509,
         4.99,
         113
        ],
        [
         510,
         4.99,
         113
        ],
        [
         511,
         4.99,
         113
        ],
        [
         512,
         0.99,
         114
        ],
        [
         513,
         0.99,
         114
        ],
        [
         514,
         0.99,
         114
        ],
        [
         515,
         0.99,
         114
        ],
        [
         516,
         0.99,
         114
        ],
        [
         517,
         0.99,
         114
        ],
        [
         518,
         0.99,
         114
        ],
        [
         519,
         2.99,
         115
        ],
        [
         520,
         2.99,
         115
        ],
        [
         521,
         2.99,
         115
        ],
        [
         522,
         2.99,
         115
        ],
        [
         523,
         2.99,
         115
        ],
        [
         524,
         2.99,
         115
        ],
        [
         525,
         2.99,
         115
        ],
        [
         526,
         2.99,
         116
        ],
        [
         527,
         2.99,
         116
        ],
        [
         528,
         2.99,
         116
        ],
        [
         529,
         2.99,
         116
        ],
        [
         530,
         2.99,
         116
        ],
        [
         531,
         2.99,
         116
        ],
        [
         532,
         4.99,
         117
        ],
        [
         533,
         4.99,
         117
        ],
        [
         534,
         4.99,
         117
        ],
        [
         535,
         4.99,
         117
        ],
        [
         536,
         4.99,
         117
        ],
        [
         537,
         4.99,
         117
        ],
        [
         538,
         0.99,
         118
        ],
        [
         539,
         0.99,
         118
        ],
        [
         540,
         0.99,
         118
        ],
        [
         541,
         0.99,
         118
        ],
        [
         542,
         0.99,
         118
        ],
        [
         543,
         0.99,
         118
        ],
        [
         544,
         0.99,
         119
        ],
        [
         545,
         0.99,
         119
        ],
        [
         546,
         0.99,
         119
        ],
        [
         547,
         0.99,
         119
        ],
        [
         548,
         0.99,
         119
        ],
        [
         549,
         0.99,
         119
        ],
        [
         550,
         0.99,
         119
        ],
        [
         551,
         4.99,
         120
        ],
        [
         552,
         4.99,
         120
        ],
        [
         553,
         4.99,
         120
        ],
        [
         554,
         2.99,
         121
        ],
        [
         555,
         2.99,
         121
        ],
        [
         556,
         2.99,
         121
        ],
        [
         557,
         2.99,
         121
        ],
        [
         558,
         2.99,
         121
        ],
        [
         559,
         2.99,
         121
        ],
        [
         560,
         0.99,
         122
        ],
        [
         561,
         0.99,
         122
        ],
        [
         562,
         0.99,
         122
        ],
        [
         563,
         0.99,
         122
        ],
        [
         564,
         0.99,
         122
        ],
        [
         565,
         0.99,
         122
        ],
        [
         566,
         0.99,
         122
        ],
        [
         567,
         4.99,
         123
        ],
        [
         568,
         4.99,
         123
        ],
        [
         569,
         4.99,
         123
        ],
        [
         570,
         4.99,
         123
        ],
        [
         571,
         4.99,
         123
        ],
        [
         572,
         4.99,
         124
        ],
        [
         573,
         4.99,
         124
        ],
        [
         574,
         4.99,
         124
        ],
        [
         575,
         2.99,
         125
        ],
        [
         576,
         2.99,
         125
        ],
        [
         577,
         4.99,
         126
        ],
        [
         578,
         4.99,
         126
        ],
        [
         579,
         4.99,
         126
        ],
        [
         580,
         4.99,
         127
        ],
        [
         581,
         4.99,
         127
        ],
        [
         582,
         4.99,
         127
        ],
        [
         583,
         4.99,
         127
        ],
        [
         584,
         4.99,
         127
        ],
        [
         585,
         4.99,
         127
        ],
        [
         586,
         4.99,
         127
        ],
        [
         587,
         4.99,
         127
        ],
        [
         588,
         2.99,
         129
        ],
        [
         589,
         2.99,
         129
        ],
        [
         590,
         2.99,
         129
        ],
        [
         591,
         2.99,
         129
        ],
        [
         592,
         2.99,
         129
        ],
        [
         593,
         2.99,
         129
        ],
        [
         594,
         0.99,
         130
        ],
        [
         595,
         0.99,
         130
        ],
        [
         596,
         0.99,
         130
        ],
        [
         597,
         0.99,
         130
        ],
        [
         598,
         0.99,
         130
        ],
        [
         599,
         0.99,
         130
        ],
        [
         600,
         4.99,
         131
        ],
        [
         601,
         4.99,
         131
        ],
        [
         602,
         4.99,
         131
        ],
        [
         603,
         4.99,
         131
        ],
        [
         604,
         4.99,
         131
        ],
        [
         605,
         4.99,
         131
        ],
        [
         606,
         0.99,
         132
        ],
        [
         607,
         0.99,
         132
        ],
        [
         608,
         0.99,
         132
        ],
        [
         609,
         0.99,
         132
        ],
        [
         610,
         0.99,
         132
        ],
        [
         611,
         0.99,
         132
        ],
        [
         612,
         4.99,
         133
        ],
        [
         613,
         4.99,
         133
        ],
        [
         614,
         4.99,
         133
        ],
        [
         615,
         4.99,
         133
        ],
        [
         616,
         4.99,
         134
        ],
        [
         617,
         4.99,
         134
        ],
        [
         618,
         4.99,
         134
        ],
        [
         619,
         2.99,
         135
        ],
        [
         620,
         2.99,
         135
        ],
        [
         621,
         2.99,
         135
        ],
        [
         622,
         2.99,
         135
        ],
        [
         623,
         2.99,
         135
        ],
        [
         624,
         2.99,
         135
        ],
        [
         625,
         2.99,
         135
        ],
        [
         626,
         2.99,
         136
        ],
        [
         627,
         2.99,
         136
        ],
        [
         628,
         2.99,
         136
        ],
        [
         629,
         2.99,
         137
        ],
        [
         630,
         2.99,
         137
        ],
        [
         631,
         2.99,
         137
        ],
        [
         632,
         2.99,
         137
        ],
        [
         633,
         2.99,
         138
        ],
        [
         634,
         2.99,
         138
        ],
        [
         635,
         2.99,
         138
        ],
        [
         636,
         2.99,
         138
        ],
        [
         637,
         2.99,
         138
        ],
        [
         638,
         4.99,
         139
        ],
        [
         639,
         4.99,
         139
        ],
        [
         640,
         4.99,
         139
        ],
        [
         641,
         4.99,
         139
        ],
        [
         642,
         4.99,
         139
        ],
        [
         643,
         4.99,
         139
        ],
        [
         644,
         0.99,
         140
        ],
        [
         645,
         0.99,
         140
        ],
        [
         646,
         0.99,
         140
        ],
        [
         647,
         0.99,
         140
        ],
        [
         648,
         0.99,
         140
        ],
        [
         649,
         4.99,
         141
        ],
        [
         650,
         4.99,
         141
        ],
        [
         651,
         4.99,
         141
        ],
        [
         652,
         4.99,
         141
        ],
        [
         653,
         4.99,
         141
        ],
        [
         654,
         0.99,
         142
        ],
        [
         655,
         0.99,
         142
        ],
        [
         656,
         0.99,
         142
        ],
        [
         657,
         0.99,
         142
        ],
        [
         658,
         0.99,
         142
        ],
        [
         659,
         0.99,
         143
        ],
        [
         660,
         0.99,
         143
        ],
        [
         661,
         0.99,
         143
        ],
        [
         662,
         0.99,
         143
        ],
        [
         663,
         0.99,
         143
        ],
        [
         664,
         0.99,
         143
        ],
        [
         665,
         0.99,
         143
        ],
        [
         666,
         4.99,
         145
        ],
        [
         667,
         4.99,
         145
        ],
        [
         668,
         4.99,
         145
        ],
        [
         669,
         2.99,
         146
        ],
        [
         670,
         2.99,
         146
        ],
        [
         671,
         2.99,
         146
        ],
        [
         672,
         0.99,
         147
        ],
        [
         673,
         0.99,
         147
        ],
        [
         674,
         0.99,
         147
        ],
        [
         675,
         0.99,
         147
        ],
        [
         676,
         0.99,
         147
        ],
        [
         677,
         0.99,
         147
        ],
        [
         678,
         0.99,
         149
        ],
        [
         679,
         0.99,
         149
        ],
        [
         680,
         0.99,
         149
        ],
        [
         681,
         0.99,
         149
        ],
        [
         682,
         0.99,
         149
        ],
        [
         683,
         0.99,
         149
        ],
        [
         684,
         2.99,
         150
        ],
        [
         685,
         2.99,
         150
        ],
        [
         686,
         2.99,
         150
        ],
        [
         687,
         2.99,
         150
        ],
        [
         688,
         2.99,
         150
        ],
        [
         689,
         2.99,
         150
        ],
        [
         690,
         4.99,
         151
        ],
        [
         691,
         4.99,
         151
        ],
        [
         692,
         4.99,
         151
        ],
        [
         693,
         4.99,
         151
        ],
        [
         694,
         2.99,
         152
        ],
        [
         695,
         2.99,
         152
        ],
        [
         696,
         2.99,
         152
        ],
        [
         697,
         2.99,
         152
        ],
        [
         698,
         0.99,
         153
        ],
        [
         699,
         0.99,
         153
        ],
        [
         700,
         0.99,
         153
        ],
        [
         701,
         0.99,
         153
        ],
        [
         702,
         2.99,
         154
        ],
        [
         703,
         2.99,
         154
        ],
        [
         704,
         2.99,
         154
        ],
        [
         705,
         2.99,
         154
        ],
        [
         706,
         2.99,
         154
        ],
        [
         707,
         2.99,
         154
        ],
        [
         708,
         2.99,
         154
        ],
        [
         709,
         0.99,
         155
        ],
        [
         710,
         0.99,
         155
        ],
        [
         711,
         0.99,
         155
        ],
        [
         712,
         0.99,
         155
        ],
        [
         713,
         0.99,
         155
        ],
        [
         714,
         4.99,
         156
        ],
        [
         715,
         4.99,
         156
        ],
        [
         716,
         0.99,
         157
        ],
        [
         717,
         0.99,
         157
        ],
        [
         718,
         0.99,
         157
        ],
        [
         719,
         2.99,
         158
        ],
        [
         720,
         2.99,
         158
        ],
        [
         721,
         2.99,
         158
        ],
        [
         722,
         2.99,
         158
        ],
        [
         723,
         2.99,
         158
        ],
        [
         724,
         4.99,
         159
        ],
        [
         725,
         4.99,
         159
        ],
        [
         726,
         4.99,
         159
        ],
        [
         727,
         4.99,
         159
        ],
        [
         728,
         4.99,
         159
        ],
        [
         729,
         4.99,
         159
        ],
        [
         730,
         4.99,
         159
        ],
        [
         731,
         0.99,
         160
        ],
        [
         732,
         0.99,
         160
        ],
        [
         733,
         0.99,
         160
        ],
        [
         734,
         0.99,
         160
        ],
        [
         735,
         0.99,
         160
        ],
        [
         736,
         4.99,
         161
        ],
        [
         737,
         4.99,
         161
        ],
        [
         738,
         2.99,
         162
        ],
        [
         739,
         2.99,
         162
        ],
        [
         740,
         2.99,
         162
        ],
        [
         741,
         2.99,
         162
        ],
        [
         742,
         2.99,
         162
        ],
        [
         743,
         2.99,
         162
        ],
        [
         744,
         2.99,
         162
        ],
        [
         745,
         0.99,
         163
        ],
        [
         746,
         0.99,
         163
        ],
        [
         747,
         0.99,
         163
        ],
        [
         748,
         0.99,
         164
        ],
        [
         749,
         0.99,
         164
        ],
        [
         750,
         0.99,
         164
        ],
        [
         751,
         0.99,
         164
        ],
        [
         752,
         0.99,
         164
        ],
        [
         753,
         4.99,
         165
        ],
        [
         754,
         4.99,
         165
        ],
        [
         755,
         4.99,
         165
        ],
        [
         756,
         4.99,
         165
        ],
        [
         757,
         4.99,
         165
        ],
        [
         758,
         2.99,
         166
        ],
        [
         759,
         2.99,
         166
        ],
        [
         760,
         2.99,
         166
        ],
        [
         761,
         2.99,
         166
        ],
        [
         762,
         2.99,
         166
        ],
        [
         763,
         2.99,
         166
        ],
        [
         764,
         4.99,
         167
        ],
        [
         765,
         4.99,
         167
        ],
        [
         766,
         4.99,
         167
        ],
        [
         767,
         4.99,
         167
        ],
        [
         768,
         4.99,
         167
        ],
        [
         769,
         4.99,
         167
        ],
        [
         770,
         4.99,
         167
        ],
        [
         771,
         0.99,
         168
        ],
        [
         772,
         0.99,
         168
        ],
        [
         773,
         2.99,
         169
        ],
        [
         774,
         2.99,
         169
        ],
        [
         775,
         2.99,
         169
        ],
        [
         776,
         2.99,
         169
        ],
        [
         777,
         4.99,
         170
        ],
        [
         778,
         4.99,
         170
        ],
        [
         779,
         4.99,
         170
        ],
        [
         780,
         4.99,
         170
        ],
        [
         781,
         4.99,
         170
        ],
        [
         782,
         4.99,
         170
        ],
        [
         783,
         4.99,
         172
        ],
        [
         784,
         4.99,
         172
        ],
        [
         785,
         4.99,
         172
        ],
        [
         786,
         4.99,
         172
        ],
        [
         787,
         4.99,
         172
        ],
        [
         788,
         4.99,
         172
        ],
        [
         789,
         4.99,
         172
        ],
        [
         790,
         4.99,
         173
        ],
        [
         791,
         4.99,
         173
        ],
        [
         792,
         4.99,
         173
        ],
        [
         793,
         4.99,
         173
        ],
        [
         794,
         4.99,
         173
        ],
        [
         795,
         4.99,
         174
        ],
        [
         796,
         4.99,
         174
        ],
        [
         797,
         4.99,
         174
        ],
        [
         798,
         4.99,
         174
        ],
        [
         799,
         4.99,
         174
        ],
        [
         800,
         4.99,
         174
        ],
        [
         801,
         4.99,
         174
        ],
        [
         802,
         4.99,
         174
        ],
        [
         803,
         2.99,
         175
        ],
        [
         804,
         2.99,
         175
        ],
        [
         805,
         2.99,
         175
        ],
        [
         806,
         2.99,
         175
        ],
        [
         807,
         2.99,
         175
        ],
        [
         808,
         0.99,
         176
        ],
        [
         809,
         0.99,
         176
        ],
        [
         810,
         0.99,
         176
        ],
        [
         811,
         0.99,
         176
        ],
        [
         812,
         0.99,
         176
        ],
        [
         813,
         0.99,
         176
        ],
        [
         814,
         4.99,
         177
        ],
        [
         815,
         4.99,
         177
        ],
        [
         816,
         4.99,
         177
        ],
        [
         817,
         0.99,
         178
        ],
        [
         818,
         0.99,
         178
        ],
        [
         819,
         4.99,
         179
        ],
        [
         820,
         4.99,
         179
        ],
        [
         821,
         4.99,
         179
        ],
        [
         822,
         4.99,
         179
        ],
        [
         823,
         2.99,
         180
        ],
        [
         824,
         2.99,
         180
        ],
        [
         825,
         2.99,
         181
        ],
        [
         826,
         2.99,
         181
        ],
        [
         827,
         2.99,
         181
        ],
        [
         828,
         2.99,
         181
        ],
        [
         829,
         2.99,
         181
        ],
        [
         830,
         2.99,
         181
        ],
        [
         831,
         2.99,
         181
        ],
        [
         832,
         4.99,
         182
        ],
        [
         833,
         4.99,
         182
        ],
        [
         834,
         4.99,
         183
        ],
        [
         835,
         4.99,
         183
        ],
        [
         836,
         4.99,
         183
        ],
        [
         837,
         4.99,
         183
        ],
        [
         838,
         4.99,
         183
        ],
        [
         839,
         4.99,
         183
        ],
        [
         840,
         2.99,
         184
        ],
        [
         841,
         2.99,
         184
        ],
        [
         842,
         2.99,
         184
        ],
        [
         843,
         2.99,
         184
        ],
        [
         844,
         2.99,
         184
        ],
        [
         845,
         2.99,
         185
        ],
        [
         846,
         2.99,
         185
        ],
        [
         847,
         0.99,
         186
        ],
        [
         848,
         0.99,
         186
        ],
        [
         849,
         0.99,
         186
        ],
        [
         850,
         0.99,
         186
        ],
        [
         851,
         2.99,
         187
        ],
        [
         852,
         2.99,
         187
        ],
        [
         853,
         2.99,
         187
        ],
        [
         854,
         2.99,
         188
        ],
        [
         855,
         2.99,
         188
        ],
        [
         856,
         2.99,
         188
        ],
        [
         857,
         0.99,
         189
        ],
        [
         858,
         0.99,
         189
        ],
        [
         859,
         0.99,
         189
        ],
        [
         860,
         0.99,
         189
        ],
        [
         861,
         0.99,
         189
        ],
        [
         862,
         0.99,
         189
        ],
        [
         863,
         4.99,
         190
        ],
        [
         864,
         4.99,
         190
        ],
        [
         865,
         4.99,
         190
        ],
        [
         866,
         4.99,
         190
        ],
        [
         867,
         0.99,
         191
        ],
        [
         868,
         0.99,
         191
        ],
        [
         869,
         0.99,
         191
        ],
        [
         870,
         0.99,
         191
        ],
        [
         871,
         0.99,
         191
        ],
        [
         872,
         0.99,
         191
        ],
        [
         873,
         2.99,
         193
        ],
        [
         874,
         2.99,
         193
        ],
        [
         875,
         2.99,
         193
        ],
        [
         876,
         2.99,
         193
        ],
        [
         877,
         2.99,
         193
        ],
        [
         878,
         2.99,
         193
        ],
        [
         879,
         2.99,
         193
        ],
        [
         880,
         2.99,
         193
        ],
        [
         881,
         0.99,
         194
        ],
        [
         882,
         0.99,
         194
        ],
        [
         883,
         0.99,
         194
        ],
        [
         884,
         0.99,
         194
        ],
        [
         885,
         0.99,
         196
        ],
        [
         886,
         0.99,
         196
        ],
        [
         887,
         2.99,
         197
        ],
        [
         888,
         2.99,
         197
        ],
        [
         889,
         2.99,
         199
        ],
        [
         890,
         2.99,
         199
        ],
        [
         891,
         2.99,
         199
        ],
        [
         892,
         2.99,
         199
        ],
        [
         893,
         2.99,
         199
        ],
        [
         894,
         2.99,
         199
        ],
        [
         895,
         2.99,
         199
        ],
        [
         896,
         2.99,
         199
        ],
        [
         897,
         0.99,
         200
        ],
        [
         898,
         0.99,
         200
        ],
        [
         899,
         0.99,
         200
        ],
        [
         900,
         0.99,
         200
        ],
        [
         901,
         0.99,
         200
        ],
        [
         902,
         0.99,
         200
        ],
        [
         903,
         0.99,
         200
        ],
        [
         904,
         0.99,
         200
        ],
        [
         905,
         2.99,
         201
        ],
        [
         906,
         2.99,
         201
        ],
        [
         907,
         2.99,
         201
        ],
        [
         908,
         2.99,
         201
        ],
        [
         909,
         4.99,
         202
        ],
        [
         910,
         4.99,
         202
        ],
        [
         911,
         4.99,
         202
        ],
        [
         912,
         4.99,
         203
        ],
        [
         913,
         4.99,
         203
        ],
        [
         914,
         4.99,
         203
        ],
        [
         915,
         4.99,
         203
        ],
        [
         916,
         0.99,
         204
        ],
        [
         917,
         0.99,
         204
        ],
        [
         918,
         0.99,
         204
        ],
        [
         919,
         0.99,
         204
        ],
        [
         920,
         0.99,
         204
        ],
        [
         921,
         0.99,
         204
        ],
        [
         922,
         0.99,
         205
        ],
        [
         923,
         0.99,
         205
        ],
        [
         924,
         0.99,
         205
        ],
        [
         925,
         0.99,
         205
        ],
        [
         926,
         0.99,
         206
        ],
        [
         927,
         0.99,
         206
        ],
        [
         928,
         0.99,
         206
        ],
        [
         929,
         0.99,
         206
        ],
        [
         930,
         0.99,
         206
        ],
        [
         931,
         0.99,
         206
        ],
        [
         932,
         0.99,
         206
        ],
        [
         933,
         0.99,
         206
        ],
        [
         934,
         4.99,
         207
        ],
        [
         935,
         4.99,
         207
        ],
        [
         936,
         4.99,
         207
        ],
        [
         937,
         4.99,
         207
        ],
        [
         938,
         2.99,
         208
        ],
        [
         939,
         2.99,
         208
        ],
        [
         940,
         2.99,
         208
        ],
        [
         941,
         2.99,
         209
        ],
        [
         942,
         2.99,
         209
        ],
        [
         943,
         2.99,
         209
        ],
        [
         944,
         2.99,
         209
        ],
        [
         945,
         4.99,
         210
        ],
        [
         946,
         4.99,
         210
        ],
        [
         947,
         4.99,
         210
        ],
        [
         948,
         4.99,
         211
        ],
        [
         949,
         4.99,
         211
        ],
        [
         950,
         4.99,
         212
        ],
        [
         951,
         4.99,
         212
        ],
        [
         952,
         4.99,
         212
        ],
        [
         953,
         4.99,
         212
        ],
        [
         954,
         4.99,
         212
        ],
        [
         955,
         0.99,
         213
        ],
        [
         956,
         0.99,
         213
        ],
        [
         957,
         0.99,
         213
        ],
        [
         958,
         0.99,
         213
        ],
        [
         959,
         4.99,
         214
        ],
        [
         960,
         4.99,
         214
        ],
        [
         961,
         4.99,
         214
        ],
        [
         962,
         4.99,
         214
        ],
        [
         963,
         4.99,
         215
        ],
        [
         964,
         4.99,
         215
        ],
        [
         965,
         4.99,
         215
        ],
        [
         966,
         4.99,
         215
        ],
        [
         967,
         4.99,
         215
        ],
        [
         968,
         4.99,
         215
        ],
        [
         969,
         4.99,
         216
        ],
        [
         970,
         4.99,
         216
        ],
        [
         971,
         4.99,
         216
        ],
        [
         972,
         4.99,
         216
        ],
        [
         973,
         4.99,
         216
        ],
        [
         974,
         0.99,
         218
        ],
        [
         975,
         0.99,
         218
        ],
        [
         976,
         0.99,
         218
        ],
        [
         977,
         0.99,
         218
        ],
        [
         978,
         0.99,
         218
        ],
        [
         979,
         0.99,
         218
        ],
        [
         980,
         0.99,
         218
        ],
        [
         981,
         4.99,
         219
        ],
        [
         982,
         4.99,
         219
        ],
        [
         983,
         4.99,
         219
        ],
        [
         984,
         4.99,
         219
        ],
        [
         985,
         2.99,
         220
        ],
        [
         986,
         2.99,
         220
        ],
        [
         987,
         2.99,
         220
        ],
        [
         988,
         2.99,
         220
        ],
        [
         989,
         2.99,
         220
        ],
        [
         990,
         2.99,
         220
        ],
        [
         991,
         2.99,
         220
        ],
        [
         992,
         2.99,
         220
        ],
        [
         993,
         4.99,
         222
        ],
        [
         994,
         4.99,
         222
        ],
        [
         995,
         4.99,
         222
        ],
        [
         996,
         4.99,
         222
        ],
        [
         997,
         4.99,
         222
        ],
        [
         998,
         4.99,
         222
        ],
        [
         999,
         2.99,
         223
        ],
        [
         1000,
         2.99,
         223
        ]
       ],
       "datasetInfos": [],
       "dbfsResultPath": null,
       "isJsonSchema": true,
       "metadata": {},
       "overflow": false,
       "plotOptions": {
        "customPlotOptions": {},
        "displayType": "table",
        "pivotAggregation": null,
        "pivotColumns": null,
        "xColumns": null,
        "yColumns": null
       },
       "removedWidgets": [],
       "schema": [
        {
         "metadata": "{}",
         "name": "inventory_key",
         "type": "\"integer\""
        },
        {
         "metadata": "{}",
         "name": "rental_rate",
         "type": "\"double\""
        },
        {
         "metadata": "{}",
         "name": "film_id",
         "type": "\"integer\""
        }
       ],
       "type": "table"
      }
     },
     "output_type": "display_data"
    }
   ],
   "source": [
    "inventory_csv = f\"{batch_dir}/sakila_diminventory.csv\"\n",
    "\n",
    "df_inventory = spark.read.format('csv').options(header='true', inferSchema='true').load(inventory_csv)\n",
    "display(df_inventory)"
   ]
  },
  {
   "cell_type": "code",
   "execution_count": 0,
   "metadata": {
    "application/vnd.databricks.v1+cell": {
     "cellMetadata": {
      "byteLimit": 2048000,
      "rowLimit": 10000
     },
     "inputWidgets": {},
     "nuid": "8226f50c-97f8-4ef6-b48e-2fe15ce4ff53",
     "showTitle": false,
     "title": ""
    }
   },
   "outputs": [
    {
     "output_type": "stream",
     "name": "stdout",
     "output_type": "stream",
     "text": [
      "root\n |-- inventory_key: integer (nullable = true)\n |-- rental_rate: double (nullable = true)\n |-- film_id: integer (nullable = true)\n\n"
     ]
    }
   ],
   "source": [
    "df_inventory.printSchema()"
   ]
  },
  {
   "cell_type": "code",
   "execution_count": 0,
   "metadata": {
    "application/vnd.databricks.v1+cell": {
     "cellMetadata": {
      "byteLimit": 2048000,
      "rowLimit": 10000
     },
     "inputWidgets": {},
     "nuid": "15247f17-0852-4963-83a3-4469ead4695e",
     "showTitle": false,
     "title": ""
    }
   },
   "outputs": [],
   "source": [
    "df_inventory.write.format(\"delta\").mode(\"overwrite\").saveAsTable(\"sakila_dlh.dim_inventory\")"
   ]
  },
  {
   "cell_type": "code",
   "execution_count": 0,
   "metadata": {
    "application/vnd.databricks.v1+cell": {
     "cellMetadata": {
      "byteLimit": 2048000,
      "implicitDf": true,
      "rowLimit": 10000
     },
     "inputWidgets": {},
     "nuid": "4100bf71-e997-4ba0-9bdf-5808f6fa53e5",
     "showTitle": false,
     "title": ""
    }
   },
   "outputs": [
    {
     "output_type": "display_data",
     "data": {
      "text/html": [
       "<style scoped>\n",
       "  .table-result-container {\n",
       "    max-height: 300px;\n",
       "    overflow: auto;\n",
       "  }\n",
       "  table, th, td {\n",
       "    border: 1px solid black;\n",
       "    border-collapse: collapse;\n",
       "  }\n",
       "  th, td {\n",
       "    padding: 5px;\n",
       "  }\n",
       "  th {\n",
       "    text-align: left;\n",
       "  }\n",
       "</style><div class='table-result-container'><table class='table-result'><thead style='background-color: white'><tr><th>col_name</th><th>data_type</th><th>comment</th></tr></thead><tbody><tr><td>inventory_key</td><td>int</td><td>null</td></tr><tr><td>rental_rate</td><td>double</td><td>null</td></tr><tr><td>film_id</td><td>int</td><td>null</td></tr><tr><td></td><td></td><td></td></tr><tr><td># Detailed Table Information</td><td></td><td></td></tr><tr><td>Catalog</td><td>spark_catalog</td><td></td></tr><tr><td>Database</td><td>sakila_dlh</td><td></td></tr><tr><td>Table</td><td>dim_inventory</td><td></td></tr><tr><td>Type</td><td>MANAGED</td><td></td></tr><tr><td>Location</td><td>dbfs:/FileStore/ds2002-lab06/sakila_dlh/dim_inventory</td><td></td></tr><tr><td>Provider</td><td>delta</td><td></td></tr><tr><td>Owner</td><td>root</td><td></td></tr><tr><td>Is_managed_location</td><td>true</td><td></td></tr><tr><td>Table Properties</td><td>[delta.minReaderVersion=1,delta.minWriterVersion=2]</td><td></td></tr></tbody></table></div>"
      ]
     },
     "metadata": {
      "application/vnd.databricks.v1+output": {
       "addedWidgets": {},
       "aggData": [],
       "aggError": "",
       "aggOverflow": false,
       "aggSchema": [],
       "aggSeriesLimitReached": false,
       "aggType": "",
       "arguments": {},
       "columnCustomDisplayInfos": {},
       "data": [
        [
         "inventory_key",
         "int",
         null
        ],
        [
         "rental_rate",
         "double",
         null
        ],
        [
         "film_id",
         "int",
         null
        ],
        [
         "",
         "",
         ""
        ],
        [
         "# Detailed Table Information",
         "",
         ""
        ],
        [
         "Catalog",
         "spark_catalog",
         ""
        ],
        [
         "Database",
         "sakila_dlh",
         ""
        ],
        [
         "Table",
         "dim_inventory",
         ""
        ],
        [
         "Type",
         "MANAGED",
         ""
        ],
        [
         "Location",
         "dbfs:/FileStore/ds2002-lab06/sakila_dlh/dim_inventory",
         ""
        ],
        [
         "Provider",
         "delta",
         ""
        ],
        [
         "Owner",
         "root",
         ""
        ],
        [
         "Is_managed_location",
         "true",
         ""
        ],
        [
         "Table Properties",
         "[delta.minReaderVersion=1,delta.minWriterVersion=2]",
         ""
        ]
       ],
       "datasetInfos": [],
       "dbfsResultPath": null,
       "isJsonSchema": true,
       "metadata": {},
       "overflow": false,
       "plotOptions": {
        "customPlotOptions": {},
        "displayType": "table",
        "pivotAggregation": null,
        "pivotColumns": null,
        "xColumns": null,
        "yColumns": null
       },
       "removedWidgets": [],
       "schema": [
        {
         "metadata": "{\"comment\":\"name of the column\"}",
         "name": "col_name",
         "type": "\"string\""
        },
        {
         "metadata": "{\"comment\":\"data type of the column\"}",
         "name": "data_type",
         "type": "\"string\""
        },
        {
         "metadata": "{\"comment\":\"comment of the column\"}",
         "name": "comment",
         "type": "\"string\""
        }
       ],
       "type": "table"
      }
     },
     "output_type": "display_data"
    }
   ],
   "source": [
    "%sql\n",
    "DESCRIBE EXTENDED sakila_dlh.dim_inventory;"
   ]
  },
  {
   "cell_type": "code",
   "execution_count": 0,
   "metadata": {
    "application/vnd.databricks.v1+cell": {
     "cellMetadata": {
      "byteLimit": 2048000,
      "implicitDf": true,
      "rowLimit": 10000
     },
     "inputWidgets": {},
     "nuid": "954f0f88-d284-4577-91db-1f2c50c9cc46",
     "showTitle": false,
     "title": ""
    }
   },
   "outputs": [
    {
     "output_type": "display_data",
     "data": {
      "text/html": [
       "<style scoped>\n",
       "  .table-result-container {\n",
       "    max-height: 300px;\n",
       "    overflow: auto;\n",
       "  }\n",
       "  table, th, td {\n",
       "    border: 1px solid black;\n",
       "    border-collapse: collapse;\n",
       "  }\n",
       "  th, td {\n",
       "    padding: 5px;\n",
       "  }\n",
       "  th {\n",
       "    text-align: left;\n",
       "  }\n",
       "</style><div class='table-result-container'><table class='table-result'><thead style='background-color: white'><tr><th>inventory_key</th><th>rental_rate</th><th>film_id</th></tr></thead><tbody><tr><td>1</td><td>0.99</td><td>1</td></tr><tr><td>2</td><td>0.99</td><td>1</td></tr><tr><td>3</td><td>0.99</td><td>1</td></tr><tr><td>4</td><td>0.99</td><td>1</td></tr><tr><td>5</td><td>0.99</td><td>1</td></tr></tbody></table></div>"
      ]
     },
     "metadata": {
      "application/vnd.databricks.v1+output": {
       "addedWidgets": {},
       "aggData": [],
       "aggError": "",
       "aggOverflow": false,
       "aggSchema": [],
       "aggSeriesLimitReached": false,
       "aggType": "",
       "arguments": {},
       "columnCustomDisplayInfos": {},
       "data": [
        [
         1,
         0.99,
         1
        ],
        [
         2,
         0.99,
         1
        ],
        [
         3,
         0.99,
         1
        ],
        [
         4,
         0.99,
         1
        ],
        [
         5,
         0.99,
         1
        ]
       ],
       "datasetInfos": [],
       "dbfsResultPath": null,
       "isJsonSchema": true,
       "metadata": {},
       "overflow": false,
       "plotOptions": {
        "customPlotOptions": {},
        "displayType": "table",
        "pivotAggregation": null,
        "pivotColumns": null,
        "xColumns": null,
        "yColumns": null
       },
       "removedWidgets": [],
       "schema": [
        {
         "metadata": "{}",
         "name": "inventory_key",
         "type": "\"integer\""
        },
        {
         "metadata": "{}",
         "name": "rental_rate",
         "type": "\"double\""
        },
        {
         "metadata": "{}",
         "name": "film_id",
         "type": "\"integer\""
        }
       ],
       "type": "table"
      }
     },
     "output_type": "display_data"
    }
   ],
   "source": [
    "%sql\n",
    "SELECT * FROM sakila_dlh.dim_inventory LIMIT 5;"
   ]
  },
  {
   "cell_type": "code",
   "execution_count": 0,
   "metadata": {
    "application/vnd.databricks.v1+cell": {
     "cellMetadata": {
      "byteLimit": 2048000,
      "rowLimit": 10000
     },
     "inputWidgets": {},
     "nuid": "8e26b852-3f8d-42ce-8e58-53c0ac3a3712",
     "showTitle": false,
     "title": ""
    }
   },
   "outputs": [],
   "source": [
    "# verify dimension tables"
   ]
  },
  {
   "cell_type": "code",
   "execution_count": 0,
   "metadata": {
    "application/vnd.databricks.v1+cell": {
     "cellMetadata": {
      "byteLimit": 2048000,
      "implicitDf": true,
      "rowLimit": 10000
     },
     "inputWidgets": {},
     "nuid": "7ef327ad-5def-44ef-ba43-3c3e3f77cc91",
     "showTitle": false,
     "title": ""
    }
   },
   "outputs": [
    {
     "output_type": "display_data",
     "data": {
      "text/html": [
       "<style scoped>\n",
       "  .table-result-container {\n",
       "    max-height: 300px;\n",
       "    overflow: auto;\n",
       "  }\n",
       "  table, th, td {\n",
       "    border: 1px solid black;\n",
       "    border-collapse: collapse;\n",
       "  }\n",
       "  th, td {\n",
       "    padding: 5px;\n",
       "  }\n",
       "  th {\n",
       "    text-align: left;\n",
       "  }\n",
       "</style><div class='table-result-container'><table class='table-result'><thead style='background-color: white'><tr><th>database</th><th>tableName</th><th>isTemporary</th></tr></thead><tbody><tr><td>sakila_dlh</td><td>dim_customer</td><td>false</td></tr><tr><td>sakila_dlh</td><td>dim_date</td><td>false</td></tr><tr><td>sakila_dlh</td><td>dim_inventory</td><td>false</td></tr><tr><td>sakila_dlh</td><td>dim_staff</td><td>false</td></tr><tr><td></td><td>view_customer</td><td>true</td></tr><tr><td></td><td>view_date</td><td>true</td></tr></tbody></table></div>"
      ]
     },
     "metadata": {
      "application/vnd.databricks.v1+output": {
       "addedWidgets": {},
       "aggData": [],
       "aggError": "",
       "aggOverflow": false,
       "aggSchema": [],
       "aggSeriesLimitReached": false,
       "aggType": "",
       "arguments": {},
       "columnCustomDisplayInfos": {},
       "data": [
        [
         "sakila_dlh",
         "dim_customer",
         false
        ],
        [
         "sakila_dlh",
         "dim_date",
         false
        ],
        [
         "sakila_dlh",
         "dim_inventory",
         false
        ],
        [
         "sakila_dlh",
         "dim_staff",
         false
        ],
        [
         "",
         "view_customer",
         true
        ],
        [
         "",
         "view_date",
         true
        ]
       ],
       "datasetInfos": [],
       "dbfsResultPath": null,
       "isJsonSchema": true,
       "metadata": {},
       "overflow": false,
       "plotOptions": {
        "customPlotOptions": {},
        "displayType": "table",
        "pivotAggregation": null,
        "pivotColumns": null,
        "xColumns": null,
        "yColumns": null
       },
       "removedWidgets": [],
       "schema": [
        {
         "metadata": "{}",
         "name": "database",
         "type": "\"string\""
        },
        {
         "metadata": "{}",
         "name": "tableName",
         "type": "\"string\""
        },
        {
         "metadata": "{}",
         "name": "isTemporary",
         "type": "\"boolean\""
        }
       ],
       "type": "table"
      }
     },
     "output_type": "display_data"
    }
   ],
   "source": [
    "%sql\n",
    "USE sakila_dlh;\n",
    "SHOW TABLES"
   ]
  },
  {
   "cell_type": "code",
   "execution_count": 0,
   "metadata": {
    "application/vnd.databricks.v1+cell": {
     "cellMetadata": {
      "byteLimit": 2048000,
      "rowLimit": 10000
     },
     "inputWidgets": {},
     "nuid": "93166835-911d-42aa-ad97-723c17b26d21",
     "showTitle": false,
     "title": ""
    }
   },
   "outputs": [],
   "source": [
    "## Use AutoLoader to Process Streaming (Hot Path) Orders Fact Data\n",
    "## Bronze Table: Process 'Raw' JSON Data"
   ]
  },
  {
   "cell_type": "code",
   "execution_count": 0,
   "metadata": {
    "application/vnd.databricks.v1+cell": {
     "cellMetadata": {
      "byteLimit": 2048000,
      "rowLimit": 10000
     },
     "inputWidgets": {},
     "nuid": "cb6698d8-3c25-4a3a-9bf7-3ff5fc758028",
     "showTitle": false,
     "title": ""
    }
   },
   "outputs": [],
   "source": [
    "(spark.readStream\n",
    " .format(\"cloudFiles\")\n",
    " .option(\"cloudFiles.format\", \"json\")\n",
    " .option(\"cloudFiles.schemaHints\", \"fact_rental_key BIGINT\")\n",
    " .option(\"cloudFiles.schemaHints\", \"inventory_key BIGINT\")\n",
    " .option(\"cloudFiles.schemaHints\", \"customer_key BIGINT\")\n",
    " .option(\"cloudFiles.schemaHints\", \"staff_key BIGINT\") \n",
    " .option(\"cloudFiles.schemaHints\", \"amount DECIMAL\")\n",
    " .option(\"cloudFiles.schemaHints\", \"last_update STRING\")\n",
    " .option(\"cloudFiles.schemaHints\", \"rental_date_key DECIMAL\")\n",
    " .option(\"cloudFiles.schemaHints\", \"return_date_key DECIMAL\")\n",
    " .option(\"cloudFiles.schemaLocation\", rental_output_bronze)\n",
    " .option(\"cloudFiles.inferColumnTypes\", \"true\")\n",
    " .option(\"multiLine\", \"true\")\n",
    " .load(rental_stream_dir)\n",
    " .createOrReplaceTempView(\"rental_raw_tempview\"))"
   ]
  },
  {
   "cell_type": "code",
   "execution_count": 0,
   "metadata": {
    "application/vnd.databricks.v1+cell": {
     "cellMetadata": {
      "byteLimit": 2048000,
      "implicitDf": true,
      "rowLimit": 10000
     },
     "inputWidgets": {},
     "nuid": "efc9b7a6-43f9-46f5-96a8-b9285fbe7f1e",
     "showTitle": false,
     "title": ""
    }
   },
   "outputs": [
    {
     "output_type": "display_data",
     "data": {
      "text/html": [
       "<style scoped>\n",
       "  .table-result-container {\n",
       "    max-height: 300px;\n",
       "    overflow: auto;\n",
       "  }\n",
       "  table, th, td {\n",
       "    border: 1px solid black;\n",
       "    border-collapse: collapse;\n",
       "  }\n",
       "  th, td {\n",
       "    padding: 5px;\n",
       "  }\n",
       "  th {\n",
       "    text-align: left;\n",
       "  }\n",
       "</style><div class='table-result-container'><table class='table-result'><thead style='background-color: white'><tr></tr></thead><tbody></tbody></table></div>"
      ]
     },
     "metadata": {
      "application/vnd.databricks.v1+output": {
       "addedWidgets": {},
       "aggData": [],
       "aggError": "",
       "aggOverflow": false,
       "aggSchema": [],
       "aggSeriesLimitReached": false,
       "aggType": "",
       "arguments": {},
       "columnCustomDisplayInfos": {},
       "data": [],
       "datasetInfos": [],
       "dbfsResultPath": null,
       "isJsonSchema": true,
       "metadata": {},
       "overflow": false,
       "plotOptions": {
        "customPlotOptions": {},
        "displayType": "table",
        "pivotAggregation": null,
        "pivotColumns": null,
        "xColumns": null,
        "yColumns": null
       },
       "removedWidgets": [],
       "schema": [],
       "type": "table"
      }
     },
     "output_type": "display_data"
    }
   ],
   "source": [
    "%sql\n",
    "/* Add Metadata for Traceability */\n",
    "CREATE OR REPLACE TEMPORARY VIEW rental_bronze_tempview AS (\n",
    "  SELECT *, current_timestamp() receipt_time, input_file_name() source_file\n",
    "  FROM rental_raw_tempview\n",
    ")"
   ]
  },
  {
   "cell_type": "code",
   "execution_count": 0,
   "metadata": {
    "application/vnd.databricks.v1+cell": {
     "cellMetadata": {
      "byteLimit": 2048000,
      "implicitDf": true,
      "rowLimit": 10000
     },
     "inputWidgets": {},
     "nuid": "4772ff7c-5a17-4099-8691-f7cca3313aff",
     "showTitle": false,
     "title": ""
    }
   },
   "outputs": [
    {
     "output_type": "display_data",
     "data": {
      "text/html": [
       "<style scoped>\n",
       "  .table-result-container {\n",
       "    max-height: 300px;\n",
       "    overflow: auto;\n",
       "  }\n",
       "  table, th, td {\n",
       "    border: 1px solid black;\n",
       "    border-collapse: collapse;\n",
       "  }\n",
       "  th, td {\n",
       "    padding: 5px;\n",
       "  }\n",
       "  th {\n",
       "    text-align: left;\n",
       "  }\n",
       "</style><div class='table-result-container'><table class='table-result'><thead style='background-color: white'><tr><th>amount</th><th>customer_key</th><th>fact_rental_key</th><th>inventory_key</th><th>last_update</th><th>rental_date_key</th><th>return_date_key</th><th>staff_key</th><th>_rescued_data</th><th>receipt_time</th><th>source_file</th></tr></thead><tbody><tr><td>2.99</td><td>130</td><td>1</td><td>367</td><td>2006-02-15 21:30:53</td><td>20050524</td><td>20050526</td><td>1</td><td>null</td><td>2023-05-02T15:39:23.585+0000</td><td>dbfs:/FileStore/ds2002-lab06/sourcedata/stream/rental/sakila_fact_rental.json</td></tr><tr><td>2.99</td><td>459</td><td>2</td><td>1525</td><td>2006-02-15 21:30:53</td><td>20050524</td><td>20050528</td><td>1</td><td>null</td><td>2023-05-02T15:39:23.585+0000</td><td>dbfs:/FileStore/ds2002-lab06/sourcedata/stream/rental/sakila_fact_rental.json</td></tr><tr><td>3.99</td><td>408</td><td>3</td><td>1711</td><td>2006-02-15 21:30:53</td><td>20050524</td><td>20050601</td><td>1</td><td>null</td><td>2023-05-02T15:39:23.585+0000</td><td>dbfs:/FileStore/ds2002-lab06/sourcedata/stream/rental/sakila_fact_rental.json</td></tr><tr><td>4.99</td><td>333</td><td>4</td><td>2452</td><td>2006-02-15 21:30:53</td><td>20050524</td><td>20050603</td><td>2</td><td>null</td><td>2023-05-02T15:39:23.585+0000</td><td>dbfs:/FileStore/ds2002-lab06/sourcedata/stream/rental/sakila_fact_rental.json</td></tr><tr><td>6.99</td><td>222</td><td>5</td><td>2079</td><td>2006-02-15 21:30:53</td><td>20050524</td><td>20050602</td><td>1</td><td>null</td><td>2023-05-02T15:39:23.585+0000</td><td>dbfs:/FileStore/ds2002-lab06/sourcedata/stream/rental/sakila_fact_rental.json</td></tr><tr><td>0.99</td><td>549</td><td>6</td><td>2792</td><td>2006-02-15 21:30:53</td><td>20050524</td><td>20050527</td><td>1</td><td>null</td><td>2023-05-02T15:39:23.585+0000</td><td>dbfs:/FileStore/ds2002-lab06/sourcedata/stream/rental/sakila_fact_rental.json</td></tr><tr><td>1.99</td><td>269</td><td>7</td><td>3995</td><td>2006-02-15 21:30:53</td><td>20050524</td><td>20050529</td><td>2</td><td>null</td><td>2023-05-02T15:39:23.585+0000</td><td>dbfs:/FileStore/ds2002-lab06/sourcedata/stream/rental/sakila_fact_rental.json</td></tr><tr><td>4.99</td><td>239</td><td>8</td><td>2346</td><td>2006-02-15 21:30:53</td><td>20050524</td><td>20050527</td><td>2</td><td>null</td><td>2023-05-02T15:39:23.585+0000</td><td>dbfs:/FileStore/ds2002-lab06/sourcedata/stream/rental/sakila_fact_rental.json</td></tr><tr><td>4.99</td><td>126</td><td>9</td><td>2580</td><td>2006-02-15 21:30:53</td><td>20050525</td><td>20050528</td><td>1</td><td>null</td><td>2023-05-02T15:39:23.585+0000</td><td>dbfs:/FileStore/ds2002-lab06/sourcedata/stream/rental/sakila_fact_rental.json</td></tr><tr><td>5.99</td><td>399</td><td>10</td><td>1824</td><td>2006-02-15 21:30:53</td><td>20050525</td><td>20050531</td><td>2</td><td>null</td><td>2023-05-02T15:39:23.585+0000</td><td>dbfs:/FileStore/ds2002-lab06/sourcedata/stream/rental/sakila_fact_rental.json</td></tr><tr><td>8.99</td><td>142</td><td>11</td><td>4443</td><td>2006-02-15 21:30:53</td><td>20050525</td><td>20050602</td><td>2</td><td>null</td><td>2023-05-02T15:39:23.585+0000</td><td>dbfs:/FileStore/ds2002-lab06/sourcedata/stream/rental/sakila_fact_rental.json</td></tr><tr><td>4.99</td><td>261</td><td>12</td><td>1584</td><td>2006-02-15 21:30:53</td><td>20050525</td><td>20050530</td><td>2</td><td>null</td><td>2023-05-02T15:39:23.585+0000</td><td>dbfs:/FileStore/ds2002-lab06/sourcedata/stream/rental/sakila_fact_rental.json</td></tr><tr><td>6.99</td><td>334</td><td>13</td><td>2294</td><td>2006-02-15 21:30:53</td><td>20050525</td><td>20050530</td><td>1</td><td>null</td><td>2023-05-02T15:39:23.585+0000</td><td>dbfs:/FileStore/ds2002-lab06/sourcedata/stream/rental/sakila_fact_rental.json</td></tr><tr><td>0.99</td><td>446</td><td>14</td><td>2701</td><td>2006-02-15 21:30:53</td><td>20050525</td><td>20050526</td><td>1</td><td>null</td><td>2023-05-02T15:39:23.585+0000</td><td>dbfs:/FileStore/ds2002-lab06/sourcedata/stream/rental/sakila_fact_rental.json</td></tr><tr><td>9.99</td><td>319</td><td>15</td><td>3049</td><td>2006-02-15 21:30:53</td><td>20050525</td><td>20050603</td><td>1</td><td>null</td><td>2023-05-02T15:39:23.585+0000</td><td>dbfs:/FileStore/ds2002-lab06/sourcedata/stream/rental/sakila_fact_rental.json</td></tr><tr><td>4.99</td><td>316</td><td>16</td><td>389</td><td>2006-02-15 21:30:53</td><td>20050525</td><td>20050526</td><td>2</td><td>null</td><td>2023-05-02T15:39:23.585+0000</td><td>dbfs:/FileStore/ds2002-lab06/sourcedata/stream/rental/sakila_fact_rental.json</td></tr><tr><td>2.99</td><td>575</td><td>17</td><td>830</td><td>2006-02-15 21:30:53</td><td>20050525</td><td>20050527</td><td>1</td><td>null</td><td>2023-05-02T15:39:23.585+0000</td><td>dbfs:/FileStore/ds2002-lab06/sourcedata/stream/rental/sakila_fact_rental.json</td></tr><tr><td>0.99</td><td>19</td><td>18</td><td>3376</td><td>2006-02-15 21:30:53</td><td>20050525</td><td>20050531</td><td>2</td><td>null</td><td>2023-05-02T15:39:23.585+0000</td><td>dbfs:/FileStore/ds2002-lab06/sourcedata/stream/rental/sakila_fact_rental.json</td></tr><tr><td>4.99</td><td>456</td><td>19</td><td>1941</td><td>2006-02-15 21:30:53</td><td>20050525</td><td>20050531</td><td>1</td><td>null</td><td>2023-05-02T15:39:23.585+0000</td><td>dbfs:/FileStore/ds2002-lab06/sourcedata/stream/rental/sakila_fact_rental.json</td></tr><tr><td>2.99</td><td>185</td><td>20</td><td>3517</td><td>2006-02-15 21:30:53</td><td>20050525</td><td>20050527</td><td>2</td><td>null</td><td>2023-05-02T15:39:23.585+0000</td><td>dbfs:/FileStore/ds2002-lab06/sourcedata/stream/rental/sakila_fact_rental.json</td></tr><tr><td>4.99</td><td>388</td><td>21</td><td>146</td><td>2006-02-15 21:30:53</td><td>20050525</td><td>20050526</td><td>2</td><td>null</td><td>2023-05-02T15:39:23.585+0000</td><td>dbfs:/FileStore/ds2002-lab06/sourcedata/stream/rental/sakila_fact_rental.json</td></tr><tr><td>4.99</td><td>509</td><td>22</td><td>727</td><td>2006-02-15 21:30:53</td><td>20050525</td><td>20050526</td><td>2</td><td>null</td><td>2023-05-02T15:39:23.585+0000</td><td>dbfs:/FileStore/ds2002-lab06/sourcedata/stream/rental/sakila_fact_rental.json</td></tr><tr><td>4.99</td><td>438</td><td>23</td><td>4441</td><td>2006-02-15 21:30:53</td><td>20050525</td><td>20050529</td><td>1</td><td>null</td><td>2023-05-02T15:39:23.585+0000</td><td>dbfs:/FileStore/ds2002-lab06/sourcedata/stream/rental/sakila_fact_rental.json</td></tr><tr><td>4.99</td><td>350</td><td>24</td><td>3273</td><td>2006-02-15 21:30:53</td><td>20050525</td><td>20050527</td><td>1</td><td>null</td><td>2023-05-02T15:39:23.585+0000</td><td>dbfs:/FileStore/ds2002-lab06/sourcedata/stream/rental/sakila_fact_rental.json</td></tr><tr><td>0.99</td><td>37</td><td>25</td><td>3961</td><td>2006-02-15 21:30:53</td><td>20050525</td><td>20050527</td><td>2</td><td>null</td><td>2023-05-02T15:39:23.585+0000</td><td>dbfs:/FileStore/ds2002-lab06/sourcedata/stream/rental/sakila_fact_rental.json</td></tr><tr><td>3.99</td><td>371</td><td>26</td><td>4371</td><td>2006-02-15 21:30:53</td><td>20050525</td><td>20050531</td><td>1</td><td>null</td><td>2023-05-02T15:39:23.585+0000</td><td>dbfs:/FileStore/ds2002-lab06/sourcedata/stream/rental/sakila_fact_rental.json</td></tr><tr><td>4.99</td><td>301</td><td>27</td><td>1225</td><td>2006-02-15 21:30:53</td><td>20050525</td><td>20050530</td><td>2</td><td>null</td><td>2023-05-02T15:39:23.585+0000</td><td>dbfs:/FileStore/ds2002-lab06/sourcedata/stream/rental/sakila_fact_rental.json</td></tr><tr><td>4.99</td><td>232</td><td>28</td><td>4068</td><td>2006-02-15 21:30:53</td><td>20050525</td><td>20050526</td><td>2</td><td>null</td><td>2023-05-02T15:39:23.585+0000</td><td>dbfs:/FileStore/ds2002-lab06/sourcedata/stream/rental/sakila_fact_rental.json</td></tr><tr><td>0.99</td><td>44</td><td>29</td><td>611</td><td>2006-02-15 21:30:53</td><td>20050525</td><td>20050530</td><td>2</td><td>null</td><td>2023-05-02T15:39:23.585+0000</td><td>dbfs:/FileStore/ds2002-lab06/sourcedata/stream/rental/sakila_fact_rental.json</td></tr><tr><td>2.99</td><td>430</td><td>30</td><td>3744</td><td>2006-02-15 21:30:53</td><td>20050525</td><td>20050530</td><td>1</td><td>null</td><td>2023-05-02T15:39:23.585+0000</td><td>dbfs:/FileStore/ds2002-lab06/sourcedata/stream/rental/sakila_fact_rental.json</td></tr><tr><td>4.99</td><td>369</td><td>31</td><td>4482</td><td>2006-02-15 21:30:53</td><td>20050525</td><td>20050530</td><td>1</td><td>null</td><td>2023-05-02T15:39:23.585+0000</td><td>dbfs:/FileStore/ds2002-lab06/sourcedata/stream/rental/sakila_fact_rental.json</td></tr><tr><td>0.99</td><td>230</td><td>32</td><td>3832</td><td>2006-02-15 21:30:53</td><td>20050525</td><td>20050525</td><td>1</td><td>null</td><td>2023-05-02T15:39:23.585+0000</td><td>dbfs:/FileStore/ds2002-lab06/sourcedata/stream/rental/sakila_fact_rental.json</td></tr><tr><td>0.99</td><td>272</td><td>33</td><td>1681</td><td>2006-02-15 21:30:53</td><td>20050525</td><td>20050527</td><td>1</td><td>null</td><td>2023-05-02T15:39:23.585+0000</td><td>dbfs:/FileStore/ds2002-lab06/sourcedata/stream/rental/sakila_fact_rental.json</td></tr><tr><td>2.99</td><td>597</td><td>34</td><td>2613</td><td>2006-02-15 21:30:53</td><td>20050525</td><td>20050529</td><td>2</td><td>null</td><td>2023-05-02T15:39:23.585+0000</td><td>dbfs:/FileStore/ds2002-lab06/sourcedata/stream/rental/sakila_fact_rental.json</td></tr><tr><td>4.99</td><td>484</td><td>35</td><td>1286</td><td>2006-02-15 21:30:53</td><td>20050525</td><td>20050527</td><td>2</td><td>null</td><td>2023-05-02T15:39:23.585+0000</td><td>dbfs:/FileStore/ds2002-lab06/sourcedata/stream/rental/sakila_fact_rental.json</td></tr><tr><td>2.99</td><td>88</td><td>36</td><td>1308</td><td>2006-02-15 21:30:53</td><td>20050525</td><td>20050529</td><td>1</td><td>null</td><td>2023-05-02T15:39:23.585+0000</td><td>dbfs:/FileStore/ds2002-lab06/sourcedata/stream/rental/sakila_fact_rental.json</td></tr><tr><td>0.99</td><td>535</td><td>37</td><td>403</td><td>2006-02-15 21:30:53</td><td>20050525</td><td>20050529</td><td>1</td><td>null</td><td>2023-05-02T15:39:23.585+0000</td><td>dbfs:/FileStore/ds2002-lab06/sourcedata/stream/rental/sakila_fact_rental.json</td></tr><tr><td>4.99</td><td>302</td><td>38</td><td>2540</td><td>2006-02-15 21:30:53</td><td>20050525</td><td>20050601</td><td>1</td><td>null</td><td>2023-05-02T15:39:23.585+0000</td><td>dbfs:/FileStore/ds2002-lab06/sourcedata/stream/rental/sakila_fact_rental.json</td></tr><tr><td>0.99</td><td>207</td><td>39</td><td>4466</td><td>2006-02-15 21:30:53</td><td>20050525</td><td>20050531</td><td>2</td><td>null</td><td>2023-05-02T15:39:23.585+0000</td><td>dbfs:/FileStore/ds2002-lab06/sourcedata/stream/rental/sakila_fact_rental.json</td></tr><tr><td>4.99</td><td>413</td><td>40</td><td>2638</td><td>2006-02-15 21:30:53</td><td>20050525</td><td>20050527</td><td>1</td><td>null</td><td>2023-05-02T15:39:23.585+0000</td><td>dbfs:/FileStore/ds2002-lab06/sourcedata/stream/rental/sakila_fact_rental.json</td></tr><tr><td>5.99</td><td>174</td><td>41</td><td>1761</td><td>2006-02-15 21:30:53</td><td>20050525</td><td>20050602</td><td>1</td><td>null</td><td>2023-05-02T15:39:23.585+0000</td><td>dbfs:/FileStore/ds2002-lab06/sourcedata/stream/rental/sakila_fact_rental.json</td></tr><tr><td>4.99</td><td>523</td><td>42</td><td>380</td><td>2006-02-15 21:30:53</td><td>20050525</td><td>20050531</td><td>2</td><td>null</td><td>2023-05-02T15:39:23.585+0000</td><td>dbfs:/FileStore/ds2002-lab06/sourcedata/stream/rental/sakila_fact_rental.json</td></tr><tr><td>2.99</td><td>532</td><td>43</td><td>2578</td><td>2006-02-15 21:30:53</td><td>20050525</td><td>20050526</td><td>2</td><td>null</td><td>2023-05-02T15:39:23.585+0000</td><td>dbfs:/FileStore/ds2002-lab06/sourcedata/stream/rental/sakila_fact_rental.json</td></tr><tr><td>0.99</td><td>207</td><td>44</td><td>3098</td><td>2006-02-15 21:30:53</td><td>20050525</td><td>20050529</td><td>2</td><td>null</td><td>2023-05-02T15:39:23.585+0000</td><td>dbfs:/FileStore/ds2002-lab06/sourcedata/stream/rental/sakila_fact_rental.json</td></tr><tr><td>7.99</td><td>436</td><td>45</td><td>1853</td><td>2006-02-15 21:30:53</td><td>20050525</td><td>20050602</td><td>2</td><td>null</td><td>2023-05-02T15:39:23.585+0000</td><td>dbfs:/FileStore/ds2002-lab06/sourcedata/stream/rental/sakila_fact_rental.json</td></tr><tr><td>5.99</td><td>7</td><td>46</td><td>3318</td><td>2006-02-15 21:30:53</td><td>20050525</td><td>20050602</td><td>2</td><td>null</td><td>2023-05-02T15:39:23.585+0000</td><td>dbfs:/FileStore/ds2002-lab06/sourcedata/stream/rental/sakila_fact_rental.json</td></tr><tr><td>3.99</td><td>35</td><td>47</td><td>2211</td><td>2006-02-15 21:30:53</td><td>20050525</td><td>20050530</td><td>1</td><td>null</td><td>2023-05-02T15:39:23.585+0000</td><td>dbfs:/FileStore/ds2002-lab06/sourcedata/stream/rental/sakila_fact_rental.json</td></tr><tr><td>1.99</td><td>282</td><td>48</td><td>1780</td><td>2006-02-15 21:30:53</td><td>20050525</td><td>20050602</td><td>1</td><td>null</td><td>2023-05-02T15:39:23.585+0000</td><td>dbfs:/FileStore/ds2002-lab06/sourcedata/stream/rental/sakila_fact_rental.json</td></tr><tr><td>2.99</td><td>498</td><td>49</td><td>2965</td><td>2006-02-15 21:30:53</td><td>20050525</td><td>20050530</td><td>2</td><td>null</td><td>2023-05-02T15:39:23.585+0000</td><td>dbfs:/FileStore/ds2002-lab06/sourcedata/stream/rental/sakila_fact_rental.json</td></tr><tr><td>2.99</td><td>18</td><td>50</td><td>1983</td><td>2006-02-15 21:30:53</td><td>20050525</td><td>20050528</td><td>2</td><td>null</td><td>2023-05-02T15:39:23.585+0000</td><td>dbfs:/FileStore/ds2002-lab06/sourcedata/stream/rental/sakila_fact_rental.json</td></tr><tr><td>4.99</td><td>256</td><td>51</td><td>1257</td><td>2006-02-15 21:30:53</td><td>20050525</td><td>20050526</td><td>1</td><td>null</td><td>2023-05-02T15:39:23.585+0000</td><td>dbfs:/FileStore/ds2002-lab06/sourcedata/stream/rental/sakila_fact_rental.json</td></tr><tr><td>0.99</td><td>507</td><td>52</td><td>4017</td><td>2006-02-15 21:30:53</td><td>20050525</td><td>20050531</td><td>2</td><td>null</td><td>2023-05-02T15:39:23.585+0000</td><td>dbfs:/FileStore/ds2002-lab06/sourcedata/stream/rental/sakila_fact_rental.json</td></tr><tr><td>4.99</td><td>569</td><td>53</td><td>1255</td><td>2006-02-15 21:30:53</td><td>20050525</td><td>20050527</td><td>2</td><td>null</td><td>2023-05-02T15:39:23.585+0000</td><td>dbfs:/FileStore/ds2002-lab06/sourcedata/stream/rental/sakila_fact_rental.json</td></tr><tr><td>4.99</td><td>291</td><td>54</td><td>2787</td><td>2006-02-15 21:30:53</td><td>20050525</td><td>20050601</td><td>2</td><td>null</td><td>2023-05-02T15:39:23.585+0000</td><td>dbfs:/FileStore/ds2002-lab06/sourcedata/stream/rental/sakila_fact_rental.json</td></tr><tr><td>2.99</td><td>131</td><td>55</td><td>1139</td><td>2006-02-15 21:30:53</td><td>20050525</td><td>20050530</td><td>1</td><td>null</td><td>2023-05-02T15:39:23.585+0000</td><td>dbfs:/FileStore/ds2002-lab06/sourcedata/stream/rental/sakila_fact_rental.json</td></tr><tr><td>2.99</td><td>511</td><td>56</td><td>1352</td><td>2006-02-15 21:30:53</td><td>20050525</td><td>20050526</td><td>1</td><td>null</td><td>2023-05-02T15:39:23.585+0000</td><td>dbfs:/FileStore/ds2002-lab06/sourcedata/stream/rental/sakila_fact_rental.json</td></tr><tr><td>4.99</td><td>6</td><td>57</td><td>3938</td><td>2006-02-15 21:30:53</td><td>20050525</td><td>20050529</td><td>2</td><td>null</td><td>2023-05-02T15:39:23.585+0000</td><td>dbfs:/FileStore/ds2002-lab06/sourcedata/stream/rental/sakila_fact_rental.json</td></tr><tr><td>4.99</td><td>323</td><td>58</td><td>3050</td><td>2006-02-15 21:30:53</td><td>20050525</td><td>20050528</td><td>1</td><td>null</td><td>2023-05-02T15:39:23.585+0000</td><td>dbfs:/FileStore/ds2002-lab06/sourcedata/stream/rental/sakila_fact_rental.json</td></tr><tr><td>5.99</td><td>408</td><td>59</td><td>2884</td><td>2006-02-15 21:30:53</td><td>20050525</td><td>20050601</td><td>1</td><td>null</td><td>2023-05-02T15:39:23.585+0000</td><td>dbfs:/FileStore/ds2002-lab06/sourcedata/stream/rental/sakila_fact_rental.json</td></tr><tr><td>2.99</td><td>470</td><td>60</td><td>330</td><td>2006-02-15 21:30:53</td><td>20050525</td><td>20050530</td><td>1</td><td>null</td><td>2023-05-02T15:39:23.585+0000</td><td>dbfs:/FileStore/ds2002-lab06/sourcedata/stream/rental/sakila_fact_rental.json</td></tr><tr><td>5.99</td><td>250</td><td>61</td><td>4210</td><td>2006-02-15 21:30:53</td><td>20050525</td><td>20050602</td><td>2</td><td>null</td><td>2023-05-02T15:39:23.585+0000</td><td>dbfs:/FileStore/ds2002-lab06/sourcedata/stream/rental/sakila_fact_rental.json</td></tr><tr><td>2.99</td><td>419</td><td>62</td><td>261</td><td>2006-02-15 21:30:53</td><td>20050525</td><td>20050530</td><td>1</td><td>null</td><td>2023-05-02T15:39:23.585+0000</td><td>dbfs:/FileStore/ds2002-lab06/sourcedata/stream/rental/sakila_fact_rental.json</td></tr><tr><td>0.99</td><td>383</td><td>63</td><td>4008</td><td>2006-02-15 21:30:53</td><td>20050525</td><td>20050527</td><td>1</td><td>null</td><td>2023-05-02T15:39:23.585+0000</td><td>dbfs:/FileStore/ds2002-lab06/sourcedata/stream/rental/sakila_fact_rental.json</td></tr><tr><td>5.99</td><td>368</td><td>64</td><td>79</td><td>2006-02-15 21:30:53</td><td>20050525</td><td>20050603</td><td>1</td><td>null</td><td>2023-05-02T15:39:23.585+0000</td><td>dbfs:/FileStore/ds2002-lab06/sourcedata/stream/rental/sakila_fact_rental.json</td></tr><tr><td>4.99</td><td>346</td><td>65</td><td>3552</td><td>2006-02-15 21:30:53</td><td>20050525</td><td>20050529</td><td>1</td><td>null</td><td>2023-05-02T15:39:23.585+0000</td><td>dbfs:/FileStore/ds2002-lab06/sourcedata/stream/rental/sakila_fact_rental.json</td></tr><tr><td>1.99</td><td>86</td><td>66</td><td>1162</td><td>2006-02-15 21:30:53</td><td>20050525</td><td>20050529</td><td>2</td><td>null</td><td>2023-05-02T15:39:23.585+0000</td><td>dbfs:/FileStore/ds2002-lab06/sourcedata/stream/rental/sakila_fact_rental.json</td></tr><tr><td>0.99</td><td>119</td><td>67</td><td>239</td><td>2006-02-15 21:30:53</td><td>20050525</td><td>20050527</td><td>2</td><td>null</td><td>2023-05-02T15:39:23.585+0000</td><td>dbfs:/FileStore/ds2002-lab06/sourcedata/stream/rental/sakila_fact_rental.json</td></tr><tr><td>7.99</td><td>120</td><td>68</td><td>4029</td><td>2006-02-15 21:30:53</td><td>20050525</td><td>20050531</td><td>2</td><td>null</td><td>2023-05-02T15:39:23.585+0000</td><td>dbfs:/FileStore/ds2002-lab06/sourcedata/stream/rental/sakila_fact_rental.json</td></tr><tr><td>2.99</td><td>305</td><td>69</td><td>3207</td><td>2006-02-15 21:30:53</td><td>20050525</td><td>20050527</td><td>2</td><td>null</td><td>2023-05-02T15:39:23.585+0000</td><td>dbfs:/FileStore/ds2002-lab06/sourcedata/stream/rental/sakila_fact_rental.json</td></tr><tr><td>2.99</td><td>73</td><td>70</td><td>2168</td><td>2006-02-15 21:30:53</td><td>20050525</td><td>20050527</td><td>2</td><td>null</td><td>2023-05-02T15:39:23.585+0000</td><td>dbfs:/FileStore/ds2002-lab06/sourcedata/stream/rental/sakila_fact_rental.json</td></tr><tr><td>0.99</td><td>100</td><td>71</td><td>2408</td><td>2006-02-15 21:30:53</td><td>20050525</td><td>20050528</td><td>1</td><td>null</td><td>2023-05-02T15:39:23.585+0000</td><td>dbfs:/FileStore/ds2002-lab06/sourcedata/stream/rental/sakila_fact_rental.json</td></tr><tr><td>0.99</td><td>48</td><td>72</td><td>2260</td><td>2006-02-15 21:30:53</td><td>20050525</td><td>20050528</td><td>2</td><td>null</td><td>2023-05-02T15:39:23.585+0000</td><td>dbfs:/FileStore/ds2002-lab06/sourcedata/stream/rental/sakila_fact_rental.json</td></tr><tr><td>4.99</td><td>391</td><td>73</td><td>517</td><td>2006-02-15 21:30:53</td><td>20050525</td><td>20050601</td><td>2</td><td>null</td><td>2023-05-02T15:39:23.585+0000</td><td>dbfs:/FileStore/ds2002-lab06/sourcedata/stream/rental/sakila_fact_rental.json</td></tr><tr><td>0.99</td><td>265</td><td>74</td><td>1744</td><td>2006-02-15 21:30:53</td><td>20050525</td><td>20050526</td><td>2</td><td>null</td><td>2023-05-02T15:39:23.585+0000</td><td>dbfs:/FileStore/ds2002-lab06/sourcedata/stream/rental/sakila_fact_rental.json</td></tr><tr><td>8.99</td><td>510</td><td>75</td><td>3393</td><td>2006-02-15 21:30:53</td><td>20050525</td><td>20050603</td><td>1</td><td>null</td><td>2023-05-02T15:39:23.585+0000</td><td>dbfs:/FileStore/ds2002-lab06/sourcedata/stream/rental/sakila_fact_rental.json</td></tr><tr><td>2.99</td><td>1</td><td>76</td><td>3021</td><td>2006-02-15 21:30:53</td><td>20050525</td><td>20050603</td><td>2</td><td>null</td><td>2023-05-02T15:39:23.585+0000</td><td>dbfs:/FileStore/ds2002-lab06/sourcedata/stream/rental/sakila_fact_rental.json</td></tr><tr><td>0.99</td><td>451</td><td>77</td><td>1303</td><td>2006-02-15 21:30:53</td><td>20050525</td><td>20050526</td><td>2</td><td>null</td><td>2023-05-02T15:39:23.585+0000</td><td>dbfs:/FileStore/ds2002-lab06/sourcedata/stream/rental/sakila_fact_rental.json</td></tr><tr><td>5.99</td><td>135</td><td>78</td><td>4067</td><td>2006-02-15 21:30:53</td><td>20050525</td><td>20050531</td><td>2</td><td>null</td><td>2023-05-02T15:39:23.585+0000</td><td>dbfs:/FileStore/ds2002-lab06/sourcedata/stream/rental/sakila_fact_rental.json</td></tr><tr><td>4.99</td><td>245</td><td>79</td><td>3299</td><td>2006-02-15 21:30:53</td><td>20050525</td><td>20050603</td><td>2</td><td>null</td><td>2023-05-02T15:39:23.585+0000</td><td>dbfs:/FileStore/ds2002-lab06/sourcedata/stream/rental/sakila_fact_rental.json</td></tr><tr><td>5.99</td><td>314</td><td>80</td><td>2478</td><td>2006-02-15 21:30:53</td><td>20050525</td><td>20050531</td><td>2</td><td>null</td><td>2023-05-02T15:39:23.585+0000</td><td>dbfs:/FileStore/ds2002-lab06/sourcedata/stream/rental/sakila_fact_rental.json</td></tr><tr><td>6.99</td><td>286</td><td>81</td><td>2610</td><td>2006-02-15 21:30:53</td><td>20050525</td><td>20050602</td><td>2</td><td>null</td><td>2023-05-02T15:39:23.585+0000</td><td>dbfs:/FileStore/ds2002-lab06/sourcedata/stream/rental/sakila_fact_rental.json</td></tr><tr><td>6.99</td><td>427</td><td>82</td><td>1388</td><td>2006-02-15 21:30:53</td><td>20050525</td><td>20050601</td><td>1</td><td>null</td><td>2023-05-02T15:39:23.585+0000</td><td>dbfs:/FileStore/ds2002-lab06/sourcedata/stream/rental/sakila_fact_rental.json</td></tr><tr><td>4.99</td><td>131</td><td>83</td><td>466</td><td>2006-02-15 21:30:53</td><td>20050525</td><td>20050527</td><td>1</td><td>null</td><td>2023-05-02T15:39:23.585+0000</td><td>dbfs:/FileStore/ds2002-lab06/sourcedata/stream/rental/sakila_fact_rental.json</td></tr><tr><td>2.99</td><td>492</td><td>84</td><td>1829</td><td>2006-02-15 21:30:53</td><td>20050525</td><td>20050529</td><td>1</td><td>null</td><td>2023-05-02T15:39:23.585+0000</td><td>dbfs:/FileStore/ds2002-lab06/sourcedata/stream/rental/sakila_fact_rental.json</td></tr><tr><td>4.99</td><td>414</td><td>85</td><td>470</td><td>2006-02-15 21:30:53</td><td>20050525</td><td>20050529</td><td>1</td><td>null</td><td>2023-05-02T15:39:23.585+0000</td><td>dbfs:/FileStore/ds2002-lab06/sourcedata/stream/rental/sakila_fact_rental.json</td></tr><tr><td>1.99</td><td>266</td><td>86</td><td>2275</td><td>2006-02-15 21:30:53</td><td>20050525</td><td>20050530</td><td>1</td><td>null</td><td>2023-05-02T15:39:23.585+0000</td><td>dbfs:/FileStore/ds2002-lab06/sourcedata/stream/rental/sakila_fact_rental.json</td></tr><tr><td>0.99</td><td>331</td><td>87</td><td>1586</td><td>2006-02-15 21:30:53</td><td>20050525</td><td>20050529</td><td>2</td><td>null</td><td>2023-05-02T15:39:23.585+0000</td><td>dbfs:/FileStore/ds2002-lab06/sourcedata/stream/rental/sakila_fact_rental.json</td></tr><tr><td>3.99</td><td>53</td><td>88</td><td>2221</td><td>2006-02-15 21:30:53</td><td>20050525</td><td>20050529</td><td>2</td><td>null</td><td>2023-05-02T15:39:23.585+0000</td><td>dbfs:/FileStore/ds2002-lab06/sourcedata/stream/rental/sakila_fact_rental.json</td></tr><tr><td>2.99</td><td>499</td><td>89</td><td>2181</td><td>2006-02-15 21:30:53</td><td>20050525</td><td>20050529</td><td>1</td><td>null</td><td>2023-05-02T15:39:23.585+0000</td><td>dbfs:/FileStore/ds2002-lab06/sourcedata/stream/rental/sakila_fact_rental.json</td></tr><tr><td>7.99</td><td>25</td><td>90</td><td>2984</td><td>2006-02-15 21:30:53</td><td>20050525</td><td>20050601</td><td>1</td><td>null</td><td>2023-05-02T15:39:23.585+0000</td><td>dbfs:/FileStore/ds2002-lab06/sourcedata/stream/rental/sakila_fact_rental.json</td></tr><tr><td>6.99</td><td>267</td><td>91</td><td>139</td><td>2006-02-15 21:30:53</td><td>20050525</td><td>20050601</td><td>1</td><td>null</td><td>2023-05-02T15:39:23.585+0000</td><td>dbfs:/FileStore/ds2002-lab06/sourcedata/stream/rental/sakila_fact_rental.json</td></tr><tr><td>5.99</td><td>302</td><td>92</td><td>775</td><td>2006-02-15 21:30:53</td><td>20050525</td><td>20050531</td><td>2</td><td>null</td><td>2023-05-02T15:39:23.585+0000</td><td>dbfs:/FileStore/ds2002-lab06/sourcedata/stream/rental/sakila_fact_rental.json</td></tr><tr><td>3.99</td><td>288</td><td>93</td><td>4360</td><td>2006-02-15 21:30:53</td><td>20050525</td><td>20050603</td><td>1</td><td>null</td><td>2023-05-02T15:39:23.585+0000</td><td>dbfs:/FileStore/ds2002-lab06/sourcedata/stream/rental/sakila_fact_rental.json</td></tr><tr><td>2.99</td><td>197</td><td>94</td><td>1675</td><td>2006-02-15 21:30:53</td><td>20050525</td><td>20050530</td><td>1</td><td>null</td><td>2023-05-02T15:39:23.585+0000</td><td>dbfs:/FileStore/ds2002-lab06/sourcedata/stream/rental/sakila_fact_rental.json</td></tr><tr><td>3.99</td><td>400</td><td>95</td><td>178</td><td>2006-02-15 21:30:53</td><td>20050525</td><td>20050602</td><td>2</td><td>null</td><td>2023-05-02T15:39:23.585+0000</td><td>dbfs:/FileStore/ds2002-lab06/sourcedata/stream/rental/sakila_fact_rental.json</td></tr><tr><td>1.99</td><td>49</td><td>96</td><td>3418</td><td>2006-02-15 21:30:53</td><td>20050525</td><td>20050530</td><td>2</td><td>null</td><td>2023-05-02T15:39:23.585+0000</td><td>dbfs:/FileStore/ds2002-lab06/sourcedata/stream/rental/sakila_fact_rental.json</td></tr><tr><td>4.99</td><td>263</td><td>97</td><td>1283</td><td>2006-02-15 21:30:53</td><td>20050525</td><td>20050528</td><td>2</td><td>null</td><td>2023-05-02T15:39:23.585+0000</td><td>dbfs:/FileStore/ds2002-lab06/sourcedata/stream/rental/sakila_fact_rental.json</td></tr><tr><td>0.99</td><td>269</td><td>98</td><td>2970</td><td>2006-02-15 21:30:53</td><td>20050525</td><td>20050527</td><td>2</td><td>null</td><td>2023-05-02T15:39:23.585+0000</td><td>dbfs:/FileStore/ds2002-lab06/sourcedata/stream/rental/sakila_fact_rental.json</td></tr><tr><td>4.99</td><td>44</td><td>99</td><td>535</td><td>2006-02-15 21:30:53</td><td>20050525</td><td>20050528</td><td>1</td><td>null</td><td>2023-05-02T15:39:23.585+0000</td><td>dbfs:/FileStore/ds2002-lab06/sourcedata/stream/rental/sakila_fact_rental.json</td></tr><tr><td>4.99</td><td>208</td><td>100</td><td>2599</td><td>2006-02-15 21:30:53</td><td>20050525</td><td>20050602</td><td>1</td><td>null</td><td>2023-05-02T15:39:23.585+0000</td><td>dbfs:/FileStore/ds2002-lab06/sourcedata/stream/rental/sakila_fact_rental.json</td></tr><tr><td>6.99</td><td>468</td><td>101</td><td>617</td><td>2006-02-15 21:30:53</td><td>20050525</td><td>20050531</td><td>1</td><td>null</td><td>2023-05-02T15:39:23.585+0000</td><td>dbfs:/FileStore/ds2002-lab06/sourcedata/stream/rental/sakila_fact_rental.json</td></tr><tr><td>3.99</td><td>343</td><td>102</td><td>373</td><td>2006-02-15 21:30:53</td><td>20050525</td><td>20050531</td><td>1</td><td>null</td><td>2023-05-02T15:39:23.585+0000</td><td>dbfs:/FileStore/ds2002-lab06/sourcedata/stream/rental/sakila_fact_rental.json</td></tr><tr><td>4.99</td><td>384</td><td>103</td><td>3343</td><td>2006-02-15 21:30:53</td><td>20050525</td><td>20050603</td><td>1</td><td>null</td><td>2023-05-02T15:39:23.585+0000</td><td>dbfs:/FileStore/ds2002-lab06/sourcedata/stream/rental/sakila_fact_rental.json</td></tr><tr><td>0.99</td><td>310</td><td>104</td><td>4281</td><td>2006-02-15 21:30:53</td><td>20050525</td><td>20050527</td><td>1</td><td>null</td><td>2023-05-02T15:39:23.585+0000</td><td>dbfs:/FileStore/ds2002-lab06/sourcedata/stream/rental/sakila_fact_rental.json</td></tr><tr><td>4.99</td><td>108</td><td>105</td><td>794</td><td>2006-02-15 21:30:53</td><td>20050525</td><td>20050530</td><td>2</td><td>null</td><td>2023-05-02T15:39:23.585+0000</td><td>dbfs:/FileStore/ds2002-lab06/sourcedata/stream/rental/sakila_fact_rental.json</td></tr><tr><td>11.99</td><td>196</td><td>106</td><td>3627</td><td>2006-02-15 21:30:53</td><td>20050525</td><td>20050604</td><td>2</td><td>null</td><td>2023-05-02T15:39:23.585+0000</td><td>dbfs:/FileStore/ds2002-lab06/sourcedata/stream/rental/sakila_fact_rental.json</td></tr><tr><td>6.99</td><td>317</td><td>107</td><td>2833</td><td>2006-02-15 21:30:53</td><td>20050525</td><td>20050603</td><td>2</td><td>null</td><td>2023-05-02T15:39:23.585+0000</td><td>dbfs:/FileStore/ds2002-lab06/sourcedata/stream/rental/sakila_fact_rental.json</td></tr><tr><td>2.99</td><td>242</td><td>108</td><td>3289</td><td>2006-02-15 21:30:53</td><td>20050525</td><td>20050530</td><td>1</td><td>null</td><td>2023-05-02T15:39:23.585+0000</td><td>dbfs:/FileStore/ds2002-lab06/sourcedata/stream/rental/sakila_fact_rental.json</td></tr><tr><td>1.99</td><td>503</td><td>109</td><td>1044</td><td>2006-02-15 21:30:53</td><td>20050525</td><td>20050529</td><td>2</td><td>null</td><td>2023-05-02T15:39:23.585+0000</td><td>dbfs:/FileStore/ds2002-lab06/sourcedata/stream/rental/sakila_fact_rental.json</td></tr><tr><td>9.99</td><td>19</td><td>110</td><td>4108</td><td>2006-02-15 21:30:53</td><td>20050525</td><td>20050603</td><td>2</td><td>null</td><td>2023-05-02T15:39:23.585+0000</td><td>dbfs:/FileStore/ds2002-lab06/sourcedata/stream/rental/sakila_fact_rental.json</td></tr><tr><td>4.99</td><td>227</td><td>111</td><td>3725</td><td>2006-02-15 21:30:53</td><td>20050525</td><td>20050528</td><td>1</td><td>null</td><td>2023-05-02T15:39:23.585+0000</td><td>dbfs:/FileStore/ds2002-lab06/sourcedata/stream/rental/sakila_fact_rental.json</td></tr><tr><td>8.99</td><td>500</td><td>112</td><td>2153</td><td>2006-02-15 21:30:53</td><td>20050525</td><td>20050602</td><td>1</td><td>null</td><td>2023-05-02T15:39:23.585+0000</td><td>dbfs:/FileStore/ds2002-lab06/sourcedata/stream/rental/sakila_fact_rental.json</td></tr><tr><td>2.99</td><td>93</td><td>113</td><td>2963</td><td>2006-02-15 21:30:53</td><td>20050525</td><td>20050527</td><td>2</td><td>null</td><td>2023-05-02T15:39:23.585+0000</td><td>dbfs:/FileStore/ds2002-lab06/sourcedata/stream/rental/sakila_fact_rental.json</td></tr><tr><td>3.99</td><td>506</td><td>114</td><td>4502</td><td>2006-02-15 21:30:53</td><td>20050525</td><td>20050601</td><td>1</td><td>null</td><td>2023-05-02T15:39:23.585+0000</td><td>dbfs:/FileStore/ds2002-lab06/sourcedata/stream/rental/sakila_fact_rental.json</td></tr><tr><td>0.99</td><td>455</td><td>115</td><td>749</td><td>2006-02-15 21:30:53</td><td>20050525</td><td>20050529</td><td>1</td><td>null</td><td>2023-05-02T15:39:23.585+0000</td><td>dbfs:/FileStore/ds2002-lab06/sourcedata/stream/rental/sakila_fact_rental.json</td></tr><tr><td>4.99</td><td>18</td><td>116</td><td>4453</td><td>2006-02-15 21:30:53</td><td>20050525</td><td>20050526</td><td>1</td><td>null</td><td>2023-05-02T15:39:23.585+0000</td><td>dbfs:/FileStore/ds2002-lab06/sourcedata/stream/rental/sakila_fact_rental.json</td></tr><tr><td>0.99</td><td>7</td><td>117</td><td>4278</td><td>2006-02-15 21:30:53</td><td>20050525</td><td>20050531</td><td>2</td><td>null</td><td>2023-05-02T15:39:23.585+0000</td><td>dbfs:/FileStore/ds2002-lab06/sourcedata/stream/rental/sakila_fact_rental.json</td></tr><tr><td>0.99</td><td>524</td><td>118</td><td>872</td><td>2006-02-15 21:30:53</td><td>20050525</td><td>20050531</td><td>1</td><td>null</td><td>2023-05-02T15:39:23.585+0000</td><td>dbfs:/FileStore/ds2002-lab06/sourcedata/stream/rental/sakila_fact_rental.json</td></tr><tr><td>4.99</td><td>51</td><td>119</td><td>1359</td><td>2006-02-15 21:30:53</td><td>20050525</td><td>20050529</td><td>2</td><td>null</td><td>2023-05-02T15:39:23.585+0000</td><td>dbfs:/FileStore/ds2002-lab06/sourcedata/stream/rental/sakila_fact_rental.json</td></tr><tr><td>5.99</td><td>365</td><td>120</td><td>37</td><td>2006-02-15 21:30:53</td><td>20050525</td><td>20050601</td><td>2</td><td>null</td><td>2023-05-02T15:39:23.585+0000</td><td>dbfs:/FileStore/ds2002-lab06/sourcedata/stream/rental/sakila_fact_rental.json</td></tr><tr><td>2.99</td><td>405</td><td>121</td><td>1053</td><td>2006-02-15 21:30:53</td><td>20050525</td><td>20050529</td><td>1</td><td>null</td><td>2023-05-02T15:39:23.585+0000</td><td>dbfs:/FileStore/ds2002-lab06/sourcedata/stream/rental/sakila_fact_rental.json</td></tr><tr><td>3.99</td><td>273</td><td>122</td><td>2908</td><td>2006-02-15 21:30:53</td><td>20050525</td><td>20050602</td><td>1</td><td>null</td><td>2023-05-02T15:39:23.585+0000</td><td>dbfs:/FileStore/ds2002-lab06/sourcedata/stream/rental/sakila_fact_rental.json</td></tr><tr><td>4.99</td><td>43</td><td>123</td><td>1795</td><td>2006-02-15 21:30:53</td><td>20050525</td><td>20050526</td><td>1</td><td>null</td><td>2023-05-02T15:39:23.585+0000</td><td>dbfs:/FileStore/ds2002-lab06/sourcedata/stream/rental/sakila_fact_rental.json</td></tr><tr><td>6.99</td><td>246</td><td>124</td><td>212</td><td>2006-02-15 21:30:53</td><td>20050525</td><td>20050530</td><td>2</td><td>null</td><td>2023-05-02T15:39:23.585+0000</td><td>dbfs:/FileStore/ds2002-lab06/sourcedata/stream/rental/sakila_fact_rental.json</td></tr><tr><td>5.99</td><td>368</td><td>125</td><td>952</td><td>2006-02-15 21:30:53</td><td>20050525</td><td>20050602</td><td>1</td><td>null</td><td>2023-05-02T15:39:23.585+0000</td><td>dbfs:/FileStore/ds2002-lab06/sourcedata/stream/rental/sakila_fact_rental.json</td></tr><tr><td>2.99</td><td>439</td><td>126</td><td>2047</td><td>2006-02-15 21:30:53</td><td>20050525</td><td>20050528</td><td>1</td><td>null</td><td>2023-05-02T15:39:23.585+0000</td><td>dbfs:/FileStore/ds2002-lab06/sourcedata/stream/rental/sakila_fact_rental.json</td></tr><tr><td>2.99</td><td>94</td><td>127</td><td>2026</td><td>2006-02-15 21:30:53</td><td>20050525</td><td>20050602</td><td>1</td><td>null</td><td>2023-05-02T15:39:23.585+0000</td><td>dbfs:/FileStore/ds2002-lab06/sourcedata/stream/rental/sakila_fact_rental.json</td></tr><tr><td>4.99</td><td>40</td><td>128</td><td>4322</td><td>2006-02-15 21:30:53</td><td>20050525</td><td>20050529</td><td>1</td><td>null</td><td>2023-05-02T15:39:23.585+0000</td><td>dbfs:/FileStore/ds2002-lab06/sourcedata/stream/rental/sakila_fact_rental.json</td></tr><tr><td>8.99</td><td>23</td><td>129</td><td>4154</td><td>2006-02-15 21:30:53</td><td>20050525</td><td>20050604</td><td>2</td><td>null</td><td>2023-05-02T15:39:23.585+0000</td><td>dbfs:/FileStore/ds2002-lab06/sourcedata/stream/rental/sakila_fact_rental.json</td></tr><tr><td>3.99</td><td>56</td><td>130</td><td>3990</td><td>2006-02-15 21:30:53</td><td>20050525</td><td>20050530</td><td>2</td><td>null</td><td>2023-05-02T15:39:23.585+0000</td><td>dbfs:/FileStore/ds2002-lab06/sourcedata/stream/rental/sakila_fact_rental.json</td></tr><tr><td>5.99</td><td>325</td><td>131</td><td>815</td><td>2006-02-15 21:30:53</td><td>20050525</td><td>20050530</td><td>2</td><td>null</td><td>2023-05-02T15:39:23.585+0000</td><td>dbfs:/FileStore/ds2002-lab06/sourcedata/stream/rental/sakila_fact_rental.json</td></tr><tr><td>3.99</td><td>479</td><td>132</td><td>3367</td><td>2006-02-15 21:30:53</td><td>20050525</td><td>20050531</td><td>1</td><td>null</td><td>2023-05-02T15:39:23.585+0000</td><td>dbfs:/FileStore/ds2002-lab06/sourcedata/stream/rental/sakila_fact_rental.json</td></tr><tr><td>0.99</td><td>237</td><td>133</td><td>399</td><td>2006-02-15 21:30:53</td><td>20050525</td><td>20050530</td><td>2</td><td>null</td><td>2023-05-02T15:39:23.585+0000</td><td>dbfs:/FileStore/ds2002-lab06/sourcedata/stream/rental/sakila_fact_rental.json</td></tr><tr><td>4.99</td><td>222</td><td>134</td><td>2272</td><td>2006-02-15 21:30:53</td><td>20050525</td><td>20050602</td><td>1</td><td>null</td><td>2023-05-02T15:39:23.585+0000</td><td>dbfs:/FileStore/ds2002-lab06/sourcedata/stream/rental/sakila_fact_rental.json</td></tr><tr><td>10.99</td><td>304</td><td>135</td><td>103</td><td>2006-02-15 21:30:53</td><td>20050525</td><td>20050603</td><td>1</td><td>null</td><td>2023-05-02T15:39:23.585+0000</td><td>dbfs:/FileStore/ds2002-lab06/sourcedata/stream/rental/sakila_fact_rental.json</td></tr><tr><td>5.99</td><td>504</td><td>136</td><td>2296</td><td>2006-02-15 21:30:53</td><td>20050525</td><td>20050531</td><td>1</td><td>null</td><td>2023-05-02T15:39:23.585+0000</td><td>dbfs:/FileStore/ds2002-lab06/sourcedata/stream/rental/sakila_fact_rental.json</td></tr><tr><td>2.99</td><td>560</td><td>137</td><td>2591</td><td>2006-02-15 21:30:53</td><td>20050525</td><td>20050601</td><td>2</td><td>null</td><td>2023-05-02T15:39:23.585+0000</td><td>dbfs:/FileStore/ds2002-lab06/sourcedata/stream/rental/sakila_fact_rental.json</td></tr><tr><td>4.99</td><td>586</td><td>138</td><td>4134</td><td>2006-02-15 21:30:53</td><td>20050525</td><td>20050529</td><td>2</td><td>null</td><td>2023-05-02T15:39:23.585+0000</td><td>dbfs:/FileStore/ds2002-lab06/sourcedata/stream/rental/sakila_fact_rental.json</td></tr><tr><td>2.99</td><td>257</td><td>139</td><td>327</td><td>2006-02-15 21:30:53</td><td>20050525</td><td>20050529</td><td>1</td><td>null</td><td>2023-05-02T15:39:23.585+0000</td><td>dbfs:/FileStore/ds2002-lab06/sourcedata/stream/rental/sakila_fact_rental.json</td></tr><tr><td>0.99</td><td>354</td><td>140</td><td>655</td><td>2006-02-15 21:30:53</td><td>20050525</td><td>20050527</td><td>1</td><td>null</td><td>2023-05-02T15:39:23.585+0000</td><td>dbfs:/FileStore/ds2002-lab06/sourcedata/stream/rental/sakila_fact_rental.json</td></tr><tr><td>2.99</td><td>89</td><td>141</td><td>811</td><td>2006-02-15 21:30:53</td><td>20050525</td><td>20050602</td><td>1</td><td>null</td><td>2023-05-02T15:39:23.585+0000</td><td>dbfs:/FileStore/ds2002-lab06/sourcedata/stream/rental/sakila_fact_rental.json</td></tr><tr><td>0.99</td><td>472</td><td>142</td><td>4407</td><td>2006-02-15 21:30:53</td><td>20050525</td><td>20050529</td><td>2</td><td>null</td><td>2023-05-02T15:39:23.585+0000</td><td>dbfs:/FileStore/ds2002-lab06/sourcedata/stream/rental/sakila_fact_rental.json</td></tr><tr><td>0.99</td><td>297</td><td>143</td><td>847</td><td>2006-02-15 21:30:53</td><td>20050525</td><td>20050527</td><td>2</td><td>null</td><td>2023-05-02T15:39:23.585+0000</td><td>dbfs:/FileStore/ds2002-lab06/sourcedata/stream/rental/sakila_fact_rental.json</td></tr><tr><td>2.99</td><td>357</td><td>144</td><td>1689</td><td>2006-02-15 21:30:53</td><td>20050525</td><td>20050601</td><td>2</td><td>null</td><td>2023-05-02T15:39:23.585+0000</td><td>dbfs:/FileStore/ds2002-lab06/sourcedata/stream/rental/sakila_fact_rental.json</td></tr><tr><td>2.99</td><td>82</td><td>145</td><td>3905</td><td>2006-02-15 21:30:53</td><td>20050525</td><td>20050531</td><td>1</td><td>null</td><td>2023-05-02T15:39:23.585+0000</td><td>dbfs:/FileStore/ds2002-lab06/sourcedata/stream/rental/sakila_fact_rental.json</td></tr><tr><td>8.99</td><td>433</td><td>146</td><td>1431</td><td>2006-02-15 21:30:53</td><td>20050526</td><td>20050604</td><td>2</td><td>null</td><td>2023-05-02T15:39:23.585+0000</td><td>dbfs:/FileStore/ds2002-lab06/sourcedata/stream/rental/sakila_fact_rental.json</td></tr><tr><td>2.99</td><td>274</td><td>147</td><td>633</td><td>2006-02-15 21:30:53</td><td>20050526</td><td>20050529</td><td>2</td><td>null</td><td>2023-05-02T15:39:23.585+0000</td><td>dbfs:/FileStore/ds2002-lab06/sourcedata/stream/rental/sakila_fact_rental.json</td></tr><tr><td>0.99</td><td>142</td><td>148</td><td>4252</td><td>2006-02-15 21:30:53</td><td>20050526</td><td>20050601</td><td>2</td><td>null</td><td>2023-05-02T15:39:23.585+0000</td><td>dbfs:/FileStore/ds2002-lab06/sourcedata/stream/rental/sakila_fact_rental.json</td></tr><tr><td>3.99</td><td>319</td><td>149</td><td>1084</td><td>2006-02-15 21:30:53</td><td>20050526</td><td>20050602</td><td>2</td><td>null</td><td>2023-05-02T15:39:23.585+0000</td><td>dbfs:/FileStore/ds2002-lab06/sourcedata/stream/rental/sakila_fact_rental.json</td></tr><tr><td>5.99</td><td>429</td><td>150</td><td>909</td><td>2006-02-15 21:30:53</td><td>20050526</td><td>20050601</td><td>2</td><td>null</td><td>2023-05-02T15:39:23.585+0000</td><td>dbfs:/FileStore/ds2002-lab06/sourcedata/stream/rental/sakila_fact_rental.json</td></tr><tr><td>0.99</td><td>14</td><td>151</td><td>2942</td><td>2006-02-15 21:30:53</td><td>20050526</td><td>20050530</td><td>1</td><td>null</td><td>2023-05-02T15:39:23.585+0000</td><td>dbfs:/FileStore/ds2002-lab06/sourcedata/stream/rental/sakila_fact_rental.json</td></tr><tr><td>9.99</td><td>57</td><td>152</td><td>2622</td><td>2006-02-15 21:30:53</td><td>20050526</td><td>20050603</td><td>1</td><td>null</td><td>2023-05-02T15:39:23.585+0000</td><td>dbfs:/FileStore/ds2002-lab06/sourcedata/stream/rental/sakila_fact_rental.json</td></tr><tr><td>0.99</td><td>348</td><td>153</td><td>3888</td><td>2006-02-15 21:30:53</td><td>20050526</td><td>20050527</td><td>1</td><td>null</td><td>2023-05-02T15:39:23.585+0000</td><td>dbfs:/FileStore/ds2002-lab06/sourcedata/stream/rental/sakila_fact_rental.json</td></tr><tr><td>0.99</td><td>185</td><td>154</td><td>1354</td><td>2006-02-15 21:30:53</td><td>20050526</td><td>20050529</td><td>2</td><td>null</td><td>2023-05-02T15:39:23.585+0000</td><td>dbfs:/FileStore/ds2002-lab06/sourcedata/stream/rental/sakila_fact_rental.json</td></tr><tr><td>7.99</td><td>551</td><td>155</td><td>288</td><td>2006-02-15 21:30:53</td><td>20050526</td><td>20050601</td><td>1</td><td>null</td><td>2023-05-02T15:39:23.585+0000</td><td>dbfs:/FileStore/ds2002-lab06/sourcedata/stream/rental/sakila_fact_rental.json</td></tr><tr><td>2.99</td><td>462</td><td>156</td><td>3193</td><td>2006-02-15 21:30:53</td><td>20050526</td><td>20050527</td><td>1</td><td>null</td><td>2023-05-02T15:39:23.585+0000</td><td>dbfs:/FileStore/ds2002-lab06/sourcedata/stream/rental/sakila_fact_rental.json</td></tr><tr><td>2.99</td><td>344</td><td>157</td><td>887</td><td>2006-02-15 21:30:53</td><td>20050526</td><td>20050526</td><td>2</td><td>null</td><td>2023-05-02T15:39:23.585+0000</td><td>dbfs:/FileStore/ds2002-lab06/sourcedata/stream/rental/sakila_fact_rental.json</td></tr><tr><td>1.99</td><td>354</td><td>158</td><td>2395</td><td>2006-02-15 21:30:53</td><td>20050526</td><td>20050603</td><td>2</td><td>null</td><td>2023-05-02T15:39:23.585+0000</td><td>dbfs:/FileStore/ds2002-lab06/sourcedata/stream/rental/sakila_fact_rental.json</td></tr><tr><td>2.99</td><td>505</td><td>159</td><td>3453</td><td>2006-02-15 21:30:53</td><td>20050526</td><td>20050529</td><td>1</td><td>null</td><td>2023-05-02T15:39:23.585+0000</td><td>dbfs:/FileStore/ds2002-lab06/sourcedata/stream/rental/sakila_fact_rental.json</td></tr><tr><td>2.99</td><td>290</td><td>160</td><td>1885</td><td>2006-02-15 21:30:53</td><td>20050526</td><td>20050601</td><td>1</td><td>null</td><td>2023-05-02T15:39:23.585+0000</td><td>dbfs:/FileStore/ds2002-lab06/sourcedata/stream/rental/sakila_fact_rental.json</td></tr><tr><td>0.99</td><td>182</td><td>161</td><td>2941</td><td>2006-02-15 21:30:53</td><td>20050526</td><td>20050527</td><td>1</td><td>null</td><td>2023-05-02T15:39:23.585+0000</td><td>dbfs:/FileStore/ds2002-lab06/sourcedata/stream/rental/sakila_fact_rental.json</td></tr><tr><td>4.99</td><td>296</td><td>162</td><td>1229</td><td>2006-02-15 21:30:53</td><td>20050526</td><td>20050527</td><td>2</td><td>null</td><td>2023-05-02T15:39:23.585+0000</td><td>dbfs:/FileStore/ds2002-lab06/sourcedata/stream/rental/sakila_fact_rental.json</td></tr><tr><td>10.99</td><td>104</td><td>163</td><td>2306</td><td>2006-02-15 21:30:53</td><td>20050526</td><td>20050604</td><td>1</td><td>null</td><td>2023-05-02T15:39:23.585+0000</td><td>dbfs:/FileStore/ds2002-lab06/sourcedata/stream/rental/sakila_fact_rental.json</td></tr><tr><td>4.99</td><td>151</td><td>164</td><td>1070</td><td>2006-02-15 21:30:53</td><td>20050526</td><td>20050528</td><td>1</td><td>null</td><td>2023-05-02T15:39:23.585+0000</td><td>dbfs:/FileStore/ds2002-lab06/sourcedata/stream/rental/sakila_fact_rental.json</td></tr><tr><td>2.99</td><td>33</td><td>165</td><td>2735</td><td>2006-02-15 21:30:53</td><td>20050526</td><td>20050602</td><td>1</td><td>null</td><td>2023-05-02T15:39:23.585+0000</td><td>dbfs:/FileStore/ds2002-lab06/sourcedata/stream/rental/sakila_fact_rental.json</td></tr><tr><td>0.99</td><td>322</td><td>166</td><td>3894</td><td>2006-02-15 21:30:53</td><td>20050526</td><td>20050531</td><td>1</td><td>null</td><td>2023-05-02T15:39:23.585+0000</td><td>dbfs:/FileStore/ds2002-lab06/sourcedata/stream/rental/sakila_fact_rental.json</td></tr><tr><td>4.99</td><td>401</td><td>167</td><td>865</td><td>2006-02-15 21:30:53</td><td>20050526</td><td>20050527</td><td>1</td><td>null</td><td>2023-05-02T15:39:23.585+0000</td><td>dbfs:/FileStore/ds2002-lab06/sourcedata/stream/rental/sakila_fact_rental.json</td></tr><tr><td>0.99</td><td>469</td><td>168</td><td>2714</td><td>2006-02-15 21:30:53</td><td>20050526</td><td>20050602</td><td>2</td><td>null</td><td>2023-05-02T15:39:23.585+0000</td><td>dbfs:/FileStore/ds2002-lab06/sourcedata/stream/rental/sakila_fact_rental.json</td></tr><tr><td>0.99</td><td>381</td><td>169</td><td>1758</td><td>2006-02-15 21:30:53</td><td>20050526</td><td>20050527</td><td>2</td><td>null</td><td>2023-05-02T15:39:23.585+0000</td><td>dbfs:/FileStore/ds2002-lab06/sourcedata/stream/rental/sakila_fact_rental.json</td></tr><tr><td>5.99</td><td>107</td><td>170</td><td>3688</td><td>2006-02-15 21:30:53</td><td>20050526</td><td>20050602</td><td>1</td><td>null</td><td>2023-05-02T15:39:23.585+0000</td><td>dbfs:/FileStore/ds2002-lab06/sourcedata/stream/rental/sakila_fact_rental.json</td></tr><tr><td>6.99</td><td>400</td><td>171</td><td>4483</td><td>2006-02-15 21:30:53</td><td>20050526</td><td>20050603</td><td>2</td><td>null</td><td>2023-05-02T15:39:23.585+0000</td><td>dbfs:/FileStore/ds2002-lab06/sourcedata/stream/rental/sakila_fact_rental.json</td></tr><tr><td>0.99</td><td>176</td><td>172</td><td>2873</td><td>2006-02-15 21:30:53</td><td>20050526</td><td>20050529</td><td>2</td><td>null</td><td>2023-05-02T15:39:23.585+0000</td><td>dbfs:/FileStore/ds2002-lab06/sourcedata/stream/rental/sakila_fact_rental.json</td></tr><tr><td>0.99</td><td>533</td><td>173</td><td>3596</td><td>2006-02-15 21:30:53</td><td>20050526</td><td>20050528</td><td>2</td><td>null</td><td>2023-05-02T15:39:23.585+0000</td><td>dbfs:/FileStore/ds2002-lab06/sourcedata/stream/rental/sakila_fact_rental.json</td></tr><tr><td>0.99</td><td>552</td><td>174</td><td>3954</td><td>2006-02-15 21:30:53</td><td>20050526</td><td>20050528</td><td>2</td><td>null</td><td>2023-05-02T15:39:23.585+0000</td><td>dbfs:/FileStore/ds2002-lab06/sourcedata/stream/rental/sakila_fact_rental.json</td></tr><tr><td>3.99</td><td>47</td><td>175</td><td>4346</td><td>2006-02-15 21:30:53</td><td>20050526</td><td>20050603</td><td>2</td><td>null</td><td>2023-05-02T15:39:23.585+0000</td><td>dbfs:/FileStore/ds2002-lab06/sourcedata/stream/rental/sakila_fact_rental.json</td></tr><tr><td>3.99</td><td>250</td><td>176</td><td>851</td><td>2006-02-15 21:30:53</td><td>20050526</td><td>20050601</td><td>2</td><td>null</td><td>2023-05-02T15:39:23.585+0000</td><td>dbfs:/FileStore/ds2002-lab06/sourcedata/stream/rental/sakila_fact_rental.json</td></tr><tr><td>6.99</td><td>548</td><td>177</td><td>3545</td><td>2006-02-15 21:30:53</td><td>20050526</td><td>20050601</td><td>2</td><td>null</td><td>2023-05-02T15:39:23.585+0000</td><td>dbfs:/FileStore/ds2002-lab06/sourcedata/stream/rental/sakila_fact_rental.json</td></tr><tr><td>5.99</td><td>196</td><td>178</td><td>1489</td><td>2006-02-15 21:30:53</td><td>20050526</td><td>20050604</td><td>2</td><td>null</td><td>2023-05-02T15:39:23.585+0000</td><td>dbfs:/FileStore/ds2002-lab06/sourcedata/stream/rental/sakila_fact_rental.json</td></tr><tr><td>6.99</td><td>19</td><td>179</td><td>2575</td><td>2006-02-15 21:30:53</td><td>20050526</td><td>20050603</td><td>1</td><td>null</td><td>2023-05-02T15:39:23.585+0000</td><td>dbfs:/FileStore/ds2002-lab06/sourcedata/stream/rental/sakila_fact_rental.json</td></tr><tr><td>4.99</td><td>75</td><td>180</td><td>2752</td><td>2006-02-15 21:30:53</td><td>20050526</td><td>20050601</td><td>1</td><td>null</td><td>2023-05-02T15:39:23.585+0000</td><td>dbfs:/FileStore/ds2002-lab06/sourcedata/stream/rental/sakila_fact_rental.json</td></tr><tr><td>4.99</td><td>587</td><td>181</td><td>2417</td><td>2006-02-15 21:30:53</td><td>20050526</td><td>20050529</td><td>2</td><td>null</td><td>2023-05-02T15:39:23.585+0000</td><td>dbfs:/FileStore/ds2002-lab06/sourcedata/stream/rental/sakila_fact_rental.json</td></tr><tr><td>4.99</td><td>237</td><td>182</td><td>4396</td><td>2006-02-15 21:30:53</td><td>20050526</td><td>20050601</td><td>2</td><td>null</td><td>2023-05-02T15:39:23.585+0000</td><td>dbfs:/FileStore/ds2002-lab06/sourcedata/stream/rental/sakila_fact_rental.json</td></tr><tr><td>2.99</td><td>254</td><td>183</td><td>2877</td><td>2006-02-15 21:30:53</td><td>20050526</td><td>20050601</td><td>1</td><td>null</td><td>2023-05-02T15:39:23.585+0000</td><td>dbfs:/FileStore/ds2002-lab06/sourcedata/stream/rental/sakila_fact_rental.json</td></tr><tr><td>0.99</td><td>556</td><td>184</td><td>1970</td><td>2006-02-15 21:30:53</td><td>20050526</td><td>20050528</td><td>1</td><td>null</td><td>2023-05-02T15:39:23.585+0000</td><td>dbfs:/FileStore/ds2002-lab06/sourcedata/stream/rental/sakila_fact_rental.json</td></tr><tr><td>3.99</td><td>125</td><td>185</td><td>2598</td><td>2006-02-15 21:30:53</td><td>20050526</td><td>20050602</td><td>2</td><td>null</td><td>2023-05-02T15:39:23.585+0000</td><td>dbfs:/FileStore/ds2002-lab06/sourcedata/stream/rental/sakila_fact_rental.json</td></tr><tr><td>4.99</td><td>468</td><td>186</td><td>1799</td><td>2006-02-15 21:30:53</td><td>20050526</td><td>20050603</td><td>2</td><td>null</td><td>2023-05-02T15:39:23.585+0000</td><td>dbfs:/FileStore/ds2002-lab06/sourcedata/stream/rental/sakila_fact_rental.json</td></tr><tr><td>8.99</td><td>515</td><td>187</td><td>4004</td><td>2006-02-15 21:30:53</td><td>20050526</td><td>20050604</td><td>1</td><td>null</td><td>2023-05-02T15:39:23.585+0000</td><td>dbfs:/FileStore/ds2002-lab06/sourcedata/stream/rental/sakila_fact_rental.json</td></tr><tr><td>4.99</td><td>243</td><td>188</td><td>3342</td><td>2006-02-15 21:30:53</td><td>20050526</td><td>20050526</td><td>1</td><td>null</td><td>2023-05-02T15:39:23.585+0000</td><td>dbfs:/FileStore/ds2002-lab06/sourcedata/stream/rental/sakila_fact_rental.json</td></tr><tr><td>4.99</td><td>247</td><td>189</td><td>984</td><td>2006-02-15 21:30:53</td><td>20050526</td><td>20050527</td><td>1</td><td>null</td><td>2023-05-02T15:39:23.585+0000</td><td>dbfs:/FileStore/ds2002-lab06/sourcedata/stream/rental/sakila_fact_rental.json</td></tr><tr><td>1.99</td><td>533</td><td>190</td><td>3962</td><td>2006-02-15 21:30:53</td><td>20050526</td><td>20050601</td><td>1</td><td>null</td><td>2023-05-02T15:39:23.585+0000</td><td>dbfs:/FileStore/ds2002-lab06/sourcedata/stream/rental/sakila_fact_rental.json</td></tr><tr><td>0.99</td><td>412</td><td>191</td><td>4365</td><td>2006-02-15 21:30:53</td><td>20050526</td><td>20050528</td><td>1</td><td>null</td><td>2023-05-02T15:39:23.585+0000</td><td>dbfs:/FileStore/ds2002-lab06/sourcedata/stream/rental/sakila_fact_rental.json</td></tr><tr><td>2.99</td><td>437</td><td>192</td><td>1897</td><td>2006-02-15 21:30:53</td><td>20050526</td><td>20050602</td><td>1</td><td>null</td><td>2023-05-02T15:39:23.585+0000</td><td>dbfs:/FileStore/ds2002-lab06/sourcedata/stream/rental/sakila_fact_rental.json</td></tr><tr><td>1.99</td><td>270</td><td>193</td><td>3900</td><td>2006-02-15 21:30:53</td><td>20050526</td><td>20050530</td><td>2</td><td>null</td><td>2023-05-02T15:39:23.585+0000</td><td>dbfs:/FileStore/ds2002-lab06/sourcedata/stream/rental/sakila_fact_rental.json</td></tr><tr><td>1.99</td><td>29</td><td>194</td><td>1337</td><td>2006-02-15 21:30:53</td><td>20050526</td><td>20050530</td><td>2</td><td>null</td><td>2023-05-02T15:39:23.585+0000</td><td>dbfs:/FileStore/ds2002-lab06/sourcedata/stream/rental/sakila_fact_rental.json</td></tr><tr><td>5.99</td><td>564</td><td>195</td><td>506</td><td>2006-02-15 21:30:53</td><td>20050526</td><td>20050531</td><td>2</td><td>null</td><td>2023-05-02T15:39:23.585+0000</td><td>dbfs:/FileStore/ds2002-lab06/sourcedata/stream/rental/sakila_fact_rental.json</td></tr><tr><td>2.99</td><td>184</td><td>196</td><td>190</td><td>2006-02-15 21:30:53</td><td>20050526</td><td>20050527</td><td>1</td><td>null</td><td>2023-05-02T15:39:23.585+0000</td><td>dbfs:/FileStore/ds2002-lab06/sourcedata/stream/rental/sakila_fact_rental.json</td></tr><tr><td>5.99</td><td>546</td><td>197</td><td>4212</td><td>2006-02-15 21:30:53</td><td>20050526</td><td>20050603</td><td>2</td><td>null</td><td>2023-05-02T15:39:23.585+0000</td><td>dbfs:/FileStore/ds2002-lab06/sourcedata/stream/rental/sakila_fact_rental.json</td></tr><tr><td>4.99</td><td>54</td><td>198</td><td>1789</td><td>2006-02-15 21:30:53</td><td>20050526</td><td>20050604</td><td>1</td><td>null</td><td>2023-05-02T15:39:23.585+0000</td><td>dbfs:/FileStore/ds2002-lab06/sourcedata/stream/rental/sakila_fact_rental.json</td></tr><tr><td>2.99</td><td>71</td><td>199</td><td>2135</td><td>2006-02-15 21:30:53</td><td>20050526</td><td>20050528</td><td>1</td><td>null</td><td>2023-05-02T15:39:23.585+0000</td><td>dbfs:/FileStore/ds2002-lab06/sourcedata/stream/rental/sakila_fact_rental.json</td></tr><tr><td>4.99</td><td>321</td><td>200</td><td>3926</td><td>2006-02-15 21:30:53</td><td>20050526</td><td>20050531</td><td>1</td><td>null</td><td>2023-05-02T15:39:23.585+0000</td><td>dbfs:/FileStore/ds2002-lab06/sourcedata/stream/rental/sakila_fact_rental.json</td></tr><tr><td>8.99</td><td>444</td><td>201</td><td>776</td><td>2006-02-15 21:30:53</td><td>20050526</td><td>20050604</td><td>2</td><td>null</td><td>2023-05-02T15:39:23.585+0000</td><td>dbfs:/FileStore/ds2002-lab06/sourcedata/stream/rental/sakila_fact_rental.json</td></tr><tr><td>2.99</td><td>20</td><td>202</td><td>674</td><td>2006-02-15 21:30:53</td><td>20050526</td><td>20050602</td><td>1</td><td>null</td><td>2023-05-02T15:39:23.585+0000</td><td>dbfs:/FileStore/ds2002-lab06/sourcedata/stream/rental/sakila_fact_rental.json</td></tr><tr><td>5.99</td><td>109</td><td>203</td><td>3374</td><td>2006-02-15 21:30:53</td><td>20050526</td><td>20050603</td><td>1</td><td>null</td><td>2023-05-02T15:39:23.585+0000</td><td>dbfs:/FileStore/ds2002-lab06/sourcedata/stream/rental/sakila_fact_rental.json</td></tr><tr><td>0.99</td><td>528</td><td>204</td><td>1842</td><td>2006-02-15 21:30:53</td><td>20050526</td><td>20050530</td><td>1</td><td>null</td><td>2023-05-02T15:39:23.585+0000</td><td>dbfs:/FileStore/ds2002-lab06/sourcedata/stream/rental/sakila_fact_rental.json</td></tr><tr><td>4.99</td><td>114</td><td>205</td><td>303</td><td>2006-02-15 21:30:53</td><td>20050526</td><td>20050529</td><td>2</td><td>null</td><td>2023-05-02T15:39:23.585+0000</td><td>dbfs:/FileStore/ds2002-lab06/sourcedata/stream/rental/sakila_fact_rental.json</td></tr><tr><td>0.99</td><td>345</td><td>206</td><td>1717</td><td>2006-02-15 21:30:53</td><td>20050526</td><td>20050527</td><td>1</td><td>null</td><td>2023-05-02T15:39:23.585+0000</td><td>dbfs:/FileStore/ds2002-lab06/sourcedata/stream/rental/sakila_fact_rental.json</td></tr><tr><td>4.99</td><td>47</td><td>207</td><td>102</td><td>2006-02-15 21:30:53</td><td>20050526</td><td>20050527</td><td>2</td><td>null</td><td>2023-05-02T15:39:23.585+0000</td><td>dbfs:/FileStore/ds2002-lab06/sourcedata/stream/rental/sakila_fact_rental.json</td></tr><tr><td>4.99</td><td>274</td><td>208</td><td>3669</td><td>2006-02-15 21:30:53</td><td>20050526</td><td>20050527</td><td>1</td><td>null</td><td>2023-05-02T15:39:23.585+0000</td><td>dbfs:/FileStore/ds2002-lab06/sourcedata/stream/rental/sakila_fact_rental.json</td></tr><tr><td>4.99</td><td>379</td><td>209</td><td>729</td><td>2006-02-15 21:30:53</td><td>20050526</td><td>20050527</td><td>1</td><td>null</td><td>2023-05-02T15:39:23.585+0000</td><td>dbfs:/FileStore/ds2002-lab06/sourcedata/stream/rental/sakila_fact_rental.json</td></tr><tr><td>2.99</td><td>391</td><td>210</td><td>1801</td><td>2006-02-15 21:30:53</td><td>20050526</td><td>20050527</td><td>2</td><td>null</td><td>2023-05-02T15:39:23.585+0000</td><td>dbfs:/FileStore/ds2002-lab06/sourcedata/stream/rental/sakila_fact_rental.json</td></tr><tr><td>2.99</td><td>170</td><td>211</td><td>4005</td><td>2006-02-15 21:30:53</td><td>20050526</td><td>20050528</td><td>1</td><td>null</td><td>2023-05-02T15:39:23.585+0000</td><td>dbfs:/FileStore/ds2002-lab06/sourcedata/stream/rental/sakila_fact_rental.json</td></tr><tr><td>4.99</td><td>59</td><td>212</td><td>764</td><td>2006-02-15 21:30:53</td><td>20050526</td><td>20050530</td><td>2</td><td>null</td><td>2023-05-02T15:39:23.585+0000</td><td>dbfs:/FileStore/ds2002-lab06/sourcedata/stream/rental/sakila_fact_rental.json</td></tr><tr><td>3.99</td><td>394</td><td>213</td><td>1505</td><td>2006-02-15 21:30:53</td><td>20050526</td><td>20050531</td><td>2</td><td>null</td><td>2023-05-02T15:39:23.585+0000</td><td>dbfs:/FileStore/ds2002-lab06/sourcedata/stream/rental/sakila_fact_rental.json</td></tr><tr><td>3.99</td><td>98</td><td>214</td><td>1453</td><td>2006-02-15 21:30:53</td><td>20050526</td><td>20050531</td><td>2</td><td>null</td><td>2023-05-02T15:39:23.585+0000</td><td>dbfs:/FileStore/ds2002-lab06/sourcedata/stream/rental/sakila_fact_rental.json</td></tr><tr><td>0.99</td><td>197</td><td>215</td><td>679</td><td>2006-02-15 21:30:53</td><td>20050526</td><td>20050528</td><td>2</td><td>null</td><td>2023-05-02T15:39:23.585+0000</td><td>dbfs:/FileStore/ds2002-lab06/sourcedata/stream/rental/sakila_fact_rental.json</td></tr><tr><td>5.99</td><td>91</td><td>216</td><td>1398</td><td>2006-02-15 21:30:53</td><td>20050526</td><td>20050603</td><td>1</td><td>null</td><td>2023-05-02T15:39:23.585+0000</td><td>dbfs:/FileStore/ds2002-lab06/sourcedata/stream/rental/sakila_fact_rental.json</td></tr><tr><td>4.99</td><td>121</td><td>217</td><td>4395</td><td>2006-02-15 21:30:53</td><td>20050526</td><td>20050531</td><td>2</td><td>null</td><td>2023-05-02T15:39:23.585+0000</td><td>dbfs:/FileStore/ds2002-lab06/sourcedata/stream/rental/sakila_fact_rental.json</td></tr><tr><td>6.99</td><td>309</td><td>218</td><td>2291</td><td>2006-02-15 21:30:53</td><td>20050526</td><td>20050604</td><td>2</td><td>null</td><td>2023-05-02T15:39:23.585+0000</td><td>dbfs:/FileStore/ds2002-lab06/sourcedata/stream/rental/sakila_fact_rental.json</td></tr><tr><td>4.99</td><td>489</td><td>219</td><td>3074</td><td>2006-02-15 21:30:53</td><td>20050526</td><td>20050528</td><td>1</td><td>null</td><td>2023-05-02T15:39:23.585+0000</td><td>dbfs:/FileStore/ds2002-lab06/sourcedata/stream/rental/sakila_fact_rental.json</td></tr><tr><td>4.99</td><td>542</td><td>220</td><td>1259</td><td>2006-02-15 21:30:53</td><td>20050526</td><td>20050601</td><td>1</td><td>null</td><td>2023-05-02T15:39:23.585+0000</td><td>dbfs:/FileStore/ds2002-lab06/sourcedata/stream/rental/sakila_fact_rental.json</td></tr><tr><td>2.99</td><td>143</td><td>221</td><td>3578</td><td>2006-02-15 21:30:53</td><td>20050526</td><td>20050529</td><td>1</td><td>null</td><td>2023-05-02T15:39:23.585+0000</td><td>dbfs:/FileStore/ds2002-lab06/sourcedata/stream/rental/sakila_fact_rental.json</td></tr><tr><td>0.99</td><td>83</td><td>222</td><td>2745</td><td>2006-02-15 21:30:53</td><td>20050526</td><td>20050531</td><td>2</td><td>null</td><td>2023-05-02T15:39:23.585+0000</td><td>dbfs:/FileStore/ds2002-lab06/sourcedata/stream/rental/sakila_fact_rental.json</td></tr><tr><td>4.99</td><td>460</td><td>223</td><td>3121</td><td>2006-02-15 21:30:53</td><td>20050526</td><td>20050530</td><td>1</td><td>null</td><td>2023-05-02T15:39:23.585+0000</td><td>dbfs:/FileStore/ds2002-lab06/sourcedata/stream/rental/sakila_fact_rental.json</td></tr><tr><td>9.99</td><td>318</td><td>224</td><td>4285</td><td>2006-02-15 21:30:53</td><td>20050526</td><td>20050604</td><td>1</td><td>null</td><td>2023-05-02T15:39:23.585+0000</td><td>dbfs:/FileStore/ds2002-lab06/sourcedata/stream/rental/sakila_fact_rental.json</td></tr><tr><td>4.99</td><td>467</td><td>225</td><td>651</td><td>2006-02-15 21:30:53</td><td>20050526</td><td>20050601</td><td>2</td><td>null</td><td>2023-05-02T15:39:23.585+0000</td><td>dbfs:/FileStore/ds2002-lab06/sourcedata/stream/rental/sakila_fact_rental.json</td></tr><tr><td>4.99</td><td>221</td><td>226</td><td>4181</td><td>2006-02-15 21:30:53</td><td>20050526</td><td>20050531</td><td>2</td><td>null</td><td>2023-05-02T15:39:23.585+0000</td><td>dbfs:/FileStore/ds2002-lab06/sourcedata/stream/rental/sakila_fact_rental.json</td></tr><tr><td>5.99</td><td>301</td><td>227</td><td>214</td><td>2006-02-15 21:30:53</td><td>20050526</td><td>20050530</td><td>1</td><td>null</td><td>2023-05-02T15:39:23.585+0000</td><td>dbfs:/FileStore/ds2002-lab06/sourcedata/stream/rental/sakila_fact_rental.json</td></tr><tr><td>9.99</td><td>571</td><td>228</td><td>511</td><td>2006-02-15 21:30:53</td><td>20050526</td><td>20050604</td><td>1</td><td>null</td><td>2023-05-02T15:39:23.585+0000</td><td>dbfs:/FileStore/ds2002-lab06/sourcedata/stream/rental/sakila_fact_rental.json</td></tr><tr><td>4.99</td><td>312</td><td>229</td><td>1131</td><td>2006-02-15 21:30:53</td><td>20050526</td><td>20050531</td><td>2</td><td>null</td><td>2023-05-02T15:39:23.585+0000</td><td>dbfs:/FileStore/ds2002-lab06/sourcedata/stream/rental/sakila_fact_rental.json</td></tr><tr><td>0.99</td><td>58</td><td>230</td><td>1085</td><td>2006-02-15 21:30:53</td><td>20050526</td><td>20050530</td><td>1</td><td>null</td><td>2023-05-02T15:39:23.585+0000</td><td>dbfs:/FileStore/ds2002-lab06/sourcedata/stream/rental/sakila_fact_rental.json</td></tr><tr><td>4.99</td><td>365</td><td>231</td><td>4032</td><td>2006-02-15 21:30:53</td><td>20050526</td><td>20050527</td><td>1</td><td>null</td><td>2023-05-02T15:39:23.585+0000</td><td>dbfs:/FileStore/ds2002-lab06/sourcedata/stream/rental/sakila_fact_rental.json</td></tr><tr><td>0.99</td><td>256</td><td>232</td><td>2945</td><td>2006-02-15 21:30:53</td><td>20050526</td><td>20050527</td><td>2</td><td>null</td><td>2023-05-02T15:39:23.585+0000</td><td>dbfs:/FileStore/ds2002-lab06/sourcedata/stream/rental/sakila_fact_rental.json</td></tr><tr><td>4.99</td><td>531</td><td>233</td><td>715</td><td>2006-02-15 21:30:53</td><td>20050526</td><td>20050528</td><td>2</td><td>null</td><td>2023-05-02T15:39:23.585+0000</td><td>dbfs:/FileStore/ds2002-lab06/sourcedata/stream/rental/sakila_fact_rental.json</td></tr><tr><td>5.99</td><td>566</td><td>234</td><td>1321</td><td>2006-02-15 21:30:53</td><td>20050526</td><td>20050603</td><td>2</td><td>null</td><td>2023-05-02T15:39:23.585+0000</td><td>dbfs:/FileStore/ds2002-lab06/sourcedata/stream/rental/sakila_fact_rental.json</td></tr><tr><td>5.99</td><td>119</td><td>235</td><td>3537</td><td>2006-02-15 21:30:53</td><td>20050526</td><td>20050604</td><td>1</td><td>null</td><td>2023-05-02T15:39:23.585+0000</td><td>dbfs:/FileStore/ds2002-lab06/sourcedata/stream/rental/sakila_fact_rental.json</td></tr><tr><td>0.99</td><td>446</td><td>236</td><td>1265</td><td>2006-02-15 21:30:53</td><td>20050526</td><td>20050528</td><td>1</td><td>null</td><td>2023-05-02T15:39:23.585+0000</td><td>dbfs:/FileStore/ds2002-lab06/sourcedata/stream/rental/sakila_fact_rental.json</td></tr><tr><td>0.99</td><td>536</td><td>237</td><td>241</td><td>2006-02-15 21:30:53</td><td>20050526</td><td>20050529</td><td>1</td><td>null</td><td>2023-05-02T15:39:23.585+0000</td><td>dbfs:/FileStore/ds2002-lab06/sourcedata/stream/rental/sakila_fact_rental.json</td></tr><tr><td>4.99</td><td>211</td><td>238</td><td>503</td><td>2006-02-15 21:30:53</td><td>20050526</td><td>20050527</td><td>1</td><td>null</td><td>2023-05-02T15:39:23.585+0000</td><td>dbfs:/FileStore/ds2002-lab06/sourcedata/stream/rental/sakila_fact_rental.json</td></tr><tr><td>3.99</td><td>49</td><td>239</td><td>131</td><td>2006-02-15 21:30:53</td><td>20050526</td><td>20050601</td><td>2</td><td>null</td><td>2023-05-02T15:39:23.585+0000</td><td>dbfs:/FileStore/ds2002-lab06/sourcedata/stream/rental/sakila_fact_rental.json</td></tr><tr><td>7.99</td><td>103</td><td>240</td><td>3420</td><td>2006-02-15 21:30:53</td><td>20050526</td><td>20050604</td><td>1</td><td>null</td><td>2023-05-02T15:39:23.585+0000</td><td>dbfs:/FileStore/ds2002-lab06/sourcedata/stream/rental/sakila_fact_rental.json</td></tr><tr><td>0.99</td><td>245</td><td>241</td><td>4438</td><td>2006-02-15 21:30:53</td><td>20050526</td><td>20050528</td><td>2</td><td>null</td><td>2023-05-02T15:39:23.585+0000</td><td>dbfs:/FileStore/ds2002-lab06/sourcedata/stream/rental/sakila_fact_rental.json</td></tr><tr><td>1.99</td><td>214</td><td>242</td><td>2095</td><td>2006-02-15 21:30:53</td><td>20050526</td><td>20050602</td><td>1</td><td>null</td><td>2023-05-02T15:39:23.585+0000</td><td>dbfs:/FileStore/ds2002-lab06/sourcedata/stream/rental/sakila_fact_rental.json</td></tr><tr><td>6.99</td><td>543</td><td>243</td><td>1721</td><td>2006-02-15 21:30:53</td><td>20050526</td><td>20050603</td><td>2</td><td>null</td><td>2023-05-02T15:39:23.585+0000</td><td>dbfs:/FileStore/ds2002-lab06/sourcedata/stream/rental/sakila_fact_rental.json</td></tr><tr><td>2.99</td><td>257</td><td>244</td><td>1041</td><td>2006-02-15 21:30:53</td><td>20050526</td><td>20050531</td><td>1</td><td>null</td><td>2023-05-02T15:39:23.585+0000</td><td>dbfs:/FileStore/ds2002-lab06/sourcedata/stream/rental/sakila_fact_rental.json</td></tr><tr><td>4.99</td><td>158</td><td>245</td><td>3045</td><td>2006-02-15 21:30:53</td><td>20050526</td><td>20050527</td><td>2</td><td>null</td><td>2023-05-02T15:39:23.585+0000</td><td>dbfs:/FileStore/ds2002-lab06/sourcedata/stream/rental/sakila_fact_rental.json</td></tr><tr><td>2.99</td><td>240</td><td>246</td><td>2829</td><td>2006-02-15 21:30:53</td><td>20050526</td><td>20050529</td><td>2</td><td>null</td><td>2023-05-02T15:39:23.585+0000</td><td>dbfs:/FileStore/ds2002-lab06/sourcedata/stream/rental/sakila_fact_rental.json</td></tr><tr><td>4.99</td><td>102</td><td>247</td><td>4095</td><td>2006-02-15 21:30:53</td><td>20050526</td><td>20050528</td><td>2</td><td>null</td><td>2023-05-02T15:39:23.585+0000</td><td>dbfs:/FileStore/ds2002-lab06/sourcedata/stream/rental/sakila_fact_rental.json</td></tr><tr><td>0.99</td><td>545</td><td>248</td><td>1913</td><td>2006-02-15 21:30:53</td><td>20050526</td><td>20050531</td><td>2</td><td>null</td><td>2023-05-02T15:39:23.585+0000</td><td>dbfs:/FileStore/ds2002-lab06/sourcedata/stream/rental/sakila_fact_rental.json</td></tr><tr><td>2.99</td><td>472</td><td>249</td><td>2428</td><td>2006-02-15 21:30:53</td><td>20050526</td><td>20050528</td><td>2</td><td>null</td><td>2023-05-02T15:39:23.585+0000</td><td>dbfs:/FileStore/ds2002-lab06/sourcedata/stream/rental/sakila_fact_rental.json</td></tr><tr><td>4.99</td><td>539</td><td>250</td><td>368</td><td>2006-02-15 21:30:53</td><td>20050526</td><td>20050527</td><td>1</td><td>null</td><td>2023-05-02T15:39:23.585+0000</td><td>dbfs:/FileStore/ds2002-lab06/sourcedata/stream/rental/sakila_fact_rental.json</td></tr><tr><td>0.99</td><td>204</td><td>251</td><td>4352</td><td>2006-02-15 21:30:53</td><td>20050526</td><td>20050529</td><td>1</td><td>null</td><td>2023-05-02T15:39:23.585+0000</td><td>dbfs:/FileStore/ds2002-lab06/sourcedata/stream/rental/sakila_fact_rental.json</td></tr><tr><td>7.99</td><td>187</td><td>252</td><td>1203</td><td>2006-02-15 21:30:53</td><td>20050526</td><td>20050602</td><td>1</td><td>null</td><td>2023-05-02T15:39:23.585+0000</td><td>dbfs:/FileStore/ds2002-lab06/sourcedata/stream/rental/sakila_fact_rental.json</td></tr><tr><td>0.99</td><td>416</td><td>253</td><td>2969</td><td>2006-02-15 21:30:53</td><td>20050526</td><td>20050527</td><td>1</td><td>null</td><td>2023-05-02T15:39:23.585+0000</td><td>dbfs:/FileStore/ds2002-lab06/sourcedata/stream/rental/sakila_fact_rental.json</td></tr><tr><td>4.99</td><td>390</td><td>254</td><td>1835</td><td>2006-02-15 21:30:53</td><td>20050526</td><td>20050531</td><td>2</td><td>null</td><td>2023-05-02T15:39:23.585+0000</td><td>dbfs:/FileStore/ds2002-lab06/sourcedata/stream/rental/sakila_fact_rental.json</td></tr><tr><td>4.99</td><td>114</td><td>255</td><td>3264</td><td>2006-02-15 21:30:53</td><td>20050526</td><td>20050527</td><td>1</td><td>null</td><td>2023-05-02T15:39:23.585+0000</td><td>dbfs:/FileStore/ds2002-lab06/sourcedata/stream/rental/sakila_fact_rental.json</td></tr><tr><td>3.99</td><td>436</td><td>256</td><td>3194</td><td>2006-02-15 21:30:53</td><td>20050526</td><td>20050531</td><td>1</td><td>null</td><td>2023-05-02T15:39:23.585+0000</td><td>dbfs:/FileStore/ds2002-lab06/sourcedata/stream/rental/sakila_fact_rental.json</td></tr><tr><td>4.99</td><td>373</td><td>257</td><td>2570</td><td>2006-02-15 21:30:53</td><td>20050526</td><td>20050529</td><td>2</td><td>null</td><td>2023-05-02T15:39:23.585+0000</td><td>dbfs:/FileStore/ds2002-lab06/sourcedata/stream/rental/sakila_fact_rental.json</td></tr><tr><td>2.99</td><td>502</td><td>258</td><td>3534</td><td>2006-02-15 21:30:53</td><td>20050526</td><td>20050530</td><td>2</td><td>null</td><td>2023-05-02T15:39:23.585+0000</td><td>dbfs:/FileStore/ds2002-lab06/sourcedata/stream/rental/sakila_fact_rental.json</td></tr><tr><td>8.99</td><td>482</td><td>259</td><td>30</td><td>2006-02-15 21:30:53</td><td>20050526</td><td>20050604</td><td>2</td><td>null</td><td>2023-05-02T15:39:23.585+0000</td><td>dbfs:/FileStore/ds2002-lab06/sourcedata/stream/rental/sakila_fact_rental.json</td></tr><tr><td>3.99</td><td>21</td><td>260</td><td>435</td><td>2006-02-15 21:30:53</td><td>20050526</td><td>20050531</td><td>2</td><td>null</td><td>2023-05-02T15:39:23.585+0000</td><td>dbfs:/FileStore/ds2002-lab06/sourcedata/stream/rental/sakila_fact_rental.json</td></tr><tr><td>3.99</td><td>414</td><td>261</td><td>1369</td><td>2006-02-15 21:30:53</td><td>20050526</td><td>20050602</td><td>2</td><td>null</td><td>2023-05-02T15:39:23.585+0000</td><td>dbfs:/FileStore/ds2002-lab06/sourcedata/stream/rental/sakila_fact_rental.json</td></tr><tr><td>2.99</td><td>236</td><td>262</td><td>4261</td><td>2006-02-15 21:30:53</td><td>20050526</td><td>20050528</td><td>2</td><td>null</td><td>2023-05-02T15:39:23.585+0000</td><td>dbfs:/FileStore/ds2002-lab06/sourcedata/stream/rental/sakila_fact_rental.json</td></tr><tr><td>4.99</td><td>449</td><td>263</td><td>1160</td><td>2006-02-15 21:30:53</td><td>20050526</td><td>20050530</td><td>2</td><td>null</td><td>2023-05-02T15:39:23.585+0000</td><td>dbfs:/FileStore/ds2002-lab06/sourcedata/stream/rental/sakila_fact_rental.json</td></tr><tr><td>2.99</td><td>251</td><td>264</td><td>2069</td><td>2006-02-15 21:30:53</td><td>20050526</td><td>20050527</td><td>2</td><td>null</td><td>2023-05-02T15:39:23.585+0000</td><td>dbfs:/FileStore/ds2002-lab06/sourcedata/stream/rental/sakila_fact_rental.json</td></tr><tr><td>0.99</td><td>303</td><td>265</td><td>2276</td><td>2006-02-15 21:30:53</td><td>20050526</td><td>20050601</td><td>1</td><td>null</td><td>2023-05-02T15:39:23.585+0000</td><td>dbfs:/FileStore/ds2002-lab06/sourcedata/stream/rental/sakila_fact_rental.json</td></tr><tr><td>0.99</td><td>263</td><td>266</td><td>3303</td><td>2006-02-15 21:30:53</td><td>20050526</td><td>20050527</td><td>2</td><td>null</td><td>2023-05-02T15:39:23.585+0000</td><td>dbfs:/FileStore/ds2002-lab06/sourcedata/stream/rental/sakila_fact_rental.json</td></tr><tr><td>4.99</td><td>417</td><td>267</td><td>1206</td><td>2006-02-15 21:30:53</td><td>20050526</td><td>20050530</td><td>2</td><td>null</td><td>2023-05-02T15:39:23.585+0000</td><td>dbfs:/FileStore/ds2002-lab06/sourcedata/stream/rental/sakila_fact_rental.json</td></tr><tr><td>0.99</td><td>75</td><td>268</td><td>1714</td><td>2006-02-15 21:30:53</td><td>20050526</td><td>20050527</td><td>1</td><td>null</td><td>2023-05-02T15:39:23.585+0000</td><td>dbfs:/FileStore/ds2002-lab06/sourcedata/stream/rental/sakila_fact_rental.json</td></tr><tr><td>4.99</td><td>322</td><td>269</td><td>3501</td><td>2006-02-15 21:30:53</td><td>20050526</td><td>20050527</td><td>2</td><td>null</td><td>2023-05-02T15:39:23.585+0000</td><td>dbfs:/FileStore/ds2002-lab06/sourcedata/stream/rental/sakila_fact_rental.json</td></tr><tr><td>9.99</td><td>200</td><td>270</td><td>207</td><td>2006-02-15 21:30:53</td><td>20050526</td><td>20050603</td><td>2</td><td>null</td><td>2023-05-02T15:39:23.585+0000</td><td>dbfs:/FileStore/ds2002-lab06/sourcedata/stream/rental/sakila_fact_rental.json</td></tr><tr><td>5.99</td><td>92</td><td>271</td><td>2388</td><td>2006-02-15 21:30:53</td><td>20050526</td><td>20050603</td><td>2</td><td>null</td><td>2023-05-02T15:39:23.585+0000</td><td>dbfs:/FileStore/ds2002-lab06/sourcedata/stream/rental/sakila_fact_rental.json</td></tr><tr><td>9.99</td><td>71</td><td>272</td><td>971</td><td>2006-02-15 21:30:53</td><td>20050526</td><td>20050603</td><td>2</td><td>null</td><td>2023-05-02T15:39:23.585+0000</td><td>dbfs:/FileStore/ds2002-lab06/sourcedata/stream/rental/sakila_fact_rental.json</td></tr><tr><td>2.99</td><td>193</td><td>273</td><td>1590</td><td>2006-02-15 21:30:53</td><td>20050526</td><td>20050529</td><td>2</td><td>null</td><td>2023-05-02T15:39:23.585+0000</td><td>dbfs:/FileStore/ds2002-lab06/sourcedata/stream/rental/sakila_fact_rental.json</td></tr><tr><td>5.99</td><td>311</td><td>274</td><td>656</td><td>2006-02-15 21:30:53</td><td>20050526</td><td>20050603</td><td>1</td><td>null</td><td>2023-05-02T15:39:23.585+0000</td><td>dbfs:/FileStore/ds2002-lab06/sourcedata/stream/rental/sakila_fact_rental.json</td></tr><tr><td>6.99</td><td>133</td><td>275</td><td>1718</td><td>2006-02-15 21:30:53</td><td>20050526</td><td>20050604</td><td>1</td><td>null</td><td>2023-05-02T15:39:23.585+0000</td><td>dbfs:/FileStore/ds2002-lab06/sourcedata/stream/rental/sakila_fact_rental.json</td></tr><tr><td>7.99</td><td>58</td><td>276</td><td>1221</td><td>2006-02-15 21:30:53</td><td>20050526</td><td>20050603</td><td>1</td><td>null</td><td>2023-05-02T15:39:23.585+0000</td><td>dbfs:/FileStore/ds2002-lab06/sourcedata/stream/rental/sakila_fact_rental.json</td></tr><tr><td>2.99</td><td>45</td><td>277</td><td>1409</td><td>2006-02-15 21:30:53</td><td>20050526</td><td>20050528</td><td>1</td><td>null</td><td>2023-05-02T15:39:23.585+0000</td><td>dbfs:/FileStore/ds2002-lab06/sourcedata/stream/rental/sakila_fact_rental.json</td></tr><tr><td>3.99</td><td>214</td><td>278</td><td>182</td><td>2006-02-15 21:30:53</td><td>20050526</td><td>20050602</td><td>2</td><td>null</td><td>2023-05-02T15:39:23.585+0000</td><td>dbfs:/FileStore/ds2002-lab06/sourcedata/stream/rental/sakila_fact_rental.json</td></tr><tr><td>2.99</td><td>384</td><td>279</td><td>661</td><td>2006-02-15 21:30:53</td><td>20050526</td><td>20050603</td><td>2</td><td>null</td><td>2023-05-02T15:39:23.585+0000</td><td>dbfs:/FileStore/ds2002-lab06/sourcedata/stream/rental/sakila_fact_rental.json</td></tr><tr><td>2.99</td><td>167</td><td>280</td><td>1896</td><td>2006-02-15 21:30:53</td><td>20050526</td><td>20050527</td><td>1</td><td>null</td><td>2023-05-02T15:39:23.585+0000</td><td>dbfs:/FileStore/ds2002-lab06/sourcedata/stream/rental/sakila_fact_rental.json</td></tr><tr><td>0.99</td><td>582</td><td>281</td><td>1208</td><td>2006-02-15 21:30:53</td><td>20050526</td><td>20050527</td><td>2</td><td>null</td><td>2023-05-02T15:39:23.585+0000</td><td>dbfs:/FileStore/ds2002-lab06/sourcedata/stream/rental/sakila_fact_rental.json</td></tr><tr><td>6.99</td><td>282</td><td>282</td><td>4486</td><td>2006-02-15 21:30:53</td><td>20050526</td><td>20050601</td><td>2</td><td>null</td><td>2023-05-02T15:39:23.585+0000</td><td>dbfs:/FileStore/ds2002-lab06/sourcedata/stream/rental/sakila_fact_rental.json</td></tr><tr><td>3.99</td><td>242</td><td>283</td><td>3530</td><td>2006-02-15 21:30:53</td><td>20050526</td><td>20050531</td><td>1</td><td>null</td><td>2023-05-02T15:39:23.585+0000</td><td>dbfs:/FileStore/ds2002-lab06/sourcedata/stream/rental/sakila_fact_rental.json</td></tr><tr><td>8.99</td><td>359</td><td>284</td><td>350</td><td>2006-02-15 21:30:53</td><td>20050526</td><td>20050604</td><td>2</td><td>null</td><td>2023-05-02T15:39:23.585+0000</td><td>dbfs:/FileStore/ds2002-lab06/sourcedata/stream/rental/sakila_fact_rental.json</td></tr><tr><td>1.99</td><td>162</td><td>285</td><td>2486</td><td>2006-02-15 21:30:53</td><td>20050526</td><td>20050531</td><td>2</td><td>null</td><td>2023-05-02T15:39:23.585+0000</td><td>dbfs:/FileStore/ds2002-lab06/sourcedata/stream/rental/sakila_fact_rental.json</td></tr><tr><td>6.99</td><td>371</td><td>286</td><td>314</td><td>2006-02-15 21:30:53</td><td>20050526</td><td>20050604</td><td>2</td><td>null</td><td>2023-05-02T15:39:23.585+0000</td><td>dbfs:/FileStore/ds2002-lab06/sourcedata/stream/rental/sakila_fact_rental.json</td></tr><tr><td>2.99</td><td>17</td><td>287</td><td>3631</td><td>2006-02-15 21:30:53</td><td>20050526</td><td>20050602</td><td>1</td><td>null</td><td>2023-05-02T15:39:23.585+0000</td><td>dbfs:/FileStore/ds2002-lab06/sourcedata/stream/rental/sakila_fact_rental.json</td></tr><tr><td>8.99</td><td>82</td><td>288</td><td>3546</td><td>2006-02-15 21:30:53</td><td>20050526</td><td>20050603</td><td>2</td><td>null</td><td>2023-05-02T15:39:23.585+0000</td><td>dbfs:/FileStore/ds2002-lab06/sourcedata/stream/rental/sakila_fact_rental.json</td></tr><tr><td>0.99</td><td>81</td><td>289</td><td>2449</td><td>2006-02-15 21:30:53</td><td>20050526</td><td>20050528</td><td>1</td><td>null</td><td>2023-05-02T15:39:23.585+0000</td><td>dbfs:/FileStore/ds2002-lab06/sourcedata/stream/rental/sakila_fact_rental.json</td></tr><tr><td>2.99</td><td>429</td><td>290</td><td>2776</td><td>2006-02-15 21:30:53</td><td>20050526</td><td>20050530</td><td>1</td><td>null</td><td>2023-05-02T15:39:23.585+0000</td><td>dbfs:/FileStore/ds2002-lab06/sourcedata/stream/rental/sakila_fact_rental.json</td></tr><tr><td>5.99</td><td>577</td><td>291</td><td>485</td><td>2006-02-15 21:30:53</td><td>20050526</td><td>20050603</td><td>2</td><td>null</td><td>2023-05-02T15:39:23.585+0000</td><td>dbfs:/FileStore/ds2002-lab06/sourcedata/stream/rental/sakila_fact_rental.json</td></tr><tr><td>6.99</td><td>515</td><td>292</td><td>4264</td><td>2006-02-15 21:30:53</td><td>20050526</td><td>20050605</td><td>1</td><td>null</td><td>2023-05-02T15:39:23.585+0000</td><td>dbfs:/FileStore/ds2002-lab06/sourcedata/stream/rental/sakila_fact_rental.json</td></tr><tr><td>5.99</td><td>158</td><td>293</td><td>1828</td><td>2006-02-15 21:30:53</td><td>20050526</td><td>20050603</td><td>2</td><td>null</td><td>2023-05-02T15:39:23.585+0000</td><td>dbfs:/FileStore/ds2002-lab06/sourcedata/stream/rental/sakila_fact_rental.json</td></tr><tr><td>4.99</td><td>369</td><td>294</td><td>2751</td><td>2006-02-15 21:30:53</td><td>20050526</td><td>20050528</td><td>1</td><td>null</td><td>2023-05-02T15:39:23.585+0000</td><td>dbfs:/FileStore/ds2002-lab06/sourcedata/stream/rental/sakila_fact_rental.json</td></tr><tr><td>4.99</td><td>65</td><td>295</td><td>4030</td><td>2006-02-15 21:30:53</td><td>20050526</td><td>20050527</td><td>2</td><td>null</td><td>2023-05-02T15:39:23.585+0000</td><td>dbfs:/FileStore/ds2002-lab06/sourcedata/stream/rental/sakila_fact_rental.json</td></tr><tr><td>6.99</td><td>468</td><td>296</td><td>3878</td><td>2006-02-15 21:30:53</td><td>20050526</td><td>20050604</td><td>2</td><td>null</td><td>2023-05-02T15:39:23.585+0000</td><td>dbfs:/FileStore/ds2002-lab06/sourcedata/stream/rental/sakila_fact_rental.json</td></tr><tr><td>2.99</td><td>48</td><td>297</td><td>1594</td><td>2006-02-15 21:30:53</td><td>20050526</td><td>20050527</td><td>2</td><td>null</td><td>2023-05-02T15:39:23.585+0000</td><td>dbfs:/FileStore/ds2002-lab06/sourcedata/stream/rental/sakila_fact_rental.json</td></tr><tr><td>0.99</td><td>460</td><td>298</td><td>1083</td><td>2006-02-15 21:30:53</td><td>20050526</td><td>20050529</td><td>2</td><td>null</td><td>2023-05-02T15:39:23.585+0000</td><td>dbfs:/FileStore/ds2002-lab06/sourcedata/stream/rental/sakila_fact_rental.json</td></tr><tr><td>4.99</td><td>448</td><td>299</td><td>4376</td><td>2006-02-15 21:30:53</td><td>20050526</td><td>20050528</td><td>2</td><td>null</td><td>2023-05-02T15:39:23.585+0000</td><td>dbfs:/FileStore/ds2002-lab06/sourcedata/stream/rental/sakila_fact_rental.json</td></tr><tr><td>6.99</td><td>47</td><td>300</td><td>249</td><td>2006-02-15 21:30:53</td><td>20050526</td><td>20050605</td><td>2</td><td>null</td><td>2023-05-02T15:39:23.585+0000</td><td>dbfs:/FileStore/ds2002-lab06/sourcedata/stream/rental/sakila_fact_rental.json</td></tr><tr><td>2.99</td><td>274</td><td>301</td><td>3448</td><td>2006-02-15 21:30:53</td><td>20050526</td><td>20050601</td><td>2</td><td>null</td><td>2023-05-02T15:39:23.585+0000</td><td>dbfs:/FileStore/ds2002-lab06/sourcedata/stream/rental/sakila_fact_rental.json</td></tr><tr><td>4.99</td><td>387</td><td>302</td><td>2921</td><td>2006-02-15 21:30:53</td><td>20050526</td><td>20050603</td><td>2</td><td>null</td><td>2023-05-02T15:39:23.585+0000</td><td>dbfs:/FileStore/ds2002-lab06/sourcedata/stream/rental/sakila_fact_rental.json</td></tr><tr><td>4.99</td><td>596</td><td>303</td><td>1111</td><td>2006-02-15 21:30:53</td><td>20050526</td><td>20050527</td><td>2</td><td>null</td><td>2023-05-02T15:39:23.585+0000</td><td>dbfs:/FileStore/ds2002-lab06/sourcedata/stream/rental/sakila_fact_rental.json</td></tr><tr><td>5.99</td><td>534</td><td>304</td><td>1701</td><td>2006-02-15 21:30:53</td><td>20050526</td><td>20050602</td><td>1</td><td>null</td><td>2023-05-02T15:39:23.585+0000</td><td>dbfs:/FileStore/ds2002-lab06/sourcedata/stream/rental/sakila_fact_rental.json</td></tr><tr><td>3.99</td><td>464</td><td>305</td><td>2665</td><td>2006-02-15 21:30:53</td><td>20050526</td><td>20050602</td><td>2</td><td>null</td><td>2023-05-02T15:39:23.585+0000</td><td>dbfs:/FileStore/ds2002-lab06/sourcedata/stream/rental/sakila_fact_rental.json</td></tr><tr><td>0.99</td><td>547</td><td>306</td><td>2781</td><td>2006-02-15 21:30:53</td><td>20050526</td><td>20050528</td><td>1</td><td>null</td><td>2023-05-02T15:39:23.585+0000</td><td>dbfs:/FileStore/ds2002-lab06/sourcedata/stream/rental/sakila_fact_rental.json</td></tr><tr><td>8.99</td><td>375</td><td>307</td><td>1097</td><td>2006-02-15 21:30:53</td><td>20050526</td><td>20050604</td><td>1</td><td>null</td><td>2023-05-02T15:39:23.585+0000</td><td>dbfs:/FileStore/ds2002-lab06/sourcedata/stream/rental/sakila_fact_rental.json</td></tr><tr><td>6.99</td><td>277</td><td>308</td><td>187</td><td>2006-02-15 21:30:53</td><td>20050526</td><td>20050604</td><td>2</td><td>null</td><td>2023-05-02T15:39:23.585+0000</td><td>dbfs:/FileStore/ds2002-lab06/sourcedata/stream/rental/sakila_fact_rental.json</td></tr><tr><td>1.99</td><td>251</td><td>309</td><td>1946</td><td>2006-02-15 21:30:53</td><td>20050526</td><td>20050602</td><td>2</td><td>null</td><td>2023-05-02T15:39:23.585+0000</td><td>dbfs:/FileStore/ds2002-lab06/sourcedata/stream/rental/sakila_fact_rental.json</td></tr><tr><td>6.99</td><td>409</td><td>310</td><td>593</td><td>2006-02-15 21:30:53</td><td>20050526</td><td>20050602</td><td>1</td><td>null</td><td>2023-05-02T15:39:23.585+0000</td><td>dbfs:/FileStore/ds2002-lab06/sourcedata/stream/rental/sakila_fact_rental.json</td></tr><tr><td>3.99</td><td>201</td><td>311</td><td>2830</td><td>2006-02-15 21:30:53</td><td>20050526</td><td>20050601</td><td>1</td><td>null</td><td>2023-05-02T15:39:23.585+0000</td><td>dbfs:/FileStore/ds2002-lab06/sourcedata/stream/rental/sakila_fact_rental.json</td></tr><tr><td>2.99</td><td>143</td><td>312</td><td>2008</td><td>2006-02-15 21:30:53</td><td>20050526</td><td>20050602</td><td>2</td><td>null</td><td>2023-05-02T15:39:23.585+0000</td><td>dbfs:/FileStore/ds2002-lab06/sourcedata/stream/rental/sakila_fact_rental.json</td></tr><tr><td>4.99</td><td>594</td><td>313</td><td>4156</td><td>2006-02-15 21:30:53</td><td>20050526</td><td>20050529</td><td>2</td><td>null</td><td>2023-05-02T15:39:23.585+0000</td><td>dbfs:/FileStore/ds2002-lab06/sourcedata/stream/rental/sakila_fact_rental.json</td></tr><tr><td>0.99</td><td>203</td><td>314</td><td>2851</td><td>2006-02-15 21:30:53</td><td>20050526</td><td>20050528</td><td>2</td><td>null</td><td>2023-05-02T15:39:23.585+0000</td><td>dbfs:/FileStore/ds2002-lab06/sourcedata/stream/rental/sakila_fact_rental.json</td></tr><tr><td>4.99</td><td>238</td><td>315</td><td>2847</td><td>2006-02-15 21:30:53</td><td>20050526</td><td>20050529</td><td>1</td><td>null</td><td>2023-05-02T15:39:23.585+0000</td><td>dbfs:/FileStore/ds2002-lab06/sourcedata/stream/rental/sakila_fact_rental.json</td></tr><tr><td>4.99</td><td>249</td><td>316</td><td>3828</td><td>2006-02-15 21:30:53</td><td>20050526</td><td>20050529</td><td>2</td><td>null</td><td>2023-05-02T15:39:23.585+0000</td><td>dbfs:/FileStore/ds2002-lab06/sourcedata/stream/rental/sakila_fact_rental.json</td></tr><tr><td>5.99</td><td>391</td><td>317</td><td>26</td><td>2006-02-15 21:30:53</td><td>20050526</td><td>20050601</td><td>2</td><td>null</td><td>2023-05-02T15:39:23.585+0000</td><td>dbfs:/FileStore/ds2002-lab06/sourcedata/stream/rental/sakila_fact_rental.json</td></tr><tr><td>4.99</td><td>60</td><td>318</td><td>2559</td><td>2006-02-15 21:30:53</td><td>20050526</td><td>20050603</td><td>2</td><td>null</td><td>2023-05-02T15:39:23.585+0000</td><td>dbfs:/FileStore/ds2002-lab06/sourcedata/stream/rental/sakila_fact_rental.json</td></tr><tr><td>2.99</td><td>77</td><td>319</td><td>3024</td><td>2006-02-15 21:30:53</td><td>20050526</td><td>20050530</td><td>1</td><td>null</td><td>2023-05-02T15:39:23.585+0000</td><td>dbfs:/FileStore/ds2002-lab06/sourcedata/stream/rental/sakila_fact_rental.json</td></tr><tr><td>4.99</td><td>2</td><td>320</td><td>1090</td><td>2006-02-15 21:30:53</td><td>20050527</td><td>20050528</td><td>2</td><td>null</td><td>2023-05-02T15:39:23.585+0000</td><td>dbfs:/FileStore/ds2002-lab06/sourcedata/stream/rental/sakila_fact_rental.json</td></tr><tr><td>4.99</td><td>496</td><td>322</td><td>4556</td><td>2006-02-15 21:30:53</td><td>20050527</td><td>20050602</td><td>1</td><td>null</td><td>2023-05-02T15:39:23.585+0000</td><td>dbfs:/FileStore/ds2002-lab06/sourcedata/stream/rental/sakila_fact_rental.json</td></tr><tr><td>2.99</td><td>144</td><td>323</td><td>2362</td><td>2006-02-15 21:30:53</td><td>20050527</td><td>20050530</td><td>1</td><td>null</td><td>2023-05-02T15:39:23.585+0000</td><td>dbfs:/FileStore/ds2002-lab06/sourcedata/stream/rental/sakila_fact_rental.json</td></tr><tr><td>0.99</td><td>292</td><td>324</td><td>3364</td><td>2006-02-15 21:30:53</td><td>20050527</td><td>20050530</td><td>1</td><td>null</td><td>2023-05-02T15:39:23.585+0000</td><td>dbfs:/FileStore/ds2002-lab06/sourcedata/stream/rental/sakila_fact_rental.json</td></tr><tr><td>5.99</td><td>449</td><td>325</td><td>2510</td><td>2006-02-15 21:30:53</td><td>20050527</td><td>20050531</td><td>2</td><td>null</td><td>2023-05-02T15:39:23.585+0000</td><td>dbfs:/FileStore/ds2002-lab06/sourcedata/stream/rental/sakila_fact_rental.json</td></tr><tr><td>7.99</td><td>432</td><td>326</td><td>3979</td><td>2006-02-15 21:30:53</td><td>20050527</td><td>20050604</td><td>2</td><td>null</td><td>2023-05-02T15:39:23.585+0000</td><td>dbfs:/FileStore/ds2002-lab06/sourcedata/stream/rental/sakila_fact_rental.json</td></tr><tr><td>8.99</td><td>105</td><td>327</td><td>2678</td><td>2006-02-15 21:30:53</td><td>20050527</td><td>20050604</td><td>1</td><td>null</td><td>2023-05-02T15:39:23.585+0000</td><td>dbfs:/FileStore/ds2002-lab06/sourcedata/stream/rental/sakila_fact_rental.json</td></tr><tr><td>2.99</td><td>451</td><td>328</td><td>2524</td><td>2006-02-15 21:30:53</td><td>20050527</td><td>20050601</td><td>1</td><td>null</td><td>2023-05-02T15:39:23.585+0000</td><td>dbfs:/FileStore/ds2002-lab06/sourcedata/stream/rental/sakila_fact_rental.json</td></tr><tr><td>5.99</td><td>231</td><td>329</td><td>2659</td><td>2006-02-15 21:30:53</td><td>20050527</td><td>20050531</td><td>2</td><td>null</td><td>2023-05-02T15:39:23.585+0000</td><td>dbfs:/FileStore/ds2002-lab06/sourcedata/stream/rental/sakila_fact_rental.json</td></tr><tr><td>7.99</td><td>248</td><td>330</td><td>1536</td><td>2006-02-15 21:30:53</td><td>20050527</td><td>20050604</td><td>2</td><td>null</td><td>2023-05-02T15:39:23.585+0000</td><td>dbfs:/FileStore/ds2002-lab06/sourcedata/stream/rental/sakila_fact_rental.json</td></tr><tr><td>9.99</td><td>67</td><td>331</td><td>1872</td><td>2006-02-15 21:30:53</td><td>20050527</td><td>20050605</td><td>1</td><td>null</td><td>2023-05-02T15:39:23.585+0000</td><td>dbfs:/FileStore/ds2002-lab06/sourcedata/stream/rental/sakila_fact_rental.json</td></tr><tr><td>5.99</td><td>299</td><td>332</td><td>1529</td><td>2006-02-15 21:30:53</td><td>20050527</td><td>20050603</td><td>2</td><td>null</td><td>2023-05-02T15:39:23.585+0000</td><td>dbfs:/FileStore/ds2002-lab06/sourcedata/stream/rental/sakila_fact_rental.json</td></tr><tr><td>4.99</td><td>412</td><td>333</td><td>4001</td><td>2006-02-15 21:30:53</td><td>20050527</td><td>20050601</td><td>2</td><td>null</td><td>2023-05-02T15:39:23.585+0000</td><td>dbfs:/FileStore/ds2002-lab06/sourcedata/stream/rental/sakila_fact_rental.json</td></tr><tr><td>4.99</td><td>194</td><td>334</td><td>3973</td><td>2006-02-15 21:30:53</td><td>20050527</td><td>20050529</td><td>1</td><td>null</td><td>2023-05-02T15:39:23.585+0000</td><td>dbfs:/FileStore/ds2002-lab06/sourcedata/stream/rental/sakila_fact_rental.json</td></tr><tr><td>3.99</td><td>16</td><td>335</td><td>1411</td><td>2006-02-15 21:30:53</td><td>20050527</td><td>20050605</td><td>2</td><td>null</td><td>2023-05-02T15:39:23.585+0000</td><td>dbfs:/FileStore/ds2002-lab06/sourcedata/stream/rental/sakila_fact_rental.json</td></tr><tr><td>2.99</td><td>275</td><td>336</td><td>1811</td><td>2006-02-15 21:30:53</td><td>20050527</td><td>20050529</td><td>1</td><td>null</td><td>2023-05-02T15:39:23.585+0000</td><td>dbfs:/FileStore/ds2002-lab06/sourcedata/stream/rental/sakila_fact_rental.json</td></tr><tr><td>2.99</td><td>19</td><td>337</td><td>751</td><td>2006-02-15 21:30:53</td><td>20050527</td><td>20050602</td><td>1</td><td>null</td><td>2023-05-02T15:39:23.585+0000</td><td>dbfs:/FileStore/ds2002-lab06/sourcedata/stream/rental/sakila_fact_rental.json</td></tr><tr><td>4.99</td><td>165</td><td>338</td><td>2596</td><td>2006-02-15 21:30:53</td><td>20050527</td><td>20050601</td><td>2</td><td>null</td><td>2023-05-02T15:39:23.585+0000</td><td>dbfs:/FileStore/ds2002-lab06/sourcedata/stream/rental/sakila_fact_rental.json</td></tr><tr><td>3.99</td><td>516</td><td>339</td><td>2410</td><td>2006-02-15 21:30:53</td><td>20050527</td><td>20050604</td><td>2</td><td>null</td><td>2023-05-02T15:39:23.585+0000</td><td>dbfs:/FileStore/ds2002-lab06/sourcedata/stream/rental/sakila_fact_rental.json</td></tr><tr><td>9.99</td><td>209</td><td>340</td><td>946</td><td>2006-02-15 21:30:53</td><td>20050527</td><td>20050604</td><td>2</td><td>null</td><td>2023-05-02T15:39:23.585+0000</td><td>dbfs:/FileStore/ds2002-lab06/sourcedata/stream/rental/sakila_fact_rental.json</td></tr><tr><td>5.99</td><td>56</td><td>341</td><td>4168</td><td>2006-02-15 21:30:53</td><td>20050527</td><td>20050605</td><td>1</td><td>null</td><td>2023-05-02T15:39:23.585+0000</td><td>dbfs:/FileStore/ds2002-lab06/sourcedata/stream/rental/sakila_fact_rental.json</td></tr><tr><td>0.99</td><td>539</td><td>342</td><td>4019</td><td>2006-02-15 21:30:53</td><td>20050527</td><td>20050529</td><td>2</td><td>null</td><td>2023-05-02T15:39:23.585+0000</td><td>dbfs:/FileStore/ds2002-lab06/sourcedata/stream/rental/sakila_fact_rental.json</td></tr><tr><td>0.99</td><td>455</td><td>343</td><td>3301</td><td>2006-02-15 21:30:53</td><td>20050527</td><td>20050528</td><td>1</td><td>null</td><td>2023-05-02T15:39:23.585+0000</td><td>dbfs:/FileStore/ds2002-lab06/sourcedata/stream/rental/sakila_fact_rental.json</td></tr><tr><td>2.99</td><td>236</td><td>344</td><td>2327</td><td>2006-02-15 21:30:53</td><td>20050527</td><td>20050529</td><td>2</td><td>null</td><td>2023-05-02T15:39:23.585+0000</td><td>dbfs:/FileStore/ds2002-lab06/sourcedata/stream/rental/sakila_fact_rental.json</td></tr><tr><td>2.99</td><td>144</td><td>345</td><td>1396</td><td>2006-02-15 21:30:53</td><td>20050527</td><td>20050531</td><td>1</td><td>null</td><td>2023-05-02T15:39:23.585+0000</td><td>dbfs:/FileStore/ds2002-lab06/sourcedata/stream/rental/sakila_fact_rental.json</td></tr><tr><td>9.99</td><td>14</td><td>346</td><td>4319</td><td>2006-02-15 21:30:53</td><td>20050527</td><td>20050605</td><td>2</td><td>null</td><td>2023-05-02T15:39:23.585+0000</td><td>dbfs:/FileStore/ds2002-lab06/sourcedata/stream/rental/sakila_fact_rental.json</td></tr><tr><td>0.99</td><td>378</td><td>347</td><td>1625</td><td>2006-02-15 21:30:53</td><td>20050527</td><td>20050528</td><td>2</td><td>null</td><td>2023-05-02T15:39:23.585+0000</td><td>dbfs:/FileStore/ds2002-lab06/sourcedata/stream/rental/sakila_fact_rental.json</td></tr><tr><td>4.99</td><td>473</td><td>348</td><td>1825</td><td>2006-02-15 21:30:53</td><td>20050527</td><td>20050601</td><td>1</td><td>null</td><td>2023-05-02T15:39:23.585+0000</td><td>dbfs:/FileStore/ds2002-lab06/sourcedata/stream/rental/sakila_fact_rental.json</td></tr><tr><td>0.99</td><td>36</td><td>349</td><td>2920</td><td>2006-02-15 21:30:53</td><td>20050527</td><td>20050528</td><td>2</td><td>null</td><td>2023-05-02T15:39:23.585+0000</td><td>dbfs:/FileStore/ds2002-lab06/sourcedata/stream/rental/sakila_fact_rental.json</td></tr><tr><td>4.99</td><td>9</td><td>350</td><td>2756</td><td>2006-02-15 21:30:53</td><td>20050527</td><td>20050604</td><td>2</td><td>null</td><td>2023-05-02T15:39:23.585+0000</td><td>dbfs:/FileStore/ds2002-lab06/sourcedata/stream/rental/sakila_fact_rental.json</td></tr><tr><td>5.99</td><td>118</td><td>351</td><td>3371</td><td>2006-02-15 21:30:53</td><td>20050527</td><td>20050601</td><td>1</td><td>null</td><td>2023-05-02T15:39:23.585+0000</td><td>dbfs:/FileStore/ds2002-lab06/sourcedata/stream/rental/sakila_fact_rental.json</td></tr><tr><td>0.99</td><td>157</td><td>352</td><td>4369</td><td>2006-02-15 21:30:53</td><td>20050527</td><td>20050529</td><td>1</td><td>null</td><td>2023-05-02T15:39:23.585+0000</td><td>dbfs:/FileStore/ds2002-lab06/sourcedata/stream/rental/sakila_fact_rental.json</td></tr><tr><td>5.99</td><td>503</td><td>353</td><td>3989</td><td>2006-02-15 21:30:53</td><td>20050527</td><td>20050603</td><td>2</td><td>null</td><td>2023-05-02T15:39:23.585+0000</td><td>dbfs:/FileStore/ds2002-lab06/sourcedata/stream/rental/sakila_fact_rental.json</td></tr><tr><td>2.99</td><td>452</td><td>354</td><td>2058</td><td>2006-02-15 21:30:53</td><td>20050527</td><td>20050601</td><td>1</td><td>null</td><td>2023-05-02T15:39:23.585+0000</td><td>dbfs:/FileStore/ds2002-lab06/sourcedata/stream/rental/sakila_fact_rental.json</td></tr><tr><td>4.99</td><td>446</td><td>355</td><td>141</td><td>2006-02-15 21:30:53</td><td>20050527</td><td>20050601</td><td>2</td><td>null</td><td>2023-05-02T15:39:23.585+0000</td><td>dbfs:/FileStore/ds2002-lab06/sourcedata/stream/rental/sakila_fact_rental.json</td></tr><tr><td>2.99</td><td>382</td><td>356</td><td>2868</td><td>2006-02-15 21:30:53</td><td>20050527</td><td>20050530</td><td>2</td><td>null</td><td>2023-05-02T15:39:23.585+0000</td><td>dbfs:/FileStore/ds2002-lab06/sourcedata/stream/rental/sakila_fact_rental.json</td></tr><tr><td>0.99</td><td>198</td><td>357</td><td>4417</td><td>2006-02-15 21:30:53</td><td>20050527</td><td>20050530</td><td>2</td><td>null</td><td>2023-05-02T15:39:23.585+0000</td><td>dbfs:/FileStore/ds2002-lab06/sourcedata/stream/rental/sakila_fact_rental.json</td></tr><tr><td>0.99</td><td>102</td><td>358</td><td>1925</td><td>2006-02-15 21:30:53</td><td>20050527</td><td>20050529</td><td>2</td><td>null</td><td>2023-05-02T15:39:23.585+0000</td><td>dbfs:/FileStore/ds2002-lab06/sourcedata/stream/rental/sakila_fact_rental.json</td></tr><tr><td>4.99</td><td>152</td><td>359</td><td>1156</td><td>2006-02-15 21:30:53</td><td>20050527</td><td>20050529</td><td>1</td><td>null</td><td>2023-05-02T15:39:23.585+0000</td><td>dbfs:/FileStore/ds2002-lab06/sourcedata/stream/rental/sakila_fact_rental.json</td></tr><tr><td>8.99</td><td>594</td><td>360</td><td>3489</td><td>2006-02-15 21:30:53</td><td>20050527</td><td>20050603</td><td>1</td><td>null</td><td>2023-05-02T15:39:23.585+0000</td><td>dbfs:/FileStore/ds2002-lab06/sourcedata/stream/rental/sakila_fact_rental.json</td></tr><tr><td>0.99</td><td>587</td><td>361</td><td>6</td><td>2006-02-15 21:30:53</td><td>20050527</td><td>20050531</td><td>1</td><td>null</td><td>2023-05-02T15:39:23.585+0000</td><td>dbfs:/FileStore/ds2002-lab06/sourcedata/stream/rental/sakila_fact_rental.json</td></tr><tr><td>0.99</td><td>147</td><td>362</td><td>2324</td><td>2006-02-15 21:30:53</td><td>20050527</td><td>20050601</td><td>1</td><td>null</td><td>2023-05-02T15:39:23.585+0000</td><td>dbfs:/FileStore/ds2002-lab06/sourcedata/stream/rental/sakila_fact_rental.json</td></tr><tr><td>0.99</td><td>345</td><td>363</td><td>4282</td><td>2006-02-15 21:30:53</td><td>20050527</td><td>20050528</td><td>2</td><td>null</td><td>2023-05-02T15:39:23.585+0000</td><td>dbfs:/FileStore/ds2002-lab06/sourcedata/stream/rental/sakila_fact_rental.json</td></tr><tr><td>4.99</td><td>430</td><td>364</td><td>833</td><td>2006-02-15 21:30:53</td><td>20050527</td><td>20050531</td><td>2</td><td>null</td><td>2023-05-02T15:39:23.585+0000</td><td>dbfs:/FileStore/ds2002-lab06/sourcedata/stream/rental/sakila_fact_rental.json</td></tr><tr><td>2.99</td><td>167</td><td>365</td><td>2887</td><td>2006-02-15 21:30:53</td><td>20050527</td><td>20050604</td><td>1</td><td>null</td><td>2023-05-02T15:39:23.585+0000</td><td>dbfs:/FileStore/ds2002-lab06/sourcedata/stream/rental/sakila_fact_rental.json</td></tr><tr><td>3.99</td><td>134</td><td>366</td><td>360</td><td>2006-02-15 21:30:53</td><td>20050527</td><td>20050604</td><td>2</td><td>null</td><td>2023-05-02T15:39:23.585+0000</td><td>dbfs:/FileStore/ds2002-lab06/sourcedata/stream/rental/sakila_fact_rental.json</td></tr><tr><td>0.99</td><td>439</td><td>367</td><td>3437</td><td>2006-02-15 21:30:53</td><td>20050527</td><td>20050530</td><td>2</td><td>null</td><td>2023-05-02T15:39:23.585+0000</td><td>dbfs:/FileStore/ds2002-lab06/sourcedata/stream/rental/sakila_fact_rental.json</td></tr><tr><td>5.99</td><td>361</td><td>368</td><td>1247</td><td>2006-02-15 21:30:53</td><td>20050527</td><td>20050604</td><td>2</td><td>null</td><td>2023-05-02T15:39:23.585+0000</td><td>dbfs:/FileStore/ds2002-lab06/sourcedata/stream/rental/sakila_fact_rental.json</td></tr><tr><td>2.99</td><td>508</td><td>369</td><td>944</td><td>2006-02-15 21:30:53</td><td>20050527</td><td>20050601</td><td>2</td><td>null</td><td>2023-05-02T15:39:23.585+0000</td><td>dbfs:/FileStore/ds2002-lab06/sourcedata/stream/rental/sakila_fact_rental.json</td></tr><tr><td>4.99</td><td>22</td><td>370</td><td>3347</td><td>2006-02-15 21:30:53</td><td>20050527</td><td>20050605</td><td>2</td><td>null</td><td>2023-05-02T15:39:23.585+0000</td><td>dbfs:/FileStore/ds2002-lab06/sourcedata/stream/rental/sakila_fact_rental.json</td></tr><tr><td>3.99</td><td>295</td><td>371</td><td>1235</td><td>2006-02-15 21:30:53</td><td>20050527</td><td>20050605</td><td>2</td><td>null</td><td>2023-05-02T15:39:23.585+0000</td><td>dbfs:/FileStore/ds2002-lab06/sourcedata/stream/rental/sakila_fact_rental.json</td></tr><tr><td>5.99</td><td>510</td><td>372</td><td>4089</td><td>2006-02-15 21:30:53</td><td>20050527</td><td>20050604</td><td>2</td><td>null</td><td>2023-05-02T15:39:23.585+0000</td><td>dbfs:/FileStore/ds2002-lab06/sourcedata/stream/rental/sakila_fact_rental.json</td></tr><tr><td>1.99</td><td>464</td><td>373</td><td>1649</td><td>2006-02-15 21:30:53</td><td>20050527</td><td>20050601</td><td>1</td><td>null</td><td>2023-05-02T15:39:23.585+0000</td><td>dbfs:/FileStore/ds2002-lab06/sourcedata/stream/rental/sakila_fact_rental.json</td></tr><tr><td>6.99</td><td>337</td><td>374</td><td>4420</td><td>2006-02-15 21:30:53</td><td>20050527</td><td>20050605</td><td>1</td><td>null</td><td>2023-05-02T15:39:23.585+0000</td><td>dbfs:/FileStore/ds2002-lab06/sourcedata/stream/rental/sakila_fact_rental.json</td></tr><tr><td>3.99</td><td>306</td><td>375</td><td>1815</td><td>2006-02-15 21:30:53</td><td>20050527</td><td>20050604</td><td>1</td><td>null</td><td>2023-05-02T15:39:23.585+0000</td><td>dbfs:/FileStore/ds2002-lab06/sourcedata/stream/rental/sakila_fact_rental.json</td></tr><tr><td>4.99</td><td>542</td><td>376</td><td>3197</td><td>2006-02-15 21:30:53</td><td>20050527</td><td>20050602</td><td>1</td><td>null</td><td>2023-05-02T15:39:23.585+0000</td><td>dbfs:/FileStore/ds2002-lab06/sourcedata/stream/rental/sakila_fact_rental.json</td></tr><tr><td>5.99</td><td>170</td><td>377</td><td>3012</td><td>2006-02-15 21:30:53</td><td>20050527</td><td>20050602</td><td>2</td><td>null</td><td>2023-05-02T15:39:23.585+0000</td><td>dbfs:/FileStore/ds2002-lab06/sourcedata/stream/rental/sakila_fact_rental.json</td></tr><tr><td>2.99</td><td>53</td><td>378</td><td>2242</td><td>2006-02-15 21:30:53</td><td>20050527</td><td>20050529</td><td>1</td><td>null</td><td>2023-05-02T15:39:23.585+0000</td><td>dbfs:/FileStore/ds2002-lab06/sourcedata/stream/rental/sakila_fact_rental.json</td></tr><tr><td>4.99</td><td>584</td><td>379</td><td>3462</td><td>2006-02-15 21:30:53</td><td>20050527</td><td>20050602</td><td>1</td><td>null</td><td>2023-05-02T15:39:23.585+0000</td><td>dbfs:/FileStore/ds2002-lab06/sourcedata/stream/rental/sakila_fact_rental.json</td></tr><tr><td>6.99</td><td>176</td><td>380</td><td>1777</td><td>2006-02-15 21:30:53</td><td>20050527</td><td>20050604</td><td>1</td><td>null</td><td>2023-05-02T15:39:23.585+0000</td><td>dbfs:/FileStore/ds2002-lab06/sourcedata/stream/rental/sakila_fact_rental.json</td></tr><tr><td>4.99</td><td>371</td><td>381</td><td>2748</td><td>2006-02-15 21:30:53</td><td>20050527</td><td>20050531</td><td>1</td><td>null</td><td>2023-05-02T15:39:23.585+0000</td><td>dbfs:/FileStore/ds2002-lab06/sourcedata/stream/rental/sakila_fact_rental.json</td></tr><tr><td>0.99</td><td>183</td><td>382</td><td>4358</td><td>2006-02-15 21:30:53</td><td>20050527</td><td>20050531</td><td>1</td><td>null</td><td>2023-05-02T15:39:23.585+0000</td><td>dbfs:/FileStore/ds2002-lab06/sourcedata/stream/rental/sakila_fact_rental.json</td></tr><tr><td>3.99</td><td>298</td><td>383</td><td>955</td><td>2006-02-15 21:30:53</td><td>20050527</td><td>20050603</td><td>1</td><td>null</td><td>2023-05-02T15:39:23.585+0000</td><td>dbfs:/FileStore/ds2002-lab06/sourcedata/stream/rental/sakila_fact_rental.json</td></tr><tr><td>5.99</td><td>371</td><td>384</td><td>910</td><td>2006-02-15 21:30:53</td><td>20050527</td><td>20050602</td><td>2</td><td>null</td><td>2023-05-02T15:39:23.585+0000</td><td>dbfs:/FileStore/ds2002-lab06/sourcedata/stream/rental/sakila_fact_rental.json</td></tr><tr><td>0.99</td><td>213</td><td>385</td><td>1565</td><td>2006-02-15 21:30:53</td><td>20050527</td><td>20050530</td><td>2</td><td>null</td><td>2023-05-02T15:39:23.585+0000</td><td>dbfs:/FileStore/ds2002-lab06/sourcedata/stream/rental/sakila_fact_rental.json</td></tr><tr><td>0.99</td><td>109</td><td>386</td><td>1288</td><td>2006-02-15 21:30:53</td><td>20050527</td><td>20050530</td><td>1</td><td>null</td><td>2023-05-02T15:39:23.585+0000</td><td>dbfs:/FileStore/ds2002-lab06/sourcedata/stream/rental/sakila_fact_rental.json</td></tr><tr><td>2.99</td><td>506</td><td>387</td><td>2684</td><td>2006-02-15 21:30:53</td><td>20050527</td><td>20050601</td><td>2</td><td>null</td><td>2023-05-02T15:39:23.585+0000</td><td>dbfs:/FileStore/ds2002-lab06/sourcedata/stream/rental/sakila_fact_rental.json</td></tr><tr><td>2.99</td><td>28</td><td>388</td><td>434</td><td>2006-02-15 21:30:53</td><td>20050527</td><td>20050530</td><td>1</td><td>null</td><td>2023-05-02T15:39:23.585+0000</td><td>dbfs:/FileStore/ds2002-lab06/sourcedata/stream/rental/sakila_fact_rental.json</td></tr><tr><td>8.99</td><td>500</td><td>389</td><td>691</td><td>2006-02-15 21:30:53</td><td>20050527</td><td>20050605</td><td>2</td><td>null</td><td>2023-05-02T15:39:23.585+0000</td><td>dbfs:/FileStore/ds2002-lab06/sourcedata/stream/rental/sakila_fact_rental.json</td></tr><tr><td>4.99</td><td>48</td><td>390</td><td>3759</td><td>2006-02-15 21:30:53</td><td>20050527</td><td>20050602</td><td>2</td><td>null</td><td>2023-05-02T15:39:23.585+0000</td><td>dbfs:/FileStore/ds2002-lab06/sourcedata/stream/rental/sakila_fact_rental.json</td></tr><tr><td>2.99</td><td>197</td><td>391</td><td>2193</td><td>2006-02-15 21:30:53</td><td>20050527</td><td>20050601</td><td>2</td><td>null</td><td>2023-05-02T15:39:23.585+0000</td><td>dbfs:/FileStore/ds2002-lab06/sourcedata/stream/rental/sakila_fact_rental.json</td></tr><tr><td>2.99</td><td>359</td><td>392</td><td>263</td><td>2006-02-15 21:30:53</td><td>20050527</td><td>20050601</td><td>2</td><td>null</td><td>2023-05-02T15:39:23.585+0000</td><td>dbfs:/FileStore/ds2002-lab06/sourcedata/stream/rental/sakila_fact_rental.json</td></tr><tr><td>2.99</td><td>251</td><td>393</td><td>145</td><td>2006-02-15 21:30:53</td><td>20050527</td><td>20050528</td><td>2</td><td>null</td><td>2023-05-02T15:39:23.585+0000</td><td>dbfs:/FileStore/ds2002-lab06/sourcedata/stream/rental/sakila_fact_rental.json</td></tr><tr><td>5.99</td><td>274</td><td>394</td><td>1890</td><td>2006-02-15 21:30:53</td><td>20050527</td><td>20050603</td><td>2</td><td>null</td><td>2023-05-02T15:39:23.585+0000</td><td>dbfs:/FileStore/ds2002-lab06/sourcedata/stream/rental/sakila_fact_rental.json</td></tr><tr><td>0.99</td><td>575</td><td>395</td><td>752</td><td>2006-02-15 21:30:53</td><td>20050527</td><td>20050531</td><td>1</td><td>null</td><td>2023-05-02T15:39:23.585+0000</td><td>dbfs:/FileStore/ds2002-lab06/sourcedata/stream/rental/sakila_fact_rental.json</td></tr><tr><td>0.99</td><td>112</td><td>396</td><td>1020</td><td>2006-02-15 21:30:53</td><td>20050527</td><td>20050529</td><td>1</td><td>null</td><td>2023-05-02T15:39:23.585+0000</td><td>dbfs:/FileStore/ds2002-lab06/sourcedata/stream/rental/sakila_fact_rental.json</td></tr><tr><td>2.99</td><td>544</td><td>397</td><td>4193</td><td>2006-02-15 21:30:53</td><td>20050527</td><td>20050528</td><td>2</td><td>null</td><td>2023-05-02T15:39:23.585+0000</td><td>dbfs:/FileStore/ds2002-lab06/sourcedata/stream/rental/sakila_fact_rental.json</td></tr><tr><td>0.99</td><td>422</td><td>398</td><td>1686</td><td>2006-02-15 21:30:53</td><td>20050527</td><td>20050602</td><td>1</td><td>null</td><td>2023-05-02T15:39:23.585+0000</td><td>dbfs:/FileStore/ds2002-lab06/sourcedata/stream/rental/sakila_fact_rental.json</td></tr><tr><td>4.99</td><td>204</td><td>399</td><td>553</td><td>2006-02-15 21:30:53</td><td>20050527</td><td>20050529</td><td>1</td><td>null</td><td>2023-05-02T15:39:23.585+0000</td><td>dbfs:/FileStore/ds2002-lab06/sourcedata/stream/rental/sakila_fact_rental.json</td></tr><tr><td>2.99</td><td>249</td><td>400</td><td>258</td><td>2006-02-15 21:30:53</td><td>20050527</td><td>20050531</td><td>2</td><td>null</td><td>2023-05-02T15:39:23.585+0000</td><td>dbfs:/FileStore/ds2002-lab06/sourcedata/stream/rental/sakila_fact_rental.json</td></tr><tr><td>2.99</td><td>46</td><td>401</td><td>2179</td><td>2006-02-15 21:30:53</td><td>20050527</td><td>20050529</td><td>2</td><td>null</td><td>2023-05-02T15:39:23.585+0000</td><td>dbfs:/FileStore/ds2002-lab06/sourcedata/stream/rental/sakila_fact_rental.json</td></tr><tr><td>0.99</td><td>354</td><td>402</td><td>461</td><td>2006-02-15 21:30:53</td><td>20050527</td><td>20050530</td><td>2</td><td>null</td><td>2023-05-02T15:39:23.585+0000</td><td>dbfs:/FileStore/ds2002-lab06/sourcedata/stream/rental/sakila_fact_rental.json</td></tr><tr><td>0.99</td><td>424</td><td>403</td><td>3983</td><td>2006-02-15 21:30:53</td><td>20050527</td><td>20050529</td><td>2</td><td>null</td><td>2023-05-02T15:39:23.585+0000</td><td>dbfs:/FileStore/ds2002-lab06/sourcedata/stream/rental/sakila_fact_rental.json</td></tr><tr><td>0.99</td><td>168</td><td>404</td><td>1293</td><td>2006-02-15 21:30:53</td><td>20050527</td><td>20050530</td><td>1</td><td>null</td><td>2023-05-02T15:39:23.585+0000</td><td>dbfs:/FileStore/ds2002-lab06/sourcedata/stream/rental/sakila_fact_rental.json</td></tr><tr><td>6.99</td><td>272</td><td>405</td><td>4090</td><td>2006-02-15 21:30:53</td><td>20050527</td><td>20050605</td><td>2</td><td>null</td><td>2023-05-02T15:39:23.585+0000</td><td>dbfs:/FileStore/ds2002-lab06/sourcedata/stream/rental/sakila_fact_rental.json</td></tr><tr><td>2.99</td><td>381</td><td>406</td><td>2136</td><td>2006-02-15 21:30:53</td><td>20050527</td><td>20050530</td><td>1</td><td>null</td><td>2023-05-02T15:39:23.585+0000</td><td>dbfs:/FileStore/ds2002-lab06/sourcedata/stream/rental/sakila_fact_rental.json</td></tr><tr><td>2.99</td><td>44</td><td>407</td><td>1077</td><td>2006-02-15 21:30:53</td><td>20050527</td><td>20050531</td><td>1</td><td>null</td><td>2023-05-02T15:39:23.585+0000</td><td>dbfs:/FileStore/ds2002-lab06/sourcedata/stream/rental/sakila_fact_rental.json</td></tr><tr><td>0.99</td><td>84</td><td>408</td><td>1438</td><td>2006-02-15 21:30:53</td><td>20050527</td><td>20050528</td><td>1</td><td>null</td><td>2023-05-02T15:39:23.585+0000</td><td>dbfs:/FileStore/ds2002-lab06/sourcedata/stream/rental/sakila_fact_rental.json</td></tr><tr><td>0.99</td><td>220</td><td>409</td><td>3652</td><td>2006-02-15 21:30:53</td><td>20050527</td><td>20050602</td><td>2</td><td>null</td><td>2023-05-02T15:39:23.585+0000</td><td>dbfs:/FileStore/ds2002-lab06/sourcedata/stream/rental/sakila_fact_rental.json</td></tr><tr><td>3.99</td><td>506</td><td>410</td><td>4010</td><td>2006-02-15 21:30:53</td><td>20050527</td><td>20050602</td><td>2</td><td>null</td><td>2023-05-02T15:39:23.585+0000</td><td>dbfs:/FileStore/ds2002-lab06/sourcedata/stream/rental/sakila_fact_rental.json</td></tr><tr><td>4.99</td><td>388</td><td>411</td><td>1434</td><td>2006-02-15 21:30:53</td><td>20050527</td><td>20050603</td><td>1</td><td>null</td><td>2023-05-02T15:39:23.585+0000</td><td>dbfs:/FileStore/ds2002-lab06/sourcedata/stream/rental/sakila_fact_rental.json</td></tr><tr><td>4.99</td><td>375</td><td>412</td><td>1400</td><td>2006-02-15 21:30:53</td><td>20050527</td><td>20050529</td><td>2</td><td>null</td><td>2023-05-02T15:39:23.585+0000</td><td>dbfs:/FileStore/ds2002-lab06/sourcedata/stream/rental/sakila_fact_rental.json</td></tr><tr><td>4.99</td><td>307</td><td>413</td><td>3516</td><td>2006-02-15 21:30:53</td><td>20050527</td><td>20050603</td><td>1</td><td>null</td><td>2023-05-02T15:39:23.585+0000</td><td>dbfs:/FileStore/ds2002-lab06/sourcedata/stream/rental/sakila_fact_rental.json</td></tr><tr><td>0.99</td><td>219</td><td>414</td><td>1019</td><td>2006-02-15 21:30:53</td><td>20050527</td><td>20050531</td><td>2</td><td>null</td><td>2023-05-02T15:39:23.585+0000</td><td>dbfs:/FileStore/ds2002-lab06/sourcedata/stream/rental/sakila_fact_rental.json</td></tr><tr><td>0.99</td><td>304</td><td>415</td><td>3698</td><td>2006-02-15 21:30:53</td><td>20050527</td><td>20050528</td><td>2</td><td>null</td><td>2023-05-02T15:39:23.585+0000</td><td>dbfs:/FileStore/ds2002-lab06/sourcedata/stream/rental/sakila_fact_rental.json</td></tr><tr><td>0.99</td><td>222</td><td>416</td><td>2371</td><td>2006-02-15 21:30:53</td><td>20050527</td><td>20050529</td><td>2</td><td>null</td><td>2023-05-02T15:39:23.585+0000</td><td>dbfs:/FileStore/ds2002-lab06/sourcedata/stream/rental/sakila_fact_rental.json</td></tr><tr><td>4.99</td><td>475</td><td>417</td><td>2253</td><td>2006-02-15 21:30:53</td><td>20050527</td><td>20050529</td><td>2</td><td>null</td><td>2023-05-02T15:39:23.585+0000</td><td>dbfs:/FileStore/ds2002-lab06/sourcedata/stream/rental/sakila_fact_rental.json</td></tr><tr><td>5.99</td><td>151</td><td>418</td><td>3063</td><td>2006-02-15 21:30:53</td><td>20050527</td><td>20050604</td><td>2</td><td>null</td><td>2023-05-02T15:39:23.585+0000</td><td>dbfs:/FileStore/ds2002-lab06/sourcedata/stream/rental/sakila_fact_rental.json</td></tr><tr><td>1.99</td><td>77</td><td>419</td><td>2514</td><td>2006-02-15 21:30:53</td><td>20050527</td><td>20050602</td><td>1</td><td>null</td><td>2023-05-02T15:39:23.585+0000</td><td>dbfs:/FileStore/ds2002-lab06/sourcedata/stream/rental/sakila_fact_rental.json</td></tr><tr><td>6.99</td><td>93</td><td>420</td><td>619</td><td>2006-02-15 21:30:53</td><td>20050527</td><td>20050603</td><td>2</td><td>null</td><td>2023-05-02T15:39:23.585+0000</td><td>dbfs:/FileStore/ds2002-lab06/sourcedata/stream/rental/sakila_fact_rental.json</td></tr><tr><td>8.99</td><td>246</td><td>421</td><td>2985</td><td>2006-02-15 21:30:53</td><td>20050527</td><td>20050604</td><td>2</td><td>null</td><td>2023-05-02T15:39:23.585+0000</td><td>dbfs:/FileStore/ds2002-lab06/sourcedata/stream/rental/sakila_fact_rental.json</td></tr><tr><td>3.99</td><td>150</td><td>422</td><td>1152</td><td>2006-02-15 21:30:53</td><td>20050527</td><td>20050601</td><td>2</td><td>null</td><td>2023-05-02T15:39:23.585+0000</td><td>dbfs:/FileStore/ds2002-lab06/sourcedata/stream/rental/sakila_fact_rental.json</td></tr><tr><td>0.99</td><td>284</td><td>423</td><td>1783</td><td>2006-02-15 21:30:53</td><td>20050527</td><td>20050602</td><td>1</td><td>null</td><td>2023-05-02T15:39:23.585+0000</td><td>dbfs:/FileStore/ds2002-lab06/sourcedata/stream/rental/sakila_fact_rental.json</td></tr><tr><td>6.99</td><td>35</td><td>424</td><td>2815</td><td>2006-02-15 21:30:53</td><td>20050527</td><td>20050605</td><td>1</td><td>null</td><td>2023-05-02T15:39:23.585+0000</td><td>dbfs:/FileStore/ds2002-lab06/sourcedata/stream/rental/sakila_fact_rental.json</td></tr><tr><td>3.99</td><td>182</td><td>425</td><td>1518</td><td>2006-02-15 21:30:53</td><td>20050527</td><td>20050603</td><td>2</td><td>null</td><td>2023-05-02T15:39:23.585+0000</td><td>dbfs:/FileStore/ds2002-lab06/sourcedata/stream/rental/sakila_fact_rental.json</td></tr><tr><td>5.99</td><td>522</td><td>426</td><td>1103</td><td>2006-02-15 21:30:53</td><td>20050527</td><td>20050605</td><td>1</td><td>null</td><td>2023-05-02T15:39:23.585+0000</td><td>dbfs:/FileStore/ds2002-lab06/sourcedata/stream/rental/sakila_fact_rental.json</td></tr><tr><td>6.99</td><td>288</td><td>427</td><td>1677</td><td>2006-02-15 21:30:53</td><td>20050527</td><td>20050605</td><td>2</td><td>null</td><td>2023-05-02T15:39:23.585+0000</td><td>dbfs:/FileStore/ds2002-lab06/sourcedata/stream/rental/sakila_fact_rental.json</td></tr><tr><td>2.99</td><td>161</td><td>428</td><td>3349</td><td>2006-02-15 21:30:53</td><td>20050527</td><td>20050531</td><td>2</td><td>null</td><td>2023-05-02T15:39:23.585+0000</td><td>dbfs:/FileStore/ds2002-lab06/sourcedata/stream/rental/sakila_fact_rental.json</td></tr><tr><td>8.99</td><td>498</td><td>429</td><td>129</td><td>2006-02-15 21:30:53</td><td>20050527</td><td>20050605</td><td>2</td><td>null</td><td>2023-05-02T15:39:23.585+0000</td><td>dbfs:/FileStore/ds2002-lab06/sourcedata/stream/rental/sakila_fact_rental.json</td></tr><tr><td>4.99</td><td>190</td><td>430</td><td>1920</td><td>2006-02-15 21:30:53</td><td>20050527</td><td>20050605</td><td>1</td><td>null</td><td>2023-05-02T15:39:23.585+0000</td><td>dbfs:/FileStore/ds2002-lab06/sourcedata/stream/rental/sakila_fact_rental.json</td></tr><tr><td>8.99</td><td>334</td><td>431</td><td>4507</td><td>2006-02-15 21:30:53</td><td>20050527</td><td>20050605</td><td>1</td><td>null</td><td>2023-05-02T15:39:23.585+0000</td><td>dbfs:/FileStore/ds2002-lab06/sourcedata/stream/rental/sakila_fact_rental.json</td></tr><tr><td>4.99</td><td>46</td><td>432</td><td>1119</td><td>2006-02-15 21:30:53</td><td>20050527</td><td>20050529</td><td>1</td><td>null</td><td>2023-05-02T15:39:23.585+0000</td><td>dbfs:/FileStore/ds2002-lab06/sourcedata/stream/rental/sakila_fact_rental.json</td></tr><tr><td>0.99</td><td>574</td><td>433</td><td>4364</td><td>2006-02-15 21:30:53</td><td>20050527</td><td>20050530</td><td>2</td><td>null</td><td>2023-05-02T15:39:23.585+0000</td><td>dbfs:/FileStore/ds2002-lab06/sourcedata/stream/rental/sakila_fact_rental.json</td></tr><tr><td>5.99</td><td>246</td><td>434</td><td>3360</td><td>2006-02-15 21:30:53</td><td>20050527</td><td>20050604</td><td>1</td><td>null</td><td>2023-05-02T15:39:23.585+0000</td><td>dbfs:/FileStore/ds2002-lab06/sourcedata/stream/rental/sakila_fact_rental.json</td></tr><tr><td>1.99</td><td>3</td><td>435</td><td>3328</td><td>2006-02-15 21:30:53</td><td>20050527</td><td>20050602</td><td>2</td><td>null</td><td>2023-05-02T15:39:23.585+0000</td><td>dbfs:/FileStore/ds2002-lab06/sourcedata/stream/rental/sakila_fact_rental.json</td></tr><tr><td>4.99</td><td>267</td><td>436</td><td>4317</td><td>2006-02-15 21:30:53</td><td>20050527</td><td>20050530</td><td>2</td><td>null</td><td>2023-05-02T15:39:23.585+0000</td><td>dbfs:/FileStore/ds2002-lab06/sourcedata/stream/rental/sakila_fact_rental.json</td></tr><tr><td>5.99</td><td>525</td><td>437</td><td>1800</td><td>2006-02-15 21:30:53</td><td>20050527</td><td>20050605</td><td>2</td><td>null</td><td>2023-05-02T15:39:23.585+0000</td><td>dbfs:/FileStore/ds2002-lab06/sourcedata/stream/rental/sakila_fact_rental.json</td></tr><tr><td>6.99</td><td>249</td><td>438</td><td>4260</td><td>2006-02-15 21:30:53</td><td>20050527</td><td>20050605</td><td>2</td><td>null</td><td>2023-05-02T15:39:23.585+0000</td><td>dbfs:/FileStore/ds2002-lab06/sourcedata/stream/rental/sakila_fact_rental.json</td></tr><tr><td>2.99</td><td>319</td><td>439</td><td>354</td><td>2006-02-15 21:30:53</td><td>20050527</td><td>20050602</td><td>2</td><td>null</td><td>2023-05-02T15:39:23.585+0000</td><td>dbfs:/FileStore/ds2002-lab06/sourcedata/stream/rental/sakila_fact_rental.json</td></tr><tr><td>4.99</td><td>314</td><td>440</td><td>4452</td><td>2006-02-15 21:30:53</td><td>20050527</td><td>20050529</td><td>1</td><td>null</td><td>2023-05-02T15:39:23.585+0000</td><td>dbfs:/FileStore/ds2002-lab06/sourcedata/stream/rental/sakila_fact_rental.json</td></tr><tr><td>4.99</td><td>54</td><td>441</td><td>1578</td><td>2006-02-15 21:30:53</td><td>20050527</td><td>20050530</td><td>1</td><td>null</td><td>2023-05-02T15:39:23.585+0000</td><td>dbfs:/FileStore/ds2002-lab06/sourcedata/stream/rental/sakila_fact_rental.json</td></tr><tr><td>2.99</td><td>403</td><td>442</td><td>1457</td><td>2006-02-15 21:30:53</td><td>20050527</td><td>20050530</td><td>2</td><td>null</td><td>2023-05-02T15:39:23.585+0000</td><td>dbfs:/FileStore/ds2002-lab06/sourcedata/stream/rental/sakila_fact_rental.json</td></tr><tr><td>8.99</td><td>547</td><td>443</td><td>2021</td><td>2006-02-15 21:30:53</td><td>20050527</td><td>20050604</td><td>1</td><td>null</td><td>2023-05-02T15:39:23.585+0000</td><td>dbfs:/FileStore/ds2002-lab06/sourcedata/stream/rental/sakila_fact_rental.json</td></tr><tr><td>2.99</td><td>239</td><td>444</td><td>723</td><td>2006-02-15 21:30:53</td><td>20050527</td><td>20050601</td><td>1</td><td>null</td><td>2023-05-02T15:39:23.585+0000</td><td>dbfs:/FileStore/ds2002-lab06/sourcedata/stream/rental/sakila_fact_rental.json</td></tr><tr><td>0.99</td><td>293</td><td>445</td><td>1757</td><td>2006-02-15 21:30:53</td><td>20050527</td><td>20050530</td><td>2</td><td>null</td><td>2023-05-02T15:39:23.585+0000</td><td>dbfs:/FileStore/ds2002-lab06/sourcedata/stream/rental/sakila_fact_rental.json</td></tr><tr><td>4.99</td><td>401</td><td>446</td><td>1955</td><td>2006-02-15 21:30:53</td><td>20050527</td><td>20050603</td><td>2</td><td>null</td><td>2023-05-02T15:39:23.585+0000</td><td>dbfs:/FileStore/ds2002-lab06/sourcedata/stream/rental/sakila_fact_rental.json</td></tr><tr><td>2.99</td><td>133</td><td>447</td><td>3890</td><td>2006-02-15 21:30:53</td><td>20050527</td><td>20050605</td><td>1</td><td>null</td><td>2023-05-02T15:39:23.585+0000</td><td>dbfs:/FileStore/ds2002-lab06/sourcedata/stream/rental/sakila_fact_rental.json</td></tr><tr><td>3.99</td><td>247</td><td>448</td><td>2671</td><td>2006-02-15 21:30:53</td><td>20050527</td><td>20050603</td><td>2</td><td>null</td><td>2023-05-02T15:39:23.585+0000</td><td>dbfs:/FileStore/ds2002-lab06/sourcedata/stream/rental/sakila_fact_rental.json</td></tr><tr><td>3.99</td><td>172</td><td>449</td><td>2469</td><td>2006-02-15 21:30:53</td><td>20050527</td><td>20050604</td><td>2</td><td>null</td><td>2023-05-02T15:39:23.585+0000</td><td>dbfs:/FileStore/ds2002-lab06/sourcedata/stream/rental/sakila_fact_rental.json</td></tr><tr><td>6.99</td><td>247</td><td>450</td><td>1343</td><td>2006-02-15 21:30:53</td><td>20050527</td><td>20050605</td><td>1</td><td>null</td><td>2023-05-02T15:39:23.585+0000</td><td>dbfs:/FileStore/ds2002-lab06/sourcedata/stream/rental/sakila_fact_rental.json</td></tr><tr><td>4.99</td><td>87</td><td>451</td><td>205</td><td>2006-02-15 21:30:53</td><td>20050527</td><td>20050529</td><td>2</td><td>null</td><td>2023-05-02T15:39:23.585+0000</td><td>dbfs:/FileStore/ds2002-lab06/sourcedata/stream/rental/sakila_fact_rental.json</td></tr><tr><td>0.99</td><td>127</td><td>452</td><td>2993</td><td>2006-02-15 21:30:53</td><td>20050527</td><td>20050530</td><td>2</td><td>null</td><td>2023-05-02T15:39:23.585+0000</td><td>dbfs:/FileStore/ds2002-lab06/sourcedata/stream/rental/sakila_fact_rental.json</td></tr><tr><td>2.99</td><td>529</td><td>453</td><td>4425</td><td>2006-02-15 21:30:53</td><td>20050527</td><td>20050529</td><td>1</td><td>null</td><td>2023-05-02T15:39:23.585+0000</td><td>dbfs:/FileStore/ds2002-lab06/sourcedata/stream/rental/sakila_fact_rental.json</td></tr><tr><td>4.99</td><td>575</td><td>454</td><td>3499</td><td>2006-02-15 21:30:53</td><td>20050527</td><td>20050530</td><td>1</td><td>null</td><td>2023-05-02T15:39:23.585+0000</td><td>dbfs:/FileStore/ds2002-lab06/sourcedata/stream/rental/sakila_fact_rental.json</td></tr><tr><td>3.99</td><td>343</td><td>455</td><td>3344</td><td>2006-02-15 21:30:53</td><td>20050527</td><td>20050604</td><td>2</td><td>null</td><td>2023-05-02T15:39:23.585+0000</td><td>dbfs:/FileStore/ds2002-lab06/sourcedata/stream/rental/sakila_fact_rental.json</td></tr><tr><td>4.99</td><td>92</td><td>456</td><td>1699</td><td>2006-02-15 21:30:53</td><td>20050527</td><td>20050602</td><td>1</td><td>null</td><td>2023-05-02T15:39:23.585+0000</td><td>dbfs:/FileStore/ds2002-lab06/sourcedata/stream/rental/sakila_fact_rental.json</td></tr><tr><td>0.99</td><td>300</td><td>457</td><td>2368</td><td>2006-02-15 21:30:53</td><td>20050527</td><td>20050602</td><td>2</td><td>null</td><td>2023-05-02T15:39:23.585+0000</td><td>dbfs:/FileStore/ds2002-lab06/sourcedata/stream/rental/sakila_fact_rental.json</td></tr><tr><td>6.99</td><td>565</td><td>458</td><td>3350</td><td>2006-02-15 21:30:53</td><td>20050527</td><td>20050606</td><td>1</td><td>null</td><td>2023-05-02T15:39:23.585+0000</td><td>dbfs:/FileStore/ds2002-lab06/sourcedata/stream/rental/sakila_fact_rental.json</td></tr><tr><td>0.99</td><td>468</td><td>459</td><td>597</td><td>2006-02-15 21:30:53</td><td>20050527</td><td>20050529</td><td>1</td><td>null</td><td>2023-05-02T15:39:23.585+0000</td><td>dbfs:/FileStore/ds2002-lab06/sourcedata/stream/rental/sakila_fact_rental.json</td></tr><tr><td>2.99</td><td>240</td><td>460</td><td>4238</td><td>2006-02-15 21:30:53</td><td>20050527</td><td>20050528</td><td>1</td><td>null</td><td>2023-05-02T15:39:23.585+0000</td><td>dbfs:/FileStore/ds2002-lab06/sourcedata/stream/rental/sakila_fact_rental.json</td></tr><tr><td>2.99</td><td>447</td><td>461</td><td>2077</td><td>2006-02-15 21:30:53</td><td>20050527</td><td>20050601</td><td>1</td><td>null</td><td>2023-05-02T15:39:23.585+0000</td><td>dbfs:/FileStore/ds2002-lab06/sourcedata/stream/rental/sakila_fact_rental.json</td></tr><tr><td>5.99</td><td>364</td><td>462</td><td>2314</td><td>2006-02-15 21:30:53</td><td>20050527</td><td>20050603</td><td>2</td><td>null</td><td>2023-05-02T15:39:23.585+0000</td><td>dbfs:/FileStore/ds2002-lab06/sourcedata/stream/rental/sakila_fact_rental.json</td></tr><tr><td>3.99</td><td>21</td><td>463</td><td>826</td><td>2006-02-15 21:30:53</td><td>20050527</td><td>20050604</td><td>1</td><td>null</td><td>2023-05-02T15:39:23.585+0000</td><td>dbfs:/FileStore/ds2002-lab06/sourcedata/stream/rental/sakila_fact_rental.json</td></tr><tr><td>0.99</td><td>193</td><td>464</td><td>1313</td><td>2006-02-15 21:30:53</td><td>20050527</td><td>20050530</td><td>2</td><td>null</td><td>2023-05-02T15:39:23.585+0000</td><td>dbfs:/FileStore/ds2002-lab06/sourcedata/stream/rental/sakila_fact_rental.json</td></tr><tr><td>3.99</td><td>261</td><td>465</td><td>20</td><td>2006-02-15 21:30:53</td><td>20050527</td><td>20050602</td><td>1</td><td>null</td><td>2023-05-02T15:39:23.585+0000</td><td>dbfs:/FileStore/ds2002-lab06/sourcedata/stream/rental/sakila_fact_rental.json</td></tr><tr><td>0.99</td><td>442</td><td>466</td><td>1786</td><td>2006-02-15 21:30:53</td><td>20050527</td><td>20050529</td><td>1</td><td>null</td><td>2023-05-02T15:39:23.585+0000</td><td>dbfs:/FileStore/ds2002-lab06/sourcedata/stream/rental/sakila_fact_rental.json</td></tr><tr><td>4.99</td><td>557</td><td>467</td><td>339</td><td>2006-02-15 21:30:53</td><td>20050527</td><td>20050601</td><td>1</td><td>null</td><td>2023-05-02T15:39:23.585+0000</td><td>dbfs:/FileStore/ds2002-lab06/sourcedata/stream/rental/sakila_fact_rental.json</td></tr><tr><td>9.99</td><td>101</td><td>468</td><td>2656</td><td>2006-02-15 21:30:53</td><td>20050527</td><td>20050604</td><td>2</td><td>null</td><td>2023-05-02T15:39:23.585+0000</td><td>dbfs:/FileStore/ds2002-lab06/sourcedata/stream/rental/sakila_fact_rental.json</td></tr><tr><td>5.99</td><td>154</td><td>469</td><td>4463</td><td>2006-02-15 21:30:53</td><td>20050527</td><td>20050605</td><td>1</td><td>null</td><td>2023-05-02T15:39:23.585+0000</td><td>dbfs:/FileStore/ds2002-lab06/sourcedata/stream/rental/sakila_fact_rental.json</td></tr><tr><td>4.99</td><td>504</td><td>470</td><td>1613</td><td>2006-02-15 21:30:53</td><td>20050527</td><td>20050604</td><td>1</td><td>null</td><td>2023-05-02T15:39:23.585+0000</td><td>dbfs:/FileStore/ds2002-lab06/sourcedata/stream/rental/sakila_fact_rental.json</td></tr><tr><td>0.99</td><td>209</td><td>471</td><td>2872</td><td>2006-02-15 21:30:53</td><td>20050527</td><td>20050531</td><td>2</td><td>null</td><td>2023-05-02T15:39:23.585+0000</td><td>dbfs:/FileStore/ds2002-lab06/sourcedata/stream/rental/sakila_fact_rental.json</td></tr><tr><td>0.99</td><td>528</td><td>472</td><td>1338</td><td>2006-02-15 21:30:53</td><td>20050527</td><td>20050529</td><td>1</td><td>null</td><td>2023-05-02T15:39:23.585+0000</td><td>dbfs:/FileStore/ds2002-lab06/sourcedata/stream/rental/sakila_fact_rental.json</td></tr><tr><td>7.99</td><td>105</td><td>473</td><td>802</td><td>2006-02-15 21:30:53</td><td>20050527</td><td>20050605</td><td>1</td><td>null</td><td>2023-05-02T15:39:23.585+0000</td><td>dbfs:/FileStore/ds2002-lab06/sourcedata/stream/rental/sakila_fact_rental.json</td></tr><tr><td>2.99</td><td>274</td><td>474</td><td>1474</td><td>2006-02-15 21:30:53</td><td>20050527</td><td>20050531</td><td>1</td><td>null</td><td>2023-05-02T15:39:23.585+0000</td><td>dbfs:/FileStore/ds2002-lab06/sourcedata/stream/rental/sakila_fact_rental.json</td></tr><tr><td>2.99</td><td>159</td><td>475</td><td>2520</td><td>2006-02-15 21:30:53</td><td>20050527</td><td>20050528</td><td>1</td><td>null</td><td>2023-05-02T15:39:23.585+0000</td><td>dbfs:/FileStore/ds2002-lab06/sourcedata/stream/rental/sakila_fact_rental.json</td></tr><tr><td>1.99</td><td>543</td><td>476</td><td>2451</td><td>2006-02-15 21:30:53</td><td>20050527</td><td>20050603</td><td>1</td><td>null</td><td>2023-05-02T15:39:23.585+0000</td><td>dbfs:/FileStore/ds2002-lab06/sourcedata/stream/rental/sakila_fact_rental.json</td></tr><tr><td>3.99</td><td>161</td><td>477</td><td>2437</td><td>2006-02-15 21:30:53</td><td>20050527</td><td>20050602</td><td>2</td><td>null</td><td>2023-05-02T15:39:23.585+0000</td><td>dbfs:/FileStore/ds2002-lab06/sourcedata/stream/rental/sakila_fact_rental.json</td></tr><tr><td>4.99</td><td>557</td><td>478</td><td>424</td><td>2006-02-15 21:30:53</td><td>20050527</td><td>20050531</td><td>2</td><td>null</td><td>2023-05-02T15:39:23.585+0000</td><td>dbfs:/FileStore/ds2002-lab06/sourcedata/stream/rental/sakila_fact_rental.json</td></tr><tr><td>6.99</td><td>231</td><td>479</td><td>2060</td><td>2006-02-15 21:30:53</td><td>20050527</td><td>20050605</td><td>2</td><td>null</td><td>2023-05-02T15:39:23.585+0000</td><td>dbfs:/FileStore/ds2002-lab06/sourcedata/stream/rental/sakila_fact_rental.json</td></tr><tr><td>3.99</td><td>220</td><td>480</td><td>2108</td><td>2006-02-15 21:30:53</td><td>20050527</td><td>20050604</td><td>2</td><td>null</td><td>2023-05-02T15:39:23.585+0000</td><td>dbfs:/FileStore/ds2002-lab06/sourcedata/stream/rental/sakila_fact_rental.json</td></tr><tr><td>2.99</td><td>445</td><td>481</td><td>72</td><td>2006-02-15 21:30:53</td><td>20050527</td><td>20050530</td><td>2</td><td>null</td><td>2023-05-02T15:39:23.585+0000</td><td>dbfs:/FileStore/ds2002-lab06/sourcedata/stream/rental/sakila_fact_rental.json</td></tr><tr><td>6.99</td><td>546</td><td>482</td><td>4178</td><td>2006-02-15 21:30:53</td><td>20050527</td><td>20050601</td><td>2</td><td>null</td><td>2023-05-02T15:39:23.585+0000</td><td>dbfs:/FileStore/ds2002-lab06/sourcedata/stream/rental/sakila_fact_rental.json</td></tr><tr><td>4.99</td><td>32</td><td>483</td><td>1510</td><td>2006-02-15 21:30:53</td><td>20050527</td><td>20050528</td><td>1</td><td>null</td><td>2023-05-02T15:39:23.585+0000</td><td>dbfs:/FileStore/ds2002-lab06/sourcedata/stream/rental/sakila_fact_rental.json</td></tr><tr><td>2.99</td><td>491</td><td>484</td><td>3115</td><td>2006-02-15 21:30:53</td><td>20050527</td><td>20050529</td><td>2</td><td>null</td><td>2023-05-02T15:39:23.585+0000</td><td>dbfs:/FileStore/ds2002-lab06/sourcedata/stream/rental/sakila_fact_rental.json</td></tr><tr><td>2.99</td><td>105</td><td>485</td><td>2392</td><td>2006-02-15 21:30:53</td><td>20050527</td><td>20050528</td><td>2</td><td>null</td><td>2023-05-02T15:39:23.585+0000</td><td>dbfs:/FileStore/ds2002-lab06/sourcedata/stream/rental/sakila_fact_rental.json</td></tr><tr><td>4.99</td><td>398</td><td>486</td><td>1822</td><td>2006-02-15 21:30:53</td><td>20050527</td><td>20050528</td><td>1</td><td>null</td><td>2023-05-02T15:39:23.585+0000</td><td>dbfs:/FileStore/ds2002-lab06/sourcedata/stream/rental/sakila_fact_rental.json</td></tr><tr><td>4.99</td><td>569</td><td>487</td><td>3774</td><td>2006-02-15 21:30:53</td><td>20050528</td><td>20050528</td><td>2</td><td>null</td><td>2023-05-02T15:39:23.585+0000</td><td>dbfs:/FileStore/ds2002-lab06/sourcedata/stream/rental/sakila_fact_rental.json</td></tr><tr><td>4.99</td><td>168</td><td>488</td><td>393</td><td>2006-02-15 21:30:53</td><td>20050528</td><td>20050603</td><td>2</td><td>null</td><td>2023-05-02T15:39:23.585+0000</td><td>dbfs:/FileStore/ds2002-lab06/sourcedata/stream/rental/sakila_fact_rental.json</td></tr><tr><td>4.99</td><td>476</td><td>489</td><td>1940</td><td>2006-02-15 21:30:53</td><td>20050528</td><td>20050531</td><td>2</td><td>null</td><td>2023-05-02T15:39:23.585+0000</td><td>dbfs:/FileStore/ds2002-lab06/sourcedata/stream/rental/sakila_fact_rental.json</td></tr><tr><td>4.99</td><td>95</td><td>490</td><td>3524</td><td>2006-02-15 21:30:53</td><td>20050528</td><td>20050530</td><td>2</td><td>null</td><td>2023-05-02T15:39:23.585+0000</td><td>dbfs:/FileStore/ds2002-lab06/sourcedata/stream/rental/sakila_fact_rental.json</td></tr><tr><td>2.99</td><td>196</td><td>491</td><td>1326</td><td>2006-02-15 21:30:53</td><td>20050528</td><td>20050529</td><td>2</td><td>null</td><td>2023-05-02T15:39:23.585+0000</td><td>dbfs:/FileStore/ds2002-lab06/sourcedata/stream/rental/sakila_fact_rental.json</td></tr><tr><td>4.99</td><td>228</td><td>492</td><td>1999</td><td>2006-02-15 21:30:53</td><td>20050528</td><td>20050528</td><td>1</td><td>null</td><td>2023-05-02T15:39:23.585+0000</td><td>dbfs:/FileStore/ds2002-lab06/sourcedata/stream/rental/sakila_fact_rental.json</td></tr><tr><td>0.99</td><td>501</td><td>493</td><td>184</td><td>2006-02-15 21:30:53</td><td>20050528</td><td>20050530</td><td>1</td><td>null</td><td>2023-05-02T15:39:23.585+0000</td><td>dbfs:/FileStore/ds2002-lab06/sourcedata/stream/rental/sakila_fact_rental.json</td></tr><tr><td>4.99</td><td>64</td><td>494</td><td>1850</td><td>2006-02-15 21:30:53</td><td>20050528</td><td>20050602</td><td>1</td><td>null</td><td>2023-05-02T15:39:23.585+0000</td><td>dbfs:/FileStore/ds2002-lab06/sourcedata/stream/rental/sakila_fact_rental.json</td></tr><tr><td>4.99</td><td>526</td><td>495</td><td>1007</td><td>2006-02-15 21:30:53</td><td>20050528</td><td>20050529</td><td>1</td><td>null</td><td>2023-05-02T15:39:23.585+0000</td><td>dbfs:/FileStore/ds2002-lab06/sourcedata/stream/rental/sakila_fact_rental.json</td></tr><tr><td>2.99</td><td>56</td><td>496</td><td>1785</td><td>2006-02-15 21:30:53</td><td>20050528</td><td>20050604</td><td>1</td><td>null</td><td>2023-05-02T15:39:23.585+0000</td><td>dbfs:/FileStore/ds2002-lab06/sourcedata/stream/rental/sakila_fact_rental.json</td></tr><tr><td>6.99</td><td>20</td><td>497</td><td>2636</td><td>2006-02-15 21:30:53</td><td>20050528</td><td>20050603</td><td>2</td><td>null</td><td>2023-05-02T15:39:23.585+0000</td><td>dbfs:/FileStore/ds2002-lab06/sourcedata/stream/rental/sakila_fact_rental.json</td></tr><tr><td>0.99</td><td>287</td><td>498</td><td>458</td><td>2006-02-15 21:30:53</td><td>20050528</td><td>20050530</td><td>2</td><td>null</td><td>2023-05-02T15:39:23.585+0000</td><td>dbfs:/FileStore/ds2002-lab06/sourcedata/stream/rental/sakila_fact_rental.json</td></tr><tr><td>7.99</td><td>199</td><td>499</td><td>2381</td><td>2006-02-15 21:30:53</td><td>20050528</td><td>20050605</td><td>2</td><td>null</td><td>2023-05-02T15:39:23.585+0000</td><td>dbfs:/FileStore/ds2002-lab06/sourcedata/stream/rental/sakila_fact_rental.json</td></tr><tr><td>0.99</td><td>145</td><td>500</td><td>4500</td><td>2006-02-15 21:30:53</td><td>20050528</td><td>20050531</td><td>1</td><td>null</td><td>2023-05-02T15:39:23.585+0000</td><td>dbfs:/FileStore/ds2002-lab06/sourcedata/stream/rental/sakila_fact_rental.json</td></tr><tr><td>4.99</td><td>162</td><td>501</td><td>601</td><td>2006-02-15 21:30:53</td><td>20050528</td><td>20050530</td><td>2</td><td>null</td><td>2023-05-02T15:39:23.585+0000</td><td>dbfs:/FileStore/ds2002-lab06/sourcedata/stream/rental/sakila_fact_rental.json</td></tr><tr><td>0.99</td><td>179</td><td>502</td><td>3131</td><td>2006-02-15 21:30:53</td><td>20050528</td><td>20050531</td><td>2</td><td>null</td><td>2023-05-02T15:39:23.585+0000</td><td>dbfs:/FileStore/ds2002-lab06/sourcedata/stream/rental/sakila_fact_rental.json</td></tr><tr><td>4.99</td><td>288</td><td>503</td><td>3005</td><td>2006-02-15 21:30:53</td><td>20050528</td><td>20050528</td><td>2</td><td>null</td><td>2023-05-02T15:39:23.585+0000</td><td>dbfs:/FileStore/ds2002-lab06/sourcedata/stream/rental/sakila_fact_rental.json</td></tr><tr><td>0.99</td><td>170</td><td>504</td><td>2086</td><td>2006-02-15 21:30:53</td><td>20050528</td><td>20050530</td><td>1</td><td>null</td><td>2023-05-02T15:39:23.585+0000</td><td>dbfs:/FileStore/ds2002-lab06/sourcedata/stream/rental/sakila_fact_rental.json</td></tr><tr><td>2.99</td><td>111</td><td>505</td><td>71</td><td>2006-02-15 21:30:53</td><td>20050528</td><td>20050529</td><td>1</td><td>null</td><td>2023-05-02T15:39:23.585+0000</td><td>dbfs:/FileStore/ds2002-lab06/sourcedata/stream/rental/sakila_fact_rental.json</td></tr><tr><td>7.99</td><td>469</td><td>506</td><td>667</td><td>2006-02-15 21:30:53</td><td>20050528</td><td>20050605</td><td>1</td><td>null</td><td>2023-05-02T15:39:23.585+0000</td><td>dbfs:/FileStore/ds2002-lab06/sourcedata/stream/rental/sakila_fact_rental.json</td></tr><tr><td>0.99</td><td>421</td><td>507</td><td>3621</td><td>2006-02-15 21:30:53</td><td>20050528</td><td>20050602</td><td>2</td><td>null</td><td>2023-05-02T15:39:23.585+0000</td><td>dbfs:/FileStore/ds2002-lab06/sourcedata/stream/rental/sakila_fact_rental.json</td></tr><tr><td>5.99</td><td>434</td><td>508</td><td>4179</td><td>2006-02-15 21:30:53</td><td>20050528</td><td>20050605</td><td>1</td><td>null</td><td>2023-05-02T15:39:23.585+0000</td><td>dbfs:/FileStore/ds2002-lab06/sourcedata/stream/rental/sakila_fact_rental.json</td></tr><tr><td>0.99</td><td>147</td><td>509</td><td>3416</td><td>2006-02-15 21:30:53</td><td>20050528</td><td>20050531</td><td>1</td><td>null</td><td>2023-05-02T15:39:23.585+0000</td><td>dbfs:/FileStore/ds2002-lab06/sourcedata/stream/rental/sakila_fact_rental.json</td></tr><tr><td>0.99</td><td>113</td><td>510</td><td>4338</td><td>2006-02-15 21:30:53</td><td>20050528</td><td>20050530</td><td>2</td><td>null</td><td>2023-05-02T15:39:23.585+0000</td><td>dbfs:/FileStore/ds2002-lab06/sourcedata/stream/rental/sakila_fact_rental.json</td></tr><tr><td>5.99</td><td>296</td><td>511</td><td>3827</td><td>2006-02-15 21:30:53</td><td>20050528</td><td>20050603</td><td>1</td><td>null</td><td>2023-05-02T15:39:23.585+0000</td><td>dbfs:/FileStore/ds2002-lab06/sourcedata/stream/rental/sakila_fact_rental.json</td></tr><tr><td>8.99</td><td>231</td><td>512</td><td>2176</td><td>2006-02-15 21:30:53</td><td>20050528</td><td>20050605</td><td>2</td><td>null</td><td>2023-05-02T15:39:23.585+0000</td><td>dbfs:/FileStore/ds2002-lab06/sourcedata/stream/rental/sakila_fact_rental.json</td></tr><tr><td>2.99</td><td>489</td><td>513</td><td>225</td><td>2006-02-15 21:30:53</td><td>20050528</td><td>20050529</td><td>1</td><td>null</td><td>2023-05-02T15:39:23.585+0000</td><td>dbfs:/FileStore/ds2002-lab06/sourcedata/stream/rental/sakila_fact_rental.json</td></tr><tr><td>8.99</td><td>597</td><td>514</td><td>1697</td><td>2006-02-15 21:30:53</td><td>20050528</td><td>20050605</td><td>2</td><td>null</td><td>2023-05-02T15:39:23.585+0000</td><td>dbfs:/FileStore/ds2002-lab06/sourcedata/stream/rental/sakila_fact_rental.json</td></tr><tr><td>7.99</td><td>110</td><td>515</td><td>3369</td><td>2006-02-15 21:30:53</td><td>20050528</td><td>20050604</td><td>2</td><td>null</td><td>2023-05-02T15:39:23.585+0000</td><td>dbfs:/FileStore/ds2002-lab06/sourcedata/stream/rental/sakila_fact_rental.json</td></tr><tr><td>1.99</td><td>400</td><td>516</td><td>4357</td><td>2006-02-15 21:30:53</td><td>20050528</td><td>20050604</td><td>1</td><td>null</td><td>2023-05-02T15:39:23.585+0000</td><td>dbfs:/FileStore/ds2002-lab06/sourcedata/stream/rental/sakila_fact_rental.json</td></tr><tr><td>0.99</td><td>403</td><td>517</td><td>234</td><td>2006-02-15 21:30:53</td><td>20050528</td><td>20050529</td><td>1</td><td>null</td><td>2023-05-02T15:39:23.585+0000</td><td>dbfs:/FileStore/ds2002-lab06/sourcedata/stream/rental/sakila_fact_rental.json</td></tr><tr><td>0.99</td><td>480</td><td>518</td><td>4087</td><td>2006-02-15 21:30:53</td><td>20050528</td><td>20050530</td><td>1</td><td>null</td><td>2023-05-02T15:39:23.585+0000</td><td>dbfs:/FileStore/ds2002-lab06/sourcedata/stream/rental/sakila_fact_rental.json</td></tr><tr><td>7.99</td><td>245</td><td>519</td><td>3564</td><td>2006-02-15 21:30:53</td><td>20050528</td><td>20050603</td><td>1</td><td>null</td><td>2023-05-02T15:39:23.585+0000</td><td>dbfs:/FileStore/ds2002-lab06/sourcedata/stream/rental/sakila_fact_rental.json</td></tr><tr><td>5.99</td><td>161</td><td>520</td><td>3845</td><td>2006-02-15 21:30:53</td><td>20050528</td><td>20050604</td><td>1</td><td>null</td><td>2023-05-02T15:39:23.585+0000</td><td>dbfs:/FileStore/ds2002-lab06/sourcedata/stream/rental/sakila_fact_rental.json</td></tr><tr><td>0.99</td><td>374</td><td>521</td><td>2397</td><td>2006-02-15 21:30:53</td><td>20050528</td><td>20050528</td><td>1</td><td>null</td><td>2023-05-02T15:39:23.585+0000</td><td>dbfs:/FileStore/ds2002-lab06/sourcedata/stream/rental/sakila_fact_rental.json</td></tr><tr><td>2.99</td><td>382</td><td>522</td><td>3195</td><td>2006-02-15 21:30:53</td><td>20050528</td><td>20050531</td><td>1</td><td>null</td><td>2023-05-02T15:39:23.585+0000</td><td>dbfs:/FileStore/ds2002-lab06/sourcedata/stream/rental/sakila_fact_rental.json</td></tr><tr><td>2.99</td><td>138</td><td>523</td><td>1905</td><td>2006-02-15 21:30:53</td><td>20050528</td><td>20050531</td><td>2</td><td>null</td><td>2023-05-02T15:39:23.585+0000</td><td>dbfs:/FileStore/ds2002-lab06/sourcedata/stream/rental/sakila_fact_rental.json</td></tr><tr><td>2.99</td><td>223</td><td>524</td><td>1962</td><td>2006-02-15 21:30:53</td><td>20050528</td><td>20050531</td><td>1</td><td>null</td><td>2023-05-02T15:39:23.585+0000</td><td>dbfs:/FileStore/ds2002-lab06/sourcedata/stream/rental/sakila_fact_rental.json</td></tr><tr><td>5.99</td><td>14</td><td>525</td><td>1817</td><td>2006-02-15 21:30:53</td><td>20050528</td><td>20050606</td><td>1</td><td>null</td><td>2023-05-02T15:39:23.585+0000</td><td>dbfs:/FileStore/ds2002-lab06/sourcedata/stream/rental/sakila_fact_rental.json</td></tr><tr><td>2.99</td><td>408</td><td>526</td><td>1387</td><td>2006-02-15 21:30:53</td><td>20050528</td><td>20050530</td><td>1</td><td>null</td><td>2023-05-02T15:39:23.585+0000</td><td>dbfs:/FileStore/ds2002-lab06/sourcedata/stream/rental/sakila_fact_rental.json</td></tr><tr><td>3.99</td><td>169</td><td>527</td><td>266</td><td>2006-02-15 21:30:53</td><td>20050528</td><td>20050602</td><td>1</td><td>null</td><td>2023-05-02T15:39:23.585+0000</td><td>dbfs:/FileStore/ds2002-lab06/sourcedata/stream/rental/sakila_fact_rental.json</td></tr><tr><td>3.99</td><td>359</td><td>528</td><td>1655</td><td>2006-02-15 21:30:53</td><td>20050528</td><td>20050603</td><td>2</td><td>null</td><td>2023-05-02T15:39:23.585+0000</td><td>dbfs:/FileStore/ds2002-lab06/sourcedata/stream/rental/sakila_fact_rental.json</td></tr><tr><td>4.99</td><td>469</td><td>529</td><td>2624</td><td>2006-02-15 21:30:53</td><td>20050528</td><td>20050530</td><td>1</td><td>null</td><td>2023-05-02T15:39:23.585+0000</td><td>dbfs:/FileStore/ds2002-lab06/sourcedata/stream/rental/sakila_fact_rental.json</td></tr><tr><td>0.99</td><td>312</td><td>530</td><td>3332</td><td>2006-02-15 21:30:53</td><td>20050528</td><td>20050601</td><td>2</td><td>null</td><td>2023-05-02T15:39:23.585+0000</td><td>dbfs:/FileStore/ds2002-lab06/sourcedata/stream/rental/sakila_fact_rental.json</td></tr><tr><td>0.99</td><td>589</td><td>531</td><td>1113</td><td>2006-02-15 21:30:53</td><td>20050528</td><td>20050529</td><td>2</td><td>null</td><td>2023-05-02T15:39:23.585+0000</td><td>dbfs:/FileStore/ds2002-lab06/sourcedata/stream/rental/sakila_fact_rental.json</td></tr><tr><td>0.99</td><td>120</td><td>532</td><td>2793</td><td>2006-02-15 21:30:53</td><td>20050528</td><td>20050602</td><td>1</td><td>null</td><td>2023-05-02T15:39:23.585+0000</td><td>dbfs:/FileStore/ds2002-lab06/sourcedata/stream/rental/sakila_fact_rental.json</td></tr><tr><td>5.99</td><td>528</td><td>533</td><td>4306</td><td>2006-02-15 21:30:53</td><td>20050528</td><td>20050601</td><td>2</td><td>null</td><td>2023-05-02T15:39:23.585+0000</td><td>dbfs:/FileStore/ds2002-lab06/sourcedata/stream/rental/sakila_fact_rental.json</td></tr><tr><td>4.99</td><td>184</td><td>534</td><td>992</td><td>2006-02-15 21:30:53</td><td>20050528</td><td>20050606</td><td>1</td><td>null</td><td>2023-05-02T15:39:23.585+0000</td><td>dbfs:/FileStore/ds2002-lab06/sourcedata/stream/rental/sakila_fact_rental.json</td></tr><tr><td>4.99</td><td>307</td><td>535</td><td>4209</td><td>2006-02-15 21:30:53</td><td>20050528</td><td>20050531</td><td>1</td><td>null</td><td>2023-05-02T15:39:23.585+0000</td><td>dbfs:/FileStore/ds2002-lab06/sourcedata/stream/rental/sakila_fact_rental.json</td></tr><tr><td>4.99</td><td>514</td><td>536</td><td>2962</td><td>2006-02-15 21:30:53</td><td>20050528</td><td>20050603</td><td>2</td><td>null</td><td>2023-05-02T15:39:23.585+0000</td><td>dbfs:/FileStore/ds2002-lab06/sourcedata/stream/rental/sakila_fact_rental.json</td></tr><tr><td>8.99</td><td>315</td><td>537</td><td>3095</td><td>2006-02-15 21:30:53</td><td>20050528</td><td>20050605</td><td>2</td><td>null</td><td>2023-05-02T15:39:23.585+0000</td><td>dbfs:/FileStore/ds2002-lab06/sourcedata/stream/rental/sakila_fact_rental.json</td></tr><tr><td>1.99</td><td>110</td><td>538</td><td>2262</td><td>2006-02-15 21:30:53</td><td>20050528</td><td>20050602</td><td>2</td><td>null</td><td>2023-05-02T15:39:23.585+0000</td><td>dbfs:/FileStore/ds2002-lab06/sourcedata/stream/rental/sakila_fact_rental.json</td></tr><tr><td>0.99</td><td>161</td><td>539</td><td>3427</td><td>2006-02-15 21:30:53</td><td>20050528</td><td>20050530</td><td>1</td><td>null</td><td>2023-05-02T15:39:23.585+0000</td><td>dbfs:/FileStore/ds2002-lab06/sourcedata/stream/rental/sakila_fact_rental.json</td></tr><tr><td>6.99</td><td>119</td><td>540</td><td>3321</td><td>2006-02-15 21:30:53</td><td>20050528</td><td>20050606</td><td>1</td><td>null</td><td>2023-05-02T15:39:23.585+0000</td><td>dbfs:/FileStore/ds2002-lab06/sourcedata/stream/rental/sakila_fact_rental.json</td></tr><tr><td>2.99</td><td>535</td><td>541</td><td>1662</td><td>2006-02-15 21:30:53</td><td>20050528</td><td>20050602</td><td>2</td><td>null</td><td>2023-05-02T15:39:23.585+0000</td><td>dbfs:/FileStore/ds2002-lab06/sourcedata/stream/rental/sakila_fact_rental.json</td></tr><tr><td>6.99</td><td>261</td><td>542</td><td>4444</td><td>2006-02-15 21:30:53</td><td>20050528</td><td>20050603</td><td>1</td><td>null</td><td>2023-05-02T15:39:23.585+0000</td><td>dbfs:/FileStore/ds2002-lab06/sourcedata/stream/rental/sakila_fact_rental.json</td></tr><tr><td>7.99</td><td>493</td><td>543</td><td>530</td><td>2006-02-15 21:30:53</td><td>20050528</td><td>20050606</td><td>2</td><td>null</td><td>2023-05-02T15:39:23.585+0000</td><td>dbfs:/FileStore/ds2002-lab06/sourcedata/stream/rental/sakila_fact_rental.json</td></tr><tr><td>6.99</td><td>311</td><td>544</td><td>2964</td><td>2006-02-15 21:30:53</td><td>20050528</td><td>20050606</td><td>1</td><td>null</td><td>2023-05-02T15:39:23.585+0000</td><td>dbfs:/FileStore/ds2002-lab06/sourcedata/stream/rental/sakila_fact_rental.json</td></tr><tr><td>3.99</td><td>54</td><td>545</td><td>1086</td><td>2006-02-15 21:30:53</td><td>20050528</td><td>20050604</td><td>2</td><td>null</td><td>2023-05-02T15:39:23.585+0000</td><td>dbfs:/FileStore/ds2002-lab06/sourcedata/stream/rental/sakila_fact_rental.json</td></tr><tr><td>1.99</td><td>20</td><td>546</td><td>487</td><td>2006-02-15 21:30:53</td><td>20050528</td><td>20050601</td><td>1</td><td>null</td><td>2023-05-02T15:39:23.585+0000</td><td>dbfs:/FileStore/ds2002-lab06/sourcedata/stream/rental/sakila_fact_rental.json</td></tr><tr><td>8.99</td><td>506</td><td>547</td><td>2065</td><td>2006-02-15 21:30:53</td><td>20050528</td><td>20050606</td><td>2</td><td>null</td><td>2023-05-02T15:39:23.585+0000</td><td>dbfs:/FileStore/ds2002-lab06/sourcedata/stream/rental/sakila_fact_rental.json</td></tr><tr><td>3.99</td><td>450</td><td>548</td><td>3704</td><td>2006-02-15 21:30:53</td><td>20050528</td><td>20050605</td><td>2</td><td>null</td><td>2023-05-02T15:39:23.585+0000</td><td>dbfs:/FileStore/ds2002-lab06/sourcedata/stream/rental/sakila_fact_rental.json</td></tr><tr><td>1.99</td><td>159</td><td>549</td><td>1818</td><td>2006-02-15 21:30:53</td><td>20050528</td><td>20050602</td><td>1</td><td>null</td><td>2023-05-02T15:39:23.585+0000</td><td>dbfs:/FileStore/ds2002-lab06/sourcedata/stream/rental/sakila_fact_rental.json</td></tr><tr><td>5.99</td><td>432</td><td>550</td><td>3632</td><td>2006-02-15 21:30:53</td><td>20050528</td><td>20050606</td><td>2</td><td>null</td><td>2023-05-02T15:39:23.585+0000</td><td>dbfs:/FileStore/ds2002-lab06/sourcedata/stream/rental/sakila_fact_rental.json</td></tr><tr><td>4.99</td><td>315</td><td>551</td><td>3119</td><td>2006-02-15 21:30:53</td><td>20050528</td><td>20050602</td><td>2</td><td>null</td><td>2023-05-02T15:39:23.585+0000</td><td>dbfs:/FileStore/ds2002-lab06/sourcedata/stream/rental/sakila_fact_rental.json</td></tr><tr><td>3.99</td><td>106</td><td>552</td><td>23</td><td>2006-02-15 21:30:53</td><td>20050528</td><td>20050604</td><td>2</td><td>null</td><td>2023-05-02T15:39:23.585+0000</td><td>dbfs:/FileStore/ds2002-lab06/sourcedata/stream/rental/sakila_fact_rental.json</td></tr><tr><td>3.99</td><td>176</td><td>553</td><td>1349</td><td>2006-02-15 21:30:53</td><td>20050528</td><td>20050602</td><td>2</td><td>null</td><td>2023-05-02T15:39:23.585+0000</td><td>dbfs:/FileStore/ds2002-lab06/sourcedata/stream/rental/sakila_fact_rental.json</td></tr><tr><td>0.99</td><td>376</td><td>554</td><td>1951</td><td>2006-02-15 21:30:53</td><td>20050528</td><td>20050531</td><td>2</td><td>null</td><td>2023-05-02T15:39:23.585+0000</td><td>dbfs:/FileStore/ds2002-lab06/sourcedata/stream/rental/sakila_fact_rental.json</td></tr><tr><td>4.99</td><td>55</td><td>555</td><td>4397</td><td>2006-02-15 21:30:53</td><td>20050528</td><td>20050530</td><td>2</td><td>null</td><td>2023-05-02T15:39:23.585+0000</td><td>dbfs:/FileStore/ds2002-lab06/sourcedata/stream/rental/sakila_fact_rental.json</td></tr><tr><td>4.99</td><td>22</td><td>556</td><td>1814</td><td>2006-02-15 21:30:53</td><td>20050528</td><td>20050606</td><td>2</td><td>null</td><td>2023-05-02T15:39:23.585+0000</td><td>dbfs:/FileStore/ds2002-lab06/sourcedata/stream/rental/sakila_fact_rental.json</td></tr><tr><td>0.99</td><td>444</td><td>557</td><td>158</td><td>2006-02-15 21:30:53</td><td>20050528</td><td>20050603</td><td>2</td><td>null</td><td>2023-05-02T15:39:23.585+0000</td><td>dbfs:/FileStore/ds2002-lab06/sourcedata/stream/rental/sakila_fact_rental.json</td></tr><tr><td>6.99</td><td>442</td><td>558</td><td>4163</td><td>2006-02-15 21:30:53</td><td>20050528</td><td>20050606</td><td>1</td><td>null</td><td>2023-05-02T15:39:23.585+0000</td><td>dbfs:/FileStore/ds2002-lab06/sourcedata/stream/rental/sakila_fact_rental.json</td></tr><tr><td>7.99</td><td>572</td><td>559</td><td>1227</td><td>2006-02-15 21:30:53</td><td>20050528</td><td>20050605</td><td>2</td><td>null</td><td>2023-05-02T15:39:23.585+0000</td><td>dbfs:/FileStore/ds2002-lab06/sourcedata/stream/rental/sakila_fact_rental.json</td></tr><tr><td>1.99</td><td>463</td><td>560</td><td>644</td><td>2006-02-15 21:30:53</td><td>20050528</td><td>20050604</td><td>2</td><td>null</td><td>2023-05-02T15:39:23.585+0000</td><td>dbfs:/FileStore/ds2002-lab06/sourcedata/stream/rental/sakila_fact_rental.json</td></tr><tr><td>2.99</td><td>77</td><td>561</td><td>928</td><td>2006-02-15 21:30:53</td><td>20050528</td><td>20050605</td><td>1</td><td>null</td><td>2023-05-02T15:39:23.585+0000</td><td>dbfs:/FileStore/ds2002-lab06/sourcedata/stream/rental/sakila_fact_rental.json</td></tr><tr><td>1.99</td><td>102</td><td>562</td><td>3390</td><td>2006-02-15 21:30:53</td><td>20050528</td><td>20050602</td><td>2</td><td>null</td><td>2023-05-02T15:39:23.585+0000</td><td>dbfs:/FileStore/ds2002-lab06/sourcedata/stream/rental/sakila_fact_rental.json</td></tr><tr><td>3.99</td><td>324</td><td>563</td><td>53</td><td>2006-02-15 21:30:53</td><td>20050528</td><td>20050606</td><td>1</td><td>null</td><td>2023-05-02T15:39:23.585+0000</td><td>dbfs:/FileStore/ds2002-lab06/sourcedata/stream/rental/sakila_fact_rental.json</td></tr><tr><td>0.99</td><td>282</td><td>564</td><td>2973</td><td>2006-02-15 21:30:53</td><td>20050528</td><td>20050529</td><td>1</td><td>null</td><td>2023-05-02T15:39:23.585+0000</td><td>dbfs:/FileStore/ds2002-lab06/sourcedata/stream/rental/sakila_fact_rental.json</td></tr><tr><td>5.99</td><td>288</td><td>565</td><td>1494</td><td>2006-02-15 21:30:53</td><td>20050528</td><td>20050601</td><td>1</td><td>null</td><td>2023-05-02T15:39:23.585+0000</td><td>dbfs:/FileStore/ds2002-lab06/sourcedata/stream/rental/sakila_fact_rental.json</td></tr><tr><td>6.99</td><td>253</td><td>566</td><td>4330</td><td>2006-02-15 21:30:53</td><td>20050528</td><td>20050605</td><td>1</td><td>null</td><td>2023-05-02T15:39:23.585+0000</td><td>dbfs:/FileStore/ds2002-lab06/sourcedata/stream/rental/sakila_fact_rental.json</td></tr><tr><td>1.99</td><td>184</td><td>567</td><td>3308</td><td>2006-02-15 21:30:53</td><td>20050528</td><td>20050601</td><td>2</td><td>null</td><td>2023-05-02T15:39:23.585+0000</td><td>dbfs:/FileStore/ds2002-lab06/sourcedata/stream/rental/sakila_fact_rental.json</td></tr><tr><td>2.99</td><td>155</td><td>568</td><td>2232</td><td>2006-02-15 21:30:53</td><td>20050528</td><td>20050531</td><td>1</td><td>null</td><td>2023-05-02T15:39:23.585+0000</td><td>dbfs:/FileStore/ds2002-lab06/sourcedata/stream/rental/sakila_fact_rental.json</td></tr><tr><td>6.99</td><td>56</td><td>569</td><td>4534</td><td>2006-02-15 21:30:53</td><td>20050528</td><td>20050603</td><td>2</td><td>null</td><td>2023-05-02T15:39:23.585+0000</td><td>dbfs:/FileStore/ds2002-lab06/sourcedata/stream/rental/sakila_fact_rental.json</td></tr><tr><td>0.99</td><td>21</td><td>570</td><td>1122</td><td>2006-02-15 21:30:53</td><td>20050528</td><td>20050530</td><td>1</td><td>null</td><td>2023-05-02T15:39:23.585+0000</td><td>dbfs:/FileStore/ds2002-lab06/sourcedata/stream/rental/sakila_fact_rental.json</td></tr><tr><td>1.99</td><td>516</td><td>571</td><td>4250</td><td>2006-02-15 21:30:53</td><td>20050528</td><td>20050605</td><td>1</td><td>null</td><td>2023-05-02T15:39:23.585+0000</td><td>dbfs:/FileStore/ds2002-lab06/sourcedata/stream/rental/sakila_fact_rental.json</td></tr><tr><td>4.99</td><td>337</td><td>572</td><td>1899</td><td>2006-02-15 21:30:53</td><td>20050528</td><td>20050602</td><td>2</td><td>null</td><td>2023-05-02T15:39:23.585+0000</td><td>dbfs:/FileStore/ds2002-lab06/sourcedata/stream/rental/sakila_fact_rental.json</td></tr><tr><td>0.99</td><td>1</td><td>573</td><td>4020</td><td>2006-02-15 21:30:53</td><td>20050528</td><td>20050603</td><td>1</td><td>null</td><td>2023-05-02T15:39:23.585+0000</td><td>dbfs:/FileStore/ds2002-lab06/sourcedata/stream/rental/sakila_fact_rental.json</td></tr><tr><td>1.99</td><td>76</td><td>574</td><td>3883</td><td>2006-02-15 21:30:53</td><td>20050528</td><td>20050604</td><td>1</td><td>null</td><td>2023-05-02T15:39:23.585+0000</td><td>dbfs:/FileStore/ds2002-lab06/sourcedata/stream/rental/sakila_fact_rental.json</td></tr><tr><td>9.99</td><td>142</td><td>575</td><td>4451</td><td>2006-02-15 21:30:53</td><td>20050528</td><td>20050605</td><td>1</td><td>null</td><td>2023-05-02T15:39:23.585+0000</td><td>dbfs:/FileStore/ds2002-lab06/sourcedata/stream/rental/sakila_fact_rental.json</td></tr><tr><td>2.99</td><td>588</td><td>576</td><td>1866</td><td>2006-02-15 21:30:53</td><td>20050528</td><td>20050604</td><td>2</td><td>null</td><td>2023-05-02T15:39:23.585+0000</td><td>dbfs:/FileStore/ds2002-lab06/sourcedata/stream/rental/sakila_fact_rental.json</td></tr><tr><td>2.99</td><td>6</td><td>577</td><td>375</td><td>2006-02-15 21:30:53</td><td>20050528</td><td>20050601</td><td>2</td><td>null</td><td>2023-05-02T15:39:23.585+0000</td><td>dbfs:/FileStore/ds2002-lab06/sourcedata/stream/rental/sakila_fact_rental.json</td></tr><tr><td>2.99</td><td>173</td><td>578</td><td>2938</td><td>2006-02-15 21:30:53</td><td>20050528</td><td>20050602</td><td>1</td><td>null</td><td>2023-05-02T15:39:23.585+0000</td><td>dbfs:/FileStore/ds2002-lab06/sourcedata/stream/rental/sakila_fact_rental.json</td></tr><tr><td>6.99</td><td>181</td><td>579</td><td>3481</td><td>2006-02-15 21:30:53</td><td>20050528</td><td>20050602</td><td>1</td><td>null</td><td>2023-05-02T15:39:23.585+0000</td><td>dbfs:/FileStore/ds2002-lab06/sourcedata/stream/rental/sakila_fact_rental.json</td></tr><tr><td>2.99</td><td>17</td><td>580</td><td>3515</td><td>2006-02-15 21:30:53</td><td>20050528</td><td>20050601</td><td>2</td><td>null</td><td>2023-05-02T15:39:23.585+0000</td><td>dbfs:/FileStore/ds2002-lab06/sourcedata/stream/rental/sakila_fact_rental.json</td></tr><tr><td>1.99</td><td>186</td><td>581</td><td>1380</td><td>2006-02-15 21:30:53</td><td>20050528</td><td>20050604</td><td>2</td><td>null</td><td>2023-05-02T15:39:23.585+0000</td><td>dbfs:/FileStore/ds2002-lab06/sourcedata/stream/rental/sakila_fact_rental.json</td></tr><tr><td>4.99</td><td>198</td><td>582</td><td>4579</td><td>2006-02-15 21:30:53</td><td>20050528</td><td>20050529</td><td>1</td><td>null</td><td>2023-05-02T15:39:23.585+0000</td><td>dbfs:/FileStore/ds2002-lab06/sourcedata/stream/rental/sakila_fact_rental.json</td></tr><tr><td>7.99</td><td>386</td><td>583</td><td>2679</td><td>2006-02-15 21:30:53</td><td>20050528</td><td>20050604</td><td>2</td><td>null</td><td>2023-05-02T15:39:23.585+0000</td><td>dbfs:/FileStore/ds2002-lab06/sourcedata/stream/rental/sakila_fact_rental.json</td></tr><tr><td>4.99</td><td>69</td><td>584</td><td>1833</td><td>2006-02-15 21:30:53</td><td>20050528</td><td>20050601</td><td>1</td><td>null</td><td>2023-05-02T15:39:23.585+0000</td><td>dbfs:/FileStore/ds2002-lab06/sourcedata/stream/rental/sakila_fact_rental.json</td></tr><tr><td>6.99</td><td>490</td><td>585</td><td>3544</td><td>2006-02-15 21:30:53</td><td>20050528</td><td>20050603</td><td>2</td><td>null</td><td>2023-05-02T15:39:23.585+0000</td><td>dbfs:/FileStore/ds2002-lab06/sourcedata/stream/rental/sakila_fact_rental.json</td></tr><tr><td>0.99</td><td>77</td><td>586</td><td>898</td><td>2006-02-15 21:30:53</td><td>20050528</td><td>20050529</td><td>1</td><td>null</td><td>2023-05-02T15:39:23.585+0000</td><td>dbfs:/FileStore/ds2002-lab06/sourcedata/stream/rental/sakila_fact_rental.json</td></tr><tr><td>0.99</td><td>64</td><td>587</td><td>1413</td><td>2006-02-15 21:30:53</td><td>20050528</td><td>20050530</td><td>2</td><td>null</td><td>2023-05-02T15:39:23.585+0000</td><td>dbfs:/FileStore/ds2002-lab06/sourcedata/stream/rental/sakila_fact_rental.json</td></tr><tr><td>0.99</td><td>89</td><td>588</td><td>95</td><td>2006-02-15 21:30:53</td><td>20050528</td><td>20050529</td><td>2</td><td>null</td><td>2023-05-02T15:39:23.585+0000</td><td>dbfs:/FileStore/ds2002-lab06/sourcedata/stream/rental/sakila_fact_rental.json</td></tr><tr><td>3.99</td><td>308</td><td>589</td><td>4231</td><td>2006-02-15 21:30:53</td><td>20050528</td><td>20050603</td><td>2</td><td>null</td><td>2023-05-02T15:39:23.585+0000</td><td>dbfs:/FileStore/ds2002-lab06/sourcedata/stream/rental/sakila_fact_rental.json</td></tr><tr><td>3.99</td><td>462</td><td>590</td><td>473</td><td>2006-02-15 21:30:53</td><td>20050528</td><td>20050602</td><td>1</td><td>null</td><td>2023-05-02T15:39:23.585+0000</td><td>dbfs:/FileStore/ds2002-lab06/sourcedata/stream/rental/sakila_fact_rental.json</td></tr><tr><td>2.99</td><td>19</td><td>591</td><td>377</td><td>2006-02-15 21:30:53</td><td>20050528</td><td>20050529</td><td>2</td><td>null</td><td>2023-05-02T15:39:23.585+0000</td><td>dbfs:/FileStore/ds2002-lab06/sourcedata/stream/rental/sakila_fact_rental.json</td></tr><tr><td>4.99</td><td>244</td><td>592</td><td>638</td><td>2006-02-15 21:30:53</td><td>20050528</td><td>20050529</td><td>1</td><td>null</td><td>2023-05-02T15:39:23.585+0000</td><td>dbfs:/FileStore/ds2002-lab06/sourcedata/stream/rental/sakila_fact_rental.json</td></tr><tr><td>2.99</td><td>16</td><td>593</td><td>1810</td><td>2006-02-15 21:30:53</td><td>20050528</td><td>20050530</td><td>2</td><td>null</td><td>2023-05-02T15:39:23.585+0000</td><td>dbfs:/FileStore/ds2002-lab06/sourcedata/stream/rental/sakila_fact_rental.json</td></tr><tr><td>2.99</td><td>538</td><td>594</td><td>2766</td><td>2006-02-15 21:30:53</td><td>20050528</td><td>20050530</td><td>1</td><td>null</td><td>2023-05-02T15:39:23.585+0000</td><td>dbfs:/FileStore/ds2002-lab06/sourcedata/stream/rental/sakila_fact_rental.json</td></tr><tr><td>1.99</td><td>294</td><td>595</td><td>595</td><td>2006-02-15 21:30:53</td><td>20050528</td><td>20050605</td><td>1</td><td>null</td><td>2023-05-02T15:39:23.585+0000</td><td>dbfs:/FileStore/ds2002-lab06/sourcedata/stream/rental/sakila_fact_rental.json</td></tr><tr><td>4.99</td><td>589</td><td>596</td><td>821</td><td>2006-02-15 21:30:53</td><td>20050528</td><td>20050529</td><td>1</td><td>null</td><td>2023-05-02T15:39:23.585+0000</td><td>dbfs:/FileStore/ds2002-lab06/sourcedata/stream/rental/sakila_fact_rental.json</td></tr><tr><td>3.99</td><td>249</td><td>597</td><td>4469</td><td>2006-02-15 21:30:53</td><td>20050528</td><td>20050606</td><td>2</td><td>null</td><td>2023-05-02T15:39:23.585+0000</td><td>dbfs:/FileStore/ds2002-lab06/sourcedata/stream/rental/sakila_fact_rental.json</td></tr><tr><td>0.99</td><td>159</td><td>598</td><td>599</td><td>2006-02-15 21:30:53</td><td>20050528</td><td>20050603</td><td>2</td><td>null</td><td>2023-05-02T15:39:23.585+0000</td><td>dbfs:/FileStore/ds2002-lab06/sourcedata/stream/rental/sakila_fact_rental.json</td></tr><tr><td>4.99</td><td>393</td><td>599</td><td>4136</td><td>2006-02-15 21:30:53</td><td>20050528</td><td>20050601</td><td>2</td><td>null</td><td>2023-05-02T15:39:23.585+0000</td><td>dbfs:/FileStore/ds2002-lab06/sourcedata/stream/rental/sakila_fact_rental.json</td></tr><tr><td>3.99</td><td>332</td><td>600</td><td>1567</td><td>2006-02-15 21:30:53</td><td>20050528</td><td>20050603</td><td>2</td><td>null</td><td>2023-05-02T15:39:23.585+0000</td><td>dbfs:/FileStore/ds2002-lab06/sourcedata/stream/rental/sakila_fact_rental.json</td></tr><tr><td>7.99</td><td>429</td><td>601</td><td>3225</td><td>2006-02-15 21:30:53</td><td>20050528</td><td>20050604</td><td>1</td><td>null</td><td>2023-05-02T15:39:23.585+0000</td><td>dbfs:/FileStore/ds2002-lab06/sourcedata/stream/rental/sakila_fact_rental.json</td></tr><tr><td>3.99</td><td>590</td><td>602</td><td>1300</td><td>2006-02-15 21:30:53</td><td>20050528</td><td>20050605</td><td>2</td><td>null</td><td>2023-05-02T15:39:23.585+0000</td><td>dbfs:/FileStore/ds2002-lab06/sourcedata/stream/rental/sakila_fact_rental.json</td></tr><tr><td>4.99</td><td>537</td><td>603</td><td>3248</td><td>2006-02-15 21:30:53</td><td>20050528</td><td>20050529</td><td>1</td><td>null</td><td>2023-05-02T15:39:23.585+0000</td><td>dbfs:/FileStore/ds2002-lab06/sourcedata/stream/rental/sakila_fact_rental.json</td></tr><tr><td>0.99</td><td>426</td><td>604</td><td>1585</td><td>2006-02-15 21:30:53</td><td>20050528</td><td>20050603</td><td>2</td><td>null</td><td>2023-05-02T15:39:23.585+0000</td><td>dbfs:/FileStore/ds2002-lab06/sourcedata/stream/rental/sakila_fact_rental.json</td></tr><tr><td>1.99</td><td>501</td><td>605</td><td>4232</td><td>2006-02-15 21:30:53</td><td>20050528</td><td>20050601</td><td>2</td><td>null</td><td>2023-05-02T15:39:23.585+0000</td><td>dbfs:/FileStore/ds2002-lab06/sourcedata/stream/rental/sakila_fact_rental.json</td></tr><tr><td>8.99</td><td>299</td><td>606</td><td>3509</td><td>2006-02-15 21:30:53</td><td>20050528</td><td>20050604</td><td>2</td><td>null</td><td>2023-05-02T15:39:23.585+0000</td><td>dbfs:/FileStore/ds2002-lab06/sourcedata/stream/rental/sakila_fact_rental.json</td></tr><tr><td>2.99</td><td>554</td><td>607</td><td>2561</td><td>2006-02-15 21:30:53</td><td>20050528</td><td>20050530</td><td>2</td><td>null</td><td>2023-05-02T15:39:23.585+0000</td><td>dbfs:/FileStore/ds2002-lab06/sourcedata/stream/rental/sakila_fact_rental.json</td></tr><tr><td>4.99</td><td>494</td><td>608</td><td>4254</td><td>2006-02-15 21:30:53</td><td>20050528</td><td>20050604</td><td>2</td><td>null</td><td>2023-05-02T15:39:23.585+0000</td><td>dbfs:/FileStore/ds2002-lab06/sourcedata/stream/rental/sakila_fact_rental.json</td></tr><tr><td>2.99</td><td>150</td><td>609</td><td>2944</td><td>2006-02-15 21:30:53</td><td>20050528</td><td>20050605</td><td>2</td><td>null</td><td>2023-05-02T15:39:23.585+0000</td><td>dbfs:/FileStore/ds2002-lab06/sourcedata/stream/rental/sakila_fact_rental.json</td></tr><tr><td>0.99</td><td>500</td><td>610</td><td>3642</td><td>2006-02-15 21:30:53</td><td>20050528</td><td>20050602</td><td>2</td><td>null</td><td>2023-05-02T15:39:23.585+0000</td><td>dbfs:/FileStore/ds2002-lab06/sourcedata/stream/rental/sakila_fact_rental.json</td></tr><tr><td>0.99</td><td>580</td><td>611</td><td>1230</td><td>2006-02-15 21:30:53</td><td>20050528</td><td>20050531</td><td>2</td><td>null</td><td>2023-05-02T15:39:23.585+0000</td><td>dbfs:/FileStore/ds2002-lab06/sourcedata/stream/rental/sakila_fact_rental.json</td></tr><tr><td>2.99</td><td>161</td><td>612</td><td>2180</td><td>2006-02-15 21:30:53</td><td>20050528</td><td>20050530</td><td>2</td><td>null</td><td>2023-05-02T15:39:23.585+0000</td><td>dbfs:/FileStore/ds2002-lab06/sourcedata/stream/rental/sakila_fact_rental.json</td></tr><tr><td>6.99</td><td>595</td><td>613</td><td>270</td><td>2006-02-15 21:30:53</td><td>20050528</td><td>20050602</td><td>1</td><td>null</td><td>2023-05-02T15:39:23.585+0000</td><td>dbfs:/FileStore/ds2002-lab06/sourcedata/stream/rental/sakila_fact_rental.json</td></tr><tr><td>1.99</td><td>307</td><td>614</td><td>280</td><td>2006-02-15 21:30:53</td><td>20050528</td><td>20050604</td><td>2</td><td>null</td><td>2023-05-02T15:39:23.585+0000</td><td>dbfs:/FileStore/ds2002-lab06/sourcedata/stream/rental/sakila_fact_rental.json</td></tr><tr><td>5.99</td><td>533</td><td>615</td><td>3397</td><td>2006-02-15 21:30:53</td><td>20050528</td><td>20050603</td><td>2</td><td>null</td><td>2023-05-02T15:39:23.585+0000</td><td>dbfs:/FileStore/ds2002-lab06/sourcedata/stream/rental/sakila_fact_rental.json</td></tr><tr><td>2.99</td><td>471</td><td>616</td><td>989</td><td>2006-02-15 21:30:53</td><td>20050528</td><td>20050602</td><td>1</td><td>null</td><td>2023-05-02T15:39:23.585+0000</td><td>dbfs:/FileStore/ds2002-lab06/sourcedata/stream/rental/sakila_fact_rental.json</td></tr><tr><td>2.99</td><td>372</td><td>617</td><td>4142</td><td>2006-02-15 21:30:53</td><td>20050528</td><td>20050531</td><td>2</td><td>null</td><td>2023-05-02T15:39:23.585+0000</td><td>dbfs:/FileStore/ds2002-lab06/sourcedata/stream/rental/sakila_fact_rental.json</td></tr><tr><td>4.99</td><td>248</td><td>618</td><td>4445</td><td>2006-02-15 21:30:53</td><td>20050528</td><td>20050601</td><td>1</td><td>null</td><td>2023-05-02T15:39:23.585+0000</td><td>dbfs:/FileStore/ds2002-lab06/sourcedata/stream/rental/sakila_fact_rental.json</td></tr><tr><td>7.99</td><td>407</td><td>619</td><td>2482</td><td>2006-02-15 21:30:53</td><td>20050528</td><td>20050606</td><td>2</td><td>null</td><td>2023-05-02T15:39:23.585+0000</td><td>dbfs:/FileStore/ds2002-lab06/sourcedata/stream/rental/sakila_fact_rental.json</td></tr><tr><td>5.99</td><td>321</td><td>620</td><td>2444</td><td>2006-02-15 21:30:53</td><td>20050528</td><td>20050604</td><td>1</td><td>null</td><td>2023-05-02T15:39:23.585+0000</td><td>dbfs:/FileStore/ds2002-lab06/sourcedata/stream/rental/sakila_fact_rental.json</td></tr><tr><td>4.99</td><td>239</td><td>621</td><td>1144</td><td>2006-02-15 21:30:53</td><td>20050528</td><td>20050530</td><td>1</td><td>null</td><td>2023-05-02T15:39:23.585+0000</td><td>dbfs:/FileStore/ds2002-lab06/sourcedata/stream/rental/sakila_fact_rental.json</td></tr><tr><td>3.99</td><td>109</td><td>622</td><td>2363</td><td>2006-02-15 21:30:53</td><td>20050528</td><td>20050604</td><td>1</td><td>null</td><td>2023-05-02T15:39:23.585+0000</td><td>dbfs:/FileStore/ds2002-lab06/sourcedata/stream/rental/sakila_fact_rental.json</td></tr><tr><td>4.99</td><td>495</td><td>623</td><td>1222</td><td>2006-02-15 21:30:53</td><td>20050528</td><td>20050530</td><td>1</td><td>null</td><td>2023-05-02T15:39:23.585+0000</td><td>dbfs:/FileStore/ds2002-lab06/sourcedata/stream/rental/sakila_fact_rental.json</td></tr><tr><td>4.99</td><td>569</td><td>624</td><td>3660</td><td>2006-02-15 21:30:53</td><td>20050528</td><td>20050606</td><td>1</td><td>null</td><td>2023-05-02T15:39:23.585+0000</td><td>dbfs:/FileStore/ds2002-lab06/sourcedata/stream/rental/sakila_fact_rental.json</td></tr><tr><td>0.99</td><td>596</td><td>625</td><td>2889</td><td>2006-02-15 21:30:53</td><td>20050528</td><td>20050601</td><td>1</td><td>null</td><td>2023-05-02T15:39:23.585+0000</td><td>dbfs:/FileStore/ds2002-lab06/sourcedata/stream/rental/sakila_fact_rental.json</td></tr><tr><td>4.99</td><td>584</td><td>626</td><td>452</td><td>2006-02-15 21:30:53</td><td>20050528</td><td>20050601</td><td>2</td><td>null</td><td>2023-05-02T15:39:23.585+0000</td><td>dbfs:/FileStore/ds2002-lab06/sourcedata/stream/rental/sakila_fact_rental.json</td></tr><tr><td>7.99</td><td>241</td><td>627</td><td>425</td><td>2006-02-15 21:30:53</td><td>20050528</td><td>20050604</td><td>2</td><td>null</td><td>2023-05-02T15:39:23.585+0000</td><td>dbfs:/FileStore/ds2002-lab06/sourcedata/stream/rental/sakila_fact_rental.json</td></tr><tr><td>4.99</td><td>173</td><td>628</td><td>2513</td><td>2006-02-15 21:30:53</td><td>20050528</td><td>20050606</td><td>2</td><td>null</td><td>2023-05-02T15:39:23.585+0000</td><td>dbfs:/FileStore/ds2002-lab06/sourcedata/stream/rental/sakila_fact_rental.json</td></tr><tr><td>4.99</td><td>94</td><td>629</td><td>1527</td><td>2006-02-15 21:30:53</td><td>20050528</td><td>20050602</td><td>2</td><td>null</td><td>2023-05-02T15:39:23.585+0000</td><td>dbfs:/FileStore/ds2002-lab06/sourcedata/stream/rental/sakila_fact_rental.json</td></tr><tr><td>8.99</td><td>417</td><td>630</td><td>1254</td><td>2006-02-15 21:30:53</td><td>20050528</td><td>20050605</td><td>2</td><td>null</td><td>2023-05-02T15:39:23.585+0000</td><td>dbfs:/FileStore/ds2002-lab06/sourcedata/stream/rental/sakila_fact_rental.json</td></tr><tr><td>2.99</td><td>503</td><td>631</td><td>2465</td><td>2006-02-15 21:30:53</td><td>20050528</td><td>20050603</td><td>2</td><td>null</td><td>2023-05-02T15:39:23.585+0000</td><td>dbfs:/FileStore/ds2002-lab06/sourcedata/stream/rental/sakila_fact_rental.json</td></tr><tr><td>5.99</td><td>442</td><td>632</td><td>1287</td><td>2006-02-15 21:30:53</td><td>20050528</td><td>20050603</td><td>1</td><td>null</td><td>2023-05-02T15:39:23.585+0000</td><td>dbfs:/FileStore/ds2002-lab06/sourcedata/stream/rental/sakila_fact_rental.json</td></tr><tr><td>0.99</td><td>360</td><td>633</td><td>58</td><td>2006-02-15 21:30:53</td><td>20050528</td><td>20050603</td><td>2</td><td>null</td><td>2023-05-02T15:39:23.585+0000</td><td>dbfs:/FileStore/ds2002-lab06/sourcedata/stream/rental/sakila_fact_rental.json</td></tr><tr><td>4.99</td><td>428</td><td>634</td><td>2630</td><td>2006-02-15 21:30:53</td><td>20050528</td><td>20050605</td><td>2</td><td>null</td><td>2023-05-02T15:39:23.585+0000</td><td>dbfs:/FileStore/ds2002-lab06/sourcedata/stream/rental/sakila_fact_rental.json</td></tr><tr><td>5.99</td><td>42</td><td>635</td><td>1648</td><td>2006-02-15 21:30:53</td><td>20050528</td><td>20050606</td><td>1</td><td>null</td><td>2023-05-02T15:39:23.585+0000</td><td>dbfs:/FileStore/ds2002-lab06/sourcedata/stream/rental/sakila_fact_rental.json</td></tr><tr><td>6.99</td><td>239</td><td>636</td><td>4213</td><td>2006-02-15 21:30:53</td><td>20050528</td><td>20050604</td><td>1</td><td>null</td><td>2023-05-02T15:39:23.585+0000</td><td>dbfs:/FileStore/ds2002-lab06/sourcedata/stream/rental/sakila_fact_rental.json</td></tr><tr><td>4.99</td><td>250</td><td>637</td><td>1581</td><td>2006-02-15 21:30:53</td><td>20050528</td><td>20050529</td><td>2</td><td>null</td><td>2023-05-02T15:39:23.585+0000</td><td>dbfs:/FileStore/ds2002-lab06/sourcedata/stream/rental/sakila_fact_rental.json</td></tr><tr><td>2.99</td><td>372</td><td>638</td><td>2685</td><td>2006-02-15 21:30:53</td><td>20050528</td><td>20050602</td><td>2</td><td>null</td><td>2023-05-02T15:39:23.585+0000</td><td>dbfs:/FileStore/ds2002-lab06/sourcedata/stream/rental/sakila_fact_rental.json</td></tr><tr><td>2.99</td><td>198</td><td>639</td><td>4204</td><td>2006-02-15 21:30:53</td><td>20050528</td><td>20050529</td><td>1</td><td>null</td><td>2023-05-02T15:39:23.585+0000</td><td>dbfs:/FileStore/ds2002-lab06/sourcedata/stream/rental/sakila_fact_rental.json</td></tr><tr><td>0.99</td><td>465</td><td>640</td><td>495</td><td>2006-02-15 21:30:53</td><td>20050528</td><td>20050530</td><td>1</td><td>null</td><td>2023-05-02T15:39:23.585+0000</td><td>dbfs:/FileStore/ds2002-lab06/sourcedata/stream/rental/sakila_fact_rental.json</td></tr><tr><td>5.99</td><td>396</td><td>641</td><td>3548</td><td>2006-02-15 21:30:53</td><td>20050528</td><td>20050604</td><td>1</td><td>null</td><td>2023-05-02T15:39:23.585+0000</td><td>dbfs:/FileStore/ds2002-lab06/sourcedata/stream/rental/sakila_fact_rental.json</td></tr><tr><td>4.99</td><td>157</td><td>642</td><td>140</td><td>2006-02-15 21:30:53</td><td>20050528</td><td>20050601</td><td>2</td><td>null</td><td>2023-05-02T15:39:23.585+0000</td><td>dbfs:/FileStore/ds2002-lab06/sourcedata/stream/rental/sakila_fact_rental.json</td></tr><tr><td>4.99</td><td>240</td><td>643</td><td>3105</td><td>2006-02-15 21:30:53</td><td>20050528</td><td>20050531</td><td>2</td><td>null</td><td>2023-05-02T15:39:23.585+0000</td><td>dbfs:/FileStore/ds2002-lab06/sourcedata/stream/rental/sakila_fact_rental.json</td></tr><tr><td>8.99</td><td>316</td><td>644</td><td>4304</td><td>2006-02-15 21:30:53</td><td>20050528</td><td>20050604</td><td>1</td><td>null</td><td>2023-05-02T15:39:23.585+0000</td><td>dbfs:/FileStore/ds2002-lab06/sourcedata/stream/rental/sakila_fact_rental.json</td></tr><tr><td>2.99</td><td>505</td><td>645</td><td>3128</td><td>2006-02-15 21:30:53</td><td>20050528</td><td>20050605</td><td>1</td><td>null</td><td>2023-05-02T15:39:23.585+0000</td><td>dbfs:/FileStore/ds2002-lab06/sourcedata/stream/rental/sakila_fact_rental.json</td></tr><tr><td>0.99</td><td>185</td><td>646</td><td>1922</td><td>2006-02-15 21:30:53</td><td>20050528</td><td>20050531</td><td>2</td><td>null</td><td>2023-05-02T15:39:23.585+0000</td><td>dbfs:/FileStore/ds2002-lab06/sourcedata/stream/rental/sakila_fact_rental.json</td></tr><tr><td>1.99</td><td>569</td><td>647</td><td>3435</td><td>2006-02-15 21:30:53</td><td>20050528</td><td>20050601</td><td>1</td><td>null</td><td>2023-05-02T15:39:23.585+0000</td><td>dbfs:/FileStore/ds2002-lab06/sourcedata/stream/rental/sakila_fact_rental.json</td></tr><tr><td>0.99</td><td>253</td><td>648</td><td>3476</td><td>2006-02-15 21:30:53</td><td>20050528</td><td>20050603</td><td>2</td><td>null</td><td>2023-05-02T15:39:23.585+0000</td><td>dbfs:/FileStore/ds2002-lab06/sourcedata/stream/rental/sakila_fact_rental.json</td></tr><tr><td>1.99</td><td>197</td><td>649</td><td>1781</td><td>2006-02-15 21:30:53</td><td>20050528</td><td>20050605</td><td>1</td><td>null</td><td>2023-05-02T15:39:23.585+0000</td><td>dbfs:/FileStore/ds2002-lab06/sourcedata/stream/rental/sakila_fact_rental.json</td></tr><tr><td>2.99</td><td>281</td><td>650</td><td>4384</td><td>2006-02-15 21:30:53</td><td>20050528</td><td>20050529</td><td>1</td><td>null</td><td>2023-05-02T15:39:23.585+0000</td><td>dbfs:/FileStore/ds2002-lab06/sourcedata/stream/rental/sakila_fact_rental.json</td></tr><tr><td>2.99</td><td>266</td><td>651</td><td>739</td><td>2006-02-15 21:30:53</td><td>20050528</td><td>20050530</td><td>1</td><td>null</td><td>2023-05-02T15:39:23.585+0000</td><td>dbfs:/FileStore/ds2002-lab06/sourcedata/stream/rental/sakila_fact_rental.json</td></tr><tr><td>4.99</td><td>43</td><td>652</td><td>1201</td><td>2006-02-15 21:30:53</td><td>20050528</td><td>20050529</td><td>2</td><td>null</td><td>2023-05-02T15:39:23.585+0000</td><td>dbfs:/FileStore/ds2002-lab06/sourcedata/stream/rental/sakila_fact_rental.json</td></tr><tr><td>6.99</td><td>327</td><td>653</td><td>126</td><td>2006-02-15 21:30:53</td><td>20050528</td><td>20050604</td><td>2</td><td>null</td><td>2023-05-02T15:39:23.585+0000</td><td>dbfs:/FileStore/ds2002-lab06/sourcedata/stream/rental/sakila_fact_rental.json</td></tr><tr><td>2.99</td><td>23</td><td>654</td><td>2312</td><td>2006-02-15 21:30:53</td><td>20050528</td><td>20050530</td><td>2</td><td>null</td><td>2023-05-02T15:39:23.585+0000</td><td>dbfs:/FileStore/ds2002-lab06/sourcedata/stream/rental/sakila_fact_rental.json</td></tr><tr><td>2.99</td><td>287</td><td>655</td><td>331</td><td>2006-02-15 21:30:53</td><td>20050528</td><td>20050531</td><td>2</td><td>null</td><td>2023-05-02T15:39:23.585+0000</td><td>dbfs:/FileStore/ds2002-lab06/sourcedata/stream/rental/sakila_fact_rental.json</td></tr><tr><td>4.99</td><td>437</td><td>656</td><td>2846</td><td>2006-02-15 21:30:53</td><td>20050528</td><td>20050530</td><td>1</td><td>null</td><td>2023-05-02T15:39:23.585+0000</td><td>dbfs:/FileStore/ds2002-lab06/sourcedata/stream/rental/sakila_fact_rental.json</td></tr><tr><td>0.99</td><td>65</td><td>657</td><td>848</td><td>2006-02-15 21:30:53</td><td>20050528</td><td>20050601</td><td>1</td><td>null</td><td>2023-05-02T15:39:23.585+0000</td><td>dbfs:/FileStore/ds2002-lab06/sourcedata/stream/rental/sakila_fact_rental.json</td></tr><tr><td>9.99</td><td>103</td><td>658</td><td>3226</td><td>2006-02-15 21:30:53</td><td>20050528</td><td>20050606</td><td>2</td><td>null</td><td>2023-05-02T15:39:23.585+0000</td><td>dbfs:/FileStore/ds2002-lab06/sourcedata/stream/rental/sakila_fact_rental.json</td></tr><tr><td>0.99</td><td>207</td><td>659</td><td>1382</td><td>2006-02-15 21:30:53</td><td>20050528</td><td>20050531</td><td>2</td><td>null</td><td>2023-05-02T15:39:23.585+0000</td><td>dbfs:/FileStore/ds2002-lab06/sourcedata/stream/rental/sakila_fact_rental.json</td></tr><tr><td>0.99</td><td>578</td><td>660</td><td>1414</td><td>2006-02-15 21:30:53</td><td>20050528</td><td>20050530</td><td>1</td><td>null</td><td>2023-05-02T15:39:23.585+0000</td><td>dbfs:/FileStore/ds2002-lab06/sourcedata/stream/rental/sakila_fact_rental.json</td></tr><tr><td>4.99</td><td>51</td><td>661</td><td>2247</td><td>2006-02-15 21:30:53</td><td>20050528</td><td>20050602</td><td>2</td><td>null</td><td>2023-05-02T15:39:23.585+0000</td><td>dbfs:/FileStore/ds2002-lab06/sourcedata/stream/rental/sakila_fact_rental.json</td></tr><tr><td>1.99</td><td>166</td><td>662</td><td>2968</td><td>2006-02-15 21:30:53</td><td>20050528</td><td>20050601</td><td>2</td><td>null</td><td>2023-05-02T15:39:23.585+0000</td><td>dbfs:/FileStore/ds2002-lab06/sourcedata/stream/rental/sakila_fact_rental.json</td></tr><tr><td>1.99</td><td>176</td><td>663</td><td>3997</td><td>2006-02-15 21:30:53</td><td>20050528</td><td>20050602</td><td>2</td><td>null</td><td>2023-05-02T15:39:23.585+0000</td><td>dbfs:/FileStore/ds2002-lab06/sourcedata/stream/rental/sakila_fact_rental.json</td></tr><tr><td>0.99</td><td>523</td><td>664</td><td>87</td><td>2006-02-15 21:30:53</td><td>20050528</td><td>20050602</td><td>2</td><td>null</td><td>2023-05-02T15:39:23.585+0000</td><td>dbfs:/FileStore/ds2002-lab06/sourcedata/stream/rental/sakila_fact_rental.json</td></tr><tr><td>4.99</td><td>415</td><td>665</td><td>1012</td><td>2006-02-15 21:30:53</td><td>20050528</td><td>20050529</td><td>1</td><td>null</td><td>2023-05-02T15:39:23.585+0000</td><td>dbfs:/FileStore/ds2002-lab06/sourcedata/stream/rental/sakila_fact_rental.json</td></tr><tr><td>5.99</td><td>437</td><td>666</td><td>3075</td><td>2006-02-15 21:30:53</td><td>20050528</td><td>20050605</td><td>2</td><td>null</td><td>2023-05-02T15:39:23.585+0000</td><td>dbfs:/FileStore/ds2002-lab06/sourcedata/stream/rental/sakila_fact_rental.json</td></tr><tr><td>4.99</td><td>596</td><td>667</td><td>797</td><td>2006-02-15 21:30:53</td><td>20050528</td><td>20050531</td><td>1</td><td>null</td><td>2023-05-02T15:39:23.585+0000</td><td>dbfs:/FileStore/ds2002-lab06/sourcedata/stream/rental/sakila_fact_rental.json</td></tr><tr><td>2.99</td><td>484</td><td>668</td><td>3528</td><td>2006-02-15 21:30:53</td><td>20050528</td><td>20050529</td><td>1</td><td>null</td><td>2023-05-02T15:39:23.585+0000</td><td>dbfs:/FileStore/ds2002-lab06/sourcedata/stream/rental/sakila_fact_rental.json</td></tr><tr><td>4.99</td><td>313</td><td>669</td><td>3677</td><td>2006-02-15 21:30:53</td><td>20050528</td><td>20050603</td><td>1</td><td>null</td><td>2023-05-02T15:39:23.585+0000</td><td>dbfs:/FileStore/ds2002-lab06/sourcedata/stream/rental/sakila_fact_rental.json</td></tr><tr><td>6.99</td><td>201</td><td>670</td><td>227</td><td>2006-02-15 21:30:53</td><td>20050528</td><td>20050606</td><td>2</td><td>null</td><td>2023-05-02T15:39:23.585+0000</td><td>dbfs:/FileStore/ds2002-lab06/sourcedata/stream/rental/sakila_fact_rental.json</td></tr><tr><td>2.99</td><td>14</td><td>671</td><td>1027</td><td>2006-02-15 21:30:53</td><td>20050528</td><td>20050603</td><td>2</td><td>null</td><td>2023-05-02T15:39:23.585+0000</td><td>dbfs:/FileStore/ds2002-lab06/sourcedata/stream/rental/sakila_fact_rental.json</td></tr><tr><td>6.99</td><td>306</td><td>672</td><td>697</td><td>2006-02-15 21:30:53</td><td>20050528</td><td>20050606</td><td>2</td><td>null</td><td>2023-05-02T15:39:23.585+0000</td><td>dbfs:/FileStore/ds2002-lab06/sourcedata/stream/rental/sakila_fact_rental.json</td></tr><tr><td>0.99</td><td>468</td><td>673</td><td>1769</td><td>2006-02-15 21:30:53</td><td>20050528</td><td>20050601</td><td>1</td><td>null</td><td>2023-05-02T15:39:23.585+0000</td><td>dbfs:/FileStore/ds2002-lab06/sourcedata/stream/rental/sakila_fact_rental.json</td></tr><tr><td>2.99</td><td>87</td><td>674</td><td>1150</td><td>2006-02-15 21:30:53</td><td>20050528</td><td>20050601</td><td>2</td><td>null</td><td>2023-05-02T15:39:23.585+0000</td><td>dbfs:/FileStore/ds2002-lab06/sourcedata/stream/rental/sakila_fact_rental.json</td></tr><tr><td>0.99</td><td>338</td><td>675</td><td>1273</td><td>2006-02-15 21:30:53</td><td>20050528</td><td>20050601</td><td>2</td><td>null</td><td>2023-05-02T15:39:23.585+0000</td><td>dbfs:/FileStore/ds2002-lab06/sourcedata/stream/rental/sakila_fact_rental.json</td></tr><tr><td>4.99</td><td>490</td><td>676</td><td>2329</td><td>2006-02-15 21:30:53</td><td>20050528</td><td>20050529</td><td>2</td><td>null</td><td>2023-05-02T15:39:23.585+0000</td><td>dbfs:/FileStore/ds2002-lab06/sourcedata/stream/rental/sakila_fact_rental.json</td></tr><tr><td>7.99</td><td>194</td><td>677</td><td>4558</td><td>2006-02-15 21:30:53</td><td>20050528</td><td>20050605</td><td>2</td><td>null</td><td>2023-05-02T15:39:23.585+0000</td><td>dbfs:/FileStore/ds2002-lab06/sourcedata/stream/rental/sakila_fact_rental.json</td></tr><tr><td>6.99</td><td>269</td><td>678</td><td>3741</td><td>2006-02-15 21:30:53</td><td>20050528</td><td>20050603</td><td>2</td><td>null</td><td>2023-05-02T15:39:23.585+0000</td><td>dbfs:/FileStore/ds2002-lab06/sourcedata/stream/rental/sakila_fact_rental.json</td></tr><tr><td>4.99</td><td>526</td><td>679</td><td>907</td><td>2006-02-15 21:30:53</td><td>20050528</td><td>20050606</td><td>2</td><td>null</td><td>2023-05-02T15:39:23.585+0000</td><td>dbfs:/FileStore/ds2002-lab06/sourcedata/stream/rental/sakila_fact_rental.json</td></tr><tr><td>2.99</td><td>482</td><td>680</td><td>4147</td><td>2006-02-15 21:30:53</td><td>20050528</td><td>20050602</td><td>2</td><td>null</td><td>2023-05-02T15:39:23.585+0000</td><td>dbfs:/FileStore/ds2002-lab06/sourcedata/stream/rental/sakila_fact_rental.json</td></tr><tr><td>2.99</td><td>531</td><td>681</td><td>3346</td><td>2006-02-15 21:30:53</td><td>20050528</td><td>20050601</td><td>1</td><td>null</td><td>2023-05-02T15:39:23.585+0000</td><td>dbfs:/FileStore/ds2002-lab06/sourcedata/stream/rental/sakila_fact_rental.json</td></tr><tr><td>4.99</td><td>148</td><td>682</td><td>3160</td><td>2006-02-15 21:30:53</td><td>20050528</td><td>20050529</td><td>2</td><td>null</td><td>2023-05-02T15:39:23.585+0000</td><td>dbfs:/FileStore/ds2002-lab06/sourcedata/stream/rental/sakila_fact_rental.json</td></tr><tr><td>2.99</td><td>197</td><td>683</td><td>2038</td><td>2006-02-15 21:30:53</td><td>20050529</td><td>20050602</td><td>1</td><td>null</td><td>2023-05-02T15:39:23.585+0000</td><td>dbfs:/FileStore/ds2002-lab06/sourcedata/stream/rental/sakila_fact_rental.json</td></tr><tr><td>6.99</td><td>461</td><td>684</td><td>3242</td><td>2006-02-15 21:30:53</td><td>20050529</td><td>20050604</td><td>2</td><td>null</td><td>2023-05-02T15:39:23.585+0000</td><td>dbfs:/FileStore/ds2002-lab06/sourcedata/stream/rental/sakila_fact_rental.json</td></tr><tr><td>6.99</td><td>172</td><td>685</td><td>1385</td><td>2006-02-15 21:30:53</td><td>20050529</td><td>20050605</td><td>2</td><td>null</td><td>2023-05-02T15:39:23.585+0000</td><td>dbfs:/FileStore/ds2002-lab06/sourcedata/stream/rental/sakila_fact_rental.json</td></tr><tr><td>4.99</td><td>411</td><td>686</td><td>2441</td><td>2006-02-15 21:30:53</td><td>20050529</td><td>20050530</td><td>1</td><td>null</td><td>2023-05-02T15:39:23.585+0000</td><td>dbfs:/FileStore/ds2002-lab06/sourcedata/stream/rental/sakila_fact_rental.json</td></tr><tr><td>0.99</td><td>250</td><td>687</td><td>1731</td><td>2006-02-15 21:30:53</td><td>20050529</td><td>20050531</td><td>1</td><td>null</td><td>2023-05-02T15:39:23.585+0000</td><td>dbfs:/FileStore/ds2002-lab06/sourcedata/stream/rental/sakila_fact_rental.json</td></tr><tr><td>4.99</td><td>162</td><td>688</td><td>4135</td><td>2006-02-15 21:30:53</td><td>20050529</td><td>20050602</td><td>1</td><td>null</td><td>2023-05-02T15:39:23.585+0000</td><td>dbfs:/FileStore/ds2002-lab06/sourcedata/stream/rental/sakila_fact_rental.json</td></tr><tr><td>3.99</td><td>571</td><td>689</td><td>742</td><td>2006-02-15 21:30:53</td><td>20050529</td><td>20050603</td><td>2</td><td>null</td><td>2023-05-02T15:39:23.585+0000</td><td>dbfs:/FileStore/ds2002-lab06/sourcedata/stream/rental/sakila_fact_rental.json</td></tr><tr><td>9.99</td><td>85</td><td>690</td><td>2646</td><td>2006-02-15 21:30:53</td><td>20050529</td><td>20050606</td><td>1</td><td>null</td><td>2023-05-02T15:39:23.585+0000</td><td>dbfs:/FileStore/ds2002-lab06/sourcedata/stream/rental/sakila_fact_rental.json</td></tr><tr><td>10.99</td><td>433</td><td>691</td><td>4034</td><td>2006-02-15 21:30:53</td><td>20050529</td><td>20050607</td><td>1</td><td>null</td><td>2023-05-02T15:39:23.585+0000</td><td>dbfs:/FileStore/ds2002-lab06/sourcedata/stream/rental/sakila_fact_rental.json</td></tr><tr><td>4.99</td><td>18</td><td>692</td><td>800</td><td>2006-02-15 21:30:53</td><td>20050529</td><td>20050602</td><td>2</td><td>null</td><td>2023-05-02T15:39:23.585+0000</td><td>dbfs:/FileStore/ds2002-lab06/sourcedata/stream/rental/sakila_fact_rental.json</td></tr><tr><td>2.99</td><td>190</td><td>693</td><td>635</td><td>2006-02-15 21:30:53</td><td>20050529</td><td>20050603</td><td>2</td><td>null</td><td>2023-05-02T15:39:23.585+0000</td><td>dbfs:/FileStore/ds2002-lab06/sourcedata/stream/rental/sakila_fact_rental.json</td></tr><tr><td>6.99</td><td>399</td><td>694</td><td>592</td><td>2006-02-15 21:30:53</td><td>20050529</td><td>20050605</td><td>1</td><td>null</td><td>2023-05-02T15:39:23.585+0000</td><td>dbfs:/FileStore/ds2002-lab06/sourcedata/stream/rental/sakila_fact_rental.json</td></tr><tr><td>3.99</td><td>528</td><td>695</td><td>4276</td><td>2006-02-15 21:30:53</td><td>20050529</td><td>20050603</td><td>1</td><td>null</td><td>2023-05-02T15:39:23.585+0000</td><td>dbfs:/FileStore/ds2002-lab06/sourcedata/stream/rental/sakila_fact_rental.json</td></tr><tr><td>2.99</td><td>19</td><td>696</td><td>2076</td><td>2006-02-15 21:30:53</td><td>20050529</td><td>20050601</td><td>1</td><td>null</td><td>2023-05-02T15:39:23.585+0000</td><td>dbfs:/FileStore/ds2002-lab06/sourcedata/stream/rental/sakila_fact_rental.json</td></tr><tr><td>7.99</td><td>387</td><td>697</td><td>3949</td><td>2006-02-15 21:30:53</td><td>20050529</td><td>20050604</td><td>2</td><td>null</td><td>2023-05-02T15:39:23.585+0000</td><td>dbfs:/FileStore/ds2002-lab06/sourcedata/stream/rental/sakila_fact_rental.json</td></tr><tr><td>0.99</td><td>109</td><td>698</td><td>1412</td><td>2006-02-15 21:30:53</td><td>20050529</td><td>20050601</td><td>1</td><td>null</td><td>2023-05-02T15:39:23.585+0000</td><td>dbfs:/FileStore/ds2002-lab06/sourcedata/stream/rental/sakila_fact_rental.json</td></tr><tr><td>3.99</td><td>246</td><td>699</td><td>130</td><td>2006-02-15 21:30:53</td><td>20050529</td><td>20050604</td><td>2</td><td>null</td><td>2023-05-02T15:39:23.585+0000</td><td>dbfs:/FileStore/ds2002-lab06/sourcedata/stream/rental/sakila_fact_rental.json</td></tr><tr><td>0.99</td><td>117</td><td>700</td><td>500</td><td>2006-02-15 21:30:53</td><td>20050529</td><td>20050530</td><td>1</td><td>null</td><td>2023-05-02T15:39:23.585+0000</td><td>dbfs:/FileStore/ds2002-lab06/sourcedata/stream/rental/sakila_fact_rental.json</td></tr><tr><td>2.99</td><td>112</td><td>701</td><td>372</td><td>2006-02-15 21:30:53</td><td>20050529</td><td>20050603</td><td>1</td><td>null</td><td>2023-05-02T15:39:23.585+0000</td><td>dbfs:/FileStore/ds2002-lab06/sourcedata/stream/rental/sakila_fact_rental.json</td></tr><tr><td>0.99</td><td>475</td><td>702</td><td>2556</td><td>2006-02-15 21:30:53</td><td>20050529</td><td>20050530</td><td>2</td><td>null</td><td>2023-05-02T15:39:23.585+0000</td><td>dbfs:/FileStore/ds2002-lab06/sourcedata/stream/rental/sakila_fact_rental.json</td></tr><tr><td>0.99</td><td>269</td><td>703</td><td>1123</td><td>2006-02-15 21:30:53</td><td>20050529</td><td>20050603</td><td>2</td><td>null</td><td>2023-05-02T15:39:23.585+0000</td><td>dbfs:/FileStore/ds2002-lab06/sourcedata/stream/rental/sakila_fact_rental.json</td></tr><tr><td>3.99</td><td>330</td><td>704</td><td>2628</td><td>2006-02-15 21:30:53</td><td>20050529</td><td>20050606</td><td>2</td><td>null</td><td>2023-05-02T15:39:23.585+0000</td><td>dbfs:/FileStore/ds2002-lab06/sourcedata/stream/rental/sakila_fact_rental.json</td></tr><tr><td>2.99</td><td>257</td><td>705</td><td>2809</td><td>2006-02-15 21:30:53</td><td>20050529</td><td>20050530</td><td>1</td><td>null</td><td>2023-05-02T15:39:23.585+0000</td><td>dbfs:/FileStore/ds2002-lab06/sourcedata/stream/rental/sakila_fact_rental.json</td></tr><tr><td>1.99</td><td>60</td><td>706</td><td>2278</td><td>2006-02-15 21:30:53</td><td>20050529</td><td>20050604</td><td>1</td><td>null</td><td>2023-05-02T15:39:23.585+0000</td><td>dbfs:/FileStore/ds2002-lab06/sourcedata/stream/rental/sakila_fact_rental.json</td></tr><tr><td>4.99</td><td>252</td><td>707</td><td>819</td><td>2006-02-15 21:30:53</td><td>20050529</td><td>20050530</td><td>1</td><td>null</td><td>2023-05-02T15:39:23.585+0000</td><td>dbfs:/FileStore/ds2002-lab06/sourcedata/stream/rental/sakila_fact_rental.json</td></tr><tr><td>0.99</td><td>127</td><td>708</td><td>3133</td><td>2006-02-15 21:30:53</td><td>20050529</td><td>20050531</td><td>2</td><td>null</td><td>2023-05-02T15:39:23.585+0000</td><td>dbfs:/FileStore/ds2002-lab06/sourcedata/stream/rental/sakila_fact_rental.json</td></tr><tr><td>7.99</td><td>479</td><td>709</td><td>2459</td><td>2006-02-15 21:30:53</td><td>20050529</td><td>20050606</td><td>1</td><td>null</td><td>2023-05-02T15:39:23.585+0000</td><td>dbfs:/FileStore/ds2002-lab06/sourcedata/stream/rental/sakila_fact_rental.json</td></tr><tr><td>2.99</td><td>518</td><td>710</td><td>194</td><td>2006-02-15 21:30:53</td><td>20050529</td><td>20050603</td><td>1</td><td>null</td><td>2023-05-02T15:39:23.585+0000</td><td>dbfs:/FileStore/ds2002-lab06/sourcedata/stream/rental/sakila_fact_rental.json</td></tr><tr><td>4.99</td><td>215</td><td>711</td><td>4581</td><td>2006-02-15 21:30:53</td><td>20050529</td><td>20050531</td><td>2</td><td>null</td><td>2023-05-02T15:39:23.585+0000</td><td>dbfs:/FileStore/ds2002-lab06/sourcedata/stream/rental/sakila_fact_rental.json</td></tr><tr><td>2.99</td><td>313</td><td>712</td><td>4191</td><td>2006-02-15 21:30:53</td><td>20050529</td><td>20050530</td><td>2</td><td>null</td><td>2023-05-02T15:39:23.585+0000</td><td>dbfs:/FileStore/ds2002-lab06/sourcedata/stream/rental/sakila_fact_rental.json</td></tr><tr><td>4.99</td><td>507</td><td>713</td><td>3664</td><td>2006-02-15 21:30:53</td><td>20050529</td><td>20050607</td><td>1</td><td>null</td><td>2023-05-02T15:39:23.585+0000</td><td>dbfs:/FileStore/ds2002-lab06/sourcedata/stream/rental/sakila_fact_rental.json</td></tr><tr><td>2.99</td><td>452</td><td>714</td><td>2010</td><td>2006-02-15 21:30:53</td><td>20050529</td><td>20050601</td><td>2</td><td>null</td><td>2023-05-02T15:39:23.585+0000</td><td>dbfs:/FileStore/ds2002-lab06/sourcedata/stream/rental/sakila_fact_rental.json</td></tr><tr><td>3.99</td><td>545</td><td>715</td><td>2030</td><td>2006-02-15 21:30:53</td><td>20050529</td><td>20050605</td><td>1</td><td>null</td><td>2023-05-02T15:39:23.585+0000</td><td>dbfs:/FileStore/ds2002-lab06/sourcedata/stream/rental/sakila_fact_rental.json</td></tr><tr><td>0.99</td><td>36</td><td>716</td><td>85</td><td>2006-02-15 21:30:53</td><td>20050529</td><td>20050601</td><td>2</td><td>null</td><td>2023-05-02T15:39:23.585+0000</td><td>dbfs:/FileStore/ds2002-lab06/sourcedata/stream/rental/sakila_fact_rental.json</td></tr><tr><td>0.99</td><td>412</td><td>717</td><td>1383</td><td>2006-02-15 21:30:53</td><td>20050529</td><td>20050530</td><td>2</td><td>null</td><td>2023-05-02T15:39:23.585+0000</td><td>dbfs:/FileStore/ds2002-lab06/sourcedata/stream/rental/sakila_fact_rental.json</td></tr><tr><td>2.99</td><td>498</td><td>718</td><td>1736</td><td>2006-02-15 21:30:53</td><td>20050529</td><td>20050602</td><td>1</td><td>null</td><td>2023-05-02T15:39:23.585+0000</td><td>dbfs:/FileStore/ds2002-lab06/sourcedata/stream/rental/sakila_fact_rental.json</td></tr><tr><td>2.99</td><td>245</td><td>719</td><td>267</td><td>2006-02-15 21:30:53</td><td>20050529</td><td>20050601</td><td>2</td><td>null</td><td>2023-05-02T15:39:23.585+0000</td><td>dbfs:/FileStore/ds2002-lab06/sourcedata/stream/rental/sakila_fact_rental.json</td></tr><tr><td>6.99</td><td>480</td><td>720</td><td>3687</td><td>2006-02-15 21:30:53</td><td>20050529</td><td>20050606</td><td>2</td><td>null</td><td>2023-05-02T15:39:23.585+0000</td><td>dbfs:/FileStore/ds2002-lab06/sourcedata/stream/rental/sakila_fact_rental.json</td></tr><tr><td>0.99</td><td>44</td><td>721</td><td>1116</td><td>2006-02-15 21:30:53</td><td>20050529</td><td>20050531</td><td>1</td><td>null</td><td>2023-05-02T15:39:23.585+0000</td><td>dbfs:/FileStore/ds2002-lab06/sourcedata/stream/rental/sakila_fact_rental.json</td></tr><tr><td>6.99</td><td>259</td><td>722</td><td>4540</td><td>2006-02-15 21:30:53</td><td>20050529</td><td>20050606</td><td>1</td><td>null</td><td>2023-05-02T15:39:23.585+0000</td><td>dbfs:/FileStore/ds2002-lab06/sourcedata/stream/rental/sakila_fact_rental.json</td></tr><tr><td>0.99</td><td>309</td><td>723</td><td>3407</td><td>2006-02-15 21:30:53</td><td>20050529</td><td>20050530</td><td>1</td><td>null</td><td>2023-05-02T15:39:23.585+0000</td><td>dbfs:/FileStore/ds2002-lab06/sourcedata/stream/rental/sakila_fact_rental.json</td></tr><tr><td>3.99</td><td>416</td><td>724</td><td>3770</td><td>2006-02-15 21:30:53</td><td>20050529</td><td>20050605</td><td>2</td><td>null</td><td>2023-05-02T15:39:23.585+0000</td><td>dbfs:/FileStore/ds2002-lab06/sourcedata/stream/rental/sakila_fact_rental.json</td></tr><tr><td>2.99</td><td>245</td><td>725</td><td>4088</td><td>2006-02-15 21:30:53</td><td>20050529</td><td>20050603</td><td>2</td><td>null</td><td>2023-05-02T15:39:23.585+0000</td><td>dbfs:/FileStore/ds2002-lab06/sourcedata/stream/rental/sakila_fact_rental.json</td></tr><tr><td>1.99</td><td>452</td><td>726</td><td>933</td><td>2006-02-15 21:30:53</td><td>20050529</td><td>20050605</td><td>2</td><td>null</td><td>2023-05-02T15:39:23.585+0000</td><td>dbfs:/FileStore/ds2002-lab06/sourcedata/stream/rental/sakila_fact_rental.json</td></tr><tr><td>2.99</td><td>484</td><td>727</td><td>1629</td><td>2006-02-15 21:30:53</td><td>20050529</td><td>20050530</td><td>1</td><td>null</td><td>2023-05-02T15:39:23.585+0000</td><td>dbfs:/FileStore/ds2002-lab06/sourcedata/stream/rental/sakila_fact_rental.json</td></tr><tr><td>2.99</td><td>551</td><td>728</td><td>242</td><td>2006-02-15 21:30:53</td><td>20050529</td><td>20050603</td><td>1</td><td>null</td><td>2023-05-02T15:39:23.585+0000</td><td>dbfs:/FileStore/ds2002-lab06/sourcedata/stream/rental/sakila_fact_rental.json</td></tr><tr><td>2.99</td><td>323</td><td>729</td><td>1688</td><td>2006-02-15 21:30:53</td><td>20050529</td><td>20050604</td><td>2</td><td>null</td><td>2023-05-02T15:39:23.585+0000</td><td>dbfs:/FileStore/ds2002-lab06/sourcedata/stream/rental/sakila_fact_rental.json</td></tr><tr><td>3.99</td><td>197</td><td>730</td><td>3473</td><td>2006-02-15 21:30:53</td><td>20050529</td><td>20050606</td><td>1</td><td>null</td><td>2023-05-02T15:39:23.585+0000</td><td>dbfs:/FileStore/ds2002-lab06/sourcedata/stream/rental/sakila_fact_rental.json</td></tr><tr><td>0.99</td><td>5</td><td>731</td><td>4124</td><td>2006-02-15 21:30:53</td><td>20050529</td><td>20050530</td><td>1</td><td>null</td><td>2023-05-02T15:39:23.585+0000</td><td>dbfs:/FileStore/ds2002-lab06/sourcedata/stream/rental/sakila_fact_rental.json</td></tr><tr><td>0.99</td><td>447</td><td>732</td><td>2530</td><td>2006-02-15 21:30:53</td><td>20050529</td><td>20050530</td><td>2</td><td>null</td><td>2023-05-02T15:39:23.585+0000</td><td>dbfs:/FileStore/ds2002-lab06/sourcedata/stream/rental/sakila_fact_rental.json</td></tr><tr><td>3.99</td><td>363</td><td>733</td><td>2951</td><td>2006-02-15 21:30:53</td><td>20050529</td><td>20050605</td><td>1</td><td>null</td><td>2023-05-02T15:39:23.585+0000</td><td>dbfs:/FileStore/ds2002-lab06/sourcedata/stream/rental/sakila_fact_rental.json</td></tr><tr><td>4.99</td><td>538</td><td>734</td><td>3084</td><td>2006-02-15 21:30:53</td><td>20050529</td><td>20050603</td><td>2</td><td>null</td><td>2023-05-02T15:39:23.585+0000</td><td>dbfs:/FileStore/ds2002-lab06/sourcedata/stream/rental/sakila_fact_rental.json</td></tr><tr><td>7.99</td><td>454</td><td>735</td><td>3421</td><td>2006-02-15 21:30:53</td><td>20050529</td><td>20050607</td><td>1</td><td>null</td><td>2023-05-02T15:39:23.585+0000</td><td>dbfs:/FileStore/ds2002-lab06/sourcedata/stream/rental/sakila_fact_rental.json</td></tr><tr><td>3.99</td><td>276</td><td>736</td><td>3689</td><td>2006-02-15 21:30:53</td><td>20050529</td><td>20050605</td><td>2</td><td>null</td><td>2023-05-02T15:39:23.585+0000</td><td>dbfs:/FileStore/ds2002-lab06/sourcedata/stream/rental/sakila_fact_rental.json</td></tr><tr><td>4.99</td><td>589</td><td>737</td><td>769</td><td>2006-02-15 21:30:53</td><td>20050529</td><td>20050604</td><td>2</td><td>null</td><td>2023-05-02T15:39:23.585+0000</td><td>dbfs:/FileStore/ds2002-lab06/sourcedata/stream/rental/sakila_fact_rental.json</td></tr><tr><td>4.99</td><td>256</td><td>738</td><td>2284</td><td>2006-02-15 21:30:53</td><td>20050529</td><td>20050606</td><td>2</td><td>null</td><td>2023-05-02T15:39:23.585+0000</td><td>dbfs:/FileStore/ds2002-lab06/sourcedata/stream/rental/sakila_fact_rental.json</td></tr><tr><td>6.99</td><td>84</td><td>739</td><td>1183</td><td>2006-02-15 21:30:53</td><td>20050529</td><td>20050606</td><td>2</td><td>null</td><td>2023-05-02T15:39:23.585+0000</td><td>dbfs:/FileStore/ds2002-lab06/sourcedata/stream/rental/sakila_fact_rental.json</td></tr><tr><td>5.99</td><td>89</td><td>740</td><td>600</td><td>2006-02-15 21:30:53</td><td>20050529</td><td>20050604</td><td>2</td><td>null</td><td>2023-05-02T15:39:23.585+0000</td><td>dbfs:/FileStore/ds2002-lab06/sourcedata/stream/rental/sakila_fact_rental.json</td></tr><tr><td>4.99</td><td>495</td><td>741</td><td>3189</td><td>2006-02-15 21:30:53</td><td>20050529</td><td>20050604</td><td>1</td><td>null</td><td>2023-05-02T15:39:23.585+0000</td><td>dbfs:/FileStore/ds2002-lab06/sourcedata/stream/rental/sakila_fact_rental.json</td></tr><tr><td>6.99</td><td>483</td><td>742</td><td>273</td><td>2006-02-15 21:30:53</td><td>20050529</td><td>20050605</td><td>1</td><td>null</td><td>2023-05-02T15:39:23.585+0000</td><td>dbfs:/FileStore/ds2002-lab06/sourcedata/stream/rental/sakila_fact_rental.json</td></tr><tr><td>4.99</td><td>548</td><td>743</td><td>2528</td><td>2006-02-15 21:30:53</td><td>20050529</td><td>20050606</td><td>2</td><td>null</td><td>2023-05-02T15:39:23.585+0000</td><td>dbfs:/FileStore/ds2002-lab06/sourcedata/stream/rental/sakila_fact_rental.json</td></tr><tr><td>4.99</td><td>420</td><td>744</td><td>3722</td><td>2006-02-15 21:30:53</td><td>20050529</td><td>20050601</td><td>2</td><td>null</td><td>2023-05-02T15:39:23.585+0000</td><td>dbfs:/FileStore/ds2002-lab06/sourcedata/stream/rental/sakila_fact_rental.json</td></tr><tr><td>4.99</td><td>152</td><td>745</td><td>581</td><td>2006-02-15 21:30:53</td><td>20050529</td><td>20050601</td><td>1</td><td>null</td><td>2023-05-02T15:39:23.585+0000</td><td>dbfs:/FileStore/ds2002-lab06/sourcedata/stream/rental/sakila_fact_rental.json</td></tr><tr><td>2.99</td><td>130</td><td>746</td><td>4272</td><td>2006-02-15 21:30:53</td><td>20050529</td><td>20050602</td><td>2</td><td>null</td><td>2023-05-02T15:39:23.585+0000</td><td>dbfs:/FileStore/ds2002-lab06/sourcedata/stream/rental/sakila_fact_rental.json</td></tr><tr><td>4.99</td><td>291</td><td>747</td><td>1993</td><td>2006-02-15 21:30:53</td><td>20050529</td><td>20050605</td><td>1</td><td>null</td><td>2023-05-02T15:39:23.585+0000</td><td>dbfs:/FileStore/ds2002-lab06/sourcedata/stream/rental/sakila_fact_rental.json</td></tr><tr><td>2.99</td><td>7</td><td>748</td><td>2803</td><td>2006-02-15 21:30:53</td><td>20050529</td><td>20050603</td><td>1</td><td>null</td><td>2023-05-02T15:39:23.585+0000</td><td>dbfs:/FileStore/ds2002-lab06/sourcedata/stream/rental/sakila_fact_rental.json</td></tr><tr><td>4.99</td><td>375</td><td>749</td><td>1146</td><td>2006-02-15 21:30:53</td><td>20050529</td><td>20050531</td><td>2</td><td>null</td><td>2023-05-02T15:39:23.585+0000</td><td>dbfs:/FileStore/ds2002-lab06/sourcedata/stream/rental/sakila_fact_rental.json</td></tr><tr><td>4.99</td><td>269</td><td>750</td><td>730</td><td>2006-02-15 21:30:53</td><td>20050529</td><td>20050530</td><td>1</td><td>null</td><td>2023-05-02T15:39:23.585+0000</td><td>dbfs:/FileStore/ds2002-lab06/sourcedata/stream/rental/sakila_fact_rental.json</td></tr><tr><td>0.99</td><td>53</td><td>751</td><td>2711</td><td>2006-02-15 21:30:53</td><td>20050529</td><td>20050602</td><td>1</td><td>null</td><td>2023-05-02T15:39:23.585+0000</td><td>dbfs:/FileStore/ds2002-lab06/sourcedata/stream/rental/sakila_fact_rental.json</td></tr><tr><td>4.99</td><td>126</td><td>752</td><td>1720</td><td>2006-02-15 21:30:53</td><td>20050529</td><td>20050604</td><td>1</td><td>null</td><td>2023-05-02T15:39:23.585+0000</td><td>dbfs:/FileStore/ds2002-lab06/sourcedata/stream/rental/sakila_fact_rental.json</td></tr><tr><td>3.99</td><td>135</td><td>753</td><td>1021</td><td>2006-02-15 21:30:53</td><td>20050529</td><td>20050605</td><td>2</td><td>null</td><td>2023-05-02T15:39:23.585+0000</td><td>dbfs:/FileStore/ds2002-lab06/sourcedata/stream/rental/sakila_fact_rental.json</td></tr><tr><td>2.99</td><td>281</td><td>754</td><td>734</td><td>2006-02-15 21:30:53</td><td>20050529</td><td>20050604</td><td>2</td><td>null</td><td>2023-05-02T15:39:23.585+0000</td><td>dbfs:/FileStore/ds2002-lab06/sourcedata/stream/rental/sakila_fact_rental.json</td></tr><tr><td>2.99</td><td>576</td><td>755</td><td>3090</td><td>2006-02-15 21:30:53</td><td>20050529</td><td>20050601</td><td>2</td><td>null</td><td>2023-05-02T15:39:23.585+0000</td><td>dbfs:/FileStore/ds2002-lab06/sourcedata/stream/rental/sakila_fact_rental.json</td></tr><tr><td>5.99</td><td>201</td><td>756</td><td>3152</td><td>2006-02-15 21:30:53</td><td>20050529</td><td>20050604</td><td>1</td><td>null</td><td>2023-05-02T15:39:23.585+0000</td><td>dbfs:/FileStore/ds2002-lab06/sourcedata/stream/rental/sakila_fact_rental.json</td></tr><tr><td>7.99</td><td>435</td><td>757</td><td>1067</td><td>2006-02-15 21:30:53</td><td>20050529</td><td>20050607</td><td>1</td><td>null</td><td>2023-05-02T15:39:23.585+0000</td><td>dbfs:/FileStore/ds2002-lab06/sourcedata/stream/rental/sakila_fact_rental.json</td></tr><tr><td>4.99</td><td>563</td><td>758</td><td>1191</td><td>2006-02-15 21:30:53</td><td>20050529</td><td>20050601</td><td>2</td><td>null</td><td>2023-05-02T15:39:23.585+0000</td><td>dbfs:/FileStore/ds2002-lab06/sourcedata/stream/rental/sakila_fact_rental.json</td></tr><tr><td>6.99</td><td>179</td><td>759</td><td>2367</td><td>2006-02-15 21:30:53</td><td>20050529</td><td>20050607</td><td>2</td><td>null</td><td>2023-05-02T15:39:23.585+0000</td><td>dbfs:/FileStore/ds2002-lab06/sourcedata/stream/rental/sakila_fact_rental.json</td></tr><tr><td>5.99</td><td>77</td><td>760</td><td>3250</td><td>2006-02-15 21:30:53</td><td>20050529</td><td>20050602</td><td>1</td><td>null</td><td>2023-05-02T15:39:23.585+0000</td><td>dbfs:/FileStore/ds2002-lab06/sourcedata/stream/rental/sakila_fact_rental.json</td></tr><tr><td>0.99</td><td>58</td><td>761</td><td>2342</td><td>2006-02-15 21:30:53</td><td>20050529</td><td>20050603</td><td>2</td><td>null</td><td>2023-05-02T15:39:23.585+0000</td><td>dbfs:/FileStore/ds2002-lab06/sourcedata/stream/rental/sakila_fact_rental.json</td></tr><tr><td>7.99</td><td>146</td><td>762</td><td>3683</td><td>2006-02-15 21:30:53</td><td>20050529</td><td>20050606</td><td>1</td><td>null</td><td>2023-05-02T15:39:23.585+0000</td><td>dbfs:/FileStore/ds2002-lab06/sourcedata/stream/rental/sakila_fact_rental.json</td></tr><tr><td>4.99</td><td>50</td><td>763</td><td>2022</td><td>2006-02-15 21:30:53</td><td>20050529</td><td>20050531</td><td>1</td><td>null</td><td>2023-05-02T15:39:23.585+0000</td><td>dbfs:/FileStore/ds2002-lab06/sourcedata/stream/rental/sakila_fact_rental.json</td></tr><tr><td>4.99</td><td>149</td><td>764</td><td>1069</td><td>2006-02-15 21:30:53</td><td>20050529</td><td>20050531</td><td>1</td><td>null</td><td>2023-05-02T15:39:23.585+0000</td><td>dbfs:/FileStore/ds2002-lab06/sourcedata/stream/rental/sakila_fact_rental.json</td></tr><tr><td>1.99</td><td>69</td><td>765</td><td>515</td><td>2006-02-15 21:30:53</td><td>20050529</td><td>20050602</td><td>1</td><td>null</td><td>2023-05-02T15:39:23.585+0000</td><td>dbfs:/FileStore/ds2002-lab06/sourcedata/stream/rental/sakila_fact_rental.json</td></tr><tr><td>8.99</td><td>383</td><td>766</td><td>2154</td><td>2006-02-15 21:30:53</td><td>20050529</td><td>20050606</td><td>1</td><td>null</td><td>2023-05-02T15:39:23.585+0000</td><td>dbfs:/FileStore/ds2002-lab06/sourcedata/stream/rental/sakila_fact_rental.json</td></tr><tr><td>2.99</td><td>67</td><td>767</td><td>687</td><td>2006-02-15 21:30:53</td><td>20050529</td><td>20050602</td><td>2</td><td>null</td><td>2023-05-02T15:39:23.585+0000</td><td>dbfs:/FileStore/ds2002-lab06/sourcedata/stream/rental/sakila_fact_rental.json</td></tr><tr><td>4.99</td><td>566</td><td>768</td><td>2895</td><td>2006-02-15 21:30:53</td><td>20050529</td><td>20050607</td><td>2</td><td>null</td><td>2023-05-02T15:39:23.585+0000</td><td>dbfs:/FileStore/ds2002-lab06/sourcedata/stream/rental/sakila_fact_rental.json</td></tr><tr><td>2.99</td><td>575</td><td>769</td><td>1523</td><td>2006-02-15 21:30:53</td><td>20050529</td><td>20050601</td><td>1</td><td>null</td><td>2023-05-02T15:39:23.585+0000</td><td>dbfs:/FileStore/ds2002-lab06/sourcedata/stream/rental/sakila_fact_rental.json</td></tr><tr><td>4.99</td><td>405</td><td>770</td><td>2491</td><td>2006-02-15 21:30:53</td><td>20050529</td><td>20050607</td><td>2</td><td>null</td><td>2023-05-02T15:39:23.585+0000</td><td>dbfs:/FileStore/ds2002-lab06/sourcedata/stream/rental/sakila_fact_rental.json</td></tr><tr><td>2.99</td><td>476</td><td>771</td><td>353</td><td>2006-02-15 21:30:53</td><td>20050529</td><td>20050601</td><td>2</td><td>null</td><td>2023-05-02T15:39:23.585+0000</td><td>dbfs:/FileStore/ds2002-lab06/sourcedata/stream/rental/sakila_fact_rental.json</td></tr><tr><td>5.99</td><td>556</td><td>772</td><td>3319</td><td>2006-02-15 21:30:53</td><td>20050529</td><td>20050606</td><td>1</td><td>null</td><td>2023-05-02T15:39:23.585+0000</td><td>dbfs:/FileStore/ds2002-lab06/sourcedata/stream/rental/sakila_fact_rental.json</td></tr><tr><td>5.99</td><td>563</td><td>773</td><td>245</td><td>2006-02-15 21:30:53</td><td>20050529</td><td>20050607</td><td>1</td><td>null</td><td>2023-05-02T15:39:23.585+0000</td><td>dbfs:/FileStore/ds2002-lab06/sourcedata/stream/rental/sakila_fact_rental.json</td></tr><tr><td>4.99</td><td>575</td><td>774</td><td>1188</td><td>2006-02-15 21:30:53</td><td>20050529</td><td>20050601</td><td>1</td><td>null</td><td>2023-05-02T15:39:23.585+0000</td><td>dbfs:/FileStore/ds2002-lab06/sourcedata/stream/rental/sakila_fact_rental.json</td></tr><tr><td>0.99</td><td>124</td><td>775</td><td>1197</td><td>2006-02-15 21:30:53</td><td>20050529</td><td>20050530</td><td>2</td><td>null</td><td>2023-05-02T15:39:23.585+0000</td><td>dbfs:/FileStore/ds2002-lab06/sourcedata/stream/rental/sakila_fact_rental.json</td></tr><tr><td>0.99</td><td>113</td><td>776</td><td>4339</td><td>2006-02-15 21:30:53</td><td>20050529</td><td>20050603</td><td>1</td><td>null</td><td>2023-05-02T15:39:23.585+0000</td><td>dbfs:/FileStore/ds2002-lab06/sourcedata/stream/rental/sakila_fact_rental.json</td></tr><tr><td>4.99</td><td>360</td><td>777</td><td>451</td><td>2006-02-15 21:30:53</td><td>20050529</td><td>20050603</td><td>2</td><td>null</td><td>2023-05-02T15:39:23.585+0000</td><td>dbfs:/FileStore/ds2002-lab06/sourcedata/stream/rental/sakila_fact_rental.json</td></tr><tr><td>3.99</td><td>535</td><td>778</td><td>1816</td><td>2006-02-15 21:30:53</td><td>20050529</td><td>20050605</td><td>1</td><td>null</td><td>2023-05-02T15:39:23.585+0000</td><td>dbfs:/FileStore/ds2002-lab06/sourcedata/stream/rental/sakila_fact_rental.json</td></tr><tr><td>6.99</td><td>105</td><td>779</td><td>533</td><td>2006-02-15 21:30:53</td><td>20050529</td><td>20050606</td><td>1</td><td>null</td><td>2023-05-02T15:39:23.585+0000</td><td>dbfs:/FileStore/ds2002-lab06/sourcedata/stream/rental/sakila_fact_rental.json</td></tr><tr><td>3.99</td><td>300</td><td>780</td><td>1919</td><td>2006-02-15 21:30:53</td><td>20050529</td><td>20050606</td><td>1</td><td>null</td><td>2023-05-02T15:39:23.585+0000</td><td>dbfs:/FileStore/ds2002-lab06/sourcedata/stream/rental/sakila_fact_rental.json</td></tr><tr><td>0.99</td><td>313</td><td>781</td><td>88</td><td>2006-02-15 21:30:53</td><td>20050529</td><td>20050530</td><td>1</td><td>null</td><td>2023-05-02T15:39:23.585+0000</td><td>dbfs:/FileStore/ds2002-lab06/sourcedata/stream/rental/sakila_fact_rental.json</td></tr><tr><td>1.99</td><td>596</td><td>782</td><td>2255</td><td>2006-02-15 21:30:53</td><td>20050529</td><td>20050602</td><td>2</td><td>null</td><td>2023-05-02T15:39:23.585+0000</td><td>dbfs:/FileStore/ds2002-lab06/sourcedata/stream/rental/sakila_fact_rental.json</td></tr><tr><td>5.99</td><td>53</td><td>783</td><td>3046</td><td>2006-02-15 21:30:53</td><td>20050529</td><td>20050606</td><td>2</td><td>null</td><td>2023-05-02T15:39:23.585+0000</td><td>dbfs:/FileStore/ds2002-lab06/sourcedata/stream/rental/sakila_fact_rental.json</td></tr><tr><td>2.99</td><td>352</td><td>784</td><td>2936</td><td>2006-02-15 21:30:53</td><td>20050529</td><td>20050601</td><td>2</td><td>null</td><td>2023-05-02T15:39:23.585+0000</td><td>dbfs:/FileStore/ds2002-lab06/sourcedata/stream/rental/sakila_fact_rental.json</td></tr><tr><td>4.99</td><td>72</td><td>785</td><td>39</td><td>2006-02-15 21:30:53</td><td>20050529</td><td>20050530</td><td>1</td><td>null</td><td>2023-05-02T15:39:23.585+0000</td><td>dbfs:/FileStore/ds2002-lab06/sourcedata/stream/rental/sakila_fact_rental.json</td></tr><tr><td>9.99</td><td>439</td><td>786</td><td>2637</td><td>2006-02-15 21:30:53</td><td>20050529</td><td>20050607</td><td>2</td><td>null</td><td>2023-05-02T15:39:23.585+0000</td><td>dbfs:/FileStore/ds2002-lab06/sourcedata/stream/rental/sakila_fact_rental.json</td></tr><tr><td>2.99</td><td>27</td><td>787</td><td>3919</td><td>2006-02-15 21:30:53</td><td>20050529</td><td>20050607</td><td>2</td><td>null</td><td>2023-05-02T15:39:23.585+0000</td><td>dbfs:/FileStore/ds2002-lab06/sourcedata/stream/rental/sakila_fact_rental.json</td></tr><tr><td>2.99</td><td>562</td><td>788</td><td>763</td><td>2006-02-15 21:30:53</td><td>20050529</td><td>20050531</td><td>1</td><td>null</td><td>2023-05-02T15:39:23.585+0000</td><td>dbfs:/FileStore/ds2002-lab06/sourcedata/stream/rental/sakila_fact_rental.json</td></tr><tr><td>4.99</td><td>553</td><td>789</td><td>708</td><td>2006-02-15 21:30:53</td><td>20050529</td><td>20050606</td><td>1</td><td>null</td><td>2023-05-02T15:39:23.585+0000</td><td>dbfs:/FileStore/ds2002-lab06/sourcedata/stream/rental/sakila_fact_rental.json</td></tr><tr><td>2.99</td><td>593</td><td>790</td><td>2858</td><td>2006-02-15 21:30:53</td><td>20050529</td><td>20050602</td><td>2</td><td>null</td><td>2023-05-02T15:39:23.585+0000</td><td>dbfs:/FileStore/ds2002-lab06/sourcedata/stream/rental/sakila_fact_rental.json</td></tr><tr><td>0.99</td><td>284</td><td>791</td><td>1554</td><td>2006-02-15 21:30:53</td><td>20050529</td><td>20050601</td><td>1</td><td>null</td><td>2023-05-02T15:39:23.585+0000</td><td>dbfs:/FileStore/ds2002-lab06/sourcedata/stream/rental/sakila_fact_rental.json</td></tr><tr><td>0.99</td><td>261</td><td>792</td><td>2841</td><td>2006-02-15 21:30:53</td><td>20050529</td><td>20050531</td><td>1</td><td>null</td><td>2023-05-02T15:39:23.585+0000</td><td>dbfs:/FileStore/ds2002-lab06/sourcedata/stream/rental/sakila_fact_rental.json</td></tr><tr><td>5.99</td><td>528</td><td>793</td><td>379</td><td>2006-02-15 21:30:53</td><td>20050529</td><td>20050606</td><td>2</td><td>null</td><td>2023-05-02T15:39:23.585+0000</td><td>dbfs:/FileStore/ds2002-lab06/sourcedata/stream/rental/sakila_fact_rental.json</td></tr><tr><td>4.99</td><td>50</td><td>794</td><td>1995</td><td>2006-02-15 21:30:53</td><td>20050529</td><td>20050605</td><td>1</td><td>null</td><td>2023-05-02T15:39:23.585+0000</td><td>dbfs:/FileStore/ds2002-lab06/sourcedata/stream/rental/sakila_fact_rental.json</td></tr><tr><td>0.99</td><td>551</td><td>795</td><td>609</td><td>2006-02-15 21:30:53</td><td>20050529</td><td>20050601</td><td>2</td><td>null</td><td>2023-05-02T15:39:23.585+0000</td><td>dbfs:/FileStore/ds2002-lab06/sourcedata/stream/rental/sakila_fact_rental.json</td></tr><tr><td>2.99</td><td>26</td><td>796</td><td>2697</td><td>2006-02-15 21:30:53</td><td>20050529</td><td>20050603</td><td>2</td><td>null</td><td>2023-05-02T15:39:23.585+0000</td><td>dbfs:/FileStore/ds2002-lab06/sourcedata/stream/rental/sakila_fact_rental.json</td></tr><tr><td>1.99</td><td>244</td><td>797</td><td>1446</td><td>2006-02-15 21:30:53</td><td>20050529</td><td>20050603</td><td>1</td><td>null</td><td>2023-05-02T15:39:23.585+0000</td><td>dbfs:/FileStore/ds2002-lab06/sourcedata/stream/rental/sakila_fact_rental.json</td></tr><tr><td>0.99</td><td>134</td><td>798</td><td>1102</td><td>2006-02-15 21:30:53</td><td>20050529</td><td>20050601</td><td>2</td><td>null</td><td>2023-05-02T15:39:23.585+0000</td><td>dbfs:/FileStore/ds2002-lab06/sourcedata/stream/rental/sakila_fact_rental.json</td></tr><tr><td>4.99</td><td>429</td><td>799</td><td>1713</td><td>2006-02-15 21:30:53</td><td>20050529</td><td>20050605</td><td>1</td><td>null</td><td>2023-05-02T15:39:23.585+0000</td><td>dbfs:/FileStore/ds2002-lab06/sourcedata/stream/rental/sakila_fact_rental.json</td></tr><tr><td>0.99</td><td>472</td><td>800</td><td>441</td><td>2006-02-15 21:30:53</td><td>20050529</td><td>20050530</td><td>1</td><td>null</td><td>2023-05-02T15:39:23.585+0000</td><td>dbfs:/FileStore/ds2002-lab06/sourcedata/stream/rental/sakila_fact_rental.json</td></tr><tr><td>1.99</td><td>402</td><td>801</td><td>1642</td><td>2006-02-15 21:30:53</td><td>20050529</td><td>20050604</td><td>2</td><td>null</td><td>2023-05-02T15:39:23.585+0000</td><td>dbfs:/FileStore/ds2002-lab06/sourcedata/stream/rental/sakila_fact_rental.json</td></tr><tr><td>4.99</td><td>350</td><td>802</td><td>785</td><td>2006-02-15 21:30:53</td><td>20050529</td><td>20050531</td><td>2</td><td>null</td><td>2023-05-02T15:39:23.585+0000</td><td>dbfs:/FileStore/ds2002-lab06/sourcedata/stream/rental/sakila_fact_rental.json</td></tr><tr><td>4.99</td><td>32</td><td>803</td><td>1602</td><td>2006-02-15 21:30:53</td><td>20050529</td><td>20050530</td><td>2</td><td>null</td><td>2023-05-02T15:39:23.585+0000</td><td>dbfs:/FileStore/ds2002-lab06/sourcedata/stream/rental/sakila_fact_rental.json</td></tr><tr><td>9.99</td><td>171</td><td>804</td><td>3909</td><td>2006-02-15 21:30:53</td><td>20050529</td><td>20050606</td><td>1</td><td>null</td><td>2023-05-02T15:39:23.585+0000</td><td>dbfs:/FileStore/ds2002-lab06/sourcedata/stream/rental/sakila_fact_rental.json</td></tr><tr><td>3.99</td><td>232</td><td>805</td><td>3132</td><td>2006-02-15 21:30:53</td><td>20050529</td><td>20050607</td><td>2</td><td>null</td><td>2023-05-02T15:39:23.585+0000</td><td>dbfs:/FileStore/ds2002-lab06/sourcedata/stream/rental/sakila_fact_rental.json</td></tr><tr><td>4.99</td><td>435</td><td>806</td><td>2386</td><td>2006-02-15 21:30:53</td><td>20050529</td><td>20050531</td><td>2</td><td>null</td><td>2023-05-02T15:39:23.585+0000</td><td>dbfs:/FileStore/ds2002-lab06/sourcedata/stream/rental/sakila_fact_rental.json</td></tr><tr><td>2.99</td><td>235</td><td>807</td><td>2195</td><td>2006-02-15 21:30:53</td><td>20050529</td><td>20050603</td><td>2</td><td>null</td><td>2023-05-02T15:39:23.585+0000</td><td>dbfs:/FileStore/ds2002-lab06/sourcedata/stream/rental/sakila_fact_rental.json</td></tr><tr><td>3.99</td><td>104</td><td>808</td><td>1928</td><td>2006-02-15 21:30:53</td><td>20050529</td><td>20050606</td><td>2</td><td>null</td><td>2023-05-02T15:39:23.585+0000</td><td>dbfs:/FileStore/ds2002-lab06/sourcedata/stream/rental/sakila_fact_rental.json</td></tr><tr><td>3.99</td><td>222</td><td>809</td><td>2114</td><td>2006-02-15 21:30:53</td><td>20050529</td><td>20050605</td><td>2</td><td>null</td><td>2023-05-02T15:39:23.585+0000</td><td>dbfs:/FileStore/ds2002-lab06/sourcedata/stream/rental/sakila_fact_rental.json</td></tr><tr><td>4.99</td><td>346</td><td>810</td><td>2533</td><td>2006-02-15 21:30:53</td><td>20050529</td><td>20050604</td><td>2</td><td>null</td><td>2023-05-02T15:39:23.585+0000</td><td>dbfs:/FileStore/ds2002-lab06/sourcedata/stream/rental/sakila_fact_rental.json</td></tr><tr><td>1.99</td><td>401</td><td>811</td><td>4419</td><td>2006-02-15 21:30:53</td><td>20050529</td><td>20050602</td><td>2</td><td>null</td><td>2023-05-02T15:39:23.585+0000</td><td>dbfs:/FileStore/ds2002-lab06/sourcedata/stream/rental/sakila_fact_rental.json</td></tr><tr><td>4.99</td><td>225</td><td>812</td><td>1099</td><td>2006-02-15 21:30:53</td><td>20050529</td><td>20050530</td><td>2</td><td>null</td><td>2023-05-02T15:39:23.585+0000</td><td>dbfs:/FileStore/ds2002-lab06/sourcedata/stream/rental/sakila_fact_rental.json</td></tr><tr><td>5.99</td><td>344</td><td>813</td><td>4554</td><td>2006-02-15 21:30:53</td><td>20050529</td><td>20050605</td><td>1</td><td>null</td><td>2023-05-02T15:39:23.585+0000</td><td>dbfs:/FileStore/ds2002-lab06/sourcedata/stream/rental/sakila_fact_rental.json</td></tr><tr><td>6.99</td><td>134</td><td>814</td><td>1572</td><td>2006-02-15 21:30:53</td><td>20050529</td><td>20050607</td><td>1</td><td>null</td><td>2023-05-02T15:39:23.585+0000</td><td>dbfs:/FileStore/ds2002-lab06/sourcedata/stream/rental/sakila_fact_rental.json</td></tr><tr><td>0.99</td><td>14</td><td>815</td><td>3757</td><td>2006-02-15 21:30:53</td><td>20050529</td><td>20050603</td><td>1</td><td>null</td><td>2023-05-02T15:39:23.585+0000</td><td>dbfs:/FileStore/ds2002-lab06/sourcedata/stream/rental/sakila_fact_rental.json</td></tr><tr><td>7.99</td><td>474</td><td>816</td><td>630</td><td>2006-02-15 21:30:53</td><td>20050529</td><td>20050606</td><td>2</td><td>null</td><td>2023-05-02T15:39:23.585+0000</td><td>dbfs:/FileStore/ds2002-lab06/sourcedata/stream/rental/sakila_fact_rental.json</td></tr><tr><td>2.99</td><td>554</td><td>817</td><td>186</td><td>2006-02-15 21:30:53</td><td>20050529</td><td>20050531</td><td>1</td><td>null</td><td>2023-05-02T15:39:23.585+0000</td><td>dbfs:/FileStore/ds2002-lab06/sourcedata/stream/rental/sakila_fact_rental.json</td></tr><tr><td>4.99</td><td>321</td><td>818</td><td>4106</td><td>2006-02-15 21:30:53</td><td>20050529</td><td>20050602</td><td>2</td><td>null</td><td>2023-05-02T15:39:23.585+0000</td><td>dbfs:/FileStore/ds2002-lab06/sourcedata/stream/rental/sakila_fact_rental.json</td></tr><tr><td>3.99</td><td>511</td><td>819</td><td>623</td><td>2006-02-15 21:30:53</td><td>20050529</td><td>20050602</td><td>2</td><td>null</td><td>2023-05-02T15:39:23.585+0000</td><td>dbfs:/FileStore/ds2002-lab06/sourcedata/stream/rental/sakila_fact_rental.json</td></tr><tr><td>8.99</td><td>22</td><td>820</td><td>2584</td><td>2006-02-15 21:30:53</td><td>20050529</td><td>20050607</td><td>2</td><td>null</td><td>2023-05-02T15:39:23.585+0000</td><td>dbfs:/FileStore/ds2002-lab06/sourcedata/stream/rental/sakila_fact_rental.json</td></tr><tr><td>0.99</td><td>348</td><td>821</td><td>3380</td><td>2006-02-15 21:30:53</td><td>20050529</td><td>20050604</td><td>1</td><td>null</td><td>2023-05-02T15:39:23.585+0000</td><td>dbfs:/FileStore/ds2002-lab06/sourcedata/stream/rental/sakila_fact_rental.json</td></tr><tr><td>9.99</td><td>480</td><td>822</td><td>2634</td><td>2006-02-15 21:30:53</td><td>20050529</td><td>20050607</td><td>1</td><td>null</td><td>2023-05-02T15:39:23.585+0000</td><td>dbfs:/FileStore/ds2002-lab06/sourcedata/stream/rental/sakila_fact_rental.json</td></tr><tr><td>4.99</td><td>441</td><td>823</td><td>3249</td><td>2006-02-15 21:30:53</td><td>20050529</td><td>20050530</td><td>1</td><td>null</td><td>2023-05-02T15:39:23.585+0000</td><td>dbfs:/FileStore/ds2002-lab06/sourcedata/stream/rental/sakila_fact_rental.json</td></tr><tr><td>4.99</td><td>357</td><td>824</td><td>3518</td><td>2006-02-15 21:30:53</td><td>20050529</td><td>20050531</td><td>1</td><td>null</td><td>2023-05-02T15:39:23.585+0000</td><td>dbfs:/FileStore/ds2002-lab06/sourcedata/stream/rental/sakila_fact_rental.json</td></tr><tr><td>0.99</td><td>371</td><td>825</td><td>712</td><td>2006-02-15 21:30:53</td><td>20050529</td><td>20050604</td><td>2</td><td>null</td><td>2023-05-02T15:39:23.585+0000</td><td>dbfs:/FileStore/ds2002-lab06/sourcedata/stream/rental/sakila_fact_rental.json</td></tr><tr><td>6.99</td><td>207</td><td>826</td><td>2263</td><td>2006-02-15 21:30:53</td><td>20050529</td><td>20050608</td><td>1</td><td>null</td><td>2023-05-02T15:39:23.585+0000</td><td>dbfs:/FileStore/ds2002-lab06/sourcedata/stream/rental/sakila_fact_rental.json</td></tr><tr><td>2.99</td><td>573</td><td>827</td><td>62</td><td>2006-02-15 21:30:53</td><td>20050529</td><td>20050606</td><td>1</td><td>null</td><td>2023-05-02T15:39:23.585+0000</td><td>dbfs:/FileStore/ds2002-lab06/sourcedata/stream/rental/sakila_fact_rental.json</td></tr><tr><td>2.99</td><td>217</td><td>828</td><td>2468</td><td>2006-02-15 21:30:53</td><td>20050529</td><td>20050530</td><td>1</td><td>null</td><td>2023-05-02T15:39:23.585+0000</td><td>dbfs:/FileStore/ds2002-lab06/sourcedata/stream/rental/sakila_fact_rental.json</td></tr><tr><td>2.99</td><td>371</td><td>829</td><td>1684</td><td>2006-02-15 21:30:53</td><td>20050529</td><td>20050606</td><td>1</td><td>null</td><td>2023-05-02T15:39:23.585+0000</td><td>dbfs:/FileStore/ds2002-lab06/sourcedata/stream/rental/sakila_fact_rental.json</td></tr><tr><td>2.99</td><td>3</td><td>830</td><td>3464</td><td>2006-02-15 21:30:53</td><td>20050529</td><td>20050601</td><td>1</td><td>null</td><td>2023-05-02T15:39:23.585+0000</td><td>dbfs:/FileStore/ds2002-lab06/sourcedata/stream/rental/sakila_fact_rental.json</td></tr><tr><td>8.99</td><td>509</td><td>831</td><td>3912</td><td>2006-02-15 21:30:53</td><td>20050529</td><td>20050606</td><td>1</td><td>null</td><td>2023-05-02T15:39:23.585+0000</td><td>dbfs:/FileStore/ds2002-lab06/sourcedata/stream/rental/sakila_fact_rental.json</td></tr><tr><td>3.99</td><td>159</td><td>832</td><td>1381</td><td>2006-02-15 21:30:53</td><td>20050529</td><td>20050607</td><td>2</td><td>null</td><td>2023-05-02T15:39:23.585+0000</td><td>dbfs:/FileStore/ds2002-lab06/sourcedata/stream/rental/sakila_fact_rental.json</td></tr><tr><td>4.99</td><td>417</td><td>833</td><td>2898</td><td>2006-02-15 21:30:53</td><td>20050529</td><td>20050602</td><td>1</td><td>null</td><td>2023-05-02T15:39:23.585+0000</td><td>dbfs:/FileStore/ds2002-lab06/sourcedata/stream/rental/sakila_fact_rental.json</td></tr><tr><td>4.99</td><td>84</td><td>834</td><td>3628</td><td>2006-02-15 21:30:53</td><td>20050529</td><td>20050530</td><td>2</td><td>null</td><td>2023-05-02T15:39:23.585+0000</td><td>dbfs:/FileStore/ds2002-lab06/sourcedata/stream/rental/sakila_fact_rental.json</td></tr><tr><td>2.99</td><td>381</td><td>835</td><td>299</td><td>2006-02-15 21:30:53</td><td>20050529</td><td>20050602</td><td>1</td><td>null</td><td>2023-05-02T15:39:23.585+0000</td><td>dbfs:/FileStore/ds2002-lab06/sourcedata/stream/rental/sakila_fact_rental.json</td></tr><tr><td>2.99</td><td>368</td><td>836</td><td>3140</td><td>2006-02-15 21:30:53</td><td>20050529</td><td>20050531</td><td>2</td><td>null</td><td>2023-05-02T15:39:23.585+0000</td><td>dbfs:/FileStore/ds2002-lab06/sourcedata/stream/rental/sakila_fact_rental.json</td></tr><tr><td>0.99</td><td>172</td><td>837</td><td>977</td><td>2006-02-15 21:30:53</td><td>20050530</td><td>20050602</td><td>2</td><td>null</td><td>2023-05-02T15:39:23.585+0000</td><td>dbfs:/FileStore/ds2002-lab06/sourcedata/stream/rental/sakila_fact_rental.json</td></tr><tr><td>4.99</td><td>504</td><td>838</td><td>2859</td><td>2006-02-15 21:30:53</td><td>20050530</td><td>20050606</td><td>2</td><td>null</td><td>2023-05-02T15:39:23.585+0000</td><td>dbfs:/FileStore/ds2002-lab06/sourcedata/stream/rental/sakila_fact_rental.json</td></tr><tr><td>8.99</td><td>337</td><td>839</td><td>1886</td><td>2006-02-15 21:30:53</td><td>20050530</td><td>20050608</td><td>1</td><td>null</td><td>2023-05-02T15:39:23.585+0000</td><td>dbfs:/FileStore/ds2002-lab06/sourcedata/stream/rental/sakila_fact_rental.json</td></tr><tr><td>4.99</td><td>79</td><td>840</td><td>4049</td><td>2006-02-15 21:30:53</td><td>20050530</td><td>20050531</td><td>2</td><td>null</td><td>2023-05-02T15:39:23.585+0000</td><td>dbfs:/FileStore/ds2002-lab06/sourcedata/stream/rental/sakila_fact_rental.json</td></tr><tr><td>4.99</td><td>387</td><td>841</td><td>4318</td><td>2006-02-15 21:30:53</td><td>20050530</td><td>20050602</td><td>1</td><td>null</td><td>2023-05-02T15:39:23.585+0000</td><td>dbfs:/FileStore/ds2002-lab06/sourcedata/stream/rental/sakila_fact_rental.json</td></tr><tr><td>2.99</td><td>238</td><td>842</td><td>2328</td><td>2006-02-15 21:30:53</td><td>20050530</td><td>20050601</td><td>1</td><td>null</td><td>2023-05-02T15:39:23.585+0000</td><td>dbfs:/FileStore/ds2002-lab06/sourcedata/stream/rental/sakila_fact_rental.json</td></tr><tr><td>0.99</td><td>313</td><td>843</td><td>2214</td><td>2006-02-15 21:30:53</td><td>20050530</td><td>20050531</td><td>2</td><td>null</td><td>2023-05-02T15:39:23.585+0000</td><td>dbfs:/FileStore/ds2002-lab06/sourcedata/stream/rental/sakila_fact_rental.json</td></tr><tr><td>4.99</td><td>429</td><td>844</td><td>536</td><td>2006-02-15 21:30:53</td><td>20050530</td><td>20050601</td><td>1</td><td>null</td><td>2023-05-02T15:39:23.585+0000</td><td>dbfs:/FileStore/ds2002-lab06/sourcedata/stream/rental/sakila_fact_rental.json</td></tr><tr><td>4.99</td><td>72</td><td>845</td><td>2001</td><td>2006-02-15 21:30:53</td><td>20050530</td><td>20050607</td><td>1</td><td>null</td><td>2023-05-02T15:39:23.585+0000</td><td>dbfs:/FileStore/ds2002-lab06/sourcedata/stream/rental/sakila_fact_rental.json</td></tr><tr><td>2.99</td><td>49</td><td>846</td><td>938</td><td>2006-02-15 21:30:53</td><td>20050530</td><td>20050601</td><td>2</td><td>null</td><td>2023-05-02T15:39:23.585+0000</td><td>dbfs:/FileStore/ds2002-lab06/sourcedata/stream/rental/sakila_fact_rental.json</td></tr><tr><td>3.99</td><td>380</td><td>847</td><td>4387</td><td>2006-02-15 21:30:53</td><td>20050530</td><td>20050606</td><td>2</td><td>null</td><td>2023-05-02T15:39:23.585+0000</td><td>dbfs:/FileStore/ds2002-lab06/sourcedata/stream/rental/sakila_fact_rental.json</td></tr><tr><td>5.99</td><td>436</td><td>848</td><td>1363</td><td>2006-02-15 21:30:53</td><td>20050530</td><td>20050605</td><td>1</td><td>null</td><td>2023-05-02T15:39:23.585+0000</td><td>dbfs:/FileStore/ds2002-lab06/sourcedata/stream/rental/sakila_fact_rental.json</td></tr><tr><td>7.99</td><td>449</td><td>849</td><td>2424</td><td>2006-02-15 21:30:53</td><td>20050530</td><td>20050607</td><td>1</td><td>null</td><td>2023-05-02T15:39:23.585+0000</td><td>dbfs:/FileStore/ds2002-lab06/sourcedata/stream/rental/sakila_fact_rental.json</td></tr><tr><td>4.99</td><td>517</td><td>850</td><td>2390</td><td>2006-02-15 21:30:53</td><td>20050530</td><td>20050531</td><td>1</td><td>null</td><td>2023-05-02T15:39:23.585+0000</td><td>dbfs:/FileStore/ds2002-lab06/sourcedata/stream/rental/sakila_fact_rental.json</td></tr><tr><td>0.99</td><td>530</td><td>851</td><td>2780</td><td>2006-02-15 21:30:53</td><td>20050530</td><td>20050606</td><td>1</td><td>null</td><td>2023-05-02T15:39:23.585+0000</td><td>dbfs:/FileStore/ds2002-lab06/sourcedata/stream/rental/sakila_fact_rental.json</td></tr><tr><td>4.99</td><td>549</td><td>852</td><td>1622</td><td>2006-02-15 21:30:53</td><td>20050530</td><td>20050601</td><td>1</td><td>null</td><td>2023-05-02T15:39:23.585+0000</td><td>dbfs:/FileStore/ds2002-lab06/sourcedata/stream/rental/sakila_fact_rental.json</td></tr><tr><td>0.99</td><td>122</td><td>853</td><td>3693</td><td>2006-02-15 21:30:53</td><td>20050530</td><td>20050601</td><td>1</td><td>null</td><td>2023-05-02T15:39:23.585+0000</td><td>dbfs:/FileStore/ds2002-lab06/sourcedata/stream/rental/sakila_fact_rental.json</td></tr><tr><td>0.99</td><td>369</td><td>854</td><td>921</td><td>2006-02-15 21:30:53</td><td>20050530</td><td>20050601</td><td>2</td><td>null</td><td>2023-05-02T15:39:23.585+0000</td><td>dbfs:/FileStore/ds2002-lab06/sourcedata/stream/rental/sakila_fact_rental.json</td></tr><tr><td>0.99</td><td>406</td><td>855</td><td>2527</td><td>2006-02-15 21:30:53</td><td>20050530</td><td>20050603</td><td>2</td><td>null</td><td>2023-05-02T15:39:23.585+0000</td><td>dbfs:/FileStore/ds2002-lab06/sourcedata/stream/rental/sakila_fact_rental.json</td></tr><tr><td>9.99</td><td>53</td><td>856</td><td>3969</td><td>2006-02-15 21:30:53</td><td>20050530</td><td>20050607</td><td>1</td><td>null</td><td>2023-05-02T15:39:23.585+0000</td><td>dbfs:/FileStore/ds2002-lab06/sourcedata/stream/rental/sakila_fact_rental.json</td></tr><tr><td>4.99</td><td>204</td><td>857</td><td>2569</td><td>2006-02-15 21:30:53</td><td>20050530</td><td>20050602</td><td>2</td><td>null</td><td>2023-05-02T15:39:23.585+0000</td><td>dbfs:/FileStore/ds2002-lab06/sourcedata/stream/rental/sakila_fact_rental.json</td></tr><tr><td>4.99</td><td>358</td><td>858</td><td>1258</td><td>2006-02-15 21:30:53</td><td>20050530</td><td>20050601</td><td>1</td><td>null</td><td>2023-05-02T15:39:23.585+0000</td><td>dbfs:/FileStore/ds2002-lab06/sourcedata/stream/rental/sakila_fact_rental.json</td></tr><tr><td>2.99</td><td>79</td><td>859</td><td>3032</td><td>2006-02-15 21:30:53</td><td>20050530</td><td>20050602</td><td>2</td><td>null</td><td>2023-05-02T15:39:23.585+0000</td><td>dbfs:/FileStore/ds2002-lab06/sourcedata/stream/rental/sakila_fact_rental.json</td></tr><tr><td>10.99</td><td>276</td><td>860</td><td>578</td><td>2006-02-15 21:30:53</td><td>20050530</td><td>20050608</td><td>1</td><td>null</td><td>2023-05-02T15:39:23.585+0000</td><td>dbfs:/FileStore/ds2002-lab06/sourcedata/stream/rental/sakila_fact_rental.json</td></tr><tr><td>0.99</td><td>502</td><td>861</td><td>3711</td><td>2006-02-15 21:30:53</td><td>20050530</td><td>20050606</td><td>1</td><td>null</td><td>2023-05-02T15:39:23.585+0000</td><td>dbfs:/FileStore/ds2002-lab06/sourcedata/stream/rental/sakila_fact_rental.json</td></tr><tr><td>2.99</td><td>328</td><td>862</td><td>1186</td><td>2006-02-15 21:30:53</td><td>20050530</td><td>20050603</td><td>1</td><td>null</td><td>2023-05-02T15:39:23.585+0000</td><td>dbfs:/FileStore/ds2002-lab06/sourcedata/stream/rental/sakila_fact_rental.json</td></tr><tr><td>4.99</td><td>379</td><td>863</td><td>3999</td><td>2006-02-15 21:30:53</td><td>20050530</td><td>20050605</td><td>2</td><td>null</td><td>2023-05-02T15:39:23.585+0000</td><td>dbfs:/FileStore/ds2002-lab06/sourcedata/stream/rental/sakila_fact_rental.json</td></tr><tr><td>2.99</td><td>544</td><td>864</td><td>2777</td><td>2006-02-15 21:30:53</td><td>20050530</td><td>20050606</td><td>1</td><td>null</td><td>2023-05-02T15:39:23.585+0000</td><td>dbfs:/FileStore/ds2002-lab06/sourcedata/stream/rental/sakila_fact_rental.json</td></tr><tr><td>7.99</td><td>154</td><td>865</td><td>3183</td><td>2006-02-15 21:30:53</td><td>20050530</td><td>20050607</td><td>2</td><td>null</td><td>2023-05-02T15:39:23.585+0000</td><td>dbfs:/FileStore/ds2002-lab06/sourcedata/stream/rental/sakila_fact_rental.json</td></tr><tr><td>6.99</td><td>8</td><td>866</td><td>2867</td><td>2006-02-15 21:30:53</td><td>20050530</td><td>20050608</td><td>1</td><td>null</td><td>2023-05-02T15:39:23.585+0000</td><td>dbfs:/FileStore/ds2002-lab06/sourcedata/stream/rental/sakila_fact_rental.json</td></tr><tr><td>0.99</td><td>99</td><td>867</td><td>3389</td><td>2006-02-15 21:30:53</td><td>20050530</td><td>20050601</td><td>1</td><td>null</td><td>2023-05-02T15:39:23.585+0000</td><td>dbfs:/FileStore/ds2002-lab06/sourcedata/stream/rental/sakila_fact_rental.json</td></tr><tr><td>2.99</td><td>28</td><td>868</td><td>3604</td><td>2006-02-15 21:30:53</td><td>20050530</td><td>20050531</td><td>1</td><td>null</td><td>2023-05-02T15:39:23.585+0000</td><td>dbfs:/FileStore/ds2002-lab06/sourcedata/stream/rental/sakila_fact_rental.json</td></tr><tr><td>4.99</td><td>296</td><td>869</td><td>3399</td><td>2006-02-15 21:30:53</td><td>20050530</td><td>20050603</td><td>2</td><td>null</td><td>2023-05-02T15:39:23.585+0000</td><td>dbfs:/FileStore/ds2002-lab06/sourcedata/stream/rental/sakila_fact_rental.json</td></tr><tr><td>2.99</td><td>391</td><td>870</td><td>2903</td><td>2006-02-15 21:30:53</td><td>20050530</td><td>20050606</td><td>1</td><td>null</td><td>2023-05-02T15:39:23.585+0000</td><td>dbfs:/FileStore/ds2002-lab06/sourcedata/stream/rental/sakila_fact_rental.json</td></tr><tr><td>2.99</td><td>303</td><td>871</td><td>4573</td><td>2006-02-15 21:30:53</td><td>20050530</td><td>20050604</td><td>2</td><td>null</td><td>2023-05-02T15:39:23.585+0000</td><td>dbfs:/FileStore/ds2002-lab06/sourcedata/stream/rental/sakila_fact_rental.json</td></tr><tr><td>3.99</td><td>548</td><td>872</td><td>3904</td><td>2006-02-15 21:30:53</td><td>20050530</td><td>20050606</td><td>1</td><td>null</td><td>2023-05-02T15:39:23.585+0000</td><td>dbfs:/FileStore/ds2002-lab06/sourcedata/stream/rental/sakila_fact_rental.json</td></tr><tr><td>2.99</td><td>375</td><td>873</td><td>4568</td><td>2006-02-15 21:30:53</td><td>20050530</td><td>20050607</td><td>2</td><td>null</td><td>2023-05-02T15:39:23.585+0000</td><td>dbfs:/FileStore/ds2002-lab06/sourcedata/stream/rental/sakila_fact_rental.json</td></tr><tr><td>0.99</td><td>52</td><td>874</td><td>363</td><td>2006-02-15 21:30:53</td><td>20050530</td><td>20050601</td><td>1</td><td>null</td><td>2023-05-02T15:39:23.585+0000</td><td>dbfs:/FileStore/ds2002-lab06/sourcedata/stream/rental/sakila_fact_rental.json</td></tr><tr><td>6.99</td><td>326</td><td>875</td><td>1428</td><td>2006-02-15 21:30:53</td><td>20050530</td><td>20050606</td><td>2</td><td>null</td><td>2023-05-02T15:39:23.585+0000</td><td>dbfs:/FileStore/ds2002-lab06/sourcedata/stream/rental/sakila_fact_rental.json</td></tr><tr><td>5.99</td><td>339</td><td>876</td><td>1471</td><td>2006-02-15 21:30:53</td><td>20050530</td><td>20050607</td><td>2</td><td>null</td><td>2023-05-02T15:39:23.585+0000</td><td>dbfs:/FileStore/ds2002-lab06/sourcedata/stream/rental/sakila_fact_rental.json</td></tr><tr><td>0.99</td><td>9</td><td>877</td><td>886</td><td>2006-02-15 21:30:53</td><td>20050530</td><td>20050602</td><td>1</td><td>null</td><td>2023-05-02T15:39:23.585+0000</td><td>dbfs:/FileStore/ds2002-lab06/sourcedata/stream/rental/sakila_fact_rental.json</td></tr><tr><td>5.99</td><td>323</td><td>878</td><td>4265</td><td>2006-02-15 21:30:53</td><td>20050530</td><td>20050607</td><td>1</td><td>null</td><td>2023-05-02T15:39:23.585+0000</td><td>dbfs:/FileStore/ds2002-lab06/sourcedata/stream/rental/sakila_fact_rental.json</td></tr><tr><td>0.99</td><td>482</td><td>879</td><td>4021</td><td>2006-02-15 21:30:53</td><td>20050530</td><td>20050605</td><td>2</td><td>null</td><td>2023-05-02T15:39:23.585+0000</td><td>dbfs:/FileStore/ds2002-lab06/sourcedata/stream/rental/sakila_fact_rental.json</td></tr><tr><td>0.99</td><td>460</td><td>880</td><td>1819</td><td>2006-02-15 21:30:53</td><td>20050530</td><td>20050602</td><td>2</td><td>null</td><td>2023-05-02T15:39:23.585+0000</td><td>dbfs:/FileStore/ds2002-lab06/sourcedata/stream/rental/sakila_fact_rental.json</td></tr><tr><td>4.99</td><td>242</td><td>881</td><td>602</td><td>2006-02-15 21:30:53</td><td>20050530</td><td>20050602</td><td>1</td><td>null</td><td>2023-05-02T15:39:23.585+0000</td><td>dbfs:/FileStore/ds2002-lab06/sourcedata/stream/rental/sakila_fact_rental.json</td></tr><tr><td>2.99</td><td>477</td><td>882</td><td>3841</td><td>2006-02-15 21:30:53</td><td>20050530</td><td>20050602</td><td>1</td><td>null</td><td>2023-05-02T15:39:23.585+0000</td><td>dbfs:/FileStore/ds2002-lab06/sourcedata/stream/rental/sakila_fact_rental.json</td></tr><tr><td>4.99</td><td>399</td><td>883</td><td>2271</td><td>2006-02-15 21:30:53</td><td>20050530</td><td>20050607</td><td>2</td><td>null</td><td>2023-05-02T15:39:23.585+0000</td><td>dbfs:/FileStore/ds2002-lab06/sourcedata/stream/rental/sakila_fact_rental.json</td></tr><tr><td>4.99</td><td>17</td><td>884</td><td>4079</td><td>2006-02-15 21:30:53</td><td>20050530</td><td>20050531</td><td>1</td><td>null</td><td>2023-05-02T15:39:23.585+0000</td><td>dbfs:/FileStore/ds2002-lab06/sourcedata/stream/rental/sakila_fact_rental.json</td></tr><tr><td>0.99</td><td>62</td><td>885</td><td>646</td><td>2006-02-15 21:30:53</td><td>20050530</td><td>20050603</td><td>2</td><td>null</td><td>2023-05-02T15:39:23.585+0000</td><td>dbfs:/FileStore/ds2002-lab06/sourcedata/stream/rental/sakila_fact_rental.json</td></tr><tr><td>0.99</td><td>393</td><td>886</td><td>4356</td><td>2006-02-15 21:30:53</td><td>20050530</td><td>20050601</td><td>2</td><td>null</td><td>2023-05-02T15:39:23.585+0000</td><td>dbfs:/FileStore/ds2002-lab06/sourcedata/stream/rental/sakila_fact_rental.json</td></tr><tr><td>0.99</td><td>16</td><td>887</td><td>2727</td><td>2006-02-15 21:30:53</td><td>20050530</td><td>20050601</td><td>2</td><td>null</td><td>2023-05-02T15:39:23.585+0000</td><td>dbfs:/FileStore/ds2002-lab06/sourcedata/stream/rental/sakila_fact_rental.json</td></tr><tr><td>5.99</td><td>128</td><td>888</td><td>387</td><td>2006-02-15 21:30:53</td><td>20050530</td><td>20050606</td><td>1</td><td>null</td><td>2023-05-02T15:39:23.585+0000</td><td>dbfs:/FileStore/ds2002-lab06/sourcedata/stream/rental/sakila_fact_rental.json</td></tr><tr><td>2.99</td><td>114</td><td>889</td><td>1299</td><td>2006-02-15 21:30:53</td><td>20050530</td><td>20050531</td><td>2</td><td>null</td><td>2023-05-02T15:39:23.585+0000</td><td>dbfs:/FileStore/ds2002-lab06/sourcedata/stream/rental/sakila_fact_rental.json</td></tr><tr><td>4.99</td><td>349</td><td>890</td><td>1464</td><td>2006-02-15 21:30:53</td><td>20050530</td><td>20050601</td><td>1</td><td>null</td><td>2023-05-02T15:39:23.585+0000</td><td>dbfs:/FileStore/ds2002-lab06/sourcedata/stream/rental/sakila_fact_rental.json</td></tr><tr><td>7.99</td><td>391</td><td>891</td><td>2611</td><td>2006-02-15 21:30:53</td><td>20050530</td><td>20050608</td><td>1</td><td>null</td><td>2023-05-02T15:39:23.585+0000</td><td>dbfs:/FileStore/ds2002-lab06/sourcedata/stream/rental/sakila_fact_rental.json</td></tr><tr><td>4.99</td><td>274</td><td>892</td><td>471</td><td>2006-02-15 21:30:53</td><td>20050530</td><td>20050605</td><td>1</td><td>null</td><td>2023-05-02T15:39:23.585+0000</td><td>dbfs:/FileStore/ds2002-lab06/sourcedata/stream/rental/sakila_fact_rental.json</td></tr><tr><td>2.99</td><td>502</td><td>893</td><td>3260</td><td>2006-02-15 21:30:53</td><td>20050530</td><td>20050607</td><td>2</td><td>null</td><td>2023-05-02T15:39:23.585+0000</td><td>dbfs:/FileStore/ds2002-lab06/sourcedata/stream/rental/sakila_fact_rental.json</td></tr><tr><td>5.99</td><td>400</td><td>894</td><td>1118</td><td>2006-02-15 21:30:53</td><td>20050530</td><td>20050607</td><td>1</td><td>null</td><td>2023-05-02T15:39:23.585+0000</td><td>dbfs:/FileStore/ds2002-lab06/sourcedata/stream/rental/sakila_fact_rental.json</td></tr><tr><td>1.99</td><td>192</td><td>895</td><td>2744</td><td>2006-02-15 21:30:53</td><td>20050530</td><td>20050605</td><td>1</td><td>null</td><td>2023-05-02T15:39:23.585+0000</td><td>dbfs:/FileStore/ds2002-lab06/sourcedata/stream/rental/sakila_fact_rental.json</td></tr><tr><td>3.99</td><td>207</td><td>896</td><td>2817</td><td>2006-02-15 21:30:53</td><td>20050530</td><td>20050605</td><td>2</td><td>null</td><td>2023-05-02T15:39:23.585+0000</td><td>dbfs:/FileStore/ds2002-lab06/sourcedata/stream/rental/sakila_fact_rental.json</td></tr><tr><td>8.99</td><td>432</td><td>897</td><td>1334</td><td>2006-02-15 21:30:53</td><td>20050530</td><td>20050608</td><td>1</td><td>null</td><td>2023-05-02T15:39:23.585+0000</td><td>dbfs:/FileStore/ds2002-lab06/sourcedata/stream/rental/sakila_fact_rental.json</td></tr><tr><td>0.99</td><td>384</td><td>898</td><td>3497</td><td>2006-02-15 21:30:53</td><td>20050530</td><td>20050601</td><td>2</td><td>null</td><td>2023-05-02T15:39:23.585+0000</td><td>dbfs:/FileStore/ds2002-lab06/sourcedata/stream/rental/sakila_fact_rental.json</td></tr><tr><td>6.99</td><td>156</td><td>899</td><td>1096</td><td>2006-02-15 21:30:53</td><td>20050530</td><td>20050606</td><td>2</td><td>null</td><td>2023-05-02T15:39:23.585+0000</td><td>dbfs:/FileStore/ds2002-lab06/sourcedata/stream/rental/sakila_fact_rental.json</td></tr><tr><td>8.99</td><td>586</td><td>900</td><td>3543</td><td>2006-02-15 21:30:53</td><td>20050530</td><td>20050607</td><td>1</td><td>null</td><td>2023-05-02T15:39:23.585+0000</td><td>dbfs:/FileStore/ds2002-lab06/sourcedata/stream/rental/sakila_fact_rental.json</td></tr><tr><td>2.99</td><td>259</td><td>901</td><td>760</td><td>2006-02-15 21:30:53</td><td>20050530</td><td>20050602</td><td>1</td><td>null</td><td>2023-05-02T15:39:23.585+0000</td><td>dbfs:/FileStore/ds2002-lab06/sourcedata/stream/rental/sakila_fact_rental.json</td></tr><tr><td>4.99</td><td>561</td><td>902</td><td>1514</td><td>2006-02-15 21:30:53</td><td>20050530</td><td>20050607</td><td>1</td><td>null</td><td>2023-05-02T15:39:23.585+0000</td><td>dbfs:/FileStore/ds2002-lab06/sourcedata/stream/rental/sakila_fact_rental.json</td></tr><tr><td>3.99</td><td>197</td><td>903</td><td>2423</td><td>2006-02-15 21:30:53</td><td>20050530</td><td>20050603</td><td>1</td><td>null</td><td>2023-05-02T15:39:23.585+0000</td><td>dbfs:/FileStore/ds2002-lab06/sourcedata/stream/rental/sakila_fact_rental.json</td></tr><tr><td>2.99</td><td>44</td><td>904</td><td>2466</td><td>2006-02-15 21:30:53</td><td>20050530</td><td>20050605</td><td>2</td><td>null</td><td>2023-05-02T15:39:23.585+0000</td><td>dbfs:/FileStore/ds2002-lab06/sourcedata/stream/rental/sakila_fact_rental.json</td></tr><tr><td>4.99</td><td>50</td><td>905</td><td>4372</td><td>2006-02-15 21:30:53</td><td>20050530</td><td>20050606</td><td>1</td><td>null</td><td>2023-05-02T15:39:23.585+0000</td><td>dbfs:/FileStore/ds2002-lab06/sourcedata/stream/rental/sakila_fact_rental.json</td></tr><tr><td>3.99</td><td>549</td><td>906</td><td>1862</td><td>2006-02-15 21:30:53</td><td>20050530</td><td>20050607</td><td>2</td><td>null</td><td>2023-05-02T15:39:23.585+0000</td><td>dbfs:/FileStore/ds2002-lab06/sourcedata/stream/rental/sakila_fact_rental.json</td></tr><tr><td>0.99</td><td>506</td><td>907</td><td>3320</td><td>2006-02-15 21:30:53</td><td>20050530</td><td>20050602</td><td>1</td><td>null</td><td>2023-05-02T15:39:23.585+0000</td><td>dbfs:/FileStore/ds2002-lab06/sourcedata/stream/rental/sakila_fact_rental.json</td></tr><tr><td>4.99</td><td>85</td><td>908</td><td>4427</td><td>2006-02-15 21:30:53</td><td>20050530</td><td>20050603</td><td>1</td><td>null</td><td>2023-05-02T15:39:23.585+0000</td><td>dbfs:/FileStore/ds2002-lab06/sourcedata/stream/rental/sakila_fact_rental.json</td></tr><tr><td>8.99</td><td>486</td><td>909</td><td>3775</td><td>2006-02-15 21:30:53</td><td>20050530</td><td>20050608</td><td>1</td><td>null</td><td>2023-05-02T15:39:23.585+0000</td><td>dbfs:/FileStore/ds2002-lab06/sourcedata/stream/rental/sakila_fact_rental.json</td></tr><tr><td>2.99</td><td>374</td><td>910</td><td>2601</td><td>2006-02-15 21:30:53</td><td>20050530</td><td>20050604</td><td>1</td><td>null</td><td>2023-05-02T15:39:23.585+0000</td><td>dbfs:/FileStore/ds2002-lab06/sourcedata/stream/rental/sakila_fact_rental.json</td></tr><tr><td>6.99</td><td>366</td><td>911</td><td>1404</td><td>2006-02-15 21:30:53</td><td>20050530</td><td>20050607</td><td>2</td><td>null</td><td>2023-05-02T15:39:23.585+0000</td><td>dbfs:/FileStore/ds2002-lab06/sourcedata/stream/rental/sakila_fact_rental.json</td></tr><tr><td>4.99</td><td>390</td><td>912</td><td>3200</td><td>2006-02-15 21:30:53</td><td>20050530</td><td>20050531</td><td>2</td><td>null</td><td>2023-05-02T15:39:23.585+0000</td><td>dbfs:/FileStore/ds2002-lab06/sourcedata/stream/rental/sakila_fact_rental.json</td></tr><tr><td>7.99</td><td>369</td><td>913</td><td>3213</td><td>2006-02-15 21:30:53</td><td>20050530</td><td>20050607</td><td>2</td><td>null</td><td>2023-05-02T15:39:23.585+0000</td><td>dbfs:/FileStore/ds2002-lab06/sourcedata/stream/rental/sakila_fact_rental.json</td></tr><tr><td>2.99</td><td>596</td><td>914</td><td>1393</td><td>2006-02-15 21:30:53</td><td>20050530</td><td>20050604</td><td>2</td><td>null</td><td>2023-05-02T15:39:23.585+0000</td><td>dbfs:/FileStore/ds2002-lab06/sourcedata/stream/rental/sakila_fact_rental.json</td></tr><tr><td>0.99</td><td>115</td><td>915</td><td>1859</td><td>2006-02-15 21:30:53</td><td>20050530</td><td>20050602</td><td>1</td><td>null</td><td>2023-05-02T15:39:23.585+0000</td><td>dbfs:/FileStore/ds2002-lab06/sourcedata/stream/rental/sakila_fact_rental.json</td></tr><tr><td>0.99</td><td>6</td><td>916</td><td>1290</td><td>2006-02-15 21:30:53</td><td>20050530</td><td>20050531</td><td>1</td><td>null</td><td>2023-05-02T15:39:23.585+0000</td><td>dbfs:/FileStore/ds2002-lab06/sourcedata/stream/rental/sakila_fact_rental.json</td></tr><tr><td>2.99</td><td>385</td><td>917</td><td>3629</td><td>2006-02-15 21:30:53</td><td>20050530</td><td>20050602</td><td>1</td><td>null</td><td>2023-05-02T15:39:23.585+0000</td><td>dbfs:/FileStore/ds2002-lab06/sourcedata/stream/rental/sakila_fact_rental.json</td></tr><tr><td>0.99</td><td>197</td><td>918</td><td>818</td><td>2006-02-15 21:30:53</td><td>20050530</td><td>20050531</td><td>2</td><td>null</td><td>2023-05-02T15:39:23.585+0000</td><td>dbfs:/FileStore/ds2002-lab06/sourcedata/stream/rental/sakila_fact_rental.json</td></tr><tr><td>0.99</td><td>374</td><td>919</td><td>4052</td><td>2006-02-15 21:30:53</td><td>20050530</td><td>20050602</td><td>2</td><td>null</td><td>2023-05-02T15:39:23.585+0000</td><td>dbfs:/FileStore/ds2002-lab06/sourcedata/stream/rental/sakila_fact_rental.json</td></tr><tr><td>4.99</td><td>584</td><td>920</td><td>3860</td><td>2006-02-15 21:30:53</td><td>20050530</td><td>20050602</td><td>2</td><td>null</td><td>2023-05-02T15:39:23.585+0000</td><td>dbfs:/FileStore/ds2002-lab06/sourcedata/stream/rental/sakila_fact_rental.json</td></tr><tr><td>2.99</td><td>508</td><td>921</td><td>1827</td><td>2006-02-15 21:30:53</td><td>20050530</td><td>20050603</td><td>2</td><td>null</td><td>2023-05-02T15:39:23.585+0000</td><td>dbfs:/FileStore/ds2002-lab06/sourcedata/stream/rental/sakila_fact_rental.json</td></tr><tr><td>7.99</td><td>550</td><td>922</td><td>2442</td><td>2006-02-15 21:30:53</td><td>20050530</td><td>20050608</td><td>2</td><td>null</td><td>2023-05-02T15:39:23.585+0000</td><td>dbfs:/FileStore/ds2002-lab06/sourcedata/stream/rental/sakila_fact_rental.json</td></tr><tr><td>2.99</td><td>37</td><td>923</td><td>1884</td><td>2006-02-15 21:30:53</td><td>20050530</td><td>20050605</td><td>1</td><td>null</td><td>2023-05-02T15:39:23.585+0000</td><td>dbfs:/FileStore/ds2002-lab06/sourcedata/stream/rental/sakila_fact_rental.json</td></tr><tr><td>4.99</td><td>293</td><td>924</td><td>3279</td><td>2006-02-15 21:30:53</td><td>20050530</td><td>20050604</td><td>1</td><td>null</td><td>2023-05-02T15:39:23.585+0000</td><td>dbfs:/FileStore/ds2002-lab06/sourcedata/stream/rental/sakila_fact_rental.json</td></tr><tr><td>2.99</td><td>137</td><td>925</td><td>3203</td><td>2006-02-15 21:30:53</td><td>20050530</td><td>20050602</td><td>2</td><td>null</td><td>2023-05-02T15:39:23.585+0000</td><td>dbfs:/FileStore/ds2002-lab06/sourcedata/stream/rental/sakila_fact_rental.json</td></tr><tr><td>0.99</td><td>76</td><td>926</td><td>4327</td><td>2006-02-15 21:30:53</td><td>20050530</td><td>20050601</td><td>2</td><td>null</td><td>2023-05-02T15:39:23.585+0000</td><td>dbfs:/FileStore/ds2002-lab06/sourcedata/stream/rental/sakila_fact_rental.json</td></tr><tr><td>4.99</td><td>167</td><td>927</td><td>1158</td><td>2006-02-15 21:30:53</td><td>20050530</td><td>20050531</td><td>2</td><td>null</td><td>2023-05-02T15:39:23.585+0000</td><td>dbfs:/FileStore/ds2002-lab06/sourcedata/stream/rental/sakila_fact_rental.json</td></tr><tr><td>2.99</td><td>79</td><td>928</td><td>246</td><td>2006-02-15 21:30:53</td><td>20050530</td><td>20050605</td><td>2</td><td>null</td><td>2023-05-02T15:39:23.585+0000</td><td>dbfs:/FileStore/ds2002-lab06/sourcedata/stream/rental/sakila_fact_rental.json</td></tr><tr><td>6.99</td><td>536</td><td>929</td><td>4296</td><td>2006-02-15 21:30:53</td><td>20050530</td><td>20050606</td><td>1</td><td>null</td><td>2023-05-02T15:39:23.585+0000</td><td>dbfs:/FileStore/ds2002-lab06/sourcedata/stream/rental/sakila_fact_rental.json</td></tr><tr><td>2.99</td><td>141</td><td>930</td><td>2835</td><td>2006-02-15 21:30:53</td><td>20050530</td><td>20050604</td><td>2</td><td>null</td><td>2023-05-02T15:39:23.585+0000</td><td>dbfs:/FileStore/ds2002-lab06/sourcedata/stream/rental/sakila_fact_rental.json</td></tr><tr><td>0.99</td><td>421</td><td>931</td><td>3384</td><td>2006-02-15 21:30:53</td><td>20050530</td><td>20050531</td><td>1</td><td>null</td><td>2023-05-02T15:39:23.585+0000</td><td>dbfs:/FileStore/ds2002-lab06/sourcedata/stream/rental/sakila_fact_rental.json</td></tr><tr><td>2.99</td><td>198</td><td>932</td><td>719</td><td>2006-02-15 21:30:53</td><td>20050530</td><td>20050531</td><td>2</td><td>null</td><td>2023-05-02T15:39:23.585+0000</td><td>dbfs:/FileStore/ds2002-lab06/sourcedata/stream/rental/sakila_fact_rental.json</td></tr><tr><td>4.99</td><td>66</td><td>933</td><td>3672</td><td>2006-02-15 21:30:53</td><td>20050530</td><td>20050601</td><td>1</td><td>null</td><td>2023-05-02T15:39:23.585+0000</td><td>dbfs:/FileStore/ds2002-lab06/sourcedata/stream/rental/sakila_fact_rental.json</td></tr><tr><td>2.99</td><td>60</td><td>934</td><td>3595</td><td>2006-02-15 21:30:53</td><td>20050530</td><td>20050608</td><td>2</td><td>null</td><td>2023-05-02T15:39:23.585+0000</td><td>dbfs:/FileStore/ds2002-lab06/sourcedata/stream/rental/sakila_fact_rental.json</td></tr><tr><td>2.99</td><td>256</td><td>935</td><td>2421</td><td>2006-02-15 21:30:53</td><td>20050530</td><td>20050602</td><td>1</td><td>null</td><td>2023-05-02T15:39:23.585+0000</td><td>dbfs:/FileStore/ds2002-lab06/sourcedata/stream/rental/sakila_fact_rental.json</td></tr><tr><td>1.99</td><td>469</td><td>936</td><td>901</td><td>2006-02-15 21:30:53</td><td>20050530</td><td>20050607</td><td>1</td><td>null</td><td>2023-05-02T15:39:23.585+0000</td><td>dbfs:/FileStore/ds2002-lab06/sourcedata/stream/rental/sakila_fact_rental.json</td></tr><tr><td>2.99</td><td>304</td><td>937</td><td>1054</td><td>2006-02-15 21:30:53</td><td>20050530</td><td>20050605</td><td>2</td><td>null</td><td>2023-05-02T15:39:23.585+0000</td><td>dbfs:/FileStore/ds2002-lab06/sourcedata/stream/rental/sakila_fact_rental.json</td></tr><tr><td>2.99</td><td>46</td><td>938</td><td>1521</td><td>2006-02-15 21:30:53</td><td>20050530</td><td>20050604</td><td>2</td><td>null</td><td>2023-05-02T15:39:23.585+0000</td><td>dbfs:/FileStore/ds2002-lab06/sourcedata/stream/rental/sakila_fact_rental.json</td></tr><tr><td>0.99</td><td>367</td><td>939</td><td>1314</td><td>2006-02-15 21:30:53</td><td>20050530</td><td>20050601</td><td>1</td><td>null</td><td>2023-05-02T15:39:23.585+0000</td><td>dbfs:/FileStore/ds2002-lab06/sourcedata/stream/rental/sakila_fact_rental.json</td></tr><tr><td>0.99</td><td>534</td><td>940</td><td>1278</td><td>2006-02-15 21:30:53</td><td>20050530</td><td>20050601</td><td>1</td><td>null</td><td>2023-05-02T15:39:23.585+0000</td><td>dbfs:/FileStore/ds2002-lab06/sourcedata/stream/rental/sakila_fact_rental.json</td></tr><tr><td>2.99</td><td>562</td><td>941</td><td>3630</td><td>2006-02-15 21:30:53</td><td>20050530</td><td>20050601</td><td>1</td><td>null</td><td>2023-05-02T15:39:23.585+0000</td><td>dbfs:/FileStore/ds2002-lab06/sourcedata/stream/rental/sakila_fact_rental.json</td></tr><tr><td>2.99</td><td>473</td><td>942</td><td>4279</td><td>2006-02-15 21:30:53</td><td>20050530</td><td>20050608</td><td>2</td><td>null</td><td>2023-05-02T15:39:23.585+0000</td><td>dbfs:/FileStore/ds2002-lab06/sourcedata/stream/rental/sakila_fact_rental.json</td></tr><tr><td>4.99</td><td>57</td><td>943</td><td>3737</td><td>2006-02-15 21:30:53</td><td>20050530</td><td>20050606</td><td>1</td><td>null</td><td>2023-05-02T15:39:23.585+0000</td><td>dbfs:/FileStore/ds2002-lab06/sourcedata/stream/rental/sakila_fact_rental.json</td></tr><tr><td>7.99</td><td>131</td><td>944</td><td>151</td><td>2006-02-15 21:30:53</td><td>20050530</td><td>20050607</td><td>2</td><td>null</td><td>2023-05-02T15:39:23.585+0000</td><td>dbfs:/FileStore/ds2002-lab06/sourcedata/stream/rental/sakila_fact_rental.json</td></tr><tr><td>0.99</td><td>357</td><td>945</td><td>1441</td><td>2006-02-15 21:30:53</td><td>20050530</td><td>20050602</td><td>2</td><td>null</td><td>2023-05-02T15:39:23.585+0000</td><td>dbfs:/FileStore/ds2002-lab06/sourcedata/stream/rental/sakila_fact_rental.json</td></tr><tr><td>2.99</td><td>486</td><td>946</td><td>1264</td><td>2006-02-15 21:30:53</td><td>20050530</td><td>20050608</td><td>1</td><td>null</td><td>2023-05-02T15:39:23.585+0000</td><td>dbfs:/FileStore/ds2002-lab06/sourcedata/stream/rental/sakila_fact_rental.json</td></tr><tr><td>4.99</td><td>62</td><td>947</td><td>4478</td><td>2006-02-15 21:30:53</td><td>20050530</td><td>20050604</td><td>1</td><td>null</td><td>2023-05-02T15:39:23.585+0000</td><td>dbfs:/FileStore/ds2002-lab06/sourcedata/stream/rental/sakila_fact_rental.json</td></tr><tr><td>8.99</td><td>245</td><td>948</td><td>585</td><td>2006-02-15 21:30:53</td><td>20050530</td><td>20050608</td><td>2</td><td>null</td><td>2023-05-02T15:39:23.585+0000</td><td>dbfs:/FileStore/ds2002-lab06/sourcedata/stream/rental/sakila_fact_rental.json</td></tr><tr><td>2.99</td><td>368</td><td>949</td><td>2202</td><td>2006-02-15 21:30:53</td><td>20050530</td><td>20050603</td><td>1</td><td>null</td><td>2023-05-02T15:39:23.585+0000</td><td>dbfs:/FileStore/ds2002-lab06/sourcedata/stream/rental/sakila_fact_rental.json</td></tr><tr><td>0.99</td><td>83</td><td>950</td><td>491</td><td>2006-02-15 21:30:53</td><td>20050530</td><td>20050601</td><td>1</td><td>null</td><td>2023-05-02T15:39:23.585+0000</td><td>dbfs:/FileStore/ds2002-lab06/sourcedata/stream/rental/sakila_fact_rental.json</td></tr><tr><td>2.99</td><td>59</td><td>951</td><td>1395</td><td>2006-02-15 21:30:53</td><td>20050530</td><td>20050531</td><td>2</td><td>null</td><td>2023-05-02T15:39:23.585+0000</td><td>dbfs:/FileStore/ds2002-lab06/sourcedata/stream/rental/sakila_fact_rental.json</td></tr><tr><td>2.99</td><td>311</td><td>952</td><td>4389</td><td>2006-02-15 21:30:53</td><td>20050530</td><td>20050602</td><td>2</td><td>null</td><td>2023-05-02T15:39:23.585+0000</td><td>dbfs:/FileStore/ds2002-lab06/sourcedata/stream/rental/sakila_fact_rental.json</td></tr><tr><td>2.99</td><td>210</td><td>953</td><td>2194</td><td>2006-02-15 21:30:53</td><td>20050530</td><td>20050531</td><td>1</td><td>null</td><td>2023-05-02T15:39:23.585+0000</td><td>dbfs:/FileStore/ds2002-lab06/sourcedata/stream/rental/sakila_fact_rental.json</td></tr><tr><td>3.99</td><td>297</td><td>954</td><td>1231</td><td>2006-02-15 21:30:53</td><td>20050530</td><td>20050608</td><td>2</td><td>null</td><td>2023-05-02T15:39:23.585+0000</td><td>dbfs:/FileStore/ds2002-lab06/sourcedata/stream/rental/sakila_fact_rental.json</td></tr><tr><td>0.99</td><td>301</td><td>955</td><td>4140</td><td>2006-02-15 21:30:53</td><td>20050530</td><td>20050531</td><td>2</td><td>null</td><td>2023-05-02T15:39:23.585+0000</td><td>dbfs:/FileStore/ds2002-lab06/sourcedata/stream/rental/sakila_fact_rental.json</td></tr><tr><td>2.99</td><td>296</td><td>956</td><td>647</td><td>2006-02-15 21:30:53</td><td>20050530</td><td>20050607</td><td>2</td><td>null</td><td>2023-05-02T15:39:23.585+0000</td><td>dbfs:/FileStore/ds2002-lab06/sourcedata/stream/rental/sakila_fact_rental.json</td></tr><tr><td>4.99</td><td>440</td><td>957</td><td>4428</td><td>2006-02-15 21:30:53</td><td>20050530</td><td>20050603</td><td>2</td><td>null</td><td>2023-05-02T15:39:23.585+0000</td><td>dbfs:/FileStore/ds2002-lab06/sourcedata/stream/rental/sakila_fact_rental.json</td></tr><tr><td>0.99</td><td>186</td><td>958</td><td>548</td><td>2006-02-15 21:30:53</td><td>20050530</td><td>20050601</td><td>2</td><td>null</td><td>2023-05-02T15:39:23.585+0000</td><td>dbfs:/FileStore/ds2002-lab06/sourcedata/stream/rental/sakila_fact_rental.json</td></tr><tr><td>4.99</td><td>535</td><td>959</td><td>3108</td><td>2006-02-15 21:30:53</td><td>20050530</td><td>20050602</td><td>2</td><td>null</td><td>2023-05-02T15:39:23.585+0000</td><td>dbfs:/FileStore/ds2002-lab06/sourcedata/stream/rental/sakila_fact_rental.json</td></tr><tr><td>2.99</td><td>445</td><td>960</td><td>1966</td><td>2006-02-15 21:30:53</td><td>20050530</td><td>20050604</td><td>2</td><td>null</td><td>2023-05-02T15:39:23.585+0000</td><td>dbfs:/FileStore/ds2002-lab06/sourcedata/stream/rental/sakila_fact_rental.json</td></tr><tr><td>4.99</td><td>588</td><td>961</td><td>3293</td><td>2006-02-15 21:30:53</td><td>20050530</td><td>20050604</td><td>2</td><td>null</td><td>2023-05-02T15:39:23.585+0000</td><td>dbfs:/FileStore/ds2002-lab06/sourcedata/stream/rental/sakila_fact_rental.json</td></tr><tr><td>6.99</td><td>520</td><td>962</td><td>4535</td><td>2006-02-15 21:30:53</td><td>20050530</td><td>20050605</td><td>1</td><td>null</td><td>2023-05-02T15:39:23.585+0000</td><td>dbfs:/FileStore/ds2002-lab06/sourcedata/stream/rental/sakila_fact_rental.json</td></tr><tr><td>3.99</td><td>225</td><td>963</td><td>1921</td><td>2006-02-15 21:30:53</td><td>20050530</td><td>20050607</td><td>2</td><td>null</td><td>2023-05-02T15:39:23.585+0000</td><td>dbfs:/FileStore/ds2002-lab06/sourcedata/stream/rental/sakila_fact_rental.json</td></tr><tr><td>2.99</td><td>287</td><td>964</td><td>657</td><td>2006-02-15 21:30:53</td><td>20050530</td><td>20050604</td><td>2</td><td>null</td><td>2023-05-02T15:39:23.585+0000</td><td>dbfs:/FileStore/ds2002-lab06/sourcedata/stream/rental/sakila_fact_rental.json</td></tr><tr><td>0.99</td><td>502</td><td>965</td><td>3363</td><td>2006-02-15 21:30:53</td><td>20050530</td><td>20050531</td><td>2</td><td>null</td><td>2023-05-02T15:39:23.585+0000</td><td>dbfs:/FileStore/ds2002-lab06/sourcedata/stream/rental/sakila_fact_rental.json</td></tr><tr><td>0.99</td><td>496</td><td>966</td><td>1294</td><td>2006-02-15 21:30:53</td><td>20050530</td><td>20050531</td><td>1</td><td>null</td><td>2023-05-02T15:39:23.585+0000</td><td>dbfs:/FileStore/ds2002-lab06/sourcedata/stream/rental/sakila_fact_rental.json</td></tr><tr><td>7.99</td><td>330</td><td>967</td><td>1954</td><td>2006-02-15 21:30:53</td><td>20050530</td><td>20050609</td><td>2</td><td>null</td><td>2023-05-02T15:39:23.585+0000</td><td>dbfs:/FileStore/ds2002-lab06/sourcedata/stream/rental/sakila_fact_rental.json</td></tr><tr><td>0.99</td><td>576</td><td>968</td><td>119</td><td>2006-02-15 21:30:53</td><td>20050530</td><td>20050531</td><td>2</td><td>null</td><td>2023-05-02T15:39:23.585+0000</td><td>dbfs:/FileStore/ds2002-lab06/sourcedata/stream/rental/sakila_fact_rental.json</td></tr><tr><td>4.99</td><td>551</td><td>969</td><td>443</td><td>2006-02-15 21:30:53</td><td>20050530</td><td>20050531</td><td>1</td><td>null</td><td>2023-05-02T15:39:23.585+0000</td><td>dbfs:/FileStore/ds2002-lab06/sourcedata/stream/rental/sakila_fact_rental.json</td></tr><tr><td>6.99</td><td>307</td><td>970</td><td>1520</td><td>2006-02-15 21:30:53</td><td>20050530</td><td>20050609</td><td>1</td><td>null</td><td>2023-05-02T15:39:23.585+0000</td><td>dbfs:/FileStore/ds2002-lab06/sourcedata/stream/rental/sakila_fact_rental.json</td></tr><tr><td>4.99</td><td>561</td><td>971</td><td>2911</td><td>2006-02-15 21:30:53</td><td>20050530</td><td>20050606</td><td>1</td><td>null</td><td>2023-05-02T15:39:23.585+0000</td><td>dbfs:/FileStore/ds2002-lab06/sourcedata/stream/rental/sakila_fact_rental.json</td></tr><tr><td>1.99</td><td>411</td><td>972</td><td>2</td><td>2006-02-15 21:30:53</td><td>20050530</td><td>20050606</td><td>1</td><td>null</td><td>2023-05-02T15:39:23.585+0000</td><td>dbfs:/FileStore/ds2002-lab06/sourcedata/stream/rental/sakila_fact_rental.json</td></tr><tr><td>3.99</td><td>473</td><td>973</td><td>1914</td><td>2006-02-15 21:30:53</td><td>20050530</td><td>20050608</td><td>2</td><td>null</td><td>2023-05-02T15:39:23.585+0000</td><td>dbfs:/FileStore/ds2002-lab06/sourcedata/stream/rental/sakila_fact_rental.json</td></tr><tr><td>6.99</td><td>596</td><td>974</td><td>2617</td><td>2006-02-15 21:30:53</td><td>20050530</td><td>20050608</td><td>2</td><td>null</td><td>2023-05-02T15:39:23.585+0000</td><td>dbfs:/FileStore/ds2002-lab06/sourcedata/stream/rental/sakila_fact_rental.json</td></tr><tr><td>4.99</td><td>7</td><td>975</td><td>3109</td><td>2006-02-15 21:30:53</td><td>20050530</td><td>20050603</td><td>2</td><td>null</td><td>2023-05-02T15:39:23.585+0000</td><td>dbfs:/FileStore/ds2002-lab06/sourcedata/stream/rental/sakila_fact_rental.json</td></tr><tr><td>4.99</td><td>581</td><td>976</td><td>2290</td><td>2006-02-15 21:30:53</td><td>20050530</td><td>20050606</td><td>2</td><td>null</td><td>2023-05-02T15:39:23.585+0000</td><td>dbfs:/FileStore/ds2002-lab06/sourcedata/stream/rental/sakila_fact_rental.json</td></tr><tr><td>2.99</td><td>394</td><td>977</td><td>2029</td><td>2006-02-15 21:30:53</td><td>20050530</td><td>20050604</td><td>2</td><td>null</td><td>2023-05-02T15:39:23.585+0000</td><td>dbfs:/FileStore/ds2002-lab06/sourcedata/stream/rental/sakila_fact_rental.json</td></tr><tr><td>5.99</td><td>154</td><td>978</td><td>407</td><td>2006-02-15 21:30:53</td><td>20050530</td><td>20050607</td><td>1</td><td>null</td><td>2023-05-02T15:39:23.585+0000</td><td>dbfs:/FileStore/ds2002-lab06/sourcedata/stream/rental/sakila_fact_rental.json</td></tr><tr><td>2.99</td><td>279</td><td>979</td><td>3917</td><td>2006-02-15 21:30:53</td><td>20050530</td><td>20050608</td><td>2</td><td>null</td><td>2023-05-02T15:39:23.585+0000</td><td>dbfs:/FileStore/ds2002-lab06/sourcedata/stream/rental/sakila_fact_rental.json</td></tr><tr><td>0.99</td><td>273</td><td>980</td><td>4169</td><td>2006-02-15 21:30:53</td><td>20050530</td><td>20050601</td><td>1</td><td>null</td><td>2023-05-02T15:39:23.585+0000</td><td>dbfs:/FileStore/ds2002-lab06/sourcedata/stream/rental/sakila_fact_rental.json</td></tr><tr><td>4.99</td><td>326</td><td>981</td><td>2913</td><td>2006-02-15 21:30:53</td><td>20050530</td><td>20050601</td><td>2</td><td>null</td><td>2023-05-02T15:39:23.585+0000</td><td>dbfs:/FileStore/ds2002-lab06/sourcedata/stream/rental/sakila_fact_rental.json</td></tr><tr><td>4.99</td><td>524</td><td>982</td><td>3560</td><td>2006-02-15 21:30:53</td><td>20050530</td><td>20050602</td><td>1</td><td>null</td><td>2023-05-02T15:39:23.585+0000</td><td>dbfs:/FileStore/ds2002-lab06/sourcedata/stream/rental/sakila_fact_rental.json</td></tr><tr><td>0.99</td><td>115</td><td>983</td><td>63</td><td>2006-02-15 21:30:53</td><td>20050530</td><td>20050602</td><td>1</td><td>null</td><td>2023-05-02T15:39:23.585+0000</td><td>dbfs:/FileStore/ds2002-lab06/sourcedata/stream/rental/sakila_fact_rental.json</td></tr><tr><td>4.99</td><td>262</td><td>984</td><td>2305</td><td>2006-02-15 21:30:53</td><td>20050530</td><td>20050601</td><td>2</td><td>null</td><td>2023-05-02T15:39:23.585+0000</td><td>dbfs:/FileStore/ds2002-lab06/sourcedata/stream/rental/sakila_fact_rental.json</td></tr><tr><td>2.99</td><td>564</td><td>985</td><td>1573</td><td>2006-02-15 21:30:53</td><td>20050530</td><td>20050604</td><td>1</td><td>null</td><td>2023-05-02T15:39:23.585+0000</td><td>dbfs:/FileStore/ds2002-lab06/sourcedata/stream/rental/sakila_fact_rental.json</td></tr><tr><td>2.99</td><td>253</td><td>986</td><td>4045</td><td>2006-02-15 21:30:53</td><td>20050530</td><td>20050601</td><td>1</td><td>null</td><td>2023-05-02T15:39:23.585+0000</td><td>dbfs:/FileStore/ds2002-lab06/sourcedata/stream/rental/sakila_fact_rental.json</td></tr><tr><td>6.99</td><td>11</td><td>987</td><td>390</td><td>2006-02-15 21:30:53</td><td>20050530</td><td>20050607</td><td>1</td><td>null</td><td>2023-05-02T15:39:23.585+0000</td><td>dbfs:/FileStore/ds2002-lab06/sourcedata/stream/rental/sakila_fact_rental.json</td></tr><tr><td>4.99</td><td>12</td><td>988</td><td>1364</td><td>2006-02-15 21:30:53</td><td>20050530</td><td>20050607</td><td>1</td><td>null</td><td>2023-05-02T15:39:23.585+0000</td><td>dbfs:/FileStore/ds2002-lab06/sourcedata/stream/rental/sakila_fact_rental.json</td></tr><tr><td>2.99</td><td>83</td><td>989</td><td>4388</td><td>2006-02-15 21:30:53</td><td>20050530</td><td>20050603</td><td>2</td><td>null</td><td>2023-05-02T15:39:23.585+0000</td><td>dbfs:/FileStore/ds2002-lab06/sourcedata/stream/rental/sakila_fact_rental.json</td></tr><tr><td>3.99</td><td>311</td><td>990</td><td>4171</td><td>2006-02-15 21:30:53</td><td>20050530</td><td>20050606</td><td>2</td><td>null</td><td>2023-05-02T15:39:23.585+0000</td><td>dbfs:/FileStore/ds2002-lab06/sourcedata/stream/rental/sakila_fact_rental.json</td></tr><tr><td>8.99</td><td>593</td><td>991</td><td>2863</td><td>2006-02-15 21:30:53</td><td>20050530</td><td>20050607</td><td>1</td><td>null</td><td>2023-05-02T15:39:23.585+0000</td><td>dbfs:/FileStore/ds2002-lab06/sourcedata/stream/rental/sakila_fact_rental.json</td></tr><tr><td>2.99</td><td>123</td><td>992</td><td>3572</td><td>2006-02-15 21:30:53</td><td>20050530</td><td>20050605</td><td>1</td><td>null</td><td>2023-05-02T15:39:23.585+0000</td><td>dbfs:/FileStore/ds2002-lab06/sourcedata/stream/rental/sakila_fact_rental.json</td></tr><tr><td>4.99</td><td>513</td><td>993</td><td>2080</td><td>2006-02-15 21:30:53</td><td>20050530</td><td>20050604</td><td>1</td><td>null</td><td>2023-05-02T15:39:23.585+0000</td><td>dbfs:/FileStore/ds2002-lab06/sourcedata/stream/rental/sakila_fact_rental.json</td></tr><tr><td>4.99</td><td>472</td><td>994</td><td>2798</td><td>2006-02-15 21:30:53</td><td>20050530</td><td>20050604</td><td>2</td><td>null</td><td>2023-05-02T15:39:23.585+0000</td><td>dbfs:/FileStore/ds2002-lab06/sourcedata/stream/rental/sakila_fact_rental.json</td></tr><tr><td>3.99</td><td>150</td><td>995</td><td>17</td><td>2006-02-15 21:30:53</td><td>20050531</td><td>20050606</td><td>2</td><td>null</td><td>2023-05-02T15:39:23.585+0000</td><td>dbfs:/FileStore/ds2002-lab06/sourcedata/stream/rental/sakila_fact_rental.json</td></tr><tr><td>2.99</td><td>331</td><td>996</td><td>2075</td><td>2006-02-15 21:30:53</td><td>20050531</td><td>20050531</td><td>2</td><td>null</td><td>2023-05-02T15:39:23.585+0000</td><td>dbfs:/FileStore/ds2002-lab06/sourcedata/stream/rental/sakila_fact_rental.json</td></tr><tr><td>4.99</td><td>216</td><td>997</td><td>4243</td><td>2006-02-15 21:30:53</td><td>20050531</td><td>20050602</td><td>2</td><td>null</td><td>2023-05-02T15:39:23.585+0000</td><td>dbfs:/FileStore/ds2002-lab06/sourcedata/stream/rental/sakila_fact_rental.json</td></tr><tr><td>4.99</td><td>389</td><td>998</td><td>3395</td><td>2006-02-15 21:30:53</td><td>20050531</td><td>20050601</td><td>1</td><td>null</td><td>2023-05-02T15:39:23.585+0000</td><td>dbfs:/FileStore/ds2002-lab06/sourcedata/stream/rental/sakila_fact_rental.json</td></tr><tr><td>4.99</td><td>413</td><td>999</td><td>4433</td><td>2006-02-15 21:30:53</td><td>20050531</td><td>20050603</td><td>2</td><td>null</td><td>2023-05-02T15:39:23.585+0000</td><td>dbfs:/FileStore/ds2002-lab06/sourcedata/stream/rental/sakila_fact_rental.json</td></tr><tr><td>6.99</td><td>332</td><td>1000</td><td>1774</td><td>2006-02-15 21:30:53</td><td>20050531</td><td>20050608</td><td>2</td><td>null</td><td>2023-05-02T15:39:23.585+0000</td><td>dbfs:/FileStore/ds2002-lab06/sourcedata/stream/rental/sakila_fact_rental.json</td></tr><tr><td>2.99</td><td>64</td><td>1001</td><td>1498</td><td>2006-02-15 21:30:53</td><td>20050531</td><td>20050606</td><td>2</td><td>null</td><td>2023-05-02T15:39:23.585+0000</td><td>dbfs:/FileStore/ds2002-lab06/sourcedata/stream/rental/sakila_fact_rental.json</td></tr></tbody></table></div>"
      ]
     },
     "metadata": {
      "application/vnd.databricks.v1+output": {
       "addedWidgets": {},
       "aggData": [],
       "aggError": "",
       "aggOverflow": false,
       "aggSchema": [],
       "aggSeriesLimitReached": false,
       "aggType": "",
       "arguments": {},
       "columnCustomDisplayInfos": {},
       "data": [
        [
         2.99,
         130,
         1,
         367,
         "2006-02-15 21:30:53",
         20050524,
         "20050526",
         1,
         null,
         "2023-05-02T15:39:23.585+0000",
         "dbfs:/FileStore/ds2002-lab06/sourcedata/stream/rental/sakila_fact_rental.json"
        ],
        [
         2.99,
         459,
         2,
         1525,
         "2006-02-15 21:30:53",
         20050524,
         "20050528",
         1,
         null,
         "2023-05-02T15:39:23.585+0000",
         "dbfs:/FileStore/ds2002-lab06/sourcedata/stream/rental/sakila_fact_rental.json"
        ],
        [
         3.99,
         408,
         3,
         1711,
         "2006-02-15 21:30:53",
         20050524,
         "20050601",
         1,
         null,
         "2023-05-02T15:39:23.585+0000",
         "dbfs:/FileStore/ds2002-lab06/sourcedata/stream/rental/sakila_fact_rental.json"
        ],
        [
         4.99,
         333,
         4,
         2452,
         "2006-02-15 21:30:53",
         20050524,
         "20050603",
         2,
         null,
         "2023-05-02T15:39:23.585+0000",
         "dbfs:/FileStore/ds2002-lab06/sourcedata/stream/rental/sakila_fact_rental.json"
        ],
        [
         6.99,
         222,
         5,
         2079,
         "2006-02-15 21:30:53",
         20050524,
         "20050602",
         1,
         null,
         "2023-05-02T15:39:23.585+0000",
         "dbfs:/FileStore/ds2002-lab06/sourcedata/stream/rental/sakila_fact_rental.json"
        ],
        [
         0.99,
         549,
         6,
         2792,
         "2006-02-15 21:30:53",
         20050524,
         "20050527",
         1,
         null,
         "2023-05-02T15:39:23.585+0000",
         "dbfs:/FileStore/ds2002-lab06/sourcedata/stream/rental/sakila_fact_rental.json"
        ],
        [
         1.99,
         269,
         7,
         3995,
         "2006-02-15 21:30:53",
         20050524,
         "20050529",
         2,
         null,
         "2023-05-02T15:39:23.585+0000",
         "dbfs:/FileStore/ds2002-lab06/sourcedata/stream/rental/sakila_fact_rental.json"
        ],
        [
         4.99,
         239,
         8,
         2346,
         "2006-02-15 21:30:53",
         20050524,
         "20050527",
         2,
         null,
         "2023-05-02T15:39:23.585+0000",
         "dbfs:/FileStore/ds2002-lab06/sourcedata/stream/rental/sakila_fact_rental.json"
        ],
        [
         4.99,
         126,
         9,
         2580,
         "2006-02-15 21:30:53",
         20050525,
         "20050528",
         1,
         null,
         "2023-05-02T15:39:23.585+0000",
         "dbfs:/FileStore/ds2002-lab06/sourcedata/stream/rental/sakila_fact_rental.json"
        ],
        [
         5.99,
         399,
         10,
         1824,
         "2006-02-15 21:30:53",
         20050525,
         "20050531",
         2,
         null,
         "2023-05-02T15:39:23.585+0000",
         "dbfs:/FileStore/ds2002-lab06/sourcedata/stream/rental/sakila_fact_rental.json"
        ],
        [
         8.99,
         142,
         11,
         4443,
         "2006-02-15 21:30:53",
         20050525,
         "20050602",
         2,
         null,
         "2023-05-02T15:39:23.585+0000",
         "dbfs:/FileStore/ds2002-lab06/sourcedata/stream/rental/sakila_fact_rental.json"
        ],
        [
         4.99,
         261,
         12,
         1584,
         "2006-02-15 21:30:53",
         20050525,
         "20050530",
         2,
         null,
         "2023-05-02T15:39:23.585+0000",
         "dbfs:/FileStore/ds2002-lab06/sourcedata/stream/rental/sakila_fact_rental.json"
        ],
        [
         6.99,
         334,
         13,
         2294,
         "2006-02-15 21:30:53",
         20050525,
         "20050530",
         1,
         null,
         "2023-05-02T15:39:23.585+0000",
         "dbfs:/FileStore/ds2002-lab06/sourcedata/stream/rental/sakila_fact_rental.json"
        ],
        [
         0.99,
         446,
         14,
         2701,
         "2006-02-15 21:30:53",
         20050525,
         "20050526",
         1,
         null,
         "2023-05-02T15:39:23.585+0000",
         "dbfs:/FileStore/ds2002-lab06/sourcedata/stream/rental/sakila_fact_rental.json"
        ],
        [
         9.99,
         319,
         15,
         3049,
         "2006-02-15 21:30:53",
         20050525,
         "20050603",
         1,
         null,
         "2023-05-02T15:39:23.585+0000",
         "dbfs:/FileStore/ds2002-lab06/sourcedata/stream/rental/sakila_fact_rental.json"
        ],
        [
         4.99,
         316,
         16,
         389,
         "2006-02-15 21:30:53",
         20050525,
         "20050526",
         2,
         null,
         "2023-05-02T15:39:23.585+0000",
         "dbfs:/FileStore/ds2002-lab06/sourcedata/stream/rental/sakila_fact_rental.json"
        ],
        [
         2.99,
         575,
         17,
         830,
         "2006-02-15 21:30:53",
         20050525,
         "20050527",
         1,
         null,
         "2023-05-02T15:39:23.585+0000",
         "dbfs:/FileStore/ds2002-lab06/sourcedata/stream/rental/sakila_fact_rental.json"
        ],
        [
         0.99,
         19,
         18,
         3376,
         "2006-02-15 21:30:53",
         20050525,
         "20050531",
         2,
         null,
         "2023-05-02T15:39:23.585+0000",
         "dbfs:/FileStore/ds2002-lab06/sourcedata/stream/rental/sakila_fact_rental.json"
        ],
        [
         4.99,
         456,
         19,
         1941,
         "2006-02-15 21:30:53",
         20050525,
         "20050531",
         1,
         null,
         "2023-05-02T15:39:23.585+0000",
         "dbfs:/FileStore/ds2002-lab06/sourcedata/stream/rental/sakila_fact_rental.json"
        ],
        [
         2.99,
         185,
         20,
         3517,
         "2006-02-15 21:30:53",
         20050525,
         "20050527",
         2,
         null,
         "2023-05-02T15:39:23.585+0000",
         "dbfs:/FileStore/ds2002-lab06/sourcedata/stream/rental/sakila_fact_rental.json"
        ],
        [
         4.99,
         388,
         21,
         146,
         "2006-02-15 21:30:53",
         20050525,
         "20050526",
         2,
         null,
         "2023-05-02T15:39:23.585+0000",
         "dbfs:/FileStore/ds2002-lab06/sourcedata/stream/rental/sakila_fact_rental.json"
        ],
        [
         4.99,
         509,
         22,
         727,
         "2006-02-15 21:30:53",
         20050525,
         "20050526",
         2,
         null,
         "2023-05-02T15:39:23.585+0000",
         "dbfs:/FileStore/ds2002-lab06/sourcedata/stream/rental/sakila_fact_rental.json"
        ],
        [
         4.99,
         438,
         23,
         4441,
         "2006-02-15 21:30:53",
         20050525,
         "20050529",
         1,
         null,
         "2023-05-02T15:39:23.585+0000",
         "dbfs:/FileStore/ds2002-lab06/sourcedata/stream/rental/sakila_fact_rental.json"
        ],
        [
         4.99,
         350,
         24,
         3273,
         "2006-02-15 21:30:53",
         20050525,
         "20050527",
         1,
         null,
         "2023-05-02T15:39:23.585+0000",
         "dbfs:/FileStore/ds2002-lab06/sourcedata/stream/rental/sakila_fact_rental.json"
        ],
        [
         0.99,
         37,
         25,
         3961,
         "2006-02-15 21:30:53",
         20050525,
         "20050527",
         2,
         null,
         "2023-05-02T15:39:23.585+0000",
         "dbfs:/FileStore/ds2002-lab06/sourcedata/stream/rental/sakila_fact_rental.json"
        ],
        [
         3.99,
         371,
         26,
         4371,
         "2006-02-15 21:30:53",
         20050525,
         "20050531",
         1,
         null,
         "2023-05-02T15:39:23.585+0000",
         "dbfs:/FileStore/ds2002-lab06/sourcedata/stream/rental/sakila_fact_rental.json"
        ],
        [
         4.99,
         301,
         27,
         1225,
         "2006-02-15 21:30:53",
         20050525,
         "20050530",
         2,
         null,
         "2023-05-02T15:39:23.585+0000",
         "dbfs:/FileStore/ds2002-lab06/sourcedata/stream/rental/sakila_fact_rental.json"
        ],
        [
         4.99,
         232,
         28,
         4068,
         "2006-02-15 21:30:53",
         20050525,
         "20050526",
         2,
         null,
         "2023-05-02T15:39:23.585+0000",
         "dbfs:/FileStore/ds2002-lab06/sourcedata/stream/rental/sakila_fact_rental.json"
        ],
        [
         0.99,
         44,
         29,
         611,
         "2006-02-15 21:30:53",
         20050525,
         "20050530",
         2,
         null,
         "2023-05-02T15:39:23.585+0000",
         "dbfs:/FileStore/ds2002-lab06/sourcedata/stream/rental/sakila_fact_rental.json"
        ],
        [
         2.99,
         430,
         30,
         3744,
         "2006-02-15 21:30:53",
         20050525,
         "20050530",
         1,
         null,
         "2023-05-02T15:39:23.585+0000",
         "dbfs:/FileStore/ds2002-lab06/sourcedata/stream/rental/sakila_fact_rental.json"
        ],
        [
         4.99,
         369,
         31,
         4482,
         "2006-02-15 21:30:53",
         20050525,
         "20050530",
         1,
         null,
         "2023-05-02T15:39:23.585+0000",
         "dbfs:/FileStore/ds2002-lab06/sourcedata/stream/rental/sakila_fact_rental.json"
        ],
        [
         0.99,
         230,
         32,
         3832,
         "2006-02-15 21:30:53",
         20050525,
         "20050525",
         1,
         null,
         "2023-05-02T15:39:23.585+0000",
         "dbfs:/FileStore/ds2002-lab06/sourcedata/stream/rental/sakila_fact_rental.json"
        ],
        [
         0.99,
         272,
         33,
         1681,
         "2006-02-15 21:30:53",
         20050525,
         "20050527",
         1,
         null,
         "2023-05-02T15:39:23.585+0000",
         "dbfs:/FileStore/ds2002-lab06/sourcedata/stream/rental/sakila_fact_rental.json"
        ],
        [
         2.99,
         597,
         34,
         2613,
         "2006-02-15 21:30:53",
         20050525,
         "20050529",
         2,
         null,
         "2023-05-02T15:39:23.585+0000",
         "dbfs:/FileStore/ds2002-lab06/sourcedata/stream/rental/sakila_fact_rental.json"
        ],
        [
         4.99,
         484,
         35,
         1286,
         "2006-02-15 21:30:53",
         20050525,
         "20050527",
         2,
         null,
         "2023-05-02T15:39:23.585+0000",
         "dbfs:/FileStore/ds2002-lab06/sourcedata/stream/rental/sakila_fact_rental.json"
        ],
        [
         2.99,
         88,
         36,
         1308,
         "2006-02-15 21:30:53",
         20050525,
         "20050529",
         1,
         null,
         "2023-05-02T15:39:23.585+0000",
         "dbfs:/FileStore/ds2002-lab06/sourcedata/stream/rental/sakila_fact_rental.json"
        ],
        [
         0.99,
         535,
         37,
         403,
         "2006-02-15 21:30:53",
         20050525,
         "20050529",
         1,
         null,
         "2023-05-02T15:39:23.585+0000",
         "dbfs:/FileStore/ds2002-lab06/sourcedata/stream/rental/sakila_fact_rental.json"
        ],
        [
         4.99,
         302,
         38,
         2540,
         "2006-02-15 21:30:53",
         20050525,
         "20050601",
         1,
         null,
         "2023-05-02T15:39:23.585+0000",
         "dbfs:/FileStore/ds2002-lab06/sourcedata/stream/rental/sakila_fact_rental.json"
        ],
        [
         0.99,
         207,
         39,
         4466,
         "2006-02-15 21:30:53",
         20050525,
         "20050531",
         2,
         null,
         "2023-05-02T15:39:23.585+0000",
         "dbfs:/FileStore/ds2002-lab06/sourcedata/stream/rental/sakila_fact_rental.json"
        ],
        [
         4.99,
         413,
         40,
         2638,
         "2006-02-15 21:30:53",
         20050525,
         "20050527",
         1,
         null,
         "2023-05-02T15:39:23.585+0000",
         "dbfs:/FileStore/ds2002-lab06/sourcedata/stream/rental/sakila_fact_rental.json"
        ],
        [
         5.99,
         174,
         41,
         1761,
         "2006-02-15 21:30:53",
         20050525,
         "20050602",
         1,
         null,
         "2023-05-02T15:39:23.585+0000",
         "dbfs:/FileStore/ds2002-lab06/sourcedata/stream/rental/sakila_fact_rental.json"
        ],
        [
         4.99,
         523,
         42,
         380,
         "2006-02-15 21:30:53",
         20050525,
         "20050531",
         2,
         null,
         "2023-05-02T15:39:23.585+0000",
         "dbfs:/FileStore/ds2002-lab06/sourcedata/stream/rental/sakila_fact_rental.json"
        ],
        [
         2.99,
         532,
         43,
         2578,
         "2006-02-15 21:30:53",
         20050525,
         "20050526",
         2,
         null,
         "2023-05-02T15:39:23.585+0000",
         "dbfs:/FileStore/ds2002-lab06/sourcedata/stream/rental/sakila_fact_rental.json"
        ],
        [
         0.99,
         207,
         44,
         3098,
         "2006-02-15 21:30:53",
         20050525,
         "20050529",
         2,
         null,
         "2023-05-02T15:39:23.585+0000",
         "dbfs:/FileStore/ds2002-lab06/sourcedata/stream/rental/sakila_fact_rental.json"
        ],
        [
         7.99,
         436,
         45,
         1853,
         "2006-02-15 21:30:53",
         20050525,
         "20050602",
         2,
         null,
         "2023-05-02T15:39:23.585+0000",
         "dbfs:/FileStore/ds2002-lab06/sourcedata/stream/rental/sakila_fact_rental.json"
        ],
        [
         5.99,
         7,
         46,
         3318,
         "2006-02-15 21:30:53",
         20050525,
         "20050602",
         2,
         null,
         "2023-05-02T15:39:23.585+0000",
         "dbfs:/FileStore/ds2002-lab06/sourcedata/stream/rental/sakila_fact_rental.json"
        ],
        [
         3.99,
         35,
         47,
         2211,
         "2006-02-15 21:30:53",
         20050525,
         "20050530",
         1,
         null,
         "2023-05-02T15:39:23.585+0000",
         "dbfs:/FileStore/ds2002-lab06/sourcedata/stream/rental/sakila_fact_rental.json"
        ],
        [
         1.99,
         282,
         48,
         1780,
         "2006-02-15 21:30:53",
         20050525,
         "20050602",
         1,
         null,
         "2023-05-02T15:39:23.585+0000",
         "dbfs:/FileStore/ds2002-lab06/sourcedata/stream/rental/sakila_fact_rental.json"
        ],
        [
         2.99,
         498,
         49,
         2965,
         "2006-02-15 21:30:53",
         20050525,
         "20050530",
         2,
         null,
         "2023-05-02T15:39:23.585+0000",
         "dbfs:/FileStore/ds2002-lab06/sourcedata/stream/rental/sakila_fact_rental.json"
        ],
        [
         2.99,
         18,
         50,
         1983,
         "2006-02-15 21:30:53",
         20050525,
         "20050528",
         2,
         null,
         "2023-05-02T15:39:23.585+0000",
         "dbfs:/FileStore/ds2002-lab06/sourcedata/stream/rental/sakila_fact_rental.json"
        ],
        [
         4.99,
         256,
         51,
         1257,
         "2006-02-15 21:30:53",
         20050525,
         "20050526",
         1,
         null,
         "2023-05-02T15:39:23.585+0000",
         "dbfs:/FileStore/ds2002-lab06/sourcedata/stream/rental/sakila_fact_rental.json"
        ],
        [
         0.99,
         507,
         52,
         4017,
         "2006-02-15 21:30:53",
         20050525,
         "20050531",
         2,
         null,
         "2023-05-02T15:39:23.585+0000",
         "dbfs:/FileStore/ds2002-lab06/sourcedata/stream/rental/sakila_fact_rental.json"
        ],
        [
         4.99,
         569,
         53,
         1255,
         "2006-02-15 21:30:53",
         20050525,
         "20050527",
         2,
         null,
         "2023-05-02T15:39:23.585+0000",
         "dbfs:/FileStore/ds2002-lab06/sourcedata/stream/rental/sakila_fact_rental.json"
        ],
        [
         4.99,
         291,
         54,
         2787,
         "2006-02-15 21:30:53",
         20050525,
         "20050601",
         2,
         null,
         "2023-05-02T15:39:23.585+0000",
         "dbfs:/FileStore/ds2002-lab06/sourcedata/stream/rental/sakila_fact_rental.json"
        ],
        [
         2.99,
         131,
         55,
         1139,
         "2006-02-15 21:30:53",
         20050525,
         "20050530",
         1,
         null,
         "2023-05-02T15:39:23.585+0000",
         "dbfs:/FileStore/ds2002-lab06/sourcedata/stream/rental/sakila_fact_rental.json"
        ],
        [
         2.99,
         511,
         56,
         1352,
         "2006-02-15 21:30:53",
         20050525,
         "20050526",
         1,
         null,
         "2023-05-02T15:39:23.585+0000",
         "dbfs:/FileStore/ds2002-lab06/sourcedata/stream/rental/sakila_fact_rental.json"
        ],
        [
         4.99,
         6,
         57,
         3938,
         "2006-02-15 21:30:53",
         20050525,
         "20050529",
         2,
         null,
         "2023-05-02T15:39:23.585+0000",
         "dbfs:/FileStore/ds2002-lab06/sourcedata/stream/rental/sakila_fact_rental.json"
        ],
        [
         4.99,
         323,
         58,
         3050,
         "2006-02-15 21:30:53",
         20050525,
         "20050528",
         1,
         null,
         "2023-05-02T15:39:23.585+0000",
         "dbfs:/FileStore/ds2002-lab06/sourcedata/stream/rental/sakila_fact_rental.json"
        ],
        [
         5.99,
         408,
         59,
         2884,
         "2006-02-15 21:30:53",
         20050525,
         "20050601",
         1,
         null,
         "2023-05-02T15:39:23.585+0000",
         "dbfs:/FileStore/ds2002-lab06/sourcedata/stream/rental/sakila_fact_rental.json"
        ],
        [
         2.99,
         470,
         60,
         330,
         "2006-02-15 21:30:53",
         20050525,
         "20050530",
         1,
         null,
         "2023-05-02T15:39:23.585+0000",
         "dbfs:/FileStore/ds2002-lab06/sourcedata/stream/rental/sakila_fact_rental.json"
        ],
        [
         5.99,
         250,
         61,
         4210,
         "2006-02-15 21:30:53",
         20050525,
         "20050602",
         2,
         null,
         "2023-05-02T15:39:23.585+0000",
         "dbfs:/FileStore/ds2002-lab06/sourcedata/stream/rental/sakila_fact_rental.json"
        ],
        [
         2.99,
         419,
         62,
         261,
         "2006-02-15 21:30:53",
         20050525,
         "20050530",
         1,
         null,
         "2023-05-02T15:39:23.585+0000",
         "dbfs:/FileStore/ds2002-lab06/sourcedata/stream/rental/sakila_fact_rental.json"
        ],
        [
         0.99,
         383,
         63,
         4008,
         "2006-02-15 21:30:53",
         20050525,
         "20050527",
         1,
         null,
         "2023-05-02T15:39:23.585+0000",
         "dbfs:/FileStore/ds2002-lab06/sourcedata/stream/rental/sakila_fact_rental.json"
        ],
        [
         5.99,
         368,
         64,
         79,
         "2006-02-15 21:30:53",
         20050525,
         "20050603",
         1,
         null,
         "2023-05-02T15:39:23.585+0000",
         "dbfs:/FileStore/ds2002-lab06/sourcedata/stream/rental/sakila_fact_rental.json"
        ],
        [
         4.99,
         346,
         65,
         3552,
         "2006-02-15 21:30:53",
         20050525,
         "20050529",
         1,
         null,
         "2023-05-02T15:39:23.585+0000",
         "dbfs:/FileStore/ds2002-lab06/sourcedata/stream/rental/sakila_fact_rental.json"
        ],
        [
         1.99,
         86,
         66,
         1162,
         "2006-02-15 21:30:53",
         20050525,
         "20050529",
         2,
         null,
         "2023-05-02T15:39:23.585+0000",
         "dbfs:/FileStore/ds2002-lab06/sourcedata/stream/rental/sakila_fact_rental.json"
        ],
        [
         0.99,
         119,
         67,
         239,
         "2006-02-15 21:30:53",
         20050525,
         "20050527",
         2,
         null,
         "2023-05-02T15:39:23.585+0000",
         "dbfs:/FileStore/ds2002-lab06/sourcedata/stream/rental/sakila_fact_rental.json"
        ],
        [
         7.99,
         120,
         68,
         4029,
         "2006-02-15 21:30:53",
         20050525,
         "20050531",
         2,
         null,
         "2023-05-02T15:39:23.585+0000",
         "dbfs:/FileStore/ds2002-lab06/sourcedata/stream/rental/sakila_fact_rental.json"
        ],
        [
         2.99,
         305,
         69,
         3207,
         "2006-02-15 21:30:53",
         20050525,
         "20050527",
         2,
         null,
         "2023-05-02T15:39:23.585+0000",
         "dbfs:/FileStore/ds2002-lab06/sourcedata/stream/rental/sakila_fact_rental.json"
        ],
        [
         2.99,
         73,
         70,
         2168,
         "2006-02-15 21:30:53",
         20050525,
         "20050527",
         2,
         null,
         "2023-05-02T15:39:23.585+0000",
         "dbfs:/FileStore/ds2002-lab06/sourcedata/stream/rental/sakila_fact_rental.json"
        ],
        [
         0.99,
         100,
         71,
         2408,
         "2006-02-15 21:30:53",
         20050525,
         "20050528",
         1,
         null,
         "2023-05-02T15:39:23.585+0000",
         "dbfs:/FileStore/ds2002-lab06/sourcedata/stream/rental/sakila_fact_rental.json"
        ],
        [
         0.99,
         48,
         72,
         2260,
         "2006-02-15 21:30:53",
         20050525,
         "20050528",
         2,
         null,
         "2023-05-02T15:39:23.585+0000",
         "dbfs:/FileStore/ds2002-lab06/sourcedata/stream/rental/sakila_fact_rental.json"
        ],
        [
         4.99,
         391,
         73,
         517,
         "2006-02-15 21:30:53",
         20050525,
         "20050601",
         2,
         null,
         "2023-05-02T15:39:23.585+0000",
         "dbfs:/FileStore/ds2002-lab06/sourcedata/stream/rental/sakila_fact_rental.json"
        ],
        [
         0.99,
         265,
         74,
         1744,
         "2006-02-15 21:30:53",
         20050525,
         "20050526",
         2,
         null,
         "2023-05-02T15:39:23.585+0000",
         "dbfs:/FileStore/ds2002-lab06/sourcedata/stream/rental/sakila_fact_rental.json"
        ],
        [
         8.99,
         510,
         75,
         3393,
         "2006-02-15 21:30:53",
         20050525,
         "20050603",
         1,
         null,
         "2023-05-02T15:39:23.585+0000",
         "dbfs:/FileStore/ds2002-lab06/sourcedata/stream/rental/sakila_fact_rental.json"
        ],
        [
         2.99,
         1,
         76,
         3021,
         "2006-02-15 21:30:53",
         20050525,
         "20050603",
         2,
         null,
         "2023-05-02T15:39:23.585+0000",
         "dbfs:/FileStore/ds2002-lab06/sourcedata/stream/rental/sakila_fact_rental.json"
        ],
        [
         0.99,
         451,
         77,
         1303,
         "2006-02-15 21:30:53",
         20050525,
         "20050526",
         2,
         null,
         "2023-05-02T15:39:23.585+0000",
         "dbfs:/FileStore/ds2002-lab06/sourcedata/stream/rental/sakila_fact_rental.json"
        ],
        [
         5.99,
         135,
         78,
         4067,
         "2006-02-15 21:30:53",
         20050525,
         "20050531",
         2,
         null,
         "2023-05-02T15:39:23.585+0000",
         "dbfs:/FileStore/ds2002-lab06/sourcedata/stream/rental/sakila_fact_rental.json"
        ],
        [
         4.99,
         245,
         79,
         3299,
         "2006-02-15 21:30:53",
         20050525,
         "20050603",
         2,
         null,
         "2023-05-02T15:39:23.585+0000",
         "dbfs:/FileStore/ds2002-lab06/sourcedata/stream/rental/sakila_fact_rental.json"
        ],
        [
         5.99,
         314,
         80,
         2478,
         "2006-02-15 21:30:53",
         20050525,
         "20050531",
         2,
         null,
         "2023-05-02T15:39:23.585+0000",
         "dbfs:/FileStore/ds2002-lab06/sourcedata/stream/rental/sakila_fact_rental.json"
        ],
        [
         6.99,
         286,
         81,
         2610,
         "2006-02-15 21:30:53",
         20050525,
         "20050602",
         2,
         null,
         "2023-05-02T15:39:23.585+0000",
         "dbfs:/FileStore/ds2002-lab06/sourcedata/stream/rental/sakila_fact_rental.json"
        ],
        [
         6.99,
         427,
         82,
         1388,
         "2006-02-15 21:30:53",
         20050525,
         "20050601",
         1,
         null,
         "2023-05-02T15:39:23.585+0000",
         "dbfs:/FileStore/ds2002-lab06/sourcedata/stream/rental/sakila_fact_rental.json"
        ],
        [
         4.99,
         131,
         83,
         466,
         "2006-02-15 21:30:53",
         20050525,
         "20050527",
         1,
         null,
         "2023-05-02T15:39:23.585+0000",
         "dbfs:/FileStore/ds2002-lab06/sourcedata/stream/rental/sakila_fact_rental.json"
        ],
        [
         2.99,
         492,
         84,
         1829,
         "2006-02-15 21:30:53",
         20050525,
         "20050529",
         1,
         null,
         "2023-05-02T15:39:23.585+0000",
         "dbfs:/FileStore/ds2002-lab06/sourcedata/stream/rental/sakila_fact_rental.json"
        ],
        [
         4.99,
         414,
         85,
         470,
         "2006-02-15 21:30:53",
         20050525,
         "20050529",
         1,
         null,
         "2023-05-02T15:39:23.585+0000",
         "dbfs:/FileStore/ds2002-lab06/sourcedata/stream/rental/sakila_fact_rental.json"
        ],
        [
         1.99,
         266,
         86,
         2275,
         "2006-02-15 21:30:53",
         20050525,
         "20050530",
         1,
         null,
         "2023-05-02T15:39:23.585+0000",
         "dbfs:/FileStore/ds2002-lab06/sourcedata/stream/rental/sakila_fact_rental.json"
        ],
        [
         0.99,
         331,
         87,
         1586,
         "2006-02-15 21:30:53",
         20050525,
         "20050529",
         2,
         null,
         "2023-05-02T15:39:23.585+0000",
         "dbfs:/FileStore/ds2002-lab06/sourcedata/stream/rental/sakila_fact_rental.json"
        ],
        [
         3.99,
         53,
         88,
         2221,
         "2006-02-15 21:30:53",
         20050525,
         "20050529",
         2,
         null,
         "2023-05-02T15:39:23.585+0000",
         "dbfs:/FileStore/ds2002-lab06/sourcedata/stream/rental/sakila_fact_rental.json"
        ],
        [
         2.99,
         499,
         89,
         2181,
         "2006-02-15 21:30:53",
         20050525,
         "20050529",
         1,
         null,
         "2023-05-02T15:39:23.585+0000",
         "dbfs:/FileStore/ds2002-lab06/sourcedata/stream/rental/sakila_fact_rental.json"
        ],
        [
         7.99,
         25,
         90,
         2984,
         "2006-02-15 21:30:53",
         20050525,
         "20050601",
         1,
         null,
         "2023-05-02T15:39:23.585+0000",
         "dbfs:/FileStore/ds2002-lab06/sourcedata/stream/rental/sakila_fact_rental.json"
        ],
        [
         6.99,
         267,
         91,
         139,
         "2006-02-15 21:30:53",
         20050525,
         "20050601",
         1,
         null,
         "2023-05-02T15:39:23.585+0000",
         "dbfs:/FileStore/ds2002-lab06/sourcedata/stream/rental/sakila_fact_rental.json"
        ],
        [
         5.99,
         302,
         92,
         775,
         "2006-02-15 21:30:53",
         20050525,
         "20050531",
         2,
         null,
         "2023-05-02T15:39:23.585+0000",
         "dbfs:/FileStore/ds2002-lab06/sourcedata/stream/rental/sakila_fact_rental.json"
        ],
        [
         3.99,
         288,
         93,
         4360,
         "2006-02-15 21:30:53",
         20050525,
         "20050603",
         1,
         null,
         "2023-05-02T15:39:23.585+0000",
         "dbfs:/FileStore/ds2002-lab06/sourcedata/stream/rental/sakila_fact_rental.json"
        ],
        [
         2.99,
         197,
         94,
         1675,
         "2006-02-15 21:30:53",
         20050525,
         "20050530",
         1,
         null,
         "2023-05-02T15:39:23.585+0000",
         "dbfs:/FileStore/ds2002-lab06/sourcedata/stream/rental/sakila_fact_rental.json"
        ],
        [
         3.99,
         400,
         95,
         178,
         "2006-02-15 21:30:53",
         20050525,
         "20050602",
         2,
         null,
         "2023-05-02T15:39:23.585+0000",
         "dbfs:/FileStore/ds2002-lab06/sourcedata/stream/rental/sakila_fact_rental.json"
        ],
        [
         1.99,
         49,
         96,
         3418,
         "2006-02-15 21:30:53",
         20050525,
         "20050530",
         2,
         null,
         "2023-05-02T15:39:23.585+0000",
         "dbfs:/FileStore/ds2002-lab06/sourcedata/stream/rental/sakila_fact_rental.json"
        ],
        [
         4.99,
         263,
         97,
         1283,
         "2006-02-15 21:30:53",
         20050525,
         "20050528",
         2,
         null,
         "2023-05-02T15:39:23.585+0000",
         "dbfs:/FileStore/ds2002-lab06/sourcedata/stream/rental/sakila_fact_rental.json"
        ],
        [
         0.99,
         269,
         98,
         2970,
         "2006-02-15 21:30:53",
         20050525,
         "20050527",
         2,
         null,
         "2023-05-02T15:39:23.585+0000",
         "dbfs:/FileStore/ds2002-lab06/sourcedata/stream/rental/sakila_fact_rental.json"
        ],
        [
         4.99,
         44,
         99,
         535,
         "2006-02-15 21:30:53",
         20050525,
         "20050528",
         1,
         null,
         "2023-05-02T15:39:23.585+0000",
         "dbfs:/FileStore/ds2002-lab06/sourcedata/stream/rental/sakila_fact_rental.json"
        ],
        [
         4.99,
         208,
         100,
         2599,
         "2006-02-15 21:30:53",
         20050525,
         "20050602",
         1,
         null,
         "2023-05-02T15:39:23.585+0000",
         "dbfs:/FileStore/ds2002-lab06/sourcedata/stream/rental/sakila_fact_rental.json"
        ],
        [
         6.99,
         468,
         101,
         617,
         "2006-02-15 21:30:53",
         20050525,
         "20050531",
         1,
         null,
         "2023-05-02T15:39:23.585+0000",
         "dbfs:/FileStore/ds2002-lab06/sourcedata/stream/rental/sakila_fact_rental.json"
        ],
        [
         3.99,
         343,
         102,
         373,
         "2006-02-15 21:30:53",
         20050525,
         "20050531",
         1,
         null,
         "2023-05-02T15:39:23.585+0000",
         "dbfs:/FileStore/ds2002-lab06/sourcedata/stream/rental/sakila_fact_rental.json"
        ],
        [
         4.99,
         384,
         103,
         3343,
         "2006-02-15 21:30:53",
         20050525,
         "20050603",
         1,
         null,
         "2023-05-02T15:39:23.585+0000",
         "dbfs:/FileStore/ds2002-lab06/sourcedata/stream/rental/sakila_fact_rental.json"
        ],
        [
         0.99,
         310,
         104,
         4281,
         "2006-02-15 21:30:53",
         20050525,
         "20050527",
         1,
         null,
         "2023-05-02T15:39:23.585+0000",
         "dbfs:/FileStore/ds2002-lab06/sourcedata/stream/rental/sakila_fact_rental.json"
        ],
        [
         4.99,
         108,
         105,
         794,
         "2006-02-15 21:30:53",
         20050525,
         "20050530",
         2,
         null,
         "2023-05-02T15:39:23.585+0000",
         "dbfs:/FileStore/ds2002-lab06/sourcedata/stream/rental/sakila_fact_rental.json"
        ],
        [
         11.99,
         196,
         106,
         3627,
         "2006-02-15 21:30:53",
         20050525,
         "20050604",
         2,
         null,
         "2023-05-02T15:39:23.585+0000",
         "dbfs:/FileStore/ds2002-lab06/sourcedata/stream/rental/sakila_fact_rental.json"
        ],
        [
         6.99,
         317,
         107,
         2833,
         "2006-02-15 21:30:53",
         20050525,
         "20050603",
         2,
         null,
         "2023-05-02T15:39:23.585+0000",
         "dbfs:/FileStore/ds2002-lab06/sourcedata/stream/rental/sakila_fact_rental.json"
        ],
        [
         2.99,
         242,
         108,
         3289,
         "2006-02-15 21:30:53",
         20050525,
         "20050530",
         1,
         null,
         "2023-05-02T15:39:23.585+0000",
         "dbfs:/FileStore/ds2002-lab06/sourcedata/stream/rental/sakila_fact_rental.json"
        ],
        [
         1.99,
         503,
         109,
         1044,
         "2006-02-15 21:30:53",
         20050525,
         "20050529",
         2,
         null,
         "2023-05-02T15:39:23.585+0000",
         "dbfs:/FileStore/ds2002-lab06/sourcedata/stream/rental/sakila_fact_rental.json"
        ],
        [
         9.99,
         19,
         110,
         4108,
         "2006-02-15 21:30:53",
         20050525,
         "20050603",
         2,
         null,
         "2023-05-02T15:39:23.585+0000",
         "dbfs:/FileStore/ds2002-lab06/sourcedata/stream/rental/sakila_fact_rental.json"
        ],
        [
         4.99,
         227,
         111,
         3725,
         "2006-02-15 21:30:53",
         20050525,
         "20050528",
         1,
         null,
         "2023-05-02T15:39:23.585+0000",
         "dbfs:/FileStore/ds2002-lab06/sourcedata/stream/rental/sakila_fact_rental.json"
        ],
        [
         8.99,
         500,
         112,
         2153,
         "2006-02-15 21:30:53",
         20050525,
         "20050602",
         1,
         null,
         "2023-05-02T15:39:23.585+0000",
         "dbfs:/FileStore/ds2002-lab06/sourcedata/stream/rental/sakila_fact_rental.json"
        ],
        [
         2.99,
         93,
         113,
         2963,
         "2006-02-15 21:30:53",
         20050525,
         "20050527",
         2,
         null,
         "2023-05-02T15:39:23.585+0000",
         "dbfs:/FileStore/ds2002-lab06/sourcedata/stream/rental/sakila_fact_rental.json"
        ],
        [
         3.99,
         506,
         114,
         4502,
         "2006-02-15 21:30:53",
         20050525,
         "20050601",
         1,
         null,
         "2023-05-02T15:39:23.585+0000",
         "dbfs:/FileStore/ds2002-lab06/sourcedata/stream/rental/sakila_fact_rental.json"
        ],
        [
         0.99,
         455,
         115,
         749,
         "2006-02-15 21:30:53",
         20050525,
         "20050529",
         1,
         null,
         "2023-05-02T15:39:23.585+0000",
         "dbfs:/FileStore/ds2002-lab06/sourcedata/stream/rental/sakila_fact_rental.json"
        ],
        [
         4.99,
         18,
         116,
         4453,
         "2006-02-15 21:30:53",
         20050525,
         "20050526",
         1,
         null,
         "2023-05-02T15:39:23.585+0000",
         "dbfs:/FileStore/ds2002-lab06/sourcedata/stream/rental/sakila_fact_rental.json"
        ],
        [
         0.99,
         7,
         117,
         4278,
         "2006-02-15 21:30:53",
         20050525,
         "20050531",
         2,
         null,
         "2023-05-02T15:39:23.585+0000",
         "dbfs:/FileStore/ds2002-lab06/sourcedata/stream/rental/sakila_fact_rental.json"
        ],
        [
         0.99,
         524,
         118,
         872,
         "2006-02-15 21:30:53",
         20050525,
         "20050531",
         1,
         null,
         "2023-05-02T15:39:23.585+0000",
         "dbfs:/FileStore/ds2002-lab06/sourcedata/stream/rental/sakila_fact_rental.json"
        ],
        [
         4.99,
         51,
         119,
         1359,
         "2006-02-15 21:30:53",
         20050525,
         "20050529",
         2,
         null,
         "2023-05-02T15:39:23.585+0000",
         "dbfs:/FileStore/ds2002-lab06/sourcedata/stream/rental/sakila_fact_rental.json"
        ],
        [
         5.99,
         365,
         120,
         37,
         "2006-02-15 21:30:53",
         20050525,
         "20050601",
         2,
         null,
         "2023-05-02T15:39:23.585+0000",
         "dbfs:/FileStore/ds2002-lab06/sourcedata/stream/rental/sakila_fact_rental.json"
        ],
        [
         2.99,
         405,
         121,
         1053,
         "2006-02-15 21:30:53",
         20050525,
         "20050529",
         1,
         null,
         "2023-05-02T15:39:23.585+0000",
         "dbfs:/FileStore/ds2002-lab06/sourcedata/stream/rental/sakila_fact_rental.json"
        ],
        [
         3.99,
         273,
         122,
         2908,
         "2006-02-15 21:30:53",
         20050525,
         "20050602",
         1,
         null,
         "2023-05-02T15:39:23.585+0000",
         "dbfs:/FileStore/ds2002-lab06/sourcedata/stream/rental/sakila_fact_rental.json"
        ],
        [
         4.99,
         43,
         123,
         1795,
         "2006-02-15 21:30:53",
         20050525,
         "20050526",
         1,
         null,
         "2023-05-02T15:39:23.585+0000",
         "dbfs:/FileStore/ds2002-lab06/sourcedata/stream/rental/sakila_fact_rental.json"
        ],
        [
         6.99,
         246,
         124,
         212,
         "2006-02-15 21:30:53",
         20050525,
         "20050530",
         2,
         null,
         "2023-05-02T15:39:23.585+0000",
         "dbfs:/FileStore/ds2002-lab06/sourcedata/stream/rental/sakila_fact_rental.json"
        ],
        [
         5.99,
         368,
         125,
         952,
         "2006-02-15 21:30:53",
         20050525,
         "20050602",
         1,
         null,
         "2023-05-02T15:39:23.585+0000",
         "dbfs:/FileStore/ds2002-lab06/sourcedata/stream/rental/sakila_fact_rental.json"
        ],
        [
         2.99,
         439,
         126,
         2047,
         "2006-02-15 21:30:53",
         20050525,
         "20050528",
         1,
         null,
         "2023-05-02T15:39:23.585+0000",
         "dbfs:/FileStore/ds2002-lab06/sourcedata/stream/rental/sakila_fact_rental.json"
        ],
        [
         2.99,
         94,
         127,
         2026,
         "2006-02-15 21:30:53",
         20050525,
         "20050602",
         1,
         null,
         "2023-05-02T15:39:23.585+0000",
         "dbfs:/FileStore/ds2002-lab06/sourcedata/stream/rental/sakila_fact_rental.json"
        ],
        [
         4.99,
         40,
         128,
         4322,
         "2006-02-15 21:30:53",
         20050525,
         "20050529",
         1,
         null,
         "2023-05-02T15:39:23.585+0000",
         "dbfs:/FileStore/ds2002-lab06/sourcedata/stream/rental/sakila_fact_rental.json"
        ],
        [
         8.99,
         23,
         129,
         4154,
         "2006-02-15 21:30:53",
         20050525,
         "20050604",
         2,
         null,
         "2023-05-02T15:39:23.585+0000",
         "dbfs:/FileStore/ds2002-lab06/sourcedata/stream/rental/sakila_fact_rental.json"
        ],
        [
         3.99,
         56,
         130,
         3990,
         "2006-02-15 21:30:53",
         20050525,
         "20050530",
         2,
         null,
         "2023-05-02T15:39:23.585+0000",
         "dbfs:/FileStore/ds2002-lab06/sourcedata/stream/rental/sakila_fact_rental.json"
        ],
        [
         5.99,
         325,
         131,
         815,
         "2006-02-15 21:30:53",
         20050525,
         "20050530",
         2,
         null,
         "2023-05-02T15:39:23.585+0000",
         "dbfs:/FileStore/ds2002-lab06/sourcedata/stream/rental/sakila_fact_rental.json"
        ],
        [
         3.99,
         479,
         132,
         3367,
         "2006-02-15 21:30:53",
         20050525,
         "20050531",
         1,
         null,
         "2023-05-02T15:39:23.585+0000",
         "dbfs:/FileStore/ds2002-lab06/sourcedata/stream/rental/sakila_fact_rental.json"
        ],
        [
         0.99,
         237,
         133,
         399,
         "2006-02-15 21:30:53",
         20050525,
         "20050530",
         2,
         null,
         "2023-05-02T15:39:23.585+0000",
         "dbfs:/FileStore/ds2002-lab06/sourcedata/stream/rental/sakila_fact_rental.json"
        ],
        [
         4.99,
         222,
         134,
         2272,
         "2006-02-15 21:30:53",
         20050525,
         "20050602",
         1,
         null,
         "2023-05-02T15:39:23.585+0000",
         "dbfs:/FileStore/ds2002-lab06/sourcedata/stream/rental/sakila_fact_rental.json"
        ],
        [
         10.99,
         304,
         135,
         103,
         "2006-02-15 21:30:53",
         20050525,
         "20050603",
         1,
         null,
         "2023-05-02T15:39:23.585+0000",
         "dbfs:/FileStore/ds2002-lab06/sourcedata/stream/rental/sakila_fact_rental.json"
        ],
        [
         5.99,
         504,
         136,
         2296,
         "2006-02-15 21:30:53",
         20050525,
         "20050531",
         1,
         null,
         "2023-05-02T15:39:23.585+0000",
         "dbfs:/FileStore/ds2002-lab06/sourcedata/stream/rental/sakila_fact_rental.json"
        ],
        [
         2.99,
         560,
         137,
         2591,
         "2006-02-15 21:30:53",
         20050525,
         "20050601",
         2,
         null,
         "2023-05-02T15:39:23.585+0000",
         "dbfs:/FileStore/ds2002-lab06/sourcedata/stream/rental/sakila_fact_rental.json"
        ],
        [
         4.99,
         586,
         138,
         4134,
         "2006-02-15 21:30:53",
         20050525,
         "20050529",
         2,
         null,
         "2023-05-02T15:39:23.585+0000",
         "dbfs:/FileStore/ds2002-lab06/sourcedata/stream/rental/sakila_fact_rental.json"
        ],
        [
         2.99,
         257,
         139,
         327,
         "2006-02-15 21:30:53",
         20050525,
         "20050529",
         1,
         null,
         "2023-05-02T15:39:23.585+0000",
         "dbfs:/FileStore/ds2002-lab06/sourcedata/stream/rental/sakila_fact_rental.json"
        ],
        [
         0.99,
         354,
         140,
         655,
         "2006-02-15 21:30:53",
         20050525,
         "20050527",
         1,
         null,
         "2023-05-02T15:39:23.585+0000",
         "dbfs:/FileStore/ds2002-lab06/sourcedata/stream/rental/sakila_fact_rental.json"
        ],
        [
         2.99,
         89,
         141,
         811,
         "2006-02-15 21:30:53",
         20050525,
         "20050602",
         1,
         null,
         "2023-05-02T15:39:23.585+0000",
         "dbfs:/FileStore/ds2002-lab06/sourcedata/stream/rental/sakila_fact_rental.json"
        ],
        [
         0.99,
         472,
         142,
         4407,
         "2006-02-15 21:30:53",
         20050525,
         "20050529",
         2,
         null,
         "2023-05-02T15:39:23.585+0000",
         "dbfs:/FileStore/ds2002-lab06/sourcedata/stream/rental/sakila_fact_rental.json"
        ],
        [
         0.99,
         297,
         143,
         847,
         "2006-02-15 21:30:53",
         20050525,
         "20050527",
         2,
         null,
         "2023-05-02T15:39:23.585+0000",
         "dbfs:/FileStore/ds2002-lab06/sourcedata/stream/rental/sakila_fact_rental.json"
        ],
        [
         2.99,
         357,
         144,
         1689,
         "2006-02-15 21:30:53",
         20050525,
         "20050601",
         2,
         null,
         "2023-05-02T15:39:23.585+0000",
         "dbfs:/FileStore/ds2002-lab06/sourcedata/stream/rental/sakila_fact_rental.json"
        ],
        [
         2.99,
         82,
         145,
         3905,
         "2006-02-15 21:30:53",
         20050525,
         "20050531",
         1,
         null,
         "2023-05-02T15:39:23.585+0000",
         "dbfs:/FileStore/ds2002-lab06/sourcedata/stream/rental/sakila_fact_rental.json"
        ],
        [
         8.99,
         433,
         146,
         1431,
         "2006-02-15 21:30:53",
         20050526,
         "20050604",
         2,
         null,
         "2023-05-02T15:39:23.585+0000",
         "dbfs:/FileStore/ds2002-lab06/sourcedata/stream/rental/sakila_fact_rental.json"
        ],
        [
         2.99,
         274,
         147,
         633,
         "2006-02-15 21:30:53",
         20050526,
         "20050529",
         2,
         null,
         "2023-05-02T15:39:23.585+0000",
         "dbfs:/FileStore/ds2002-lab06/sourcedata/stream/rental/sakila_fact_rental.json"
        ],
        [
         0.99,
         142,
         148,
         4252,
         "2006-02-15 21:30:53",
         20050526,
         "20050601",
         2,
         null,
         "2023-05-02T15:39:23.585+0000",
         "dbfs:/FileStore/ds2002-lab06/sourcedata/stream/rental/sakila_fact_rental.json"
        ],
        [
         3.99,
         319,
         149,
         1084,
         "2006-02-15 21:30:53",
         20050526,
         "20050602",
         2,
         null,
         "2023-05-02T15:39:23.585+0000",
         "dbfs:/FileStore/ds2002-lab06/sourcedata/stream/rental/sakila_fact_rental.json"
        ],
        [
         5.99,
         429,
         150,
         909,
         "2006-02-15 21:30:53",
         20050526,
         "20050601",
         2,
         null,
         "2023-05-02T15:39:23.585+0000",
         "dbfs:/FileStore/ds2002-lab06/sourcedata/stream/rental/sakila_fact_rental.json"
        ],
        [
         0.99,
         14,
         151,
         2942,
         "2006-02-15 21:30:53",
         20050526,
         "20050530",
         1,
         null,
         "2023-05-02T15:39:23.585+0000",
         "dbfs:/FileStore/ds2002-lab06/sourcedata/stream/rental/sakila_fact_rental.json"
        ],
        [
         9.99,
         57,
         152,
         2622,
         "2006-02-15 21:30:53",
         20050526,
         "20050603",
         1,
         null,
         "2023-05-02T15:39:23.585+0000",
         "dbfs:/FileStore/ds2002-lab06/sourcedata/stream/rental/sakila_fact_rental.json"
        ],
        [
         0.99,
         348,
         153,
         3888,
         "2006-02-15 21:30:53",
         20050526,
         "20050527",
         1,
         null,
         "2023-05-02T15:39:23.585+0000",
         "dbfs:/FileStore/ds2002-lab06/sourcedata/stream/rental/sakila_fact_rental.json"
        ],
        [
         0.99,
         185,
         154,
         1354,
         "2006-02-15 21:30:53",
         20050526,
         "20050529",
         2,
         null,
         "2023-05-02T15:39:23.585+0000",
         "dbfs:/FileStore/ds2002-lab06/sourcedata/stream/rental/sakila_fact_rental.json"
        ],
        [
         7.99,
         551,
         155,
         288,
         "2006-02-15 21:30:53",
         20050526,
         "20050601",
         1,
         null,
         "2023-05-02T15:39:23.585+0000",
         "dbfs:/FileStore/ds2002-lab06/sourcedata/stream/rental/sakila_fact_rental.json"
        ],
        [
         2.99,
         462,
         156,
         3193,
         "2006-02-15 21:30:53",
         20050526,
         "20050527",
         1,
         null,
         "2023-05-02T15:39:23.585+0000",
         "dbfs:/FileStore/ds2002-lab06/sourcedata/stream/rental/sakila_fact_rental.json"
        ],
        [
         2.99,
         344,
         157,
         887,
         "2006-02-15 21:30:53",
         20050526,
         "20050526",
         2,
         null,
         "2023-05-02T15:39:23.585+0000",
         "dbfs:/FileStore/ds2002-lab06/sourcedata/stream/rental/sakila_fact_rental.json"
        ],
        [
         1.99,
         354,
         158,
         2395,
         "2006-02-15 21:30:53",
         20050526,
         "20050603",
         2,
         null,
         "2023-05-02T15:39:23.585+0000",
         "dbfs:/FileStore/ds2002-lab06/sourcedata/stream/rental/sakila_fact_rental.json"
        ],
        [
         2.99,
         505,
         159,
         3453,
         "2006-02-15 21:30:53",
         20050526,
         "20050529",
         1,
         null,
         "2023-05-02T15:39:23.585+0000",
         "dbfs:/FileStore/ds2002-lab06/sourcedata/stream/rental/sakila_fact_rental.json"
        ],
        [
         2.99,
         290,
         160,
         1885,
         "2006-02-15 21:30:53",
         20050526,
         "20050601",
         1,
         null,
         "2023-05-02T15:39:23.585+0000",
         "dbfs:/FileStore/ds2002-lab06/sourcedata/stream/rental/sakila_fact_rental.json"
        ],
        [
         0.99,
         182,
         161,
         2941,
         "2006-02-15 21:30:53",
         20050526,
         "20050527",
         1,
         null,
         "2023-05-02T15:39:23.585+0000",
         "dbfs:/FileStore/ds2002-lab06/sourcedata/stream/rental/sakila_fact_rental.json"
        ],
        [
         4.99,
         296,
         162,
         1229,
         "2006-02-15 21:30:53",
         20050526,
         "20050527",
         2,
         null,
         "2023-05-02T15:39:23.585+0000",
         "dbfs:/FileStore/ds2002-lab06/sourcedata/stream/rental/sakila_fact_rental.json"
        ],
        [
         10.99,
         104,
         163,
         2306,
         "2006-02-15 21:30:53",
         20050526,
         "20050604",
         1,
         null,
         "2023-05-02T15:39:23.585+0000",
         "dbfs:/FileStore/ds2002-lab06/sourcedata/stream/rental/sakila_fact_rental.json"
        ],
        [
         4.99,
         151,
         164,
         1070,
         "2006-02-15 21:30:53",
         20050526,
         "20050528",
         1,
         null,
         "2023-05-02T15:39:23.585+0000",
         "dbfs:/FileStore/ds2002-lab06/sourcedata/stream/rental/sakila_fact_rental.json"
        ],
        [
         2.99,
         33,
         165,
         2735,
         "2006-02-15 21:30:53",
         20050526,
         "20050602",
         1,
         null,
         "2023-05-02T15:39:23.585+0000",
         "dbfs:/FileStore/ds2002-lab06/sourcedata/stream/rental/sakila_fact_rental.json"
        ],
        [
         0.99,
         322,
         166,
         3894,
         "2006-02-15 21:30:53",
         20050526,
         "20050531",
         1,
         null,
         "2023-05-02T15:39:23.585+0000",
         "dbfs:/FileStore/ds2002-lab06/sourcedata/stream/rental/sakila_fact_rental.json"
        ],
        [
         4.99,
         401,
         167,
         865,
         "2006-02-15 21:30:53",
         20050526,
         "20050527",
         1,
         null,
         "2023-05-02T15:39:23.585+0000",
         "dbfs:/FileStore/ds2002-lab06/sourcedata/stream/rental/sakila_fact_rental.json"
        ],
        [
         0.99,
         469,
         168,
         2714,
         "2006-02-15 21:30:53",
         20050526,
         "20050602",
         2,
         null,
         "2023-05-02T15:39:23.585+0000",
         "dbfs:/FileStore/ds2002-lab06/sourcedata/stream/rental/sakila_fact_rental.json"
        ],
        [
         0.99,
         381,
         169,
         1758,
         "2006-02-15 21:30:53",
         20050526,
         "20050527",
         2,
         null,
         "2023-05-02T15:39:23.585+0000",
         "dbfs:/FileStore/ds2002-lab06/sourcedata/stream/rental/sakila_fact_rental.json"
        ],
        [
         5.99,
         107,
         170,
         3688,
         "2006-02-15 21:30:53",
         20050526,
         "20050602",
         1,
         null,
         "2023-05-02T15:39:23.585+0000",
         "dbfs:/FileStore/ds2002-lab06/sourcedata/stream/rental/sakila_fact_rental.json"
        ],
        [
         6.99,
         400,
         171,
         4483,
         "2006-02-15 21:30:53",
         20050526,
         "20050603",
         2,
         null,
         "2023-05-02T15:39:23.585+0000",
         "dbfs:/FileStore/ds2002-lab06/sourcedata/stream/rental/sakila_fact_rental.json"
        ],
        [
         0.99,
         176,
         172,
         2873,
         "2006-02-15 21:30:53",
         20050526,
         "20050529",
         2,
         null,
         "2023-05-02T15:39:23.585+0000",
         "dbfs:/FileStore/ds2002-lab06/sourcedata/stream/rental/sakila_fact_rental.json"
        ],
        [
         0.99,
         533,
         173,
         3596,
         "2006-02-15 21:30:53",
         20050526,
         "20050528",
         2,
         null,
         "2023-05-02T15:39:23.585+0000",
         "dbfs:/FileStore/ds2002-lab06/sourcedata/stream/rental/sakila_fact_rental.json"
        ],
        [
         0.99,
         552,
         174,
         3954,
         "2006-02-15 21:30:53",
         20050526,
         "20050528",
         2,
         null,
         "2023-05-02T15:39:23.585+0000",
         "dbfs:/FileStore/ds2002-lab06/sourcedata/stream/rental/sakila_fact_rental.json"
        ],
        [
         3.99,
         47,
         175,
         4346,
         "2006-02-15 21:30:53",
         20050526,
         "20050603",
         2,
         null,
         "2023-05-02T15:39:23.585+0000",
         "dbfs:/FileStore/ds2002-lab06/sourcedata/stream/rental/sakila_fact_rental.json"
        ],
        [
         3.99,
         250,
         176,
         851,
         "2006-02-15 21:30:53",
         20050526,
         "20050601",
         2,
         null,
         "2023-05-02T15:39:23.585+0000",
         "dbfs:/FileStore/ds2002-lab06/sourcedata/stream/rental/sakila_fact_rental.json"
        ],
        [
         6.99,
         548,
         177,
         3545,
         "2006-02-15 21:30:53",
         20050526,
         "20050601",
         2,
         null,
         "2023-05-02T15:39:23.585+0000",
         "dbfs:/FileStore/ds2002-lab06/sourcedata/stream/rental/sakila_fact_rental.json"
        ],
        [
         5.99,
         196,
         178,
         1489,
         "2006-02-15 21:30:53",
         20050526,
         "20050604",
         2,
         null,
         "2023-05-02T15:39:23.585+0000",
         "dbfs:/FileStore/ds2002-lab06/sourcedata/stream/rental/sakila_fact_rental.json"
        ],
        [
         6.99,
         19,
         179,
         2575,
         "2006-02-15 21:30:53",
         20050526,
         "20050603",
         1,
         null,
         "2023-05-02T15:39:23.585+0000",
         "dbfs:/FileStore/ds2002-lab06/sourcedata/stream/rental/sakila_fact_rental.json"
        ],
        [
         4.99,
         75,
         180,
         2752,
         "2006-02-15 21:30:53",
         20050526,
         "20050601",
         1,
         null,
         "2023-05-02T15:39:23.585+0000",
         "dbfs:/FileStore/ds2002-lab06/sourcedata/stream/rental/sakila_fact_rental.json"
        ],
        [
         4.99,
         587,
         181,
         2417,
         "2006-02-15 21:30:53",
         20050526,
         "20050529",
         2,
         null,
         "2023-05-02T15:39:23.585+0000",
         "dbfs:/FileStore/ds2002-lab06/sourcedata/stream/rental/sakila_fact_rental.json"
        ],
        [
         4.99,
         237,
         182,
         4396,
         "2006-02-15 21:30:53",
         20050526,
         "20050601",
         2,
         null,
         "2023-05-02T15:39:23.585+0000",
         "dbfs:/FileStore/ds2002-lab06/sourcedata/stream/rental/sakila_fact_rental.json"
        ],
        [
         2.99,
         254,
         183,
         2877,
         "2006-02-15 21:30:53",
         20050526,
         "20050601",
         1,
         null,
         "2023-05-02T15:39:23.585+0000",
         "dbfs:/FileStore/ds2002-lab06/sourcedata/stream/rental/sakila_fact_rental.json"
        ],
        [
         0.99,
         556,
         184,
         1970,
         "2006-02-15 21:30:53",
         20050526,
         "20050528",
         1,
         null,
         "2023-05-02T15:39:23.585+0000",
         "dbfs:/FileStore/ds2002-lab06/sourcedata/stream/rental/sakila_fact_rental.json"
        ],
        [
         3.99,
         125,
         185,
         2598,
         "2006-02-15 21:30:53",
         20050526,
         "20050602",
         2,
         null,
         "2023-05-02T15:39:23.585+0000",
         "dbfs:/FileStore/ds2002-lab06/sourcedata/stream/rental/sakila_fact_rental.json"
        ],
        [
         4.99,
         468,
         186,
         1799,
         "2006-02-15 21:30:53",
         20050526,
         "20050603",
         2,
         null,
         "2023-05-02T15:39:23.585+0000",
         "dbfs:/FileStore/ds2002-lab06/sourcedata/stream/rental/sakila_fact_rental.json"
        ],
        [
         8.99,
         515,
         187,
         4004,
         "2006-02-15 21:30:53",
         20050526,
         "20050604",
         1,
         null,
         "2023-05-02T15:39:23.585+0000",
         "dbfs:/FileStore/ds2002-lab06/sourcedata/stream/rental/sakila_fact_rental.json"
        ],
        [
         4.99,
         243,
         188,
         3342,
         "2006-02-15 21:30:53",
         20050526,
         "20050526",
         1,
         null,
         "2023-05-02T15:39:23.585+0000",
         "dbfs:/FileStore/ds2002-lab06/sourcedata/stream/rental/sakila_fact_rental.json"
        ],
        [
         4.99,
         247,
         189,
         984,
         "2006-02-15 21:30:53",
         20050526,
         "20050527",
         1,
         null,
         "2023-05-02T15:39:23.585+0000",
         "dbfs:/FileStore/ds2002-lab06/sourcedata/stream/rental/sakila_fact_rental.json"
        ],
        [
         1.99,
         533,
         190,
         3962,
         "2006-02-15 21:30:53",
         20050526,
         "20050601",
         1,
         null,
         "2023-05-02T15:39:23.585+0000",
         "dbfs:/FileStore/ds2002-lab06/sourcedata/stream/rental/sakila_fact_rental.json"
        ],
        [
         0.99,
         412,
         191,
         4365,
         "2006-02-15 21:30:53",
         20050526,
         "20050528",
         1,
         null,
         "2023-05-02T15:39:23.585+0000",
         "dbfs:/FileStore/ds2002-lab06/sourcedata/stream/rental/sakila_fact_rental.json"
        ],
        [
         2.99,
         437,
         192,
         1897,
         "2006-02-15 21:30:53",
         20050526,
         "20050602",
         1,
         null,
         "2023-05-02T15:39:23.585+0000",
         "dbfs:/FileStore/ds2002-lab06/sourcedata/stream/rental/sakila_fact_rental.json"
        ],
        [
         1.99,
         270,
         193,
         3900,
         "2006-02-15 21:30:53",
         20050526,
         "20050530",
         2,
         null,
         "2023-05-02T15:39:23.585+0000",
         "dbfs:/FileStore/ds2002-lab06/sourcedata/stream/rental/sakila_fact_rental.json"
        ],
        [
         1.99,
         29,
         194,
         1337,
         "2006-02-15 21:30:53",
         20050526,
         "20050530",
         2,
         null,
         "2023-05-02T15:39:23.585+0000",
         "dbfs:/FileStore/ds2002-lab06/sourcedata/stream/rental/sakila_fact_rental.json"
        ],
        [
         5.99,
         564,
         195,
         506,
         "2006-02-15 21:30:53",
         20050526,
         "20050531",
         2,
         null,
         "2023-05-02T15:39:23.585+0000",
         "dbfs:/FileStore/ds2002-lab06/sourcedata/stream/rental/sakila_fact_rental.json"
        ],
        [
         2.99,
         184,
         196,
         190,
         "2006-02-15 21:30:53",
         20050526,
         "20050527",
         1,
         null,
         "2023-05-02T15:39:23.585+0000",
         "dbfs:/FileStore/ds2002-lab06/sourcedata/stream/rental/sakila_fact_rental.json"
        ],
        [
         5.99,
         546,
         197,
         4212,
         "2006-02-15 21:30:53",
         20050526,
         "20050603",
         2,
         null,
         "2023-05-02T15:39:23.585+0000",
         "dbfs:/FileStore/ds2002-lab06/sourcedata/stream/rental/sakila_fact_rental.json"
        ],
        [
         4.99,
         54,
         198,
         1789,
         "2006-02-15 21:30:53",
         20050526,
         "20050604",
         1,
         null,
         "2023-05-02T15:39:23.585+0000",
         "dbfs:/FileStore/ds2002-lab06/sourcedata/stream/rental/sakila_fact_rental.json"
        ],
        [
         2.99,
         71,
         199,
         2135,
         "2006-02-15 21:30:53",
         20050526,
         "20050528",
         1,
         null,
         "2023-05-02T15:39:23.585+0000",
         "dbfs:/FileStore/ds2002-lab06/sourcedata/stream/rental/sakila_fact_rental.json"
        ],
        [
         4.99,
         321,
         200,
         3926,
         "2006-02-15 21:30:53",
         20050526,
         "20050531",
         1,
         null,
         "2023-05-02T15:39:23.585+0000",
         "dbfs:/FileStore/ds2002-lab06/sourcedata/stream/rental/sakila_fact_rental.json"
        ],
        [
         8.99,
         444,
         201,
         776,
         "2006-02-15 21:30:53",
         20050526,
         "20050604",
         2,
         null,
         "2023-05-02T15:39:23.585+0000",
         "dbfs:/FileStore/ds2002-lab06/sourcedata/stream/rental/sakila_fact_rental.json"
        ],
        [
         2.99,
         20,
         202,
         674,
         "2006-02-15 21:30:53",
         20050526,
         "20050602",
         1,
         null,
         "2023-05-02T15:39:23.585+0000",
         "dbfs:/FileStore/ds2002-lab06/sourcedata/stream/rental/sakila_fact_rental.json"
        ],
        [
         5.99,
         109,
         203,
         3374,
         "2006-02-15 21:30:53",
         20050526,
         "20050603",
         1,
         null,
         "2023-05-02T15:39:23.585+0000",
         "dbfs:/FileStore/ds2002-lab06/sourcedata/stream/rental/sakila_fact_rental.json"
        ],
        [
         0.99,
         528,
         204,
         1842,
         "2006-02-15 21:30:53",
         20050526,
         "20050530",
         1,
         null,
         "2023-05-02T15:39:23.585+0000",
         "dbfs:/FileStore/ds2002-lab06/sourcedata/stream/rental/sakila_fact_rental.json"
        ],
        [
         4.99,
         114,
         205,
         303,
         "2006-02-15 21:30:53",
         20050526,
         "20050529",
         2,
         null,
         "2023-05-02T15:39:23.585+0000",
         "dbfs:/FileStore/ds2002-lab06/sourcedata/stream/rental/sakila_fact_rental.json"
        ],
        [
         0.99,
         345,
         206,
         1717,
         "2006-02-15 21:30:53",
         20050526,
         "20050527",
         1,
         null,
         "2023-05-02T15:39:23.585+0000",
         "dbfs:/FileStore/ds2002-lab06/sourcedata/stream/rental/sakila_fact_rental.json"
        ],
        [
         4.99,
         47,
         207,
         102,
         "2006-02-15 21:30:53",
         20050526,
         "20050527",
         2,
         null,
         "2023-05-02T15:39:23.585+0000",
         "dbfs:/FileStore/ds2002-lab06/sourcedata/stream/rental/sakila_fact_rental.json"
        ],
        [
         4.99,
         274,
         208,
         3669,
         "2006-02-15 21:30:53",
         20050526,
         "20050527",
         1,
         null,
         "2023-05-02T15:39:23.585+0000",
         "dbfs:/FileStore/ds2002-lab06/sourcedata/stream/rental/sakila_fact_rental.json"
        ],
        [
         4.99,
         379,
         209,
         729,
         "2006-02-15 21:30:53",
         20050526,
         "20050527",
         1,
         null,
         "2023-05-02T15:39:23.585+0000",
         "dbfs:/FileStore/ds2002-lab06/sourcedata/stream/rental/sakila_fact_rental.json"
        ],
        [
         2.99,
         391,
         210,
         1801,
         "2006-02-15 21:30:53",
         20050526,
         "20050527",
         2,
         null,
         "2023-05-02T15:39:23.585+0000",
         "dbfs:/FileStore/ds2002-lab06/sourcedata/stream/rental/sakila_fact_rental.json"
        ],
        [
         2.99,
         170,
         211,
         4005,
         "2006-02-15 21:30:53",
         20050526,
         "20050528",
         1,
         null,
         "2023-05-02T15:39:23.585+0000",
         "dbfs:/FileStore/ds2002-lab06/sourcedata/stream/rental/sakila_fact_rental.json"
        ],
        [
         4.99,
         59,
         212,
         764,
         "2006-02-15 21:30:53",
         20050526,
         "20050530",
         2,
         null,
         "2023-05-02T15:39:23.585+0000",
         "dbfs:/FileStore/ds2002-lab06/sourcedata/stream/rental/sakila_fact_rental.json"
        ],
        [
         3.99,
         394,
         213,
         1505,
         "2006-02-15 21:30:53",
         20050526,
         "20050531",
         2,
         null,
         "2023-05-02T15:39:23.585+0000",
         "dbfs:/FileStore/ds2002-lab06/sourcedata/stream/rental/sakila_fact_rental.json"
        ],
        [
         3.99,
         98,
         214,
         1453,
         "2006-02-15 21:30:53",
         20050526,
         "20050531",
         2,
         null,
         "2023-05-02T15:39:23.585+0000",
         "dbfs:/FileStore/ds2002-lab06/sourcedata/stream/rental/sakila_fact_rental.json"
        ],
        [
         0.99,
         197,
         215,
         679,
         "2006-02-15 21:30:53",
         20050526,
         "20050528",
         2,
         null,
         "2023-05-02T15:39:23.585+0000",
         "dbfs:/FileStore/ds2002-lab06/sourcedata/stream/rental/sakila_fact_rental.json"
        ],
        [
         5.99,
         91,
         216,
         1398,
         "2006-02-15 21:30:53",
         20050526,
         "20050603",
         1,
         null,
         "2023-05-02T15:39:23.585+0000",
         "dbfs:/FileStore/ds2002-lab06/sourcedata/stream/rental/sakila_fact_rental.json"
        ],
        [
         4.99,
         121,
         217,
         4395,
         "2006-02-15 21:30:53",
         20050526,
         "20050531",
         2,
         null,
         "2023-05-02T15:39:23.585+0000",
         "dbfs:/FileStore/ds2002-lab06/sourcedata/stream/rental/sakila_fact_rental.json"
        ],
        [
         6.99,
         309,
         218,
         2291,
         "2006-02-15 21:30:53",
         20050526,
         "20050604",
         2,
         null,
         "2023-05-02T15:39:23.585+0000",
         "dbfs:/FileStore/ds2002-lab06/sourcedata/stream/rental/sakila_fact_rental.json"
        ],
        [
         4.99,
         489,
         219,
         3074,
         "2006-02-15 21:30:53",
         20050526,
         "20050528",
         1,
         null,
         "2023-05-02T15:39:23.585+0000",
         "dbfs:/FileStore/ds2002-lab06/sourcedata/stream/rental/sakila_fact_rental.json"
        ],
        [
         4.99,
         542,
         220,
         1259,
         "2006-02-15 21:30:53",
         20050526,
         "20050601",
         1,
         null,
         "2023-05-02T15:39:23.585+0000",
         "dbfs:/FileStore/ds2002-lab06/sourcedata/stream/rental/sakila_fact_rental.json"
        ],
        [
         2.99,
         143,
         221,
         3578,
         "2006-02-15 21:30:53",
         20050526,
         "20050529",
         1,
         null,
         "2023-05-02T15:39:23.585+0000",
         "dbfs:/FileStore/ds2002-lab06/sourcedata/stream/rental/sakila_fact_rental.json"
        ],
        [
         0.99,
         83,
         222,
         2745,
         "2006-02-15 21:30:53",
         20050526,
         "20050531",
         2,
         null,
         "2023-05-02T15:39:23.585+0000",
         "dbfs:/FileStore/ds2002-lab06/sourcedata/stream/rental/sakila_fact_rental.json"
        ],
        [
         4.99,
         460,
         223,
         3121,
         "2006-02-15 21:30:53",
         20050526,
         "20050530",
         1,
         null,
         "2023-05-02T15:39:23.585+0000",
         "dbfs:/FileStore/ds2002-lab06/sourcedata/stream/rental/sakila_fact_rental.json"
        ],
        [
         9.99,
         318,
         224,
         4285,
         "2006-02-15 21:30:53",
         20050526,
         "20050604",
         1,
         null,
         "2023-05-02T15:39:23.585+0000",
         "dbfs:/FileStore/ds2002-lab06/sourcedata/stream/rental/sakila_fact_rental.json"
        ],
        [
         4.99,
         467,
         225,
         651,
         "2006-02-15 21:30:53",
         20050526,
         "20050601",
         2,
         null,
         "2023-05-02T15:39:23.585+0000",
         "dbfs:/FileStore/ds2002-lab06/sourcedata/stream/rental/sakila_fact_rental.json"
        ],
        [
         4.99,
         221,
         226,
         4181,
         "2006-02-15 21:30:53",
         20050526,
         "20050531",
         2,
         null,
         "2023-05-02T15:39:23.585+0000",
         "dbfs:/FileStore/ds2002-lab06/sourcedata/stream/rental/sakila_fact_rental.json"
        ],
        [
         5.99,
         301,
         227,
         214,
         "2006-02-15 21:30:53",
         20050526,
         "20050530",
         1,
         null,
         "2023-05-02T15:39:23.585+0000",
         "dbfs:/FileStore/ds2002-lab06/sourcedata/stream/rental/sakila_fact_rental.json"
        ],
        [
         9.99,
         571,
         228,
         511,
         "2006-02-15 21:30:53",
         20050526,
         "20050604",
         1,
         null,
         "2023-05-02T15:39:23.585+0000",
         "dbfs:/FileStore/ds2002-lab06/sourcedata/stream/rental/sakila_fact_rental.json"
        ],
        [
         4.99,
         312,
         229,
         1131,
         "2006-02-15 21:30:53",
         20050526,
         "20050531",
         2,
         null,
         "2023-05-02T15:39:23.585+0000",
         "dbfs:/FileStore/ds2002-lab06/sourcedata/stream/rental/sakila_fact_rental.json"
        ],
        [
         0.99,
         58,
         230,
         1085,
         "2006-02-15 21:30:53",
         20050526,
         "20050530",
         1,
         null,
         "2023-05-02T15:39:23.585+0000",
         "dbfs:/FileStore/ds2002-lab06/sourcedata/stream/rental/sakila_fact_rental.json"
        ],
        [
         4.99,
         365,
         231,
         4032,
         "2006-02-15 21:30:53",
         20050526,
         "20050527",
         1,
         null,
         "2023-05-02T15:39:23.585+0000",
         "dbfs:/FileStore/ds2002-lab06/sourcedata/stream/rental/sakila_fact_rental.json"
        ],
        [
         0.99,
         256,
         232,
         2945,
         "2006-02-15 21:30:53",
         20050526,
         "20050527",
         2,
         null,
         "2023-05-02T15:39:23.585+0000",
         "dbfs:/FileStore/ds2002-lab06/sourcedata/stream/rental/sakila_fact_rental.json"
        ],
        [
         4.99,
         531,
         233,
         715,
         "2006-02-15 21:30:53",
         20050526,
         "20050528",
         2,
         null,
         "2023-05-02T15:39:23.585+0000",
         "dbfs:/FileStore/ds2002-lab06/sourcedata/stream/rental/sakila_fact_rental.json"
        ],
        [
         5.99,
         566,
         234,
         1321,
         "2006-02-15 21:30:53",
         20050526,
         "20050603",
         2,
         null,
         "2023-05-02T15:39:23.585+0000",
         "dbfs:/FileStore/ds2002-lab06/sourcedata/stream/rental/sakila_fact_rental.json"
        ],
        [
         5.99,
         119,
         235,
         3537,
         "2006-02-15 21:30:53",
         20050526,
         "20050604",
         1,
         null,
         "2023-05-02T15:39:23.585+0000",
         "dbfs:/FileStore/ds2002-lab06/sourcedata/stream/rental/sakila_fact_rental.json"
        ],
        [
         0.99,
         446,
         236,
         1265,
         "2006-02-15 21:30:53",
         20050526,
         "20050528",
         1,
         null,
         "2023-05-02T15:39:23.585+0000",
         "dbfs:/FileStore/ds2002-lab06/sourcedata/stream/rental/sakila_fact_rental.json"
        ],
        [
         0.99,
         536,
         237,
         241,
         "2006-02-15 21:30:53",
         20050526,
         "20050529",
         1,
         null,
         "2023-05-02T15:39:23.585+0000",
         "dbfs:/FileStore/ds2002-lab06/sourcedata/stream/rental/sakila_fact_rental.json"
        ],
        [
         4.99,
         211,
         238,
         503,
         "2006-02-15 21:30:53",
         20050526,
         "20050527",
         1,
         null,
         "2023-05-02T15:39:23.585+0000",
         "dbfs:/FileStore/ds2002-lab06/sourcedata/stream/rental/sakila_fact_rental.json"
        ],
        [
         3.99,
         49,
         239,
         131,
         "2006-02-15 21:30:53",
         20050526,
         "20050601",
         2,
         null,
         "2023-05-02T15:39:23.585+0000",
         "dbfs:/FileStore/ds2002-lab06/sourcedata/stream/rental/sakila_fact_rental.json"
        ],
        [
         7.99,
         103,
         240,
         3420,
         "2006-02-15 21:30:53",
         20050526,
         "20050604",
         1,
         null,
         "2023-05-02T15:39:23.585+0000",
         "dbfs:/FileStore/ds2002-lab06/sourcedata/stream/rental/sakila_fact_rental.json"
        ],
        [
         0.99,
         245,
         241,
         4438,
         "2006-02-15 21:30:53",
         20050526,
         "20050528",
         2,
         null,
         "2023-05-02T15:39:23.585+0000",
         "dbfs:/FileStore/ds2002-lab06/sourcedata/stream/rental/sakila_fact_rental.json"
        ],
        [
         1.99,
         214,
         242,
         2095,
         "2006-02-15 21:30:53",
         20050526,
         "20050602",
         1,
         null,
         "2023-05-02T15:39:23.585+0000",
         "dbfs:/FileStore/ds2002-lab06/sourcedata/stream/rental/sakila_fact_rental.json"
        ],
        [
         6.99,
         543,
         243,
         1721,
         "2006-02-15 21:30:53",
         20050526,
         "20050603",
         2,
         null,
         "2023-05-02T15:39:23.585+0000",
         "dbfs:/FileStore/ds2002-lab06/sourcedata/stream/rental/sakila_fact_rental.json"
        ],
        [
         2.99,
         257,
         244,
         1041,
         "2006-02-15 21:30:53",
         20050526,
         "20050531",
         1,
         null,
         "2023-05-02T15:39:23.585+0000",
         "dbfs:/FileStore/ds2002-lab06/sourcedata/stream/rental/sakila_fact_rental.json"
        ],
        [
         4.99,
         158,
         245,
         3045,
         "2006-02-15 21:30:53",
         20050526,
         "20050527",
         2,
         null,
         "2023-05-02T15:39:23.585+0000",
         "dbfs:/FileStore/ds2002-lab06/sourcedata/stream/rental/sakila_fact_rental.json"
        ],
        [
         2.99,
         240,
         246,
         2829,
         "2006-02-15 21:30:53",
         20050526,
         "20050529",
         2,
         null,
         "2023-05-02T15:39:23.585+0000",
         "dbfs:/FileStore/ds2002-lab06/sourcedata/stream/rental/sakila_fact_rental.json"
        ],
        [
         4.99,
         102,
         247,
         4095,
         "2006-02-15 21:30:53",
         20050526,
         "20050528",
         2,
         null,
         "2023-05-02T15:39:23.585+0000",
         "dbfs:/FileStore/ds2002-lab06/sourcedata/stream/rental/sakila_fact_rental.json"
        ],
        [
         0.99,
         545,
         248,
         1913,
         "2006-02-15 21:30:53",
         20050526,
         "20050531",
         2,
         null,
         "2023-05-02T15:39:23.585+0000",
         "dbfs:/FileStore/ds2002-lab06/sourcedata/stream/rental/sakila_fact_rental.json"
        ],
        [
         2.99,
         472,
         249,
         2428,
         "2006-02-15 21:30:53",
         20050526,
         "20050528",
         2,
         null,
         "2023-05-02T15:39:23.585+0000",
         "dbfs:/FileStore/ds2002-lab06/sourcedata/stream/rental/sakila_fact_rental.json"
        ],
        [
         4.99,
         539,
         250,
         368,
         "2006-02-15 21:30:53",
         20050526,
         "20050527",
         1,
         null,
         "2023-05-02T15:39:23.585+0000",
         "dbfs:/FileStore/ds2002-lab06/sourcedata/stream/rental/sakila_fact_rental.json"
        ],
        [
         0.99,
         204,
         251,
         4352,
         "2006-02-15 21:30:53",
         20050526,
         "20050529",
         1,
         null,
         "2023-05-02T15:39:23.585+0000",
         "dbfs:/FileStore/ds2002-lab06/sourcedata/stream/rental/sakila_fact_rental.json"
        ],
        [
         7.99,
         187,
         252,
         1203,
         "2006-02-15 21:30:53",
         20050526,
         "20050602",
         1,
         null,
         "2023-05-02T15:39:23.585+0000",
         "dbfs:/FileStore/ds2002-lab06/sourcedata/stream/rental/sakila_fact_rental.json"
        ],
        [
         0.99,
         416,
         253,
         2969,
         "2006-02-15 21:30:53",
         20050526,
         "20050527",
         1,
         null,
         "2023-05-02T15:39:23.585+0000",
         "dbfs:/FileStore/ds2002-lab06/sourcedata/stream/rental/sakila_fact_rental.json"
        ],
        [
         4.99,
         390,
         254,
         1835,
         "2006-02-15 21:30:53",
         20050526,
         "20050531",
         2,
         null,
         "2023-05-02T15:39:23.585+0000",
         "dbfs:/FileStore/ds2002-lab06/sourcedata/stream/rental/sakila_fact_rental.json"
        ],
        [
         4.99,
         114,
         255,
         3264,
         "2006-02-15 21:30:53",
         20050526,
         "20050527",
         1,
         null,
         "2023-05-02T15:39:23.585+0000",
         "dbfs:/FileStore/ds2002-lab06/sourcedata/stream/rental/sakila_fact_rental.json"
        ],
        [
         3.99,
         436,
         256,
         3194,
         "2006-02-15 21:30:53",
         20050526,
         "20050531",
         1,
         null,
         "2023-05-02T15:39:23.585+0000",
         "dbfs:/FileStore/ds2002-lab06/sourcedata/stream/rental/sakila_fact_rental.json"
        ],
        [
         4.99,
         373,
         257,
         2570,
         "2006-02-15 21:30:53",
         20050526,
         "20050529",
         2,
         null,
         "2023-05-02T15:39:23.585+0000",
         "dbfs:/FileStore/ds2002-lab06/sourcedata/stream/rental/sakila_fact_rental.json"
        ],
        [
         2.99,
         502,
         258,
         3534,
         "2006-02-15 21:30:53",
         20050526,
         "20050530",
         2,
         null,
         "2023-05-02T15:39:23.585+0000",
         "dbfs:/FileStore/ds2002-lab06/sourcedata/stream/rental/sakila_fact_rental.json"
        ],
        [
         8.99,
         482,
         259,
         30,
         "2006-02-15 21:30:53",
         20050526,
         "20050604",
         2,
         null,
         "2023-05-02T15:39:23.585+0000",
         "dbfs:/FileStore/ds2002-lab06/sourcedata/stream/rental/sakila_fact_rental.json"
        ],
        [
         3.99,
         21,
         260,
         435,
         "2006-02-15 21:30:53",
         20050526,
         "20050531",
         2,
         null,
         "2023-05-02T15:39:23.585+0000",
         "dbfs:/FileStore/ds2002-lab06/sourcedata/stream/rental/sakila_fact_rental.json"
        ],
        [
         3.99,
         414,
         261,
         1369,
         "2006-02-15 21:30:53",
         20050526,
         "20050602",
         2,
         null,
         "2023-05-02T15:39:23.585+0000",
         "dbfs:/FileStore/ds2002-lab06/sourcedata/stream/rental/sakila_fact_rental.json"
        ],
        [
         2.99,
         236,
         262,
         4261,
         "2006-02-15 21:30:53",
         20050526,
         "20050528",
         2,
         null,
         "2023-05-02T15:39:23.585+0000",
         "dbfs:/FileStore/ds2002-lab06/sourcedata/stream/rental/sakila_fact_rental.json"
        ],
        [
         4.99,
         449,
         263,
         1160,
         "2006-02-15 21:30:53",
         20050526,
         "20050530",
         2,
         null,
         "2023-05-02T15:39:23.585+0000",
         "dbfs:/FileStore/ds2002-lab06/sourcedata/stream/rental/sakila_fact_rental.json"
        ],
        [
         2.99,
         251,
         264,
         2069,
         "2006-02-15 21:30:53",
         20050526,
         "20050527",
         2,
         null,
         "2023-05-02T15:39:23.585+0000",
         "dbfs:/FileStore/ds2002-lab06/sourcedata/stream/rental/sakila_fact_rental.json"
        ],
        [
         0.99,
         303,
         265,
         2276,
         "2006-02-15 21:30:53",
         20050526,
         "20050601",
         1,
         null,
         "2023-05-02T15:39:23.585+0000",
         "dbfs:/FileStore/ds2002-lab06/sourcedata/stream/rental/sakila_fact_rental.json"
        ],
        [
         0.99,
         263,
         266,
         3303,
         "2006-02-15 21:30:53",
         20050526,
         "20050527",
         2,
         null,
         "2023-05-02T15:39:23.585+0000",
         "dbfs:/FileStore/ds2002-lab06/sourcedata/stream/rental/sakila_fact_rental.json"
        ],
        [
         4.99,
         417,
         267,
         1206,
         "2006-02-15 21:30:53",
         20050526,
         "20050530",
         2,
         null,
         "2023-05-02T15:39:23.585+0000",
         "dbfs:/FileStore/ds2002-lab06/sourcedata/stream/rental/sakila_fact_rental.json"
        ],
        [
         0.99,
         75,
         268,
         1714,
         "2006-02-15 21:30:53",
         20050526,
         "20050527",
         1,
         null,
         "2023-05-02T15:39:23.585+0000",
         "dbfs:/FileStore/ds2002-lab06/sourcedata/stream/rental/sakila_fact_rental.json"
        ],
        [
         4.99,
         322,
         269,
         3501,
         "2006-02-15 21:30:53",
         20050526,
         "20050527",
         2,
         null,
         "2023-05-02T15:39:23.585+0000",
         "dbfs:/FileStore/ds2002-lab06/sourcedata/stream/rental/sakila_fact_rental.json"
        ],
        [
         9.99,
         200,
         270,
         207,
         "2006-02-15 21:30:53",
         20050526,
         "20050603",
         2,
         null,
         "2023-05-02T15:39:23.585+0000",
         "dbfs:/FileStore/ds2002-lab06/sourcedata/stream/rental/sakila_fact_rental.json"
        ],
        [
         5.99,
         92,
         271,
         2388,
         "2006-02-15 21:30:53",
         20050526,
         "20050603",
         2,
         null,
         "2023-05-02T15:39:23.585+0000",
         "dbfs:/FileStore/ds2002-lab06/sourcedata/stream/rental/sakila_fact_rental.json"
        ],
        [
         9.99,
         71,
         272,
         971,
         "2006-02-15 21:30:53",
         20050526,
         "20050603",
         2,
         null,
         "2023-05-02T15:39:23.585+0000",
         "dbfs:/FileStore/ds2002-lab06/sourcedata/stream/rental/sakila_fact_rental.json"
        ],
        [
         2.99,
         193,
         273,
         1590,
         "2006-02-15 21:30:53",
         20050526,
         "20050529",
         2,
         null,
         "2023-05-02T15:39:23.585+0000",
         "dbfs:/FileStore/ds2002-lab06/sourcedata/stream/rental/sakila_fact_rental.json"
        ],
        [
         5.99,
         311,
         274,
         656,
         "2006-02-15 21:30:53",
         20050526,
         "20050603",
         1,
         null,
         "2023-05-02T15:39:23.585+0000",
         "dbfs:/FileStore/ds2002-lab06/sourcedata/stream/rental/sakila_fact_rental.json"
        ],
        [
         6.99,
         133,
         275,
         1718,
         "2006-02-15 21:30:53",
         20050526,
         "20050604",
         1,
         null,
         "2023-05-02T15:39:23.585+0000",
         "dbfs:/FileStore/ds2002-lab06/sourcedata/stream/rental/sakila_fact_rental.json"
        ],
        [
         7.99,
         58,
         276,
         1221,
         "2006-02-15 21:30:53",
         20050526,
         "20050603",
         1,
         null,
         "2023-05-02T15:39:23.585+0000",
         "dbfs:/FileStore/ds2002-lab06/sourcedata/stream/rental/sakila_fact_rental.json"
        ],
        [
         2.99,
         45,
         277,
         1409,
         "2006-02-15 21:30:53",
         20050526,
         "20050528",
         1,
         null,
         "2023-05-02T15:39:23.585+0000",
         "dbfs:/FileStore/ds2002-lab06/sourcedata/stream/rental/sakila_fact_rental.json"
        ],
        [
         3.99,
         214,
         278,
         182,
         "2006-02-15 21:30:53",
         20050526,
         "20050602",
         2,
         null,
         "2023-05-02T15:39:23.585+0000",
         "dbfs:/FileStore/ds2002-lab06/sourcedata/stream/rental/sakila_fact_rental.json"
        ],
        [
         2.99,
         384,
         279,
         661,
         "2006-02-15 21:30:53",
         20050526,
         "20050603",
         2,
         null,
         "2023-05-02T15:39:23.585+0000",
         "dbfs:/FileStore/ds2002-lab06/sourcedata/stream/rental/sakila_fact_rental.json"
        ],
        [
         2.99,
         167,
         280,
         1896,
         "2006-02-15 21:30:53",
         20050526,
         "20050527",
         1,
         null,
         "2023-05-02T15:39:23.585+0000",
         "dbfs:/FileStore/ds2002-lab06/sourcedata/stream/rental/sakila_fact_rental.json"
        ],
        [
         0.99,
         582,
         281,
         1208,
         "2006-02-15 21:30:53",
         20050526,
         "20050527",
         2,
         null,
         "2023-05-02T15:39:23.585+0000",
         "dbfs:/FileStore/ds2002-lab06/sourcedata/stream/rental/sakila_fact_rental.json"
        ],
        [
         6.99,
         282,
         282,
         4486,
         "2006-02-15 21:30:53",
         20050526,
         "20050601",
         2,
         null,
         "2023-05-02T15:39:23.585+0000",
         "dbfs:/FileStore/ds2002-lab06/sourcedata/stream/rental/sakila_fact_rental.json"
        ],
        [
         3.99,
         242,
         283,
         3530,
         "2006-02-15 21:30:53",
         20050526,
         "20050531",
         1,
         null,
         "2023-05-02T15:39:23.585+0000",
         "dbfs:/FileStore/ds2002-lab06/sourcedata/stream/rental/sakila_fact_rental.json"
        ],
        [
         8.99,
         359,
         284,
         350,
         "2006-02-15 21:30:53",
         20050526,
         "20050604",
         2,
         null,
         "2023-05-02T15:39:23.585+0000",
         "dbfs:/FileStore/ds2002-lab06/sourcedata/stream/rental/sakila_fact_rental.json"
        ],
        [
         1.99,
         162,
         285,
         2486,
         "2006-02-15 21:30:53",
         20050526,
         "20050531",
         2,
         null,
         "2023-05-02T15:39:23.585+0000",
         "dbfs:/FileStore/ds2002-lab06/sourcedata/stream/rental/sakila_fact_rental.json"
        ],
        [
         6.99,
         371,
         286,
         314,
         "2006-02-15 21:30:53",
         20050526,
         "20050604",
         2,
         null,
         "2023-05-02T15:39:23.585+0000",
         "dbfs:/FileStore/ds2002-lab06/sourcedata/stream/rental/sakila_fact_rental.json"
        ],
        [
         2.99,
         17,
         287,
         3631,
         "2006-02-15 21:30:53",
         20050526,
         "20050602",
         1,
         null,
         "2023-05-02T15:39:23.585+0000",
         "dbfs:/FileStore/ds2002-lab06/sourcedata/stream/rental/sakila_fact_rental.json"
        ],
        [
         8.99,
         82,
         288,
         3546,
         "2006-02-15 21:30:53",
         20050526,
         "20050603",
         2,
         null,
         "2023-05-02T15:39:23.585+0000",
         "dbfs:/FileStore/ds2002-lab06/sourcedata/stream/rental/sakila_fact_rental.json"
        ],
        [
         0.99,
         81,
         289,
         2449,
         "2006-02-15 21:30:53",
         20050526,
         "20050528",
         1,
         null,
         "2023-05-02T15:39:23.585+0000",
         "dbfs:/FileStore/ds2002-lab06/sourcedata/stream/rental/sakila_fact_rental.json"
        ],
        [
         2.99,
         429,
         290,
         2776,
         "2006-02-15 21:30:53",
         20050526,
         "20050530",
         1,
         null,
         "2023-05-02T15:39:23.585+0000",
         "dbfs:/FileStore/ds2002-lab06/sourcedata/stream/rental/sakila_fact_rental.json"
        ],
        [
         5.99,
         577,
         291,
         485,
         "2006-02-15 21:30:53",
         20050526,
         "20050603",
         2,
         null,
         "2023-05-02T15:39:23.585+0000",
         "dbfs:/FileStore/ds2002-lab06/sourcedata/stream/rental/sakila_fact_rental.json"
        ],
        [
         6.99,
         515,
         292,
         4264,
         "2006-02-15 21:30:53",
         20050526,
         "20050605",
         1,
         null,
         "2023-05-02T15:39:23.585+0000",
         "dbfs:/FileStore/ds2002-lab06/sourcedata/stream/rental/sakila_fact_rental.json"
        ],
        [
         5.99,
         158,
         293,
         1828,
         "2006-02-15 21:30:53",
         20050526,
         "20050603",
         2,
         null,
         "2023-05-02T15:39:23.585+0000",
         "dbfs:/FileStore/ds2002-lab06/sourcedata/stream/rental/sakila_fact_rental.json"
        ],
        [
         4.99,
         369,
         294,
         2751,
         "2006-02-15 21:30:53",
         20050526,
         "20050528",
         1,
         null,
         "2023-05-02T15:39:23.585+0000",
         "dbfs:/FileStore/ds2002-lab06/sourcedata/stream/rental/sakila_fact_rental.json"
        ],
        [
         4.99,
         65,
         295,
         4030,
         "2006-02-15 21:30:53",
         20050526,
         "20050527",
         2,
         null,
         "2023-05-02T15:39:23.585+0000",
         "dbfs:/FileStore/ds2002-lab06/sourcedata/stream/rental/sakila_fact_rental.json"
        ],
        [
         6.99,
         468,
         296,
         3878,
         "2006-02-15 21:30:53",
         20050526,
         "20050604",
         2,
         null,
         "2023-05-02T15:39:23.585+0000",
         "dbfs:/FileStore/ds2002-lab06/sourcedata/stream/rental/sakila_fact_rental.json"
        ],
        [
         2.99,
         48,
         297,
         1594,
         "2006-02-15 21:30:53",
         20050526,
         "20050527",
         2,
         null,
         "2023-05-02T15:39:23.585+0000",
         "dbfs:/FileStore/ds2002-lab06/sourcedata/stream/rental/sakila_fact_rental.json"
        ],
        [
         0.99,
         460,
         298,
         1083,
         "2006-02-15 21:30:53",
         20050526,
         "20050529",
         2,
         null,
         "2023-05-02T15:39:23.585+0000",
         "dbfs:/FileStore/ds2002-lab06/sourcedata/stream/rental/sakila_fact_rental.json"
        ],
        [
         4.99,
         448,
         299,
         4376,
         "2006-02-15 21:30:53",
         20050526,
         "20050528",
         2,
         null,
         "2023-05-02T15:39:23.585+0000",
         "dbfs:/FileStore/ds2002-lab06/sourcedata/stream/rental/sakila_fact_rental.json"
        ],
        [
         6.99,
         47,
         300,
         249,
         "2006-02-15 21:30:53",
         20050526,
         "20050605",
         2,
         null,
         "2023-05-02T15:39:23.585+0000",
         "dbfs:/FileStore/ds2002-lab06/sourcedata/stream/rental/sakila_fact_rental.json"
        ],
        [
         2.99,
         274,
         301,
         3448,
         "2006-02-15 21:30:53",
         20050526,
         "20050601",
         2,
         null,
         "2023-05-02T15:39:23.585+0000",
         "dbfs:/FileStore/ds2002-lab06/sourcedata/stream/rental/sakila_fact_rental.json"
        ],
        [
         4.99,
         387,
         302,
         2921,
         "2006-02-15 21:30:53",
         20050526,
         "20050603",
         2,
         null,
         "2023-05-02T15:39:23.585+0000",
         "dbfs:/FileStore/ds2002-lab06/sourcedata/stream/rental/sakila_fact_rental.json"
        ],
        [
         4.99,
         596,
         303,
         1111,
         "2006-02-15 21:30:53",
         20050526,
         "20050527",
         2,
         null,
         "2023-05-02T15:39:23.585+0000",
         "dbfs:/FileStore/ds2002-lab06/sourcedata/stream/rental/sakila_fact_rental.json"
        ],
        [
         5.99,
         534,
         304,
         1701,
         "2006-02-15 21:30:53",
         20050526,
         "20050602",
         1,
         null,
         "2023-05-02T15:39:23.585+0000",
         "dbfs:/FileStore/ds2002-lab06/sourcedata/stream/rental/sakila_fact_rental.json"
        ],
        [
         3.99,
         464,
         305,
         2665,
         "2006-02-15 21:30:53",
         20050526,
         "20050602",
         2,
         null,
         "2023-05-02T15:39:23.585+0000",
         "dbfs:/FileStore/ds2002-lab06/sourcedata/stream/rental/sakila_fact_rental.json"
        ],
        [
         0.99,
         547,
         306,
         2781,
         "2006-02-15 21:30:53",
         20050526,
         "20050528",
         1,
         null,
         "2023-05-02T15:39:23.585+0000",
         "dbfs:/FileStore/ds2002-lab06/sourcedata/stream/rental/sakila_fact_rental.json"
        ],
        [
         8.99,
         375,
         307,
         1097,
         "2006-02-15 21:30:53",
         20050526,
         "20050604",
         1,
         null,
         "2023-05-02T15:39:23.585+0000",
         "dbfs:/FileStore/ds2002-lab06/sourcedata/stream/rental/sakila_fact_rental.json"
        ],
        [
         6.99,
         277,
         308,
         187,
         "2006-02-15 21:30:53",
         20050526,
         "20050604",
         2,
         null,
         "2023-05-02T15:39:23.585+0000",
         "dbfs:/FileStore/ds2002-lab06/sourcedata/stream/rental/sakila_fact_rental.json"
        ],
        [
         1.99,
         251,
         309,
         1946,
         "2006-02-15 21:30:53",
         20050526,
         "20050602",
         2,
         null,
         "2023-05-02T15:39:23.585+0000",
         "dbfs:/FileStore/ds2002-lab06/sourcedata/stream/rental/sakila_fact_rental.json"
        ],
        [
         6.99,
         409,
         310,
         593,
         "2006-02-15 21:30:53",
         20050526,
         "20050602",
         1,
         null,
         "2023-05-02T15:39:23.585+0000",
         "dbfs:/FileStore/ds2002-lab06/sourcedata/stream/rental/sakila_fact_rental.json"
        ],
        [
         3.99,
         201,
         311,
         2830,
         "2006-02-15 21:30:53",
         20050526,
         "20050601",
         1,
         null,
         "2023-05-02T15:39:23.585+0000",
         "dbfs:/FileStore/ds2002-lab06/sourcedata/stream/rental/sakila_fact_rental.json"
        ],
        [
         2.99,
         143,
         312,
         2008,
         "2006-02-15 21:30:53",
         20050526,
         "20050602",
         2,
         null,
         "2023-05-02T15:39:23.585+0000",
         "dbfs:/FileStore/ds2002-lab06/sourcedata/stream/rental/sakila_fact_rental.json"
        ],
        [
         4.99,
         594,
         313,
         4156,
         "2006-02-15 21:30:53",
         20050526,
         "20050529",
         2,
         null,
         "2023-05-02T15:39:23.585+0000",
         "dbfs:/FileStore/ds2002-lab06/sourcedata/stream/rental/sakila_fact_rental.json"
        ],
        [
         0.99,
         203,
         314,
         2851,
         "2006-02-15 21:30:53",
         20050526,
         "20050528",
         2,
         null,
         "2023-05-02T15:39:23.585+0000",
         "dbfs:/FileStore/ds2002-lab06/sourcedata/stream/rental/sakila_fact_rental.json"
        ],
        [
         4.99,
         238,
         315,
         2847,
         "2006-02-15 21:30:53",
         20050526,
         "20050529",
         1,
         null,
         "2023-05-02T15:39:23.585+0000",
         "dbfs:/FileStore/ds2002-lab06/sourcedata/stream/rental/sakila_fact_rental.json"
        ],
        [
         4.99,
         249,
         316,
         3828,
         "2006-02-15 21:30:53",
         20050526,
         "20050529",
         2,
         null,
         "2023-05-02T15:39:23.585+0000",
         "dbfs:/FileStore/ds2002-lab06/sourcedata/stream/rental/sakila_fact_rental.json"
        ],
        [
         5.99,
         391,
         317,
         26,
         "2006-02-15 21:30:53",
         20050526,
         "20050601",
         2,
         null,
         "2023-05-02T15:39:23.585+0000",
         "dbfs:/FileStore/ds2002-lab06/sourcedata/stream/rental/sakila_fact_rental.json"
        ],
        [
         4.99,
         60,
         318,
         2559,
         "2006-02-15 21:30:53",
         20050526,
         "20050603",
         2,
         null,
         "2023-05-02T15:39:23.585+0000",
         "dbfs:/FileStore/ds2002-lab06/sourcedata/stream/rental/sakila_fact_rental.json"
        ],
        [
         2.99,
         77,
         319,
         3024,
         "2006-02-15 21:30:53",
         20050526,
         "20050530",
         1,
         null,
         "2023-05-02T15:39:23.585+0000",
         "dbfs:/FileStore/ds2002-lab06/sourcedata/stream/rental/sakila_fact_rental.json"
        ],
        [
         4.99,
         2,
         320,
         1090,
         "2006-02-15 21:30:53",
         20050527,
         "20050528",
         2,
         null,
         "2023-05-02T15:39:23.585+0000",
         "dbfs:/FileStore/ds2002-lab06/sourcedata/stream/rental/sakila_fact_rental.json"
        ],
        [
         4.99,
         496,
         322,
         4556,
         "2006-02-15 21:30:53",
         20050527,
         "20050602",
         1,
         null,
         "2023-05-02T15:39:23.585+0000",
         "dbfs:/FileStore/ds2002-lab06/sourcedata/stream/rental/sakila_fact_rental.json"
        ],
        [
         2.99,
         144,
         323,
         2362,
         "2006-02-15 21:30:53",
         20050527,
         "20050530",
         1,
         null,
         "2023-05-02T15:39:23.585+0000",
         "dbfs:/FileStore/ds2002-lab06/sourcedata/stream/rental/sakila_fact_rental.json"
        ],
        [
         0.99,
         292,
         324,
         3364,
         "2006-02-15 21:30:53",
         20050527,
         "20050530",
         1,
         null,
         "2023-05-02T15:39:23.585+0000",
         "dbfs:/FileStore/ds2002-lab06/sourcedata/stream/rental/sakila_fact_rental.json"
        ],
        [
         5.99,
         449,
         325,
         2510,
         "2006-02-15 21:30:53",
         20050527,
         "20050531",
         2,
         null,
         "2023-05-02T15:39:23.585+0000",
         "dbfs:/FileStore/ds2002-lab06/sourcedata/stream/rental/sakila_fact_rental.json"
        ],
        [
         7.99,
         432,
         326,
         3979,
         "2006-02-15 21:30:53",
         20050527,
         "20050604",
         2,
         null,
         "2023-05-02T15:39:23.585+0000",
         "dbfs:/FileStore/ds2002-lab06/sourcedata/stream/rental/sakila_fact_rental.json"
        ],
        [
         8.99,
         105,
         327,
         2678,
         "2006-02-15 21:30:53",
         20050527,
         "20050604",
         1,
         null,
         "2023-05-02T15:39:23.585+0000",
         "dbfs:/FileStore/ds2002-lab06/sourcedata/stream/rental/sakila_fact_rental.json"
        ],
        [
         2.99,
         451,
         328,
         2524,
         "2006-02-15 21:30:53",
         20050527,
         "20050601",
         1,
         null,
         "2023-05-02T15:39:23.585+0000",
         "dbfs:/FileStore/ds2002-lab06/sourcedata/stream/rental/sakila_fact_rental.json"
        ],
        [
         5.99,
         231,
         329,
         2659,
         "2006-02-15 21:30:53",
         20050527,
         "20050531",
         2,
         null,
         "2023-05-02T15:39:23.585+0000",
         "dbfs:/FileStore/ds2002-lab06/sourcedata/stream/rental/sakila_fact_rental.json"
        ],
        [
         7.99,
         248,
         330,
         1536,
         "2006-02-15 21:30:53",
         20050527,
         "20050604",
         2,
         null,
         "2023-05-02T15:39:23.585+0000",
         "dbfs:/FileStore/ds2002-lab06/sourcedata/stream/rental/sakila_fact_rental.json"
        ],
        [
         9.99,
         67,
         331,
         1872,
         "2006-02-15 21:30:53",
         20050527,
         "20050605",
         1,
         null,
         "2023-05-02T15:39:23.585+0000",
         "dbfs:/FileStore/ds2002-lab06/sourcedata/stream/rental/sakila_fact_rental.json"
        ],
        [
         5.99,
         299,
         332,
         1529,
         "2006-02-15 21:30:53",
         20050527,
         "20050603",
         2,
         null,
         "2023-05-02T15:39:23.585+0000",
         "dbfs:/FileStore/ds2002-lab06/sourcedata/stream/rental/sakila_fact_rental.json"
        ],
        [
         4.99,
         412,
         333,
         4001,
         "2006-02-15 21:30:53",
         20050527,
         "20050601",
         2,
         null,
         "2023-05-02T15:39:23.585+0000",
         "dbfs:/FileStore/ds2002-lab06/sourcedata/stream/rental/sakila_fact_rental.json"
        ],
        [
         4.99,
         194,
         334,
         3973,
         "2006-02-15 21:30:53",
         20050527,
         "20050529",
         1,
         null,
         "2023-05-02T15:39:23.585+0000",
         "dbfs:/FileStore/ds2002-lab06/sourcedata/stream/rental/sakila_fact_rental.json"
        ],
        [
         3.99,
         16,
         335,
         1411,
         "2006-02-15 21:30:53",
         20050527,
         "20050605",
         2,
         null,
         "2023-05-02T15:39:23.585+0000",
         "dbfs:/FileStore/ds2002-lab06/sourcedata/stream/rental/sakila_fact_rental.json"
        ],
        [
         2.99,
         275,
         336,
         1811,
         "2006-02-15 21:30:53",
         20050527,
         "20050529",
         1,
         null,
         "2023-05-02T15:39:23.585+0000",
         "dbfs:/FileStore/ds2002-lab06/sourcedata/stream/rental/sakila_fact_rental.json"
        ],
        [
         2.99,
         19,
         337,
         751,
         "2006-02-15 21:30:53",
         20050527,
         "20050602",
         1,
         null,
         "2023-05-02T15:39:23.585+0000",
         "dbfs:/FileStore/ds2002-lab06/sourcedata/stream/rental/sakila_fact_rental.json"
        ],
        [
         4.99,
         165,
         338,
         2596,
         "2006-02-15 21:30:53",
         20050527,
         "20050601",
         2,
         null,
         "2023-05-02T15:39:23.585+0000",
         "dbfs:/FileStore/ds2002-lab06/sourcedata/stream/rental/sakila_fact_rental.json"
        ],
        [
         3.99,
         516,
         339,
         2410,
         "2006-02-15 21:30:53",
         20050527,
         "20050604",
         2,
         null,
         "2023-05-02T15:39:23.585+0000",
         "dbfs:/FileStore/ds2002-lab06/sourcedata/stream/rental/sakila_fact_rental.json"
        ],
        [
         9.99,
         209,
         340,
         946,
         "2006-02-15 21:30:53",
         20050527,
         "20050604",
         2,
         null,
         "2023-05-02T15:39:23.585+0000",
         "dbfs:/FileStore/ds2002-lab06/sourcedata/stream/rental/sakila_fact_rental.json"
        ],
        [
         5.99,
         56,
         341,
         4168,
         "2006-02-15 21:30:53",
         20050527,
         "20050605",
         1,
         null,
         "2023-05-02T15:39:23.585+0000",
         "dbfs:/FileStore/ds2002-lab06/sourcedata/stream/rental/sakila_fact_rental.json"
        ],
        [
         0.99,
         539,
         342,
         4019,
         "2006-02-15 21:30:53",
         20050527,
         "20050529",
         2,
         null,
         "2023-05-02T15:39:23.585+0000",
         "dbfs:/FileStore/ds2002-lab06/sourcedata/stream/rental/sakila_fact_rental.json"
        ],
        [
         0.99,
         455,
         343,
         3301,
         "2006-02-15 21:30:53",
         20050527,
         "20050528",
         1,
         null,
         "2023-05-02T15:39:23.585+0000",
         "dbfs:/FileStore/ds2002-lab06/sourcedata/stream/rental/sakila_fact_rental.json"
        ],
        [
         2.99,
         236,
         344,
         2327,
         "2006-02-15 21:30:53",
         20050527,
         "20050529",
         2,
         null,
         "2023-05-02T15:39:23.585+0000",
         "dbfs:/FileStore/ds2002-lab06/sourcedata/stream/rental/sakila_fact_rental.json"
        ],
        [
         2.99,
         144,
         345,
         1396,
         "2006-02-15 21:30:53",
         20050527,
         "20050531",
         1,
         null,
         "2023-05-02T15:39:23.585+0000",
         "dbfs:/FileStore/ds2002-lab06/sourcedata/stream/rental/sakila_fact_rental.json"
        ],
        [
         9.99,
         14,
         346,
         4319,
         "2006-02-15 21:30:53",
         20050527,
         "20050605",
         2,
         null,
         "2023-05-02T15:39:23.585+0000",
         "dbfs:/FileStore/ds2002-lab06/sourcedata/stream/rental/sakila_fact_rental.json"
        ],
        [
         0.99,
         378,
         347,
         1625,
         "2006-02-15 21:30:53",
         20050527,
         "20050528",
         2,
         null,
         "2023-05-02T15:39:23.585+0000",
         "dbfs:/FileStore/ds2002-lab06/sourcedata/stream/rental/sakila_fact_rental.json"
        ],
        [
         4.99,
         473,
         348,
         1825,
         "2006-02-15 21:30:53",
         20050527,
         "20050601",
         1,
         null,
         "2023-05-02T15:39:23.585+0000",
         "dbfs:/FileStore/ds2002-lab06/sourcedata/stream/rental/sakila_fact_rental.json"
        ],
        [
         0.99,
         36,
         349,
         2920,
         "2006-02-15 21:30:53",
         20050527,
         "20050528",
         2,
         null,
         "2023-05-02T15:39:23.585+0000",
         "dbfs:/FileStore/ds2002-lab06/sourcedata/stream/rental/sakila_fact_rental.json"
        ],
        [
         4.99,
         9,
         350,
         2756,
         "2006-02-15 21:30:53",
         20050527,
         "20050604",
         2,
         null,
         "2023-05-02T15:39:23.585+0000",
         "dbfs:/FileStore/ds2002-lab06/sourcedata/stream/rental/sakila_fact_rental.json"
        ],
        [
         5.99,
         118,
         351,
         3371,
         "2006-02-15 21:30:53",
         20050527,
         "20050601",
         1,
         null,
         "2023-05-02T15:39:23.585+0000",
         "dbfs:/FileStore/ds2002-lab06/sourcedata/stream/rental/sakila_fact_rental.json"
        ],
        [
         0.99,
         157,
         352,
         4369,
         "2006-02-15 21:30:53",
         20050527,
         "20050529",
         1,
         null,
         "2023-05-02T15:39:23.585+0000",
         "dbfs:/FileStore/ds2002-lab06/sourcedata/stream/rental/sakila_fact_rental.json"
        ],
        [
         5.99,
         503,
         353,
         3989,
         "2006-02-15 21:30:53",
         20050527,
         "20050603",
         2,
         null,
         "2023-05-02T15:39:23.585+0000",
         "dbfs:/FileStore/ds2002-lab06/sourcedata/stream/rental/sakila_fact_rental.json"
        ],
        [
         2.99,
         452,
         354,
         2058,
         "2006-02-15 21:30:53",
         20050527,
         "20050601",
         1,
         null,
         "2023-05-02T15:39:23.585+0000",
         "dbfs:/FileStore/ds2002-lab06/sourcedata/stream/rental/sakila_fact_rental.json"
        ],
        [
         4.99,
         446,
         355,
         141,
         "2006-02-15 21:30:53",
         20050527,
         "20050601",
         2,
         null,
         "2023-05-02T15:39:23.585+0000",
         "dbfs:/FileStore/ds2002-lab06/sourcedata/stream/rental/sakila_fact_rental.json"
        ],
        [
         2.99,
         382,
         356,
         2868,
         "2006-02-15 21:30:53",
         20050527,
         "20050530",
         2,
         null,
         "2023-05-02T15:39:23.585+0000",
         "dbfs:/FileStore/ds2002-lab06/sourcedata/stream/rental/sakila_fact_rental.json"
        ],
        [
         0.99,
         198,
         357,
         4417,
         "2006-02-15 21:30:53",
         20050527,
         "20050530",
         2,
         null,
         "2023-05-02T15:39:23.585+0000",
         "dbfs:/FileStore/ds2002-lab06/sourcedata/stream/rental/sakila_fact_rental.json"
        ],
        [
         0.99,
         102,
         358,
         1925,
         "2006-02-15 21:30:53",
         20050527,
         "20050529",
         2,
         null,
         "2023-05-02T15:39:23.585+0000",
         "dbfs:/FileStore/ds2002-lab06/sourcedata/stream/rental/sakila_fact_rental.json"
        ],
        [
         4.99,
         152,
         359,
         1156,
         "2006-02-15 21:30:53",
         20050527,
         "20050529",
         1,
         null,
         "2023-05-02T15:39:23.585+0000",
         "dbfs:/FileStore/ds2002-lab06/sourcedata/stream/rental/sakila_fact_rental.json"
        ],
        [
         8.99,
         594,
         360,
         3489,
         "2006-02-15 21:30:53",
         20050527,
         "20050603",
         1,
         null,
         "2023-05-02T15:39:23.585+0000",
         "dbfs:/FileStore/ds2002-lab06/sourcedata/stream/rental/sakila_fact_rental.json"
        ],
        [
         0.99,
         587,
         361,
         6,
         "2006-02-15 21:30:53",
         20050527,
         "20050531",
         1,
         null,
         "2023-05-02T15:39:23.585+0000",
         "dbfs:/FileStore/ds2002-lab06/sourcedata/stream/rental/sakila_fact_rental.json"
        ],
        [
         0.99,
         147,
         362,
         2324,
         "2006-02-15 21:30:53",
         20050527,
         "20050601",
         1,
         null,
         "2023-05-02T15:39:23.585+0000",
         "dbfs:/FileStore/ds2002-lab06/sourcedata/stream/rental/sakila_fact_rental.json"
        ],
        [
         0.99,
         345,
         363,
         4282,
         "2006-02-15 21:30:53",
         20050527,
         "20050528",
         2,
         null,
         "2023-05-02T15:39:23.585+0000",
         "dbfs:/FileStore/ds2002-lab06/sourcedata/stream/rental/sakila_fact_rental.json"
        ],
        [
         4.99,
         430,
         364,
         833,
         "2006-02-15 21:30:53",
         20050527,
         "20050531",
         2,
         null,
         "2023-05-02T15:39:23.585+0000",
         "dbfs:/FileStore/ds2002-lab06/sourcedata/stream/rental/sakila_fact_rental.json"
        ],
        [
         2.99,
         167,
         365,
         2887,
         "2006-02-15 21:30:53",
         20050527,
         "20050604",
         1,
         null,
         "2023-05-02T15:39:23.585+0000",
         "dbfs:/FileStore/ds2002-lab06/sourcedata/stream/rental/sakila_fact_rental.json"
        ],
        [
         3.99,
         134,
         366,
         360,
         "2006-02-15 21:30:53",
         20050527,
         "20050604",
         2,
         null,
         "2023-05-02T15:39:23.585+0000",
         "dbfs:/FileStore/ds2002-lab06/sourcedata/stream/rental/sakila_fact_rental.json"
        ],
        [
         0.99,
         439,
         367,
         3437,
         "2006-02-15 21:30:53",
         20050527,
         "20050530",
         2,
         null,
         "2023-05-02T15:39:23.585+0000",
         "dbfs:/FileStore/ds2002-lab06/sourcedata/stream/rental/sakila_fact_rental.json"
        ],
        [
         5.99,
         361,
         368,
         1247,
         "2006-02-15 21:30:53",
         20050527,
         "20050604",
         2,
         null,
         "2023-05-02T15:39:23.585+0000",
         "dbfs:/FileStore/ds2002-lab06/sourcedata/stream/rental/sakila_fact_rental.json"
        ],
        [
         2.99,
         508,
         369,
         944,
         "2006-02-15 21:30:53",
         20050527,
         "20050601",
         2,
         null,
         "2023-05-02T15:39:23.585+0000",
         "dbfs:/FileStore/ds2002-lab06/sourcedata/stream/rental/sakila_fact_rental.json"
        ],
        [
         4.99,
         22,
         370,
         3347,
         "2006-02-15 21:30:53",
         20050527,
         "20050605",
         2,
         null,
         "2023-05-02T15:39:23.585+0000",
         "dbfs:/FileStore/ds2002-lab06/sourcedata/stream/rental/sakila_fact_rental.json"
        ],
        [
         3.99,
         295,
         371,
         1235,
         "2006-02-15 21:30:53",
         20050527,
         "20050605",
         2,
         null,
         "2023-05-02T15:39:23.585+0000",
         "dbfs:/FileStore/ds2002-lab06/sourcedata/stream/rental/sakila_fact_rental.json"
        ],
        [
         5.99,
         510,
         372,
         4089,
         "2006-02-15 21:30:53",
         20050527,
         "20050604",
         2,
         null,
         "2023-05-02T15:39:23.585+0000",
         "dbfs:/FileStore/ds2002-lab06/sourcedata/stream/rental/sakila_fact_rental.json"
        ],
        [
         1.99,
         464,
         373,
         1649,
         "2006-02-15 21:30:53",
         20050527,
         "20050601",
         1,
         null,
         "2023-05-02T15:39:23.585+0000",
         "dbfs:/FileStore/ds2002-lab06/sourcedata/stream/rental/sakila_fact_rental.json"
        ],
        [
         6.99,
         337,
         374,
         4420,
         "2006-02-15 21:30:53",
         20050527,
         "20050605",
         1,
         null,
         "2023-05-02T15:39:23.585+0000",
         "dbfs:/FileStore/ds2002-lab06/sourcedata/stream/rental/sakila_fact_rental.json"
        ],
        [
         3.99,
         306,
         375,
         1815,
         "2006-02-15 21:30:53",
         20050527,
         "20050604",
         1,
         null,
         "2023-05-02T15:39:23.585+0000",
         "dbfs:/FileStore/ds2002-lab06/sourcedata/stream/rental/sakila_fact_rental.json"
        ],
        [
         4.99,
         542,
         376,
         3197,
         "2006-02-15 21:30:53",
         20050527,
         "20050602",
         1,
         null,
         "2023-05-02T15:39:23.585+0000",
         "dbfs:/FileStore/ds2002-lab06/sourcedata/stream/rental/sakila_fact_rental.json"
        ],
        [
         5.99,
         170,
         377,
         3012,
         "2006-02-15 21:30:53",
         20050527,
         "20050602",
         2,
         null,
         "2023-05-02T15:39:23.585+0000",
         "dbfs:/FileStore/ds2002-lab06/sourcedata/stream/rental/sakila_fact_rental.json"
        ],
        [
         2.99,
         53,
         378,
         2242,
         "2006-02-15 21:30:53",
         20050527,
         "20050529",
         1,
         null,
         "2023-05-02T15:39:23.585+0000",
         "dbfs:/FileStore/ds2002-lab06/sourcedata/stream/rental/sakila_fact_rental.json"
        ],
        [
         4.99,
         584,
         379,
         3462,
         "2006-02-15 21:30:53",
         20050527,
         "20050602",
         1,
         null,
         "2023-05-02T15:39:23.585+0000",
         "dbfs:/FileStore/ds2002-lab06/sourcedata/stream/rental/sakila_fact_rental.json"
        ],
        [
         6.99,
         176,
         380,
         1777,
         "2006-02-15 21:30:53",
         20050527,
         "20050604",
         1,
         null,
         "2023-05-02T15:39:23.585+0000",
         "dbfs:/FileStore/ds2002-lab06/sourcedata/stream/rental/sakila_fact_rental.json"
        ],
        [
         4.99,
         371,
         381,
         2748,
         "2006-02-15 21:30:53",
         20050527,
         "20050531",
         1,
         null,
         "2023-05-02T15:39:23.585+0000",
         "dbfs:/FileStore/ds2002-lab06/sourcedata/stream/rental/sakila_fact_rental.json"
        ],
        [
         0.99,
         183,
         382,
         4358,
         "2006-02-15 21:30:53",
         20050527,
         "20050531",
         1,
         null,
         "2023-05-02T15:39:23.585+0000",
         "dbfs:/FileStore/ds2002-lab06/sourcedata/stream/rental/sakila_fact_rental.json"
        ],
        [
         3.99,
         298,
         383,
         955,
         "2006-02-15 21:30:53",
         20050527,
         "20050603",
         1,
         null,
         "2023-05-02T15:39:23.585+0000",
         "dbfs:/FileStore/ds2002-lab06/sourcedata/stream/rental/sakila_fact_rental.json"
        ],
        [
         5.99,
         371,
         384,
         910,
         "2006-02-15 21:30:53",
         20050527,
         "20050602",
         2,
         null,
         "2023-05-02T15:39:23.585+0000",
         "dbfs:/FileStore/ds2002-lab06/sourcedata/stream/rental/sakila_fact_rental.json"
        ],
        [
         0.99,
         213,
         385,
         1565,
         "2006-02-15 21:30:53",
         20050527,
         "20050530",
         2,
         null,
         "2023-05-02T15:39:23.585+0000",
         "dbfs:/FileStore/ds2002-lab06/sourcedata/stream/rental/sakila_fact_rental.json"
        ],
        [
         0.99,
         109,
         386,
         1288,
         "2006-02-15 21:30:53",
         20050527,
         "20050530",
         1,
         null,
         "2023-05-02T15:39:23.585+0000",
         "dbfs:/FileStore/ds2002-lab06/sourcedata/stream/rental/sakila_fact_rental.json"
        ],
        [
         2.99,
         506,
         387,
         2684,
         "2006-02-15 21:30:53",
         20050527,
         "20050601",
         2,
         null,
         "2023-05-02T15:39:23.585+0000",
         "dbfs:/FileStore/ds2002-lab06/sourcedata/stream/rental/sakila_fact_rental.json"
        ],
        [
         2.99,
         28,
         388,
         434,
         "2006-02-15 21:30:53",
         20050527,
         "20050530",
         1,
         null,
         "2023-05-02T15:39:23.585+0000",
         "dbfs:/FileStore/ds2002-lab06/sourcedata/stream/rental/sakila_fact_rental.json"
        ],
        [
         8.99,
         500,
         389,
         691,
         "2006-02-15 21:30:53",
         20050527,
         "20050605",
         2,
         null,
         "2023-05-02T15:39:23.585+0000",
         "dbfs:/FileStore/ds2002-lab06/sourcedata/stream/rental/sakila_fact_rental.json"
        ],
        [
         4.99,
         48,
         390,
         3759,
         "2006-02-15 21:30:53",
         20050527,
         "20050602",
         2,
         null,
         "2023-05-02T15:39:23.585+0000",
         "dbfs:/FileStore/ds2002-lab06/sourcedata/stream/rental/sakila_fact_rental.json"
        ],
        [
         2.99,
         197,
         391,
         2193,
         "2006-02-15 21:30:53",
         20050527,
         "20050601",
         2,
         null,
         "2023-05-02T15:39:23.585+0000",
         "dbfs:/FileStore/ds2002-lab06/sourcedata/stream/rental/sakila_fact_rental.json"
        ],
        [
         2.99,
         359,
         392,
         263,
         "2006-02-15 21:30:53",
         20050527,
         "20050601",
         2,
         null,
         "2023-05-02T15:39:23.585+0000",
         "dbfs:/FileStore/ds2002-lab06/sourcedata/stream/rental/sakila_fact_rental.json"
        ],
        [
         2.99,
         251,
         393,
         145,
         "2006-02-15 21:30:53",
         20050527,
         "20050528",
         2,
         null,
         "2023-05-02T15:39:23.585+0000",
         "dbfs:/FileStore/ds2002-lab06/sourcedata/stream/rental/sakila_fact_rental.json"
        ],
        [
         5.99,
         274,
         394,
         1890,
         "2006-02-15 21:30:53",
         20050527,
         "20050603",
         2,
         null,
         "2023-05-02T15:39:23.585+0000",
         "dbfs:/FileStore/ds2002-lab06/sourcedata/stream/rental/sakila_fact_rental.json"
        ],
        [
         0.99,
         575,
         395,
         752,
         "2006-02-15 21:30:53",
         20050527,
         "20050531",
         1,
         null,
         "2023-05-02T15:39:23.585+0000",
         "dbfs:/FileStore/ds2002-lab06/sourcedata/stream/rental/sakila_fact_rental.json"
        ],
        [
         0.99,
         112,
         396,
         1020,
         "2006-02-15 21:30:53",
         20050527,
         "20050529",
         1,
         null,
         "2023-05-02T15:39:23.585+0000",
         "dbfs:/FileStore/ds2002-lab06/sourcedata/stream/rental/sakila_fact_rental.json"
        ],
        [
         2.99,
         544,
         397,
         4193,
         "2006-02-15 21:30:53",
         20050527,
         "20050528",
         2,
         null,
         "2023-05-02T15:39:23.585+0000",
         "dbfs:/FileStore/ds2002-lab06/sourcedata/stream/rental/sakila_fact_rental.json"
        ],
        [
         0.99,
         422,
         398,
         1686,
         "2006-02-15 21:30:53",
         20050527,
         "20050602",
         1,
         null,
         "2023-05-02T15:39:23.585+0000",
         "dbfs:/FileStore/ds2002-lab06/sourcedata/stream/rental/sakila_fact_rental.json"
        ],
        [
         4.99,
         204,
         399,
         553,
         "2006-02-15 21:30:53",
         20050527,
         "20050529",
         1,
         null,
         "2023-05-02T15:39:23.585+0000",
         "dbfs:/FileStore/ds2002-lab06/sourcedata/stream/rental/sakila_fact_rental.json"
        ],
        [
         2.99,
         249,
         400,
         258,
         "2006-02-15 21:30:53",
         20050527,
         "20050531",
         2,
         null,
         "2023-05-02T15:39:23.585+0000",
         "dbfs:/FileStore/ds2002-lab06/sourcedata/stream/rental/sakila_fact_rental.json"
        ],
        [
         2.99,
         46,
         401,
         2179,
         "2006-02-15 21:30:53",
         20050527,
         "20050529",
         2,
         null,
         "2023-05-02T15:39:23.585+0000",
         "dbfs:/FileStore/ds2002-lab06/sourcedata/stream/rental/sakila_fact_rental.json"
        ],
        [
         0.99,
         354,
         402,
         461,
         "2006-02-15 21:30:53",
         20050527,
         "20050530",
         2,
         null,
         "2023-05-02T15:39:23.585+0000",
         "dbfs:/FileStore/ds2002-lab06/sourcedata/stream/rental/sakila_fact_rental.json"
        ],
        [
         0.99,
         424,
         403,
         3983,
         "2006-02-15 21:30:53",
         20050527,
         "20050529",
         2,
         null,
         "2023-05-02T15:39:23.585+0000",
         "dbfs:/FileStore/ds2002-lab06/sourcedata/stream/rental/sakila_fact_rental.json"
        ],
        [
         0.99,
         168,
         404,
         1293,
         "2006-02-15 21:30:53",
         20050527,
         "20050530",
         1,
         null,
         "2023-05-02T15:39:23.585+0000",
         "dbfs:/FileStore/ds2002-lab06/sourcedata/stream/rental/sakila_fact_rental.json"
        ],
        [
         6.99,
         272,
         405,
         4090,
         "2006-02-15 21:30:53",
         20050527,
         "20050605",
         2,
         null,
         "2023-05-02T15:39:23.585+0000",
         "dbfs:/FileStore/ds2002-lab06/sourcedata/stream/rental/sakila_fact_rental.json"
        ],
        [
         2.99,
         381,
         406,
         2136,
         "2006-02-15 21:30:53",
         20050527,
         "20050530",
         1,
         null,
         "2023-05-02T15:39:23.585+0000",
         "dbfs:/FileStore/ds2002-lab06/sourcedata/stream/rental/sakila_fact_rental.json"
        ],
        [
         2.99,
         44,
         407,
         1077,
         "2006-02-15 21:30:53",
         20050527,
         "20050531",
         1,
         null,
         "2023-05-02T15:39:23.585+0000",
         "dbfs:/FileStore/ds2002-lab06/sourcedata/stream/rental/sakila_fact_rental.json"
        ],
        [
         0.99,
         84,
         408,
         1438,
         "2006-02-15 21:30:53",
         20050527,
         "20050528",
         1,
         null,
         "2023-05-02T15:39:23.585+0000",
         "dbfs:/FileStore/ds2002-lab06/sourcedata/stream/rental/sakila_fact_rental.json"
        ],
        [
         0.99,
         220,
         409,
         3652,
         "2006-02-15 21:30:53",
         20050527,
         "20050602",
         2,
         null,
         "2023-05-02T15:39:23.585+0000",
         "dbfs:/FileStore/ds2002-lab06/sourcedata/stream/rental/sakila_fact_rental.json"
        ],
        [
         3.99,
         506,
         410,
         4010,
         "2006-02-15 21:30:53",
         20050527,
         "20050602",
         2,
         null,
         "2023-05-02T15:39:23.585+0000",
         "dbfs:/FileStore/ds2002-lab06/sourcedata/stream/rental/sakila_fact_rental.json"
        ],
        [
         4.99,
         388,
         411,
         1434,
         "2006-02-15 21:30:53",
         20050527,
         "20050603",
         1,
         null,
         "2023-05-02T15:39:23.585+0000",
         "dbfs:/FileStore/ds2002-lab06/sourcedata/stream/rental/sakila_fact_rental.json"
        ],
        [
         4.99,
         375,
         412,
         1400,
         "2006-02-15 21:30:53",
         20050527,
         "20050529",
         2,
         null,
         "2023-05-02T15:39:23.585+0000",
         "dbfs:/FileStore/ds2002-lab06/sourcedata/stream/rental/sakila_fact_rental.json"
        ],
        [
         4.99,
         307,
         413,
         3516,
         "2006-02-15 21:30:53",
         20050527,
         "20050603",
         1,
         null,
         "2023-05-02T15:39:23.585+0000",
         "dbfs:/FileStore/ds2002-lab06/sourcedata/stream/rental/sakila_fact_rental.json"
        ],
        [
         0.99,
         219,
         414,
         1019,
         "2006-02-15 21:30:53",
         20050527,
         "20050531",
         2,
         null,
         "2023-05-02T15:39:23.585+0000",
         "dbfs:/FileStore/ds2002-lab06/sourcedata/stream/rental/sakila_fact_rental.json"
        ],
        [
         0.99,
         304,
         415,
         3698,
         "2006-02-15 21:30:53",
         20050527,
         "20050528",
         2,
         null,
         "2023-05-02T15:39:23.585+0000",
         "dbfs:/FileStore/ds2002-lab06/sourcedata/stream/rental/sakila_fact_rental.json"
        ],
        [
         0.99,
         222,
         416,
         2371,
         "2006-02-15 21:30:53",
         20050527,
         "20050529",
         2,
         null,
         "2023-05-02T15:39:23.585+0000",
         "dbfs:/FileStore/ds2002-lab06/sourcedata/stream/rental/sakila_fact_rental.json"
        ],
        [
         4.99,
         475,
         417,
         2253,
         "2006-02-15 21:30:53",
         20050527,
         "20050529",
         2,
         null,
         "2023-05-02T15:39:23.585+0000",
         "dbfs:/FileStore/ds2002-lab06/sourcedata/stream/rental/sakila_fact_rental.json"
        ],
        [
         5.99,
         151,
         418,
         3063,
         "2006-02-15 21:30:53",
         20050527,
         "20050604",
         2,
         null,
         "2023-05-02T15:39:23.585+0000",
         "dbfs:/FileStore/ds2002-lab06/sourcedata/stream/rental/sakila_fact_rental.json"
        ],
        [
         1.99,
         77,
         419,
         2514,
         "2006-02-15 21:30:53",
         20050527,
         "20050602",
         1,
         null,
         "2023-05-02T15:39:23.585+0000",
         "dbfs:/FileStore/ds2002-lab06/sourcedata/stream/rental/sakila_fact_rental.json"
        ],
        [
         6.99,
         93,
         420,
         619,
         "2006-02-15 21:30:53",
         20050527,
         "20050603",
         2,
         null,
         "2023-05-02T15:39:23.585+0000",
         "dbfs:/FileStore/ds2002-lab06/sourcedata/stream/rental/sakila_fact_rental.json"
        ],
        [
         8.99,
         246,
         421,
         2985,
         "2006-02-15 21:30:53",
         20050527,
         "20050604",
         2,
         null,
         "2023-05-02T15:39:23.585+0000",
         "dbfs:/FileStore/ds2002-lab06/sourcedata/stream/rental/sakila_fact_rental.json"
        ],
        [
         3.99,
         150,
         422,
         1152,
         "2006-02-15 21:30:53",
         20050527,
         "20050601",
         2,
         null,
         "2023-05-02T15:39:23.585+0000",
         "dbfs:/FileStore/ds2002-lab06/sourcedata/stream/rental/sakila_fact_rental.json"
        ],
        [
         0.99,
         284,
         423,
         1783,
         "2006-02-15 21:30:53",
         20050527,
         "20050602",
         1,
         null,
         "2023-05-02T15:39:23.585+0000",
         "dbfs:/FileStore/ds2002-lab06/sourcedata/stream/rental/sakila_fact_rental.json"
        ],
        [
         6.99,
         35,
         424,
         2815,
         "2006-02-15 21:30:53",
         20050527,
         "20050605",
         1,
         null,
         "2023-05-02T15:39:23.585+0000",
         "dbfs:/FileStore/ds2002-lab06/sourcedata/stream/rental/sakila_fact_rental.json"
        ],
        [
         3.99,
         182,
         425,
         1518,
         "2006-02-15 21:30:53",
         20050527,
         "20050603",
         2,
         null,
         "2023-05-02T15:39:23.585+0000",
         "dbfs:/FileStore/ds2002-lab06/sourcedata/stream/rental/sakila_fact_rental.json"
        ],
        [
         5.99,
         522,
         426,
         1103,
         "2006-02-15 21:30:53",
         20050527,
         "20050605",
         1,
         null,
         "2023-05-02T15:39:23.585+0000",
         "dbfs:/FileStore/ds2002-lab06/sourcedata/stream/rental/sakila_fact_rental.json"
        ],
        [
         6.99,
         288,
         427,
         1677,
         "2006-02-15 21:30:53",
         20050527,
         "20050605",
         2,
         null,
         "2023-05-02T15:39:23.585+0000",
         "dbfs:/FileStore/ds2002-lab06/sourcedata/stream/rental/sakila_fact_rental.json"
        ],
        [
         2.99,
         161,
         428,
         3349,
         "2006-02-15 21:30:53",
         20050527,
         "20050531",
         2,
         null,
         "2023-05-02T15:39:23.585+0000",
         "dbfs:/FileStore/ds2002-lab06/sourcedata/stream/rental/sakila_fact_rental.json"
        ],
        [
         8.99,
         498,
         429,
         129,
         "2006-02-15 21:30:53",
         20050527,
         "20050605",
         2,
         null,
         "2023-05-02T15:39:23.585+0000",
         "dbfs:/FileStore/ds2002-lab06/sourcedata/stream/rental/sakila_fact_rental.json"
        ],
        [
         4.99,
         190,
         430,
         1920,
         "2006-02-15 21:30:53",
         20050527,
         "20050605",
         1,
         null,
         "2023-05-02T15:39:23.585+0000",
         "dbfs:/FileStore/ds2002-lab06/sourcedata/stream/rental/sakila_fact_rental.json"
        ],
        [
         8.99,
         334,
         431,
         4507,
         "2006-02-15 21:30:53",
         20050527,
         "20050605",
         1,
         null,
         "2023-05-02T15:39:23.585+0000",
         "dbfs:/FileStore/ds2002-lab06/sourcedata/stream/rental/sakila_fact_rental.json"
        ],
        [
         4.99,
         46,
         432,
         1119,
         "2006-02-15 21:30:53",
         20050527,
         "20050529",
         1,
         null,
         "2023-05-02T15:39:23.585+0000",
         "dbfs:/FileStore/ds2002-lab06/sourcedata/stream/rental/sakila_fact_rental.json"
        ],
        [
         0.99,
         574,
         433,
         4364,
         "2006-02-15 21:30:53",
         20050527,
         "20050530",
         2,
         null,
         "2023-05-02T15:39:23.585+0000",
         "dbfs:/FileStore/ds2002-lab06/sourcedata/stream/rental/sakila_fact_rental.json"
        ],
        [
         5.99,
         246,
         434,
         3360,
         "2006-02-15 21:30:53",
         20050527,
         "20050604",
         1,
         null,
         "2023-05-02T15:39:23.585+0000",
         "dbfs:/FileStore/ds2002-lab06/sourcedata/stream/rental/sakila_fact_rental.json"
        ],
        [
         1.99,
         3,
         435,
         3328,
         "2006-02-15 21:30:53",
         20050527,
         "20050602",
         2,
         null,
         "2023-05-02T15:39:23.585+0000",
         "dbfs:/FileStore/ds2002-lab06/sourcedata/stream/rental/sakila_fact_rental.json"
        ],
        [
         4.99,
         267,
         436,
         4317,
         "2006-02-15 21:30:53",
         20050527,
         "20050530",
         2,
         null,
         "2023-05-02T15:39:23.585+0000",
         "dbfs:/FileStore/ds2002-lab06/sourcedata/stream/rental/sakila_fact_rental.json"
        ],
        [
         5.99,
         525,
         437,
         1800,
         "2006-02-15 21:30:53",
         20050527,
         "20050605",
         2,
         null,
         "2023-05-02T15:39:23.585+0000",
         "dbfs:/FileStore/ds2002-lab06/sourcedata/stream/rental/sakila_fact_rental.json"
        ],
        [
         6.99,
         249,
         438,
         4260,
         "2006-02-15 21:30:53",
         20050527,
         "20050605",
         2,
         null,
         "2023-05-02T15:39:23.585+0000",
         "dbfs:/FileStore/ds2002-lab06/sourcedata/stream/rental/sakila_fact_rental.json"
        ],
        [
         2.99,
         319,
         439,
         354,
         "2006-02-15 21:30:53",
         20050527,
         "20050602",
         2,
         null,
         "2023-05-02T15:39:23.585+0000",
         "dbfs:/FileStore/ds2002-lab06/sourcedata/stream/rental/sakila_fact_rental.json"
        ],
        [
         4.99,
         314,
         440,
         4452,
         "2006-02-15 21:30:53",
         20050527,
         "20050529",
         1,
         null,
         "2023-05-02T15:39:23.585+0000",
         "dbfs:/FileStore/ds2002-lab06/sourcedata/stream/rental/sakila_fact_rental.json"
        ],
        [
         4.99,
         54,
         441,
         1578,
         "2006-02-15 21:30:53",
         20050527,
         "20050530",
         1,
         null,
         "2023-05-02T15:39:23.585+0000",
         "dbfs:/FileStore/ds2002-lab06/sourcedata/stream/rental/sakila_fact_rental.json"
        ],
        [
         2.99,
         403,
         442,
         1457,
         "2006-02-15 21:30:53",
         20050527,
         "20050530",
         2,
         null,
         "2023-05-02T15:39:23.585+0000",
         "dbfs:/FileStore/ds2002-lab06/sourcedata/stream/rental/sakila_fact_rental.json"
        ],
        [
         8.99,
         547,
         443,
         2021,
         "2006-02-15 21:30:53",
         20050527,
         "20050604",
         1,
         null,
         "2023-05-02T15:39:23.585+0000",
         "dbfs:/FileStore/ds2002-lab06/sourcedata/stream/rental/sakila_fact_rental.json"
        ],
        [
         2.99,
         239,
         444,
         723,
         "2006-02-15 21:30:53",
         20050527,
         "20050601",
         1,
         null,
         "2023-05-02T15:39:23.585+0000",
         "dbfs:/FileStore/ds2002-lab06/sourcedata/stream/rental/sakila_fact_rental.json"
        ],
        [
         0.99,
         293,
         445,
         1757,
         "2006-02-15 21:30:53",
         20050527,
         "20050530",
         2,
         null,
         "2023-05-02T15:39:23.585+0000",
         "dbfs:/FileStore/ds2002-lab06/sourcedata/stream/rental/sakila_fact_rental.json"
        ],
        [
         4.99,
         401,
         446,
         1955,
         "2006-02-15 21:30:53",
         20050527,
         "20050603",
         2,
         null,
         "2023-05-02T15:39:23.585+0000",
         "dbfs:/FileStore/ds2002-lab06/sourcedata/stream/rental/sakila_fact_rental.json"
        ],
        [
         2.99,
         133,
         447,
         3890,
         "2006-02-15 21:30:53",
         20050527,
         "20050605",
         1,
         null,
         "2023-05-02T15:39:23.585+0000",
         "dbfs:/FileStore/ds2002-lab06/sourcedata/stream/rental/sakila_fact_rental.json"
        ],
        [
         3.99,
         247,
         448,
         2671,
         "2006-02-15 21:30:53",
         20050527,
         "20050603",
         2,
         null,
         "2023-05-02T15:39:23.585+0000",
         "dbfs:/FileStore/ds2002-lab06/sourcedata/stream/rental/sakila_fact_rental.json"
        ],
        [
         3.99,
         172,
         449,
         2469,
         "2006-02-15 21:30:53",
         20050527,
         "20050604",
         2,
         null,
         "2023-05-02T15:39:23.585+0000",
         "dbfs:/FileStore/ds2002-lab06/sourcedata/stream/rental/sakila_fact_rental.json"
        ],
        [
         6.99,
         247,
         450,
         1343,
         "2006-02-15 21:30:53",
         20050527,
         "20050605",
         1,
         null,
         "2023-05-02T15:39:23.585+0000",
         "dbfs:/FileStore/ds2002-lab06/sourcedata/stream/rental/sakila_fact_rental.json"
        ],
        [
         4.99,
         87,
         451,
         205,
         "2006-02-15 21:30:53",
         20050527,
         "20050529",
         2,
         null,
         "2023-05-02T15:39:23.585+0000",
         "dbfs:/FileStore/ds2002-lab06/sourcedata/stream/rental/sakila_fact_rental.json"
        ],
        [
         0.99,
         127,
         452,
         2993,
         "2006-02-15 21:30:53",
         20050527,
         "20050530",
         2,
         null,
         "2023-05-02T15:39:23.585+0000",
         "dbfs:/FileStore/ds2002-lab06/sourcedata/stream/rental/sakila_fact_rental.json"
        ],
        [
         2.99,
         529,
         453,
         4425,
         "2006-02-15 21:30:53",
         20050527,
         "20050529",
         1,
         null,
         "2023-05-02T15:39:23.585+0000",
         "dbfs:/FileStore/ds2002-lab06/sourcedata/stream/rental/sakila_fact_rental.json"
        ],
        [
         4.99,
         575,
         454,
         3499,
         "2006-02-15 21:30:53",
         20050527,
         "20050530",
         1,
         null,
         "2023-05-02T15:39:23.585+0000",
         "dbfs:/FileStore/ds2002-lab06/sourcedata/stream/rental/sakila_fact_rental.json"
        ],
        [
         3.99,
         343,
         455,
         3344,
         "2006-02-15 21:30:53",
         20050527,
         "20050604",
         2,
         null,
         "2023-05-02T15:39:23.585+0000",
         "dbfs:/FileStore/ds2002-lab06/sourcedata/stream/rental/sakila_fact_rental.json"
        ],
        [
         4.99,
         92,
         456,
         1699,
         "2006-02-15 21:30:53",
         20050527,
         "20050602",
         1,
         null,
         "2023-05-02T15:39:23.585+0000",
         "dbfs:/FileStore/ds2002-lab06/sourcedata/stream/rental/sakila_fact_rental.json"
        ],
        [
         0.99,
         300,
         457,
         2368,
         "2006-02-15 21:30:53",
         20050527,
         "20050602",
         2,
         null,
         "2023-05-02T15:39:23.585+0000",
         "dbfs:/FileStore/ds2002-lab06/sourcedata/stream/rental/sakila_fact_rental.json"
        ],
        [
         6.99,
         565,
         458,
         3350,
         "2006-02-15 21:30:53",
         20050527,
         "20050606",
         1,
         null,
         "2023-05-02T15:39:23.585+0000",
         "dbfs:/FileStore/ds2002-lab06/sourcedata/stream/rental/sakila_fact_rental.json"
        ],
        [
         0.99,
         468,
         459,
         597,
         "2006-02-15 21:30:53",
         20050527,
         "20050529",
         1,
         null,
         "2023-05-02T15:39:23.585+0000",
         "dbfs:/FileStore/ds2002-lab06/sourcedata/stream/rental/sakila_fact_rental.json"
        ],
        [
         2.99,
         240,
         460,
         4238,
         "2006-02-15 21:30:53",
         20050527,
         "20050528",
         1,
         null,
         "2023-05-02T15:39:23.585+0000",
         "dbfs:/FileStore/ds2002-lab06/sourcedata/stream/rental/sakila_fact_rental.json"
        ],
        [
         2.99,
         447,
         461,
         2077,
         "2006-02-15 21:30:53",
         20050527,
         "20050601",
         1,
         null,
         "2023-05-02T15:39:23.585+0000",
         "dbfs:/FileStore/ds2002-lab06/sourcedata/stream/rental/sakila_fact_rental.json"
        ],
        [
         5.99,
         364,
         462,
         2314,
         "2006-02-15 21:30:53",
         20050527,
         "20050603",
         2,
         null,
         "2023-05-02T15:39:23.585+0000",
         "dbfs:/FileStore/ds2002-lab06/sourcedata/stream/rental/sakila_fact_rental.json"
        ],
        [
         3.99,
         21,
         463,
         826,
         "2006-02-15 21:30:53",
         20050527,
         "20050604",
         1,
         null,
         "2023-05-02T15:39:23.585+0000",
         "dbfs:/FileStore/ds2002-lab06/sourcedata/stream/rental/sakila_fact_rental.json"
        ],
        [
         0.99,
         193,
         464,
         1313,
         "2006-02-15 21:30:53",
         20050527,
         "20050530",
         2,
         null,
         "2023-05-02T15:39:23.585+0000",
         "dbfs:/FileStore/ds2002-lab06/sourcedata/stream/rental/sakila_fact_rental.json"
        ],
        [
         3.99,
         261,
         465,
         20,
         "2006-02-15 21:30:53",
         20050527,
         "20050602",
         1,
         null,
         "2023-05-02T15:39:23.585+0000",
         "dbfs:/FileStore/ds2002-lab06/sourcedata/stream/rental/sakila_fact_rental.json"
        ],
        [
         0.99,
         442,
         466,
         1786,
         "2006-02-15 21:30:53",
         20050527,
         "20050529",
         1,
         null,
         "2023-05-02T15:39:23.585+0000",
         "dbfs:/FileStore/ds2002-lab06/sourcedata/stream/rental/sakila_fact_rental.json"
        ],
        [
         4.99,
         557,
         467,
         339,
         "2006-02-15 21:30:53",
         20050527,
         "20050601",
         1,
         null,
         "2023-05-02T15:39:23.585+0000",
         "dbfs:/FileStore/ds2002-lab06/sourcedata/stream/rental/sakila_fact_rental.json"
        ],
        [
         9.99,
         101,
         468,
         2656,
         "2006-02-15 21:30:53",
         20050527,
         "20050604",
         2,
         null,
         "2023-05-02T15:39:23.585+0000",
         "dbfs:/FileStore/ds2002-lab06/sourcedata/stream/rental/sakila_fact_rental.json"
        ],
        [
         5.99,
         154,
         469,
         4463,
         "2006-02-15 21:30:53",
         20050527,
         "20050605",
         1,
         null,
         "2023-05-02T15:39:23.585+0000",
         "dbfs:/FileStore/ds2002-lab06/sourcedata/stream/rental/sakila_fact_rental.json"
        ],
        [
         4.99,
         504,
         470,
         1613,
         "2006-02-15 21:30:53",
         20050527,
         "20050604",
         1,
         null,
         "2023-05-02T15:39:23.585+0000",
         "dbfs:/FileStore/ds2002-lab06/sourcedata/stream/rental/sakila_fact_rental.json"
        ],
        [
         0.99,
         209,
         471,
         2872,
         "2006-02-15 21:30:53",
         20050527,
         "20050531",
         2,
         null,
         "2023-05-02T15:39:23.585+0000",
         "dbfs:/FileStore/ds2002-lab06/sourcedata/stream/rental/sakila_fact_rental.json"
        ],
        [
         0.99,
         528,
         472,
         1338,
         "2006-02-15 21:30:53",
         20050527,
         "20050529",
         1,
         null,
         "2023-05-02T15:39:23.585+0000",
         "dbfs:/FileStore/ds2002-lab06/sourcedata/stream/rental/sakila_fact_rental.json"
        ],
        [
         7.99,
         105,
         473,
         802,
         "2006-02-15 21:30:53",
         20050527,
         "20050605",
         1,
         null,
         "2023-05-02T15:39:23.585+0000",
         "dbfs:/FileStore/ds2002-lab06/sourcedata/stream/rental/sakila_fact_rental.json"
        ],
        [
         2.99,
         274,
         474,
         1474,
         "2006-02-15 21:30:53",
         20050527,
         "20050531",
         1,
         null,
         "2023-05-02T15:39:23.585+0000",
         "dbfs:/FileStore/ds2002-lab06/sourcedata/stream/rental/sakila_fact_rental.json"
        ],
        [
         2.99,
         159,
         475,
         2520,
         "2006-02-15 21:30:53",
         20050527,
         "20050528",
         1,
         null,
         "2023-05-02T15:39:23.585+0000",
         "dbfs:/FileStore/ds2002-lab06/sourcedata/stream/rental/sakila_fact_rental.json"
        ],
        [
         1.99,
         543,
         476,
         2451,
         "2006-02-15 21:30:53",
         20050527,
         "20050603",
         1,
         null,
         "2023-05-02T15:39:23.585+0000",
         "dbfs:/FileStore/ds2002-lab06/sourcedata/stream/rental/sakila_fact_rental.json"
        ],
        [
         3.99,
         161,
         477,
         2437,
         "2006-02-15 21:30:53",
         20050527,
         "20050602",
         2,
         null,
         "2023-05-02T15:39:23.585+0000",
         "dbfs:/FileStore/ds2002-lab06/sourcedata/stream/rental/sakila_fact_rental.json"
        ],
        [
         4.99,
         557,
         478,
         424,
         "2006-02-15 21:30:53",
         20050527,
         "20050531",
         2,
         null,
         "2023-05-02T15:39:23.585+0000",
         "dbfs:/FileStore/ds2002-lab06/sourcedata/stream/rental/sakila_fact_rental.json"
        ],
        [
         6.99,
         231,
         479,
         2060,
         "2006-02-15 21:30:53",
         20050527,
         "20050605",
         2,
         null,
         "2023-05-02T15:39:23.585+0000",
         "dbfs:/FileStore/ds2002-lab06/sourcedata/stream/rental/sakila_fact_rental.json"
        ],
        [
         3.99,
         220,
         480,
         2108,
         "2006-02-15 21:30:53",
         20050527,
         "20050604",
         2,
         null,
         "2023-05-02T15:39:23.585+0000",
         "dbfs:/FileStore/ds2002-lab06/sourcedata/stream/rental/sakila_fact_rental.json"
        ],
        [
         2.99,
         445,
         481,
         72,
         "2006-02-15 21:30:53",
         20050527,
         "20050530",
         2,
         null,
         "2023-05-02T15:39:23.585+0000",
         "dbfs:/FileStore/ds2002-lab06/sourcedata/stream/rental/sakila_fact_rental.json"
        ],
        [
         6.99,
         546,
         482,
         4178,
         "2006-02-15 21:30:53",
         20050527,
         "20050601",
         2,
         null,
         "2023-05-02T15:39:23.585+0000",
         "dbfs:/FileStore/ds2002-lab06/sourcedata/stream/rental/sakila_fact_rental.json"
        ],
        [
         4.99,
         32,
         483,
         1510,
         "2006-02-15 21:30:53",
         20050527,
         "20050528",
         1,
         null,
         "2023-05-02T15:39:23.585+0000",
         "dbfs:/FileStore/ds2002-lab06/sourcedata/stream/rental/sakila_fact_rental.json"
        ],
        [
         2.99,
         491,
         484,
         3115,
         "2006-02-15 21:30:53",
         20050527,
         "20050529",
         2,
         null,
         "2023-05-02T15:39:23.585+0000",
         "dbfs:/FileStore/ds2002-lab06/sourcedata/stream/rental/sakila_fact_rental.json"
        ],
        [
         2.99,
         105,
         485,
         2392,
         "2006-02-15 21:30:53",
         20050527,
         "20050528",
         2,
         null,
         "2023-05-02T15:39:23.585+0000",
         "dbfs:/FileStore/ds2002-lab06/sourcedata/stream/rental/sakila_fact_rental.json"
        ],
        [
         4.99,
         398,
         486,
         1822,
         "2006-02-15 21:30:53",
         20050527,
         "20050528",
         1,
         null,
         "2023-05-02T15:39:23.585+0000",
         "dbfs:/FileStore/ds2002-lab06/sourcedata/stream/rental/sakila_fact_rental.json"
        ],
        [
         4.99,
         569,
         487,
         3774,
         "2006-02-15 21:30:53",
         20050528,
         "20050528",
         2,
         null,
         "2023-05-02T15:39:23.585+0000",
         "dbfs:/FileStore/ds2002-lab06/sourcedata/stream/rental/sakila_fact_rental.json"
        ],
        [
         4.99,
         168,
         488,
         393,
         "2006-02-15 21:30:53",
         20050528,
         "20050603",
         2,
         null,
         "2023-05-02T15:39:23.585+0000",
         "dbfs:/FileStore/ds2002-lab06/sourcedata/stream/rental/sakila_fact_rental.json"
        ],
        [
         4.99,
         476,
         489,
         1940,
         "2006-02-15 21:30:53",
         20050528,
         "20050531",
         2,
         null,
         "2023-05-02T15:39:23.585+0000",
         "dbfs:/FileStore/ds2002-lab06/sourcedata/stream/rental/sakila_fact_rental.json"
        ],
        [
         4.99,
         95,
         490,
         3524,
         "2006-02-15 21:30:53",
         20050528,
         "20050530",
         2,
         null,
         "2023-05-02T15:39:23.585+0000",
         "dbfs:/FileStore/ds2002-lab06/sourcedata/stream/rental/sakila_fact_rental.json"
        ],
        [
         2.99,
         196,
         491,
         1326,
         "2006-02-15 21:30:53",
         20050528,
         "20050529",
         2,
         null,
         "2023-05-02T15:39:23.585+0000",
         "dbfs:/FileStore/ds2002-lab06/sourcedata/stream/rental/sakila_fact_rental.json"
        ],
        [
         4.99,
         228,
         492,
         1999,
         "2006-02-15 21:30:53",
         20050528,
         "20050528",
         1,
         null,
         "2023-05-02T15:39:23.585+0000",
         "dbfs:/FileStore/ds2002-lab06/sourcedata/stream/rental/sakila_fact_rental.json"
        ],
        [
         0.99,
         501,
         493,
         184,
         "2006-02-15 21:30:53",
         20050528,
         "20050530",
         1,
         null,
         "2023-05-02T15:39:23.585+0000",
         "dbfs:/FileStore/ds2002-lab06/sourcedata/stream/rental/sakila_fact_rental.json"
        ],
        [
         4.99,
         64,
         494,
         1850,
         "2006-02-15 21:30:53",
         20050528,
         "20050602",
         1,
         null,
         "2023-05-02T15:39:23.585+0000",
         "dbfs:/FileStore/ds2002-lab06/sourcedata/stream/rental/sakila_fact_rental.json"
        ],
        [
         4.99,
         526,
         495,
         1007,
         "2006-02-15 21:30:53",
         20050528,
         "20050529",
         1,
         null,
         "2023-05-02T15:39:23.585+0000",
         "dbfs:/FileStore/ds2002-lab06/sourcedata/stream/rental/sakila_fact_rental.json"
        ],
        [
         2.99,
         56,
         496,
         1785,
         "2006-02-15 21:30:53",
         20050528,
         "20050604",
         1,
         null,
         "2023-05-02T15:39:23.585+0000",
         "dbfs:/FileStore/ds2002-lab06/sourcedata/stream/rental/sakila_fact_rental.json"
        ],
        [
         6.99,
         20,
         497,
         2636,
         "2006-02-15 21:30:53",
         20050528,
         "20050603",
         2,
         null,
         "2023-05-02T15:39:23.585+0000",
         "dbfs:/FileStore/ds2002-lab06/sourcedata/stream/rental/sakila_fact_rental.json"
        ],
        [
         0.99,
         287,
         498,
         458,
         "2006-02-15 21:30:53",
         20050528,
         "20050530",
         2,
         null,
         "2023-05-02T15:39:23.585+0000",
         "dbfs:/FileStore/ds2002-lab06/sourcedata/stream/rental/sakila_fact_rental.json"
        ],
        [
         7.99,
         199,
         499,
         2381,
         "2006-02-15 21:30:53",
         20050528,
         "20050605",
         2,
         null,
         "2023-05-02T15:39:23.585+0000",
         "dbfs:/FileStore/ds2002-lab06/sourcedata/stream/rental/sakila_fact_rental.json"
        ],
        [
         0.99,
         145,
         500,
         4500,
         "2006-02-15 21:30:53",
         20050528,
         "20050531",
         1,
         null,
         "2023-05-02T15:39:23.585+0000",
         "dbfs:/FileStore/ds2002-lab06/sourcedata/stream/rental/sakila_fact_rental.json"
        ],
        [
         4.99,
         162,
         501,
         601,
         "2006-02-15 21:30:53",
         20050528,
         "20050530",
         2,
         null,
         "2023-05-02T15:39:23.585+0000",
         "dbfs:/FileStore/ds2002-lab06/sourcedata/stream/rental/sakila_fact_rental.json"
        ],
        [
         0.99,
         179,
         502,
         3131,
         "2006-02-15 21:30:53",
         20050528,
         "20050531",
         2,
         null,
         "2023-05-02T15:39:23.585+0000",
         "dbfs:/FileStore/ds2002-lab06/sourcedata/stream/rental/sakila_fact_rental.json"
        ],
        [
         4.99,
         288,
         503,
         3005,
         "2006-02-15 21:30:53",
         20050528,
         "20050528",
         2,
         null,
         "2023-05-02T15:39:23.585+0000",
         "dbfs:/FileStore/ds2002-lab06/sourcedata/stream/rental/sakila_fact_rental.json"
        ],
        [
         0.99,
         170,
         504,
         2086,
         "2006-02-15 21:30:53",
         20050528,
         "20050530",
         1,
         null,
         "2023-05-02T15:39:23.585+0000",
         "dbfs:/FileStore/ds2002-lab06/sourcedata/stream/rental/sakila_fact_rental.json"
        ],
        [
         2.99,
         111,
         505,
         71,
         "2006-02-15 21:30:53",
         20050528,
         "20050529",
         1,
         null,
         "2023-05-02T15:39:23.585+0000",
         "dbfs:/FileStore/ds2002-lab06/sourcedata/stream/rental/sakila_fact_rental.json"
        ],
        [
         7.99,
         469,
         506,
         667,
         "2006-02-15 21:30:53",
         20050528,
         "20050605",
         1,
         null,
         "2023-05-02T15:39:23.585+0000",
         "dbfs:/FileStore/ds2002-lab06/sourcedata/stream/rental/sakila_fact_rental.json"
        ],
        [
         0.99,
         421,
         507,
         3621,
         "2006-02-15 21:30:53",
         20050528,
         "20050602",
         2,
         null,
         "2023-05-02T15:39:23.585+0000",
         "dbfs:/FileStore/ds2002-lab06/sourcedata/stream/rental/sakila_fact_rental.json"
        ],
        [
         5.99,
         434,
         508,
         4179,
         "2006-02-15 21:30:53",
         20050528,
         "20050605",
         1,
         null,
         "2023-05-02T15:39:23.585+0000",
         "dbfs:/FileStore/ds2002-lab06/sourcedata/stream/rental/sakila_fact_rental.json"
        ],
        [
         0.99,
         147,
         509,
         3416,
         "2006-02-15 21:30:53",
         20050528,
         "20050531",
         1,
         null,
         "2023-05-02T15:39:23.585+0000",
         "dbfs:/FileStore/ds2002-lab06/sourcedata/stream/rental/sakila_fact_rental.json"
        ],
        [
         0.99,
         113,
         510,
         4338,
         "2006-02-15 21:30:53",
         20050528,
         "20050530",
         2,
         null,
         "2023-05-02T15:39:23.585+0000",
         "dbfs:/FileStore/ds2002-lab06/sourcedata/stream/rental/sakila_fact_rental.json"
        ],
        [
         5.99,
         296,
         511,
         3827,
         "2006-02-15 21:30:53",
         20050528,
         "20050603",
         1,
         null,
         "2023-05-02T15:39:23.585+0000",
         "dbfs:/FileStore/ds2002-lab06/sourcedata/stream/rental/sakila_fact_rental.json"
        ],
        [
         8.99,
         231,
         512,
         2176,
         "2006-02-15 21:30:53",
         20050528,
         "20050605",
         2,
         null,
         "2023-05-02T15:39:23.585+0000",
         "dbfs:/FileStore/ds2002-lab06/sourcedata/stream/rental/sakila_fact_rental.json"
        ],
        [
         2.99,
         489,
         513,
         225,
         "2006-02-15 21:30:53",
         20050528,
         "20050529",
         1,
         null,
         "2023-05-02T15:39:23.585+0000",
         "dbfs:/FileStore/ds2002-lab06/sourcedata/stream/rental/sakila_fact_rental.json"
        ],
        [
         8.99,
         597,
         514,
         1697,
         "2006-02-15 21:30:53",
         20050528,
         "20050605",
         2,
         null,
         "2023-05-02T15:39:23.585+0000",
         "dbfs:/FileStore/ds2002-lab06/sourcedata/stream/rental/sakila_fact_rental.json"
        ],
        [
         7.99,
         110,
         515,
         3369,
         "2006-02-15 21:30:53",
         20050528,
         "20050604",
         2,
         null,
         "2023-05-02T15:39:23.585+0000",
         "dbfs:/FileStore/ds2002-lab06/sourcedata/stream/rental/sakila_fact_rental.json"
        ],
        [
         1.99,
         400,
         516,
         4357,
         "2006-02-15 21:30:53",
         20050528,
         "20050604",
         1,
         null,
         "2023-05-02T15:39:23.585+0000",
         "dbfs:/FileStore/ds2002-lab06/sourcedata/stream/rental/sakila_fact_rental.json"
        ],
        [
         0.99,
         403,
         517,
         234,
         "2006-02-15 21:30:53",
         20050528,
         "20050529",
         1,
         null,
         "2023-05-02T15:39:23.585+0000",
         "dbfs:/FileStore/ds2002-lab06/sourcedata/stream/rental/sakila_fact_rental.json"
        ],
        [
         0.99,
         480,
         518,
         4087,
         "2006-02-15 21:30:53",
         20050528,
         "20050530",
         1,
         null,
         "2023-05-02T15:39:23.585+0000",
         "dbfs:/FileStore/ds2002-lab06/sourcedata/stream/rental/sakila_fact_rental.json"
        ],
        [
         7.99,
         245,
         519,
         3564,
         "2006-02-15 21:30:53",
         20050528,
         "20050603",
         1,
         null,
         "2023-05-02T15:39:23.585+0000",
         "dbfs:/FileStore/ds2002-lab06/sourcedata/stream/rental/sakila_fact_rental.json"
        ],
        [
         5.99,
         161,
         520,
         3845,
         "2006-02-15 21:30:53",
         20050528,
         "20050604",
         1,
         null,
         "2023-05-02T15:39:23.585+0000",
         "dbfs:/FileStore/ds2002-lab06/sourcedata/stream/rental/sakila_fact_rental.json"
        ],
        [
         0.99,
         374,
         521,
         2397,
         "2006-02-15 21:30:53",
         20050528,
         "20050528",
         1,
         null,
         "2023-05-02T15:39:23.585+0000",
         "dbfs:/FileStore/ds2002-lab06/sourcedata/stream/rental/sakila_fact_rental.json"
        ],
        [
         2.99,
         382,
         522,
         3195,
         "2006-02-15 21:30:53",
         20050528,
         "20050531",
         1,
         null,
         "2023-05-02T15:39:23.585+0000",
         "dbfs:/FileStore/ds2002-lab06/sourcedata/stream/rental/sakila_fact_rental.json"
        ],
        [
         2.99,
         138,
         523,
         1905,
         "2006-02-15 21:30:53",
         20050528,
         "20050531",
         2,
         null,
         "2023-05-02T15:39:23.585+0000",
         "dbfs:/FileStore/ds2002-lab06/sourcedata/stream/rental/sakila_fact_rental.json"
        ],
        [
         2.99,
         223,
         524,
         1962,
         "2006-02-15 21:30:53",
         20050528,
         "20050531",
         1,
         null,
         "2023-05-02T15:39:23.585+0000",
         "dbfs:/FileStore/ds2002-lab06/sourcedata/stream/rental/sakila_fact_rental.json"
        ],
        [
         5.99,
         14,
         525,
         1817,
         "2006-02-15 21:30:53",
         20050528,
         "20050606",
         1,
         null,
         "2023-05-02T15:39:23.585+0000",
         "dbfs:/FileStore/ds2002-lab06/sourcedata/stream/rental/sakila_fact_rental.json"
        ],
        [
         2.99,
         408,
         526,
         1387,
         "2006-02-15 21:30:53",
         20050528,
         "20050530",
         1,
         null,
         "2023-05-02T15:39:23.585+0000",
         "dbfs:/FileStore/ds2002-lab06/sourcedata/stream/rental/sakila_fact_rental.json"
        ],
        [
         3.99,
         169,
         527,
         266,
         "2006-02-15 21:30:53",
         20050528,
         "20050602",
         1,
         null,
         "2023-05-02T15:39:23.585+0000",
         "dbfs:/FileStore/ds2002-lab06/sourcedata/stream/rental/sakila_fact_rental.json"
        ],
        [
         3.99,
         359,
         528,
         1655,
         "2006-02-15 21:30:53",
         20050528,
         "20050603",
         2,
         null,
         "2023-05-02T15:39:23.585+0000",
         "dbfs:/FileStore/ds2002-lab06/sourcedata/stream/rental/sakila_fact_rental.json"
        ],
        [
         4.99,
         469,
         529,
         2624,
         "2006-02-15 21:30:53",
         20050528,
         "20050530",
         1,
         null,
         "2023-05-02T15:39:23.585+0000",
         "dbfs:/FileStore/ds2002-lab06/sourcedata/stream/rental/sakila_fact_rental.json"
        ],
        [
         0.99,
         312,
         530,
         3332,
         "2006-02-15 21:30:53",
         20050528,
         "20050601",
         2,
         null,
         "2023-05-02T15:39:23.585+0000",
         "dbfs:/FileStore/ds2002-lab06/sourcedata/stream/rental/sakila_fact_rental.json"
        ],
        [
         0.99,
         589,
         531,
         1113,
         "2006-02-15 21:30:53",
         20050528,
         "20050529",
         2,
         null,
         "2023-05-02T15:39:23.585+0000",
         "dbfs:/FileStore/ds2002-lab06/sourcedata/stream/rental/sakila_fact_rental.json"
        ],
        [
         0.99,
         120,
         532,
         2793,
         "2006-02-15 21:30:53",
         20050528,
         "20050602",
         1,
         null,
         "2023-05-02T15:39:23.585+0000",
         "dbfs:/FileStore/ds2002-lab06/sourcedata/stream/rental/sakila_fact_rental.json"
        ],
        [
         5.99,
         528,
         533,
         4306,
         "2006-02-15 21:30:53",
         20050528,
         "20050601",
         2,
         null,
         "2023-05-02T15:39:23.585+0000",
         "dbfs:/FileStore/ds2002-lab06/sourcedata/stream/rental/sakila_fact_rental.json"
        ],
        [
         4.99,
         184,
         534,
         992,
         "2006-02-15 21:30:53",
         20050528,
         "20050606",
         1,
         null,
         "2023-05-02T15:39:23.585+0000",
         "dbfs:/FileStore/ds2002-lab06/sourcedata/stream/rental/sakila_fact_rental.json"
        ],
        [
         4.99,
         307,
         535,
         4209,
         "2006-02-15 21:30:53",
         20050528,
         "20050531",
         1,
         null,
         "2023-05-02T15:39:23.585+0000",
         "dbfs:/FileStore/ds2002-lab06/sourcedata/stream/rental/sakila_fact_rental.json"
        ],
        [
         4.99,
         514,
         536,
         2962,
         "2006-02-15 21:30:53",
         20050528,
         "20050603",
         2,
         null,
         "2023-05-02T15:39:23.585+0000",
         "dbfs:/FileStore/ds2002-lab06/sourcedata/stream/rental/sakila_fact_rental.json"
        ],
        [
         8.99,
         315,
         537,
         3095,
         "2006-02-15 21:30:53",
         20050528,
         "20050605",
         2,
         null,
         "2023-05-02T15:39:23.585+0000",
         "dbfs:/FileStore/ds2002-lab06/sourcedata/stream/rental/sakila_fact_rental.json"
        ],
        [
         1.99,
         110,
         538,
         2262,
         "2006-02-15 21:30:53",
         20050528,
         "20050602",
         2,
         null,
         "2023-05-02T15:39:23.585+0000",
         "dbfs:/FileStore/ds2002-lab06/sourcedata/stream/rental/sakila_fact_rental.json"
        ],
        [
         0.99,
         161,
         539,
         3427,
         "2006-02-15 21:30:53",
         20050528,
         "20050530",
         1,
         null,
         "2023-05-02T15:39:23.585+0000",
         "dbfs:/FileStore/ds2002-lab06/sourcedata/stream/rental/sakila_fact_rental.json"
        ],
        [
         6.99,
         119,
         540,
         3321,
         "2006-02-15 21:30:53",
         20050528,
         "20050606",
         1,
         null,
         "2023-05-02T15:39:23.585+0000",
         "dbfs:/FileStore/ds2002-lab06/sourcedata/stream/rental/sakila_fact_rental.json"
        ],
        [
         2.99,
         535,
         541,
         1662,
         "2006-02-15 21:30:53",
         20050528,
         "20050602",
         2,
         null,
         "2023-05-02T15:39:23.585+0000",
         "dbfs:/FileStore/ds2002-lab06/sourcedata/stream/rental/sakila_fact_rental.json"
        ],
        [
         6.99,
         261,
         542,
         4444,
         "2006-02-15 21:30:53",
         20050528,
         "20050603",
         1,
         null,
         "2023-05-02T15:39:23.585+0000",
         "dbfs:/FileStore/ds2002-lab06/sourcedata/stream/rental/sakila_fact_rental.json"
        ],
        [
         7.99,
         493,
         543,
         530,
         "2006-02-15 21:30:53",
         20050528,
         "20050606",
         2,
         null,
         "2023-05-02T15:39:23.585+0000",
         "dbfs:/FileStore/ds2002-lab06/sourcedata/stream/rental/sakila_fact_rental.json"
        ],
        [
         6.99,
         311,
         544,
         2964,
         "2006-02-15 21:30:53",
         20050528,
         "20050606",
         1,
         null,
         "2023-05-02T15:39:23.585+0000",
         "dbfs:/FileStore/ds2002-lab06/sourcedata/stream/rental/sakila_fact_rental.json"
        ],
        [
         3.99,
         54,
         545,
         1086,
         "2006-02-15 21:30:53",
         20050528,
         "20050604",
         2,
         null,
         "2023-05-02T15:39:23.585+0000",
         "dbfs:/FileStore/ds2002-lab06/sourcedata/stream/rental/sakila_fact_rental.json"
        ],
        [
         1.99,
         20,
         546,
         487,
         "2006-02-15 21:30:53",
         20050528,
         "20050601",
         1,
         null,
         "2023-05-02T15:39:23.585+0000",
         "dbfs:/FileStore/ds2002-lab06/sourcedata/stream/rental/sakila_fact_rental.json"
        ],
        [
         8.99,
         506,
         547,
         2065,
         "2006-02-15 21:30:53",
         20050528,
         "20050606",
         2,
         null,
         "2023-05-02T15:39:23.585+0000",
         "dbfs:/FileStore/ds2002-lab06/sourcedata/stream/rental/sakila_fact_rental.json"
        ],
        [
         3.99,
         450,
         548,
         3704,
         "2006-02-15 21:30:53",
         20050528,
         "20050605",
         2,
         null,
         "2023-05-02T15:39:23.585+0000",
         "dbfs:/FileStore/ds2002-lab06/sourcedata/stream/rental/sakila_fact_rental.json"
        ],
        [
         1.99,
         159,
         549,
         1818,
         "2006-02-15 21:30:53",
         20050528,
         "20050602",
         1,
         null,
         "2023-05-02T15:39:23.585+0000",
         "dbfs:/FileStore/ds2002-lab06/sourcedata/stream/rental/sakila_fact_rental.json"
        ],
        [
         5.99,
         432,
         550,
         3632,
         "2006-02-15 21:30:53",
         20050528,
         "20050606",
         2,
         null,
         "2023-05-02T15:39:23.585+0000",
         "dbfs:/FileStore/ds2002-lab06/sourcedata/stream/rental/sakila_fact_rental.json"
        ],
        [
         4.99,
         315,
         551,
         3119,
         "2006-02-15 21:30:53",
         20050528,
         "20050602",
         2,
         null,
         "2023-05-02T15:39:23.585+0000",
         "dbfs:/FileStore/ds2002-lab06/sourcedata/stream/rental/sakila_fact_rental.json"
        ],
        [
         3.99,
         106,
         552,
         23,
         "2006-02-15 21:30:53",
         20050528,
         "20050604",
         2,
         null,
         "2023-05-02T15:39:23.585+0000",
         "dbfs:/FileStore/ds2002-lab06/sourcedata/stream/rental/sakila_fact_rental.json"
        ],
        [
         3.99,
         176,
         553,
         1349,
         "2006-02-15 21:30:53",
         20050528,
         "20050602",
         2,
         null,
         "2023-05-02T15:39:23.585+0000",
         "dbfs:/FileStore/ds2002-lab06/sourcedata/stream/rental/sakila_fact_rental.json"
        ],
        [
         0.99,
         376,
         554,
         1951,
         "2006-02-15 21:30:53",
         20050528,
         "20050531",
         2,
         null,
         "2023-05-02T15:39:23.585+0000",
         "dbfs:/FileStore/ds2002-lab06/sourcedata/stream/rental/sakila_fact_rental.json"
        ],
        [
         4.99,
         55,
         555,
         4397,
         "2006-02-15 21:30:53",
         20050528,
         "20050530",
         2,
         null,
         "2023-05-02T15:39:23.585+0000",
         "dbfs:/FileStore/ds2002-lab06/sourcedata/stream/rental/sakila_fact_rental.json"
        ],
        [
         4.99,
         22,
         556,
         1814,
         "2006-02-15 21:30:53",
         20050528,
         "20050606",
         2,
         null,
         "2023-05-02T15:39:23.585+0000",
         "dbfs:/FileStore/ds2002-lab06/sourcedata/stream/rental/sakila_fact_rental.json"
        ],
        [
         0.99,
         444,
         557,
         158,
         "2006-02-15 21:30:53",
         20050528,
         "20050603",
         2,
         null,
         "2023-05-02T15:39:23.585+0000",
         "dbfs:/FileStore/ds2002-lab06/sourcedata/stream/rental/sakila_fact_rental.json"
        ],
        [
         6.99,
         442,
         558,
         4163,
         "2006-02-15 21:30:53",
         20050528,
         "20050606",
         1,
         null,
         "2023-05-02T15:39:23.585+0000",
         "dbfs:/FileStore/ds2002-lab06/sourcedata/stream/rental/sakila_fact_rental.json"
        ],
        [
         7.99,
         572,
         559,
         1227,
         "2006-02-15 21:30:53",
         20050528,
         "20050605",
         2,
         null,
         "2023-05-02T15:39:23.585+0000",
         "dbfs:/FileStore/ds2002-lab06/sourcedata/stream/rental/sakila_fact_rental.json"
        ],
        [
         1.99,
         463,
         560,
         644,
         "2006-02-15 21:30:53",
         20050528,
         "20050604",
         2,
         null,
         "2023-05-02T15:39:23.585+0000",
         "dbfs:/FileStore/ds2002-lab06/sourcedata/stream/rental/sakila_fact_rental.json"
        ],
        [
         2.99,
         77,
         561,
         928,
         "2006-02-15 21:30:53",
         20050528,
         "20050605",
         1,
         null,
         "2023-05-02T15:39:23.585+0000",
         "dbfs:/FileStore/ds2002-lab06/sourcedata/stream/rental/sakila_fact_rental.json"
        ],
        [
         1.99,
         102,
         562,
         3390,
         "2006-02-15 21:30:53",
         20050528,
         "20050602",
         2,
         null,
         "2023-05-02T15:39:23.585+0000",
         "dbfs:/FileStore/ds2002-lab06/sourcedata/stream/rental/sakila_fact_rental.json"
        ],
        [
         3.99,
         324,
         563,
         53,
         "2006-02-15 21:30:53",
         20050528,
         "20050606",
         1,
         null,
         "2023-05-02T15:39:23.585+0000",
         "dbfs:/FileStore/ds2002-lab06/sourcedata/stream/rental/sakila_fact_rental.json"
        ],
        [
         0.99,
         282,
         564,
         2973,
         "2006-02-15 21:30:53",
         20050528,
         "20050529",
         1,
         null,
         "2023-05-02T15:39:23.585+0000",
         "dbfs:/FileStore/ds2002-lab06/sourcedata/stream/rental/sakila_fact_rental.json"
        ],
        [
         5.99,
         288,
         565,
         1494,
         "2006-02-15 21:30:53",
         20050528,
         "20050601",
         1,
         null,
         "2023-05-02T15:39:23.585+0000",
         "dbfs:/FileStore/ds2002-lab06/sourcedata/stream/rental/sakila_fact_rental.json"
        ],
        [
         6.99,
         253,
         566,
         4330,
         "2006-02-15 21:30:53",
         20050528,
         "20050605",
         1,
         null,
         "2023-05-02T15:39:23.585+0000",
         "dbfs:/FileStore/ds2002-lab06/sourcedata/stream/rental/sakila_fact_rental.json"
        ],
        [
         1.99,
         184,
         567,
         3308,
         "2006-02-15 21:30:53",
         20050528,
         "20050601",
         2,
         null,
         "2023-05-02T15:39:23.585+0000",
         "dbfs:/FileStore/ds2002-lab06/sourcedata/stream/rental/sakila_fact_rental.json"
        ],
        [
         2.99,
         155,
         568,
         2232,
         "2006-02-15 21:30:53",
         20050528,
         "20050531",
         1,
         null,
         "2023-05-02T15:39:23.585+0000",
         "dbfs:/FileStore/ds2002-lab06/sourcedata/stream/rental/sakila_fact_rental.json"
        ],
        [
         6.99,
         56,
         569,
         4534,
         "2006-02-15 21:30:53",
         20050528,
         "20050603",
         2,
         null,
         "2023-05-02T15:39:23.585+0000",
         "dbfs:/FileStore/ds2002-lab06/sourcedata/stream/rental/sakila_fact_rental.json"
        ],
        [
         0.99,
         21,
         570,
         1122,
         "2006-02-15 21:30:53",
         20050528,
         "20050530",
         1,
         null,
         "2023-05-02T15:39:23.585+0000",
         "dbfs:/FileStore/ds2002-lab06/sourcedata/stream/rental/sakila_fact_rental.json"
        ],
        [
         1.99,
         516,
         571,
         4250,
         "2006-02-15 21:30:53",
         20050528,
         "20050605",
         1,
         null,
         "2023-05-02T15:39:23.585+0000",
         "dbfs:/FileStore/ds2002-lab06/sourcedata/stream/rental/sakila_fact_rental.json"
        ],
        [
         4.99,
         337,
         572,
         1899,
         "2006-02-15 21:30:53",
         20050528,
         "20050602",
         2,
         null,
         "2023-05-02T15:39:23.585+0000",
         "dbfs:/FileStore/ds2002-lab06/sourcedata/stream/rental/sakila_fact_rental.json"
        ],
        [
         0.99,
         1,
         573,
         4020,
         "2006-02-15 21:30:53",
         20050528,
         "20050603",
         1,
         null,
         "2023-05-02T15:39:23.585+0000",
         "dbfs:/FileStore/ds2002-lab06/sourcedata/stream/rental/sakila_fact_rental.json"
        ],
        [
         1.99,
         76,
         574,
         3883,
         "2006-02-15 21:30:53",
         20050528,
         "20050604",
         1,
         null,
         "2023-05-02T15:39:23.585+0000",
         "dbfs:/FileStore/ds2002-lab06/sourcedata/stream/rental/sakila_fact_rental.json"
        ],
        [
         9.99,
         142,
         575,
         4451,
         "2006-02-15 21:30:53",
         20050528,
         "20050605",
         1,
         null,
         "2023-05-02T15:39:23.585+0000",
         "dbfs:/FileStore/ds2002-lab06/sourcedata/stream/rental/sakila_fact_rental.json"
        ],
        [
         2.99,
         588,
         576,
         1866,
         "2006-02-15 21:30:53",
         20050528,
         "20050604",
         2,
         null,
         "2023-05-02T15:39:23.585+0000",
         "dbfs:/FileStore/ds2002-lab06/sourcedata/stream/rental/sakila_fact_rental.json"
        ],
        [
         2.99,
         6,
         577,
         375,
         "2006-02-15 21:30:53",
         20050528,
         "20050601",
         2,
         null,
         "2023-05-02T15:39:23.585+0000",
         "dbfs:/FileStore/ds2002-lab06/sourcedata/stream/rental/sakila_fact_rental.json"
        ],
        [
         2.99,
         173,
         578,
         2938,
         "2006-02-15 21:30:53",
         20050528,
         "20050602",
         1,
         null,
         "2023-05-02T15:39:23.585+0000",
         "dbfs:/FileStore/ds2002-lab06/sourcedata/stream/rental/sakila_fact_rental.json"
        ],
        [
         6.99,
         181,
         579,
         3481,
         "2006-02-15 21:30:53",
         20050528,
         "20050602",
         1,
         null,
         "2023-05-02T15:39:23.585+0000",
         "dbfs:/FileStore/ds2002-lab06/sourcedata/stream/rental/sakila_fact_rental.json"
        ],
        [
         2.99,
         17,
         580,
         3515,
         "2006-02-15 21:30:53",
         20050528,
         "20050601",
         2,
         null,
         "2023-05-02T15:39:23.585+0000",
         "dbfs:/FileStore/ds2002-lab06/sourcedata/stream/rental/sakila_fact_rental.json"
        ],
        [
         1.99,
         186,
         581,
         1380,
         "2006-02-15 21:30:53",
         20050528,
         "20050604",
         2,
         null,
         "2023-05-02T15:39:23.585+0000",
         "dbfs:/FileStore/ds2002-lab06/sourcedata/stream/rental/sakila_fact_rental.json"
        ],
        [
         4.99,
         198,
         582,
         4579,
         "2006-02-15 21:30:53",
         20050528,
         "20050529",
         1,
         null,
         "2023-05-02T15:39:23.585+0000",
         "dbfs:/FileStore/ds2002-lab06/sourcedata/stream/rental/sakila_fact_rental.json"
        ],
        [
         7.99,
         386,
         583,
         2679,
         "2006-02-15 21:30:53",
         20050528,
         "20050604",
         2,
         null,
         "2023-05-02T15:39:23.585+0000",
         "dbfs:/FileStore/ds2002-lab06/sourcedata/stream/rental/sakila_fact_rental.json"
        ],
        [
         4.99,
         69,
         584,
         1833,
         "2006-02-15 21:30:53",
         20050528,
         "20050601",
         1,
         null,
         "2023-05-02T15:39:23.585+0000",
         "dbfs:/FileStore/ds2002-lab06/sourcedata/stream/rental/sakila_fact_rental.json"
        ],
        [
         6.99,
         490,
         585,
         3544,
         "2006-02-15 21:30:53",
         20050528,
         "20050603",
         2,
         null,
         "2023-05-02T15:39:23.585+0000",
         "dbfs:/FileStore/ds2002-lab06/sourcedata/stream/rental/sakila_fact_rental.json"
        ],
        [
         0.99,
         77,
         586,
         898,
         "2006-02-15 21:30:53",
         20050528,
         "20050529",
         1,
         null,
         "2023-05-02T15:39:23.585+0000",
         "dbfs:/FileStore/ds2002-lab06/sourcedata/stream/rental/sakila_fact_rental.json"
        ],
        [
         0.99,
         64,
         587,
         1413,
         "2006-02-15 21:30:53",
         20050528,
         "20050530",
         2,
         null,
         "2023-05-02T15:39:23.585+0000",
         "dbfs:/FileStore/ds2002-lab06/sourcedata/stream/rental/sakila_fact_rental.json"
        ],
        [
         0.99,
         89,
         588,
         95,
         "2006-02-15 21:30:53",
         20050528,
         "20050529",
         2,
         null,
         "2023-05-02T15:39:23.585+0000",
         "dbfs:/FileStore/ds2002-lab06/sourcedata/stream/rental/sakila_fact_rental.json"
        ],
        [
         3.99,
         308,
         589,
         4231,
         "2006-02-15 21:30:53",
         20050528,
         "20050603",
         2,
         null,
         "2023-05-02T15:39:23.585+0000",
         "dbfs:/FileStore/ds2002-lab06/sourcedata/stream/rental/sakila_fact_rental.json"
        ],
        [
         3.99,
         462,
         590,
         473,
         "2006-02-15 21:30:53",
         20050528,
         "20050602",
         1,
         null,
         "2023-05-02T15:39:23.585+0000",
         "dbfs:/FileStore/ds2002-lab06/sourcedata/stream/rental/sakila_fact_rental.json"
        ],
        [
         2.99,
         19,
         591,
         377,
         "2006-02-15 21:30:53",
         20050528,
         "20050529",
         2,
         null,
         "2023-05-02T15:39:23.585+0000",
         "dbfs:/FileStore/ds2002-lab06/sourcedata/stream/rental/sakila_fact_rental.json"
        ],
        [
         4.99,
         244,
         592,
         638,
         "2006-02-15 21:30:53",
         20050528,
         "20050529",
         1,
         null,
         "2023-05-02T15:39:23.585+0000",
         "dbfs:/FileStore/ds2002-lab06/sourcedata/stream/rental/sakila_fact_rental.json"
        ],
        [
         2.99,
         16,
         593,
         1810,
         "2006-02-15 21:30:53",
         20050528,
         "20050530",
         2,
         null,
         "2023-05-02T15:39:23.585+0000",
         "dbfs:/FileStore/ds2002-lab06/sourcedata/stream/rental/sakila_fact_rental.json"
        ],
        [
         2.99,
         538,
         594,
         2766,
         "2006-02-15 21:30:53",
         20050528,
         "20050530",
         1,
         null,
         "2023-05-02T15:39:23.585+0000",
         "dbfs:/FileStore/ds2002-lab06/sourcedata/stream/rental/sakila_fact_rental.json"
        ],
        [
         1.99,
         294,
         595,
         595,
         "2006-02-15 21:30:53",
         20050528,
         "20050605",
         1,
         null,
         "2023-05-02T15:39:23.585+0000",
         "dbfs:/FileStore/ds2002-lab06/sourcedata/stream/rental/sakila_fact_rental.json"
        ],
        [
         4.99,
         589,
         596,
         821,
         "2006-02-15 21:30:53",
         20050528,
         "20050529",
         1,
         null,
         "2023-05-02T15:39:23.585+0000",
         "dbfs:/FileStore/ds2002-lab06/sourcedata/stream/rental/sakila_fact_rental.json"
        ],
        [
         3.99,
         249,
         597,
         4469,
         "2006-02-15 21:30:53",
         20050528,
         "20050606",
         2,
         null,
         "2023-05-02T15:39:23.585+0000",
         "dbfs:/FileStore/ds2002-lab06/sourcedata/stream/rental/sakila_fact_rental.json"
        ],
        [
         0.99,
         159,
         598,
         599,
         "2006-02-15 21:30:53",
         20050528,
         "20050603",
         2,
         null,
         "2023-05-02T15:39:23.585+0000",
         "dbfs:/FileStore/ds2002-lab06/sourcedata/stream/rental/sakila_fact_rental.json"
        ],
        [
         4.99,
         393,
         599,
         4136,
         "2006-02-15 21:30:53",
         20050528,
         "20050601",
         2,
         null,
         "2023-05-02T15:39:23.585+0000",
         "dbfs:/FileStore/ds2002-lab06/sourcedata/stream/rental/sakila_fact_rental.json"
        ],
        [
         3.99,
         332,
         600,
         1567,
         "2006-02-15 21:30:53",
         20050528,
         "20050603",
         2,
         null,
         "2023-05-02T15:39:23.585+0000",
         "dbfs:/FileStore/ds2002-lab06/sourcedata/stream/rental/sakila_fact_rental.json"
        ],
        [
         7.99,
         429,
         601,
         3225,
         "2006-02-15 21:30:53",
         20050528,
         "20050604",
         1,
         null,
         "2023-05-02T15:39:23.585+0000",
         "dbfs:/FileStore/ds2002-lab06/sourcedata/stream/rental/sakila_fact_rental.json"
        ],
        [
         3.99,
         590,
         602,
         1300,
         "2006-02-15 21:30:53",
         20050528,
         "20050605",
         2,
         null,
         "2023-05-02T15:39:23.585+0000",
         "dbfs:/FileStore/ds2002-lab06/sourcedata/stream/rental/sakila_fact_rental.json"
        ],
        [
         4.99,
         537,
         603,
         3248,
         "2006-02-15 21:30:53",
         20050528,
         "20050529",
         1,
         null,
         "2023-05-02T15:39:23.585+0000",
         "dbfs:/FileStore/ds2002-lab06/sourcedata/stream/rental/sakila_fact_rental.json"
        ],
        [
         0.99,
         426,
         604,
         1585,
         "2006-02-15 21:30:53",
         20050528,
         "20050603",
         2,
         null,
         "2023-05-02T15:39:23.585+0000",
         "dbfs:/FileStore/ds2002-lab06/sourcedata/stream/rental/sakila_fact_rental.json"
        ],
        [
         1.99,
         501,
         605,
         4232,
         "2006-02-15 21:30:53",
         20050528,
         "20050601",
         2,
         null,
         "2023-05-02T15:39:23.585+0000",
         "dbfs:/FileStore/ds2002-lab06/sourcedata/stream/rental/sakila_fact_rental.json"
        ],
        [
         8.99,
         299,
         606,
         3509,
         "2006-02-15 21:30:53",
         20050528,
         "20050604",
         2,
         null,
         "2023-05-02T15:39:23.585+0000",
         "dbfs:/FileStore/ds2002-lab06/sourcedata/stream/rental/sakila_fact_rental.json"
        ],
        [
         2.99,
         554,
         607,
         2561,
         "2006-02-15 21:30:53",
         20050528,
         "20050530",
         2,
         null,
         "2023-05-02T15:39:23.585+0000",
         "dbfs:/FileStore/ds2002-lab06/sourcedata/stream/rental/sakila_fact_rental.json"
        ],
        [
         4.99,
         494,
         608,
         4254,
         "2006-02-15 21:30:53",
         20050528,
         "20050604",
         2,
         null,
         "2023-05-02T15:39:23.585+0000",
         "dbfs:/FileStore/ds2002-lab06/sourcedata/stream/rental/sakila_fact_rental.json"
        ],
        [
         2.99,
         150,
         609,
         2944,
         "2006-02-15 21:30:53",
         20050528,
         "20050605",
         2,
         null,
         "2023-05-02T15:39:23.585+0000",
         "dbfs:/FileStore/ds2002-lab06/sourcedata/stream/rental/sakila_fact_rental.json"
        ],
        [
         0.99,
         500,
         610,
         3642,
         "2006-02-15 21:30:53",
         20050528,
         "20050602",
         2,
         null,
         "2023-05-02T15:39:23.585+0000",
         "dbfs:/FileStore/ds2002-lab06/sourcedata/stream/rental/sakila_fact_rental.json"
        ],
        [
         0.99,
         580,
         611,
         1230,
         "2006-02-15 21:30:53",
         20050528,
         "20050531",
         2,
         null,
         "2023-05-02T15:39:23.585+0000",
         "dbfs:/FileStore/ds2002-lab06/sourcedata/stream/rental/sakila_fact_rental.json"
        ],
        [
         2.99,
         161,
         612,
         2180,
         "2006-02-15 21:30:53",
         20050528,
         "20050530",
         2,
         null,
         "2023-05-02T15:39:23.585+0000",
         "dbfs:/FileStore/ds2002-lab06/sourcedata/stream/rental/sakila_fact_rental.json"
        ],
        [
         6.99,
         595,
         613,
         270,
         "2006-02-15 21:30:53",
         20050528,
         "20050602",
         1,
         null,
         "2023-05-02T15:39:23.585+0000",
         "dbfs:/FileStore/ds2002-lab06/sourcedata/stream/rental/sakila_fact_rental.json"
        ],
        [
         1.99,
         307,
         614,
         280,
         "2006-02-15 21:30:53",
         20050528,
         "20050604",
         2,
         null,
         "2023-05-02T15:39:23.585+0000",
         "dbfs:/FileStore/ds2002-lab06/sourcedata/stream/rental/sakila_fact_rental.json"
        ],
        [
         5.99,
         533,
         615,
         3397,
         "2006-02-15 21:30:53",
         20050528,
         "20050603",
         2,
         null,
         "2023-05-02T15:39:23.585+0000",
         "dbfs:/FileStore/ds2002-lab06/sourcedata/stream/rental/sakila_fact_rental.json"
        ],
        [
         2.99,
         471,
         616,
         989,
         "2006-02-15 21:30:53",
         20050528,
         "20050602",
         1,
         null,
         "2023-05-02T15:39:23.585+0000",
         "dbfs:/FileStore/ds2002-lab06/sourcedata/stream/rental/sakila_fact_rental.json"
        ],
        [
         2.99,
         372,
         617,
         4142,
         "2006-02-15 21:30:53",
         20050528,
         "20050531",
         2,
         null,
         "2023-05-02T15:39:23.585+0000",
         "dbfs:/FileStore/ds2002-lab06/sourcedata/stream/rental/sakila_fact_rental.json"
        ],
        [
         4.99,
         248,
         618,
         4445,
         "2006-02-15 21:30:53",
         20050528,
         "20050601",
         1,
         null,
         "2023-05-02T15:39:23.585+0000",
         "dbfs:/FileStore/ds2002-lab06/sourcedata/stream/rental/sakila_fact_rental.json"
        ],
        [
         7.99,
         407,
         619,
         2482,
         "2006-02-15 21:30:53",
         20050528,
         "20050606",
         2,
         null,
         "2023-05-02T15:39:23.585+0000",
         "dbfs:/FileStore/ds2002-lab06/sourcedata/stream/rental/sakila_fact_rental.json"
        ],
        [
         5.99,
         321,
         620,
         2444,
         "2006-02-15 21:30:53",
         20050528,
         "20050604",
         1,
         null,
         "2023-05-02T15:39:23.585+0000",
         "dbfs:/FileStore/ds2002-lab06/sourcedata/stream/rental/sakila_fact_rental.json"
        ],
        [
         4.99,
         239,
         621,
         1144,
         "2006-02-15 21:30:53",
         20050528,
         "20050530",
         1,
         null,
         "2023-05-02T15:39:23.585+0000",
         "dbfs:/FileStore/ds2002-lab06/sourcedata/stream/rental/sakila_fact_rental.json"
        ],
        [
         3.99,
         109,
         622,
         2363,
         "2006-02-15 21:30:53",
         20050528,
         "20050604",
         1,
         null,
         "2023-05-02T15:39:23.585+0000",
         "dbfs:/FileStore/ds2002-lab06/sourcedata/stream/rental/sakila_fact_rental.json"
        ],
        [
         4.99,
         495,
         623,
         1222,
         "2006-02-15 21:30:53",
         20050528,
         "20050530",
         1,
         null,
         "2023-05-02T15:39:23.585+0000",
         "dbfs:/FileStore/ds2002-lab06/sourcedata/stream/rental/sakila_fact_rental.json"
        ],
        [
         4.99,
         569,
         624,
         3660,
         "2006-02-15 21:30:53",
         20050528,
         "20050606",
         1,
         null,
         "2023-05-02T15:39:23.585+0000",
         "dbfs:/FileStore/ds2002-lab06/sourcedata/stream/rental/sakila_fact_rental.json"
        ],
        [
         0.99,
         596,
         625,
         2889,
         "2006-02-15 21:30:53",
         20050528,
         "20050601",
         1,
         null,
         "2023-05-02T15:39:23.585+0000",
         "dbfs:/FileStore/ds2002-lab06/sourcedata/stream/rental/sakila_fact_rental.json"
        ],
        [
         4.99,
         584,
         626,
         452,
         "2006-02-15 21:30:53",
         20050528,
         "20050601",
         2,
         null,
         "2023-05-02T15:39:23.585+0000",
         "dbfs:/FileStore/ds2002-lab06/sourcedata/stream/rental/sakila_fact_rental.json"
        ],
        [
         7.99,
         241,
         627,
         425,
         "2006-02-15 21:30:53",
         20050528,
         "20050604",
         2,
         null,
         "2023-05-02T15:39:23.585+0000",
         "dbfs:/FileStore/ds2002-lab06/sourcedata/stream/rental/sakila_fact_rental.json"
        ],
        [
         4.99,
         173,
         628,
         2513,
         "2006-02-15 21:30:53",
         20050528,
         "20050606",
         2,
         null,
         "2023-05-02T15:39:23.585+0000",
         "dbfs:/FileStore/ds2002-lab06/sourcedata/stream/rental/sakila_fact_rental.json"
        ],
        [
         4.99,
         94,
         629,
         1527,
         "2006-02-15 21:30:53",
         20050528,
         "20050602",
         2,
         null,
         "2023-05-02T15:39:23.585+0000",
         "dbfs:/FileStore/ds2002-lab06/sourcedata/stream/rental/sakila_fact_rental.json"
        ],
        [
         8.99,
         417,
         630,
         1254,
         "2006-02-15 21:30:53",
         20050528,
         "20050605",
         2,
         null,
         "2023-05-02T15:39:23.585+0000",
         "dbfs:/FileStore/ds2002-lab06/sourcedata/stream/rental/sakila_fact_rental.json"
        ],
        [
         2.99,
         503,
         631,
         2465,
         "2006-02-15 21:30:53",
         20050528,
         "20050603",
         2,
         null,
         "2023-05-02T15:39:23.585+0000",
         "dbfs:/FileStore/ds2002-lab06/sourcedata/stream/rental/sakila_fact_rental.json"
        ],
        [
         5.99,
         442,
         632,
         1287,
         "2006-02-15 21:30:53",
         20050528,
         "20050603",
         1,
         null,
         "2023-05-02T15:39:23.585+0000",
         "dbfs:/FileStore/ds2002-lab06/sourcedata/stream/rental/sakila_fact_rental.json"
        ],
        [
         0.99,
         360,
         633,
         58,
         "2006-02-15 21:30:53",
         20050528,
         "20050603",
         2,
         null,
         "2023-05-02T15:39:23.585+0000",
         "dbfs:/FileStore/ds2002-lab06/sourcedata/stream/rental/sakila_fact_rental.json"
        ],
        [
         4.99,
         428,
         634,
         2630,
         "2006-02-15 21:30:53",
         20050528,
         "20050605",
         2,
         null,
         "2023-05-02T15:39:23.585+0000",
         "dbfs:/FileStore/ds2002-lab06/sourcedata/stream/rental/sakila_fact_rental.json"
        ],
        [
         5.99,
         42,
         635,
         1648,
         "2006-02-15 21:30:53",
         20050528,
         "20050606",
         1,
         null,
         "2023-05-02T15:39:23.585+0000",
         "dbfs:/FileStore/ds2002-lab06/sourcedata/stream/rental/sakila_fact_rental.json"
        ],
        [
         6.99,
         239,
         636,
         4213,
         "2006-02-15 21:30:53",
         20050528,
         "20050604",
         1,
         null,
         "2023-05-02T15:39:23.585+0000",
         "dbfs:/FileStore/ds2002-lab06/sourcedata/stream/rental/sakila_fact_rental.json"
        ],
        [
         4.99,
         250,
         637,
         1581,
         "2006-02-15 21:30:53",
         20050528,
         "20050529",
         2,
         null,
         "2023-05-02T15:39:23.585+0000",
         "dbfs:/FileStore/ds2002-lab06/sourcedata/stream/rental/sakila_fact_rental.json"
        ],
        [
         2.99,
         372,
         638,
         2685,
         "2006-02-15 21:30:53",
         20050528,
         "20050602",
         2,
         null,
         "2023-05-02T15:39:23.585+0000",
         "dbfs:/FileStore/ds2002-lab06/sourcedata/stream/rental/sakila_fact_rental.json"
        ],
        [
         2.99,
         198,
         639,
         4204,
         "2006-02-15 21:30:53",
         20050528,
         "20050529",
         1,
         null,
         "2023-05-02T15:39:23.585+0000",
         "dbfs:/FileStore/ds2002-lab06/sourcedata/stream/rental/sakila_fact_rental.json"
        ],
        [
         0.99,
         465,
         640,
         495,
         "2006-02-15 21:30:53",
         20050528,
         "20050530",
         1,
         null,
         "2023-05-02T15:39:23.585+0000",
         "dbfs:/FileStore/ds2002-lab06/sourcedata/stream/rental/sakila_fact_rental.json"
        ],
        [
         5.99,
         396,
         641,
         3548,
         "2006-02-15 21:30:53",
         20050528,
         "20050604",
         1,
         null,
         "2023-05-02T15:39:23.585+0000",
         "dbfs:/FileStore/ds2002-lab06/sourcedata/stream/rental/sakila_fact_rental.json"
        ],
        [
         4.99,
         157,
         642,
         140,
         "2006-02-15 21:30:53",
         20050528,
         "20050601",
         2,
         null,
         "2023-05-02T15:39:23.585+0000",
         "dbfs:/FileStore/ds2002-lab06/sourcedata/stream/rental/sakila_fact_rental.json"
        ],
        [
         4.99,
         240,
         643,
         3105,
         "2006-02-15 21:30:53",
         20050528,
         "20050531",
         2,
         null,
         "2023-05-02T15:39:23.585+0000",
         "dbfs:/FileStore/ds2002-lab06/sourcedata/stream/rental/sakila_fact_rental.json"
        ],
        [
         8.99,
         316,
         644,
         4304,
         "2006-02-15 21:30:53",
         20050528,
         "20050604",
         1,
         null,
         "2023-05-02T15:39:23.585+0000",
         "dbfs:/FileStore/ds2002-lab06/sourcedata/stream/rental/sakila_fact_rental.json"
        ],
        [
         2.99,
         505,
         645,
         3128,
         "2006-02-15 21:30:53",
         20050528,
         "20050605",
         1,
         null,
         "2023-05-02T15:39:23.585+0000",
         "dbfs:/FileStore/ds2002-lab06/sourcedata/stream/rental/sakila_fact_rental.json"
        ],
        [
         0.99,
         185,
         646,
         1922,
         "2006-02-15 21:30:53",
         20050528,
         "20050531",
         2,
         null,
         "2023-05-02T15:39:23.585+0000",
         "dbfs:/FileStore/ds2002-lab06/sourcedata/stream/rental/sakila_fact_rental.json"
        ],
        [
         1.99,
         569,
         647,
         3435,
         "2006-02-15 21:30:53",
         20050528,
         "20050601",
         1,
         null,
         "2023-05-02T15:39:23.585+0000",
         "dbfs:/FileStore/ds2002-lab06/sourcedata/stream/rental/sakila_fact_rental.json"
        ],
        [
         0.99,
         253,
         648,
         3476,
         "2006-02-15 21:30:53",
         20050528,
         "20050603",
         2,
         null,
         "2023-05-02T15:39:23.585+0000",
         "dbfs:/FileStore/ds2002-lab06/sourcedata/stream/rental/sakila_fact_rental.json"
        ],
        [
         1.99,
         197,
         649,
         1781,
         "2006-02-15 21:30:53",
         20050528,
         "20050605",
         1,
         null,
         "2023-05-02T15:39:23.585+0000",
         "dbfs:/FileStore/ds2002-lab06/sourcedata/stream/rental/sakila_fact_rental.json"
        ],
        [
         2.99,
         281,
         650,
         4384,
         "2006-02-15 21:30:53",
         20050528,
         "20050529",
         1,
         null,
         "2023-05-02T15:39:23.585+0000",
         "dbfs:/FileStore/ds2002-lab06/sourcedata/stream/rental/sakila_fact_rental.json"
        ],
        [
         2.99,
         266,
         651,
         739,
         "2006-02-15 21:30:53",
         20050528,
         "20050530",
         1,
         null,
         "2023-05-02T15:39:23.585+0000",
         "dbfs:/FileStore/ds2002-lab06/sourcedata/stream/rental/sakila_fact_rental.json"
        ],
        [
         4.99,
         43,
         652,
         1201,
         "2006-02-15 21:30:53",
         20050528,
         "20050529",
         2,
         null,
         "2023-05-02T15:39:23.585+0000",
         "dbfs:/FileStore/ds2002-lab06/sourcedata/stream/rental/sakila_fact_rental.json"
        ],
        [
         6.99,
         327,
         653,
         126,
         "2006-02-15 21:30:53",
         20050528,
         "20050604",
         2,
         null,
         "2023-05-02T15:39:23.585+0000",
         "dbfs:/FileStore/ds2002-lab06/sourcedata/stream/rental/sakila_fact_rental.json"
        ],
        [
         2.99,
         23,
         654,
         2312,
         "2006-02-15 21:30:53",
         20050528,
         "20050530",
         2,
         null,
         "2023-05-02T15:39:23.585+0000",
         "dbfs:/FileStore/ds2002-lab06/sourcedata/stream/rental/sakila_fact_rental.json"
        ],
        [
         2.99,
         287,
         655,
         331,
         "2006-02-15 21:30:53",
         20050528,
         "20050531",
         2,
         null,
         "2023-05-02T15:39:23.585+0000",
         "dbfs:/FileStore/ds2002-lab06/sourcedata/stream/rental/sakila_fact_rental.json"
        ],
        [
         4.99,
         437,
         656,
         2846,
         "2006-02-15 21:30:53",
         20050528,
         "20050530",
         1,
         null,
         "2023-05-02T15:39:23.585+0000",
         "dbfs:/FileStore/ds2002-lab06/sourcedata/stream/rental/sakila_fact_rental.json"
        ],
        [
         0.99,
         65,
         657,
         848,
         "2006-02-15 21:30:53",
         20050528,
         "20050601",
         1,
         null,
         "2023-05-02T15:39:23.585+0000",
         "dbfs:/FileStore/ds2002-lab06/sourcedata/stream/rental/sakila_fact_rental.json"
        ],
        [
         9.99,
         103,
         658,
         3226,
         "2006-02-15 21:30:53",
         20050528,
         "20050606",
         2,
         null,
         "2023-05-02T15:39:23.585+0000",
         "dbfs:/FileStore/ds2002-lab06/sourcedata/stream/rental/sakila_fact_rental.json"
        ],
        [
         0.99,
         207,
         659,
         1382,
         "2006-02-15 21:30:53",
         20050528,
         "20050531",
         2,
         null,
         "2023-05-02T15:39:23.585+0000",
         "dbfs:/FileStore/ds2002-lab06/sourcedata/stream/rental/sakila_fact_rental.json"
        ],
        [
         0.99,
         578,
         660,
         1414,
         "2006-02-15 21:30:53",
         20050528,
         "20050530",
         1,
         null,
         "2023-05-02T15:39:23.585+0000",
         "dbfs:/FileStore/ds2002-lab06/sourcedata/stream/rental/sakila_fact_rental.json"
        ],
        [
         4.99,
         51,
         661,
         2247,
         "2006-02-15 21:30:53",
         20050528,
         "20050602",
         2,
         null,
         "2023-05-02T15:39:23.585+0000",
         "dbfs:/FileStore/ds2002-lab06/sourcedata/stream/rental/sakila_fact_rental.json"
        ],
        [
         1.99,
         166,
         662,
         2968,
         "2006-02-15 21:30:53",
         20050528,
         "20050601",
         2,
         null,
         "2023-05-02T15:39:23.585+0000",
         "dbfs:/FileStore/ds2002-lab06/sourcedata/stream/rental/sakila_fact_rental.json"
        ],
        [
         1.99,
         176,
         663,
         3997,
         "2006-02-15 21:30:53",
         20050528,
         "20050602",
         2,
         null,
         "2023-05-02T15:39:23.585+0000",
         "dbfs:/FileStore/ds2002-lab06/sourcedata/stream/rental/sakila_fact_rental.json"
        ],
        [
         0.99,
         523,
         664,
         87,
         "2006-02-15 21:30:53",
         20050528,
         "20050602",
         2,
         null,
         "2023-05-02T15:39:23.585+0000",
         "dbfs:/FileStore/ds2002-lab06/sourcedata/stream/rental/sakila_fact_rental.json"
        ],
        [
         4.99,
         415,
         665,
         1012,
         "2006-02-15 21:30:53",
         20050528,
         "20050529",
         1,
         null,
         "2023-05-02T15:39:23.585+0000",
         "dbfs:/FileStore/ds2002-lab06/sourcedata/stream/rental/sakila_fact_rental.json"
        ],
        [
         5.99,
         437,
         666,
         3075,
         "2006-02-15 21:30:53",
         20050528,
         "20050605",
         2,
         null,
         "2023-05-02T15:39:23.585+0000",
         "dbfs:/FileStore/ds2002-lab06/sourcedata/stream/rental/sakila_fact_rental.json"
        ],
        [
         4.99,
         596,
         667,
         797,
         "2006-02-15 21:30:53",
         20050528,
         "20050531",
         1,
         null,
         "2023-05-02T15:39:23.585+0000",
         "dbfs:/FileStore/ds2002-lab06/sourcedata/stream/rental/sakila_fact_rental.json"
        ],
        [
         2.99,
         484,
         668,
         3528,
         "2006-02-15 21:30:53",
         20050528,
         "20050529",
         1,
         null,
         "2023-05-02T15:39:23.585+0000",
         "dbfs:/FileStore/ds2002-lab06/sourcedata/stream/rental/sakila_fact_rental.json"
        ],
        [
         4.99,
         313,
         669,
         3677,
         "2006-02-15 21:30:53",
         20050528,
         "20050603",
         1,
         null,
         "2023-05-02T15:39:23.585+0000",
         "dbfs:/FileStore/ds2002-lab06/sourcedata/stream/rental/sakila_fact_rental.json"
        ],
        [
         6.99,
         201,
         670,
         227,
         "2006-02-15 21:30:53",
         20050528,
         "20050606",
         2,
         null,
         "2023-05-02T15:39:23.585+0000",
         "dbfs:/FileStore/ds2002-lab06/sourcedata/stream/rental/sakila_fact_rental.json"
        ],
        [
         2.99,
         14,
         671,
         1027,
         "2006-02-15 21:30:53",
         20050528,
         "20050603",
         2,
         null,
         "2023-05-02T15:39:23.585+0000",
         "dbfs:/FileStore/ds2002-lab06/sourcedata/stream/rental/sakila_fact_rental.json"
        ],
        [
         6.99,
         306,
         672,
         697,
         "2006-02-15 21:30:53",
         20050528,
         "20050606",
         2,
         null,
         "2023-05-02T15:39:23.585+0000",
         "dbfs:/FileStore/ds2002-lab06/sourcedata/stream/rental/sakila_fact_rental.json"
        ],
        [
         0.99,
         468,
         673,
         1769,
         "2006-02-15 21:30:53",
         20050528,
         "20050601",
         1,
         null,
         "2023-05-02T15:39:23.585+0000",
         "dbfs:/FileStore/ds2002-lab06/sourcedata/stream/rental/sakila_fact_rental.json"
        ],
        [
         2.99,
         87,
         674,
         1150,
         "2006-02-15 21:30:53",
         20050528,
         "20050601",
         2,
         null,
         "2023-05-02T15:39:23.585+0000",
         "dbfs:/FileStore/ds2002-lab06/sourcedata/stream/rental/sakila_fact_rental.json"
        ],
        [
         0.99,
         338,
         675,
         1273,
         "2006-02-15 21:30:53",
         20050528,
         "20050601",
         2,
         null,
         "2023-05-02T15:39:23.585+0000",
         "dbfs:/FileStore/ds2002-lab06/sourcedata/stream/rental/sakila_fact_rental.json"
        ],
        [
         4.99,
         490,
         676,
         2329,
         "2006-02-15 21:30:53",
         20050528,
         "20050529",
         2,
         null,
         "2023-05-02T15:39:23.585+0000",
         "dbfs:/FileStore/ds2002-lab06/sourcedata/stream/rental/sakila_fact_rental.json"
        ],
        [
         7.99,
         194,
         677,
         4558,
         "2006-02-15 21:30:53",
         20050528,
         "20050605",
         2,
         null,
         "2023-05-02T15:39:23.585+0000",
         "dbfs:/FileStore/ds2002-lab06/sourcedata/stream/rental/sakila_fact_rental.json"
        ],
        [
         6.99,
         269,
         678,
         3741,
         "2006-02-15 21:30:53",
         20050528,
         "20050603",
         2,
         null,
         "2023-05-02T15:39:23.585+0000",
         "dbfs:/FileStore/ds2002-lab06/sourcedata/stream/rental/sakila_fact_rental.json"
        ],
        [
         4.99,
         526,
         679,
         907,
         "2006-02-15 21:30:53",
         20050528,
         "20050606",
         2,
         null,
         "2023-05-02T15:39:23.585+0000",
         "dbfs:/FileStore/ds2002-lab06/sourcedata/stream/rental/sakila_fact_rental.json"
        ],
        [
         2.99,
         482,
         680,
         4147,
         "2006-02-15 21:30:53",
         20050528,
         "20050602",
         2,
         null,
         "2023-05-02T15:39:23.585+0000",
         "dbfs:/FileStore/ds2002-lab06/sourcedata/stream/rental/sakila_fact_rental.json"
        ],
        [
         2.99,
         531,
         681,
         3346,
         "2006-02-15 21:30:53",
         20050528,
         "20050601",
         1,
         null,
         "2023-05-02T15:39:23.585+0000",
         "dbfs:/FileStore/ds2002-lab06/sourcedata/stream/rental/sakila_fact_rental.json"
        ],
        [
         4.99,
         148,
         682,
         3160,
         "2006-02-15 21:30:53",
         20050528,
         "20050529",
         2,
         null,
         "2023-05-02T15:39:23.585+0000",
         "dbfs:/FileStore/ds2002-lab06/sourcedata/stream/rental/sakila_fact_rental.json"
        ],
        [
         2.99,
         197,
         683,
         2038,
         "2006-02-15 21:30:53",
         20050529,
         "20050602",
         1,
         null,
         "2023-05-02T15:39:23.585+0000",
         "dbfs:/FileStore/ds2002-lab06/sourcedata/stream/rental/sakila_fact_rental.json"
        ],
        [
         6.99,
         461,
         684,
         3242,
         "2006-02-15 21:30:53",
         20050529,
         "20050604",
         2,
         null,
         "2023-05-02T15:39:23.585+0000",
         "dbfs:/FileStore/ds2002-lab06/sourcedata/stream/rental/sakila_fact_rental.json"
        ],
        [
         6.99,
         172,
         685,
         1385,
         "2006-02-15 21:30:53",
         20050529,
         "20050605",
         2,
         null,
         "2023-05-02T15:39:23.585+0000",
         "dbfs:/FileStore/ds2002-lab06/sourcedata/stream/rental/sakila_fact_rental.json"
        ],
        [
         4.99,
         411,
         686,
         2441,
         "2006-02-15 21:30:53",
         20050529,
         "20050530",
         1,
         null,
         "2023-05-02T15:39:23.585+0000",
         "dbfs:/FileStore/ds2002-lab06/sourcedata/stream/rental/sakila_fact_rental.json"
        ],
        [
         0.99,
         250,
         687,
         1731,
         "2006-02-15 21:30:53",
         20050529,
         "20050531",
         1,
         null,
         "2023-05-02T15:39:23.585+0000",
         "dbfs:/FileStore/ds2002-lab06/sourcedata/stream/rental/sakila_fact_rental.json"
        ],
        [
         4.99,
         162,
         688,
         4135,
         "2006-02-15 21:30:53",
         20050529,
         "20050602",
         1,
         null,
         "2023-05-02T15:39:23.585+0000",
         "dbfs:/FileStore/ds2002-lab06/sourcedata/stream/rental/sakila_fact_rental.json"
        ],
        [
         3.99,
         571,
         689,
         742,
         "2006-02-15 21:30:53",
         20050529,
         "20050603",
         2,
         null,
         "2023-05-02T15:39:23.585+0000",
         "dbfs:/FileStore/ds2002-lab06/sourcedata/stream/rental/sakila_fact_rental.json"
        ],
        [
         9.99,
         85,
         690,
         2646,
         "2006-02-15 21:30:53",
         20050529,
         "20050606",
         1,
         null,
         "2023-05-02T15:39:23.585+0000",
         "dbfs:/FileStore/ds2002-lab06/sourcedata/stream/rental/sakila_fact_rental.json"
        ],
        [
         10.99,
         433,
         691,
         4034,
         "2006-02-15 21:30:53",
         20050529,
         "20050607",
         1,
         null,
         "2023-05-02T15:39:23.585+0000",
         "dbfs:/FileStore/ds2002-lab06/sourcedata/stream/rental/sakila_fact_rental.json"
        ],
        [
         4.99,
         18,
         692,
         800,
         "2006-02-15 21:30:53",
         20050529,
         "20050602",
         2,
         null,
         "2023-05-02T15:39:23.585+0000",
         "dbfs:/FileStore/ds2002-lab06/sourcedata/stream/rental/sakila_fact_rental.json"
        ],
        [
         2.99,
         190,
         693,
         635,
         "2006-02-15 21:30:53",
         20050529,
         "20050603",
         2,
         null,
         "2023-05-02T15:39:23.585+0000",
         "dbfs:/FileStore/ds2002-lab06/sourcedata/stream/rental/sakila_fact_rental.json"
        ],
        [
         6.99,
         399,
         694,
         592,
         "2006-02-15 21:30:53",
         20050529,
         "20050605",
         1,
         null,
         "2023-05-02T15:39:23.585+0000",
         "dbfs:/FileStore/ds2002-lab06/sourcedata/stream/rental/sakila_fact_rental.json"
        ],
        [
         3.99,
         528,
         695,
         4276,
         "2006-02-15 21:30:53",
         20050529,
         "20050603",
         1,
         null,
         "2023-05-02T15:39:23.585+0000",
         "dbfs:/FileStore/ds2002-lab06/sourcedata/stream/rental/sakila_fact_rental.json"
        ],
        [
         2.99,
         19,
         696,
         2076,
         "2006-02-15 21:30:53",
         20050529,
         "20050601",
         1,
         null,
         "2023-05-02T15:39:23.585+0000",
         "dbfs:/FileStore/ds2002-lab06/sourcedata/stream/rental/sakila_fact_rental.json"
        ],
        [
         7.99,
         387,
         697,
         3949,
         "2006-02-15 21:30:53",
         20050529,
         "20050604",
         2,
         null,
         "2023-05-02T15:39:23.585+0000",
         "dbfs:/FileStore/ds2002-lab06/sourcedata/stream/rental/sakila_fact_rental.json"
        ],
        [
         0.99,
         109,
         698,
         1412,
         "2006-02-15 21:30:53",
         20050529,
         "20050601",
         1,
         null,
         "2023-05-02T15:39:23.585+0000",
         "dbfs:/FileStore/ds2002-lab06/sourcedata/stream/rental/sakila_fact_rental.json"
        ],
        [
         3.99,
         246,
         699,
         130,
         "2006-02-15 21:30:53",
         20050529,
         "20050604",
         2,
         null,
         "2023-05-02T15:39:23.585+0000",
         "dbfs:/FileStore/ds2002-lab06/sourcedata/stream/rental/sakila_fact_rental.json"
        ],
        [
         0.99,
         117,
         700,
         500,
         "2006-02-15 21:30:53",
         20050529,
         "20050530",
         1,
         null,
         "2023-05-02T15:39:23.585+0000",
         "dbfs:/FileStore/ds2002-lab06/sourcedata/stream/rental/sakila_fact_rental.json"
        ],
        [
         2.99,
         112,
         701,
         372,
         "2006-02-15 21:30:53",
         20050529,
         "20050603",
         1,
         null,
         "2023-05-02T15:39:23.585+0000",
         "dbfs:/FileStore/ds2002-lab06/sourcedata/stream/rental/sakila_fact_rental.json"
        ],
        [
         0.99,
         475,
         702,
         2556,
         "2006-02-15 21:30:53",
         20050529,
         "20050530",
         2,
         null,
         "2023-05-02T15:39:23.585+0000",
         "dbfs:/FileStore/ds2002-lab06/sourcedata/stream/rental/sakila_fact_rental.json"
        ],
        [
         0.99,
         269,
         703,
         1123,
         "2006-02-15 21:30:53",
         20050529,
         "20050603",
         2,
         null,
         "2023-05-02T15:39:23.585+0000",
         "dbfs:/FileStore/ds2002-lab06/sourcedata/stream/rental/sakila_fact_rental.json"
        ],
        [
         3.99,
         330,
         704,
         2628,
         "2006-02-15 21:30:53",
         20050529,
         "20050606",
         2,
         null,
         "2023-05-02T15:39:23.585+0000",
         "dbfs:/FileStore/ds2002-lab06/sourcedata/stream/rental/sakila_fact_rental.json"
        ],
        [
         2.99,
         257,
         705,
         2809,
         "2006-02-15 21:30:53",
         20050529,
         "20050530",
         1,
         null,
         "2023-05-02T15:39:23.585+0000",
         "dbfs:/FileStore/ds2002-lab06/sourcedata/stream/rental/sakila_fact_rental.json"
        ],
        [
         1.99,
         60,
         706,
         2278,
         "2006-02-15 21:30:53",
         20050529,
         "20050604",
         1,
         null,
         "2023-05-02T15:39:23.585+0000",
         "dbfs:/FileStore/ds2002-lab06/sourcedata/stream/rental/sakila_fact_rental.json"
        ],
        [
         4.99,
         252,
         707,
         819,
         "2006-02-15 21:30:53",
         20050529,
         "20050530",
         1,
         null,
         "2023-05-02T15:39:23.585+0000",
         "dbfs:/FileStore/ds2002-lab06/sourcedata/stream/rental/sakila_fact_rental.json"
        ],
        [
         0.99,
         127,
         708,
         3133,
         "2006-02-15 21:30:53",
         20050529,
         "20050531",
         2,
         null,
         "2023-05-02T15:39:23.585+0000",
         "dbfs:/FileStore/ds2002-lab06/sourcedata/stream/rental/sakila_fact_rental.json"
        ],
        [
         7.99,
         479,
         709,
         2459,
         "2006-02-15 21:30:53",
         20050529,
         "20050606",
         1,
         null,
         "2023-05-02T15:39:23.585+0000",
         "dbfs:/FileStore/ds2002-lab06/sourcedata/stream/rental/sakila_fact_rental.json"
        ],
        [
         2.99,
         518,
         710,
         194,
         "2006-02-15 21:30:53",
         20050529,
         "20050603",
         1,
         null,
         "2023-05-02T15:39:23.585+0000",
         "dbfs:/FileStore/ds2002-lab06/sourcedata/stream/rental/sakila_fact_rental.json"
        ],
        [
         4.99,
         215,
         711,
         4581,
         "2006-02-15 21:30:53",
         20050529,
         "20050531",
         2,
         null,
         "2023-05-02T15:39:23.585+0000",
         "dbfs:/FileStore/ds2002-lab06/sourcedata/stream/rental/sakila_fact_rental.json"
        ],
        [
         2.99,
         313,
         712,
         4191,
         "2006-02-15 21:30:53",
         20050529,
         "20050530",
         2,
         null,
         "2023-05-02T15:39:23.585+0000",
         "dbfs:/FileStore/ds2002-lab06/sourcedata/stream/rental/sakila_fact_rental.json"
        ],
        [
         4.99,
         507,
         713,
         3664,
         "2006-02-15 21:30:53",
         20050529,
         "20050607",
         1,
         null,
         "2023-05-02T15:39:23.585+0000",
         "dbfs:/FileStore/ds2002-lab06/sourcedata/stream/rental/sakila_fact_rental.json"
        ],
        [
         2.99,
         452,
         714,
         2010,
         "2006-02-15 21:30:53",
         20050529,
         "20050601",
         2,
         null,
         "2023-05-02T15:39:23.585+0000",
         "dbfs:/FileStore/ds2002-lab06/sourcedata/stream/rental/sakila_fact_rental.json"
        ],
        [
         3.99,
         545,
         715,
         2030,
         "2006-02-15 21:30:53",
         20050529,
         "20050605",
         1,
         null,
         "2023-05-02T15:39:23.585+0000",
         "dbfs:/FileStore/ds2002-lab06/sourcedata/stream/rental/sakila_fact_rental.json"
        ],
        [
         0.99,
         36,
         716,
         85,
         "2006-02-15 21:30:53",
         20050529,
         "20050601",
         2,
         null,
         "2023-05-02T15:39:23.585+0000",
         "dbfs:/FileStore/ds2002-lab06/sourcedata/stream/rental/sakila_fact_rental.json"
        ],
        [
         0.99,
         412,
         717,
         1383,
         "2006-02-15 21:30:53",
         20050529,
         "20050530",
         2,
         null,
         "2023-05-02T15:39:23.585+0000",
         "dbfs:/FileStore/ds2002-lab06/sourcedata/stream/rental/sakila_fact_rental.json"
        ],
        [
         2.99,
         498,
         718,
         1736,
         "2006-02-15 21:30:53",
         20050529,
         "20050602",
         1,
         null,
         "2023-05-02T15:39:23.585+0000",
         "dbfs:/FileStore/ds2002-lab06/sourcedata/stream/rental/sakila_fact_rental.json"
        ],
        [
         2.99,
         245,
         719,
         267,
         "2006-02-15 21:30:53",
         20050529,
         "20050601",
         2,
         null,
         "2023-05-02T15:39:23.585+0000",
         "dbfs:/FileStore/ds2002-lab06/sourcedata/stream/rental/sakila_fact_rental.json"
        ],
        [
         6.99,
         480,
         720,
         3687,
         "2006-02-15 21:30:53",
         20050529,
         "20050606",
         2,
         null,
         "2023-05-02T15:39:23.585+0000",
         "dbfs:/FileStore/ds2002-lab06/sourcedata/stream/rental/sakila_fact_rental.json"
        ],
        [
         0.99,
         44,
         721,
         1116,
         "2006-02-15 21:30:53",
         20050529,
         "20050531",
         1,
         null,
         "2023-05-02T15:39:23.585+0000",
         "dbfs:/FileStore/ds2002-lab06/sourcedata/stream/rental/sakila_fact_rental.json"
        ],
        [
         6.99,
         259,
         722,
         4540,
         "2006-02-15 21:30:53",
         20050529,
         "20050606",
         1,
         null,
         "2023-05-02T15:39:23.585+0000",
         "dbfs:/FileStore/ds2002-lab06/sourcedata/stream/rental/sakila_fact_rental.json"
        ],
        [
         0.99,
         309,
         723,
         3407,
         "2006-02-15 21:30:53",
         20050529,
         "20050530",
         1,
         null,
         "2023-05-02T15:39:23.585+0000",
         "dbfs:/FileStore/ds2002-lab06/sourcedata/stream/rental/sakila_fact_rental.json"
        ],
        [
         3.99,
         416,
         724,
         3770,
         "2006-02-15 21:30:53",
         20050529,
         "20050605",
         2,
         null,
         "2023-05-02T15:39:23.585+0000",
         "dbfs:/FileStore/ds2002-lab06/sourcedata/stream/rental/sakila_fact_rental.json"
        ],
        [
         2.99,
         245,
         725,
         4088,
         "2006-02-15 21:30:53",
         20050529,
         "20050603",
         2,
         null,
         "2023-05-02T15:39:23.585+0000",
         "dbfs:/FileStore/ds2002-lab06/sourcedata/stream/rental/sakila_fact_rental.json"
        ],
        [
         1.99,
         452,
         726,
         933,
         "2006-02-15 21:30:53",
         20050529,
         "20050605",
         2,
         null,
         "2023-05-02T15:39:23.585+0000",
         "dbfs:/FileStore/ds2002-lab06/sourcedata/stream/rental/sakila_fact_rental.json"
        ],
        [
         2.99,
         484,
         727,
         1629,
         "2006-02-15 21:30:53",
         20050529,
         "20050530",
         1,
         null,
         "2023-05-02T15:39:23.585+0000",
         "dbfs:/FileStore/ds2002-lab06/sourcedata/stream/rental/sakila_fact_rental.json"
        ],
        [
         2.99,
         551,
         728,
         242,
         "2006-02-15 21:30:53",
         20050529,
         "20050603",
         1,
         null,
         "2023-05-02T15:39:23.585+0000",
         "dbfs:/FileStore/ds2002-lab06/sourcedata/stream/rental/sakila_fact_rental.json"
        ],
        [
         2.99,
         323,
         729,
         1688,
         "2006-02-15 21:30:53",
         20050529,
         "20050604",
         2,
         null,
         "2023-05-02T15:39:23.585+0000",
         "dbfs:/FileStore/ds2002-lab06/sourcedata/stream/rental/sakila_fact_rental.json"
        ],
        [
         3.99,
         197,
         730,
         3473,
         "2006-02-15 21:30:53",
         20050529,
         "20050606",
         1,
         null,
         "2023-05-02T15:39:23.585+0000",
         "dbfs:/FileStore/ds2002-lab06/sourcedata/stream/rental/sakila_fact_rental.json"
        ],
        [
         0.99,
         5,
         731,
         4124,
         "2006-02-15 21:30:53",
         20050529,
         "20050530",
         1,
         null,
         "2023-05-02T15:39:23.585+0000",
         "dbfs:/FileStore/ds2002-lab06/sourcedata/stream/rental/sakila_fact_rental.json"
        ],
        [
         0.99,
         447,
         732,
         2530,
         "2006-02-15 21:30:53",
         20050529,
         "20050530",
         2,
         null,
         "2023-05-02T15:39:23.585+0000",
         "dbfs:/FileStore/ds2002-lab06/sourcedata/stream/rental/sakila_fact_rental.json"
        ],
        [
         3.99,
         363,
         733,
         2951,
         "2006-02-15 21:30:53",
         20050529,
         "20050605",
         1,
         null,
         "2023-05-02T15:39:23.585+0000",
         "dbfs:/FileStore/ds2002-lab06/sourcedata/stream/rental/sakila_fact_rental.json"
        ],
        [
         4.99,
         538,
         734,
         3084,
         "2006-02-15 21:30:53",
         20050529,
         "20050603",
         2,
         null,
         "2023-05-02T15:39:23.585+0000",
         "dbfs:/FileStore/ds2002-lab06/sourcedata/stream/rental/sakila_fact_rental.json"
        ],
        [
         7.99,
         454,
         735,
         3421,
         "2006-02-15 21:30:53",
         20050529,
         "20050607",
         1,
         null,
         "2023-05-02T15:39:23.585+0000",
         "dbfs:/FileStore/ds2002-lab06/sourcedata/stream/rental/sakila_fact_rental.json"
        ],
        [
         3.99,
         276,
         736,
         3689,
         "2006-02-15 21:30:53",
         20050529,
         "20050605",
         2,
         null,
         "2023-05-02T15:39:23.585+0000",
         "dbfs:/FileStore/ds2002-lab06/sourcedata/stream/rental/sakila_fact_rental.json"
        ],
        [
         4.99,
         589,
         737,
         769,
         "2006-02-15 21:30:53",
         20050529,
         "20050604",
         2,
         null,
         "2023-05-02T15:39:23.585+0000",
         "dbfs:/FileStore/ds2002-lab06/sourcedata/stream/rental/sakila_fact_rental.json"
        ],
        [
         4.99,
         256,
         738,
         2284,
         "2006-02-15 21:30:53",
         20050529,
         "20050606",
         2,
         null,
         "2023-05-02T15:39:23.585+0000",
         "dbfs:/FileStore/ds2002-lab06/sourcedata/stream/rental/sakila_fact_rental.json"
        ],
        [
         6.99,
         84,
         739,
         1183,
         "2006-02-15 21:30:53",
         20050529,
         "20050606",
         2,
         null,
         "2023-05-02T15:39:23.585+0000",
         "dbfs:/FileStore/ds2002-lab06/sourcedata/stream/rental/sakila_fact_rental.json"
        ],
        [
         5.99,
         89,
         740,
         600,
         "2006-02-15 21:30:53",
         20050529,
         "20050604",
         2,
         null,
         "2023-05-02T15:39:23.585+0000",
         "dbfs:/FileStore/ds2002-lab06/sourcedata/stream/rental/sakila_fact_rental.json"
        ],
        [
         4.99,
         495,
         741,
         3189,
         "2006-02-15 21:30:53",
         20050529,
         "20050604",
         1,
         null,
         "2023-05-02T15:39:23.585+0000",
         "dbfs:/FileStore/ds2002-lab06/sourcedata/stream/rental/sakila_fact_rental.json"
        ],
        [
         6.99,
         483,
         742,
         273,
         "2006-02-15 21:30:53",
         20050529,
         "20050605",
         1,
         null,
         "2023-05-02T15:39:23.585+0000",
         "dbfs:/FileStore/ds2002-lab06/sourcedata/stream/rental/sakila_fact_rental.json"
        ],
        [
         4.99,
         548,
         743,
         2528,
         "2006-02-15 21:30:53",
         20050529,
         "20050606",
         2,
         null,
         "2023-05-02T15:39:23.585+0000",
         "dbfs:/FileStore/ds2002-lab06/sourcedata/stream/rental/sakila_fact_rental.json"
        ],
        [
         4.99,
         420,
         744,
         3722,
         "2006-02-15 21:30:53",
         20050529,
         "20050601",
         2,
         null,
         "2023-05-02T15:39:23.585+0000",
         "dbfs:/FileStore/ds2002-lab06/sourcedata/stream/rental/sakila_fact_rental.json"
        ],
        [
         4.99,
         152,
         745,
         581,
         "2006-02-15 21:30:53",
         20050529,
         "20050601",
         1,
         null,
         "2023-05-02T15:39:23.585+0000",
         "dbfs:/FileStore/ds2002-lab06/sourcedata/stream/rental/sakila_fact_rental.json"
        ],
        [
         2.99,
         130,
         746,
         4272,
         "2006-02-15 21:30:53",
         20050529,
         "20050602",
         2,
         null,
         "2023-05-02T15:39:23.585+0000",
         "dbfs:/FileStore/ds2002-lab06/sourcedata/stream/rental/sakila_fact_rental.json"
        ],
        [
         4.99,
         291,
         747,
         1993,
         "2006-02-15 21:30:53",
         20050529,
         "20050605",
         1,
         null,
         "2023-05-02T15:39:23.585+0000",
         "dbfs:/FileStore/ds2002-lab06/sourcedata/stream/rental/sakila_fact_rental.json"
        ],
        [
         2.99,
         7,
         748,
         2803,
         "2006-02-15 21:30:53",
         20050529,
         "20050603",
         1,
         null,
         "2023-05-02T15:39:23.585+0000",
         "dbfs:/FileStore/ds2002-lab06/sourcedata/stream/rental/sakila_fact_rental.json"
        ],
        [
         4.99,
         375,
         749,
         1146,
         "2006-02-15 21:30:53",
         20050529,
         "20050531",
         2,
         null,
         "2023-05-02T15:39:23.585+0000",
         "dbfs:/FileStore/ds2002-lab06/sourcedata/stream/rental/sakila_fact_rental.json"
        ],
        [
         4.99,
         269,
         750,
         730,
         "2006-02-15 21:30:53",
         20050529,
         "20050530",
         1,
         null,
         "2023-05-02T15:39:23.585+0000",
         "dbfs:/FileStore/ds2002-lab06/sourcedata/stream/rental/sakila_fact_rental.json"
        ],
        [
         0.99,
         53,
         751,
         2711,
         "2006-02-15 21:30:53",
         20050529,
         "20050602",
         1,
         null,
         "2023-05-02T15:39:23.585+0000",
         "dbfs:/FileStore/ds2002-lab06/sourcedata/stream/rental/sakila_fact_rental.json"
        ],
        [
         4.99,
         126,
         752,
         1720,
         "2006-02-15 21:30:53",
         20050529,
         "20050604",
         1,
         null,
         "2023-05-02T15:39:23.585+0000",
         "dbfs:/FileStore/ds2002-lab06/sourcedata/stream/rental/sakila_fact_rental.json"
        ],
        [
         3.99,
         135,
         753,
         1021,
         "2006-02-15 21:30:53",
         20050529,
         "20050605",
         2,
         null,
         "2023-05-02T15:39:23.585+0000",
         "dbfs:/FileStore/ds2002-lab06/sourcedata/stream/rental/sakila_fact_rental.json"
        ],
        [
         2.99,
         281,
         754,
         734,
         "2006-02-15 21:30:53",
         20050529,
         "20050604",
         2,
         null,
         "2023-05-02T15:39:23.585+0000",
         "dbfs:/FileStore/ds2002-lab06/sourcedata/stream/rental/sakila_fact_rental.json"
        ],
        [
         2.99,
         576,
         755,
         3090,
         "2006-02-15 21:30:53",
         20050529,
         "20050601",
         2,
         null,
         "2023-05-02T15:39:23.585+0000",
         "dbfs:/FileStore/ds2002-lab06/sourcedata/stream/rental/sakila_fact_rental.json"
        ],
        [
         5.99,
         201,
         756,
         3152,
         "2006-02-15 21:30:53",
         20050529,
         "20050604",
         1,
         null,
         "2023-05-02T15:39:23.585+0000",
         "dbfs:/FileStore/ds2002-lab06/sourcedata/stream/rental/sakila_fact_rental.json"
        ],
        [
         7.99,
         435,
         757,
         1067,
         "2006-02-15 21:30:53",
         20050529,
         "20050607",
         1,
         null,
         "2023-05-02T15:39:23.585+0000",
         "dbfs:/FileStore/ds2002-lab06/sourcedata/stream/rental/sakila_fact_rental.json"
        ],
        [
         4.99,
         563,
         758,
         1191,
         "2006-02-15 21:30:53",
         20050529,
         "20050601",
         2,
         null,
         "2023-05-02T15:39:23.585+0000",
         "dbfs:/FileStore/ds2002-lab06/sourcedata/stream/rental/sakila_fact_rental.json"
        ],
        [
         6.99,
         179,
         759,
         2367,
         "2006-02-15 21:30:53",
         20050529,
         "20050607",
         2,
         null,
         "2023-05-02T15:39:23.585+0000",
         "dbfs:/FileStore/ds2002-lab06/sourcedata/stream/rental/sakila_fact_rental.json"
        ],
        [
         5.99,
         77,
         760,
         3250,
         "2006-02-15 21:30:53",
         20050529,
         "20050602",
         1,
         null,
         "2023-05-02T15:39:23.585+0000",
         "dbfs:/FileStore/ds2002-lab06/sourcedata/stream/rental/sakila_fact_rental.json"
        ],
        [
         0.99,
         58,
         761,
         2342,
         "2006-02-15 21:30:53",
         20050529,
         "20050603",
         2,
         null,
         "2023-05-02T15:39:23.585+0000",
         "dbfs:/FileStore/ds2002-lab06/sourcedata/stream/rental/sakila_fact_rental.json"
        ],
        [
         7.99,
         146,
         762,
         3683,
         "2006-02-15 21:30:53",
         20050529,
         "20050606",
         1,
         null,
         "2023-05-02T15:39:23.585+0000",
         "dbfs:/FileStore/ds2002-lab06/sourcedata/stream/rental/sakila_fact_rental.json"
        ],
        [
         4.99,
         50,
         763,
         2022,
         "2006-02-15 21:30:53",
         20050529,
         "20050531",
         1,
         null,
         "2023-05-02T15:39:23.585+0000",
         "dbfs:/FileStore/ds2002-lab06/sourcedata/stream/rental/sakila_fact_rental.json"
        ],
        [
         4.99,
         149,
         764,
         1069,
         "2006-02-15 21:30:53",
         20050529,
         "20050531",
         1,
         null,
         "2023-05-02T15:39:23.585+0000",
         "dbfs:/FileStore/ds2002-lab06/sourcedata/stream/rental/sakila_fact_rental.json"
        ],
        [
         1.99,
         69,
         765,
         515,
         "2006-02-15 21:30:53",
         20050529,
         "20050602",
         1,
         null,
         "2023-05-02T15:39:23.585+0000",
         "dbfs:/FileStore/ds2002-lab06/sourcedata/stream/rental/sakila_fact_rental.json"
        ],
        [
         8.99,
         383,
         766,
         2154,
         "2006-02-15 21:30:53",
         20050529,
         "20050606",
         1,
         null,
         "2023-05-02T15:39:23.585+0000",
         "dbfs:/FileStore/ds2002-lab06/sourcedata/stream/rental/sakila_fact_rental.json"
        ],
        [
         2.99,
         67,
         767,
         687,
         "2006-02-15 21:30:53",
         20050529,
         "20050602",
         2,
         null,
         "2023-05-02T15:39:23.585+0000",
         "dbfs:/FileStore/ds2002-lab06/sourcedata/stream/rental/sakila_fact_rental.json"
        ],
        [
         4.99,
         566,
         768,
         2895,
         "2006-02-15 21:30:53",
         20050529,
         "20050607",
         2,
         null,
         "2023-05-02T15:39:23.585+0000",
         "dbfs:/FileStore/ds2002-lab06/sourcedata/stream/rental/sakila_fact_rental.json"
        ],
        [
         2.99,
         575,
         769,
         1523,
         "2006-02-15 21:30:53",
         20050529,
         "20050601",
         1,
         null,
         "2023-05-02T15:39:23.585+0000",
         "dbfs:/FileStore/ds2002-lab06/sourcedata/stream/rental/sakila_fact_rental.json"
        ],
        [
         4.99,
         405,
         770,
         2491,
         "2006-02-15 21:30:53",
         20050529,
         "20050607",
         2,
         null,
         "2023-05-02T15:39:23.585+0000",
         "dbfs:/FileStore/ds2002-lab06/sourcedata/stream/rental/sakila_fact_rental.json"
        ],
        [
         2.99,
         476,
         771,
         353,
         "2006-02-15 21:30:53",
         20050529,
         "20050601",
         2,
         null,
         "2023-05-02T15:39:23.585+0000",
         "dbfs:/FileStore/ds2002-lab06/sourcedata/stream/rental/sakila_fact_rental.json"
        ],
        [
         5.99,
         556,
         772,
         3319,
         "2006-02-15 21:30:53",
         20050529,
         "20050606",
         1,
         null,
         "2023-05-02T15:39:23.585+0000",
         "dbfs:/FileStore/ds2002-lab06/sourcedata/stream/rental/sakila_fact_rental.json"
        ],
        [
         5.99,
         563,
         773,
         245,
         "2006-02-15 21:30:53",
         20050529,
         "20050607",
         1,
         null,
         "2023-05-02T15:39:23.585+0000",
         "dbfs:/FileStore/ds2002-lab06/sourcedata/stream/rental/sakila_fact_rental.json"
        ],
        [
         4.99,
         575,
         774,
         1188,
         "2006-02-15 21:30:53",
         20050529,
         "20050601",
         1,
         null,
         "2023-05-02T15:39:23.585+0000",
         "dbfs:/FileStore/ds2002-lab06/sourcedata/stream/rental/sakila_fact_rental.json"
        ],
        [
         0.99,
         124,
         775,
         1197,
         "2006-02-15 21:30:53",
         20050529,
         "20050530",
         2,
         null,
         "2023-05-02T15:39:23.585+0000",
         "dbfs:/FileStore/ds2002-lab06/sourcedata/stream/rental/sakila_fact_rental.json"
        ],
        [
         0.99,
         113,
         776,
         4339,
         "2006-02-15 21:30:53",
         20050529,
         "20050603",
         1,
         null,
         "2023-05-02T15:39:23.585+0000",
         "dbfs:/FileStore/ds2002-lab06/sourcedata/stream/rental/sakila_fact_rental.json"
        ],
        [
         4.99,
         360,
         777,
         451,
         "2006-02-15 21:30:53",
         20050529,
         "20050603",
         2,
         null,
         "2023-05-02T15:39:23.585+0000",
         "dbfs:/FileStore/ds2002-lab06/sourcedata/stream/rental/sakila_fact_rental.json"
        ],
        [
         3.99,
         535,
         778,
         1816,
         "2006-02-15 21:30:53",
         20050529,
         "20050605",
         1,
         null,
         "2023-05-02T15:39:23.585+0000",
         "dbfs:/FileStore/ds2002-lab06/sourcedata/stream/rental/sakila_fact_rental.json"
        ],
        [
         6.99,
         105,
         779,
         533,
         "2006-02-15 21:30:53",
         20050529,
         "20050606",
         1,
         null,
         "2023-05-02T15:39:23.585+0000",
         "dbfs:/FileStore/ds2002-lab06/sourcedata/stream/rental/sakila_fact_rental.json"
        ],
        [
         3.99,
         300,
         780,
         1919,
         "2006-02-15 21:30:53",
         20050529,
         "20050606",
         1,
         null,
         "2023-05-02T15:39:23.585+0000",
         "dbfs:/FileStore/ds2002-lab06/sourcedata/stream/rental/sakila_fact_rental.json"
        ],
        [
         0.99,
         313,
         781,
         88,
         "2006-02-15 21:30:53",
         20050529,
         "20050530",
         1,
         null,
         "2023-05-02T15:39:23.585+0000",
         "dbfs:/FileStore/ds2002-lab06/sourcedata/stream/rental/sakila_fact_rental.json"
        ],
        [
         1.99,
         596,
         782,
         2255,
         "2006-02-15 21:30:53",
         20050529,
         "20050602",
         2,
         null,
         "2023-05-02T15:39:23.585+0000",
         "dbfs:/FileStore/ds2002-lab06/sourcedata/stream/rental/sakila_fact_rental.json"
        ],
        [
         5.99,
         53,
         783,
         3046,
         "2006-02-15 21:30:53",
         20050529,
         "20050606",
         2,
         null,
         "2023-05-02T15:39:23.585+0000",
         "dbfs:/FileStore/ds2002-lab06/sourcedata/stream/rental/sakila_fact_rental.json"
        ],
        [
         2.99,
         352,
         784,
         2936,
         "2006-02-15 21:30:53",
         20050529,
         "20050601",
         2,
         null,
         "2023-05-02T15:39:23.585+0000",
         "dbfs:/FileStore/ds2002-lab06/sourcedata/stream/rental/sakila_fact_rental.json"
        ],
        [
         4.99,
         72,
         785,
         39,
         "2006-02-15 21:30:53",
         20050529,
         "20050530",
         1,
         null,
         "2023-05-02T15:39:23.585+0000",
         "dbfs:/FileStore/ds2002-lab06/sourcedata/stream/rental/sakila_fact_rental.json"
        ],
        [
         9.99,
         439,
         786,
         2637,
         "2006-02-15 21:30:53",
         20050529,
         "20050607",
         2,
         null,
         "2023-05-02T15:39:23.585+0000",
         "dbfs:/FileStore/ds2002-lab06/sourcedata/stream/rental/sakila_fact_rental.json"
        ],
        [
         2.99,
         27,
         787,
         3919,
         "2006-02-15 21:30:53",
         20050529,
         "20050607",
         2,
         null,
         "2023-05-02T15:39:23.585+0000",
         "dbfs:/FileStore/ds2002-lab06/sourcedata/stream/rental/sakila_fact_rental.json"
        ],
        [
         2.99,
         562,
         788,
         763,
         "2006-02-15 21:30:53",
         20050529,
         "20050531",
         1,
         null,
         "2023-05-02T15:39:23.585+0000",
         "dbfs:/FileStore/ds2002-lab06/sourcedata/stream/rental/sakila_fact_rental.json"
        ],
        [
         4.99,
         553,
         789,
         708,
         "2006-02-15 21:30:53",
         20050529,
         "20050606",
         1,
         null,
         "2023-05-02T15:39:23.585+0000",
         "dbfs:/FileStore/ds2002-lab06/sourcedata/stream/rental/sakila_fact_rental.json"
        ],
        [
         2.99,
         593,
         790,
         2858,
         "2006-02-15 21:30:53",
         20050529,
         "20050602",
         2,
         null,
         "2023-05-02T15:39:23.585+0000",
         "dbfs:/FileStore/ds2002-lab06/sourcedata/stream/rental/sakila_fact_rental.json"
        ],
        [
         0.99,
         284,
         791,
         1554,
         "2006-02-15 21:30:53",
         20050529,
         "20050601",
         1,
         null,
         "2023-05-02T15:39:23.585+0000",
         "dbfs:/FileStore/ds2002-lab06/sourcedata/stream/rental/sakila_fact_rental.json"
        ],
        [
         0.99,
         261,
         792,
         2841,
         "2006-02-15 21:30:53",
         20050529,
         "20050531",
         1,
         null,
         "2023-05-02T15:39:23.585+0000",
         "dbfs:/FileStore/ds2002-lab06/sourcedata/stream/rental/sakila_fact_rental.json"
        ],
        [
         5.99,
         528,
         793,
         379,
         "2006-02-15 21:30:53",
         20050529,
         "20050606",
         2,
         null,
         "2023-05-02T15:39:23.585+0000",
         "dbfs:/FileStore/ds2002-lab06/sourcedata/stream/rental/sakila_fact_rental.json"
        ],
        [
         4.99,
         50,
         794,
         1995,
         "2006-02-15 21:30:53",
         20050529,
         "20050605",
         1,
         null,
         "2023-05-02T15:39:23.585+0000",
         "dbfs:/FileStore/ds2002-lab06/sourcedata/stream/rental/sakila_fact_rental.json"
        ],
        [
         0.99,
         551,
         795,
         609,
         "2006-02-15 21:30:53",
         20050529,
         "20050601",
         2,
         null,
         "2023-05-02T15:39:23.585+0000",
         "dbfs:/FileStore/ds2002-lab06/sourcedata/stream/rental/sakila_fact_rental.json"
        ],
        [
         2.99,
         26,
         796,
         2697,
         "2006-02-15 21:30:53",
         20050529,
         "20050603",
         2,
         null,
         "2023-05-02T15:39:23.585+0000",
         "dbfs:/FileStore/ds2002-lab06/sourcedata/stream/rental/sakila_fact_rental.json"
        ],
        [
         1.99,
         244,
         797,
         1446,
         "2006-02-15 21:30:53",
         20050529,
         "20050603",
         1,
         null,
         "2023-05-02T15:39:23.585+0000",
         "dbfs:/FileStore/ds2002-lab06/sourcedata/stream/rental/sakila_fact_rental.json"
        ],
        [
         0.99,
         134,
         798,
         1102,
         "2006-02-15 21:30:53",
         20050529,
         "20050601",
         2,
         null,
         "2023-05-02T15:39:23.585+0000",
         "dbfs:/FileStore/ds2002-lab06/sourcedata/stream/rental/sakila_fact_rental.json"
        ],
        [
         4.99,
         429,
         799,
         1713,
         "2006-02-15 21:30:53",
         20050529,
         "20050605",
         1,
         null,
         "2023-05-02T15:39:23.585+0000",
         "dbfs:/FileStore/ds2002-lab06/sourcedata/stream/rental/sakila_fact_rental.json"
        ],
        [
         0.99,
         472,
         800,
         441,
         "2006-02-15 21:30:53",
         20050529,
         "20050530",
         1,
         null,
         "2023-05-02T15:39:23.585+0000",
         "dbfs:/FileStore/ds2002-lab06/sourcedata/stream/rental/sakila_fact_rental.json"
        ],
        [
         1.99,
         402,
         801,
         1642,
         "2006-02-15 21:30:53",
         20050529,
         "20050604",
         2,
         null,
         "2023-05-02T15:39:23.585+0000",
         "dbfs:/FileStore/ds2002-lab06/sourcedata/stream/rental/sakila_fact_rental.json"
        ],
        [
         4.99,
         350,
         802,
         785,
         "2006-02-15 21:30:53",
         20050529,
         "20050531",
         2,
         null,
         "2023-05-02T15:39:23.585+0000",
         "dbfs:/FileStore/ds2002-lab06/sourcedata/stream/rental/sakila_fact_rental.json"
        ],
        [
         4.99,
         32,
         803,
         1602,
         "2006-02-15 21:30:53",
         20050529,
         "20050530",
         2,
         null,
         "2023-05-02T15:39:23.585+0000",
         "dbfs:/FileStore/ds2002-lab06/sourcedata/stream/rental/sakila_fact_rental.json"
        ],
        [
         9.99,
         171,
         804,
         3909,
         "2006-02-15 21:30:53",
         20050529,
         "20050606",
         1,
         null,
         "2023-05-02T15:39:23.585+0000",
         "dbfs:/FileStore/ds2002-lab06/sourcedata/stream/rental/sakila_fact_rental.json"
        ],
        [
         3.99,
         232,
         805,
         3132,
         "2006-02-15 21:30:53",
         20050529,
         "20050607",
         2,
         null,
         "2023-05-02T15:39:23.585+0000",
         "dbfs:/FileStore/ds2002-lab06/sourcedata/stream/rental/sakila_fact_rental.json"
        ],
        [
         4.99,
         435,
         806,
         2386,
         "2006-02-15 21:30:53",
         20050529,
         "20050531",
         2,
         null,
         "2023-05-02T15:39:23.585+0000",
         "dbfs:/FileStore/ds2002-lab06/sourcedata/stream/rental/sakila_fact_rental.json"
        ],
        [
         2.99,
         235,
         807,
         2195,
         "2006-02-15 21:30:53",
         20050529,
         "20050603",
         2,
         null,
         "2023-05-02T15:39:23.585+0000",
         "dbfs:/FileStore/ds2002-lab06/sourcedata/stream/rental/sakila_fact_rental.json"
        ],
        [
         3.99,
         104,
         808,
         1928,
         "2006-02-15 21:30:53",
         20050529,
         "20050606",
         2,
         null,
         "2023-05-02T15:39:23.585+0000",
         "dbfs:/FileStore/ds2002-lab06/sourcedata/stream/rental/sakila_fact_rental.json"
        ],
        [
         3.99,
         222,
         809,
         2114,
         "2006-02-15 21:30:53",
         20050529,
         "20050605",
         2,
         null,
         "2023-05-02T15:39:23.585+0000",
         "dbfs:/FileStore/ds2002-lab06/sourcedata/stream/rental/sakila_fact_rental.json"
        ],
        [
         4.99,
         346,
         810,
         2533,
         "2006-02-15 21:30:53",
         20050529,
         "20050604",
         2,
         null,
         "2023-05-02T15:39:23.585+0000",
         "dbfs:/FileStore/ds2002-lab06/sourcedata/stream/rental/sakila_fact_rental.json"
        ],
        [
         1.99,
         401,
         811,
         4419,
         "2006-02-15 21:30:53",
         20050529,
         "20050602",
         2,
         null,
         "2023-05-02T15:39:23.585+0000",
         "dbfs:/FileStore/ds2002-lab06/sourcedata/stream/rental/sakila_fact_rental.json"
        ],
        [
         4.99,
         225,
         812,
         1099,
         "2006-02-15 21:30:53",
         20050529,
         "20050530",
         2,
         null,
         "2023-05-02T15:39:23.585+0000",
         "dbfs:/FileStore/ds2002-lab06/sourcedata/stream/rental/sakila_fact_rental.json"
        ],
        [
         5.99,
         344,
         813,
         4554,
         "2006-02-15 21:30:53",
         20050529,
         "20050605",
         1,
         null,
         "2023-05-02T15:39:23.585+0000",
         "dbfs:/FileStore/ds2002-lab06/sourcedata/stream/rental/sakila_fact_rental.json"
        ],
        [
         6.99,
         134,
         814,
         1572,
         "2006-02-15 21:30:53",
         20050529,
         "20050607",
         1,
         null,
         "2023-05-02T15:39:23.585+0000",
         "dbfs:/FileStore/ds2002-lab06/sourcedata/stream/rental/sakila_fact_rental.json"
        ],
        [
         0.99,
         14,
         815,
         3757,
         "2006-02-15 21:30:53",
         20050529,
         "20050603",
         1,
         null,
         "2023-05-02T15:39:23.585+0000",
         "dbfs:/FileStore/ds2002-lab06/sourcedata/stream/rental/sakila_fact_rental.json"
        ],
        [
         7.99,
         474,
         816,
         630,
         "2006-02-15 21:30:53",
         20050529,
         "20050606",
         2,
         null,
         "2023-05-02T15:39:23.585+0000",
         "dbfs:/FileStore/ds2002-lab06/sourcedata/stream/rental/sakila_fact_rental.json"
        ],
        [
         2.99,
         554,
         817,
         186,
         "2006-02-15 21:30:53",
         20050529,
         "20050531",
         1,
         null,
         "2023-05-02T15:39:23.585+0000",
         "dbfs:/FileStore/ds2002-lab06/sourcedata/stream/rental/sakila_fact_rental.json"
        ],
        [
         4.99,
         321,
         818,
         4106,
         "2006-02-15 21:30:53",
         20050529,
         "20050602",
         2,
         null,
         "2023-05-02T15:39:23.585+0000",
         "dbfs:/FileStore/ds2002-lab06/sourcedata/stream/rental/sakila_fact_rental.json"
        ],
        [
         3.99,
         511,
         819,
         623,
         "2006-02-15 21:30:53",
         20050529,
         "20050602",
         2,
         null,
         "2023-05-02T15:39:23.585+0000",
         "dbfs:/FileStore/ds2002-lab06/sourcedata/stream/rental/sakila_fact_rental.json"
        ],
        [
         8.99,
         22,
         820,
         2584,
         "2006-02-15 21:30:53",
         20050529,
         "20050607",
         2,
         null,
         "2023-05-02T15:39:23.585+0000",
         "dbfs:/FileStore/ds2002-lab06/sourcedata/stream/rental/sakila_fact_rental.json"
        ],
        [
         0.99,
         348,
         821,
         3380,
         "2006-02-15 21:30:53",
         20050529,
         "20050604",
         1,
         null,
         "2023-05-02T15:39:23.585+0000",
         "dbfs:/FileStore/ds2002-lab06/sourcedata/stream/rental/sakila_fact_rental.json"
        ],
        [
         9.99,
         480,
         822,
         2634,
         "2006-02-15 21:30:53",
         20050529,
         "20050607",
         1,
         null,
         "2023-05-02T15:39:23.585+0000",
         "dbfs:/FileStore/ds2002-lab06/sourcedata/stream/rental/sakila_fact_rental.json"
        ],
        [
         4.99,
         441,
         823,
         3249,
         "2006-02-15 21:30:53",
         20050529,
         "20050530",
         1,
         null,
         "2023-05-02T15:39:23.585+0000",
         "dbfs:/FileStore/ds2002-lab06/sourcedata/stream/rental/sakila_fact_rental.json"
        ],
        [
         4.99,
         357,
         824,
         3518,
         "2006-02-15 21:30:53",
         20050529,
         "20050531",
         1,
         null,
         "2023-05-02T15:39:23.585+0000",
         "dbfs:/FileStore/ds2002-lab06/sourcedata/stream/rental/sakila_fact_rental.json"
        ],
        [
         0.99,
         371,
         825,
         712,
         "2006-02-15 21:30:53",
         20050529,
         "20050604",
         2,
         null,
         "2023-05-02T15:39:23.585+0000",
         "dbfs:/FileStore/ds2002-lab06/sourcedata/stream/rental/sakila_fact_rental.json"
        ],
        [
         6.99,
         207,
         826,
         2263,
         "2006-02-15 21:30:53",
         20050529,
         "20050608",
         1,
         null,
         "2023-05-02T15:39:23.585+0000",
         "dbfs:/FileStore/ds2002-lab06/sourcedata/stream/rental/sakila_fact_rental.json"
        ],
        [
         2.99,
         573,
         827,
         62,
         "2006-02-15 21:30:53",
         20050529,
         "20050606",
         1,
         null,
         "2023-05-02T15:39:23.585+0000",
         "dbfs:/FileStore/ds2002-lab06/sourcedata/stream/rental/sakila_fact_rental.json"
        ],
        [
         2.99,
         217,
         828,
         2468,
         "2006-02-15 21:30:53",
         20050529,
         "20050530",
         1,
         null,
         "2023-05-02T15:39:23.585+0000",
         "dbfs:/FileStore/ds2002-lab06/sourcedata/stream/rental/sakila_fact_rental.json"
        ],
        [
         2.99,
         371,
         829,
         1684,
         "2006-02-15 21:30:53",
         20050529,
         "20050606",
         1,
         null,
         "2023-05-02T15:39:23.585+0000",
         "dbfs:/FileStore/ds2002-lab06/sourcedata/stream/rental/sakila_fact_rental.json"
        ],
        [
         2.99,
         3,
         830,
         3464,
         "2006-02-15 21:30:53",
         20050529,
         "20050601",
         1,
         null,
         "2023-05-02T15:39:23.585+0000",
         "dbfs:/FileStore/ds2002-lab06/sourcedata/stream/rental/sakila_fact_rental.json"
        ],
        [
         8.99,
         509,
         831,
         3912,
         "2006-02-15 21:30:53",
         20050529,
         "20050606",
         1,
         null,
         "2023-05-02T15:39:23.585+0000",
         "dbfs:/FileStore/ds2002-lab06/sourcedata/stream/rental/sakila_fact_rental.json"
        ],
        [
         3.99,
         159,
         832,
         1381,
         "2006-02-15 21:30:53",
         20050529,
         "20050607",
         2,
         null,
         "2023-05-02T15:39:23.585+0000",
         "dbfs:/FileStore/ds2002-lab06/sourcedata/stream/rental/sakila_fact_rental.json"
        ],
        [
         4.99,
         417,
         833,
         2898,
         "2006-02-15 21:30:53",
         20050529,
         "20050602",
         1,
         null,
         "2023-05-02T15:39:23.585+0000",
         "dbfs:/FileStore/ds2002-lab06/sourcedata/stream/rental/sakila_fact_rental.json"
        ],
        [
         4.99,
         84,
         834,
         3628,
         "2006-02-15 21:30:53",
         20050529,
         "20050530",
         2,
         null,
         "2023-05-02T15:39:23.585+0000",
         "dbfs:/FileStore/ds2002-lab06/sourcedata/stream/rental/sakila_fact_rental.json"
        ],
        [
         2.99,
         381,
         835,
         299,
         "2006-02-15 21:30:53",
         20050529,
         "20050602",
         1,
         null,
         "2023-05-02T15:39:23.585+0000",
         "dbfs:/FileStore/ds2002-lab06/sourcedata/stream/rental/sakila_fact_rental.json"
        ],
        [
         2.99,
         368,
         836,
         3140,
         "2006-02-15 21:30:53",
         20050529,
         "20050531",
         2,
         null,
         "2023-05-02T15:39:23.585+0000",
         "dbfs:/FileStore/ds2002-lab06/sourcedata/stream/rental/sakila_fact_rental.json"
        ],
        [
         0.99,
         172,
         837,
         977,
         "2006-02-15 21:30:53",
         20050530,
         "20050602",
         2,
         null,
         "2023-05-02T15:39:23.585+0000",
         "dbfs:/FileStore/ds2002-lab06/sourcedata/stream/rental/sakila_fact_rental.json"
        ],
        [
         4.99,
         504,
         838,
         2859,
         "2006-02-15 21:30:53",
         20050530,
         "20050606",
         2,
         null,
         "2023-05-02T15:39:23.585+0000",
         "dbfs:/FileStore/ds2002-lab06/sourcedata/stream/rental/sakila_fact_rental.json"
        ],
        [
         8.99,
         337,
         839,
         1886,
         "2006-02-15 21:30:53",
         20050530,
         "20050608",
         1,
         null,
         "2023-05-02T15:39:23.585+0000",
         "dbfs:/FileStore/ds2002-lab06/sourcedata/stream/rental/sakila_fact_rental.json"
        ],
        [
         4.99,
         79,
         840,
         4049,
         "2006-02-15 21:30:53",
         20050530,
         "20050531",
         2,
         null,
         "2023-05-02T15:39:23.585+0000",
         "dbfs:/FileStore/ds2002-lab06/sourcedata/stream/rental/sakila_fact_rental.json"
        ],
        [
         4.99,
         387,
         841,
         4318,
         "2006-02-15 21:30:53",
         20050530,
         "20050602",
         1,
         null,
         "2023-05-02T15:39:23.585+0000",
         "dbfs:/FileStore/ds2002-lab06/sourcedata/stream/rental/sakila_fact_rental.json"
        ],
        [
         2.99,
         238,
         842,
         2328,
         "2006-02-15 21:30:53",
         20050530,
         "20050601",
         1,
         null,
         "2023-05-02T15:39:23.585+0000",
         "dbfs:/FileStore/ds2002-lab06/sourcedata/stream/rental/sakila_fact_rental.json"
        ],
        [
         0.99,
         313,
         843,
         2214,
         "2006-02-15 21:30:53",
         20050530,
         "20050531",
         2,
         null,
         "2023-05-02T15:39:23.585+0000",
         "dbfs:/FileStore/ds2002-lab06/sourcedata/stream/rental/sakila_fact_rental.json"
        ],
        [
         4.99,
         429,
         844,
         536,
         "2006-02-15 21:30:53",
         20050530,
         "20050601",
         1,
         null,
         "2023-05-02T15:39:23.585+0000",
         "dbfs:/FileStore/ds2002-lab06/sourcedata/stream/rental/sakila_fact_rental.json"
        ],
        [
         4.99,
         72,
         845,
         2001,
         "2006-02-15 21:30:53",
         20050530,
         "20050607",
         1,
         null,
         "2023-05-02T15:39:23.585+0000",
         "dbfs:/FileStore/ds2002-lab06/sourcedata/stream/rental/sakila_fact_rental.json"
        ],
        [
         2.99,
         49,
         846,
         938,
         "2006-02-15 21:30:53",
         20050530,
         "20050601",
         2,
         null,
         "2023-05-02T15:39:23.585+0000",
         "dbfs:/FileStore/ds2002-lab06/sourcedata/stream/rental/sakila_fact_rental.json"
        ],
        [
         3.99,
         380,
         847,
         4387,
         "2006-02-15 21:30:53",
         20050530,
         "20050606",
         2,
         null,
         "2023-05-02T15:39:23.585+0000",
         "dbfs:/FileStore/ds2002-lab06/sourcedata/stream/rental/sakila_fact_rental.json"
        ],
        [
         5.99,
         436,
         848,
         1363,
         "2006-02-15 21:30:53",
         20050530,
         "20050605",
         1,
         null,
         "2023-05-02T15:39:23.585+0000",
         "dbfs:/FileStore/ds2002-lab06/sourcedata/stream/rental/sakila_fact_rental.json"
        ],
        [
         7.99,
         449,
         849,
         2424,
         "2006-02-15 21:30:53",
         20050530,
         "20050607",
         1,
         null,
         "2023-05-02T15:39:23.585+0000",
         "dbfs:/FileStore/ds2002-lab06/sourcedata/stream/rental/sakila_fact_rental.json"
        ],
        [
         4.99,
         517,
         850,
         2390,
         "2006-02-15 21:30:53",
         20050530,
         "20050531",
         1,
         null,
         "2023-05-02T15:39:23.585+0000",
         "dbfs:/FileStore/ds2002-lab06/sourcedata/stream/rental/sakila_fact_rental.json"
        ],
        [
         0.99,
         530,
         851,
         2780,
         "2006-02-15 21:30:53",
         20050530,
         "20050606",
         1,
         null,
         "2023-05-02T15:39:23.585+0000",
         "dbfs:/FileStore/ds2002-lab06/sourcedata/stream/rental/sakila_fact_rental.json"
        ],
        [
         4.99,
         549,
         852,
         1622,
         "2006-02-15 21:30:53",
         20050530,
         "20050601",
         1,
         null,
         "2023-05-02T15:39:23.585+0000",
         "dbfs:/FileStore/ds2002-lab06/sourcedata/stream/rental/sakila_fact_rental.json"
        ],
        [
         0.99,
         122,
         853,
         3693,
         "2006-02-15 21:30:53",
         20050530,
         "20050601",
         1,
         null,
         "2023-05-02T15:39:23.585+0000",
         "dbfs:/FileStore/ds2002-lab06/sourcedata/stream/rental/sakila_fact_rental.json"
        ],
        [
         0.99,
         369,
         854,
         921,
         "2006-02-15 21:30:53",
         20050530,
         "20050601",
         2,
         null,
         "2023-05-02T15:39:23.585+0000",
         "dbfs:/FileStore/ds2002-lab06/sourcedata/stream/rental/sakila_fact_rental.json"
        ],
        [
         0.99,
         406,
         855,
         2527,
         "2006-02-15 21:30:53",
         20050530,
         "20050603",
         2,
         null,
         "2023-05-02T15:39:23.585+0000",
         "dbfs:/FileStore/ds2002-lab06/sourcedata/stream/rental/sakila_fact_rental.json"
        ],
        [
         9.99,
         53,
         856,
         3969,
         "2006-02-15 21:30:53",
         20050530,
         "20050607",
         1,
         null,
         "2023-05-02T15:39:23.585+0000",
         "dbfs:/FileStore/ds2002-lab06/sourcedata/stream/rental/sakila_fact_rental.json"
        ],
        [
         4.99,
         204,
         857,
         2569,
         "2006-02-15 21:30:53",
         20050530,
         "20050602",
         2,
         null,
         "2023-05-02T15:39:23.585+0000",
         "dbfs:/FileStore/ds2002-lab06/sourcedata/stream/rental/sakila_fact_rental.json"
        ],
        [
         4.99,
         358,
         858,
         1258,
         "2006-02-15 21:30:53",
         20050530,
         "20050601",
         1,
         null,
         "2023-05-02T15:39:23.585+0000",
         "dbfs:/FileStore/ds2002-lab06/sourcedata/stream/rental/sakila_fact_rental.json"
        ],
        [
         2.99,
         79,
         859,
         3032,
         "2006-02-15 21:30:53",
         20050530,
         "20050602",
         2,
         null,
         "2023-05-02T15:39:23.585+0000",
         "dbfs:/FileStore/ds2002-lab06/sourcedata/stream/rental/sakila_fact_rental.json"
        ],
        [
         10.99,
         276,
         860,
         578,
         "2006-02-15 21:30:53",
         20050530,
         "20050608",
         1,
         null,
         "2023-05-02T15:39:23.585+0000",
         "dbfs:/FileStore/ds2002-lab06/sourcedata/stream/rental/sakila_fact_rental.json"
        ],
        [
         0.99,
         502,
         861,
         3711,
         "2006-02-15 21:30:53",
         20050530,
         "20050606",
         1,
         null,
         "2023-05-02T15:39:23.585+0000",
         "dbfs:/FileStore/ds2002-lab06/sourcedata/stream/rental/sakila_fact_rental.json"
        ],
        [
         2.99,
         328,
         862,
         1186,
         "2006-02-15 21:30:53",
         20050530,
         "20050603",
         1,
         null,
         "2023-05-02T15:39:23.585+0000",
         "dbfs:/FileStore/ds2002-lab06/sourcedata/stream/rental/sakila_fact_rental.json"
        ],
        [
         4.99,
         379,
         863,
         3999,
         "2006-02-15 21:30:53",
         20050530,
         "20050605",
         2,
         null,
         "2023-05-02T15:39:23.585+0000",
         "dbfs:/FileStore/ds2002-lab06/sourcedata/stream/rental/sakila_fact_rental.json"
        ],
        [
         2.99,
         544,
         864,
         2777,
         "2006-02-15 21:30:53",
         20050530,
         "20050606",
         1,
         null,
         "2023-05-02T15:39:23.585+0000",
         "dbfs:/FileStore/ds2002-lab06/sourcedata/stream/rental/sakila_fact_rental.json"
        ],
        [
         7.99,
         154,
         865,
         3183,
         "2006-02-15 21:30:53",
         20050530,
         "20050607",
         2,
         null,
         "2023-05-02T15:39:23.585+0000",
         "dbfs:/FileStore/ds2002-lab06/sourcedata/stream/rental/sakila_fact_rental.json"
        ],
        [
         6.99,
         8,
         866,
         2867,
         "2006-02-15 21:30:53",
         20050530,
         "20050608",
         1,
         null,
         "2023-05-02T15:39:23.585+0000",
         "dbfs:/FileStore/ds2002-lab06/sourcedata/stream/rental/sakila_fact_rental.json"
        ],
        [
         0.99,
         99,
         867,
         3389,
         "2006-02-15 21:30:53",
         20050530,
         "20050601",
         1,
         null,
         "2023-05-02T15:39:23.585+0000",
         "dbfs:/FileStore/ds2002-lab06/sourcedata/stream/rental/sakila_fact_rental.json"
        ],
        [
         2.99,
         28,
         868,
         3604,
         "2006-02-15 21:30:53",
         20050530,
         "20050531",
         1,
         null,
         "2023-05-02T15:39:23.585+0000",
         "dbfs:/FileStore/ds2002-lab06/sourcedata/stream/rental/sakila_fact_rental.json"
        ],
        [
         4.99,
         296,
         869,
         3399,
         "2006-02-15 21:30:53",
         20050530,
         "20050603",
         2,
         null,
         "2023-05-02T15:39:23.585+0000",
         "dbfs:/FileStore/ds2002-lab06/sourcedata/stream/rental/sakila_fact_rental.json"
        ],
        [
         2.99,
         391,
         870,
         2903,
         "2006-02-15 21:30:53",
         20050530,
         "20050606",
         1,
         null,
         "2023-05-02T15:39:23.585+0000",
         "dbfs:/FileStore/ds2002-lab06/sourcedata/stream/rental/sakila_fact_rental.json"
        ],
        [
         2.99,
         303,
         871,
         4573,
         "2006-02-15 21:30:53",
         20050530,
         "20050604",
         2,
         null,
         "2023-05-02T15:39:23.585+0000",
         "dbfs:/FileStore/ds2002-lab06/sourcedata/stream/rental/sakila_fact_rental.json"
        ],
        [
         3.99,
         548,
         872,
         3904,
         "2006-02-15 21:30:53",
         20050530,
         "20050606",
         1,
         null,
         "2023-05-02T15:39:23.585+0000",
         "dbfs:/FileStore/ds2002-lab06/sourcedata/stream/rental/sakila_fact_rental.json"
        ],
        [
         2.99,
         375,
         873,
         4568,
         "2006-02-15 21:30:53",
         20050530,
         "20050607",
         2,
         null,
         "2023-05-02T15:39:23.585+0000",
         "dbfs:/FileStore/ds2002-lab06/sourcedata/stream/rental/sakila_fact_rental.json"
        ],
        [
         0.99,
         52,
         874,
         363,
         "2006-02-15 21:30:53",
         20050530,
         "20050601",
         1,
         null,
         "2023-05-02T15:39:23.585+0000",
         "dbfs:/FileStore/ds2002-lab06/sourcedata/stream/rental/sakila_fact_rental.json"
        ],
        [
         6.99,
         326,
         875,
         1428,
         "2006-02-15 21:30:53",
         20050530,
         "20050606",
         2,
         null,
         "2023-05-02T15:39:23.585+0000",
         "dbfs:/FileStore/ds2002-lab06/sourcedata/stream/rental/sakila_fact_rental.json"
        ],
        [
         5.99,
         339,
         876,
         1471,
         "2006-02-15 21:30:53",
         20050530,
         "20050607",
         2,
         null,
         "2023-05-02T15:39:23.585+0000",
         "dbfs:/FileStore/ds2002-lab06/sourcedata/stream/rental/sakila_fact_rental.json"
        ],
        [
         0.99,
         9,
         877,
         886,
         "2006-02-15 21:30:53",
         20050530,
         "20050602",
         1,
         null,
         "2023-05-02T15:39:23.585+0000",
         "dbfs:/FileStore/ds2002-lab06/sourcedata/stream/rental/sakila_fact_rental.json"
        ],
        [
         5.99,
         323,
         878,
         4265,
         "2006-02-15 21:30:53",
         20050530,
         "20050607",
         1,
         null,
         "2023-05-02T15:39:23.585+0000",
         "dbfs:/FileStore/ds2002-lab06/sourcedata/stream/rental/sakila_fact_rental.json"
        ],
        [
         0.99,
         482,
         879,
         4021,
         "2006-02-15 21:30:53",
         20050530,
         "20050605",
         2,
         null,
         "2023-05-02T15:39:23.585+0000",
         "dbfs:/FileStore/ds2002-lab06/sourcedata/stream/rental/sakila_fact_rental.json"
        ],
        [
         0.99,
         460,
         880,
         1819,
         "2006-02-15 21:30:53",
         20050530,
         "20050602",
         2,
         null,
         "2023-05-02T15:39:23.585+0000",
         "dbfs:/FileStore/ds2002-lab06/sourcedata/stream/rental/sakila_fact_rental.json"
        ],
        [
         4.99,
         242,
         881,
         602,
         "2006-02-15 21:30:53",
         20050530,
         "20050602",
         1,
         null,
         "2023-05-02T15:39:23.585+0000",
         "dbfs:/FileStore/ds2002-lab06/sourcedata/stream/rental/sakila_fact_rental.json"
        ],
        [
         2.99,
         477,
         882,
         3841,
         "2006-02-15 21:30:53",
         20050530,
         "20050602",
         1,
         null,
         "2023-05-02T15:39:23.585+0000",
         "dbfs:/FileStore/ds2002-lab06/sourcedata/stream/rental/sakila_fact_rental.json"
        ],
        [
         4.99,
         399,
         883,
         2271,
         "2006-02-15 21:30:53",
         20050530,
         "20050607",
         2,
         null,
         "2023-05-02T15:39:23.585+0000",
         "dbfs:/FileStore/ds2002-lab06/sourcedata/stream/rental/sakila_fact_rental.json"
        ],
        [
         4.99,
         17,
         884,
         4079,
         "2006-02-15 21:30:53",
         20050530,
         "20050531",
         1,
         null,
         "2023-05-02T15:39:23.585+0000",
         "dbfs:/FileStore/ds2002-lab06/sourcedata/stream/rental/sakila_fact_rental.json"
        ],
        [
         0.99,
         62,
         885,
         646,
         "2006-02-15 21:30:53",
         20050530,
         "20050603",
         2,
         null,
         "2023-05-02T15:39:23.585+0000",
         "dbfs:/FileStore/ds2002-lab06/sourcedata/stream/rental/sakila_fact_rental.json"
        ],
        [
         0.99,
         393,
         886,
         4356,
         "2006-02-15 21:30:53",
         20050530,
         "20050601",
         2,
         null,
         "2023-05-02T15:39:23.585+0000",
         "dbfs:/FileStore/ds2002-lab06/sourcedata/stream/rental/sakila_fact_rental.json"
        ],
        [
         0.99,
         16,
         887,
         2727,
         "2006-02-15 21:30:53",
         20050530,
         "20050601",
         2,
         null,
         "2023-05-02T15:39:23.585+0000",
         "dbfs:/FileStore/ds2002-lab06/sourcedata/stream/rental/sakila_fact_rental.json"
        ],
        [
         5.99,
         128,
         888,
         387,
         "2006-02-15 21:30:53",
         20050530,
         "20050606",
         1,
         null,
         "2023-05-02T15:39:23.585+0000",
         "dbfs:/FileStore/ds2002-lab06/sourcedata/stream/rental/sakila_fact_rental.json"
        ],
        [
         2.99,
         114,
         889,
         1299,
         "2006-02-15 21:30:53",
         20050530,
         "20050531",
         2,
         null,
         "2023-05-02T15:39:23.585+0000",
         "dbfs:/FileStore/ds2002-lab06/sourcedata/stream/rental/sakila_fact_rental.json"
        ],
        [
         4.99,
         349,
         890,
         1464,
         "2006-02-15 21:30:53",
         20050530,
         "20050601",
         1,
         null,
         "2023-05-02T15:39:23.585+0000",
         "dbfs:/FileStore/ds2002-lab06/sourcedata/stream/rental/sakila_fact_rental.json"
        ],
        [
         7.99,
         391,
         891,
         2611,
         "2006-02-15 21:30:53",
         20050530,
         "20050608",
         1,
         null,
         "2023-05-02T15:39:23.585+0000",
         "dbfs:/FileStore/ds2002-lab06/sourcedata/stream/rental/sakila_fact_rental.json"
        ],
        [
         4.99,
         274,
         892,
         471,
         "2006-02-15 21:30:53",
         20050530,
         "20050605",
         1,
         null,
         "2023-05-02T15:39:23.585+0000",
         "dbfs:/FileStore/ds2002-lab06/sourcedata/stream/rental/sakila_fact_rental.json"
        ],
        [
         2.99,
         502,
         893,
         3260,
         "2006-02-15 21:30:53",
         20050530,
         "20050607",
         2,
         null,
         "2023-05-02T15:39:23.585+0000",
         "dbfs:/FileStore/ds2002-lab06/sourcedata/stream/rental/sakila_fact_rental.json"
        ],
        [
         5.99,
         400,
         894,
         1118,
         "2006-02-15 21:30:53",
         20050530,
         "20050607",
         1,
         null,
         "2023-05-02T15:39:23.585+0000",
         "dbfs:/FileStore/ds2002-lab06/sourcedata/stream/rental/sakila_fact_rental.json"
        ],
        [
         1.99,
         192,
         895,
         2744,
         "2006-02-15 21:30:53",
         20050530,
         "20050605",
         1,
         null,
         "2023-05-02T15:39:23.585+0000",
         "dbfs:/FileStore/ds2002-lab06/sourcedata/stream/rental/sakila_fact_rental.json"
        ],
        [
         3.99,
         207,
         896,
         2817,
         "2006-02-15 21:30:53",
         20050530,
         "20050605",
         2,
         null,
         "2023-05-02T15:39:23.585+0000",
         "dbfs:/FileStore/ds2002-lab06/sourcedata/stream/rental/sakila_fact_rental.json"
        ],
        [
         8.99,
         432,
         897,
         1334,
         "2006-02-15 21:30:53",
         20050530,
         "20050608",
         1,
         null,
         "2023-05-02T15:39:23.585+0000",
         "dbfs:/FileStore/ds2002-lab06/sourcedata/stream/rental/sakila_fact_rental.json"
        ],
        [
         0.99,
         384,
         898,
         3497,
         "2006-02-15 21:30:53",
         20050530,
         "20050601",
         2,
         null,
         "2023-05-02T15:39:23.585+0000",
         "dbfs:/FileStore/ds2002-lab06/sourcedata/stream/rental/sakila_fact_rental.json"
        ],
        [
         6.99,
         156,
         899,
         1096,
         "2006-02-15 21:30:53",
         20050530,
         "20050606",
         2,
         null,
         "2023-05-02T15:39:23.585+0000",
         "dbfs:/FileStore/ds2002-lab06/sourcedata/stream/rental/sakila_fact_rental.json"
        ],
        [
         8.99,
         586,
         900,
         3543,
         "2006-02-15 21:30:53",
         20050530,
         "20050607",
         1,
         null,
         "2023-05-02T15:39:23.585+0000",
         "dbfs:/FileStore/ds2002-lab06/sourcedata/stream/rental/sakila_fact_rental.json"
        ],
        [
         2.99,
         259,
         901,
         760,
         "2006-02-15 21:30:53",
         20050530,
         "20050602",
         1,
         null,
         "2023-05-02T15:39:23.585+0000",
         "dbfs:/FileStore/ds2002-lab06/sourcedata/stream/rental/sakila_fact_rental.json"
        ],
        [
         4.99,
         561,
         902,
         1514,
         "2006-02-15 21:30:53",
         20050530,
         "20050607",
         1,
         null,
         "2023-05-02T15:39:23.585+0000",
         "dbfs:/FileStore/ds2002-lab06/sourcedata/stream/rental/sakila_fact_rental.json"
        ],
        [
         3.99,
         197,
         903,
         2423,
         "2006-02-15 21:30:53",
         20050530,
         "20050603",
         1,
         null,
         "2023-05-02T15:39:23.585+0000",
         "dbfs:/FileStore/ds2002-lab06/sourcedata/stream/rental/sakila_fact_rental.json"
        ],
        [
         2.99,
         44,
         904,
         2466,
         "2006-02-15 21:30:53",
         20050530,
         "20050605",
         2,
         null,
         "2023-05-02T15:39:23.585+0000",
         "dbfs:/FileStore/ds2002-lab06/sourcedata/stream/rental/sakila_fact_rental.json"
        ],
        [
         4.99,
         50,
         905,
         4372,
         "2006-02-15 21:30:53",
         20050530,
         "20050606",
         1,
         null,
         "2023-05-02T15:39:23.585+0000",
         "dbfs:/FileStore/ds2002-lab06/sourcedata/stream/rental/sakila_fact_rental.json"
        ],
        [
         3.99,
         549,
         906,
         1862,
         "2006-02-15 21:30:53",
         20050530,
         "20050607",
         2,
         null,
         "2023-05-02T15:39:23.585+0000",
         "dbfs:/FileStore/ds2002-lab06/sourcedata/stream/rental/sakila_fact_rental.json"
        ],
        [
         0.99,
         506,
         907,
         3320,
         "2006-02-15 21:30:53",
         20050530,
         "20050602",
         1,
         null,
         "2023-05-02T15:39:23.585+0000",
         "dbfs:/FileStore/ds2002-lab06/sourcedata/stream/rental/sakila_fact_rental.json"
        ],
        [
         4.99,
         85,
         908,
         4427,
         "2006-02-15 21:30:53",
         20050530,
         "20050603",
         1,
         null,
         "2023-05-02T15:39:23.585+0000",
         "dbfs:/FileStore/ds2002-lab06/sourcedata/stream/rental/sakila_fact_rental.json"
        ],
        [
         8.99,
         486,
         909,
         3775,
         "2006-02-15 21:30:53",
         20050530,
         "20050608",
         1,
         null,
         "2023-05-02T15:39:23.585+0000",
         "dbfs:/FileStore/ds2002-lab06/sourcedata/stream/rental/sakila_fact_rental.json"
        ],
        [
         2.99,
         374,
         910,
         2601,
         "2006-02-15 21:30:53",
         20050530,
         "20050604",
         1,
         null,
         "2023-05-02T15:39:23.585+0000",
         "dbfs:/FileStore/ds2002-lab06/sourcedata/stream/rental/sakila_fact_rental.json"
        ],
        [
         6.99,
         366,
         911,
         1404,
         "2006-02-15 21:30:53",
         20050530,
         "20050607",
         2,
         null,
         "2023-05-02T15:39:23.585+0000",
         "dbfs:/FileStore/ds2002-lab06/sourcedata/stream/rental/sakila_fact_rental.json"
        ],
        [
         4.99,
         390,
         912,
         3200,
         "2006-02-15 21:30:53",
         20050530,
         "20050531",
         2,
         null,
         "2023-05-02T15:39:23.585+0000",
         "dbfs:/FileStore/ds2002-lab06/sourcedata/stream/rental/sakila_fact_rental.json"
        ],
        [
         7.99,
         369,
         913,
         3213,
         "2006-02-15 21:30:53",
         20050530,
         "20050607",
         2,
         null,
         "2023-05-02T15:39:23.585+0000",
         "dbfs:/FileStore/ds2002-lab06/sourcedata/stream/rental/sakila_fact_rental.json"
        ],
        [
         2.99,
         596,
         914,
         1393,
         "2006-02-15 21:30:53",
         20050530,
         "20050604",
         2,
         null,
         "2023-05-02T15:39:23.585+0000",
         "dbfs:/FileStore/ds2002-lab06/sourcedata/stream/rental/sakila_fact_rental.json"
        ],
        [
         0.99,
         115,
         915,
         1859,
         "2006-02-15 21:30:53",
         20050530,
         "20050602",
         1,
         null,
         "2023-05-02T15:39:23.585+0000",
         "dbfs:/FileStore/ds2002-lab06/sourcedata/stream/rental/sakila_fact_rental.json"
        ],
        [
         0.99,
         6,
         916,
         1290,
         "2006-02-15 21:30:53",
         20050530,
         "20050531",
         1,
         null,
         "2023-05-02T15:39:23.585+0000",
         "dbfs:/FileStore/ds2002-lab06/sourcedata/stream/rental/sakila_fact_rental.json"
        ],
        [
         2.99,
         385,
         917,
         3629,
         "2006-02-15 21:30:53",
         20050530,
         "20050602",
         1,
         null,
         "2023-05-02T15:39:23.585+0000",
         "dbfs:/FileStore/ds2002-lab06/sourcedata/stream/rental/sakila_fact_rental.json"
        ],
        [
         0.99,
         197,
         918,
         818,
         "2006-02-15 21:30:53",
         20050530,
         "20050531",
         2,
         null,
         "2023-05-02T15:39:23.585+0000",
         "dbfs:/FileStore/ds2002-lab06/sourcedata/stream/rental/sakila_fact_rental.json"
        ],
        [
         0.99,
         374,
         919,
         4052,
         "2006-02-15 21:30:53",
         20050530,
         "20050602",
         2,
         null,
         "2023-05-02T15:39:23.585+0000",
         "dbfs:/FileStore/ds2002-lab06/sourcedata/stream/rental/sakila_fact_rental.json"
        ],
        [
         4.99,
         584,
         920,
         3860,
         "2006-02-15 21:30:53",
         20050530,
         "20050602",
         2,
         null,
         "2023-05-02T15:39:23.585+0000",
         "dbfs:/FileStore/ds2002-lab06/sourcedata/stream/rental/sakila_fact_rental.json"
        ],
        [
         2.99,
         508,
         921,
         1827,
         "2006-02-15 21:30:53",
         20050530,
         "20050603",
         2,
         null,
         "2023-05-02T15:39:23.585+0000",
         "dbfs:/FileStore/ds2002-lab06/sourcedata/stream/rental/sakila_fact_rental.json"
        ],
        [
         7.99,
         550,
         922,
         2442,
         "2006-02-15 21:30:53",
         20050530,
         "20050608",
         2,
         null,
         "2023-05-02T15:39:23.585+0000",
         "dbfs:/FileStore/ds2002-lab06/sourcedata/stream/rental/sakila_fact_rental.json"
        ],
        [
         2.99,
         37,
         923,
         1884,
         "2006-02-15 21:30:53",
         20050530,
         "20050605",
         1,
         null,
         "2023-05-02T15:39:23.585+0000",
         "dbfs:/FileStore/ds2002-lab06/sourcedata/stream/rental/sakila_fact_rental.json"
        ],
        [
         4.99,
         293,
         924,
         3279,
         "2006-02-15 21:30:53",
         20050530,
         "20050604",
         1,
         null,
         "2023-05-02T15:39:23.585+0000",
         "dbfs:/FileStore/ds2002-lab06/sourcedata/stream/rental/sakila_fact_rental.json"
        ],
        [
         2.99,
         137,
         925,
         3203,
         "2006-02-15 21:30:53",
         20050530,
         "20050602",
         2,
         null,
         "2023-05-02T15:39:23.585+0000",
         "dbfs:/FileStore/ds2002-lab06/sourcedata/stream/rental/sakila_fact_rental.json"
        ],
        [
         0.99,
         76,
         926,
         4327,
         "2006-02-15 21:30:53",
         20050530,
         "20050601",
         2,
         null,
         "2023-05-02T15:39:23.585+0000",
         "dbfs:/FileStore/ds2002-lab06/sourcedata/stream/rental/sakila_fact_rental.json"
        ],
        [
         4.99,
         167,
         927,
         1158,
         "2006-02-15 21:30:53",
         20050530,
         "20050531",
         2,
         null,
         "2023-05-02T15:39:23.585+0000",
         "dbfs:/FileStore/ds2002-lab06/sourcedata/stream/rental/sakila_fact_rental.json"
        ],
        [
         2.99,
         79,
         928,
         246,
         "2006-02-15 21:30:53",
         20050530,
         "20050605",
         2,
         null,
         "2023-05-02T15:39:23.585+0000",
         "dbfs:/FileStore/ds2002-lab06/sourcedata/stream/rental/sakila_fact_rental.json"
        ],
        [
         6.99,
         536,
         929,
         4296,
         "2006-02-15 21:30:53",
         20050530,
         "20050606",
         1,
         null,
         "2023-05-02T15:39:23.585+0000",
         "dbfs:/FileStore/ds2002-lab06/sourcedata/stream/rental/sakila_fact_rental.json"
        ],
        [
         2.99,
         141,
         930,
         2835,
         "2006-02-15 21:30:53",
         20050530,
         "20050604",
         2,
         null,
         "2023-05-02T15:39:23.585+0000",
         "dbfs:/FileStore/ds2002-lab06/sourcedata/stream/rental/sakila_fact_rental.json"
        ],
        [
         0.99,
         421,
         931,
         3384,
         "2006-02-15 21:30:53",
         20050530,
         "20050531",
         1,
         null,
         "2023-05-02T15:39:23.585+0000",
         "dbfs:/FileStore/ds2002-lab06/sourcedata/stream/rental/sakila_fact_rental.json"
        ],
        [
         2.99,
         198,
         932,
         719,
         "2006-02-15 21:30:53",
         20050530,
         "20050531",
         2,
         null,
         "2023-05-02T15:39:23.585+0000",
         "dbfs:/FileStore/ds2002-lab06/sourcedata/stream/rental/sakila_fact_rental.json"
        ],
        [
         4.99,
         66,
         933,
         3672,
         "2006-02-15 21:30:53",
         20050530,
         "20050601",
         1,
         null,
         "2023-05-02T15:39:23.585+0000",
         "dbfs:/FileStore/ds2002-lab06/sourcedata/stream/rental/sakila_fact_rental.json"
        ],
        [
         2.99,
         60,
         934,
         3595,
         "2006-02-15 21:30:53",
         20050530,
         "20050608",
         2,
         null,
         "2023-05-02T15:39:23.585+0000",
         "dbfs:/FileStore/ds2002-lab06/sourcedata/stream/rental/sakila_fact_rental.json"
        ],
        [
         2.99,
         256,
         935,
         2421,
         "2006-02-15 21:30:53",
         20050530,
         "20050602",
         1,
         null,
         "2023-05-02T15:39:23.585+0000",
         "dbfs:/FileStore/ds2002-lab06/sourcedata/stream/rental/sakila_fact_rental.json"
        ],
        [
         1.99,
         469,
         936,
         901,
         "2006-02-15 21:30:53",
         20050530,
         "20050607",
         1,
         null,
         "2023-05-02T15:39:23.585+0000",
         "dbfs:/FileStore/ds2002-lab06/sourcedata/stream/rental/sakila_fact_rental.json"
        ],
        [
         2.99,
         304,
         937,
         1054,
         "2006-02-15 21:30:53",
         20050530,
         "20050605",
         2,
         null,
         "2023-05-02T15:39:23.585+0000",
         "dbfs:/FileStore/ds2002-lab06/sourcedata/stream/rental/sakila_fact_rental.json"
        ],
        [
         2.99,
         46,
         938,
         1521,
         "2006-02-15 21:30:53",
         20050530,
         "20050604",
         2,
         null,
         "2023-05-02T15:39:23.585+0000",
         "dbfs:/FileStore/ds2002-lab06/sourcedata/stream/rental/sakila_fact_rental.json"
        ],
        [
         0.99,
         367,
         939,
         1314,
         "2006-02-15 21:30:53",
         20050530,
         "20050601",
         1,
         null,
         "2023-05-02T15:39:23.585+0000",
         "dbfs:/FileStore/ds2002-lab06/sourcedata/stream/rental/sakila_fact_rental.json"
        ],
        [
         0.99,
         534,
         940,
         1278,
         "2006-02-15 21:30:53",
         20050530,
         "20050601",
         1,
         null,
         "2023-05-02T15:39:23.585+0000",
         "dbfs:/FileStore/ds2002-lab06/sourcedata/stream/rental/sakila_fact_rental.json"
        ],
        [
         2.99,
         562,
         941,
         3630,
         "2006-02-15 21:30:53",
         20050530,
         "20050601",
         1,
         null,
         "2023-05-02T15:39:23.585+0000",
         "dbfs:/FileStore/ds2002-lab06/sourcedata/stream/rental/sakila_fact_rental.json"
        ],
        [
         2.99,
         473,
         942,
         4279,
         "2006-02-15 21:30:53",
         20050530,
         "20050608",
         2,
         null,
         "2023-05-02T15:39:23.585+0000",
         "dbfs:/FileStore/ds2002-lab06/sourcedata/stream/rental/sakila_fact_rental.json"
        ],
        [
         4.99,
         57,
         943,
         3737,
         "2006-02-15 21:30:53",
         20050530,
         "20050606",
         1,
         null,
         "2023-05-02T15:39:23.585+0000",
         "dbfs:/FileStore/ds2002-lab06/sourcedata/stream/rental/sakila_fact_rental.json"
        ],
        [
         7.99,
         131,
         944,
         151,
         "2006-02-15 21:30:53",
         20050530,
         "20050607",
         2,
         null,
         "2023-05-02T15:39:23.585+0000",
         "dbfs:/FileStore/ds2002-lab06/sourcedata/stream/rental/sakila_fact_rental.json"
        ],
        [
         0.99,
         357,
         945,
         1441,
         "2006-02-15 21:30:53",
         20050530,
         "20050602",
         2,
         null,
         "2023-05-02T15:39:23.585+0000",
         "dbfs:/FileStore/ds2002-lab06/sourcedata/stream/rental/sakila_fact_rental.json"
        ],
        [
         2.99,
         486,
         946,
         1264,
         "2006-02-15 21:30:53",
         20050530,
         "20050608",
         1,
         null,
         "2023-05-02T15:39:23.585+0000",
         "dbfs:/FileStore/ds2002-lab06/sourcedata/stream/rental/sakila_fact_rental.json"
        ],
        [
         4.99,
         62,
         947,
         4478,
         "2006-02-15 21:30:53",
         20050530,
         "20050604",
         1,
         null,
         "2023-05-02T15:39:23.585+0000",
         "dbfs:/FileStore/ds2002-lab06/sourcedata/stream/rental/sakila_fact_rental.json"
        ],
        [
         8.99,
         245,
         948,
         585,
         "2006-02-15 21:30:53",
         20050530,
         "20050608",
         2,
         null,
         "2023-05-02T15:39:23.585+0000",
         "dbfs:/FileStore/ds2002-lab06/sourcedata/stream/rental/sakila_fact_rental.json"
        ],
        [
         2.99,
         368,
         949,
         2202,
         "2006-02-15 21:30:53",
         20050530,
         "20050603",
         1,
         null,
         "2023-05-02T15:39:23.585+0000",
         "dbfs:/FileStore/ds2002-lab06/sourcedata/stream/rental/sakila_fact_rental.json"
        ],
        [
         0.99,
         83,
         950,
         491,
         "2006-02-15 21:30:53",
         20050530,
         "20050601",
         1,
         null,
         "2023-05-02T15:39:23.585+0000",
         "dbfs:/FileStore/ds2002-lab06/sourcedata/stream/rental/sakila_fact_rental.json"
        ],
        [
         2.99,
         59,
         951,
         1395,
         "2006-02-15 21:30:53",
         20050530,
         "20050531",
         2,
         null,
         "2023-05-02T15:39:23.585+0000",
         "dbfs:/FileStore/ds2002-lab06/sourcedata/stream/rental/sakila_fact_rental.json"
        ],
        [
         2.99,
         311,
         952,
         4389,
         "2006-02-15 21:30:53",
         20050530,
         "20050602",
         2,
         null,
         "2023-05-02T15:39:23.585+0000",
         "dbfs:/FileStore/ds2002-lab06/sourcedata/stream/rental/sakila_fact_rental.json"
        ],
        [
         2.99,
         210,
         953,
         2194,
         "2006-02-15 21:30:53",
         20050530,
         "20050531",
         1,
         null,
         "2023-05-02T15:39:23.585+0000",
         "dbfs:/FileStore/ds2002-lab06/sourcedata/stream/rental/sakila_fact_rental.json"
        ],
        [
         3.99,
         297,
         954,
         1231,
         "2006-02-15 21:30:53",
         20050530,
         "20050608",
         2,
         null,
         "2023-05-02T15:39:23.585+0000",
         "dbfs:/FileStore/ds2002-lab06/sourcedata/stream/rental/sakila_fact_rental.json"
        ],
        [
         0.99,
         301,
         955,
         4140,
         "2006-02-15 21:30:53",
         20050530,
         "20050531",
         2,
         null,
         "2023-05-02T15:39:23.585+0000",
         "dbfs:/FileStore/ds2002-lab06/sourcedata/stream/rental/sakila_fact_rental.json"
        ],
        [
         2.99,
         296,
         956,
         647,
         "2006-02-15 21:30:53",
         20050530,
         "20050607",
         2,
         null,
         "2023-05-02T15:39:23.585+0000",
         "dbfs:/FileStore/ds2002-lab06/sourcedata/stream/rental/sakila_fact_rental.json"
        ],
        [
         4.99,
         440,
         957,
         4428,
         "2006-02-15 21:30:53",
         20050530,
         "20050603",
         2,
         null,
         "2023-05-02T15:39:23.585+0000",
         "dbfs:/FileStore/ds2002-lab06/sourcedata/stream/rental/sakila_fact_rental.json"
        ],
        [
         0.99,
         186,
         958,
         548,
         "2006-02-15 21:30:53",
         20050530,
         "20050601",
         2,
         null,
         "2023-05-02T15:39:23.585+0000",
         "dbfs:/FileStore/ds2002-lab06/sourcedata/stream/rental/sakila_fact_rental.json"
        ],
        [
         4.99,
         535,
         959,
         3108,
         "2006-02-15 21:30:53",
         20050530,
         "20050602",
         2,
         null,
         "2023-05-02T15:39:23.585+0000",
         "dbfs:/FileStore/ds2002-lab06/sourcedata/stream/rental/sakila_fact_rental.json"
        ],
        [
         2.99,
         445,
         960,
         1966,
         "2006-02-15 21:30:53",
         20050530,
         "20050604",
         2,
         null,
         "2023-05-02T15:39:23.585+0000",
         "dbfs:/FileStore/ds2002-lab06/sourcedata/stream/rental/sakila_fact_rental.json"
        ],
        [
         4.99,
         588,
         961,
         3293,
         "2006-02-15 21:30:53",
         20050530,
         "20050604",
         2,
         null,
         "2023-05-02T15:39:23.585+0000",
         "dbfs:/FileStore/ds2002-lab06/sourcedata/stream/rental/sakila_fact_rental.json"
        ],
        [
         6.99,
         520,
         962,
         4535,
         "2006-02-15 21:30:53",
         20050530,
         "20050605",
         1,
         null,
         "2023-05-02T15:39:23.585+0000",
         "dbfs:/FileStore/ds2002-lab06/sourcedata/stream/rental/sakila_fact_rental.json"
        ],
        [
         3.99,
         225,
         963,
         1921,
         "2006-02-15 21:30:53",
         20050530,
         "20050607",
         2,
         null,
         "2023-05-02T15:39:23.585+0000",
         "dbfs:/FileStore/ds2002-lab06/sourcedata/stream/rental/sakila_fact_rental.json"
        ],
        [
         2.99,
         287,
         964,
         657,
         "2006-02-15 21:30:53",
         20050530,
         "20050604",
         2,
         null,
         "2023-05-02T15:39:23.585+0000",
         "dbfs:/FileStore/ds2002-lab06/sourcedata/stream/rental/sakila_fact_rental.json"
        ],
        [
         0.99,
         502,
         965,
         3363,
         "2006-02-15 21:30:53",
         20050530,
         "20050531",
         2,
         null,
         "2023-05-02T15:39:23.585+0000",
         "dbfs:/FileStore/ds2002-lab06/sourcedata/stream/rental/sakila_fact_rental.json"
        ],
        [
         0.99,
         496,
         966,
         1294,
         "2006-02-15 21:30:53",
         20050530,
         "20050531",
         1,
         null,
         "2023-05-02T15:39:23.585+0000",
         "dbfs:/FileStore/ds2002-lab06/sourcedata/stream/rental/sakila_fact_rental.json"
        ],
        [
         7.99,
         330,
         967,
         1954,
         "2006-02-15 21:30:53",
         20050530,
         "20050609",
         2,
         null,
         "2023-05-02T15:39:23.585+0000",
         "dbfs:/FileStore/ds2002-lab06/sourcedata/stream/rental/sakila_fact_rental.json"
        ],
        [
         0.99,
         576,
         968,
         119,
         "2006-02-15 21:30:53",
         20050530,
         "20050531",
         2,
         null,
         "2023-05-02T15:39:23.585+0000",
         "dbfs:/FileStore/ds2002-lab06/sourcedata/stream/rental/sakila_fact_rental.json"
        ],
        [
         4.99,
         551,
         969,
         443,
         "2006-02-15 21:30:53",
         20050530,
         "20050531",
         1,
         null,
         "2023-05-02T15:39:23.585+0000",
         "dbfs:/FileStore/ds2002-lab06/sourcedata/stream/rental/sakila_fact_rental.json"
        ],
        [
         6.99,
         307,
         970,
         1520,
         "2006-02-15 21:30:53",
         20050530,
         "20050609",
         1,
         null,
         "2023-05-02T15:39:23.585+0000",
         "dbfs:/FileStore/ds2002-lab06/sourcedata/stream/rental/sakila_fact_rental.json"
        ],
        [
         4.99,
         561,
         971,
         2911,
         "2006-02-15 21:30:53",
         20050530,
         "20050606",
         1,
         null,
         "2023-05-02T15:39:23.585+0000",
         "dbfs:/FileStore/ds2002-lab06/sourcedata/stream/rental/sakila_fact_rental.json"
        ],
        [
         1.99,
         411,
         972,
         2,
         "2006-02-15 21:30:53",
         20050530,
         "20050606",
         1,
         null,
         "2023-05-02T15:39:23.585+0000",
         "dbfs:/FileStore/ds2002-lab06/sourcedata/stream/rental/sakila_fact_rental.json"
        ],
        [
         3.99,
         473,
         973,
         1914,
         "2006-02-15 21:30:53",
         20050530,
         "20050608",
         2,
         null,
         "2023-05-02T15:39:23.585+0000",
         "dbfs:/FileStore/ds2002-lab06/sourcedata/stream/rental/sakila_fact_rental.json"
        ],
        [
         6.99,
         596,
         974,
         2617,
         "2006-02-15 21:30:53",
         20050530,
         "20050608",
         2,
         null,
         "2023-05-02T15:39:23.585+0000",
         "dbfs:/FileStore/ds2002-lab06/sourcedata/stream/rental/sakila_fact_rental.json"
        ],
        [
         4.99,
         7,
         975,
         3109,
         "2006-02-15 21:30:53",
         20050530,
         "20050603",
         2,
         null,
         "2023-05-02T15:39:23.585+0000",
         "dbfs:/FileStore/ds2002-lab06/sourcedata/stream/rental/sakila_fact_rental.json"
        ],
        [
         4.99,
         581,
         976,
         2290,
         "2006-02-15 21:30:53",
         20050530,
         "20050606",
         2,
         null,
         "2023-05-02T15:39:23.585+0000",
         "dbfs:/FileStore/ds2002-lab06/sourcedata/stream/rental/sakila_fact_rental.json"
        ],
        [
         2.99,
         394,
         977,
         2029,
         "2006-02-15 21:30:53",
         20050530,
         "20050604",
         2,
         null,
         "2023-05-02T15:39:23.585+0000",
         "dbfs:/FileStore/ds2002-lab06/sourcedata/stream/rental/sakila_fact_rental.json"
        ],
        [
         5.99,
         154,
         978,
         407,
         "2006-02-15 21:30:53",
         20050530,
         "20050607",
         1,
         null,
         "2023-05-02T15:39:23.585+0000",
         "dbfs:/FileStore/ds2002-lab06/sourcedata/stream/rental/sakila_fact_rental.json"
        ],
        [
         2.99,
         279,
         979,
         3917,
         "2006-02-15 21:30:53",
         20050530,
         "20050608",
         2,
         null,
         "2023-05-02T15:39:23.585+0000",
         "dbfs:/FileStore/ds2002-lab06/sourcedata/stream/rental/sakila_fact_rental.json"
        ],
        [
         0.99,
         273,
         980,
         4169,
         "2006-02-15 21:30:53",
         20050530,
         "20050601",
         1,
         null,
         "2023-05-02T15:39:23.585+0000",
         "dbfs:/FileStore/ds2002-lab06/sourcedata/stream/rental/sakila_fact_rental.json"
        ],
        [
         4.99,
         326,
         981,
         2913,
         "2006-02-15 21:30:53",
         20050530,
         "20050601",
         2,
         null,
         "2023-05-02T15:39:23.585+0000",
         "dbfs:/FileStore/ds2002-lab06/sourcedata/stream/rental/sakila_fact_rental.json"
        ],
        [
         4.99,
         524,
         982,
         3560,
         "2006-02-15 21:30:53",
         20050530,
         "20050602",
         1,
         null,
         "2023-05-02T15:39:23.585+0000",
         "dbfs:/FileStore/ds2002-lab06/sourcedata/stream/rental/sakila_fact_rental.json"
        ],
        [
         0.99,
         115,
         983,
         63,
         "2006-02-15 21:30:53",
         20050530,
         "20050602",
         1,
         null,
         "2023-05-02T15:39:23.585+0000",
         "dbfs:/FileStore/ds2002-lab06/sourcedata/stream/rental/sakila_fact_rental.json"
        ],
        [
         4.99,
         262,
         984,
         2305,
         "2006-02-15 21:30:53",
         20050530,
         "20050601",
         2,
         null,
         "2023-05-02T15:39:23.585+0000",
         "dbfs:/FileStore/ds2002-lab06/sourcedata/stream/rental/sakila_fact_rental.json"
        ],
        [
         2.99,
         564,
         985,
         1573,
         "2006-02-15 21:30:53",
         20050530,
         "20050604",
         1,
         null,
         "2023-05-02T15:39:23.585+0000",
         "dbfs:/FileStore/ds2002-lab06/sourcedata/stream/rental/sakila_fact_rental.json"
        ],
        [
         2.99,
         253,
         986,
         4045,
         "2006-02-15 21:30:53",
         20050530,
         "20050601",
         1,
         null,
         "2023-05-02T15:39:23.585+0000",
         "dbfs:/FileStore/ds2002-lab06/sourcedata/stream/rental/sakila_fact_rental.json"
        ],
        [
         6.99,
         11,
         987,
         390,
         "2006-02-15 21:30:53",
         20050530,
         "20050607",
         1,
         null,
         "2023-05-02T15:39:23.585+0000",
         "dbfs:/FileStore/ds2002-lab06/sourcedata/stream/rental/sakila_fact_rental.json"
        ],
        [
         4.99,
         12,
         988,
         1364,
         "2006-02-15 21:30:53",
         20050530,
         "20050607",
         1,
         null,
         "2023-05-02T15:39:23.585+0000",
         "dbfs:/FileStore/ds2002-lab06/sourcedata/stream/rental/sakila_fact_rental.json"
        ],
        [
         2.99,
         83,
         989,
         4388,
         "2006-02-15 21:30:53",
         20050530,
         "20050603",
         2,
         null,
         "2023-05-02T15:39:23.585+0000",
         "dbfs:/FileStore/ds2002-lab06/sourcedata/stream/rental/sakila_fact_rental.json"
        ],
        [
         3.99,
         311,
         990,
         4171,
         "2006-02-15 21:30:53",
         20050530,
         "20050606",
         2,
         null,
         "2023-05-02T15:39:23.585+0000",
         "dbfs:/FileStore/ds2002-lab06/sourcedata/stream/rental/sakila_fact_rental.json"
        ],
        [
         8.99,
         593,
         991,
         2863,
         "2006-02-15 21:30:53",
         20050530,
         "20050607",
         1,
         null,
         "2023-05-02T15:39:23.585+0000",
         "dbfs:/FileStore/ds2002-lab06/sourcedata/stream/rental/sakila_fact_rental.json"
        ],
        [
         2.99,
         123,
         992,
         3572,
         "2006-02-15 21:30:53",
         20050530,
         "20050605",
         1,
         null,
         "2023-05-02T15:39:23.585+0000",
         "dbfs:/FileStore/ds2002-lab06/sourcedata/stream/rental/sakila_fact_rental.json"
        ],
        [
         4.99,
         513,
         993,
         2080,
         "2006-02-15 21:30:53",
         20050530,
         "20050604",
         1,
         null,
         "2023-05-02T15:39:23.585+0000",
         "dbfs:/FileStore/ds2002-lab06/sourcedata/stream/rental/sakila_fact_rental.json"
        ],
        [
         4.99,
         472,
         994,
         2798,
         "2006-02-15 21:30:53",
         20050530,
         "20050604",
         2,
         null,
         "2023-05-02T15:39:23.585+0000",
         "dbfs:/FileStore/ds2002-lab06/sourcedata/stream/rental/sakila_fact_rental.json"
        ],
        [
         3.99,
         150,
         995,
         17,
         "2006-02-15 21:30:53",
         20050531,
         "20050606",
         2,
         null,
         "2023-05-02T15:39:23.585+0000",
         "dbfs:/FileStore/ds2002-lab06/sourcedata/stream/rental/sakila_fact_rental.json"
        ],
        [
         2.99,
         331,
         996,
         2075,
         "2006-02-15 21:30:53",
         20050531,
         "20050531",
         2,
         null,
         "2023-05-02T15:39:23.585+0000",
         "dbfs:/FileStore/ds2002-lab06/sourcedata/stream/rental/sakila_fact_rental.json"
        ],
        [
         4.99,
         216,
         997,
         4243,
         "2006-02-15 21:30:53",
         20050531,
         "20050602",
         2,
         null,
         "2023-05-02T15:39:23.585+0000",
         "dbfs:/FileStore/ds2002-lab06/sourcedata/stream/rental/sakila_fact_rental.json"
        ],
        [
         4.99,
         389,
         998,
         3395,
         "2006-02-15 21:30:53",
         20050531,
         "20050601",
         1,
         null,
         "2023-05-02T15:39:23.585+0000",
         "dbfs:/FileStore/ds2002-lab06/sourcedata/stream/rental/sakila_fact_rental.json"
        ],
        [
         4.99,
         413,
         999,
         4433,
         "2006-02-15 21:30:53",
         20050531,
         "20050603",
         2,
         null,
         "2023-05-02T15:39:23.585+0000",
         "dbfs:/FileStore/ds2002-lab06/sourcedata/stream/rental/sakila_fact_rental.json"
        ],
        [
         6.99,
         332,
         1000,
         1774,
         "2006-02-15 21:30:53",
         20050531,
         "20050608",
         2,
         null,
         "2023-05-02T15:39:23.585+0000",
         "dbfs:/FileStore/ds2002-lab06/sourcedata/stream/rental/sakila_fact_rental.json"
        ],
        [
         2.99,
         64,
         1001,
         1498,
         "2006-02-15 21:30:53",
         20050531,
         "20050606",
         2,
         null,
         "2023-05-02T15:39:23.585+0000",
         "dbfs:/FileStore/ds2002-lab06/sourcedata/stream/rental/sakila_fact_rental.json"
        ]
       ],
       "datasetInfos": [],
       "dbfsResultPath": null,
       "isJsonSchema": true,
       "metadata": {},
       "overflow": false,
       "plotOptions": {
        "customPlotOptions": {},
        "displayType": "table",
        "pivotAggregation": null,
        "pivotColumns": null,
        "xColumns": null,
        "yColumns": null
       },
       "removedWidgets": [],
       "schema": [
        {
         "metadata": "{}",
         "name": "amount",
         "type": "\"double\""
        },
        {
         "metadata": "{}",
         "name": "customer_key",
         "type": "\"long\""
        },
        {
         "metadata": "{}",
         "name": "fact_rental_key",
         "type": "\"long\""
        },
        {
         "metadata": "{}",
         "name": "inventory_key",
         "type": "\"long\""
        },
        {
         "metadata": "{}",
         "name": "last_update",
         "type": "\"string\""
        },
        {
         "metadata": "{}",
         "name": "rental_date_key",
         "type": "\"long\""
        },
        {
         "metadata": "{}",
         "name": "return_date_key",
         "type": "\"decimal(10,0)\""
        },
        {
         "metadata": "{}",
         "name": "staff_key",
         "type": "\"long\""
        },
        {
         "metadata": "{}",
         "name": "_rescued_data",
         "type": "\"string\""
        },
        {
         "metadata": "{}",
         "name": "receipt_time",
         "type": "\"timestamp\""
        },
        {
         "metadata": "{}",
         "name": "source_file",
         "type": "\"string\""
        }
       ],
       "type": "table"
      }
     },
     "output_type": "display_data"
    }
   ],
   "source": [
    "%sql\n",
    "SELECT * FROM rental_bronze_tempview LIMIT 5"
   ]
  },
  {
   "cell_type": "code",
   "execution_count": 0,
   "metadata": {
    "application/vnd.databricks.v1+cell": {
     "cellMetadata": {
      "byteLimit": 2048000,
      "rowLimit": 10000
     },
     "inputWidgets": {},
     "nuid": "5dbc6e51-9235-406f-8329-b2c8226c34c2",
     "showTitle": false,
     "title": ""
    }
   },
   "outputs": [
    {
     "output_type": "stream",
     "name": "stdout",
     "output_type": "stream",
     "text": [
      "Out[42]: <pyspark.sql.streaming.query.StreamingQuery at 0x7f65c8872550>"
     ]
    }
   ],
   "source": [
    "(spark.table(\"rental_bronze_tempview\")\n",
    "      .writeStream\n",
    "      .format(\"delta\")\n",
    "      .option(\"checkpointLocation\", f\"{rental_output_bronze}/_checkpoint\")\n",
    "      .outputMode(\"append\")\n",
    "      .table(\"fact_rental_bronze\"))"
   ]
  },
  {
   "cell_type": "code",
   "execution_count": 0,
   "metadata": {
    "application/vnd.databricks.v1+cell": {
     "cellMetadata": {},
     "inputWidgets": {},
     "nuid": "01e9bb0e-aeb1-4718-b05f-5b1d95156f95",
     "showTitle": false,
     "title": ""
    }
   },
   "outputs": [],
   "source": [
    "# silver table: include reference data"
   ]
  },
  {
   "cell_type": "code",
   "execution_count": 0,
   "metadata": {
    "application/vnd.databricks.v1+cell": {
     "cellMetadata": {
      "byteLimit": 2048000,
      "rowLimit": 10000
     },
     "inputWidgets": {},
     "nuid": "70439790-c9aa-4c41-9423-743780df19f0",
     "showTitle": false,
     "title": ""
    }
   },
   "outputs": [],
   "source": [
    "(spark.readStream\n",
    "  .table(\"fact_rental_bronze\")\n",
    "  .createOrReplaceTempView(\"rental_silver_tempview\"))"
   ]
  },
  {
   "cell_type": "code",
   "execution_count": 0,
   "metadata": {
    "application/vnd.databricks.v1+cell": {
     "cellMetadata": {
      "byteLimit": 2048000,
      "implicitDf": true,
      "rowLimit": 10000
     },
     "inputWidgets": {},
     "nuid": "430e436b-544f-4230-9198-9d38f9da3abe",
     "showTitle": false,
     "title": ""
    }
   },
   "outputs": [
    {
     "output_type": "display_data",
     "data": {
      "text/html": [
       "<style scoped>\n",
       "  .table-result-container {\n",
       "    max-height: 300px;\n",
       "    overflow: auto;\n",
       "  }\n",
       "  table, th, td {\n",
       "    border: 1px solid black;\n",
       "    border-collapse: collapse;\n",
       "  }\n",
       "  th, td {\n",
       "    padding: 5px;\n",
       "  }\n",
       "  th {\n",
       "    text-align: left;\n",
       "  }\n",
       "</style><div class='table-result-container'><table class='table-result'><thead style='background-color: white'><tr><th>amount</th><th>customer_key</th><th>fact_rental_key</th><th>inventory_key</th><th>last_update</th><th>rental_date_key</th><th>return_date_key</th><th>staff_key</th><th>_rescued_data</th><th>receipt_time</th><th>source_file</th></tr></thead><tbody><tr><td>2.99</td><td>130</td><td>1</td><td>367</td><td>2006-02-15 21:30:53</td><td>20050524</td><td>20050526</td><td>1</td><td>null</td><td>2023-05-02T15:40:41.873+0000</td><td>dbfs:/FileStore/ds2002-lab06/sourcedata/stream/rental/sakila_fact_rental.json</td></tr><tr><td>2.99</td><td>459</td><td>2</td><td>1525</td><td>2006-02-15 21:30:53</td><td>20050524</td><td>20050528</td><td>1</td><td>null</td><td>2023-05-02T15:40:41.873+0000</td><td>dbfs:/FileStore/ds2002-lab06/sourcedata/stream/rental/sakila_fact_rental.json</td></tr><tr><td>3.99</td><td>408</td><td>3</td><td>1711</td><td>2006-02-15 21:30:53</td><td>20050524</td><td>20050601</td><td>1</td><td>null</td><td>2023-05-02T15:40:41.873+0000</td><td>dbfs:/FileStore/ds2002-lab06/sourcedata/stream/rental/sakila_fact_rental.json</td></tr><tr><td>4.99</td><td>333</td><td>4</td><td>2452</td><td>2006-02-15 21:30:53</td><td>20050524</td><td>20050603</td><td>2</td><td>null</td><td>2023-05-02T15:40:41.873+0000</td><td>dbfs:/FileStore/ds2002-lab06/sourcedata/stream/rental/sakila_fact_rental.json</td></tr><tr><td>6.99</td><td>222</td><td>5</td><td>2079</td><td>2006-02-15 21:30:53</td><td>20050524</td><td>20050602</td><td>1</td><td>null</td><td>2023-05-02T15:40:41.873+0000</td><td>dbfs:/FileStore/ds2002-lab06/sourcedata/stream/rental/sakila_fact_rental.json</td></tr></tbody></table></div>"
      ]
     },
     "metadata": {
      "application/vnd.databricks.v1+output": {
       "addedWidgets": {},
       "aggData": [],
       "aggError": "",
       "aggOverflow": false,
       "aggSchema": [],
       "aggSeriesLimitReached": false,
       "aggType": "",
       "arguments": {},
       "columnCustomDisplayInfos": {},
       "data": [
        [
         2.99,
         130,
         1,
         367,
         "2006-02-15 21:30:53",
         20050524,
         "20050526",
         1,
         null,
         "2023-05-02T15:40:41.873+0000",
         "dbfs:/FileStore/ds2002-lab06/sourcedata/stream/rental/sakila_fact_rental.json"
        ],
        [
         2.99,
         459,
         2,
         1525,
         "2006-02-15 21:30:53",
         20050524,
         "20050528",
         1,
         null,
         "2023-05-02T15:40:41.873+0000",
         "dbfs:/FileStore/ds2002-lab06/sourcedata/stream/rental/sakila_fact_rental.json"
        ],
        [
         3.99,
         408,
         3,
         1711,
         "2006-02-15 21:30:53",
         20050524,
         "20050601",
         1,
         null,
         "2023-05-02T15:40:41.873+0000",
         "dbfs:/FileStore/ds2002-lab06/sourcedata/stream/rental/sakila_fact_rental.json"
        ],
        [
         4.99,
         333,
         4,
         2452,
         "2006-02-15 21:30:53",
         20050524,
         "20050603",
         2,
         null,
         "2023-05-02T15:40:41.873+0000",
         "dbfs:/FileStore/ds2002-lab06/sourcedata/stream/rental/sakila_fact_rental.json"
        ],
        [
         6.99,
         222,
         5,
         2079,
         "2006-02-15 21:30:53",
         20050524,
         "20050602",
         1,
         null,
         "2023-05-02T15:40:41.873+0000",
         "dbfs:/FileStore/ds2002-lab06/sourcedata/stream/rental/sakila_fact_rental.json"
        ]
       ],
       "datasetInfos": [],
       "dbfsResultPath": null,
       "isJsonSchema": true,
       "metadata": {
        "isDbfsCommandResult": false
       },
       "overflow": false,
       "plotOptions": {
        "customPlotOptions": {},
        "displayType": "table",
        "pivotAggregation": null,
        "pivotColumns": null,
        "xColumns": null,
        "yColumns": null
       },
       "removedWidgets": [],
       "schema": [
        {
         "metadata": "{}",
         "name": "amount",
         "type": "\"double\""
        },
        {
         "metadata": "{}",
         "name": "customer_key",
         "type": "\"long\""
        },
        {
         "metadata": "{}",
         "name": "fact_rental_key",
         "type": "\"long\""
        },
        {
         "metadata": "{}",
         "name": "inventory_key",
         "type": "\"long\""
        },
        {
         "metadata": "{}",
         "name": "last_update",
         "type": "\"string\""
        },
        {
         "metadata": "{}",
         "name": "rental_date_key",
         "type": "\"long\""
        },
        {
         "metadata": "{}",
         "name": "return_date_key",
         "type": "\"decimal(10,0)\""
        },
        {
         "metadata": "{}",
         "name": "staff_key",
         "type": "\"long\""
        },
        {
         "metadata": "{}",
         "name": "_rescued_data",
         "type": "\"string\""
        },
        {
         "metadata": "{}",
         "name": "receipt_time",
         "type": "\"timestamp\""
        },
        {
         "metadata": "{}",
         "name": "source_file",
         "type": "\"string\""
        }
       ],
       "type": "table"
      }
     },
     "output_type": "display_data"
    }
   ],
   "source": [
    "%sql\n",
    "SELECT * FROM rental_silver_tempview LIMIT 5"
   ]
  },
  {
   "cell_type": "code",
   "execution_count": 0,
   "metadata": {
    "application/vnd.databricks.v1+cell": {
     "cellMetadata": {
      "byteLimit": 2048000,
      "implicitDf": true,
      "rowLimit": 10000
     },
     "inputWidgets": {},
     "nuid": "cf6107b8-81bd-4266-b6e7-c78e9d1b8841",
     "showTitle": false,
     "title": ""
    }
   },
   "outputs": [
    {
     "output_type": "display_data",
     "data": {
      "text/html": [
       "<style scoped>\n",
       "  .table-result-container {\n",
       "    max-height: 300px;\n",
       "    overflow: auto;\n",
       "  }\n",
       "  table, th, td {\n",
       "    border: 1px solid black;\n",
       "    border-collapse: collapse;\n",
       "  }\n",
       "  th, td {\n",
       "    padding: 5px;\n",
       "  }\n",
       "  th {\n",
       "    text-align: left;\n",
       "  }\n",
       "</style><div class='table-result-container'><table class='table-result'><thead style='background-color: white'><tr><th>col_name</th><th>data_type</th><th>comment</th></tr></thead><tbody><tr><td>amount</td><td>double</td><td>null</td></tr><tr><td>customer_key</td><td>bigint</td><td>null</td></tr><tr><td>fact_rental_key</td><td>bigint</td><td>null</td></tr><tr><td>inventory_key</td><td>bigint</td><td>null</td></tr><tr><td>last_update</td><td>string</td><td>null</td></tr><tr><td>rental_date_key</td><td>bigint</td><td>null</td></tr><tr><td>return_date_key</td><td>decimal(10,0)</td><td>null</td></tr><tr><td>staff_key</td><td>bigint</td><td>null</td></tr><tr><td>_rescued_data</td><td>string</td><td>null</td></tr><tr><td>receipt_time</td><td>timestamp</td><td>null</td></tr><tr><td>source_file</td><td>string</td><td>null</td></tr></tbody></table></div>"
      ]
     },
     "metadata": {
      "application/vnd.databricks.v1+output": {
       "addedWidgets": {},
       "aggData": [],
       "aggError": "",
       "aggOverflow": false,
       "aggSchema": [],
       "aggSeriesLimitReached": false,
       "aggType": "",
       "arguments": {},
       "columnCustomDisplayInfos": {},
       "data": [
        [
         "amount",
         "double",
         null
        ],
        [
         "customer_key",
         "bigint",
         null
        ],
        [
         "fact_rental_key",
         "bigint",
         null
        ],
        [
         "inventory_key",
         "bigint",
         null
        ],
        [
         "last_update",
         "string",
         null
        ],
        [
         "rental_date_key",
         "bigint",
         null
        ],
        [
         "return_date_key",
         "decimal(10,0)",
         null
        ],
        [
         "staff_key",
         "bigint",
         null
        ],
        [
         "_rescued_data",
         "string",
         null
        ],
        [
         "receipt_time",
         "timestamp",
         null
        ],
        [
         "source_file",
         "string",
         null
        ]
       ],
       "datasetInfos": [],
       "dbfsResultPath": null,
       "isJsonSchema": true,
       "metadata": {},
       "overflow": false,
       "plotOptions": {
        "customPlotOptions": {},
        "displayType": "table",
        "pivotAggregation": null,
        "pivotColumns": null,
        "xColumns": null,
        "yColumns": null
       },
       "removedWidgets": [],
       "schema": [
        {
         "metadata": "{\"comment\":\"name of the column\"}",
         "name": "col_name",
         "type": "\"string\""
        },
        {
         "metadata": "{\"comment\":\"data type of the column\"}",
         "name": "data_type",
         "type": "\"string\""
        },
        {
         "metadata": "{\"comment\":\"comment of the column\"}",
         "name": "comment",
         "type": "\"string\""
        }
       ],
       "type": "table"
      }
     },
     "output_type": "display_data"
    }
   ],
   "source": [
    "%sql\n",
    "DESCRIBE EXTENDED rental_silver_tempview "
   ]
  },
  {
   "cell_type": "code",
   "execution_count": 0,
   "metadata": {
    "application/vnd.databricks.v1+cell": {
     "cellMetadata": {
      "byteLimit": 2048000,
      "implicitDf": true,
      "rowLimit": 10000
     },
     "inputWidgets": {},
     "nuid": "059c9de9-fb29-4652-b918-8820bed7db35",
     "showTitle": false,
     "title": ""
    }
   },
   "outputs": [
    {
     "output_type": "display_data",
     "data": {
      "text/html": [
       "<style scoped>\n",
       "  .table-result-container {\n",
       "    max-height: 300px;\n",
       "    overflow: auto;\n",
       "  }\n",
       "  table, th, td {\n",
       "    border: 1px solid black;\n",
       "    border-collapse: collapse;\n",
       "  }\n",
       "  th, td {\n",
       "    padding: 5px;\n",
       "  }\n",
       "  th {\n",
       "    text-align: left;\n",
       "  }\n",
       "</style><div class='table-result-container'><table class='table-result'><thead style='background-color: white'><tr></tr></thead><tbody></tbody></table></div>"
      ]
     },
     "metadata": {
      "application/vnd.databricks.v1+output": {
       "addedWidgets": {},
       "aggData": [],
       "aggError": "",
       "aggOverflow": false,
       "aggSchema": [],
       "aggSeriesLimitReached": false,
       "aggType": "",
       "arguments": {},
       "columnCustomDisplayInfos": {},
       "data": [],
       "datasetInfos": [],
       "dbfsResultPath": null,
       "isJsonSchema": true,
       "metadata": {},
       "overflow": false,
       "plotOptions": {
        "customPlotOptions": {},
        "displayType": "table",
        "pivotAggregation": null,
        "pivotColumns": null,
        "xColumns": null,
        "yColumns": null
       },
       "removedWidgets": [],
       "schema": [],
       "type": "table"
      }
     },
     "output_type": "display_data"
    }
   ],
   "source": [
    "%sql\n",
    "CREATE OR REPLACE TEMPORARY VIEW fact_rental_silver_tempview AS (\n",
    "  SELECT r.fact_rental_key,\n",
    "      r.inventory_key,\n",
    "      i.rental_rate,\n",
    "      i.film_id AS film,\n",
    "      r.customer_key,\n",
    "      c.store_id AS store,\n",
    "      c.first_name AS customer_first_name,\n",
    "      c.last_name AS customer_last_name,\n",
    "      r.staff_key,\n",
    "      s.first_name AS staff_first_name,\n",
    "      s.last_name AS staff_last_name,\n",
    "      r.amount,\n",
    "      r.last_update,\n",
    "      r.rental_date_key,\n",
    "      r.return_date_key\n",
    "  FROM rental_silver_tempview AS r\n",
    "  INNER JOIN sakila_dlh.dim_inventory AS i\n",
    "  ON i.inventory_key = r.inventory_key\n",
    "  INNER JOIN sakila_dlh.dim_customer AS c\n",
    "  ON c.customer_key = r.customer_key\n",
    "  INNER JOIN sakila_dlh.dim_staff AS s\n",
    "  ON s.staff_key = r.staff_key\n",
    ")"
   ]
  },
  {
   "cell_type": "code",
   "execution_count": 0,
   "metadata": {
    "application/vnd.databricks.v1+cell": {
     "cellMetadata": {
      "byteLimit": 2048000,
      "rowLimit": 10000
     },
     "inputWidgets": {},
     "nuid": "fefec0ed-9045-43a9-84d8-98895efad231",
     "showTitle": false,
     "title": ""
    }
   },
   "outputs": [
    {
     "output_type": "stream",
     "name": "stdout",
     "output_type": "stream",
     "text": [
      "Out[52]: <pyspark.sql.streaming.query.StreamingQuery at 0x7f65c1cc21f0>"
     ]
    }
   ],
   "source": [
    "(spark.table(\"fact_rental_silver_tempview\")\n",
    "      .writeStream\n",
    "      .format(\"delta\")\n",
    "      .option(\"checkpointLocation\", f\"{rental_output_silver}/_checkpoint\")\n",
    "      .outputMode(\"append\")\n",
    "      .table(\"fact_rental_silver\"))"
   ]
  },
  {
   "cell_type": "code",
   "execution_count": 0,
   "metadata": {
    "application/vnd.databricks.v1+cell": {
     "cellMetadata": {
      "byteLimit": 2048000,
      "implicitDf": true,
      "rowLimit": 10000
     },
     "inputWidgets": {},
     "nuid": "01511704-a352-4fcf-bd02-31b7a9d5680e",
     "showTitle": false,
     "title": ""
    }
   },
   "outputs": [
    {
     "output_type": "display_data",
     "data": {
      "text/html": [
       "<style scoped>\n",
       "  .table-result-container {\n",
       "    max-height: 300px;\n",
       "    overflow: auto;\n",
       "  }\n",
       "  table, th, td {\n",
       "    border: 1px solid black;\n",
       "    border-collapse: collapse;\n",
       "  }\n",
       "  th, td {\n",
       "    padding: 5px;\n",
       "  }\n",
       "  th {\n",
       "    text-align: left;\n",
       "  }\n",
       "</style><div class='table-result-container'><table class='table-result'><thead style='background-color: white'><tr><th>fact_rental_key</th><th>inventory_key</th><th>rental_rate</th><th>film</th><th>customer_key</th><th>store</th><th>customer_first_name</th><th>customer_last_name</th><th>staff_key</th><th>staff_first_name</th><th>staff_last_name</th><th>amount</th><th>last_update</th><th>rental_date_key</th><th>return_date_key</th></tr></thead><tbody><tr><td>1</td><td>367</td><td>2.99</td><td>80</td><td>130</td><td>1</td><td>CHARLOTTE</td><td>HUNTER</td><td>1</td><td>Mike</td><td>Hillyer</td><td>2.99</td><td>2006-02-15 21:30:53</td><td>20050524</td><td>20050526</td></tr><tr><td>16</td><td>389</td><td>4.99</td><td>86</td><td>316</td><td>1</td><td>STEVEN</td><td>CURLEY</td><td>2</td><td>Jon</td><td>Stephens</td><td>4.99</td><td>2006-02-15 21:30:53</td><td>20050525</td><td>20050526</td></tr><tr><td>17</td><td>830</td><td>2.99</td><td>181</td><td>575</td><td>2</td><td>ISAAC</td><td>OGLESBY</td><td>1</td><td>Mike</td><td>Hillyer</td><td>2.99</td><td>2006-02-15 21:30:53</td><td>20050525</td><td>20050527</td></tr><tr><td>21</td><td>146</td><td>4.99</td><td>31</td><td>388</td><td>2</td><td>CRAIG</td><td>MORRELL</td><td>2</td><td>Jon</td><td>Stephens</td><td>4.99</td><td>2006-02-15 21:30:53</td><td>20050525</td><td>20050526</td></tr><tr><td>22</td><td>727</td><td>4.99</td><td>159</td><td>509</td><td>1</td><td>RAUL</td><td>FORTIER</td><td>2</td><td>Jon</td><td>Stephens</td><td>4.99</td><td>2006-02-15 21:30:53</td><td>20050525</td><td>20050526</td></tr></tbody></table></div>"
      ]
     },
     "metadata": {
      "application/vnd.databricks.v1+output": {
       "addedWidgets": {},
       "aggData": [],
       "aggError": "",
       "aggOverflow": false,
       "aggSchema": [],
       "aggSeriesLimitReached": false,
       "aggType": "",
       "arguments": {},
       "columnCustomDisplayInfos": {},
       "data": [
        [
         1,
         367,
         2.99,
         80,
         130,
         1,
         "CHARLOTTE",
         "HUNTER",
         1,
         "Mike",
         "Hillyer",
         2.99,
         "2006-02-15 21:30:53",
         20050524,
         "20050526"
        ],
        [
         16,
         389,
         4.99,
         86,
         316,
         1,
         "STEVEN",
         "CURLEY",
         2,
         "Jon",
         "Stephens",
         4.99,
         "2006-02-15 21:30:53",
         20050525,
         "20050526"
        ],
        [
         17,
         830,
         2.99,
         181,
         575,
         2,
         "ISAAC",
         "OGLESBY",
         1,
         "Mike",
         "Hillyer",
         2.99,
         "2006-02-15 21:30:53",
         20050525,
         "20050527"
        ],
        [
         21,
         146,
         4.99,
         31,
         388,
         2,
         "CRAIG",
         "MORRELL",
         2,
         "Jon",
         "Stephens",
         4.99,
         "2006-02-15 21:30:53",
         20050525,
         "20050526"
        ],
        [
         22,
         727,
         4.99,
         159,
         509,
         1,
         "RAUL",
         "FORTIER",
         2,
         "Jon",
         "Stephens",
         4.99,
         "2006-02-15 21:30:53",
         20050525,
         "20050526"
        ]
       ],
       "datasetInfos": [],
       "dbfsResultPath": null,
       "isJsonSchema": true,
       "metadata": {},
       "overflow": false,
       "plotOptions": {
        "customPlotOptions": {},
        "displayType": "table",
        "pivotAggregation": null,
        "pivotColumns": null,
        "xColumns": null,
        "yColumns": null
       },
       "removedWidgets": [],
       "schema": [
        {
         "metadata": "{}",
         "name": "fact_rental_key",
         "type": "\"long\""
        },
        {
         "metadata": "{}",
         "name": "inventory_key",
         "type": "\"long\""
        },
        {
         "metadata": "{}",
         "name": "rental_rate",
         "type": "\"double\""
        },
        {
         "metadata": "{}",
         "name": "film",
         "type": "\"integer\""
        },
        {
         "metadata": "{}",
         "name": "customer_key",
         "type": "\"long\""
        },
        {
         "metadata": "{\"scale\":0}",
         "name": "store",
         "type": "\"long\""
        },
        {
         "metadata": "{\"scale\":0}",
         "name": "customer_first_name",
         "type": "\"string\""
        },
        {
         "metadata": "{\"scale\":0}",
         "name": "customer_last_name",
         "type": "\"string\""
        },
        {
         "metadata": "{}",
         "name": "staff_key",
         "type": "\"long\""
        },
        {
         "metadata": "{}",
         "name": "staff_first_name",
         "type": "\"string\""
        },
        {
         "metadata": "{}",
         "name": "staff_last_name",
         "type": "\"string\""
        },
        {
         "metadata": "{}",
         "name": "amount",
         "type": "\"double\""
        },
        {
         "metadata": "{}",
         "name": "last_update",
         "type": "\"string\""
        },
        {
         "metadata": "{}",
         "name": "rental_date_key",
         "type": "\"long\""
        },
        {
         "metadata": "{}",
         "name": "return_date_key",
         "type": "\"decimal(10,0)\""
        }
       ],
       "type": "table"
      }
     },
     "output_type": "display_data"
    }
   ],
   "source": [
    "%sql\n",
    "SELECT * FROM fact_rental_silver LIMIT 5"
   ]
  },
  {
   "cell_type": "code",
   "execution_count": 0,
   "metadata": {
    "application/vnd.databricks.v1+cell": {
     "cellMetadata": {
      "byteLimit": 2048000,
      "implicitDf": true,
      "rowLimit": 10000
     },
     "inputWidgets": {},
     "nuid": "f6438a74-3ff4-49c6-a980-4cdf5812ef84",
     "showTitle": false,
     "title": ""
    }
   },
   "outputs": [
    {
     "output_type": "display_data",
     "data": {
      "text/html": [
       "<style scoped>\n",
       "  .table-result-container {\n",
       "    max-height: 300px;\n",
       "    overflow: auto;\n",
       "  }\n",
       "  table, th, td {\n",
       "    border: 1px solid black;\n",
       "    border-collapse: collapse;\n",
       "  }\n",
       "  th, td {\n",
       "    padding: 5px;\n",
       "  }\n",
       "  th {\n",
       "    text-align: left;\n",
       "  }\n",
       "</style><div class='table-result-container'><table class='table-result'><thead style='background-color: white'><tr><th>col_name</th><th>data_type</th><th>comment</th></tr></thead><tbody><tr><td>fact_rental_key</td><td>bigint</td><td>null</td></tr><tr><td>inventory_key</td><td>bigint</td><td>null</td></tr><tr><td>rental_rate</td><td>double</td><td>null</td></tr><tr><td>film</td><td>int</td><td>null</td></tr><tr><td>customer_key</td><td>bigint</td><td>null</td></tr><tr><td>store</td><td>bigint</td><td>null</td></tr><tr><td>customer_first_name</td><td>string</td><td>null</td></tr><tr><td>customer_last_name</td><td>string</td><td>null</td></tr><tr><td>staff_key</td><td>bigint</td><td>null</td></tr><tr><td>staff_first_name</td><td>string</td><td>null</td></tr><tr><td>staff_last_name</td><td>string</td><td>null</td></tr><tr><td>amount</td><td>double</td><td>null</td></tr><tr><td>last_update</td><td>string</td><td>null</td></tr><tr><td>rental_date_key</td><td>bigint</td><td>null</td></tr><tr><td>return_date_key</td><td>decimal(10,0)</td><td>null</td></tr><tr><td></td><td></td><td></td></tr><tr><td># Detailed Table Information</td><td></td><td></td></tr><tr><td>Catalog</td><td>spark_catalog</td><td></td></tr><tr><td>Database</td><td>sakila_dlh</td><td></td></tr><tr><td>Table</td><td>fact_rental_silver</td><td></td></tr><tr><td>Type</td><td>MANAGED</td><td></td></tr><tr><td>Location</td><td>dbfs:/FileStore/ds2002-lab06/sakila_dlh/fact_rental_silver</td><td></td></tr><tr><td>Provider</td><td>delta</td><td></td></tr><tr><td>Owner</td><td>root</td><td></td></tr><tr><td>Is_managed_location</td><td>true</td><td></td></tr><tr><td>Table Properties</td><td>[delta.minReaderVersion=1,delta.minWriterVersion=2]</td><td></td></tr></tbody></table></div>"
      ]
     },
     "metadata": {
      "application/vnd.databricks.v1+output": {
       "addedWidgets": {},
       "aggData": [],
       "aggError": "",
       "aggOverflow": false,
       "aggSchema": [],
       "aggSeriesLimitReached": false,
       "aggType": "",
       "arguments": {},
       "columnCustomDisplayInfos": {},
       "data": [
        [
         "fact_rental_key",
         "bigint",
         null
        ],
        [
         "inventory_key",
         "bigint",
         null
        ],
        [
         "rental_rate",
         "double",
         null
        ],
        [
         "film",
         "int",
         null
        ],
        [
         "customer_key",
         "bigint",
         null
        ],
        [
         "store",
         "bigint",
         null
        ],
        [
         "customer_first_name",
         "string",
         null
        ],
        [
         "customer_last_name",
         "string",
         null
        ],
        [
         "staff_key",
         "bigint",
         null
        ],
        [
         "staff_first_name",
         "string",
         null
        ],
        [
         "staff_last_name",
         "string",
         null
        ],
        [
         "amount",
         "double",
         null
        ],
        [
         "last_update",
         "string",
         null
        ],
        [
         "rental_date_key",
         "bigint",
         null
        ],
        [
         "return_date_key",
         "decimal(10,0)",
         null
        ],
        [
         "",
         "",
         ""
        ],
        [
         "# Detailed Table Information",
         "",
         ""
        ],
        [
         "Catalog",
         "spark_catalog",
         ""
        ],
        [
         "Database",
         "sakila_dlh",
         ""
        ],
        [
         "Table",
         "fact_rental_silver",
         ""
        ],
        [
         "Type",
         "MANAGED",
         ""
        ],
        [
         "Location",
         "dbfs:/FileStore/ds2002-lab06/sakila_dlh/fact_rental_silver",
         ""
        ],
        [
         "Provider",
         "delta",
         ""
        ],
        [
         "Owner",
         "root",
         ""
        ],
        [
         "Is_managed_location",
         "true",
         ""
        ],
        [
         "Table Properties",
         "[delta.minReaderVersion=1,delta.minWriterVersion=2]",
         ""
        ]
       ],
       "datasetInfos": [],
       "dbfsResultPath": null,
       "isJsonSchema": true,
       "metadata": {},
       "overflow": false,
       "plotOptions": {
        "customPlotOptions": {},
        "displayType": "table",
        "pivotAggregation": null,
        "pivotColumns": null,
        "xColumns": null,
        "yColumns": null
       },
       "removedWidgets": [],
       "schema": [
        {
         "metadata": "{\"comment\":\"name of the column\"}",
         "name": "col_name",
         "type": "\"string\""
        },
        {
         "metadata": "{\"comment\":\"data type of the column\"}",
         "name": "data_type",
         "type": "\"string\""
        },
        {
         "metadata": "{\"comment\":\"comment of the column\"}",
         "name": "comment",
         "type": "\"string\""
        }
       ],
       "type": "table"
      }
     },
     "output_type": "display_data"
    }
   ],
   "source": [
    "%sql\n",
    "DESCRIBE EXTENDED sakila_dlh.fact_rental_silver"
   ]
  },
  {
   "cell_type": "code",
   "execution_count": 0,
   "metadata": {
    "application/vnd.databricks.v1+cell": {
     "cellMetadata": {},
     "inputWidgets": {},
     "nuid": "3c80a350-9c54-4eec-a45f-e33907668914",
     "showTitle": false,
     "title": ""
    }
   },
   "outputs": [],
   "source": [
    "# gold table: perform aggregations"
   ]
  },
  {
   "cell_type": "code",
   "execution_count": 0,
   "metadata": {
    "application/vnd.databricks.v1+cell": {
     "cellMetadata": {
      "byteLimit": 2048000,
      "implicitDf": true,
      "rowLimit": 10000
     },
     "inputWidgets": {},
     "nuid": "a66f28af-aa44-4669-a9da-b79256773bfa",
     "showTitle": false,
     "title": ""
    }
   },
   "outputs": [
    {
     "output_type": "display_data",
     "data": {
      "text/html": [
       "<style scoped>\n",
       "  .table-result-container {\n",
       "    max-height: 300px;\n",
       "    overflow: auto;\n",
       "  }\n",
       "  table, th, td {\n",
       "    border: 1px solid black;\n",
       "    border-collapse: collapse;\n",
       "  }\n",
       "  th, td {\n",
       "    padding: 5px;\n",
       "  }\n",
       "  th {\n",
       "    text-align: left;\n",
       "  }\n",
       "</style><div class='table-result-container'><table class='table-result'><thead style='background-color: white'><tr><th>Total_Amount</th><th>Customer</th><th>Staff_Member</th></tr></thead><tbody><tr><td>10.99</td><td>ROYAL</td><td>Hillyer</td></tr><tr><td>10.99</td><td>GRAVES</td><td>Hillyer</td></tr><tr><td>9.99</td><td>CHISHOLM</td><td>Hillyer</td></tr><tr><td>9.99</td><td>CHAPMAN</td><td>Stephens</td></tr><tr><td>9.99</td><td>LAWSON</td><td>Stephens</td></tr><tr><td>9.99</td><td>JAMES</td><td>Stephens</td></tr><tr><td>8.99</td><td>HIDALGO</td><td>Stephens</td></tr><tr><td>8.99</td><td>MARKHAM</td><td>Stephens</td></tr><tr><td>8.99</td><td>KINDER</td><td>Stephens</td></tr><tr><td>8.99</td><td>SANBORN</td><td>Stephens</td></tr><tr><td>8.99</td><td>CRAWLEY</td><td>Stephens</td></tr><tr><td>8.99</td><td>DAY</td><td>Stephens</td></tr><tr><td>7.99</td><td>LARSON</td><td>Stephens</td></tr><tr><td>7.99</td><td>HARKINS</td><td>Stephens</td></tr><tr><td>7.99</td><td>HICKS</td><td>Stephens</td></tr><tr><td>7.99</td><td>SULLIVAN</td><td>Hillyer</td></tr><tr><td>7.99</td><td>GILLETTE</td><td>Stephens</td></tr><tr><td>7.99</td><td>BARBEE</td><td>Hillyer</td></tr><tr><td>7.99</td><td>BULL</td><td>Hillyer</td></tr><tr><td>6.99</td><td>FIELDS</td><td>Stephens</td></tr><tr><td>6.99</td><td>ISOM</td><td>Hillyer</td></tr><tr><td>6.99</td><td>MOELLER</td><td>Hillyer</td></tr><tr><td>6.99</td><td>PARKER</td><td>Stephens</td></tr><tr><td>6.99</td><td>CHAPA</td><td>Hillyer</td></tr><tr><td>6.99</td><td>CARY</td><td>Hillyer</td></tr><tr><td>6.99</td><td>WADE</td><td>Hillyer</td></tr><tr><td>6.99</td><td>FOSTER</td><td>Stephens</td></tr><tr><td>6.99</td><td>JIMENEZ</td><td>Stephens</td></tr><tr><td>6.99</td><td>KOWALSKI</td><td>Stephens</td></tr><tr><td>6.99</td><td>THRASHER</td><td>Stephens</td></tr><tr><td>6.99</td><td>ANDERSON</td><td>Hillyer</td></tr><tr><td>6.99</td><td>SULLIVAN</td><td>Hillyer</td></tr><tr><td>6.99</td><td>GUNDERSON</td><td>Hillyer</td></tr><tr><td>6.99</td><td>MENDOZA</td><td>Stephens</td></tr><tr><td>6.99</td><td>POULIN</td><td>Stephens</td></tr><tr><td>5.99</td><td>ARCE</td><td>Hillyer</td></tr><tr><td>5.99</td><td>POULIN</td><td>Stephens</td></tr><tr><td>5.99</td><td>SCHWARZ</td><td>Stephens</td></tr><tr><td>5.99</td><td>PREWITT</td><td>Hillyer</td></tr><tr><td>5.99</td><td>HERZOG</td><td>Stephens</td></tr><tr><td>5.99</td><td>PFEIFFER</td><td>Stephens</td></tr><tr><td>5.99</td><td>ISBELL</td><td>Stephens</td></tr><tr><td>5.99</td><td>MALCOLM</td><td>Stephens</td></tr><tr><td>5.99</td><td>FLORES</td><td>Stephens</td></tr><tr><td>5.99</td><td>TROUT</td><td>Hillyer</td></tr><tr><td>5.99</td><td>SILVERMAN</td><td>Stephens</td></tr><tr><td>5.99</td><td>TUCKER</td><td>Hillyer</td></tr><tr><td>5.99</td><td>BAUGHMAN</td><td>Hillyer</td></tr><tr><td>5.99</td><td>BUNN</td><td>Stephens</td></tr><tr><td>5.99</td><td>GRANT</td><td>Hillyer</td></tr><tr><td>5.99</td><td>GAMEZ</td><td>Stephens</td></tr><tr><td>4.99</td><td>TURNER</td><td>Hillyer</td></tr><tr><td>4.99</td><td>HANSON</td><td>Hillyer</td></tr><tr><td>4.99</td><td>GAMEZ</td><td>Stephens</td></tr><tr><td>4.99</td><td>JENNINGS</td><td>Hillyer</td></tr><tr><td>4.99</td><td>PATTERSON</td><td>Stephens</td></tr><tr><td>4.99</td><td>MORENO</td><td>Hillyer</td></tr><tr><td>4.99</td><td>FRALEY</td><td>Stephens</td></tr><tr><td>4.99</td><td>MORRELL</td><td>Stephens</td></tr><tr><td>4.99</td><td>MADRIGAL</td><td>Stephens</td></tr><tr><td>4.99</td><td>BOLIN</td><td>Hillyer</td></tr><tr><td>4.99</td><td>CARRANZA</td><td>Hillyer</td></tr><tr><td>4.99</td><td>BARBEE</td><td>Hillyer</td></tr><tr><td>4.99</td><td>GAFFNEY</td><td>Stephens</td></tr><tr><td>4.99</td><td>RALSTON</td><td>Hillyer</td></tr><tr><td>4.99</td><td>MONTGOMERY</td><td>Hillyer</td></tr><tr><td>4.99</td><td>COUGHLIN</td><td>Hillyer</td></tr><tr><td>4.99</td><td>PARKER</td><td>Stephens</td></tr><tr><td>4.99</td><td>HICKS</td><td>Hillyer</td></tr><tr><td>4.99</td><td>WATSON</td><td>Hillyer</td></tr><tr><td>4.99</td><td>ELLIS</td><td>Stephens</td></tr><tr><td>4.99</td><td>PITT</td><td>Hillyer</td></tr><tr><td>4.99</td><td>FRAZIER</td><td>Hillyer</td></tr><tr><td>4.99</td><td>GAFFNEY</td><td>Hillyer</td></tr><tr><td>4.99</td><td>HOFFMAN</td><td>Hillyer</td></tr><tr><td>4.99</td><td>MILLS</td><td>Hillyer</td></tr><tr><td>4.99</td><td>WAUGH</td><td>Stephens</td></tr><tr><td>4.99</td><td>COLE</td><td>Stephens</td></tr><tr><td>4.99</td><td>RUIZ</td><td>Hillyer</td></tr><tr><td>4.99</td><td>HERRMANN</td><td>Hillyer</td></tr><tr><td>4.99</td><td>BERRY</td><td>Stephens</td></tr><tr><td>4.99</td><td>FORTIER</td><td>Stephens</td></tr><tr><td>4.99</td><td>ROSE</td><td>Stephens</td></tr><tr><td>4.99</td><td>CURLEY</td><td>Stephens</td></tr><tr><td>4.99</td><td>FORSYTHE</td><td>Hillyer</td></tr><tr><td>4.99</td><td>SCHMIDT</td><td>Hillyer</td></tr><tr><td>4.99</td><td>GUAJARDO</td><td>Stephens</td></tr><tr><td>4.99</td><td>MURPHY</td><td>Stephens</td></tr><tr><td>4.99</td><td>HERRMANN</td><td>Stephens</td></tr><tr><td>4.99</td><td>CULP</td><td>Stephens</td></tr><tr><td>4.99</td><td>GARCIA</td><td>Stephens</td></tr><tr><td>4.99</td><td>WALTERS</td><td>Hillyer</td></tr><tr><td>4.99</td><td>HOULE</td><td>Stephens</td></tr><tr><td>4.99</td><td>TEEL</td><td>Stephens</td></tr><tr><td>4.99</td><td>SEAL</td><td>Stephens</td></tr><tr><td>4.99</td><td>HUDSON</td><td>Stephens</td></tr><tr><td>4.99</td><td>ISBELL</td><td>Hillyer</td></tr><tr><td>4.99</td><td>DELOACH</td><td>Stephens</td></tr><tr><td>3.99</td><td>PENA</td><td>Hillyer</td></tr><tr><td>3.99</td><td>FOWLER</td><td>Stephens</td></tr><tr><td>3.99</td><td>GRAF</td><td>Hillyer</td></tr><tr><td>3.99</td><td>CLARK</td><td>Stephens</td></tr><tr><td>3.99</td><td>BYRD</td><td>Hillyer</td></tr><tr><td>3.99</td><td>MENDOZA</td><td>Stephens</td></tr><tr><td>3.99</td><td>DANIELS</td><td>Stephens</td></tr><tr><td>3.99</td><td>BENNER</td><td>Stephens</td></tr><tr><td>3.99</td><td>SHERROD</td><td>Hillyer</td></tr><tr><td>3.99</td><td>JOHNSTON</td><td>Stephens</td></tr><tr><td>3.99</td><td>COY</td><td>Hillyer</td></tr><tr><td>3.99</td><td>BOYD</td><td>Stephens</td></tr><tr><td>3.99</td><td>HARDISON</td><td>Stephens</td></tr><tr><td>3.99</td><td>CLARK</td><td>Hillyer</td></tr><tr><td>3.99</td><td>CHISHOLM</td><td>Stephens</td></tr><tr><td>3.99</td><td>MATTHEWS</td><td>Hillyer</td></tr><tr><td>3.99</td><td>EDWARDS</td><td>Stephens</td></tr><tr><td>3.99</td><td>WALLACE</td><td>Stephens</td></tr><tr><td>2.99</td><td>DOUGLAS</td><td>Hillyer</td></tr><tr><td>2.99</td><td>MEADOR</td><td>Hillyer</td></tr><tr><td>2.99</td><td>TORRES</td><td>Stephens</td></tr><tr><td>2.99</td><td>BOX</td><td>Hillyer</td></tr><tr><td>2.99</td><td>HOWLAND</td><td>Stephens</td></tr><tr><td>2.99</td><td>WEINER</td><td>Stephens</td></tr><tr><td>2.99</td><td>ROBINSON</td><td>Hillyer</td></tr><tr><td>2.99</td><td>SLONE</td><td>Hillyer</td></tr><tr><td>2.99</td><td>BREWER</td><td>Stephens</td></tr><tr><td>2.99</td><td>JENNINGS</td><td>Stephens</td></tr><tr><td>2.99</td><td>CARBONE</td><td>Hillyer</td></tr><tr><td>2.99</td><td>MEDINA</td><td>Stephens</td></tr><tr><td>2.99</td><td>STEPP</td><td>Stephens</td></tr><tr><td>2.99</td><td>DAVIS</td><td>Stephens</td></tr><tr><td>2.99</td><td>BOURQUE</td><td>Stephens</td></tr><tr><td>2.99</td><td>OWENS</td><td>Hillyer</td></tr><tr><td>2.99</td><td>JENSEN</td><td>Hillyer</td></tr><tr><td>2.99</td><td>OGLESBY</td><td>Hillyer</td></tr><tr><td>2.99</td><td>YOUNG</td><td>Hillyer</td></tr><tr><td>2.99</td><td>BARBEE</td><td>Hillyer</td></tr><tr><td>2.99</td><td>BOUDREAU</td><td>Hillyer</td></tr><tr><td>2.99</td><td>HARDER</td><td>Hillyer</td></tr><tr><td>2.99</td><td>FORMAN</td><td>Stephens</td></tr><tr><td>2.99</td><td>BENNETT</td><td>Hillyer</td></tr><tr><td>2.99</td><td>OBRIEN</td><td>Stephens</td></tr><tr><td>2.99</td><td>REYNOLDS</td><td>Hillyer</td></tr><tr><td>2.99</td><td>EDWARDS</td><td>Stephens</td></tr><tr><td>2.99</td><td>DAY</td><td>Stephens</td></tr><tr><td>2.99</td><td>OLVERA</td><td>Hillyer</td></tr><tr><td>2.99</td><td>MILES</td><td>Stephens</td></tr><tr><td>2.99</td><td>HALE</td><td>Stephens</td></tr><tr><td>2.99</td><td>HERRERA</td><td>Hillyer</td></tr><tr><td>2.99</td><td>MARTINEZ</td><td>Hillyer</td></tr><tr><td>2.99</td><td>RUIZ</td><td>Hillyer</td></tr><tr><td>2.99</td><td>MARTINEZ</td><td>Stephens</td></tr><tr><td>2.99</td><td>SAUER</td><td>Hillyer</td></tr><tr><td>2.99</td><td>HUNTER</td><td>Hillyer</td></tr><tr><td>2.99</td><td>KELLEY</td><td>Stephens</td></tr><tr><td>2.99</td><td>MARKHAM</td><td>Stephens</td></tr><tr><td>2.99</td><td>BARNES</td><td>Stephens</td></tr><tr><td>2.99</td><td>BILLINGSLEY</td><td>Stephens</td></tr><tr><td>2.99</td><td>ALLARD</td><td>Hillyer</td></tr><tr><td>2.99</td><td>ROMERO</td><td>Hillyer</td></tr><tr><td>2.99</td><td>WEAVER</td><td>Stephens</td></tr><tr><td>2.99</td><td>FLORES</td><td>Hillyer</td></tr><tr><td>1.99</td><td>CURRIER</td><td>Hillyer</td></tr><tr><td>1.99</td><td>MILNER</td><td>Stephens</td></tr><tr><td>1.99</td><td>WATTS</td><td>Hillyer</td></tr><tr><td>1.99</td><td>BULL</td><td>Hillyer</td></tr><tr><td>1.99</td><td>POWER</td><td>Stephens</td></tr><tr><td>1.99</td><td>ROBINSON</td><td>Hillyer</td></tr><tr><td>1.99</td><td>JOY</td><td>Stephens</td></tr><tr><td>1.99</td><td>GRAY</td><td>Hillyer</td></tr><tr><td>0.99</td><td>BARBEE</td><td>Stephens</td></tr><tr><td>0.99</td><td>GUAJARDO</td><td>Stephens</td></tr><tr><td>0.99</td><td>NGO</td><td>Stephens</td></tr><tr><td>0.99</td><td>PETERS</td><td>Stephens</td></tr><tr><td>0.99</td><td>ADAMS</td><td>Stephens</td></tr><tr><td>0.99</td><td>WILES</td><td>Hillyer</td></tr><tr><td>0.99</td><td>CARY</td><td>Hillyer</td></tr><tr><td>0.99</td><td>GEARY</td><td>Hillyer</td></tr><tr><td>0.99</td><td>ELY</td><td>Hillyer</td></tr><tr><td>0.99</td><td>ROBINS</td><td>Hillyer</td></tr><tr><td>0.99</td><td>NGO</td><td>Hillyer</td></tr><tr><td>0.99</td><td>MILES</td><td>Stephens</td></tr><tr><td>0.99</td><td>MOORE</td><td>Hillyer</td></tr><tr><td>0.99</td><td>WHEAT</td><td>Stephens</td></tr><tr><td>0.99</td><td>HIDALGO</td><td>Stephens</td></tr><tr><td>0.99</td><td>TURNER</td><td>Stephens</td></tr><tr><td>0.99</td><td>WAY</td><td>Hillyer</td></tr><tr><td>0.99</td><td>HOWARD</td><td>Hillyer</td></tr><tr><td>0.99</td><td>POULIN</td><td>Stephens</td></tr><tr><td>0.99</td><td>FOX</td><td>Stephens</td></tr><tr><td>0.99</td><td>OGLESBY</td><td>Hillyer</td></tr><tr><td>0.99</td><td>ELROD</td><td>Hillyer</td></tr><tr><td>0.99</td><td>BENNETT</td><td>Hillyer</td></tr><tr><td>0.99</td><td>STANFIELD</td><td>Hillyer</td></tr><tr><td>0.99</td><td>MADRIGAL</td><td>Stephens</td></tr><tr><td>0.99</td><td>COOPER</td><td>Stephens</td></tr><tr><td>0.99</td><td>MCCARTER</td><td>Stephens</td></tr><tr><td>0.99</td><td>GILBERT</td><td>Stephens</td></tr><tr><td>0.99</td><td>FLORES</td><td>Stephens</td></tr><tr><td>0.99</td><td>HAWKINS</td><td>Stephens</td></tr><tr><td>0.99</td><td>GANDY</td><td>Hillyer</td></tr><tr><td>0.99</td><td>SANCHEZ</td><td>Hillyer</td></tr><tr><td>0.99</td><td>CHURCHILL</td><td>Hillyer</td></tr><tr><td>0.99</td><td>RHODES</td><td>Stephens</td></tr><tr><td>0.99</td><td>HARRISON</td><td>Hillyer</td></tr><tr><td>0.99</td><td>MARSHALL</td><td>Stephens</td></tr><tr><td>0.99</td><td>MCDONALD</td><td>Hillyer</td></tr><tr><td>0.99</td><td>JENKINS</td><td>Hillyer</td></tr><tr><td>0.99</td><td>WILLIS</td><td>Stephens</td></tr><tr><td>0.99</td><td>MAHON</td><td>Hillyer</td></tr></tbody></table></div>"
      ]
     },
     "metadata": {
      "application/vnd.databricks.v1+output": {
       "addedWidgets": {},
       "aggData": [],
       "aggError": "",
       "aggOverflow": false,
       "aggSchema": [],
       "aggSeriesLimitReached": false,
       "aggType": "",
       "arguments": {},
       "columnCustomDisplayInfos": {},
       "data": [
        [
         10.99,
         "ROYAL",
         "Hillyer"
        ],
        [
         10.99,
         "GRAVES",
         "Hillyer"
        ],
        [
         9.99,
         "CHISHOLM",
         "Hillyer"
        ],
        [
         9.99,
         "CHAPMAN",
         "Stephens"
        ],
        [
         9.99,
         "LAWSON",
         "Stephens"
        ],
        [
         9.99,
         "JAMES",
         "Stephens"
        ],
        [
         8.99,
         "HIDALGO",
         "Stephens"
        ],
        [
         8.99,
         "MARKHAM",
         "Stephens"
        ],
        [
         8.99,
         "KINDER",
         "Stephens"
        ],
        [
         8.99,
         "SANBORN",
         "Stephens"
        ],
        [
         8.99,
         "CRAWLEY",
         "Stephens"
        ],
        [
         8.99,
         "DAY",
         "Stephens"
        ],
        [
         7.99,
         "LARSON",
         "Stephens"
        ],
        [
         7.99,
         "HARKINS",
         "Stephens"
        ],
        [
         7.99,
         "HICKS",
         "Stephens"
        ],
        [
         7.99,
         "SULLIVAN",
         "Hillyer"
        ],
        [
         7.99,
         "GILLETTE",
         "Stephens"
        ],
        [
         7.99,
         "BARBEE",
         "Hillyer"
        ],
        [
         7.99,
         "BULL",
         "Hillyer"
        ],
        [
         6.99,
         "FIELDS",
         "Stephens"
        ],
        [
         6.99,
         "ISOM",
         "Hillyer"
        ],
        [
         6.99,
         "MOELLER",
         "Hillyer"
        ],
        [
         6.99,
         "PARKER",
         "Stephens"
        ],
        [
         6.99,
         "CHAPA",
         "Hillyer"
        ],
        [
         6.99,
         "CARY",
         "Hillyer"
        ],
        [
         6.99,
         "WADE",
         "Hillyer"
        ],
        [
         6.99,
         "FOSTER",
         "Stephens"
        ],
        [
         6.99,
         "JIMENEZ",
         "Stephens"
        ],
        [
         6.99,
         "KOWALSKI",
         "Stephens"
        ],
        [
         6.99,
         "THRASHER",
         "Stephens"
        ],
        [
         6.99,
         "ANDERSON",
         "Hillyer"
        ],
        [
         6.99,
         "SULLIVAN",
         "Hillyer"
        ],
        [
         6.99,
         "GUNDERSON",
         "Hillyer"
        ],
        [
         6.99,
         "MENDOZA",
         "Stephens"
        ],
        [
         6.99,
         "POULIN",
         "Stephens"
        ],
        [
         5.99,
         "ARCE",
         "Hillyer"
        ],
        [
         5.99,
         "POULIN",
         "Stephens"
        ],
        [
         5.99,
         "SCHWARZ",
         "Stephens"
        ],
        [
         5.99,
         "PREWITT",
         "Hillyer"
        ],
        [
         5.99,
         "HERZOG",
         "Stephens"
        ],
        [
         5.99,
         "PFEIFFER",
         "Stephens"
        ],
        [
         5.99,
         "ISBELL",
         "Stephens"
        ],
        [
         5.99,
         "MALCOLM",
         "Stephens"
        ],
        [
         5.99,
         "FLORES",
         "Stephens"
        ],
        [
         5.99,
         "TROUT",
         "Hillyer"
        ],
        [
         5.99,
         "SILVERMAN",
         "Stephens"
        ],
        [
         5.99,
         "TUCKER",
         "Hillyer"
        ],
        [
         5.99,
         "BAUGHMAN",
         "Hillyer"
        ],
        [
         5.99,
         "BUNN",
         "Stephens"
        ],
        [
         5.99,
         "GRANT",
         "Hillyer"
        ],
        [
         5.99,
         "GAMEZ",
         "Stephens"
        ],
        [
         4.99,
         "TURNER",
         "Hillyer"
        ],
        [
         4.99,
         "HANSON",
         "Hillyer"
        ],
        [
         4.99,
         "GAMEZ",
         "Stephens"
        ],
        [
         4.99,
         "JENNINGS",
         "Hillyer"
        ],
        [
         4.99,
         "PATTERSON",
         "Stephens"
        ],
        [
         4.99,
         "MORENO",
         "Hillyer"
        ],
        [
         4.99,
         "FRALEY",
         "Stephens"
        ],
        [
         4.99,
         "MORRELL",
         "Stephens"
        ],
        [
         4.99,
         "MADRIGAL",
         "Stephens"
        ],
        [
         4.99,
         "BOLIN",
         "Hillyer"
        ],
        [
         4.99,
         "CARRANZA",
         "Hillyer"
        ],
        [
         4.99,
         "BARBEE",
         "Hillyer"
        ],
        [
         4.99,
         "GAFFNEY",
         "Stephens"
        ],
        [
         4.99,
         "RALSTON",
         "Hillyer"
        ],
        [
         4.99,
         "MONTGOMERY",
         "Hillyer"
        ],
        [
         4.99,
         "COUGHLIN",
         "Hillyer"
        ],
        [
         4.99,
         "PARKER",
         "Stephens"
        ],
        [
         4.99,
         "HICKS",
         "Hillyer"
        ],
        [
         4.99,
         "WATSON",
         "Hillyer"
        ],
        [
         4.99,
         "ELLIS",
         "Stephens"
        ],
        [
         4.99,
         "PITT",
         "Hillyer"
        ],
        [
         4.99,
         "FRAZIER",
         "Hillyer"
        ],
        [
         4.99,
         "GAFFNEY",
         "Hillyer"
        ],
        [
         4.99,
         "HOFFMAN",
         "Hillyer"
        ],
        [
         4.99,
         "MILLS",
         "Hillyer"
        ],
        [
         4.99,
         "WAUGH",
         "Stephens"
        ],
        [
         4.99,
         "COLE",
         "Stephens"
        ],
        [
         4.99,
         "RUIZ",
         "Hillyer"
        ],
        [
         4.99,
         "HERRMANN",
         "Hillyer"
        ],
        [
         4.99,
         "BERRY",
         "Stephens"
        ],
        [
         4.99,
         "FORTIER",
         "Stephens"
        ],
        [
         4.99,
         "ROSE",
         "Stephens"
        ],
        [
         4.99,
         "CURLEY",
         "Stephens"
        ],
        [
         4.99,
         "FORSYTHE",
         "Hillyer"
        ],
        [
         4.99,
         "SCHMIDT",
         "Hillyer"
        ],
        [
         4.99,
         "GUAJARDO",
         "Stephens"
        ],
        [
         4.99,
         "MURPHY",
         "Stephens"
        ],
        [
         4.99,
         "HERRMANN",
         "Stephens"
        ],
        [
         4.99,
         "CULP",
         "Stephens"
        ],
        [
         4.99,
         "GARCIA",
         "Stephens"
        ],
        [
         4.99,
         "WALTERS",
         "Hillyer"
        ],
        [
         4.99,
         "HOULE",
         "Stephens"
        ],
        [
         4.99,
         "TEEL",
         "Stephens"
        ],
        [
         4.99,
         "SEAL",
         "Stephens"
        ],
        [
         4.99,
         "HUDSON",
         "Stephens"
        ],
        [
         4.99,
         "ISBELL",
         "Hillyer"
        ],
        [
         4.99,
         "DELOACH",
         "Stephens"
        ],
        [
         3.99,
         "PENA",
         "Hillyer"
        ],
        [
         3.99,
         "FOWLER",
         "Stephens"
        ],
        [
         3.99,
         "GRAF",
         "Hillyer"
        ],
        [
         3.99,
         "CLARK",
         "Stephens"
        ],
        [
         3.99,
         "BYRD",
         "Hillyer"
        ],
        [
         3.99,
         "MENDOZA",
         "Stephens"
        ],
        [
         3.99,
         "DANIELS",
         "Stephens"
        ],
        [
         3.99,
         "BENNER",
         "Stephens"
        ],
        [
         3.99,
         "SHERROD",
         "Hillyer"
        ],
        [
         3.99,
         "JOHNSTON",
         "Stephens"
        ],
        [
         3.99,
         "COY",
         "Hillyer"
        ],
        [
         3.99,
         "BOYD",
         "Stephens"
        ],
        [
         3.99,
         "HARDISON",
         "Stephens"
        ],
        [
         3.99,
         "CLARK",
         "Hillyer"
        ],
        [
         3.99,
         "CHISHOLM",
         "Stephens"
        ],
        [
         3.99,
         "MATTHEWS",
         "Hillyer"
        ],
        [
         3.99,
         "EDWARDS",
         "Stephens"
        ],
        [
         3.99,
         "WALLACE",
         "Stephens"
        ],
        [
         2.99,
         "DOUGLAS",
         "Hillyer"
        ],
        [
         2.99,
         "MEADOR",
         "Hillyer"
        ],
        [
         2.99,
         "TORRES",
         "Stephens"
        ],
        [
         2.99,
         "BOX",
         "Hillyer"
        ],
        [
         2.99,
         "HOWLAND",
         "Stephens"
        ],
        [
         2.99,
         "WEINER",
         "Stephens"
        ],
        [
         2.99,
         "ROBINSON",
         "Hillyer"
        ],
        [
         2.99,
         "SLONE",
         "Hillyer"
        ],
        [
         2.99,
         "BREWER",
         "Stephens"
        ],
        [
         2.99,
         "JENNINGS",
         "Stephens"
        ],
        [
         2.99,
         "CARBONE",
         "Hillyer"
        ],
        [
         2.99,
         "MEDINA",
         "Stephens"
        ],
        [
         2.99,
         "STEPP",
         "Stephens"
        ],
        [
         2.99,
         "DAVIS",
         "Stephens"
        ],
        [
         2.99,
         "BOURQUE",
         "Stephens"
        ],
        [
         2.99,
         "OWENS",
         "Hillyer"
        ],
        [
         2.99,
         "JENSEN",
         "Hillyer"
        ],
        [
         2.99,
         "OGLESBY",
         "Hillyer"
        ],
        [
         2.99,
         "YOUNG",
         "Hillyer"
        ],
        [
         2.99,
         "BARBEE",
         "Hillyer"
        ],
        [
         2.99,
         "BOUDREAU",
         "Hillyer"
        ],
        [
         2.99,
         "HARDER",
         "Hillyer"
        ],
        [
         2.99,
         "FORMAN",
         "Stephens"
        ],
        [
         2.99,
         "BENNETT",
         "Hillyer"
        ],
        [
         2.99,
         "OBRIEN",
         "Stephens"
        ],
        [
         2.99,
         "REYNOLDS",
         "Hillyer"
        ],
        [
         2.99,
         "EDWARDS",
         "Stephens"
        ],
        [
         2.99,
         "DAY",
         "Stephens"
        ],
        [
         2.99,
         "OLVERA",
         "Hillyer"
        ],
        [
         2.99,
         "MILES",
         "Stephens"
        ],
        [
         2.99,
         "HALE",
         "Stephens"
        ],
        [
         2.99,
         "HERRERA",
         "Hillyer"
        ],
        [
         2.99,
         "MARTINEZ",
         "Hillyer"
        ],
        [
         2.99,
         "RUIZ",
         "Hillyer"
        ],
        [
         2.99,
         "MARTINEZ",
         "Stephens"
        ],
        [
         2.99,
         "SAUER",
         "Hillyer"
        ],
        [
         2.99,
         "HUNTER",
         "Hillyer"
        ],
        [
         2.99,
         "KELLEY",
         "Stephens"
        ],
        [
         2.99,
         "MARKHAM",
         "Stephens"
        ],
        [
         2.99,
         "BARNES",
         "Stephens"
        ],
        [
         2.99,
         "BILLINGSLEY",
         "Stephens"
        ],
        [
         2.99,
         "ALLARD",
         "Hillyer"
        ],
        [
         2.99,
         "ROMERO",
         "Hillyer"
        ],
        [
         2.99,
         "WEAVER",
         "Stephens"
        ],
        [
         2.99,
         "FLORES",
         "Hillyer"
        ],
        [
         1.99,
         "CURRIER",
         "Hillyer"
        ],
        [
         1.99,
         "MILNER",
         "Stephens"
        ],
        [
         1.99,
         "WATTS",
         "Hillyer"
        ],
        [
         1.99,
         "BULL",
         "Hillyer"
        ],
        [
         1.99,
         "POWER",
         "Stephens"
        ],
        [
         1.99,
         "ROBINSON",
         "Hillyer"
        ],
        [
         1.99,
         "JOY",
         "Stephens"
        ],
        [
         1.99,
         "GRAY",
         "Hillyer"
        ],
        [
         0.99,
         "BARBEE",
         "Stephens"
        ],
        [
         0.99,
         "GUAJARDO",
         "Stephens"
        ],
        [
         0.99,
         "NGO",
         "Stephens"
        ],
        [
         0.99,
         "PETERS",
         "Stephens"
        ],
        [
         0.99,
         "ADAMS",
         "Stephens"
        ],
        [
         0.99,
         "WILES",
         "Hillyer"
        ],
        [
         0.99,
         "CARY",
         "Hillyer"
        ],
        [
         0.99,
         "GEARY",
         "Hillyer"
        ],
        [
         0.99,
         "ELY",
         "Hillyer"
        ],
        [
         0.99,
         "ROBINS",
         "Hillyer"
        ],
        [
         0.99,
         "NGO",
         "Hillyer"
        ],
        [
         0.99,
         "MILES",
         "Stephens"
        ],
        [
         0.99,
         "MOORE",
         "Hillyer"
        ],
        [
         0.99,
         "WHEAT",
         "Stephens"
        ],
        [
         0.99,
         "HIDALGO",
         "Stephens"
        ],
        [
         0.99,
         "TURNER",
         "Stephens"
        ],
        [
         0.99,
         "WAY",
         "Hillyer"
        ],
        [
         0.99,
         "HOWARD",
         "Hillyer"
        ],
        [
         0.99,
         "POULIN",
         "Stephens"
        ],
        [
         0.99,
         "FOX",
         "Stephens"
        ],
        [
         0.99,
         "OGLESBY",
         "Hillyer"
        ],
        [
         0.99,
         "ELROD",
         "Hillyer"
        ],
        [
         0.99,
         "BENNETT",
         "Hillyer"
        ],
        [
         0.99,
         "STANFIELD",
         "Hillyer"
        ],
        [
         0.99,
         "MADRIGAL",
         "Stephens"
        ],
        [
         0.99,
         "COOPER",
         "Stephens"
        ],
        [
         0.99,
         "MCCARTER",
         "Stephens"
        ],
        [
         0.99,
         "GILBERT",
         "Stephens"
        ],
        [
         0.99,
         "FLORES",
         "Stephens"
        ],
        [
         0.99,
         "HAWKINS",
         "Stephens"
        ],
        [
         0.99,
         "GANDY",
         "Hillyer"
        ],
        [
         0.99,
         "SANCHEZ",
         "Hillyer"
        ],
        [
         0.99,
         "CHURCHILL",
         "Hillyer"
        ],
        [
         0.99,
         "RHODES",
         "Stephens"
        ],
        [
         0.99,
         "HARRISON",
         "Hillyer"
        ],
        [
         0.99,
         "MARSHALL",
         "Stephens"
        ],
        [
         0.99,
         "MCDONALD",
         "Hillyer"
        ],
        [
         0.99,
         "JENKINS",
         "Hillyer"
        ],
        [
         0.99,
         "WILLIS",
         "Stephens"
        ],
        [
         0.99,
         "MAHON",
         "Hillyer"
        ]
       ],
       "datasetInfos": [],
       "dbfsResultPath": null,
       "isJsonSchema": true,
       "metadata": {},
       "overflow": false,
       "plotOptions": {
        "customPlotOptions": {},
        "displayType": "table",
        "pivotAggregation": null,
        "pivotColumns": null,
        "xColumns": null,
        "yColumns": null
       },
       "removedWidgets": [],
       "schema": [
        {
         "metadata": "{}",
         "name": "Total_Amount",
         "type": "\"double\""
        },
        {
         "metadata": "{\"scale\":0}",
         "name": "Customer",
         "type": "\"string\""
        },
        {
         "metadata": "{}",
         "name": "Staff_Member",
         "type": "\"string\""
        }
       ],
       "type": "table"
      }
     },
     "output_type": "display_data"
    }
   ],
   "source": [
    "%sql\n",
    "SELECT amount as Total_Amount\n",
    "  , customer_last_name AS Customer\n",
    "  , staff_last_name AS Staff_Member\n",
    "FROM sakila_dlh.fact_rental_silver\n",
    "GROUP BY Total_Amount, Customer, Staff_Member\n",
    "ORDER BY Total_Amount DESC\n"
   ]
  }
 ],
 "metadata": {
  "application/vnd.databricks.v1+notebook": {
   "dashboards": [],
   "language": "python",
   "notebookMetadata": {
    "mostRecentlyExecutedCommandWithImplicitDF": {
     "commandId": 331352258748661,
     "dataframes": [
      "_sqldf"
     ]
    },
    "pythonIndentUnit": 4
   },
   "notebookName": "Final Project DS 2002 mrd2wdz",
   "notebookOrigID": 1032103404413143,
   "widgets": {}
  }
 },
 "nbformat": 4,
 "nbformat_minor": 0
}
