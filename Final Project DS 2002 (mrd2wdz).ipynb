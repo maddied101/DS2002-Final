{
 "cells": [
  {
   "cell_type": "code",
   "execution_count": 0,
   "metadata": {
    "application/vnd.databricks.v1+cell": {
     "cellMetadata": {
      "byteLimit": 2048000,
      "rowLimit": 10000
     },
     "inputWidgets": {},
     "nuid": "90a30144-1d46-469b-bc42-f4e7bd41f090",
     "showTitle": false,
     "title": ""
    }
   },
   "outputs": [],
   "source": [
    "## This is my final project for DS 2002. I used the Sakila database to create a datalake house, sourcing my hot and cold path data from MySQL, MongoDB, and the Cloud file system, modeling the movie rental process. Thanks for reading!"
   ]
  },
  {
   "cell_type": "code",
   "execution_count": 0,
   "metadata": {
    "application/vnd.databricks.v1+cell": {
     "cellMetadata": {
      "byteLimit": 2048000,
      "rowLimit": 10000
     },
     "inputWidgets": {},
     "nuid": "3e941c61-4720-40d9-aa0e-e893feb96ce6",
     "showTitle": false,
     "title": ""
    }
   },
   "outputs": [],
   "source": [
    "###Import required libraries"
   ]
  },
  {
   "cell_type": "code",
   "execution_count": 0,
   "metadata": {
    "application/vnd.databricks.v1+cell": {
     "cellMetadata": {
      "byteLimit": 2048000,
      "rowLimit": 10000
     },
     "inputWidgets": {},
     "nuid": "74b53e7e-30d3-4dd8-ba79-8c44c7f9dd0c",
     "showTitle": false,
     "title": ""
    }
   },
   "outputs": [],
   "source": [
    "import os\n",
    "import json\n",
    "import pymongo\n",
    "import pyspark.pandas as pd  \n",
    "from pyspark.sql.functions import col\n",
    "from pyspark.sql.types import StructType, StructField, StringType, TimestampType, BinaryType\n",
    "from pyspark.sql.types import ByteType, ShortType, IntegerType, LongType, FloatType, DecimalType"
   ]
  },
  {
   "cell_type": "code",
   "execution_count": 0,
   "metadata": {
    "application/vnd.databricks.v1+cell": {
     "cellMetadata": {
      "byteLimit": 2048000,
      "rowLimit": 10000
     },
     "inputWidgets": {},
     "nuid": "cb764cb9-d8f4-4a87-be2f-e270a9ac440c",
     "showTitle": false,
     "title": ""
    }
   },
   "outputs": [],
   "source": [
    "###Instantiate global variables"
   ]
  },
  {
   "cell_type": "code",
   "execution_count": 0,
   "metadata": {
    "application/vnd.databricks.v1+cell": {
     "cellMetadata": {
      "byteLimit": 2048000,
      "rowLimit": 10000
     },
     "inputWidgets": {},
     "nuid": "4d6327bc-5272-4198-8724-9a734805eaa2",
     "showTitle": false,
     "title": ""
    }
   },
   "outputs": [
    {
     "output_type": "stream",
     "name": "stdout",
     "output_type": "stream",
     "text": [
      "Out[16]: True"
     ]
    }
   ],
   "source": [
    "# Azure MySQL Server Connection Information ###################\n",
    "jdbc_hostname = \"mrd2wdz-mysql.mysql.database.azure.com\"\n",
    "jdbc_port = 3306\n",
    "src_database = \"sakila_dw2\"\n",
    "\n",
    "connection_properties = {\n",
    "  \"user\" : \"mrd2wdz\",\n",
    "  \"password\" : \"Peachesrule1\",\n",
    "  \"driver\" : \"org.mariadb.jdbc.Driver\"\n",
    "}\n",
    "\n",
    "# MongoDB Atlas Connection Information ########################\n",
    "atlas_cluster_name = \"ds2002-md.b8ktadu\"\n",
    "atlas_database_name = \"sakila_dw2\"\n",
    "atlas_user_name = \"mrd2wdz\"\n",
    "atlas_password = \"Peachesrule1\"\n",
    "\n",
    "# Data Files (JSON) Information ###############################\n",
    "dst_database = \"sakila_dlh\"\n",
    "\n",
    "base_dir = \"dbfs:/FileStore/ds2002-lab06\"\n",
    "database_dir = f\"{base_dir}/{dst_database}\"\n",
    "\n",
    "data_dir = f\"{base_dir}/sourcedata\"\n",
    "batch_dir = f\"{data_dir}/batch\"\n",
    "stream_dir = f\"{data_dir}/stream\"\n",
    "\n",
    "rental_stream_dir = f\"{stream_dir}/rental\"\n",
    "\n",
    "rental_output_bronze = f\"{database_dir}/fact_rental/bronze\"\n",
    "rental_output_silver = f\"{database_dir}/fact_rental/silver\"\n",
    "rental_output_gold   = f\"{database_dir}/fact_rental/gold\"\n",
    "\n",
    "# Delete the Streaming Files ################################## \n",
    "dbutils.fs.rm(f\"{database_dir}/fact_rental\", True) \n",
    "\n",
    "# Delete the Database Files ###################################\n",
    "dbutils.fs.rm(database_dir, True)"
   ]
  },
  {
   "cell_type": "code",
   "execution_count": 0,
   "metadata": {
    "application/vnd.databricks.v1+cell": {
     "cellMetadata": {
      "byteLimit": 2048000,
      "rowLimit": 10000
     },
     "inputWidgets": {},
     "nuid": "faac7454-4d94-473d-bd05-c3ed02cd1df4",
     "showTitle": false,
     "title": ""
    }
   },
   "outputs": [],
   "source": [
    "###Define global functions"
   ]
  },
  {
   "cell_type": "code",
   "execution_count": 0,
   "metadata": {
    "application/vnd.databricks.v1+cell": {
     "cellMetadata": {
      "byteLimit": 2048000,
      "rowLimit": 10000
     },
     "inputWidgets": {},
     "nuid": "ce7ea44a-8bbb-4ebc-ace5-62ce19bf43a7",
     "showTitle": false,
     "title": ""
    }
   },
   "outputs": [],
   "source": [
    "# ######################################################################################################################\n",
    "# Use this Function to Fetch a DataFrame from the MongoDB Atlas database server Using PyMongo.\n",
    "# ######################################################################################################################\n",
    "def get_mongo_dataframe(user_id, pwd, cluster_name, db_name, collection, conditions, projection, sort):\n",
    "    '''Create a client connection to MongoDB'''\n",
    "    mongo_uri = f\"mongodb+srv://{user_id}:{pwd}@{cluster_name}.mongodb.net/{db_name}\"\n",
    "    \n",
    "    client = pymongo.MongoClient(mongo_uri)\n",
    "\n",
    "    '''Query MongoDB, and fill a python list with documents to create a DataFrame'''\n",
    "    db = client[db_name]\n",
    "    if conditions and projection and sort:\n",
    "        dframe = pd.DataFrame(list(db[collection].find(conditions, projection).sort(sort)))\n",
    "    elif conditions and projection and not sort:\n",
    "        dframe = pd.DataFrame(list(db[collection].find(conditions, projection)))\n",
    "    else:\n",
    "        dframe = pd.DataFrame(list(db[collection].find()))\n",
    "\n",
    "    client.close()\n",
    "    \n",
    "    return dframe\n",
    "\n",
    "# ######################################################################################################################\n",
    "# Use this Function to Create New Collections by Uploading JSON file(s) to the MongoDB Atlas server.\n",
    "# ######################################################################################################################\n",
    "def set_mongo_collection(user_id, pwd, cluster_name, db_name, src_file_path, json_files):\n",
    "    '''Create a client connection to MongoDB'''\n",
    "    mongo_uri = f\"mongodb+srv://{user_id}:{pwd}@{cluster_name}.mongodb.net/{db_name}\"\n",
    "    client = pymongo.MongoClient(mongo_uri)\n",
    "    db = client[db_name]\n",
    "    \n",
    "    '''Read in a JSON file, and Use It to Create a New Collection'''\n",
    "    for file in json_files:\n",
    "        db.drop_collection(file)\n",
    "        json_file = os.path.join(src_file_path, json_files[file])\n",
    "        with open(json_file, 'r') as openfile:\n",
    "            json_object = json.load(openfile)\n",
    "            file = db[file]\n",
    "            result = file.insert_many(json_object)\n",
    "\n",
    "    client.close()\n",
    "    \n",
    "    return result"
   ]
  },
  {
   "cell_type": "code",
   "execution_count": 0,
   "metadata": {
    "application/vnd.databricks.v1+cell": {
     "cellMetadata": {
      "byteLimit": 2048000,
      "rowLimit": 10000
     },
     "inputWidgets": {},
     "nuid": "259ea2c3-3685-46ce-b03d-a01fe49bd982",
     "showTitle": false,
     "title": ""
    }
   },
   "outputs": [],
   "source": [
    "## Populate Dimensions by Ingesting Reference (Cold-path) Data\n",
    "## Fetch Reference Data From an Azure MySQL Database\n",
    "## Create a New Databricks Metadata Database."
   ]
  },
  {
   "cell_type": "code",
   "execution_count": 0,
   "metadata": {
    "application/vnd.databricks.v1+cell": {
     "cellMetadata": {
      "byteLimit": 2048000,
      "implicitDf": true,
      "rowLimit": 10000
     },
     "inputWidgets": {},
     "nuid": "da3f3f87-562f-4aa5-ab89-3cc167c6c794",
     "showTitle": false,
     "title": ""
    }
   },
   "outputs": [
    {
     "output_type": "display_data",
     "data": {
      "text/html": [
       "<style scoped>\n",
       "  .table-result-container {\n",
       "    max-height: 300px;\n",
       "    overflow: auto;\n",
       "  }\n",
       "  table, th, td {\n",
       "    border: 1px solid black;\n",
       "    border-collapse: collapse;\n",
       "  }\n",
       "  th, td {\n",
       "    padding: 5px;\n",
       "  }\n",
       "  th {\n",
       "    text-align: left;\n",
       "  }\n",
       "</style><div class='table-result-container'><table class='table-result'><thead style='background-color: white'><tr></tr></thead><tbody></tbody></table></div>"
      ]
     },
     "metadata": {
      "application/vnd.databricks.v1+output": {
       "addedWidgets": {},
       "aggData": [],
       "aggError": "",
       "aggOverflow": false,
       "aggSchema": [],
       "aggSeriesLimitReached": false,
       "aggType": "",
       "arguments": {},
       "columnCustomDisplayInfos": {},
       "data": [],
       "datasetInfos": [],
       "dbfsResultPath": null,
       "isJsonSchema": true,
       "metadata": {},
       "overflow": false,
       "plotOptions": {
        "customPlotOptions": {},
        "displayType": "table",
        "pivotAggregation": null,
        "pivotColumns": null,
        "xColumns": null,
        "yColumns": null
       },
       "removedWidgets": [],
       "schema": [],
       "type": "table"
      }
     },
     "output_type": "display_data"
    }
   ],
   "source": [
    "%sql\n",
    "DROP DATABASE IF EXISTS sakila_dlh CASCADE;"
   ]
  },
  {
   "cell_type": "code",
   "execution_count": 0,
   "metadata": {
    "application/vnd.databricks.v1+cell": {
     "cellMetadata": {
      "byteLimit": 2048000,
      "implicitDf": true,
      "rowLimit": 10000
     },
     "inputWidgets": {},
     "nuid": "e92f7f11-43ba-4234-8e61-c79821a28541",
     "showTitle": false,
     "title": ""
    }
   },
   "outputs": [
    {
     "output_type": "display_data",
     "data": {
      "text/html": [
       "<style scoped>\n",
       "  .table-result-container {\n",
       "    max-height: 300px;\n",
       "    overflow: auto;\n",
       "  }\n",
       "  table, th, td {\n",
       "    border: 1px solid black;\n",
       "    border-collapse: collapse;\n",
       "  }\n",
       "  th, td {\n",
       "    padding: 5px;\n",
       "  }\n",
       "  th {\n",
       "    text-align: left;\n",
       "  }\n",
       "</style><div class='table-result-container'><table class='table-result'><thead style='background-color: white'><tr></tr></thead><tbody></tbody></table></div>"
      ]
     },
     "metadata": {
      "application/vnd.databricks.v1+output": {
       "addedWidgets": {},
       "aggData": [],
       "aggError": "",
       "aggOverflow": false,
       "aggSchema": [],
       "aggSeriesLimitReached": false,
       "aggType": "",
       "arguments": {},
       "columnCustomDisplayInfos": {},
       "data": [],
       "datasetInfos": [],
       "dbfsResultPath": null,
       "isJsonSchema": true,
       "metadata": {},
       "overflow": false,
       "plotOptions": {
        "customPlotOptions": {},
        "displayType": "table",
        "pivotAggregation": null,
        "pivotColumns": null,
        "xColumns": null,
        "yColumns": null
       },
       "removedWidgets": [],
       "schema": [],
       "type": "table"
      }
     },
     "output_type": "display_data"
    }
   ],
   "source": [
    "%sql\n",
    "CREATE DATABASE IF NOT EXISTS sakila_dlh\n",
    "COMMENT \"DS-2002 Lab 06 Database\"\n",
    "LOCATION \"dbfs:/FileStore/ds2002-lab06/sakila_dlh\"\n",
    "WITH DBPROPERTIES (contains_pii = true, purpose = \"DS-2002 Lab 6.0\");"
   ]
  },
  {
   "cell_type": "code",
   "execution_count": 0,
   "metadata": {
    "application/vnd.databricks.v1+cell": {
     "cellMetadata": {
      "byteLimit": 2048000,
      "rowLimit": 10000
     },
     "inputWidgets": {},
     "nuid": "237723ba-0f14-4bff-a8d4-c2ace6b609f9",
     "showTitle": false,
     "title": ""
    }
   },
   "outputs": [],
   "source": [
    "###Create a New Table that Sources Date Dimension Data from a Table in an Azure MySQL database."
   ]
  },
  {
   "cell_type": "code",
   "execution_count": 0,
   "metadata": {
    "application/vnd.databricks.v1+cell": {
     "cellMetadata": {
      "byteLimit": 2048000,
      "implicitDf": true,
      "rowLimit": 10000
     },
     "inputWidgets": {},
     "nuid": "fb4e8bad-bb5c-44f4-bd48-6ceb15e1cce9",
     "showTitle": false,
     "title": ""
    }
   },
   "outputs": [
    {
     "output_type": "display_data",
     "data": {
      "text/html": [
       "<style scoped>\n",
       "  .table-result-container {\n",
       "    max-height: 300px;\n",
       "    overflow: auto;\n",
       "  }\n",
       "  table, th, td {\n",
       "    border: 1px solid black;\n",
       "    border-collapse: collapse;\n",
       "  }\n",
       "  th, td {\n",
       "    padding: 5px;\n",
       "  }\n",
       "  th {\n",
       "    text-align: left;\n",
       "  }\n",
       "</style><div class='table-result-container'><table class='table-result'><thead style='background-color: white'><tr></tr></thead><tbody></tbody></table></div>"
      ]
     },
     "metadata": {
      "application/vnd.databricks.v1+output": {
       "addedWidgets": {},
       "aggData": [],
       "aggError": "",
       "aggOverflow": false,
       "aggSchema": [],
       "aggSeriesLimitReached": false,
       "aggType": "",
       "arguments": {},
       "columnCustomDisplayInfos": {},
       "data": [],
       "datasetInfos": [],
       "dbfsResultPath": null,
       "isJsonSchema": true,
       "metadata": {},
       "overflow": false,
       "plotOptions": {
        "customPlotOptions": {},
        "displayType": "table",
        "pivotAggregation": null,
        "pivotColumns": null,
        "xColumns": null,
        "yColumns": null
       },
       "removedWidgets": [],
       "schema": [],
       "type": "table"
      }
     },
     "output_type": "display_data"
    }
   ],
   "source": [
    "%sql\n",
    "CREATE OR REPLACE TEMPORARY VIEW view_date\n",
    "USING org.apache.spark.sql.jdbc\n",
    "OPTIONS (\n",
    "  url \"jdbc:mysql://mrd2wdz-mysql.mysql.database.azure.com:3306/sakila_dw2\",\n",
    "  dbtable \"dim_date\",\n",
    "  user \"mrd2wdz\",\n",
    "  password \"Peachesrule1\"\n",
    ")"
   ]
  },
  {
   "cell_type": "code",
   "execution_count": 0,
   "metadata": {
    "application/vnd.databricks.v1+cell": {
     "cellMetadata": {
      "byteLimit": 2048000,
      "implicitDf": true,
      "rowLimit": 10000
     },
     "inputWidgets": {},
     "nuid": "1c1d58ef-962f-4ac7-b316-42e8044a668d",
     "showTitle": false,
     "title": ""
    }
   },
   "outputs": [
    {
     "output_type": "display_data",
     "data": {
      "text/html": [
       "<style scoped>\n",
       "  .table-result-container {\n",
       "    max-height: 300px;\n",
       "    overflow: auto;\n",
       "  }\n",
       "  table, th, td {\n",
       "    border: 1px solid black;\n",
       "    border-collapse: collapse;\n",
       "  }\n",
       "  th, td {\n",
       "    padding: 5px;\n",
       "  }\n",
       "  th {\n",
       "    text-align: left;\n",
       "  }\n",
       "</style><div class='table-result-container'><table class='table-result'><thead style='background-color: white'><tr><th>num_affected_rows</th><th>num_inserted_rows</th></tr></thead><tbody></tbody></table></div>"
      ]
     },
     "metadata": {
      "application/vnd.databricks.v1+output": {
       "addedWidgets": {},
       "aggData": [],
       "aggError": "",
       "aggOverflow": false,
       "aggSchema": [],
       "aggSeriesLimitReached": false,
       "aggType": "",
       "arguments": {},
       "columnCustomDisplayInfos": {},
       "data": [],
       "datasetInfos": [],
       "dbfsResultPath": null,
       "isJsonSchema": true,
       "metadata": {},
       "overflow": false,
       "plotOptions": {
        "customPlotOptions": {},
        "displayType": "table",
        "pivotAggregation": null,
        "pivotColumns": null,
        "xColumns": null,
        "yColumns": null
       },
       "removedWidgets": [],
       "schema": [
        {
         "metadata": "{}",
         "name": "num_affected_rows",
         "type": "\"long\""
        },
        {
         "metadata": "{}",
         "name": "num_inserted_rows",
         "type": "\"long\""
        }
       ],
       "type": "table"
      }
     },
     "output_type": "display_data"
    }
   ],
   "source": [
    "%sql\n",
    "USE DATABASE sakila_dlh;\n",
    "\n",
    "CREATE OR REPLACE TABLE sakila_dlh.dim_date\n",
    "COMMENT \"Date Dimension Table\"\n",
    "LOCATION \"dbfs:/FileStore/ds2002-lab06/sakila_dlh/dim_date\"\n",
    "AS SELECT * FROM view_date"
   ]
  },
  {
   "cell_type": "code",
   "execution_count": 0,
   "metadata": {
    "application/vnd.databricks.v1+cell": {
     "cellMetadata": {
      "byteLimit": 2048000,
      "implicitDf": true,
      "rowLimit": 10000
     },
     "inputWidgets": {},
     "nuid": "f409e8f0-ecca-42c4-972a-c31aa80089cf",
     "showTitle": false,
     "title": ""
    }
   },
   "outputs": [
    {
     "output_type": "display_data",
     "data": {
      "text/html": [
       "<style scoped>\n",
       "  .table-result-container {\n",
       "    max-height: 300px;\n",
       "    overflow: auto;\n",
       "  }\n",
       "  table, th, td {\n",
       "    border: 1px solid black;\n",
       "    border-collapse: collapse;\n",
       "  }\n",
       "  th, td {\n",
       "    padding: 5px;\n",
       "  }\n",
       "  th {\n",
       "    text-align: left;\n",
       "  }\n",
       "</style><div class='table-result-container'><table class='table-result'><thead style='background-color: white'><tr><th>col_name</th><th>data_type</th><th>comment</th></tr></thead><tbody><tr><td>date_key</td><td>bigint</td><td>null</td></tr><tr><td>full_date</td><td>date</td><td>null</td></tr><tr><td></td><td></td><td></td></tr><tr><td># Detailed Table Information</td><td></td><td></td></tr><tr><td>Catalog</td><td>spark_catalog</td><td></td></tr><tr><td>Database</td><td>sakila_dlh</td><td></td></tr><tr><td>Table</td><td>dim_date</td><td></td></tr><tr><td>Type</td><td>EXTERNAL</td><td></td></tr><tr><td>Comment</td><td>Date Dimension Table</td><td></td></tr><tr><td>Location</td><td>dbfs:/FileStore/ds2002-lab06/sakila_dlh/dim_date</td><td></td></tr><tr><td>Provider</td><td>delta</td><td></td></tr><tr><td>Owner</td><td>root</td><td></td></tr><tr><td>Table Properties</td><td>[delta.minReaderVersion=1,delta.minWriterVersion=2]</td><td></td></tr></tbody></table></div>"
      ]
     },
     "metadata": {
      "application/vnd.databricks.v1+output": {
       "addedWidgets": {},
       "aggData": [],
       "aggError": "",
       "aggOverflow": false,
       "aggSchema": [],
       "aggSeriesLimitReached": false,
       "aggType": "",
       "arguments": {},
       "columnCustomDisplayInfos": {},
       "data": [
        [
         "date_key",
         "bigint",
         null
        ],
        [
         "full_date",
         "date",
         null
        ],
        [
         "",
         "",
         ""
        ],
        [
         "# Detailed Table Information",
         "",
         ""
        ],
        [
         "Catalog",
         "spark_catalog",
         ""
        ],
        [
         "Database",
         "sakila_dlh",
         ""
        ],
        [
         "Table",
         "dim_date",
         ""
        ],
        [
         "Type",
         "EXTERNAL",
         ""
        ],
        [
         "Comment",
         "Date Dimension Table",
         ""
        ],
        [
         "Location",
         "dbfs:/FileStore/ds2002-lab06/sakila_dlh/dim_date",
         ""
        ],
        [
         "Provider",
         "delta",
         ""
        ],
        [
         "Owner",
         "root",
         ""
        ],
        [
         "Table Properties",
         "[delta.minReaderVersion=1,delta.minWriterVersion=2]",
         ""
        ]
       ],
       "datasetInfos": [],
       "dbfsResultPath": null,
       "isJsonSchema": true,
       "metadata": {},
       "overflow": false,
       "plotOptions": {
        "customPlotOptions": {},
        "displayType": "table",
        "pivotAggregation": null,
        "pivotColumns": null,
        "xColumns": null,
        "yColumns": null
       },
       "removedWidgets": [],
       "schema": [
        {
         "metadata": "{\"comment\":\"name of the column\"}",
         "name": "col_name",
         "type": "\"string\""
        },
        {
         "metadata": "{\"comment\":\"data type of the column\"}",
         "name": "data_type",
         "type": "\"string\""
        },
        {
         "metadata": "{\"comment\":\"comment of the column\"}",
         "name": "comment",
         "type": "\"string\""
        }
       ],
       "type": "table"
      }
     },
     "output_type": "display_data"
    }
   ],
   "source": [
    "%sql\n",
    "DESCRIBE EXTENDED sakila_dlh.dim_date;"
   ]
  },
  {
   "cell_type": "code",
   "execution_count": 0,
   "metadata": {
    "application/vnd.databricks.v1+cell": {
     "cellMetadata": {
      "byteLimit": 2048000,
      "implicitDf": true,
      "rowLimit": 10000
     },
     "inputWidgets": {},
     "nuid": "eeab2a6b-c9e7-45c2-80da-82a668d83fcd",
     "showTitle": false,
     "title": ""
    }
   },
   "outputs": [
    {
     "output_type": "display_data",
     "data": {
      "text/html": [
       "<style scoped>\n",
       "  .table-result-container {\n",
       "    max-height: 300px;\n",
       "    overflow: auto;\n",
       "  }\n",
       "  table, th, td {\n",
       "    border: 1px solid black;\n",
       "    border-collapse: collapse;\n",
       "  }\n",
       "  th, td {\n",
       "    padding: 5px;\n",
       "  }\n",
       "  th {\n",
       "    text-align: left;\n",
       "  }\n",
       "</style><div class='table-result-container'><table class='table-result'><thead style='background-color: white'><tr><th>date_key</th><th>full_date</th></tr></thead><tbody><tr><td>20050101</td><td>2005-01-01</td></tr><tr><td>20050102</td><td>2005-01-02</td></tr><tr><td>20050103</td><td>2005-01-03</td></tr><tr><td>20050104</td><td>2005-01-04</td></tr><tr><td>20050105</td><td>2005-01-05</td></tr></tbody></table></div>"
      ]
     },
     "metadata": {
      "application/vnd.databricks.v1+output": {
       "addedWidgets": {},
       "aggData": [],
       "aggError": "",
       "aggOverflow": false,
       "aggSchema": [],
       "aggSeriesLimitReached": false,
       "aggType": "",
       "arguments": {},
       "columnCustomDisplayInfos": {},
       "data": [
        [
         20050101,
         "2005-01-01"
        ],
        [
         20050102,
         "2005-01-02"
        ],
        [
         20050103,
         "2005-01-03"
        ],
        [
         20050104,
         "2005-01-04"
        ],
        [
         20050105,
         "2005-01-05"
        ]
       ],
       "datasetInfos": [],
       "dbfsResultPath": null,
       "isJsonSchema": true,
       "metadata": {},
       "overflow": false,
       "plotOptions": {
        "customPlotOptions": {},
        "displayType": "table",
        "pivotAggregation": null,
        "pivotColumns": null,
        "xColumns": null,
        "yColumns": null
       },
       "removedWidgets": [],
       "schema": [
        {
         "metadata": "{\"scale\":0}",
         "name": "date_key",
         "type": "\"long\""
        },
        {
         "metadata": "{\"scale\":0}",
         "name": "full_date",
         "type": "\"date\""
        }
       ],
       "type": "table"
      }
     },
     "output_type": "display_data"
    }
   ],
   "source": [
    "%sql\n",
    "SELECT * FROM sakila_dlh.dim_date LIMIT 5"
   ]
  },
  {
   "cell_type": "code",
   "execution_count": 0,
   "metadata": {
    "application/vnd.databricks.v1+cell": {
     "cellMetadata": {
      "byteLimit": 2048000,
      "rowLimit": 10000
     },
     "inputWidgets": {},
     "nuid": "cec65fb5-10d7-4551-98f4-29aeaf969ed6",
     "showTitle": false,
     "title": ""
    }
   },
   "outputs": [],
   "source": [
    "###Create a New Table that Sources Customer Dimension Data from an Azure MySQL database."
   ]
  },
  {
   "cell_type": "code",
   "execution_count": 0,
   "metadata": {
    "application/vnd.databricks.v1+cell": {
     "cellMetadata": {
      "byteLimit": 2048000,
      "implicitDf": true,
      "rowLimit": 10000
     },
     "inputWidgets": {},
     "nuid": "025da1d9-69c9-4679-8109-9cf18fb0786b",
     "showTitle": false,
     "title": ""
    }
   },
   "outputs": [
    {
     "output_type": "display_data",
     "data": {
      "text/html": [
       "<style scoped>\n",
       "  .table-result-container {\n",
       "    max-height: 300px;\n",
       "    overflow: auto;\n",
       "  }\n",
       "  table, th, td {\n",
       "    border: 1px solid black;\n",
       "    border-collapse: collapse;\n",
       "  }\n",
       "  th, td {\n",
       "    padding: 5px;\n",
       "  }\n",
       "  th {\n",
       "    text-align: left;\n",
       "  }\n",
       "</style><div class='table-result-container'><table class='table-result'><thead style='background-color: white'><tr></tr></thead><tbody></tbody></table></div>"
      ]
     },
     "metadata": {
      "application/vnd.databricks.v1+output": {
       "addedWidgets": {},
       "aggData": [],
       "aggError": "",
       "aggOverflow": false,
       "aggSchema": [],
       "aggSeriesLimitReached": false,
       "aggType": "",
       "arguments": {},
       "columnCustomDisplayInfos": {},
       "data": [],
       "datasetInfos": [],
       "dbfsResultPath": null,
       "isJsonSchema": true,
       "metadata": {},
       "overflow": false,
       "plotOptions": {
        "customPlotOptions": {},
        "displayType": "table",
        "pivotAggregation": null,
        "pivotColumns": null,
        "xColumns": null,
        "yColumns": null
       },
       "removedWidgets": [],
       "schema": [],
       "type": "table"
      }
     },
     "output_type": "display_data"
    }
   ],
   "source": [
    "%sql\n",
    "CREATE OR REPLACE TEMPORARY VIEW view_customer\n",
    "USING org.apache.spark.sql.jdbc\n",
    "OPTIONS (\n",
    "  url \"jdbc:mysql://mrd2wdz-mysql.mysql.database.azure.com:3306/sakila_dw2\",\n",
    "  dbtable \"dim_customer\",\n",
    "  user \"mrd2wdz\",\n",
    "  password \"Peachesrule1\"\n",
    ")"
   ]
  },
  {
   "cell_type": "code",
   "execution_count": 0,
   "metadata": {
    "application/vnd.databricks.v1+cell": {
     "cellMetadata": {
      "byteLimit": 2048000,
      "implicitDf": true,
      "rowLimit": 10000
     },
     "inputWidgets": {},
     "nuid": "03356e94-c5c9-49e2-9560-b6a9b4641bd3",
     "showTitle": false,
     "title": ""
    }
   },
   "outputs": [
    {
     "output_type": "display_data",
     "data": {
      "text/html": [
       "<style scoped>\n",
       "  .table-result-container {\n",
       "    max-height: 300px;\n",
       "    overflow: auto;\n",
       "  }\n",
       "  table, th, td {\n",
       "    border: 1px solid black;\n",
       "    border-collapse: collapse;\n",
       "  }\n",
       "  th, td {\n",
       "    padding: 5px;\n",
       "  }\n",
       "  th {\n",
       "    text-align: left;\n",
       "  }\n",
       "</style><div class='table-result-container'><table class='table-result'><thead style='background-color: white'><tr><th>num_affected_rows</th><th>num_inserted_rows</th></tr></thead><tbody></tbody></table></div>"
      ]
     },
     "metadata": {
      "application/vnd.databricks.v1+output": {
       "addedWidgets": {},
       "aggData": [],
       "aggError": "",
       "aggOverflow": false,
       "aggSchema": [],
       "aggSeriesLimitReached": false,
       "aggType": "",
       "arguments": {},
       "columnCustomDisplayInfos": {},
       "data": [],
       "datasetInfos": [],
       "dbfsResultPath": null,
       "isJsonSchema": true,
       "metadata": {},
       "overflow": false,
       "plotOptions": {
        "customPlotOptions": {},
        "displayType": "table",
        "pivotAggregation": null,
        "pivotColumns": null,
        "xColumns": null,
        "yColumns": null
       },
       "removedWidgets": [],
       "schema": [
        {
         "metadata": "{}",
         "name": "num_affected_rows",
         "type": "\"long\""
        },
        {
         "metadata": "{}",
         "name": "num_inserted_rows",
         "type": "\"long\""
        }
       ],
       "type": "table"
      }
     },
     "output_type": "display_data"
    }
   ],
   "source": [
    "%sql\n",
    "USE DATABASE sakila_dlh;\n",
    "CREATE OR REPLACE TABLE sakila_dlh.dim_customer\n",
    "COMMENT \"Customer Dimension Table\"\n",
    "LOCATION \"dbfs:/FileStore/ds2002-lab06/sakila_dlh/dim_customer\"\n",
    "AS SELECT * FROM view_customer"
   ]
  },
  {
   "cell_type": "code",
   "execution_count": 0,
   "metadata": {
    "application/vnd.databricks.v1+cell": {
     "cellMetadata": {
      "byteLimit": 2048000,
      "implicitDf": true,
      "rowLimit": 10000
     },
     "inputWidgets": {},
     "nuid": "65bc22e2-2fd2-4abd-a07c-2b0ad6c55038",
     "showTitle": false,
     "title": ""
    }
   },
   "outputs": [
    {
     "output_type": "display_data",
     "data": {
      "text/html": [
       "<style scoped>\n",
       "  .table-result-container {\n",
       "    max-height: 300px;\n",
       "    overflow: auto;\n",
       "  }\n",
       "  table, th, td {\n",
       "    border: 1px solid black;\n",
       "    border-collapse: collapse;\n",
       "  }\n",
       "  th, td {\n",
       "    padding: 5px;\n",
       "  }\n",
       "  th {\n",
       "    text-align: left;\n",
       "  }\n",
       "</style><div class='table-result-container'><table class='table-result'><thead style='background-color: white'><tr><th>col_name</th><th>data_type</th><th>comment</th></tr></thead><tbody><tr><td>customer_key</td><td>bigint</td><td>null</td></tr><tr><td>store_id</td><td>bigint</td><td>null</td></tr><tr><td>first_name</td><td>string</td><td>null</td></tr><tr><td>last_name</td><td>string</td><td>null</td></tr><tr><td>email</td><td>string</td><td>null</td></tr><tr><td>address_id</td><td>bigint</td><td>null</td></tr><tr><td>active</td><td>bigint</td><td>null</td></tr><tr><td>create_date</td><td>string</td><td>null</td></tr><tr><td>last_update</td><td>string</td><td>null</td></tr><tr><td></td><td></td><td></td></tr><tr><td># Detailed Table Information</td><td></td><td></td></tr><tr><td>Catalog</td><td>spark_catalog</td><td></td></tr><tr><td>Database</td><td>sakila_dlh</td><td></td></tr><tr><td>Table</td><td>dim_customer</td><td></td></tr><tr><td>Type</td><td>EXTERNAL</td><td></td></tr><tr><td>Comment</td><td>Customer Dimension Table</td><td></td></tr><tr><td>Location</td><td>dbfs:/FileStore/ds2002-lab06/sakila_dlh/dim_customer</td><td></td></tr><tr><td>Provider</td><td>delta</td><td></td></tr><tr><td>Owner</td><td>root</td><td></td></tr><tr><td>Table Properties</td><td>[delta.minReaderVersion=1,delta.minWriterVersion=2]</td><td></td></tr></tbody></table></div>"
      ]
     },
     "metadata": {
      "application/vnd.databricks.v1+output": {
       "addedWidgets": {},
       "aggData": [],
       "aggError": "",
       "aggOverflow": false,
       "aggSchema": [],
       "aggSeriesLimitReached": false,
       "aggType": "",
       "arguments": {},
       "columnCustomDisplayInfos": {},
       "data": [
        [
         "customer_key",
         "bigint",
         null
        ],
        [
         "store_id",
         "bigint",
         null
        ],
        [
         "first_name",
         "string",
         null
        ],
        [
         "last_name",
         "string",
         null
        ],
        [
         "email",
         "string",
         null
        ],
        [
         "address_id",
         "bigint",
         null
        ],
        [
         "active",
         "bigint",
         null
        ],
        [
         "create_date",
         "string",
         null
        ],
        [
         "last_update",
         "string",
         null
        ],
        [
         "",
         "",
         ""
        ],
        [
         "# Detailed Table Information",
         "",
         ""
        ],
        [
         "Catalog",
         "spark_catalog",
         ""
        ],
        [
         "Database",
         "sakila_dlh",
         ""
        ],
        [
         "Table",
         "dim_customer",
         ""
        ],
        [
         "Type",
         "EXTERNAL",
         ""
        ],
        [
         "Comment",
         "Customer Dimension Table",
         ""
        ],
        [
         "Location",
         "dbfs:/FileStore/ds2002-lab06/sakila_dlh/dim_customer",
         ""
        ],
        [
         "Provider",
         "delta",
         ""
        ],
        [
         "Owner",
         "root",
         ""
        ],
        [
         "Table Properties",
         "[delta.minReaderVersion=1,delta.minWriterVersion=2]",
         ""
        ]
       ],
       "datasetInfos": [],
       "dbfsResultPath": null,
       "isJsonSchema": true,
       "metadata": {},
       "overflow": false,
       "plotOptions": {
        "customPlotOptions": {},
        "displayType": "table",
        "pivotAggregation": null,
        "pivotColumns": null,
        "xColumns": null,
        "yColumns": null
       },
       "removedWidgets": [],
       "schema": [
        {
         "metadata": "{\"comment\":\"name of the column\"}",
         "name": "col_name",
         "type": "\"string\""
        },
        {
         "metadata": "{\"comment\":\"data type of the column\"}",
         "name": "data_type",
         "type": "\"string\""
        },
        {
         "metadata": "{\"comment\":\"comment of the column\"}",
         "name": "comment",
         "type": "\"string\""
        }
       ],
       "type": "table"
      }
     },
     "output_type": "display_data"
    }
   ],
   "source": [
    "%sql\n",
    "DESCRIBE EXTENDED sakila_dlh.dim_customer;"
   ]
  },
  {
   "cell_type": "code",
   "execution_count": 0,
   "metadata": {
    "application/vnd.databricks.v1+cell": {
     "cellMetadata": {
      "byteLimit": 2048000,
      "implicitDf": true,
      "rowLimit": 10000
     },
     "inputWidgets": {},
     "nuid": "479f8cdd-c64e-4279-ae8b-3b187c933324",
     "showTitle": false,
     "title": ""
    }
   },
   "outputs": [
    {
     "output_type": "display_data",
     "data": {
      "text/html": [
       "<style scoped>\n",
       "  .table-result-container {\n",
       "    max-height: 300px;\n",
       "    overflow: auto;\n",
       "  }\n",
       "  table, th, td {\n",
       "    border: 1px solid black;\n",
       "    border-collapse: collapse;\n",
       "  }\n",
       "  th, td {\n",
       "    padding: 5px;\n",
       "  }\n",
       "  th {\n",
       "    text-align: left;\n",
       "  }\n",
       "</style><div class='table-result-container'><table class='table-result'><thead style='background-color: white'><tr><th>customer_key</th><th>store_id</th><th>first_name</th><th>last_name</th><th>email</th><th>address_id</th><th>active</th><th>create_date</th><th>last_update</th></tr></thead><tbody><tr><td>1</td><td>1</td><td>MARY</td><td>SMITH</td><td>MARY.SMITH@sakilacustomer.org</td><td>5</td><td>1</td><td>2006-02-14 22:04:36</td><td>2006-02-15 04:57:20</td></tr><tr><td>2</td><td>1</td><td>PATRICIA</td><td>JOHNSON</td><td>PATRICIA.JOHNSON@sakilacustomer.org</td><td>6</td><td>1</td><td>2006-02-14 22:04:36</td><td>2006-02-15 04:57:20</td></tr><tr><td>3</td><td>1</td><td>LINDA</td><td>WILLIAMS</td><td>LINDA.WILLIAMS@sakilacustomer.org</td><td>7</td><td>1</td><td>2006-02-14 22:04:36</td><td>2006-02-15 04:57:20</td></tr><tr><td>4</td><td>2</td><td>BARBARA</td><td>JONES</td><td>BARBARA.JONES@sakilacustomer.org</td><td>8</td><td>1</td><td>2006-02-14 22:04:36</td><td>2006-02-15 04:57:20</td></tr><tr><td>5</td><td>1</td><td>ELIZABETH</td><td>BROWN</td><td>ELIZABETH.BROWN@sakilacustomer.org</td><td>9</td><td>1</td><td>2006-02-14 22:04:36</td><td>2006-02-15 04:57:20</td></tr></tbody></table></div>"
      ]
     },
     "metadata": {
      "application/vnd.databricks.v1+output": {
       "addedWidgets": {},
       "aggData": [],
       "aggError": "",
       "aggOverflow": false,
       "aggSchema": [],
       "aggSeriesLimitReached": false,
       "aggType": "",
       "arguments": {},
       "columnCustomDisplayInfos": {},
       "data": [
        [
         1,
         1,
         "MARY",
         "SMITH",
         "MARY.SMITH@sakilacustomer.org",
         5,
         1,
         "2006-02-14 22:04:36",
         "2006-02-15 04:57:20"
        ],
        [
         2,
         1,
         "PATRICIA",
         "JOHNSON",
         "PATRICIA.JOHNSON@sakilacustomer.org",
         6,
         1,
         "2006-02-14 22:04:36",
         "2006-02-15 04:57:20"
        ],
        [
         3,
         1,
         "LINDA",
         "WILLIAMS",
         "LINDA.WILLIAMS@sakilacustomer.org",
         7,
         1,
         "2006-02-14 22:04:36",
         "2006-02-15 04:57:20"
        ],
        [
         4,
         2,
         "BARBARA",
         "JONES",
         "BARBARA.JONES@sakilacustomer.org",
         8,
         1,
         "2006-02-14 22:04:36",
         "2006-02-15 04:57:20"
        ],
        [
         5,
         1,
         "ELIZABETH",
         "BROWN",
         "ELIZABETH.BROWN@sakilacustomer.org",
         9,
         1,
         "2006-02-14 22:04:36",
         "2006-02-15 04:57:20"
        ]
       ],
       "datasetInfos": [],
       "dbfsResultPath": null,
       "isJsonSchema": true,
       "metadata": {},
       "overflow": false,
       "plotOptions": {
        "customPlotOptions": {},
        "displayType": "table",
        "pivotAggregation": null,
        "pivotColumns": null,
        "xColumns": null,
        "yColumns": null
       },
       "removedWidgets": [],
       "schema": [
        {
         "metadata": "{\"scale\":0}",
         "name": "customer_key",
         "type": "\"long\""
        },
        {
         "metadata": "{\"scale\":0}",
         "name": "store_id",
         "type": "\"long\""
        },
        {
         "metadata": "{\"scale\":0}",
         "name": "first_name",
         "type": "\"string\""
        },
        {
         "metadata": "{\"scale\":0}",
         "name": "last_name",
         "type": "\"string\""
        },
        {
         "metadata": "{\"scale\":0}",
         "name": "email",
         "type": "\"string\""
        },
        {
         "metadata": "{\"scale\":0}",
         "name": "address_id",
         "type": "\"long\""
        },
        {
         "metadata": "{\"scale\":0}",
         "name": "active",
         "type": "\"long\""
        },
        {
         "metadata": "{\"scale\":0}",
         "name": "create_date",
         "type": "\"string\""
        },
        {
         "metadata": "{\"scale\":0}",
         "name": "last_update",
         "type": "\"string\""
        }
       ],
       "type": "table"
      }
     },
     "output_type": "display_data"
    }
   ],
   "source": [
    "%sql\n",
    "SELECT * FROM sakila_dlh.dim_customer LIMIT 5"
   ]
  },
  {
   "cell_type": "code",
   "execution_count": 0,
   "metadata": {
    "application/vnd.databricks.v1+cell": {
     "cellMetadata": {
      "byteLimit": 2048000,
      "rowLimit": 10000
     },
     "inputWidgets": {},
     "nuid": "5c20e50e-98da-4837-bbbd-ef6bbca152ac",
     "showTitle": false,
     "title": ""
    }
   },
   "outputs": [],
   "source": [
    "##Fetch Reference Data from a MongoDB Atlas Database\n",
    "##View the Data Files on the Databricks File System"
   ]
  },
  {
   "cell_type": "code",
   "execution_count": 0,
   "metadata": {
    "application/vnd.databricks.v1+cell": {
     "cellMetadata": {
      "byteLimit": 2048000,
      "rowLimit": 10000
     },
     "inputWidgets": {},
     "nuid": "640d19b3-9920-4cf0-928c-76f0eb229ab3",
     "showTitle": false,
     "title": ""
    }
   },
   "outputs": [
    {
     "output_type": "display_data",
     "data": {
      "text/html": [
       "<style scoped>\n",
       "  .table-result-container {\n",
       "    max-height: 300px;\n",
       "    overflow: auto;\n",
       "  }\n",
       "  table, th, td {\n",
       "    border: 1px solid black;\n",
       "    border-collapse: collapse;\n",
       "  }\n",
       "  th, td {\n",
       "    padding: 5px;\n",
       "  }\n",
       "  th {\n",
       "    text-align: left;\n",
       "  }\n",
       "</style><div class='table-result-container'><table class='table-result'><thead style='background-color: white'><tr><th>path</th><th>name</th><th>size</th><th>modificationTime</th></tr></thead><tbody><tr><td>dbfs:/FileStore/ds2002-lab06/sourcedata/batch/sakila_diminventory.csv</td><td>sakila_diminventory.csv</td><td>12432</td><td>1683041816000</td></tr><tr><td>dbfs:/FileStore/ds2002-lab06/sourcedata/batch/sakila_staffdim.json</td><td>sakila_staffdim.json</td><td>468</td><td>1683041816000</td></tr></tbody></table></div>"
      ]
     },
     "metadata": {
      "application/vnd.databricks.v1+output": {
       "addedWidgets": {},
       "aggData": [],
       "aggError": "",
       "aggOverflow": false,
       "aggSchema": [],
       "aggSeriesLimitReached": false,
       "aggType": "",
       "arguments": {},
       "columnCustomDisplayInfos": {},
       "data": [
        [
         "dbfs:/FileStore/ds2002-lab06/sourcedata/batch/sakila_diminventory.csv",
         "sakila_diminventory.csv",
         12432,
         1683041816000
        ],
        [
         "dbfs:/FileStore/ds2002-lab06/sourcedata/batch/sakila_staffdim.json",
         "sakila_staffdim.json",
         468,
         1683041816000
        ]
       ],
       "datasetInfos": [],
       "dbfsResultPath": null,
       "isJsonSchema": true,
       "metadata": {},
       "overflow": false,
       "plotOptions": {
        "customPlotOptions": {},
        "displayType": "table",
        "pivotAggregation": null,
        "pivotColumns": null,
        "xColumns": null,
        "yColumns": null
       },
       "removedWidgets": [],
       "schema": [
        {
         "metadata": "{}",
         "name": "path",
         "type": "\"string\""
        },
        {
         "metadata": "{}",
         "name": "name",
         "type": "\"string\""
        },
        {
         "metadata": "{}",
         "name": "size",
         "type": "\"long\""
        },
        {
         "metadata": "{}",
         "name": "modificationTime",
         "type": "\"long\""
        }
       ],
       "type": "table"
      }
     },
     "output_type": "display_data"
    }
   ],
   "source": [
    "display(dbutils.fs.ls(batch_dir))"
   ]
  },
  {
   "cell_type": "code",
   "execution_count": 0,
   "metadata": {
    "application/vnd.databricks.v1+cell": {
     "cellMetadata": {
      "byteLimit": 2048000,
      "rowLimit": 10000
     },
     "inputWidgets": {},
     "nuid": "ece89d92-d7fb-4819-9d7f-8fec334150d8",
     "showTitle": false,
     "title": ""
    }
   },
   "outputs": [],
   "source": [
    "##Create a New MongoDB Database, and Load JSON Data Into a New MongoDB Collection"
   ]
  },
  {
   "cell_type": "code",
   "execution_count": 0,
   "metadata": {
    "application/vnd.databricks.v1+cell": {
     "cellMetadata": {
      "byteLimit": 2048000,
      "rowLimit": 10000
     },
     "inputWidgets": {},
     "nuid": "cabcd2ee-8487-497f-8f71-ecec1a6f842c",
     "showTitle": false,
     "title": ""
    }
   },
   "outputs": [
    {
     "output_type": "stream",
     "name": "stdout",
     "output_type": "stream",
     "text": [
      "Out[35]: <pymongo.results.InsertManyResult at 0x7faf281646c0>"
     ]
    }
   ],
   "source": [
    "source_dir = '/dbfs/FileStore/ds2002-lab06/sourcedata/batch'\n",
    "json_files = {\"staff\" : 'sakila_staffdim.json'}\n",
    "\n",
    "set_mongo_collection(atlas_user_name, atlas_password, atlas_cluster_name, atlas_database_name, source_dir, json_files) "
   ]
  },
  {
   "cell_type": "code",
   "execution_count": 0,
   "metadata": {
    "application/vnd.databricks.v1+cell": {
     "cellMetadata": {
      "byteLimit": 2048000,
      "rowLimit": 10000
     },
     "inputWidgets": {},
     "nuid": "f79b0268-b2fe-4eb0-b12d-9d9db24784ee",
     "showTitle": false,
     "title": ""
    }
   },
   "outputs": [],
   "source": [
    "##Fetch Staff Dimension Data from the New MongoDB Collection"
   ]
  },
  {
   "cell_type": "code",
   "execution_count": 0,
   "metadata": {
    "application/vnd.databricks.v1+cell": {
     "cellMetadata": {
      "byteLimit": 2048000,
      "rowLimit": 10000
     },
     "inputWidgets": {},
     "nuid": "1c0b0b61-bf43-410c-86e6-498b9781d869",
     "showTitle": false,
     "title": ""
    }
   },
   "outputs": [
    {
     "output_type": "display_data",
     "data": {
      "text/html": [
       "<style scoped>\n",
       "  .table-result-container {\n",
       "    max-height: 300px;\n",
       "    overflow: auto;\n",
       "  }\n",
       "  table, th, td {\n",
       "    border: 1px solid black;\n",
       "    border-collapse: collapse;\n",
       "  }\n",
       "  th, td {\n",
       "    padding: 5px;\n",
       "  }\n",
       "  th {\n",
       "    text-align: left;\n",
       "  }\n",
       "</style><div class='table-result-container'><table class='table-result'><thead style='background-color: white'><tr><th>staff_key</th><th>first_name</th><th>last_name</th><th>address_id</th><th>email</th><th>store_id</th><th>active</th><th>username</th><th>password</th><th>last_update</th></tr></thead><tbody><tr><td>1</td><td>Mike</td><td>Hillyer</td><td>3</td><td>Mike.Hillyer@sakilastaff.com</td><td>1</td><td>1</td><td>Mike</td><td>8cb2237d0679ca88db6464eac60da96345513964</td><td>2006-02-15 03:57:16</td></tr><tr><td>2</td><td>Jon</td><td>Stephens</td><td>4</td><td>Jon.Stephens@sakilastaff.com</td><td>2</td><td>1</td><td>Jon</td><td></td><td>2006-02-15 03:57:16</td></tr></tbody></table></div>"
      ]
     },
     "metadata": {
      "application/vnd.databricks.v1+output": {
       "addedWidgets": {},
       "aggData": [],
       "aggError": "",
       "aggOverflow": false,
       "aggSchema": [],
       "aggSeriesLimitReached": false,
       "aggType": "",
       "arguments": {},
       "columnCustomDisplayInfos": {},
       "data": [
        [
         1,
         "Mike",
         "Hillyer",
         3,
         "Mike.Hillyer@sakilastaff.com",
         1,
         1,
         "Mike",
         "8cb2237d0679ca88db6464eac60da96345513964",
         "2006-02-15 03:57:16"
        ],
        [
         2,
         "Jon",
         "Stephens",
         4,
         "Jon.Stephens@sakilastaff.com",
         2,
         1,
         "Jon",
         "",
         "2006-02-15 03:57:16"
        ]
       ],
       "datasetInfos": [
        {
         "name": "df_staff",
         "schema": {
          "fields": [
           {
            "metadata": {},
            "name": "staff_key",
            "nullable": true,
            "type": "integer"
           },
           {
            "metadata": {},
            "name": "first_name",
            "nullable": true,
            "type": "string"
           },
           {
            "metadata": {},
            "name": "last_name",
            "nullable": true,
            "type": "string"
           },
           {
            "metadata": {},
            "name": "address_id",
            "nullable": true,
            "type": "integer"
           },
           {
            "metadata": {},
            "name": "email",
            "nullable": true,
            "type": "string"
           },
           {
            "metadata": {},
            "name": "store_id",
            "nullable": true,
            "type": "integer"
           },
           {
            "metadata": {},
            "name": "active",
            "nullable": true,
            "type": "integer"
           },
           {
            "metadata": {},
            "name": "username",
            "nullable": true,
            "type": "string"
           },
           {
            "metadata": {},
            "name": "password",
            "nullable": true,
            "type": "string"
           },
           {
            "metadata": {},
            "name": "last_update",
            "nullable": true,
            "type": "string"
           }
          ],
          "type": "struct"
         },
         "tableIdentifier": null,
         "typeStr": "org.apache.spark.sql.DataFrame"
        }
       ],
       "dbfsResultPath": null,
       "isJsonSchema": true,
       "metadata": {
        "isDbfsCommandResult": false
       },
       "overflow": false,
       "plotOptions": {
        "customPlotOptions": {},
        "displayType": "table",
        "pivotAggregation": null,
        "pivotColumns": null,
        "xColumns": null,
        "yColumns": null
       },
       "removedWidgets": [],
       "schema": [
        {
         "metadata": "{}",
         "name": "staff_key",
         "type": "\"integer\""
        },
        {
         "metadata": "{}",
         "name": "first_name",
         "type": "\"string\""
        },
        {
         "metadata": "{}",
         "name": "last_name",
         "type": "\"string\""
        },
        {
         "metadata": "{}",
         "name": "address_id",
         "type": "\"integer\""
        },
        {
         "metadata": "{}",
         "name": "email",
         "type": "\"string\""
        },
        {
         "metadata": "{}",
         "name": "store_id",
         "type": "\"integer\""
        },
        {
         "metadata": "{}",
         "name": "active",
         "type": "\"integer\""
        },
        {
         "metadata": "{}",
         "name": "username",
         "type": "\"string\""
        },
        {
         "metadata": "{}",
         "name": "password",
         "type": "\"string\""
        },
        {
         "metadata": "{}",
         "name": "last_update",
         "type": "\"string\""
        }
       ],
       "type": "table"
      }
     },
     "output_type": "display_data"
    }
   ],
   "source": [
    "%scala\n",
    "import com.mongodb.spark._\n",
    "\n",
    "val df_staff = spark.read.format(\"com.mongodb.spark.sql.DefaultSource\")\n",
    ".option(\"database\", \"sakila_dw2\").option(\"collection\", \"staff\").load()\n",
    ".select(\"staff_key\",\"first_name\",\"last_name\",\"address_id\",\"email\",\"store_id\",\"active\",\"username\",\"password\",\"last_update\")\n",
    "\n",
    "display(df_staff)"
   ]
  },
  {
   "cell_type": "code",
   "execution_count": 0,
   "metadata": {
    "application/vnd.databricks.v1+cell": {
     "cellMetadata": {
      "byteLimit": 2048000,
      "rowLimit": 10000
     },
     "inputWidgets": {},
     "nuid": "3d2802df-ba04-490c-b909-64193db6ba5e",
     "showTitle": false,
     "title": ""
    }
   },
   "outputs": [
    {
     "output_type": "display_data",
     "data": {
      "text/html": [
       "<style scoped>\n",
       "  .ansiout {\n",
       "    display: block;\n",
       "    unicode-bidi: embed;\n",
       "    white-space: pre-wrap;\n",
       "    word-wrap: break-word;\n",
       "    word-break: break-all;\n",
       "    font-family: \"Source Code Pro\", \"Menlo\", monospace;;\n",
       "    font-size: 13px;\n",
       "    color: #555;\n",
       "    margin-left: 4px;\n",
       "    line-height: 19px;\n",
       "  }\n",
       "</style>\n",
       "<div class=\"ansiout\">root\n",
       "-- staff_key: integer (nullable = true)\n",
       "-- first_name: string (nullable = true)\n",
       "-- last_name: string (nullable = true)\n",
       "-- address_id: integer (nullable = true)\n",
       "-- email: string (nullable = true)\n",
       "-- store_id: integer (nullable = true)\n",
       "-- active: integer (nullable = true)\n",
       "-- username: string (nullable = true)\n",
       "-- password: string (nullable = true)\n",
       "-- last_update: string (nullable = true)\n",
       "\n",
       "</div>"
      ]
     },
     "metadata": {
      "application/vnd.databricks.v1+output": {
       "addedWidgets": {},
       "arguments": {},
       "data": "<div class=\"ansiout\">root\n |-- staff_key: integer (nullable = true)\n |-- first_name: string (nullable = true)\n |-- last_name: string (nullable = true)\n |-- address_id: integer (nullable = true)\n |-- email: string (nullable = true)\n |-- store_id: integer (nullable = true)\n |-- active: integer (nullable = true)\n |-- username: string (nullable = true)\n |-- password: string (nullable = true)\n |-- last_update: string (nullable = true)\n\n</div>",
       "datasetInfos": [],
       "metadata": {
        "isDbfsCommandResult": false
       },
       "removedWidgets": [],
       "type": "html"
      }
     },
     "output_type": "display_data"
    }
   ],
   "source": [
    "%scala\n",
    "df_staff.printSchema()"
   ]
  },
  {
   "cell_type": "code",
   "execution_count": 0,
   "metadata": {
    "application/vnd.databricks.v1+cell": {
     "cellMetadata": {
      "byteLimit": 2048000,
      "rowLimit": 10000
     },
     "inputWidgets": {},
     "nuid": "f2862bbd-e916-4e9e-89bf-167e3a2b057c",
     "showTitle": false,
     "title": ""
    }
   },
   "outputs": [],
   "source": [
    "##Use the Spark DataFrame to Create a New Staff Dimension Table in the Databricks Metadata Database (sakila_dlh)"
   ]
  },
  {
   "cell_type": "code",
   "execution_count": 0,
   "metadata": {
    "application/vnd.databricks.v1+cell": {
     "cellMetadata": {
      "byteLimit": 2048000,
      "rowLimit": 10000
     },
     "inputWidgets": {},
     "nuid": "d87a8c6c-b80d-4ee9-8d70-5f45af794ee7",
     "showTitle": false,
     "title": ""
    }
   },
   "outputs": [
    {
     "output_type": "display_data",
     "data": {
      "text/html": [
       "<style scoped>\n",
       "  .ansiout {\n",
       "    display: block;\n",
       "    unicode-bidi: embed;\n",
       "    white-space: pre-wrap;\n",
       "    word-wrap: break-word;\n",
       "    word-break: break-all;\n",
       "    font-family: \"Source Code Pro\", \"Menlo\", monospace;;\n",
       "    font-size: 13px;\n",
       "    color: #555;\n",
       "    margin-left: 4px;\n",
       "    line-height: 19px;\n",
       "  }\n",
       "</style>\n",
       "<div class=\"ansiout\"></div>"
      ]
     },
     "metadata": {
      "application/vnd.databricks.v1+output": {
       "addedWidgets": {},
       "arguments": {},
       "data": "<div class=\"ansiout\"></div>",
       "datasetInfos": [],
       "metadata": {
        "isDbfsCommandResult": false
       },
       "removedWidgets": [],
       "type": "html"
      }
     },
     "output_type": "display_data"
    }
   ],
   "source": [
    "%scala\n",
    "df_staff.write.format(\"delta\").mode(\"overwrite\").saveAsTable(\"sakila_dlh.dim_staff\")"
   ]
  },
  {
   "cell_type": "code",
   "execution_count": 0,
   "metadata": {
    "application/vnd.databricks.v1+cell": {
     "cellMetadata": {
      "byteLimit": 2048000,
      "implicitDf": true,
      "rowLimit": 10000
     },
     "inputWidgets": {},
     "nuid": "4349642a-ec7c-47f5-9533-7aaaf2f35850",
     "showTitle": false,
     "title": ""
    }
   },
   "outputs": [
    {
     "output_type": "display_data",
     "data": {
      "text/html": [
       "<style scoped>\n",
       "  .table-result-container {\n",
       "    max-height: 300px;\n",
       "    overflow: auto;\n",
       "  }\n",
       "  table, th, td {\n",
       "    border: 1px solid black;\n",
       "    border-collapse: collapse;\n",
       "  }\n",
       "  th, td {\n",
       "    padding: 5px;\n",
       "  }\n",
       "  th {\n",
       "    text-align: left;\n",
       "  }\n",
       "</style><div class='table-result-container'><table class='table-result'><thead style='background-color: white'><tr><th>col_name</th><th>data_type</th><th>comment</th></tr></thead><tbody><tr><td>staff_key</td><td>int</td><td>null</td></tr><tr><td>first_name</td><td>string</td><td>null</td></tr><tr><td>last_name</td><td>string</td><td>null</td></tr><tr><td>address_id</td><td>int</td><td>null</td></tr><tr><td>email</td><td>string</td><td>null</td></tr><tr><td>store_id</td><td>int</td><td>null</td></tr><tr><td>active</td><td>int</td><td>null</td></tr><tr><td>username</td><td>string</td><td>null</td></tr><tr><td>password</td><td>string</td><td>null</td></tr><tr><td>last_update</td><td>string</td><td>null</td></tr><tr><td></td><td></td><td></td></tr><tr><td># Detailed Table Information</td><td></td><td></td></tr><tr><td>Catalog</td><td>spark_catalog</td><td></td></tr><tr><td>Database</td><td>sakila_dlh</td><td></td></tr><tr><td>Table</td><td>dim_staff</td><td></td></tr><tr><td>Type</td><td>MANAGED</td><td></td></tr><tr><td>Location</td><td>dbfs:/FileStore/ds2002-lab06/sakila_dlh/dim_staff</td><td></td></tr><tr><td>Provider</td><td>delta</td><td></td></tr><tr><td>Owner</td><td>root</td><td></td></tr><tr><td>Is_managed_location</td><td>true</td><td></td></tr><tr><td>Table Properties</td><td>[delta.minReaderVersion=1,delta.minWriterVersion=2]</td><td></td></tr></tbody></table></div>"
      ]
     },
     "metadata": {
      "application/vnd.databricks.v1+output": {
       "addedWidgets": {},
       "aggData": [],
       "aggError": "",
       "aggOverflow": false,
       "aggSchema": [],
       "aggSeriesLimitReached": false,
       "aggType": "",
       "arguments": {},
       "columnCustomDisplayInfos": {},
       "data": [
        [
         "staff_key",
         "int",
         null
        ],
        [
         "first_name",
         "string",
         null
        ],
        [
         "last_name",
         "string",
         null
        ],
        [
         "address_id",
         "int",
         null
        ],
        [
         "email",
         "string",
         null
        ],
        [
         "store_id",
         "int",
         null
        ],
        [
         "active",
         "int",
         null
        ],
        [
         "username",
         "string",
         null
        ],
        [
         "password",
         "string",
         null
        ],
        [
         "last_update",
         "string",
         null
        ],
        [
         "",
         "",
         ""
        ],
        [
         "# Detailed Table Information",
         "",
         ""
        ],
        [
         "Catalog",
         "spark_catalog",
         ""
        ],
        [
         "Database",
         "sakila_dlh",
         ""
        ],
        [
         "Table",
         "dim_staff",
         ""
        ],
        [
         "Type",
         "MANAGED",
         ""
        ],
        [
         "Location",
         "dbfs:/FileStore/ds2002-lab06/sakila_dlh/dim_staff",
         ""
        ],
        [
         "Provider",
         "delta",
         ""
        ],
        [
         "Owner",
         "root",
         ""
        ],
        [
         "Is_managed_location",
         "true",
         ""
        ],
        [
         "Table Properties",
         "[delta.minReaderVersion=1,delta.minWriterVersion=2]",
         ""
        ]
       ],
       "datasetInfos": [],
       "dbfsResultPath": null,
       "isJsonSchema": true,
       "metadata": {},
       "overflow": false,
       "plotOptions": {
        "customPlotOptions": {},
        "displayType": "table",
        "pivotAggregation": null,
        "pivotColumns": null,
        "xColumns": null,
        "yColumns": null
       },
       "removedWidgets": [],
       "schema": [
        {
         "metadata": "{\"comment\":\"name of the column\"}",
         "name": "col_name",
         "type": "\"string\""
        },
        {
         "metadata": "{\"comment\":\"data type of the column\"}",
         "name": "data_type",
         "type": "\"string\""
        },
        {
         "metadata": "{\"comment\":\"comment of the column\"}",
         "name": "comment",
         "type": "\"string\""
        }
       ],
       "type": "table"
      }
     },
     "output_type": "display_data"
    }
   ],
   "source": [
    "%sql\n",
    "DESCRIBE EXTENDED sakila_dlh.dim_staff"
   ]
  },
  {
   "cell_type": "code",
   "execution_count": 0,
   "metadata": {
    "application/vnd.databricks.v1+cell": {
     "cellMetadata": {
      "byteLimit": 2048000,
      "implicitDf": true,
      "rowLimit": 10000
     },
     "inputWidgets": {},
     "nuid": "fc83d152-e29e-492d-a2ef-b4f5b51fd097",
     "showTitle": false,
     "title": ""
    }
   },
   "outputs": [
    {
     "output_type": "display_data",
     "data": {
      "text/html": [
       "<style scoped>\n",
       "  .table-result-container {\n",
       "    max-height: 300px;\n",
       "    overflow: auto;\n",
       "  }\n",
       "  table, th, td {\n",
       "    border: 1px solid black;\n",
       "    border-collapse: collapse;\n",
       "  }\n",
       "  th, td {\n",
       "    padding: 5px;\n",
       "  }\n",
       "  th {\n",
       "    text-align: left;\n",
       "  }\n",
       "</style><div class='table-result-container'><table class='table-result'><thead style='background-color: white'><tr><th>staff_key</th><th>first_name</th><th>last_name</th><th>address_id</th><th>email</th><th>store_id</th><th>active</th><th>username</th><th>password</th><th>last_update</th></tr></thead><tbody><tr><td>1</td><td>Mike</td><td>Hillyer</td><td>3</td><td>Mike.Hillyer@sakilastaff.com</td><td>1</td><td>1</td><td>Mike</td><td>8cb2237d0679ca88db6464eac60da96345513964</td><td>2006-02-15 03:57:16</td></tr><tr><td>2</td><td>Jon</td><td>Stephens</td><td>4</td><td>Jon.Stephens@sakilastaff.com</td><td>2</td><td>1</td><td>Jon</td><td></td><td>2006-02-15 03:57:16</td></tr></tbody></table></div>"
      ]
     },
     "metadata": {
      "application/vnd.databricks.v1+output": {
       "addedWidgets": {},
       "aggData": [],
       "aggError": "",
       "aggOverflow": false,
       "aggSchema": [],
       "aggSeriesLimitReached": false,
       "aggType": "",
       "arguments": {},
       "columnCustomDisplayInfos": {},
       "data": [
        [
         1,
         "Mike",
         "Hillyer",
         3,
         "Mike.Hillyer@sakilastaff.com",
         1,
         1,
         "Mike",
         "8cb2237d0679ca88db6464eac60da96345513964",
         "2006-02-15 03:57:16"
        ],
        [
         2,
         "Jon",
         "Stephens",
         4,
         "Jon.Stephens@sakilastaff.com",
         2,
         1,
         "Jon",
         "",
         "2006-02-15 03:57:16"
        ]
       ],
       "datasetInfos": [],
       "dbfsResultPath": null,
       "isJsonSchema": true,
       "metadata": {},
       "overflow": false,
       "plotOptions": {
        "customPlotOptions": {},
        "displayType": "table",
        "pivotAggregation": null,
        "pivotColumns": null,
        "xColumns": null,
        "yColumns": null
       },
       "removedWidgets": [],
       "schema": [
        {
         "metadata": "{}",
         "name": "staff_key",
         "type": "\"integer\""
        },
        {
         "metadata": "{}",
         "name": "first_name",
         "type": "\"string\""
        },
        {
         "metadata": "{}",
         "name": "last_name",
         "type": "\"string\""
        },
        {
         "metadata": "{}",
         "name": "address_id",
         "type": "\"integer\""
        },
        {
         "metadata": "{}",
         "name": "email",
         "type": "\"string\""
        },
        {
         "metadata": "{}",
         "name": "store_id",
         "type": "\"integer\""
        },
        {
         "metadata": "{}",
         "name": "active",
         "type": "\"integer\""
        },
        {
         "metadata": "{}",
         "name": "username",
         "type": "\"string\""
        },
        {
         "metadata": "{}",
         "name": "password",
         "type": "\"string\""
        },
        {
         "metadata": "{}",
         "name": "last_update",
         "type": "\"string\""
        }
       ],
       "type": "table"
      }
     },
     "output_type": "display_data"
    }
   ],
   "source": [
    "%sql\n",
    "SELECT * FROM sakila_dlh.dim_staff"
   ]
  },
  {
   "cell_type": "code",
   "execution_count": 0,
   "metadata": {
    "application/vnd.databricks.v1+cell": {
     "cellMetadata": {
      "byteLimit": 2048000,
      "rowLimit": 10000
     },
     "inputWidgets": {},
     "nuid": "b4d6d9fe-e9ee-4d38-90a9-dc4e235644f5",
     "showTitle": false,
     "title": ""
    }
   },
   "outputs": [],
   "source": [
    "##Fetch Data from a File System\n",
    "##Use PySpark to Read From a CSV File"
   ]
  },
  {
   "cell_type": "code",
   "execution_count": 0,
   "metadata": {
    "application/vnd.databricks.v1+cell": {
     "cellMetadata": {
      "byteLimit": 2048000,
      "rowLimit": 10000
     },
     "inputWidgets": {},
     "nuid": "ae47f7d0-713c-4296-ba3b-d13e609f8c29",
     "showTitle": false,
     "title": ""
    }
   },
   "outputs": [],
   "source": [
    "inventory_csv = f\"{batch_dir}/sakila_diminventory.csv\"\n",
    "\n",
    "df_inventory = spark.read.format('csv').options(header='true', inferSchema='true').load(inventory_csv)"
   ]
  },
  {
   "cell_type": "code",
   "execution_count": 0,
   "metadata": {
    "application/vnd.databricks.v1+cell": {
     "cellMetadata": {
      "byteLimit": 2048000,
      "rowLimit": 10000
     },
     "inputWidgets": {},
     "nuid": "8226f50c-97f8-4ef6-b48e-2fe15ce4ff53",
     "showTitle": false,
     "title": ""
    }
   },
   "outputs": [
    {
     "output_type": "stream",
     "name": "stdout",
     "output_type": "stream",
     "text": [
      "root\n |-- inventory_key: integer (nullable = true)\n |-- rental_rate: double (nullable = true)\n |-- film_id: integer (nullable = true)\n\n"
     ]
    }
   ],
   "source": [
    "df_inventory.printSchema()"
   ]
  },
  {
   "cell_type": "code",
   "execution_count": 0,
   "metadata": {
    "application/vnd.databricks.v1+cell": {
     "cellMetadata": {
      "byteLimit": 2048000,
      "rowLimit": 10000
     },
     "inputWidgets": {},
     "nuid": "15247f17-0852-4963-83a3-4469ead4695e",
     "showTitle": false,
     "title": ""
    }
   },
   "outputs": [],
   "source": [
    "df_inventory.write.format(\"delta\").mode(\"overwrite\").saveAsTable(\"sakila_dlh.dim_inventory\")"
   ]
  },
  {
   "cell_type": "code",
   "execution_count": 0,
   "metadata": {
    "application/vnd.databricks.v1+cell": {
     "cellMetadata": {
      "byteLimit": 2048000,
      "implicitDf": true,
      "rowLimit": 10000
     },
     "inputWidgets": {},
     "nuid": "4100bf71-e997-4ba0-9bdf-5808f6fa53e5",
     "showTitle": false,
     "title": ""
    }
   },
   "outputs": [
    {
     "output_type": "display_data",
     "data": {
      "text/html": [
       "<style scoped>\n",
       "  .table-result-container {\n",
       "    max-height: 300px;\n",
       "    overflow: auto;\n",
       "  }\n",
       "  table, th, td {\n",
       "    border: 1px solid black;\n",
       "    border-collapse: collapse;\n",
       "  }\n",
       "  th, td {\n",
       "    padding: 5px;\n",
       "  }\n",
       "  th {\n",
       "    text-align: left;\n",
       "  }\n",
       "</style><div class='table-result-container'><table class='table-result'><thead style='background-color: white'><tr><th>col_name</th><th>data_type</th><th>comment</th></tr></thead><tbody><tr><td>inventory_key</td><td>int</td><td>null</td></tr><tr><td>rental_rate</td><td>double</td><td>null</td></tr><tr><td>film_id</td><td>int</td><td>null</td></tr><tr><td></td><td></td><td></td></tr><tr><td># Detailed Table Information</td><td></td><td></td></tr><tr><td>Catalog</td><td>spark_catalog</td><td></td></tr><tr><td>Database</td><td>sakila_dlh</td><td></td></tr><tr><td>Table</td><td>dim_inventory</td><td></td></tr><tr><td>Type</td><td>MANAGED</td><td></td></tr><tr><td>Location</td><td>dbfs:/FileStore/ds2002-lab06/sakila_dlh/dim_inventory</td><td></td></tr><tr><td>Provider</td><td>delta</td><td></td></tr><tr><td>Owner</td><td>root</td><td></td></tr><tr><td>Is_managed_location</td><td>true</td><td></td></tr><tr><td>Table Properties</td><td>[delta.minReaderVersion=1,delta.minWriterVersion=2]</td><td></td></tr></tbody></table></div>"
      ]
     },
     "metadata": {
      "application/vnd.databricks.v1+output": {
       "addedWidgets": {},
       "aggData": [],
       "aggError": "",
       "aggOverflow": false,
       "aggSchema": [],
       "aggSeriesLimitReached": false,
       "aggType": "",
       "arguments": {},
       "columnCustomDisplayInfos": {},
       "data": [
        [
         "inventory_key",
         "int",
         null
        ],
        [
         "rental_rate",
         "double",
         null
        ],
        [
         "film_id",
         "int",
         null
        ],
        [
         "",
         "",
         ""
        ],
        [
         "# Detailed Table Information",
         "",
         ""
        ],
        [
         "Catalog",
         "spark_catalog",
         ""
        ],
        [
         "Database",
         "sakila_dlh",
         ""
        ],
        [
         "Table",
         "dim_inventory",
         ""
        ],
        [
         "Type",
         "MANAGED",
         ""
        ],
        [
         "Location",
         "dbfs:/FileStore/ds2002-lab06/sakila_dlh/dim_inventory",
         ""
        ],
        [
         "Provider",
         "delta",
         ""
        ],
        [
         "Owner",
         "root",
         ""
        ],
        [
         "Is_managed_location",
         "true",
         ""
        ],
        [
         "Table Properties",
         "[delta.minReaderVersion=1,delta.minWriterVersion=2]",
         ""
        ]
       ],
       "datasetInfos": [],
       "dbfsResultPath": null,
       "isJsonSchema": true,
       "metadata": {},
       "overflow": false,
       "plotOptions": {
        "customPlotOptions": {},
        "displayType": "table",
        "pivotAggregation": null,
        "pivotColumns": null,
        "xColumns": null,
        "yColumns": null
       },
       "removedWidgets": [],
       "schema": [
        {
         "metadata": "{\"comment\":\"name of the column\"}",
         "name": "col_name",
         "type": "\"string\""
        },
        {
         "metadata": "{\"comment\":\"data type of the column\"}",
         "name": "data_type",
         "type": "\"string\""
        },
        {
         "metadata": "{\"comment\":\"comment of the column\"}",
         "name": "comment",
         "type": "\"string\""
        }
       ],
       "type": "table"
      }
     },
     "output_type": "display_data"
    }
   ],
   "source": [
    "%sql\n",
    "DESCRIBE EXTENDED sakila_dlh.dim_inventory;"
   ]
  },
  {
   "cell_type": "code",
   "execution_count": 0,
   "metadata": {
    "application/vnd.databricks.v1+cell": {
     "cellMetadata": {
      "byteLimit": 2048000,
      "implicitDf": true,
      "rowLimit": 10000
     },
     "inputWidgets": {},
     "nuid": "954f0f88-d284-4577-91db-1f2c50c9cc46",
     "showTitle": false,
     "title": ""
    }
   },
   "outputs": [
    {
     "output_type": "display_data",
     "data": {
      "text/html": [
       "<style scoped>\n",
       "  .table-result-container {\n",
       "    max-height: 300px;\n",
       "    overflow: auto;\n",
       "  }\n",
       "  table, th, td {\n",
       "    border: 1px solid black;\n",
       "    border-collapse: collapse;\n",
       "  }\n",
       "  th, td {\n",
       "    padding: 5px;\n",
       "  }\n",
       "  th {\n",
       "    text-align: left;\n",
       "  }\n",
       "</style><div class='table-result-container'><table class='table-result'><thead style='background-color: white'><tr><th>inventory_key</th><th>rental_rate</th><th>film_id</th></tr></thead><tbody><tr><td>1</td><td>0.99</td><td>1</td></tr><tr><td>2</td><td>0.99</td><td>1</td></tr><tr><td>3</td><td>0.99</td><td>1</td></tr><tr><td>4</td><td>0.99</td><td>1</td></tr><tr><td>5</td><td>0.99</td><td>1</td></tr></tbody></table></div>"
      ]
     },
     "metadata": {
      "application/vnd.databricks.v1+output": {
       "addedWidgets": {},
       "aggData": [],
       "aggError": "",
       "aggOverflow": false,
       "aggSchema": [],
       "aggSeriesLimitReached": false,
       "aggType": "",
       "arguments": {},
       "columnCustomDisplayInfos": {},
       "data": [
        [
         1,
         0.99,
         1
        ],
        [
         2,
         0.99,
         1
        ],
        [
         3,
         0.99,
         1
        ],
        [
         4,
         0.99,
         1
        ],
        [
         5,
         0.99,
         1
        ]
       ],
       "datasetInfos": [],
       "dbfsResultPath": null,
       "isJsonSchema": true,
       "metadata": {},
       "overflow": false,
       "plotOptions": {
        "customPlotOptions": {},
        "displayType": "table",
        "pivotAggregation": null,
        "pivotColumns": null,
        "xColumns": null,
        "yColumns": null
       },
       "removedWidgets": [],
       "schema": [
        {
         "metadata": "{}",
         "name": "inventory_key",
         "type": "\"integer\""
        },
        {
         "metadata": "{}",
         "name": "rental_rate",
         "type": "\"double\""
        },
        {
         "metadata": "{}",
         "name": "film_id",
         "type": "\"integer\""
        }
       ],
       "type": "table"
      }
     },
     "output_type": "display_data"
    }
   ],
   "source": [
    "%sql\n",
    "SELECT * FROM sakila_dlh.dim_inventory LIMIT 5;"
   ]
  },
  {
   "cell_type": "code",
   "execution_count": 0,
   "metadata": {
    "application/vnd.databricks.v1+cell": {
     "cellMetadata": {
      "byteLimit": 2048000,
      "rowLimit": 10000
     },
     "inputWidgets": {},
     "nuid": "8e26b852-3f8d-42ce-8e58-53c0ac3a3712",
     "showTitle": false,
     "title": ""
    }
   },
   "outputs": [],
   "source": [
    "# verify dimension tables"
   ]
  },
  {
   "cell_type": "code",
   "execution_count": 0,
   "metadata": {
    "application/vnd.databricks.v1+cell": {
     "cellMetadata": {
      "byteLimit": 2048000,
      "implicitDf": true,
      "rowLimit": 10000
     },
     "inputWidgets": {},
     "nuid": "7ef327ad-5def-44ef-ba43-3c3e3f77cc91",
     "showTitle": false,
     "title": ""
    }
   },
   "outputs": [
    {
     "output_type": "display_data",
     "data": {
      "text/html": [
       "<style scoped>\n",
       "  .table-result-container {\n",
       "    max-height: 300px;\n",
       "    overflow: auto;\n",
       "  }\n",
       "  table, th, td {\n",
       "    border: 1px solid black;\n",
       "    border-collapse: collapse;\n",
       "  }\n",
       "  th, td {\n",
       "    padding: 5px;\n",
       "  }\n",
       "  th {\n",
       "    text-align: left;\n",
       "  }\n",
       "</style><div class='table-result-container'><table class='table-result'><thead style='background-color: white'><tr><th>database</th><th>tableName</th><th>isTemporary</th></tr></thead><tbody><tr><td>sakila_dlh</td><td>dim_customer</td><td>false</td></tr><tr><td>sakila_dlh</td><td>dim_date</td><td>false</td></tr><tr><td>sakila_dlh</td><td>dim_inventory</td><td>false</td></tr><tr><td>sakila_dlh</td><td>dim_staff</td><td>false</td></tr><tr><td></td><td>view_customer</td><td>true</td></tr><tr><td></td><td>view_date</td><td>true</td></tr></tbody></table></div>"
      ]
     },
     "metadata": {
      "application/vnd.databricks.v1+output": {
       "addedWidgets": {},
       "aggData": [],
       "aggError": "",
       "aggOverflow": false,
       "aggSchema": [],
       "aggSeriesLimitReached": false,
       "aggType": "",
       "arguments": {},
       "columnCustomDisplayInfos": {},
       "data": [
        [
         "sakila_dlh",
         "dim_customer",
         false
        ],
        [
         "sakila_dlh",
         "dim_date",
         false
        ],
        [
         "sakila_dlh",
         "dim_inventory",
         false
        ],
        [
         "sakila_dlh",
         "dim_staff",
         false
        ],
        [
         "",
         "view_customer",
         true
        ],
        [
         "",
         "view_date",
         true
        ]
       ],
       "datasetInfos": [],
       "dbfsResultPath": null,
       "isJsonSchema": true,
       "metadata": {},
       "overflow": false,
       "plotOptions": {
        "customPlotOptions": {},
        "displayType": "table",
        "pivotAggregation": null,
        "pivotColumns": null,
        "xColumns": null,
        "yColumns": null
       },
       "removedWidgets": [],
       "schema": [
        {
         "metadata": "{}",
         "name": "database",
         "type": "\"string\""
        },
        {
         "metadata": "{}",
         "name": "tableName",
         "type": "\"string\""
        },
        {
         "metadata": "{}",
         "name": "isTemporary",
         "type": "\"boolean\""
        }
       ],
       "type": "table"
      }
     },
     "output_type": "display_data"
    }
   ],
   "source": [
    "%sql\n",
    "USE sakila_dlh;\n",
    "SHOW TABLES"
   ]
  },
  {
   "cell_type": "code",
   "execution_count": 0,
   "metadata": {
    "application/vnd.databricks.v1+cell": {
     "cellMetadata": {
      "byteLimit": 2048000,
      "rowLimit": 10000
     },
     "inputWidgets": {},
     "nuid": "93166835-911d-42aa-ad97-723c17b26d21",
     "showTitle": false,
     "title": ""
    }
   },
   "outputs": [],
   "source": [
    "## Use AutoLoader to Process Streaming (Hot Path) Orders Fact Data\n",
    "## Bronze Table: Process 'Raw' JSON Data"
   ]
  },
  {
   "cell_type": "code",
   "execution_count": 0,
   "metadata": {
    "application/vnd.databricks.v1+cell": {
     "cellMetadata": {
      "byteLimit": 2048000,
      "rowLimit": 10000
     },
     "inputWidgets": {},
     "nuid": "cb6698d8-3c25-4a3a-9bf7-3ff5fc758028",
     "showTitle": false,
     "title": ""
    }
   },
   "outputs": [],
   "source": [
    "(spark.readStream\n",
    " .format(\"cloudFiles\")\n",
    " .option(\"cloudFiles.format\", \"json\")\n",
    " .option(\"cloudFiles.schemaHints\", \"fact_rental_key BIGINT\")\n",
    " .option(\"cloudFiles.schemaHints\", \"inventory_key BIGINT\")\n",
    " .option(\"cloudFiles.schemaHints\", \"customer_key BIGINT\")\n",
    " .option(\"cloudFiles.schemaHints\", \"staff_key BIGINT\") \n",
    " .option(\"cloudFiles.schemaHints\", \"amount DECIMAL\")\n",
    " .option(\"cloudFiles.schemaHints\", \"last_update STRING\")\n",
    " .option(\"cloudFiles.schemaHints\", \"rental_date_key DECIMAL\")\n",
    " .option(\"cloudFiles.schemaHints\", \"return_date_key DECIMAL\")\n",
    " .option(\"cloudFiles.schemaLocation\", rental_output_bronze)\n",
    " .option(\"cloudFiles.inferColumnTypes\", \"true\")\n",
    " .option(\"multiLine\", \"true\")\n",
    " .load(rental_stream_dir)\n",
    " .createOrReplaceTempView(\"rental_raw_tempview\"))"
   ]
  },
  {
   "cell_type": "code",
   "execution_count": 0,
   "metadata": {
    "application/vnd.databricks.v1+cell": {
     "cellMetadata": {
      "byteLimit": 2048000,
      "implicitDf": true,
      "rowLimit": 10000
     },
     "inputWidgets": {},
     "nuid": "efc9b7a6-43f9-46f5-96a8-b9285fbe7f1e",
     "showTitle": false,
     "title": ""
    }
   },
   "outputs": [
    {
     "output_type": "display_data",
     "data": {
      "text/html": [
       "<style scoped>\n",
       "  .table-result-container {\n",
       "    max-height: 300px;\n",
       "    overflow: auto;\n",
       "  }\n",
       "  table, th, td {\n",
       "    border: 1px solid black;\n",
       "    border-collapse: collapse;\n",
       "  }\n",
       "  th, td {\n",
       "    padding: 5px;\n",
       "  }\n",
       "  th {\n",
       "    text-align: left;\n",
       "  }\n",
       "</style><div class='table-result-container'><table class='table-result'><thead style='background-color: white'><tr></tr></thead><tbody></tbody></table></div>"
      ]
     },
     "metadata": {
      "application/vnd.databricks.v1+output": {
       "addedWidgets": {},
       "aggData": [],
       "aggError": "",
       "aggOverflow": false,
       "aggSchema": [],
       "aggSeriesLimitReached": false,
       "aggType": "",
       "arguments": {},
       "columnCustomDisplayInfos": {},
       "data": [],
       "datasetInfos": [],
       "dbfsResultPath": null,
       "isJsonSchema": true,
       "metadata": {},
       "overflow": false,
       "plotOptions": {
        "customPlotOptions": {},
        "displayType": "table",
        "pivotAggregation": null,
        "pivotColumns": null,
        "xColumns": null,
        "yColumns": null
       },
       "removedWidgets": [],
       "schema": [],
       "type": "table"
      }
     },
     "output_type": "display_data"
    }
   ],
   "source": [
    "%sql\n",
    "/* Add Metadata for Traceability */\n",
    "CREATE OR REPLACE TEMPORARY VIEW rental_bronze_tempview AS (\n",
    "  SELECT *, current_timestamp() receipt_time, input_file_name() source_file\n",
    "  FROM rental_raw_tempview\n",
    ")"
   ]
  },
  {
   "cell_type": "code",
   "execution_count": 0,
   "metadata": {
    "application/vnd.databricks.v1+cell": {
     "cellMetadata": {
      "byteLimit": 2048000,
      "implicitDf": true,
      "rowLimit": 10000
     },
     "inputWidgets": {},
     "nuid": "4772ff7c-5a17-4099-8691-f7cca3313aff",
     "showTitle": false,
     "title": ""
    }
   },
   "outputs": [
    {
     "output_type": "display_data",
     "data": {
      "text/html": [
       "<style scoped>\n",
       "  .table-result-container {\n",
       "    max-height: 300px;\n",
       "    overflow: auto;\n",
       "  }\n",
       "  table, th, td {\n",
       "    border: 1px solid black;\n",
       "    border-collapse: collapse;\n",
       "  }\n",
       "  th, td {\n",
       "    padding: 5px;\n",
       "  }\n",
       "  th {\n",
       "    text-align: left;\n",
       "  }\n",
       "</style><div class='table-result-container'><table class='table-result'><thead style='background-color: white'><tr><th>amount</th><th>customer_key</th><th>fact_rental_key</th><th>inventory_key</th><th>last_update</th><th>rental_date_key</th><th>return_date_key</th><th>staff_key</th><th>_rescued_data</th><th>receipt_time</th><th>source_file</th></tr></thead><tbody><tr><td>5.99</td><td>437</td><td>666</td><td>3075</td><td>2006-02-15 21:30:53</td><td>20050528</td><td>20050605</td><td>2</td><td>null</td><td>2023-05-12T17:10:55.488+0000</td><td>dbfs:/FileStore/ds2002-lab06/sourcedata/stream/rental/sakila_fact_rental03.json</td></tr><tr><td>4.99</td><td>596</td><td>667</td><td>797</td><td>2006-02-15 21:30:53</td><td>20050528</td><td>20050531</td><td>1</td><td>null</td><td>2023-05-12T17:10:55.488+0000</td><td>dbfs:/FileStore/ds2002-lab06/sourcedata/stream/rental/sakila_fact_rental03.json</td></tr><tr><td>2.99</td><td>484</td><td>668</td><td>3528</td><td>2006-02-15 21:30:53</td><td>20050528</td><td>20050529</td><td>1</td><td>null</td><td>2023-05-12T17:10:55.488+0000</td><td>dbfs:/FileStore/ds2002-lab06/sourcedata/stream/rental/sakila_fact_rental03.json</td></tr><tr><td>4.99</td><td>313</td><td>669</td><td>3677</td><td>2006-02-15 21:30:53</td><td>20050528</td><td>20050603</td><td>1</td><td>null</td><td>2023-05-12T17:10:55.488+0000</td><td>dbfs:/FileStore/ds2002-lab06/sourcedata/stream/rental/sakila_fact_rental03.json</td></tr><tr><td>6.99</td><td>201</td><td>670</td><td>227</td><td>2006-02-15 21:30:53</td><td>20050528</td><td>20050606</td><td>2</td><td>null</td><td>2023-05-12T17:10:55.488+0000</td><td>dbfs:/FileStore/ds2002-lab06/sourcedata/stream/rental/sakila_fact_rental03.json</td></tr></tbody></table></div>"
      ]
     },
     "metadata": {
      "application/vnd.databricks.v1+output": {
       "addedWidgets": {},
       "aggData": [],
       "aggError": "",
       "aggOverflow": false,
       "aggSchema": [],
       "aggSeriesLimitReached": false,
       "aggType": "",
       "arguments": {},
       "columnCustomDisplayInfos": {},
       "data": [
        [
         5.99,
         437,
         666,
         3075,
         "2006-02-15 21:30:53",
         20050528,
         "20050605",
         2,
         null,
         "2023-05-12T17:10:55.488+0000",
         "dbfs:/FileStore/ds2002-lab06/sourcedata/stream/rental/sakila_fact_rental03.json"
        ],
        [
         4.99,
         596,
         667,
         797,
         "2006-02-15 21:30:53",
         20050528,
         "20050531",
         1,
         null,
         "2023-05-12T17:10:55.488+0000",
         "dbfs:/FileStore/ds2002-lab06/sourcedata/stream/rental/sakila_fact_rental03.json"
        ],
        [
         2.99,
         484,
         668,
         3528,
         "2006-02-15 21:30:53",
         20050528,
         "20050529",
         1,
         null,
         "2023-05-12T17:10:55.488+0000",
         "dbfs:/FileStore/ds2002-lab06/sourcedata/stream/rental/sakila_fact_rental03.json"
        ],
        [
         4.99,
         313,
         669,
         3677,
         "2006-02-15 21:30:53",
         20050528,
         "20050603",
         1,
         null,
         "2023-05-12T17:10:55.488+0000",
         "dbfs:/FileStore/ds2002-lab06/sourcedata/stream/rental/sakila_fact_rental03.json"
        ],
        [
         6.99,
         201,
         670,
         227,
         "2006-02-15 21:30:53",
         20050528,
         "20050606",
         2,
         null,
         "2023-05-12T17:10:55.488+0000",
         "dbfs:/FileStore/ds2002-lab06/sourcedata/stream/rental/sakila_fact_rental03.json"
        ]
       ],
       "datasetInfos": [],
       "dbfsResultPath": null,
       "isJsonSchema": true,
       "metadata": {
        "isDbfsCommandResult": false
       },
       "overflow": false,
       "plotOptions": {
        "customPlotOptions": {},
        "displayType": "table",
        "pivotAggregation": null,
        "pivotColumns": null,
        "xColumns": null,
        "yColumns": null
       },
       "removedWidgets": [],
       "schema": [
        {
         "metadata": "{}",
         "name": "amount",
         "type": "\"double\""
        },
        {
         "metadata": "{}",
         "name": "customer_key",
         "type": "\"long\""
        },
        {
         "metadata": "{}",
         "name": "fact_rental_key",
         "type": "\"long\""
        },
        {
         "metadata": "{}",
         "name": "inventory_key",
         "type": "\"long\""
        },
        {
         "metadata": "{}",
         "name": "last_update",
         "type": "\"string\""
        },
        {
         "metadata": "{}",
         "name": "rental_date_key",
         "type": "\"long\""
        },
        {
         "metadata": "{}",
         "name": "return_date_key",
         "type": "\"decimal(10,0)\""
        },
        {
         "metadata": "{}",
         "name": "staff_key",
         "type": "\"long\""
        },
        {
         "metadata": "{}",
         "name": "_rescued_data",
         "type": "\"string\""
        },
        {
         "metadata": "{}",
         "name": "receipt_time",
         "type": "\"timestamp\""
        },
        {
         "metadata": "{}",
         "name": "source_file",
         "type": "\"string\""
        }
       ],
       "type": "table"
      }
     },
     "output_type": "display_data"
    }
   ],
   "source": [
    "%sql\n",
    "SELECT * FROM rental_bronze_tempview LIMIT 5"
   ]
  },
  {
   "cell_type": "code",
   "execution_count": 0,
   "metadata": {
    "application/vnd.databricks.v1+cell": {
     "cellMetadata": {
      "byteLimit": 2048000,
      "rowLimit": 10000
     },
     "inputWidgets": {},
     "nuid": "5dbc6e51-9235-406f-8329-b2c8226c34c2",
     "showTitle": false,
     "title": ""
    }
   },
   "outputs": [
    {
     "output_type": "stream",
     "name": "stdout",
     "output_type": "stream",
     "text": [
      "Out[52]: <pyspark.sql.streaming.query.StreamingQuery at 0x7faf2a90a820>"
     ]
    }
   ],
   "source": [
    "(spark.table(\"rental_bronze_tempview\")\n",
    "      .writeStream\n",
    "      .format(\"delta\")\n",
    "      .option(\"checkpointLocation\", f\"{rental_output_bronze}/_checkpoint\")\n",
    "      .outputMode(\"append\")\n",
    "      .table(\"fact_rental_bronze\"))"
   ]
  },
  {
   "cell_type": "code",
   "execution_count": 0,
   "metadata": {
    "application/vnd.databricks.v1+cell": {
     "cellMetadata": {
      "byteLimit": 2048000,
      "rowLimit": 10000
     },
     "inputWidgets": {},
     "nuid": "01e9bb0e-aeb1-4718-b05f-5b1d95156f95",
     "showTitle": false,
     "title": ""
    }
   },
   "outputs": [],
   "source": [
    "# silver table: include reference data"
   ]
  },
  {
   "cell_type": "code",
   "execution_count": 0,
   "metadata": {
    "application/vnd.databricks.v1+cell": {
     "cellMetadata": {
      "byteLimit": 2048000,
      "rowLimit": 10000
     },
     "inputWidgets": {},
     "nuid": "70439790-c9aa-4c41-9423-743780df19f0",
     "showTitle": false,
     "title": ""
    }
   },
   "outputs": [],
   "source": [
    "(spark.readStream\n",
    "  .table(\"fact_rental_bronze\")\n",
    "  .createOrReplaceTempView(\"rental_silver_tempview\"))"
   ]
  },
  {
   "cell_type": "code",
   "execution_count": 0,
   "metadata": {
    "application/vnd.databricks.v1+cell": {
     "cellMetadata": {
      "byteLimit": 2048000,
      "implicitDf": true,
      "rowLimit": 10000
     },
     "inputWidgets": {},
     "nuid": "430e436b-544f-4230-9198-9d38f9da3abe",
     "showTitle": false,
     "title": ""
    }
   },
   "outputs": [
    {
     "output_type": "display_data",
     "data": {
      "text/html": [
       "<style scoped>\n",
       "  .table-result-container {\n",
       "    max-height: 300px;\n",
       "    overflow: auto;\n",
       "  }\n",
       "  table, th, td {\n",
       "    border: 1px solid black;\n",
       "    border-collapse: collapse;\n",
       "  }\n",
       "  th, td {\n",
       "    padding: 5px;\n",
       "  }\n",
       "  th {\n",
       "    text-align: left;\n",
       "  }\n",
       "</style><div class='table-result-container'><table class='table-result'><thead style='background-color: white'><tr><th>amount</th><th>customer_key</th><th>fact_rental_key</th><th>inventory_key</th><th>last_update</th><th>rental_date_key</th><th>return_date_key</th><th>staff_key</th><th>_rescued_data</th><th>receipt_time</th><th>source_file</th></tr></thead><tbody><tr><td>2.99</td><td>130</td><td>1</td><td>367</td><td>2006-02-15 21:30:53</td><td>20050524</td><td>20050526</td><td>1</td><td>null</td><td>2023-05-12T17:10:57.083+0000</td><td>dbfs:/FileStore/ds2002-lab06/sourcedata/stream/rental/sakila_fact_rental01.json</td></tr><tr><td>2.99</td><td>459</td><td>2</td><td>1525</td><td>2006-02-15 21:30:53</td><td>20050524</td><td>20050528</td><td>1</td><td>null</td><td>2023-05-12T17:10:57.083+0000</td><td>dbfs:/FileStore/ds2002-lab06/sourcedata/stream/rental/sakila_fact_rental01.json</td></tr><tr><td>3.99</td><td>408</td><td>3</td><td>1711</td><td>2006-02-15 21:30:53</td><td>20050524</td><td>20050601</td><td>1</td><td>null</td><td>2023-05-12T17:10:57.083+0000</td><td>dbfs:/FileStore/ds2002-lab06/sourcedata/stream/rental/sakila_fact_rental01.json</td></tr><tr><td>4.99</td><td>333</td><td>4</td><td>2452</td><td>2006-02-15 21:30:53</td><td>20050524</td><td>20050603</td><td>2</td><td>null</td><td>2023-05-12T17:10:57.083+0000</td><td>dbfs:/FileStore/ds2002-lab06/sourcedata/stream/rental/sakila_fact_rental01.json</td></tr><tr><td>6.99</td><td>222</td><td>5</td><td>2079</td><td>2006-02-15 21:30:53</td><td>20050524</td><td>20050602</td><td>1</td><td>null</td><td>2023-05-12T17:10:57.083+0000</td><td>dbfs:/FileStore/ds2002-lab06/sourcedata/stream/rental/sakila_fact_rental01.json</td></tr></tbody></table></div>"
      ]
     },
     "metadata": {
      "application/vnd.databricks.v1+output": {
       "addedWidgets": {},
       "aggData": [],
       "aggError": "",
       "aggOverflow": false,
       "aggSchema": [],
       "aggSeriesLimitReached": false,
       "aggType": "",
       "arguments": {},
       "columnCustomDisplayInfos": {},
       "data": [
        [
         2.99,
         130,
         1,
         367,
         "2006-02-15 21:30:53",
         20050524,
         "20050526",
         1,
         null,
         "2023-05-12T17:10:57.083+0000",
         "dbfs:/FileStore/ds2002-lab06/sourcedata/stream/rental/sakila_fact_rental01.json"
        ],
        [
         2.99,
         459,
         2,
         1525,
         "2006-02-15 21:30:53",
         20050524,
         "20050528",
         1,
         null,
         "2023-05-12T17:10:57.083+0000",
         "dbfs:/FileStore/ds2002-lab06/sourcedata/stream/rental/sakila_fact_rental01.json"
        ],
        [
         3.99,
         408,
         3,
         1711,
         "2006-02-15 21:30:53",
         20050524,
         "20050601",
         1,
         null,
         "2023-05-12T17:10:57.083+0000",
         "dbfs:/FileStore/ds2002-lab06/sourcedata/stream/rental/sakila_fact_rental01.json"
        ],
        [
         4.99,
         333,
         4,
         2452,
         "2006-02-15 21:30:53",
         20050524,
         "20050603",
         2,
         null,
         "2023-05-12T17:10:57.083+0000",
         "dbfs:/FileStore/ds2002-lab06/sourcedata/stream/rental/sakila_fact_rental01.json"
        ],
        [
         6.99,
         222,
         5,
         2079,
         "2006-02-15 21:30:53",
         20050524,
         "20050602",
         1,
         null,
         "2023-05-12T17:10:57.083+0000",
         "dbfs:/FileStore/ds2002-lab06/sourcedata/stream/rental/sakila_fact_rental01.json"
        ]
       ],
       "datasetInfos": [],
       "dbfsResultPath": null,
       "isJsonSchema": true,
       "metadata": {
        "isDbfsCommandResult": false
       },
       "overflow": false,
       "plotOptions": {
        "customPlotOptions": {},
        "displayType": "table",
        "pivotAggregation": null,
        "pivotColumns": null,
        "xColumns": null,
        "yColumns": null
       },
       "removedWidgets": [],
       "schema": [
        {
         "metadata": "{}",
         "name": "amount",
         "type": "\"double\""
        },
        {
         "metadata": "{}",
         "name": "customer_key",
         "type": "\"long\""
        },
        {
         "metadata": "{}",
         "name": "fact_rental_key",
         "type": "\"long\""
        },
        {
         "metadata": "{}",
         "name": "inventory_key",
         "type": "\"long\""
        },
        {
         "metadata": "{}",
         "name": "last_update",
         "type": "\"string\""
        },
        {
         "metadata": "{}",
         "name": "rental_date_key",
         "type": "\"long\""
        },
        {
         "metadata": "{}",
         "name": "return_date_key",
         "type": "\"decimal(10,0)\""
        },
        {
         "metadata": "{}",
         "name": "staff_key",
         "type": "\"long\""
        },
        {
         "metadata": "{}",
         "name": "_rescued_data",
         "type": "\"string\""
        },
        {
         "metadata": "{}",
         "name": "receipt_time",
         "type": "\"timestamp\""
        },
        {
         "metadata": "{}",
         "name": "source_file",
         "type": "\"string\""
        }
       ],
       "type": "table"
      }
     },
     "output_type": "display_data"
    }
   ],
   "source": [
    "%sql\n",
    "SELECT * FROM rental_silver_tempview LIMIT 5"
   ]
  },
  {
   "cell_type": "code",
   "execution_count": 0,
   "metadata": {
    "application/vnd.databricks.v1+cell": {
     "cellMetadata": {
      "byteLimit": 2048000,
      "implicitDf": true,
      "rowLimit": 10000
     },
     "inputWidgets": {},
     "nuid": "cf6107b8-81bd-4266-b6e7-c78e9d1b8841",
     "showTitle": false,
     "title": ""
    }
   },
   "outputs": [
    {
     "output_type": "display_data",
     "data": {
      "text/html": [
       "<style scoped>\n",
       "  .table-result-container {\n",
       "    max-height: 300px;\n",
       "    overflow: auto;\n",
       "  }\n",
       "  table, th, td {\n",
       "    border: 1px solid black;\n",
       "    border-collapse: collapse;\n",
       "  }\n",
       "  th, td {\n",
       "    padding: 5px;\n",
       "  }\n",
       "  th {\n",
       "    text-align: left;\n",
       "  }\n",
       "</style><div class='table-result-container'><table class='table-result'><thead style='background-color: white'><tr><th>col_name</th><th>data_type</th><th>comment</th></tr></thead><tbody><tr><td>amount</td><td>double</td><td>null</td></tr><tr><td>customer_key</td><td>bigint</td><td>null</td></tr><tr><td>fact_rental_key</td><td>bigint</td><td>null</td></tr><tr><td>inventory_key</td><td>bigint</td><td>null</td></tr><tr><td>last_update</td><td>string</td><td>null</td></tr><tr><td>rental_date_key</td><td>bigint</td><td>null</td></tr><tr><td>return_date_key</td><td>decimal(10,0)</td><td>null</td></tr><tr><td>staff_key</td><td>bigint</td><td>null</td></tr><tr><td>_rescued_data</td><td>string</td><td>null</td></tr><tr><td>receipt_time</td><td>timestamp</td><td>null</td></tr><tr><td>source_file</td><td>string</td><td>null</td></tr></tbody></table></div>"
      ]
     },
     "metadata": {
      "application/vnd.databricks.v1+output": {
       "addedWidgets": {},
       "aggData": [],
       "aggError": "",
       "aggOverflow": false,
       "aggSchema": [],
       "aggSeriesLimitReached": false,
       "aggType": "",
       "arguments": {},
       "columnCustomDisplayInfos": {},
       "data": [
        [
         "amount",
         "double",
         null
        ],
        [
         "customer_key",
         "bigint",
         null
        ],
        [
         "fact_rental_key",
         "bigint",
         null
        ],
        [
         "inventory_key",
         "bigint",
         null
        ],
        [
         "last_update",
         "string",
         null
        ],
        [
         "rental_date_key",
         "bigint",
         null
        ],
        [
         "return_date_key",
         "decimal(10,0)",
         null
        ],
        [
         "staff_key",
         "bigint",
         null
        ],
        [
         "_rescued_data",
         "string",
         null
        ],
        [
         "receipt_time",
         "timestamp",
         null
        ],
        [
         "source_file",
         "string",
         null
        ]
       ],
       "datasetInfos": [],
       "dbfsResultPath": null,
       "isJsonSchema": true,
       "metadata": {},
       "overflow": false,
       "plotOptions": {
        "customPlotOptions": {},
        "displayType": "table",
        "pivotAggregation": null,
        "pivotColumns": null,
        "xColumns": null,
        "yColumns": null
       },
       "removedWidgets": [],
       "schema": [
        {
         "metadata": "{\"comment\":\"name of the column\"}",
         "name": "col_name",
         "type": "\"string\""
        },
        {
         "metadata": "{\"comment\":\"data type of the column\"}",
         "name": "data_type",
         "type": "\"string\""
        },
        {
         "metadata": "{\"comment\":\"comment of the column\"}",
         "name": "comment",
         "type": "\"string\""
        }
       ],
       "type": "table"
      }
     },
     "output_type": "display_data"
    }
   ],
   "source": [
    "%sql\n",
    "DESCRIBE EXTENDED rental_silver_tempview "
   ]
  },
  {
   "cell_type": "code",
   "execution_count": 0,
   "metadata": {
    "application/vnd.databricks.v1+cell": {
     "cellMetadata": {
      "byteLimit": 2048000,
      "implicitDf": true,
      "rowLimit": 10000
     },
     "inputWidgets": {},
     "nuid": "059c9de9-fb29-4652-b918-8820bed7db35",
     "showTitle": false,
     "title": ""
    }
   },
   "outputs": [
    {
     "output_type": "display_data",
     "data": {
      "text/html": [
       "<style scoped>\n",
       "  .table-result-container {\n",
       "    max-height: 300px;\n",
       "    overflow: auto;\n",
       "  }\n",
       "  table, th, td {\n",
       "    border: 1px solid black;\n",
       "    border-collapse: collapse;\n",
       "  }\n",
       "  th, td {\n",
       "    padding: 5px;\n",
       "  }\n",
       "  th {\n",
       "    text-align: left;\n",
       "  }\n",
       "</style><div class='table-result-container'><table class='table-result'><thead style='background-color: white'><tr></tr></thead><tbody></tbody></table></div>"
      ]
     },
     "metadata": {
      "application/vnd.databricks.v1+output": {
       "addedWidgets": {},
       "aggData": [],
       "aggError": "",
       "aggOverflow": false,
       "aggSchema": [],
       "aggSeriesLimitReached": false,
       "aggType": "",
       "arguments": {},
       "columnCustomDisplayInfos": {},
       "data": [],
       "datasetInfos": [],
       "dbfsResultPath": null,
       "isJsonSchema": true,
       "metadata": {},
       "overflow": false,
       "plotOptions": {
        "customPlotOptions": {},
        "displayType": "table",
        "pivotAggregation": null,
        "pivotColumns": null,
        "xColumns": null,
        "yColumns": null
       },
       "removedWidgets": [],
       "schema": [],
       "type": "table"
      }
     },
     "output_type": "display_data"
    }
   ],
   "source": [
    "%sql\n",
    "CREATE OR REPLACE TEMPORARY VIEW fact_rental_silver_tempview AS (\n",
    "  SELECT r.fact_rental_key,\n",
    "      r.inventory_key,\n",
    "      i.rental_rate,\n",
    "      i.film_id AS film,\n",
    "      r.customer_key,\n",
    "      c.store_id AS store,\n",
    "      c.first_name AS customer_first_name,\n",
    "      c.last_name AS customer_last_name,\n",
    "      r.staff_key,\n",
    "      s.first_name AS staff_first_name,\n",
    "      s.last_name AS staff_last_name,\n",
    "      r.amount,\n",
    "      r.last_update,\n",
    "      r.rental_date_key,\n",
    "      r.return_date_key\n",
    "  FROM rental_silver_tempview AS r\n",
    "  INNER JOIN sakila_dlh.dim_inventory AS i\n",
    "  ON i.inventory_key = r.inventory_key\n",
    "  INNER JOIN sakila_dlh.dim_customer AS c\n",
    "  ON c.customer_key = r.customer_key\n",
    "  INNER JOIN sakila_dlh.dim_staff AS s\n",
    "  ON s.staff_key = r.staff_key\n",
    ")"
   ]
  },
  {
   "cell_type": "code",
   "execution_count": 0,
   "metadata": {
    "application/vnd.databricks.v1+cell": {
     "cellMetadata": {
      "byteLimit": 2048000,
      "rowLimit": 10000
     },
     "inputWidgets": {},
     "nuid": "fefec0ed-9045-43a9-84d8-98895efad231",
     "showTitle": false,
     "title": ""
    }
   },
   "outputs": [
    {
     "output_type": "stream",
     "name": "stdout",
     "output_type": "stream",
     "text": [
      "Out[58]: <pyspark.sql.streaming.query.StreamingQuery at 0x7faf280faaf0>"
     ]
    }
   ],
   "source": [
    "(spark.table(\"fact_rental_silver_tempview\")\n",
    "      .writeStream\n",
    "      .format(\"delta\")\n",
    "      .option(\"checkpointLocation\", f\"{rental_output_silver}/_checkpoint\")\n",
    "      .outputMode(\"append\")\n",
    "      .table(\"fact_rental_silver\"))"
   ]
  },
  {
   "cell_type": "code",
   "execution_count": 0,
   "metadata": {
    "application/vnd.databricks.v1+cell": {
     "cellMetadata": {
      "byteLimit": 2048000,
      "implicitDf": true,
      "rowLimit": 10000
     },
     "inputWidgets": {},
     "nuid": "01511704-a352-4fcf-bd02-31b7a9d5680e",
     "showTitle": false,
     "title": ""
    }
   },
   "outputs": [
    {
     "output_type": "display_data",
     "data": {
      "text/html": [
       "<style scoped>\n",
       "  .table-result-container {\n",
       "    max-height: 300px;\n",
       "    overflow: auto;\n",
       "  }\n",
       "  table, th, td {\n",
       "    border: 1px solid black;\n",
       "    border-collapse: collapse;\n",
       "  }\n",
       "  th, td {\n",
       "    padding: 5px;\n",
       "  }\n",
       "  th {\n",
       "    text-align: left;\n",
       "  }\n",
       "</style><div class='table-result-container'><table class='table-result'><thead style='background-color: white'><tr><th>fact_rental_key</th><th>inventory_key</th><th>rental_rate</th><th>film</th><th>customer_key</th><th>store</th><th>customer_first_name</th><th>customer_last_name</th><th>staff_key</th><th>staff_first_name</th><th>staff_last_name</th><th>amount</th><th>last_update</th><th>rental_date_key</th><th>return_date_key</th></tr></thead><tbody><tr><td>1</td><td>367</td><td>2.99</td><td>80</td><td>130</td><td>1</td><td>CHARLOTTE</td><td>HUNTER</td><td>1</td><td>Mike</td><td>Hillyer</td><td>2.99</td><td>2006-02-15 21:30:53</td><td>20050524</td><td>20050526</td></tr><tr><td>16</td><td>389</td><td>4.99</td><td>86</td><td>316</td><td>1</td><td>STEVEN</td><td>CURLEY</td><td>2</td><td>Jon</td><td>Stephens</td><td>4.99</td><td>2006-02-15 21:30:53</td><td>20050525</td><td>20050526</td></tr><tr><td>17</td><td>830</td><td>2.99</td><td>181</td><td>575</td><td>2</td><td>ISAAC</td><td>OGLESBY</td><td>1</td><td>Mike</td><td>Hillyer</td><td>2.99</td><td>2006-02-15 21:30:53</td><td>20050525</td><td>20050527</td></tr><tr><td>21</td><td>146</td><td>4.99</td><td>31</td><td>388</td><td>2</td><td>CRAIG</td><td>MORRELL</td><td>2</td><td>Jon</td><td>Stephens</td><td>4.99</td><td>2006-02-15 21:30:53</td><td>20050525</td><td>20050526</td></tr><tr><td>22</td><td>727</td><td>4.99</td><td>159</td><td>509</td><td>1</td><td>RAUL</td><td>FORTIER</td><td>2</td><td>Jon</td><td>Stephens</td><td>4.99</td><td>2006-02-15 21:30:53</td><td>20050525</td><td>20050526</td></tr></tbody></table></div>"
      ]
     },
     "metadata": {
      "application/vnd.databricks.v1+output": {
       "addedWidgets": {},
       "aggData": [],
       "aggError": "",
       "aggOverflow": false,
       "aggSchema": [],
       "aggSeriesLimitReached": false,
       "aggType": "",
       "arguments": {},
       "columnCustomDisplayInfos": {},
       "data": [
        [
         1,
         367,
         2.99,
         80,
         130,
         1,
         "CHARLOTTE",
         "HUNTER",
         1,
         "Mike",
         "Hillyer",
         2.99,
         "2006-02-15 21:30:53",
         20050524,
         "20050526"
        ],
        [
         16,
         389,
         4.99,
         86,
         316,
         1,
         "STEVEN",
         "CURLEY",
         2,
         "Jon",
         "Stephens",
         4.99,
         "2006-02-15 21:30:53",
         20050525,
         "20050526"
        ],
        [
         17,
         830,
         2.99,
         181,
         575,
         2,
         "ISAAC",
         "OGLESBY",
         1,
         "Mike",
         "Hillyer",
         2.99,
         "2006-02-15 21:30:53",
         20050525,
         "20050527"
        ],
        [
         21,
         146,
         4.99,
         31,
         388,
         2,
         "CRAIG",
         "MORRELL",
         2,
         "Jon",
         "Stephens",
         4.99,
         "2006-02-15 21:30:53",
         20050525,
         "20050526"
        ],
        [
         22,
         727,
         4.99,
         159,
         509,
         1,
         "RAUL",
         "FORTIER",
         2,
         "Jon",
         "Stephens",
         4.99,
         "2006-02-15 21:30:53",
         20050525,
         "20050526"
        ]
       ],
       "datasetInfos": [],
       "dbfsResultPath": null,
       "isJsonSchema": true,
       "metadata": {},
       "overflow": false,
       "plotOptions": {
        "customPlotOptions": {},
        "displayType": "table",
        "pivotAggregation": null,
        "pivotColumns": null,
        "xColumns": null,
        "yColumns": null
       },
       "removedWidgets": [],
       "schema": [
        {
         "metadata": "{}",
         "name": "fact_rental_key",
         "type": "\"long\""
        },
        {
         "metadata": "{}",
         "name": "inventory_key",
         "type": "\"long\""
        },
        {
         "metadata": "{}",
         "name": "rental_rate",
         "type": "\"double\""
        },
        {
         "metadata": "{}",
         "name": "film",
         "type": "\"integer\""
        },
        {
         "metadata": "{}",
         "name": "customer_key",
         "type": "\"long\""
        },
        {
         "metadata": "{\"scale\":0}",
         "name": "store",
         "type": "\"long\""
        },
        {
         "metadata": "{\"scale\":0}",
         "name": "customer_first_name",
         "type": "\"string\""
        },
        {
         "metadata": "{\"scale\":0}",
         "name": "customer_last_name",
         "type": "\"string\""
        },
        {
         "metadata": "{}",
         "name": "staff_key",
         "type": "\"long\""
        },
        {
         "metadata": "{}",
         "name": "staff_first_name",
         "type": "\"string\""
        },
        {
         "metadata": "{}",
         "name": "staff_last_name",
         "type": "\"string\""
        },
        {
         "metadata": "{}",
         "name": "amount",
         "type": "\"double\""
        },
        {
         "metadata": "{}",
         "name": "last_update",
         "type": "\"string\""
        },
        {
         "metadata": "{}",
         "name": "rental_date_key",
         "type": "\"long\""
        },
        {
         "metadata": "{}",
         "name": "return_date_key",
         "type": "\"decimal(10,0)\""
        }
       ],
       "type": "table"
      }
     },
     "output_type": "display_data"
    }
   ],
   "source": [
    "%sql\n",
    "SELECT * FROM fact_rental_silver LIMIT 5"
   ]
  },
  {
   "cell_type": "code",
   "execution_count": 0,
   "metadata": {
    "application/vnd.databricks.v1+cell": {
     "cellMetadata": {
      "byteLimit": 2048000,
      "implicitDf": true,
      "rowLimit": 10000
     },
     "inputWidgets": {},
     "nuid": "f6438a74-3ff4-49c6-a980-4cdf5812ef84",
     "showTitle": false,
     "title": ""
    }
   },
   "outputs": [
    {
     "output_type": "display_data",
     "data": {
      "text/html": [
       "<style scoped>\n",
       "  .table-result-container {\n",
       "    max-height: 300px;\n",
       "    overflow: auto;\n",
       "  }\n",
       "  table, th, td {\n",
       "    border: 1px solid black;\n",
       "    border-collapse: collapse;\n",
       "  }\n",
       "  th, td {\n",
       "    padding: 5px;\n",
       "  }\n",
       "  th {\n",
       "    text-align: left;\n",
       "  }\n",
       "</style><div class='table-result-container'><table class='table-result'><thead style='background-color: white'><tr><th>col_name</th><th>data_type</th><th>comment</th></tr></thead><tbody><tr><td>fact_rental_key</td><td>bigint</td><td>null</td></tr><tr><td>inventory_key</td><td>bigint</td><td>null</td></tr><tr><td>rental_rate</td><td>double</td><td>null</td></tr><tr><td>film</td><td>int</td><td>null</td></tr><tr><td>customer_key</td><td>bigint</td><td>null</td></tr><tr><td>store</td><td>bigint</td><td>null</td></tr><tr><td>customer_first_name</td><td>string</td><td>null</td></tr><tr><td>customer_last_name</td><td>string</td><td>null</td></tr><tr><td>staff_key</td><td>bigint</td><td>null</td></tr><tr><td>staff_first_name</td><td>string</td><td>null</td></tr><tr><td>staff_last_name</td><td>string</td><td>null</td></tr><tr><td>amount</td><td>double</td><td>null</td></tr><tr><td>last_update</td><td>string</td><td>null</td></tr><tr><td>rental_date_key</td><td>bigint</td><td>null</td></tr><tr><td>return_date_key</td><td>decimal(10,0)</td><td>null</td></tr><tr><td></td><td></td><td></td></tr><tr><td># Detailed Table Information</td><td></td><td></td></tr><tr><td>Catalog</td><td>spark_catalog</td><td></td></tr><tr><td>Database</td><td>sakila_dlh</td><td></td></tr><tr><td>Table</td><td>fact_rental_silver</td><td></td></tr><tr><td>Type</td><td>MANAGED</td><td></td></tr><tr><td>Location</td><td>dbfs:/FileStore/ds2002-lab06/sakila_dlh/fact_rental_silver</td><td></td></tr><tr><td>Provider</td><td>delta</td><td></td></tr><tr><td>Owner</td><td>root</td><td></td></tr><tr><td>Is_managed_location</td><td>true</td><td></td></tr><tr><td>Table Properties</td><td>[delta.minReaderVersion=1,delta.minWriterVersion=2]</td><td></td></tr></tbody></table></div>"
      ]
     },
     "metadata": {
      "application/vnd.databricks.v1+output": {
       "addedWidgets": {},
       "aggData": [],
       "aggError": "",
       "aggOverflow": false,
       "aggSchema": [],
       "aggSeriesLimitReached": false,
       "aggType": "",
       "arguments": {},
       "columnCustomDisplayInfos": {},
       "data": [
        [
         "fact_rental_key",
         "bigint",
         null
        ],
        [
         "inventory_key",
         "bigint",
         null
        ],
        [
         "rental_rate",
         "double",
         null
        ],
        [
         "film",
         "int",
         null
        ],
        [
         "customer_key",
         "bigint",
         null
        ],
        [
         "store",
         "bigint",
         null
        ],
        [
         "customer_first_name",
         "string",
         null
        ],
        [
         "customer_last_name",
         "string",
         null
        ],
        [
         "staff_key",
         "bigint",
         null
        ],
        [
         "staff_first_name",
         "string",
         null
        ],
        [
         "staff_last_name",
         "string",
         null
        ],
        [
         "amount",
         "double",
         null
        ],
        [
         "last_update",
         "string",
         null
        ],
        [
         "rental_date_key",
         "bigint",
         null
        ],
        [
         "return_date_key",
         "decimal(10,0)",
         null
        ],
        [
         "",
         "",
         ""
        ],
        [
         "# Detailed Table Information",
         "",
         ""
        ],
        [
         "Catalog",
         "spark_catalog",
         ""
        ],
        [
         "Database",
         "sakila_dlh",
         ""
        ],
        [
         "Table",
         "fact_rental_silver",
         ""
        ],
        [
         "Type",
         "MANAGED",
         ""
        ],
        [
         "Location",
         "dbfs:/FileStore/ds2002-lab06/sakila_dlh/fact_rental_silver",
         ""
        ],
        [
         "Provider",
         "delta",
         ""
        ],
        [
         "Owner",
         "root",
         ""
        ],
        [
         "Is_managed_location",
         "true",
         ""
        ],
        [
         "Table Properties",
         "[delta.minReaderVersion=1,delta.minWriterVersion=2]",
         ""
        ]
       ],
       "datasetInfos": [],
       "dbfsResultPath": null,
       "isJsonSchema": true,
       "metadata": {},
       "overflow": false,
       "plotOptions": {
        "customPlotOptions": {},
        "displayType": "table",
        "pivotAggregation": null,
        "pivotColumns": null,
        "xColumns": null,
        "yColumns": null
       },
       "removedWidgets": [],
       "schema": [
        {
         "metadata": "{\"comment\":\"name of the column\"}",
         "name": "col_name",
         "type": "\"string\""
        },
        {
         "metadata": "{\"comment\":\"data type of the column\"}",
         "name": "data_type",
         "type": "\"string\""
        },
        {
         "metadata": "{\"comment\":\"comment of the column\"}",
         "name": "comment",
         "type": "\"string\""
        }
       ],
       "type": "table"
      }
     },
     "output_type": "display_data"
    }
   ],
   "source": [
    "%sql\n",
    "DESCRIBE EXTENDED sakila_dlh.fact_rental_silver"
   ]
  },
  {
   "cell_type": "code",
   "execution_count": 0,
   "metadata": {
    "application/vnd.databricks.v1+cell": {
     "cellMetadata": {
      "byteLimit": 2048000,
      "rowLimit": 10000
     },
     "inputWidgets": {},
     "nuid": "3c80a350-9c54-4eec-a45f-e33907668914",
     "showTitle": false,
     "title": ""
    }
   },
   "outputs": [],
   "source": [
    "# gold table: perform aggregations\n",
    "# return the customer name and assisting staff member for the largest transactions"
   ]
  },
  {
   "cell_type": "code",
   "execution_count": 0,
   "metadata": {
    "application/vnd.databricks.v1+cell": {
     "cellMetadata": {
      "byteLimit": 2048000,
      "implicitDf": true,
      "rowLimit": 10000
     },
     "inputWidgets": {},
     "nuid": "a66f28af-aa44-4669-a9da-b79256773bfa",
     "showTitle": false,
     "title": ""
    }
   },
   "outputs": [
    {
     "output_type": "display_data",
     "data": {
      "text/html": [
       "<style scoped>\n",
       "  .table-result-container {\n",
       "    max-height: 300px;\n",
       "    overflow: auto;\n",
       "  }\n",
       "  table, th, td {\n",
       "    border: 1px solid black;\n",
       "    border-collapse: collapse;\n",
       "  }\n",
       "  th, td {\n",
       "    padding: 5px;\n",
       "  }\n",
       "  th {\n",
       "    text-align: left;\n",
       "  }\n",
       "</style><div class='table-result-container'><table class='table-result'><thead style='background-color: white'><tr><th>Total_Amount</th><th>Customer</th><th>Staff_Member</th></tr></thead><tbody><tr><td>10.99</td><td>ROYAL</td><td>Hillyer</td></tr><tr><td>10.99</td><td>GRAVES</td><td>Hillyer</td></tr><tr><td>9.99</td><td>CHISHOLM</td><td>Hillyer</td></tr><tr><td>9.99</td><td>LAWSON</td><td>Stephens</td></tr><tr><td>9.99</td><td>JAMES</td><td>Stephens</td></tr></tbody></table></div>"
      ]
     },
     "metadata": {
      "application/vnd.databricks.v1+output": {
       "addedWidgets": {},
       "aggData": [],
       "aggError": "",
       "aggOverflow": false,
       "aggSchema": [],
       "aggSeriesLimitReached": false,
       "aggType": "",
       "arguments": {},
       "columnCustomDisplayInfos": {},
       "data": [
        [
         10.99,
         "ROYAL",
         "Hillyer"
        ],
        [
         10.99,
         "GRAVES",
         "Hillyer"
        ],
        [
         9.99,
         "CHISHOLM",
         "Hillyer"
        ],
        [
         9.99,
         "LAWSON",
         "Stephens"
        ],
        [
         9.99,
         "JAMES",
         "Stephens"
        ]
       ],
       "datasetInfos": [],
       "dbfsResultPath": null,
       "isJsonSchema": true,
       "metadata": {},
       "overflow": false,
       "plotOptions": {
        "customPlotOptions": {},
        "displayType": "table",
        "pivotAggregation": null,
        "pivotColumns": null,
        "xColumns": null,
        "yColumns": null
       },
       "removedWidgets": [],
       "schema": [
        {
         "metadata": "{}",
         "name": "Total_Amount",
         "type": "\"double\""
        },
        {
         "metadata": "{\"scale\":0}",
         "name": "Customer",
         "type": "\"string\""
        },
        {
         "metadata": "{}",
         "name": "Staff_Member",
         "type": "\"string\""
        }
       ],
       "type": "table"
      }
     },
     "output_type": "display_data"
    }
   ],
   "source": [
    "%sql\n",
    "SELECT amount as Total_Amount\n",
    "  , customer_last_name AS Customer\n",
    "  , staff_last_name AS Staff_Member\n",
    "FROM sakila_dlh.fact_rental_silver\n",
    "GROUP BY Total_Amount, Customer, Staff_Member\n",
    "ORDER BY Total_Amount DESC LIMIT 5\n"
   ]
  }
 ],
 "metadata": {
  "application/vnd.databricks.v1+notebook": {
   "dashboards": [],
   "language": "python",
   "notebookMetadata": {
    "mostRecentlyExecutedCommandWithImplicitDF": {
     "commandId": 331352258748661,
     "dataframes": [
      "_sqldf"
     ]
    },
    "pythonIndentUnit": 4
   },
   "notebookName": "Final Project DS 2002 (mrd2wdz)",
   "widgets": {}
  }
 },
 "nbformat": 4,
 "nbformat_minor": 0
}
